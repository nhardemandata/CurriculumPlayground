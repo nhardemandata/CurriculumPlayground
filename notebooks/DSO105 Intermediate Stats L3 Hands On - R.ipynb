{
 "cells": [
  {
   "cell_type": "markdown",
   "id": "5008df4a-3376-4a17-ac78-629ab6966754",
   "metadata": {},
   "source": [
    "# DSO105 Intermediate Stats L3 Hands On - R"
   ]
  },
  {
   "cell_type": "code",
   "execution_count": 1,
   "id": "bcf5fde0-0077-4632-9af1-6f7b71febac2",
   "metadata": {},
   "outputs": [
    {
     "name": "stderr",
     "output_type": "stream",
     "text": [
      "-- \u001b[1mAttaching packages\u001b[22m ------------------------------------------------------------------------------- tidyverse 1.3.1 --\n",
      "\n",
      "\u001b[32mv\u001b[39m \u001b[34mggplot2\u001b[39m 3.3.3     \u001b[32mv\u001b[39m \u001b[34mpurrr  \u001b[39m 0.3.4\n",
      "\u001b[32mv\u001b[39m \u001b[34mtibble \u001b[39m 3.1.2     \u001b[32mv\u001b[39m \u001b[34mdplyr  \u001b[39m 1.0.6\n",
      "\u001b[32mv\u001b[39m \u001b[34mtidyr  \u001b[39m 1.1.3     \u001b[32mv\u001b[39m \u001b[34mstringr\u001b[39m 1.4.0\n",
      "\u001b[32mv\u001b[39m \u001b[34mreadr  \u001b[39m 1.4.0     \u001b[32mv\u001b[39m \u001b[34mforcats\u001b[39m 0.5.1\n",
      "\n",
      "-- \u001b[1mConflicts\u001b[22m ---------------------------------------------------------------------------------- tidyverse_conflicts() --\n",
      "\u001b[31mx\u001b[39m \u001b[34mdplyr\u001b[39m::\u001b[32mfilter()\u001b[39m masks \u001b[34mstats\u001b[39m::filter()\n",
      "\u001b[31mx\u001b[39m \u001b[34mdplyr\u001b[39m::\u001b[32mlag()\u001b[39m    masks \u001b[34mstats\u001b[39m::lag()\n",
      "\n"
     ]
    }
   ],
   "source": [
    "## load libraries\n",
    "\n",
    "library(gmodels)\n",
    "library(tidyverse)"
   ]
  },
  {
   "cell_type": "code",
   "execution_count": 26,
   "id": "c854579d-31de-47c6-aa6e-87b58fe5c7ea",
   "metadata": {},
   "outputs": [],
   "source": [
    "## load data\n",
    "\n",
    "loans = read.csv('../datasets/loans.csv')"
   ]
  },
  {
   "cell_type": "code",
   "execution_count": 11,
   "id": "d65fe8e9-a897-4eb7-b5c3-4e63cd52901e",
   "metadata": {},
   "outputs": [
    {
     "data": {
      "text/html": [
       "<table class=\"dataframe\">\n",
       "<caption>A data.frame: 6 × 5</caption>\n",
       "<thead>\n",
       "\t<tr><th></th><th scope=col>X</th><th scope=col>term</th><th scope=col>loan_status</th><th scope=col>Date</th><th scope=col>home_ownership</th></tr>\n",
       "\t<tr><th></th><th scope=col>&lt;int&gt;</th><th scope=col>&lt;chr&gt;</th><th scope=col>&lt;chr&gt;</th><th scope=col>&lt;chr&gt;</th><th scope=col>&lt;chr&gt;</th></tr>\n",
       "</thead>\n",
       "<tbody>\n",
       "\t<tr><th scope=row>1</th><td>1</td><td> 36 months</td><td>Fully Paid </td><td>12/1/2011</td><td>RENT</td></tr>\n",
       "\t<tr><th scope=row>2</th><td>2</td><td> 60 months</td><td>Charged Off</td><td>12/1/2011</td><td>RENT</td></tr>\n",
       "\t<tr><th scope=row>3</th><td>3</td><td> 36 months</td><td>Fully Paid </td><td>12/1/2011</td><td>RENT</td></tr>\n",
       "\t<tr><th scope=row>4</th><td>4</td><td> 36 months</td><td>Fully Paid </td><td>12/1/2011</td><td>RENT</td></tr>\n",
       "\t<tr><th scope=row>5</th><td>5</td><td> 60 months</td><td>Current    </td><td>12/1/2011</td><td>RENT</td></tr>\n",
       "\t<tr><th scope=row>6</th><td>6</td><td> 36 months</td><td>Fully Paid </td><td>12/1/2011</td><td>RENT</td></tr>\n",
       "</tbody>\n",
       "</table>\n"
      ],
      "text/latex": [
       "A data.frame: 6 × 5\n",
       "\\begin{tabular}{r|lllll}\n",
       "  & X & term & loan\\_status & Date & home\\_ownership\\\\\n",
       "  & <int> & <chr> & <chr> & <chr> & <chr>\\\\\n",
       "\\hline\n",
       "\t1 & 1 &  36 months & Fully Paid  & 12/1/2011 & RENT\\\\\n",
       "\t2 & 2 &  60 months & Charged Off & 12/1/2011 & RENT\\\\\n",
       "\t3 & 3 &  36 months & Fully Paid  & 12/1/2011 & RENT\\\\\n",
       "\t4 & 4 &  36 months & Fully Paid  & 12/1/2011 & RENT\\\\\n",
       "\t5 & 5 &  60 months & Current     & 12/1/2011 & RENT\\\\\n",
       "\t6 & 6 &  36 months & Fully Paid  & 12/1/2011 & RENT\\\\\n",
       "\\end{tabular}\n"
      ],
      "text/markdown": [
       "\n",
       "A data.frame: 6 × 5\n",
       "\n",
       "| <!--/--> | X &lt;int&gt; | term &lt;chr&gt; | loan_status &lt;chr&gt; | Date &lt;chr&gt; | home_ownership &lt;chr&gt; |\n",
       "|---|---|---|---|---|---|\n",
       "| 1 | 1 |  36 months | Fully Paid  | 12/1/2011 | RENT |\n",
       "| 2 | 2 |  60 months | Charged Off | 12/1/2011 | RENT |\n",
       "| 3 | 3 |  36 months | Fully Paid  | 12/1/2011 | RENT |\n",
       "| 4 | 4 |  36 months | Fully Paid  | 12/1/2011 | RENT |\n",
       "| 5 | 5 |  60 months | Current     | 12/1/2011 | RENT |\n",
       "| 6 | 6 |  36 months | Fully Paid  | 12/1/2011 | RENT |\n",
       "\n"
      ],
      "text/plain": [
       "  X term       loan_status Date      home_ownership\n",
       "1 1  36 months Fully Paid  12/1/2011 RENT          \n",
       "2 2  60 months Charged Off 12/1/2011 RENT          \n",
       "3 3  36 months Fully Paid  12/1/2011 RENT          \n",
       "4 4  36 months Fully Paid  12/1/2011 RENT          \n",
       "5 5  60 months Current     12/1/2011 RENT          \n",
       "6 6  36 months Fully Paid  12/1/2011 RENT          "
      ]
     },
     "metadata": {},
     "output_type": "display_data"
    }
   ],
   "source": [
    "head(loans)"
   ]
  },
  {
   "cell_type": "markdown",
   "id": "4004fd59-0e96-4303-885d-dec8d4c988f2",
   "metadata": {},
   "source": [
    "For each part, check and correct for assumptions if possible, perform the appropriate categorical data analysis in R, \n",
    "\n",
    "and provide a one-sentence conclusion at the bottom of your program files about the analysis you performed."
   ]
  },
  {
   "cell_type": "markdown",
   "id": "d713018e-d872-4862-9a08-cd31e66d2f21",
   "metadata": {},
   "source": [
    "### Does the term of the loan influence loan status? If so, how?"
   ]
  },
  {
   "cell_type": "code",
   "execution_count": 12,
   "id": "5d4fed85-6d77-433e-bb6c-7048e4dfb25f",
   "metadata": {},
   "outputs": [
    {
     "name": "stdout",
     "output_type": "stream",
     "text": [
      "\n",
      "   Cell Contents\n",
      "|-------------------------|\n",
      "|                   Count |\n",
      "|         Expected Values |\n",
      "| Chi-square contribution |\n",
      "|             Row Percent |\n",
      "|          Column Percent |\n",
      "|           Total Percent |\n",
      "|            Std Residual |\n",
      "|-------------------------|\n",
      "\n",
      "Total Observations in Table:  21957 \n",
      "\n",
      "             | loans$loan_status \n",
      "  loans$term | Charged Off  |     Current  |  Fully Paid  |   Row Total | \n",
      "-------------|-------------|-------------|-------------|-------------|\n",
      "   36 months |       2029  |          0  |      14964  |      16993  | \n",
      "             |   2540.011  |    388.509  |  14064.480  |             | \n",
      "             |    102.808  |    388.509  |     57.530  |             | \n",
      "             |     11.940% |      0.000% |     88.060% |     77.392% | \n",
      "             |     61.822% |      0.000% |     82.342% |             | \n",
      "             |      9.241% |      0.000% |     68.151% |             | \n",
      "             |    -10.139  |    -19.711  |      7.585  |             | \n",
      "-------------|-------------|-------------|-------------|-------------|\n",
      "   60 months |       1253  |        502  |       3209  |       4964  | \n",
      "             |    741.989  |    113.491  |   4108.520  |             | \n",
      "             |    351.936  |   1329.961  |    196.941  |             | \n",
      "             |     25.242% |     10.113% |     64.645% |     22.608% | \n",
      "             |     38.178% |    100.000% |     17.658% |             | \n",
      "             |      5.707% |      2.286% |     14.615% |             | \n",
      "             |     18.760  |     36.469  |    -14.034  |             | \n",
      "-------------|-------------|-------------|-------------|-------------|\n",
      "Column Total |       3282  |        502  |      18173  |      21957  | \n",
      "             |     14.947% |      2.286% |     82.766% |             | \n",
      "-------------|-------------|-------------|-------------|-------------|\n",
      "\n",
      " \n",
      "Statistics for All Table Factors\n",
      "\n",
      "\n",
      "Pearson's Chi-squared test \n",
      "------------------------------------------------------------\n",
      "Chi^2 =  2427.685     d.f. =  2     p =  0 \n",
      "\n",
      "\n",
      " \n"
     ]
    },
    {
     "ename": "ERROR",
     "evalue": "Error in fisher.test(t, alternative = \"two.sided\"): FEXACT error 6 (f5xact).  LDKEY=484 is too small for this problem: kval=84285355.\nTry increasing the size of the workspace.\n",
     "output_type": "error",
     "traceback": [
      "Error in fisher.test(t, alternative = \"two.sided\"): FEXACT error 6 (f5xact).  LDKEY=484 is too small for this problem: kval=84285355.\nTry increasing the size of the workspace.\nTraceback:\n",
      "1. CrossTable(loans$term, loans$loan_status, fisher = TRUE, chisq = TRUE, \n .     expected = TRUE, sresid = TRUE, format = \"SPSS\")",
      "2. print.statistics()",
      "3. fisher.test(t, alternative = \"two.sided\")"
     ]
    }
   ],
   "source": [
    "CrossTable(loans$term, loans$loan_status, fisher=TRUE, chisq = TRUE, expected = TRUE, sresid=TRUE, format=\"SPSS\")"
   ]
  },
  {
   "cell_type": "code",
   "execution_count": 13,
   "id": "d873c769-1477-4665-9db7-6b2235896538",
   "metadata": {},
   "outputs": [],
   "source": [
    "## p-value is significant. Loan term does influence loan status.\n",
    "## 36 month terms look more likely to be paid back"
   ]
  },
  {
   "cell_type": "markdown",
   "id": "04125b6a-527d-488b-8ed5-ccaf3aa7f438",
   "metadata": {},
   "source": [
    "### How has the ability to own a home changed from 2007 to 2011?"
   ]
  },
  {
   "cell_type": "code",
   "execution_count": 27,
   "id": "a220235a-6d30-46e7-b35e-9c828bdc6fc3",
   "metadata": {},
   "outputs": [],
   "source": [
    "loans1 <- separate(loans, Date, c(\"Ignore\", \"Issue_Month\", \"Issue_Year\"), sep=\"/\")"
   ]
  },
  {
   "cell_type": "code",
   "execution_count": 28,
   "id": "d7e2e320-127d-4cf6-88bb-1580cf50f141",
   "metadata": {},
   "outputs": [
    {
     "data": {
      "text/html": [
       "<table class=\"dataframe\">\n",
       "<caption>A data.frame: 6 × 7</caption>\n",
       "<thead>\n",
       "\t<tr><th></th><th scope=col>X</th><th scope=col>term</th><th scope=col>loan_status</th><th scope=col>Ignore</th><th scope=col>Issue_Month</th><th scope=col>Issue_Year</th><th scope=col>home_ownership</th></tr>\n",
       "\t<tr><th></th><th scope=col>&lt;int&gt;</th><th scope=col>&lt;chr&gt;</th><th scope=col>&lt;chr&gt;</th><th scope=col>&lt;chr&gt;</th><th scope=col>&lt;chr&gt;</th><th scope=col>&lt;chr&gt;</th><th scope=col>&lt;chr&gt;</th></tr>\n",
       "</thead>\n",
       "<tbody>\n",
       "\t<tr><th scope=row>1</th><td>1</td><td> 36 months</td><td>Fully Paid </td><td>12</td><td>1</td><td>2011</td><td>RENT</td></tr>\n",
       "\t<tr><th scope=row>2</th><td>2</td><td> 60 months</td><td>Charged Off</td><td>12</td><td>1</td><td>2011</td><td>RENT</td></tr>\n",
       "\t<tr><th scope=row>3</th><td>3</td><td> 36 months</td><td>Fully Paid </td><td>12</td><td>1</td><td>2011</td><td>RENT</td></tr>\n",
       "\t<tr><th scope=row>4</th><td>4</td><td> 36 months</td><td>Fully Paid </td><td>12</td><td>1</td><td>2011</td><td>RENT</td></tr>\n",
       "\t<tr><th scope=row>5</th><td>5</td><td> 60 months</td><td>Current    </td><td>12</td><td>1</td><td>2011</td><td>RENT</td></tr>\n",
       "\t<tr><th scope=row>6</th><td>6</td><td> 36 months</td><td>Fully Paid </td><td>12</td><td>1</td><td>2011</td><td>RENT</td></tr>\n",
       "</tbody>\n",
       "</table>\n"
      ],
      "text/latex": [
       "A data.frame: 6 × 7\n",
       "\\begin{tabular}{r|lllllll}\n",
       "  & X & term & loan\\_status & Ignore & Issue\\_Month & Issue\\_Year & home\\_ownership\\\\\n",
       "  & <int> & <chr> & <chr> & <chr> & <chr> & <chr> & <chr>\\\\\n",
       "\\hline\n",
       "\t1 & 1 &  36 months & Fully Paid  & 12 & 1 & 2011 & RENT\\\\\n",
       "\t2 & 2 &  60 months & Charged Off & 12 & 1 & 2011 & RENT\\\\\n",
       "\t3 & 3 &  36 months & Fully Paid  & 12 & 1 & 2011 & RENT\\\\\n",
       "\t4 & 4 &  36 months & Fully Paid  & 12 & 1 & 2011 & RENT\\\\\n",
       "\t5 & 5 &  60 months & Current     & 12 & 1 & 2011 & RENT\\\\\n",
       "\t6 & 6 &  36 months & Fully Paid  & 12 & 1 & 2011 & RENT\\\\\n",
       "\\end{tabular}\n"
      ],
      "text/markdown": [
       "\n",
       "A data.frame: 6 × 7\n",
       "\n",
       "| <!--/--> | X &lt;int&gt; | term &lt;chr&gt; | loan_status &lt;chr&gt; | Ignore &lt;chr&gt; | Issue_Month &lt;chr&gt; | Issue_Year &lt;chr&gt; | home_ownership &lt;chr&gt; |\n",
       "|---|---|---|---|---|---|---|---|\n",
       "| 1 | 1 |  36 months | Fully Paid  | 12 | 1 | 2011 | RENT |\n",
       "| 2 | 2 |  60 months | Charged Off | 12 | 1 | 2011 | RENT |\n",
       "| 3 | 3 |  36 months | Fully Paid  | 12 | 1 | 2011 | RENT |\n",
       "| 4 | 4 |  36 months | Fully Paid  | 12 | 1 | 2011 | RENT |\n",
       "| 5 | 5 |  60 months | Current     | 12 | 1 | 2011 | RENT |\n",
       "| 6 | 6 |  36 months | Fully Paid  | 12 | 1 | 2011 | RENT |\n",
       "\n"
      ],
      "text/plain": [
       "  X term       loan_status Ignore Issue_Month Issue_Year home_ownership\n",
       "1 1  36 months Fully Paid  12     1           2011       RENT          \n",
       "2 2  60 months Charged Off 12     1           2011       RENT          \n",
       "3 3  36 months Fully Paid  12     1           2011       RENT          \n",
       "4 4  36 months Fully Paid  12     1           2011       RENT          \n",
       "5 5  60 months Current     12     1           2011       RENT          \n",
       "6 6  36 months Fully Paid  12     1           2011       RENT          "
      ]
     },
     "metadata": {},
     "output_type": "display_data"
    }
   ],
   "source": [
    "head(loans1)"
   ]
  },
  {
   "cell_type": "code",
   "execution_count": 40,
   "id": "420b61ce-a1e5-4966-a485-958035db0352",
   "metadata": {},
   "outputs": [],
   "source": [
    "loans1$Issue_YearR <- NA\n",
    "loans1$Issue_YearR[loans1$Issue_Year == \"2007\"] <- 0\n",
    "loans1$Issue_YearR[loans1$Issue_Year == \"2011\"] <- 1"
   ]
  },
  {
   "cell_type": "code",
   "execution_count": 30,
   "id": "b7815c3b-e6d1-42e9-8bca-bc153eeedc24",
   "metadata": {},
   "outputs": [],
   "source": [
    "loans1$RentvOwn <- NA\n",
    "loans1$RentvOwn[loans1$home_ownership == \"RENT\"] <- 0\n",
    "loans1$RentvOwn[loans1$home_ownership == \"OWN\"] <- 1"
   ]
  },
  {
   "cell_type": "code",
   "execution_count": 41,
   "id": "23ca2588-5347-412c-8270-ca011516f4d9",
   "metadata": {},
   "outputs": [
    {
     "data": {
      "text/html": [
       "<table class=\"dataframe\">\n",
       "<caption>A data.frame: 6 × 10</caption>\n",
       "<thead>\n",
       "\t<tr><th></th><th scope=col>X</th><th scope=col>term</th><th scope=col>loan_status</th><th scope=col>Ignore</th><th scope=col>Issue_Month</th><th scope=col>Issue_Year</th><th scope=col>home_ownership</th><th scope=col>Issue_MonthR</th><th scope=col>RentvOwn</th><th scope=col>Issue_YearR</th></tr>\n",
       "\t<tr><th></th><th scope=col>&lt;int&gt;</th><th scope=col>&lt;chr&gt;</th><th scope=col>&lt;chr&gt;</th><th scope=col>&lt;chr&gt;</th><th scope=col>&lt;chr&gt;</th><th scope=col>&lt;chr&gt;</th><th scope=col>&lt;chr&gt;</th><th scope=col>&lt;dbl&gt;</th><th scope=col>&lt;dbl&gt;</th><th scope=col>&lt;dbl&gt;</th></tr>\n",
       "</thead>\n",
       "<tbody>\n",
       "\t<tr><th scope=row>1</th><td>1</td><td> 36 months</td><td>Fully Paid </td><td>12</td><td>1</td><td>2011</td><td>RENT</td><td>1</td><td>0</td><td>1</td></tr>\n",
       "\t<tr><th scope=row>2</th><td>2</td><td> 60 months</td><td>Charged Off</td><td>12</td><td>1</td><td>2011</td><td>RENT</td><td>1</td><td>0</td><td>1</td></tr>\n",
       "\t<tr><th scope=row>3</th><td>3</td><td> 36 months</td><td>Fully Paid </td><td>12</td><td>1</td><td>2011</td><td>RENT</td><td>1</td><td>0</td><td>1</td></tr>\n",
       "\t<tr><th scope=row>4</th><td>4</td><td> 36 months</td><td>Fully Paid </td><td>12</td><td>1</td><td>2011</td><td>RENT</td><td>1</td><td>0</td><td>1</td></tr>\n",
       "\t<tr><th scope=row>5</th><td>5</td><td> 60 months</td><td>Current    </td><td>12</td><td>1</td><td>2011</td><td>RENT</td><td>1</td><td>0</td><td>1</td></tr>\n",
       "\t<tr><th scope=row>6</th><td>6</td><td> 36 months</td><td>Fully Paid </td><td>12</td><td>1</td><td>2011</td><td>RENT</td><td>1</td><td>0</td><td>1</td></tr>\n",
       "</tbody>\n",
       "</table>\n"
      ],
      "text/latex": [
       "A data.frame: 6 × 10\n",
       "\\begin{tabular}{r|llllllllll}\n",
       "  & X & term & loan\\_status & Ignore & Issue\\_Month & Issue\\_Year & home\\_ownership & Issue\\_MonthR & RentvOwn & Issue\\_YearR\\\\\n",
       "  & <int> & <chr> & <chr> & <chr> & <chr> & <chr> & <chr> & <dbl> & <dbl> & <dbl>\\\\\n",
       "\\hline\n",
       "\t1 & 1 &  36 months & Fully Paid  & 12 & 1 & 2011 & RENT & 1 & 0 & 1\\\\\n",
       "\t2 & 2 &  60 months & Charged Off & 12 & 1 & 2011 & RENT & 1 & 0 & 1\\\\\n",
       "\t3 & 3 &  36 months & Fully Paid  & 12 & 1 & 2011 & RENT & 1 & 0 & 1\\\\\n",
       "\t4 & 4 &  36 months & Fully Paid  & 12 & 1 & 2011 & RENT & 1 & 0 & 1\\\\\n",
       "\t5 & 5 &  60 months & Current     & 12 & 1 & 2011 & RENT & 1 & 0 & 1\\\\\n",
       "\t6 & 6 &  36 months & Fully Paid  & 12 & 1 & 2011 & RENT & 1 & 0 & 1\\\\\n",
       "\\end{tabular}\n"
      ],
      "text/markdown": [
       "\n",
       "A data.frame: 6 × 10\n",
       "\n",
       "| <!--/--> | X &lt;int&gt; | term &lt;chr&gt; | loan_status &lt;chr&gt; | Ignore &lt;chr&gt; | Issue_Month &lt;chr&gt; | Issue_Year &lt;chr&gt; | home_ownership &lt;chr&gt; | Issue_MonthR &lt;dbl&gt; | RentvOwn &lt;dbl&gt; | Issue_YearR &lt;dbl&gt; |\n",
       "|---|---|---|---|---|---|---|---|---|---|---|\n",
       "| 1 | 1 |  36 months | Fully Paid  | 12 | 1 | 2011 | RENT | 1 | 0 | 1 |\n",
       "| 2 | 2 |  60 months | Charged Off | 12 | 1 | 2011 | RENT | 1 | 0 | 1 |\n",
       "| 3 | 3 |  36 months | Fully Paid  | 12 | 1 | 2011 | RENT | 1 | 0 | 1 |\n",
       "| 4 | 4 |  36 months | Fully Paid  | 12 | 1 | 2011 | RENT | 1 | 0 | 1 |\n",
       "| 5 | 5 |  60 months | Current     | 12 | 1 | 2011 | RENT | 1 | 0 | 1 |\n",
       "| 6 | 6 |  36 months | Fully Paid  | 12 | 1 | 2011 | RENT | 1 | 0 | 1 |\n",
       "\n"
      ],
      "text/plain": [
       "  X term       loan_status Ignore Issue_Month Issue_Year home_ownership\n",
       "1 1  36 months Fully Paid  12     1           2011       RENT          \n",
       "2 2  60 months Charged Off 12     1           2011       RENT          \n",
       "3 3  36 months Fully Paid  12     1           2011       RENT          \n",
       "4 4  36 months Fully Paid  12     1           2011       RENT          \n",
       "5 5  60 months Current     12     1           2011       RENT          \n",
       "6 6  36 months Fully Paid  12     1           2011       RENT          \n",
       "  Issue_MonthR RentvOwn Issue_YearR\n",
       "1 1            0        1          \n",
       "2 1            0        1          \n",
       "3 1            0        1          \n",
       "4 1            0        1          \n",
       "5 1            0        1          \n",
       "6 1            0        1          "
      ]
     },
     "metadata": {},
     "output_type": "display_data"
    }
   ],
   "source": [
    "head(loans1)"
   ]
  },
  {
   "cell_type": "code",
   "execution_count": 31,
   "id": "5539df5d-5679-4725-973d-88f20e9990c7",
   "metadata": {},
   "outputs": [],
   "source": [
    "## use McNemar Chi-Square bc we are working with 2 points in time and looking for the change between them"
   ]
  },
  {
   "cell_type": "code",
   "execution_count": 42,
   "id": "5aeeeb44-0869-4bae-bb58-2b354751469e",
   "metadata": {},
   "outputs": [
    {
     "name": "stdout",
     "output_type": "stream",
     "text": [
      "\n",
      "   Cell Contents\n",
      "|-------------------------|\n",
      "|                   Count |\n",
      "|         Expected Values |\n",
      "| Chi-square contribution |\n",
      "|             Row Percent |\n",
      "|          Column Percent |\n",
      "|           Total Percent |\n",
      "|            Std Residual |\n",
      "|-------------------------|\n",
      "\n",
      "Total Observations in Table:  11692 \n",
      "\n",
      "                | loans1$Issue_MonthR \n",
      "loans1$RentvOwn |        0  |        1  | Row Total | \n",
      "----------------|-----------|-----------|-----------|\n",
      "              0 |      130  |     9929  |    10059  | \n",
      "                |  130.770  | 9928.230  |           | \n",
      "                |    0.005  |    0.000  |           | \n",
      "                |    1.292% |   98.708% |   86.033% | \n",
      "                |   85.526% |   86.040% |           | \n",
      "                |    1.112% |   84.921% |           | \n",
      "                |   -0.067  |    0.008  |           | \n",
      "----------------|-----------|-----------|-----------|\n",
      "              1 |       22  |     1611  |     1633  | \n",
      "                |   21.230  | 1611.770  |           | \n",
      "                |    0.028  |    0.000  |           | \n",
      "                |    1.347% |   98.653% |   13.967% | \n",
      "                |   14.474% |   13.960% |           | \n",
      "                |    0.188% |   13.779% |           | \n",
      "                |    0.167  |   -0.019  |           | \n",
      "----------------|-----------|-----------|-----------|\n",
      "   Column Total |      152  |    11540  |    11692  | \n",
      "                |    1.300% |   98.700% |           | \n",
      "----------------|-----------|-----------|-----------|\n",
      "\n",
      " \n",
      "Statistics for All Table Factors\n",
      "\n",
      "\n",
      "Pearson's Chi-squared test \n",
      "------------------------------------------------------------\n",
      "Chi^2 =  0.03292723     d.f. =  1     p =  0.8560076 \n",
      "\n",
      "Pearson's Chi-squared test with Yates' continuity correction \n",
      "------------------------------------------------------------\n",
      "Chi^2 =  0.00405716     d.f. =  1     p =  0.9492124 \n",
      "\n",
      " \n",
      "McNemar's Chi-squared test \n",
      "------------------------------------------------------------\n",
      "Chi^2 =  9863.195     d.f. =  1     p =  0 \n",
      "\n",
      "McNemar's Chi-squared test with continuity correction \n",
      "------------------------------------------------------------\n",
      "Chi^2 =  9861.203     d.f. =  1     p =  0 \n",
      "\n",
      " \n",
      "Fisher's Exact Test for Count Data\n",
      "------------------------------------------------------------\n",
      "Sample estimate odds ratio:  0.9587581 \n",
      "\n",
      "Alternative hypothesis: true odds ratio is not equal to 1\n",
      "p =  0.8142221 \n",
      "95% confidence interval:  0.6048723 1.587666 \n",
      "\n",
      "Alternative hypothesis: true odds ratio is less than 1\n",
      "p =  0.4636565 \n",
      "95% confidence interval:  0 1.463236 \n",
      "\n",
      "Alternative hypothesis: true odds ratio is greater than 1\n",
      "p =  0.6270862 \n",
      "95% confidence interval:  0.6463099 Inf \n",
      "\n",
      "\n",
      " \n",
      "       Minimum expected frequency: 21.22956 \n",
      "\n"
     ]
    }
   ],
   "source": [
    "CrossTable(loans1$RentvOwn, loans1$Issue_MonthR, fisher=TRUE, chisq = TRUE, mcnemar = TRUE, expected = TRUE, sresid=TRUE, format=\"SPSS\")"
   ]
  },
  {
   "cell_type": "code",
   "execution_count": 44,
   "id": "bb82c35d-790e-4849-a125-0a5ec0d9a52a",
   "metadata": {},
   "outputs": [],
   "source": [
    "## p-value says there is a difference\n",
    "## standardized residuals shows that ratio of rent:own is similar from 2007 to 2011"
   ]
  },
  {
   "cell_type": "markdown",
   "id": "fdee9e5b-3943-482f-a5da-722001e2b8d2",
   "metadata": {},
   "source": [
    "The news just ran a story that only 15% of homes are fully paid for in America, and that another 10% have given up on paying it back, so the bank has \"charged off\" the loan. Does it seem likely that the data for this hands on came from the larger population of America?"
   ]
  },
  {
   "cell_type": "markdown",
   "id": "07deb0a6-0985-4771-93f4-233b38d3b2d4",
   "metadata": {},
   "source": [
    "### Goodness of Fit Chi-Square"
   ]
  },
  {
   "cell_type": "code",
   "execution_count": 46,
   "id": "a3d7756a-14c2-4040-9550-660d3375720c",
   "metadata": {},
   "outputs": [
    {
     "data": {
      "text/html": [
       "<table class=\"dataframe\">\n",
       "<caption>A tibble: 3 × 2</caption>\n",
       "<thead>\n",
       "\t<tr><th scope=col>loan_status</th><th scope=col>count</th></tr>\n",
       "\t<tr><th scope=col>&lt;chr&gt;</th><th scope=col>&lt;int&gt;</th></tr>\n",
       "</thead>\n",
       "<tbody>\n",
       "\t<tr><td>Charged Off</td><td> 3282</td></tr>\n",
       "\t<tr><td>Current    </td><td>  502</td></tr>\n",
       "\t<tr><td>Fully Paid </td><td>18173</td></tr>\n",
       "</tbody>\n",
       "</table>\n"
      ],
      "text/latex": [
       "A tibble: 3 × 2\n",
       "\\begin{tabular}{ll}\n",
       " loan\\_status & count\\\\\n",
       " <chr> & <int>\\\\\n",
       "\\hline\n",
       "\t Charged Off &  3282\\\\\n",
       "\t Current     &   502\\\\\n",
       "\t Fully Paid  & 18173\\\\\n",
       "\\end{tabular}\n"
      ],
      "text/markdown": [
       "\n",
       "A tibble: 3 × 2\n",
       "\n",
       "| loan_status &lt;chr&gt; | count &lt;int&gt; |\n",
       "|---|---|\n",
       "| Charged Off |  3282 |\n",
       "| Current     |   502 |\n",
       "| Fully Paid  | 18173 |\n",
       "\n"
      ],
      "text/plain": [
       "  loan_status count\n",
       "1 Charged Off  3282\n",
       "2 Current       502\n",
       "3 Fully Paid  18173"
      ]
     },
     "metadata": {},
     "output_type": "display_data"
    }
   ],
   "source": [
    "loans %>% group_by(loan_status) %>% summarize(count=n())"
   ]
  },
  {
   "cell_type": "code",
   "execution_count": 47,
   "id": "352801fe-3631-4133-b619-a201940505ba",
   "metadata": {},
   "outputs": [],
   "source": [
    "observed = c(3382, 502, 18173)"
   ]
  },
  {
   "cell_type": "code",
   "execution_count": 48,
   "id": "4c544468-d354-4f5b-a0da-b92159252ac1",
   "metadata": {},
   "outputs": [],
   "source": [
    "expected = c(0.1,0.75,0.15)"
   ]
  },
  {
   "cell_type": "code",
   "execution_count": 49,
   "id": "df041c88-f426-4fff-8c82-8bf035dabe3d",
   "metadata": {},
   "outputs": [
    {
     "data": {
      "text/plain": [
       "\n",
       "\tChi-squared test for given probabilities\n",
       "\n",
       "data:  observed\n",
       "X-squared = 82963, df = 2, p-value < 2.2e-16\n"
      ]
     },
     "metadata": {},
     "output_type": "display_data"
    }
   ],
   "source": [
    "chisq.test(x = observed, p = expected)"
   ]
  },
  {
   "cell_type": "code",
   "execution_count": null,
   "id": "c52d21fb-1010-4f19-9f6a-d8b44336dc46",
   "metadata": {},
   "outputs": [],
   "source": [
    "## the p-value shows that there is significant difference between our sample and population"
   ]
  }
 ],
 "metadata": {
  "kernelspec": {
   "display_name": "R",
   "language": "R",
   "name": "ir"
  },
  "language_info": {
   "codemirror_mode": "r",
   "file_extension": ".r",
   "mimetype": "text/x-r-source",
   "name": "R",
   "pygments_lexer": "r",
   "version": "4.1.0"
  }
 },
 "nbformat": 4,
 "nbformat_minor": 5
}
