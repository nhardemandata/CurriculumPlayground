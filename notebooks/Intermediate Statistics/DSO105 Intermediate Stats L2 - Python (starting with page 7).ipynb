{
 "cells": [
  {
   "cell_type": "markdown",
   "id": "300b3e85-5a2f-4fb4-b528-007c99cefac6",
   "metadata": {},
   "source": [
    "# DSO105 Intermediate Stats L2 - Python (starting with page 7)"
   ]
  },
  {
   "cell_type": "markdown",
   "id": "c37844de-fc22-4eb4-8891-866391c4cb94",
   "metadata": {},
   "source": [
    "### Transforming data in Python"
   ]
  },
  {
   "cell_type": "code",
   "execution_count": 1,
   "id": "6497a0ed-8591-4fe2-b49a-1655a77ddb0d",
   "metadata": {},
   "outputs": [],
   "source": [
    "### import packages\n",
    "\n",
    "import pandas as pd\n",
    "import numpy as np\n",
    "import seaborn as sns\n",
    "from scipy import stats\n",
    "from scipy.stats import boxcox"
   ]
  },
  {
   "cell_type": "code",
   "execution_count": 2,
   "id": "b32b840e-962d-4637-87d5-0dad3de7f277",
   "metadata": {},
   "outputs": [],
   "source": [
    "### following along with video golf example\n",
    "golf = pd.read_excel('../../datasets/pgaTourData.xlsx')"
   ]
  },
  {
   "cell_type": "code",
   "execution_count": 3,
   "id": "b78f65c4-d351-41bc-a278-12f2a37b6860",
   "metadata": {},
   "outputs": [
    {
     "data": {
      "text/html": [
       "<div>\n",
       "<style scoped>\n",
       "    .dataframe tbody tr th:only-of-type {\n",
       "        vertical-align: middle;\n",
       "    }\n",
       "\n",
       "    .dataframe tbody tr th {\n",
       "        vertical-align: top;\n",
       "    }\n",
       "\n",
       "    .dataframe thead th {\n",
       "        text-align: right;\n",
       "    }\n",
       "</style>\n",
       "<table border=\"1\" class=\"dataframe\">\n",
       "  <thead>\n",
       "    <tr style=\"text-align: right;\">\n",
       "      <th></th>\n",
       "      <th>Player Name</th>\n",
       "      <th>Rounds</th>\n",
       "      <th>Fairway Percentage</th>\n",
       "      <th>Year</th>\n",
       "      <th>Avg Distance</th>\n",
       "      <th>gir</th>\n",
       "      <th>Average Putts</th>\n",
       "      <th>Average Scrambling</th>\n",
       "      <th>Average Score</th>\n",
       "      <th>Points</th>\n",
       "      <th>Wins</th>\n",
       "      <th>Top 10</th>\n",
       "      <th>Average SG Putts</th>\n",
       "      <th>Average SG Total</th>\n",
       "      <th>SG:OTT</th>\n",
       "      <th>SG:APR</th>\n",
       "      <th>SG:ARG</th>\n",
       "      <th>Money</th>\n",
       "    </tr>\n",
       "  </thead>\n",
       "  <tbody>\n",
       "    <tr>\n",
       "      <th>0</th>\n",
       "      <td>Henrik Stenson</td>\n",
       "      <td>60.0</td>\n",
       "      <td>75.19</td>\n",
       "      <td>2018</td>\n",
       "      <td>291.5</td>\n",
       "      <td>73.51</td>\n",
       "      <td>29.93</td>\n",
       "      <td>60.67</td>\n",
       "      <td>69.617</td>\n",
       "      <td>868.0</td>\n",
       "      <td>NaN</td>\n",
       "      <td>5.0</td>\n",
       "      <td>-0.207</td>\n",
       "      <td>1.153</td>\n",
       "      <td>0.427</td>\n",
       "      <td>0.960</td>\n",
       "      <td>-0.027</td>\n",
       "      <td>2680487.0</td>\n",
       "    </tr>\n",
       "    <tr>\n",
       "      <th>1</th>\n",
       "      <td>Ryan Armour</td>\n",
       "      <td>109.0</td>\n",
       "      <td>73.58</td>\n",
       "      <td>2018</td>\n",
       "      <td>283.5</td>\n",
       "      <td>68.22</td>\n",
       "      <td>29.31</td>\n",
       "      <td>60.13</td>\n",
       "      <td>70.758</td>\n",
       "      <td>1006.0</td>\n",
       "      <td>1.0</td>\n",
       "      <td>3.0</td>\n",
       "      <td>-0.058</td>\n",
       "      <td>0.337</td>\n",
       "      <td>-0.012</td>\n",
       "      <td>0.213</td>\n",
       "      <td>0.194</td>\n",
       "      <td>2485203.0</td>\n",
       "    </tr>\n",
       "    <tr>\n",
       "      <th>2</th>\n",
       "      <td>Chez Reavie</td>\n",
       "      <td>93.0</td>\n",
       "      <td>72.24</td>\n",
       "      <td>2018</td>\n",
       "      <td>286.5</td>\n",
       "      <td>68.67</td>\n",
       "      <td>29.12</td>\n",
       "      <td>62.27</td>\n",
       "      <td>70.432</td>\n",
       "      <td>1020.0</td>\n",
       "      <td>NaN</td>\n",
       "      <td>3.0</td>\n",
       "      <td>0.192</td>\n",
       "      <td>0.674</td>\n",
       "      <td>0.183</td>\n",
       "      <td>0.437</td>\n",
       "      <td>-0.137</td>\n",
       "      <td>2700018.0</td>\n",
       "    </tr>\n",
       "    <tr>\n",
       "      <th>3</th>\n",
       "      <td>Ryan Moore</td>\n",
       "      <td>78.0</td>\n",
       "      <td>71.94</td>\n",
       "      <td>2018</td>\n",
       "      <td>289.2</td>\n",
       "      <td>68.80</td>\n",
       "      <td>29.17</td>\n",
       "      <td>64.16</td>\n",
       "      <td>70.015</td>\n",
       "      <td>795.0</td>\n",
       "      <td>NaN</td>\n",
       "      <td>5.0</td>\n",
       "      <td>-0.271</td>\n",
       "      <td>0.941</td>\n",
       "      <td>0.406</td>\n",
       "      <td>0.532</td>\n",
       "      <td>0.273</td>\n",
       "      <td>1986608.0</td>\n",
       "    </tr>\n",
       "    <tr>\n",
       "      <th>4</th>\n",
       "      <td>Brian Stuard</td>\n",
       "      <td>103.0</td>\n",
       "      <td>71.44</td>\n",
       "      <td>2018</td>\n",
       "      <td>278.9</td>\n",
       "      <td>67.12</td>\n",
       "      <td>29.11</td>\n",
       "      <td>59.23</td>\n",
       "      <td>71.038</td>\n",
       "      <td>421.0</td>\n",
       "      <td>NaN</td>\n",
       "      <td>3.0</td>\n",
       "      <td>0.164</td>\n",
       "      <td>0.062</td>\n",
       "      <td>-0.227</td>\n",
       "      <td>0.099</td>\n",
       "      <td>0.026</td>\n",
       "      <td>1089763.0</td>\n",
       "    </tr>\n",
       "  </tbody>\n",
       "</table>\n",
       "</div>"
      ],
      "text/plain": [
       "      Player Name  Rounds  Fairway Percentage  Year  Avg Distance    gir  \\\n",
       "0  Henrik Stenson    60.0               75.19  2018         291.5  73.51   \n",
       "1     Ryan Armour   109.0               73.58  2018         283.5  68.22   \n",
       "2     Chez Reavie    93.0               72.24  2018         286.5  68.67   \n",
       "3      Ryan Moore    78.0               71.94  2018         289.2  68.80   \n",
       "4    Brian Stuard   103.0               71.44  2018         278.9  67.12   \n",
       "\n",
       "   Average Putts  Average Scrambling  Average Score  Points  Wins  Top 10  \\\n",
       "0          29.93               60.67         69.617   868.0   NaN     5.0   \n",
       "1          29.31               60.13         70.758  1006.0   1.0     3.0   \n",
       "2          29.12               62.27         70.432  1020.0   NaN     3.0   \n",
       "3          29.17               64.16         70.015   795.0   NaN     5.0   \n",
       "4          29.11               59.23         71.038   421.0   NaN     3.0   \n",
       "\n",
       "   Average SG Putts  Average SG Total  SG:OTT  SG:APR  SG:ARG      Money  \n",
       "0            -0.207             1.153   0.427   0.960  -0.027  2680487.0  \n",
       "1            -0.058             0.337  -0.012   0.213   0.194  2485203.0  \n",
       "2             0.192             0.674   0.183   0.437  -0.137  2700018.0  \n",
       "3            -0.271             0.941   0.406   0.532   0.273  1986608.0  \n",
       "4             0.164             0.062  -0.227   0.099   0.026  1089763.0  "
      ]
     },
     "execution_count": 3,
     "metadata": {},
     "output_type": "execute_result"
    }
   ],
   "source": [
    "golf.head()"
   ]
  },
  {
   "cell_type": "markdown",
   "id": "c15b4a65-aaec-456e-ae73-e5618d04de3e",
   "metadata": {},
   "source": [
    "#### Data wrangling"
   ]
  },
  {
   "cell_type": "code",
   "execution_count": 4,
   "id": "6d422488-193c-4507-ab18-46aeba87b755",
   "metadata": {},
   "outputs": [],
   "source": [
    "golf.dropna(inplace = True)"
   ]
  },
  {
   "cell_type": "code",
   "execution_count": 5,
   "id": "be61bf59-332a-4f1d-9fe9-4fc66fe8acb6",
   "metadata": {},
   "outputs": [
    {
     "data": {
      "text/plain": [
       "<AxesSubplot:>"
      ]
     },
     "execution_count": 5,
     "metadata": {},
     "output_type": "execute_result"
    },
    {
     "data": {
      "image/png": "[encoded data removed]",
      "text/plain": [
       "<Figure size 432x288 with 1 Axes>"
      ]
     },
     "metadata": {
      "needs_background": "light"
     },
     "output_type": "display_data"
    }
   ],
   "source": [
    "golf['Top 10'].hist()"
   ]
  },
  {
   "cell_type": "code",
   "execution_count": 6,
   "id": "c0cab830-872d-4b8d-b430-b232ee1776e7",
   "metadata": {},
   "outputs": [
    {
     "name": "stderr",
     "output_type": "stream",
     "text": [
      "C:\\Users\\nolan\\anaconda3\\lib\\site-packages\\seaborn\\distributions.py:2557: FutureWarning: `distplot` is a deprecated function and will be removed in a future version. Please adapt your code to use either `displot` (a figure-level function with similar flexibility) or `histplot` (an axes-level function for histograms).\n",
      "  warnings.warn(msg, FutureWarning)\n"
     ]
    },
    {
     "data": {
      "text/plain": [
       "<AxesSubplot:xlabel='Top 10', ylabel='Density'>"
      ]
     },
     "execution_count": 6,
     "metadata": {},
     "output_type": "execute_result"
    },
    {
     "data": {
      "image/png": "[encoded data removed]",
      "text/plain": [
       "<Figure size 432x288 with 1 Axes>"
      ]
     },
     "metadata": {
      "needs_background": "light"
     },
     "output_type": "display_data"
    }
   ],
   "source": [
    "sns.distplot(golf['Top 10'])"
   ]
  },
  {
   "cell_type": "code",
   "execution_count": 7,
   "id": "693bcdaa-6dfb-47a9-b530-ecfc43c7007f",
   "metadata": {},
   "outputs": [],
   "source": [
    "## Pandas histograms allow missing arguments"
   ]
  },
  {
   "cell_type": "code",
   "execution_count": 8,
   "id": "5da3fb34-e04f-4aa8-9e15-d1e7248951ed",
   "metadata": {},
   "outputs": [],
   "source": [
    "golf['Top10SQRT'] = np.sqrt(golf['Top 10'])"
   ]
  },
  {
   "cell_type": "code",
   "execution_count": 9,
   "id": "50d5d1cf-6c46-42db-9153-e4beb42eb85d",
   "metadata": {},
   "outputs": [
    {
     "data": {
      "text/html": [
       "<div>\n",
       "<style scoped>\n",
       "    .dataframe tbody tr th:only-of-type {\n",
       "        vertical-align: middle;\n",
       "    }\n",
       "\n",
       "    .dataframe tbody tr th {\n",
       "        vertical-align: top;\n",
       "    }\n",
       "\n",
       "    .dataframe thead th {\n",
       "        text-align: right;\n",
       "    }\n",
       "</style>\n",
       "<table border=\"1\" class=\"dataframe\">\n",
       "  <thead>\n",
       "    <tr style=\"text-align: right;\">\n",
       "      <th></th>\n",
       "      <th>Player Name</th>\n",
       "      <th>Rounds</th>\n",
       "      <th>Fairway Percentage</th>\n",
       "      <th>Year</th>\n",
       "      <th>Avg Distance</th>\n",
       "      <th>gir</th>\n",
       "      <th>Average Putts</th>\n",
       "      <th>Average Scrambling</th>\n",
       "      <th>Average Score</th>\n",
       "      <th>Points</th>\n",
       "      <th>Wins</th>\n",
       "      <th>Top 10</th>\n",
       "      <th>Average SG Putts</th>\n",
       "      <th>Average SG Total</th>\n",
       "      <th>SG:OTT</th>\n",
       "      <th>SG:APR</th>\n",
       "      <th>SG:ARG</th>\n",
       "      <th>Money</th>\n",
       "      <th>Top10SQRT</th>\n",
       "    </tr>\n",
       "  </thead>\n",
       "  <tbody>\n",
       "    <tr>\n",
       "      <th>1</th>\n",
       "      <td>Ryan Armour</td>\n",
       "      <td>109.0</td>\n",
       "      <td>73.58</td>\n",
       "      <td>2018</td>\n",
       "      <td>283.5</td>\n",
       "      <td>68.22</td>\n",
       "      <td>29.31</td>\n",
       "      <td>60.13</td>\n",
       "      <td>70.758</td>\n",
       "      <td>1006.0</td>\n",
       "      <td>1.0</td>\n",
       "      <td>3.0</td>\n",
       "      <td>-0.058</td>\n",
       "      <td>0.337</td>\n",
       "      <td>-0.012</td>\n",
       "      <td>0.213</td>\n",
       "      <td>0.194</td>\n",
       "      <td>2485203.0</td>\n",
       "      <td>1.732051</td>\n",
       "    </tr>\n",
       "    <tr>\n",
       "      <th>16</th>\n",
       "      <td>Billy Horschel</td>\n",
       "      <td>86.0</td>\n",
       "      <td>67.80</td>\n",
       "      <td>2018</td>\n",
       "      <td>295.4</td>\n",
       "      <td>71.75</td>\n",
       "      <td>29.46</td>\n",
       "      <td>58.03</td>\n",
       "      <td>70.154</td>\n",
       "      <td>960.0</td>\n",
       "      <td>1.0</td>\n",
       "      <td>3.0</td>\n",
       "      <td>0.392</td>\n",
       "      <td>1.112</td>\n",
       "      <td>0.538</td>\n",
       "      <td>0.352</td>\n",
       "      <td>-0.169</td>\n",
       "      <td>4315200.0</td>\n",
       "      <td>1.732051</td>\n",
       "    </tr>\n",
       "    <tr>\n",
       "      <th>22</th>\n",
       "      <td>Ted Potter, Jr.</td>\n",
       "      <td>87.0</td>\n",
       "      <td>66.83</td>\n",
       "      <td>2018</td>\n",
       "      <td>286.0</td>\n",
       "      <td>63.03</td>\n",
       "      <td>28.45</td>\n",
       "      <td>57.51</td>\n",
       "      <td>71.024</td>\n",
       "      <td>744.0</td>\n",
       "      <td>1.0</td>\n",
       "      <td>1.0</td>\n",
       "      <td>0.074</td>\n",
       "      <td>-0.094</td>\n",
       "      <td>-0.074</td>\n",
       "      <td>-0.200</td>\n",
       "      <td>0.105</td>\n",
       "      <td>1976198.0</td>\n",
       "      <td>1.000000</td>\n",
       "    </tr>\n",
       "    <tr>\n",
       "      <th>23</th>\n",
       "      <td>Austin Cook</td>\n",
       "      <td>107.0</td>\n",
       "      <td>66.76</td>\n",
       "      <td>2018</td>\n",
       "      <td>292.3</td>\n",
       "      <td>66.51</td>\n",
       "      <td>28.72</td>\n",
       "      <td>62.02</td>\n",
       "      <td>70.469</td>\n",
       "      <td>1060.0</td>\n",
       "      <td>1.0</td>\n",
       "      <td>3.0</td>\n",
       "      <td>0.315</td>\n",
       "      <td>0.569</td>\n",
       "      <td>0.120</td>\n",
       "      <td>-0.045</td>\n",
       "      <td>0.179</td>\n",
       "      <td>2448920.0</td>\n",
       "      <td>1.732051</td>\n",
       "    </tr>\n",
       "    <tr>\n",
       "      <th>27</th>\n",
       "      <td>Ian Poulter</td>\n",
       "      <td>73.0</td>\n",
       "      <td>66.41</td>\n",
       "      <td>2018</td>\n",
       "      <td>293.6</td>\n",
       "      <td>67.01</td>\n",
       "      <td>28.97</td>\n",
       "      <td>57.11</td>\n",
       "      <td>70.593</td>\n",
       "      <td>1030.0</td>\n",
       "      <td>1.0</td>\n",
       "      <td>4.0</td>\n",
       "      <td>0.223</td>\n",
       "      <td>0.850</td>\n",
       "      <td>0.141</td>\n",
       "      <td>0.435</td>\n",
       "      <td>0.051</td>\n",
       "      <td>2714450.0</td>\n",
       "      <td>2.000000</td>\n",
       "    </tr>\n",
       "  </tbody>\n",
       "</table>\n",
       "</div>"
      ],
      "text/plain": [
       "        Player Name  Rounds  Fairway Percentage  Year  Avg Distance    gir  \\\n",
       "1       Ryan Armour   109.0               73.58  2018         283.5  68.22   \n",
       "16   Billy Horschel    86.0               67.80  2018         295.4  71.75   \n",
       "22  Ted Potter, Jr.    87.0               66.83  2018         286.0  63.03   \n",
       "23      Austin Cook   107.0               66.76  2018         292.3  66.51   \n",
       "27      Ian Poulter    73.0               66.41  2018         293.6  67.01   \n",
       "\n",
       "    Average Putts  Average Scrambling  Average Score  Points  Wins  Top 10  \\\n",
       "1           29.31               60.13         70.758  1006.0   1.0     3.0   \n",
       "16          29.46               58.03         70.154   960.0   1.0     3.0   \n",
       "22          28.45               57.51         71.024   744.0   1.0     1.0   \n",
       "23          28.72               62.02         70.469  1060.0   1.0     3.0   \n",
       "27          28.97               57.11         70.593  1030.0   1.0     4.0   \n",
       "\n",
       "    Average SG Putts  Average SG Total  SG:OTT  SG:APR  SG:ARG      Money  \\\n",
       "1             -0.058             0.337  -0.012   0.213   0.194  2485203.0   \n",
       "16             0.392             1.112   0.538   0.352  -0.169  4315200.0   \n",
       "22             0.074            -0.094  -0.074  -0.200   0.105  1976198.0   \n",
       "23             0.315             0.569   0.120  -0.045   0.179  2448920.0   \n",
       "27             0.223             0.850   0.141   0.435   0.051  2714450.0   \n",
       "\n",
       "    Top10SQRT  \n",
       "1    1.732051  \n",
       "16   1.732051  \n",
       "22   1.000000  \n",
       "23   1.732051  \n",
       "27   2.000000  "
      ]
     },
     "execution_count": 9,
     "metadata": {},
     "output_type": "execute_result"
    }
   ],
   "source": [
    "golf.head()"
   ]
  },
  {
   "cell_type": "code",
   "execution_count": 10,
   "id": "9d5d03af-5d51-40a3-8a7a-c2e103184aeb",
   "metadata": {},
   "outputs": [
    {
     "name": "stderr",
     "output_type": "stream",
     "text": [
      "C:\\Users\\nolan\\anaconda3\\lib\\site-packages\\seaborn\\distributions.py:2557: FutureWarning: `distplot` is a deprecated function and will be removed in a future version. Please adapt your code to use either `displot` (a figure-level function with similar flexibility) or `histplot` (an axes-level function for histograms).\n",
      "  warnings.warn(msg, FutureWarning)\n"
     ]
    },
    {
     "data": {
      "text/plain": [
       "<AxesSubplot:xlabel='Top10SQRT', ylabel='Density'>"
      ]
     },
     "execution_count": 10,
     "metadata": {},
     "output_type": "execute_result"
    },
    {
     "data": {
      "image/png": "[encoded data removed]",
      "text/plain": [
       "<Figure size 432x288 with 1 Axes>"
      ]
     },
     "metadata": {
      "needs_background": "light"
     },
     "output_type": "display_data"
    }
   ],
   "source": [
    "sns.distplot(golf['Top10SQRT'])"
   ]
  },
  {
   "cell_type": "code",
   "execution_count": 11,
   "id": "feef8ece-1fdb-4dae-ba06-8448b7b1218d",
   "metadata": {},
   "outputs": [],
   "source": [
    "## looking more approx. normal\n",
    "## try .log transofrmation now from NumPy package"
   ]
  },
  {
   "cell_type": "code",
   "execution_count": 12,
   "id": "911cf8d6-2d5b-43fe-8f8f-462ad8ab6e18",
   "metadata": {},
   "outputs": [],
   "source": [
    "golf['Top10LOG'] = np.log(golf['Top 10'])"
   ]
  },
  {
   "cell_type": "code",
   "execution_count": 13,
   "id": "30f611ce-67cd-48f9-8da3-b34e48e6d803",
   "metadata": {},
   "outputs": [
    {
     "data": {
      "text/html": [
       "<div>\n",
       "<style scoped>\n",
       "    .dataframe tbody tr th:only-of-type {\n",
       "        vertical-align: middle;\n",
       "    }\n",
       "\n",
       "    .dataframe tbody tr th {\n",
       "        vertical-align: top;\n",
       "    }\n",
       "\n",
       "    .dataframe thead th {\n",
       "        text-align: right;\n",
       "    }\n",
       "</style>\n",
       "<table border=\"1\" class=\"dataframe\">\n",
       "  <thead>\n",
       "    <tr style=\"text-align: right;\">\n",
       "      <th></th>\n",
       "      <th>Player Name</th>\n",
       "      <th>Rounds</th>\n",
       "      <th>Fairway Percentage</th>\n",
       "      <th>Year</th>\n",
       "      <th>Avg Distance</th>\n",
       "      <th>gir</th>\n",
       "      <th>Average Putts</th>\n",
       "      <th>Average Scrambling</th>\n",
       "      <th>Average Score</th>\n",
       "      <th>Points</th>\n",
       "      <th>Wins</th>\n",
       "      <th>Top 10</th>\n",
       "      <th>Average SG Putts</th>\n",
       "      <th>Average SG Total</th>\n",
       "      <th>SG:OTT</th>\n",
       "      <th>SG:APR</th>\n",
       "      <th>SG:ARG</th>\n",
       "      <th>Money</th>\n",
       "      <th>Top10SQRT</th>\n",
       "      <th>Top10LOG</th>\n",
       "    </tr>\n",
       "  </thead>\n",
       "  <tbody>\n",
       "    <tr>\n",
       "      <th>1</th>\n",
       "      <td>Ryan Armour</td>\n",
       "      <td>109.0</td>\n",
       "      <td>73.58</td>\n",
       "      <td>2018</td>\n",
       "      <td>283.5</td>\n",
       "      <td>68.22</td>\n",
       "      <td>29.31</td>\n",
       "      <td>60.13</td>\n",
       "      <td>70.758</td>\n",
       "      <td>1006.0</td>\n",
       "      <td>1.0</td>\n",
       "      <td>3.0</td>\n",
       "      <td>-0.058</td>\n",
       "      <td>0.337</td>\n",
       "      <td>-0.012</td>\n",
       "      <td>0.213</td>\n",
       "      <td>0.194</td>\n",
       "      <td>2485203.0</td>\n",
       "      <td>1.732051</td>\n",
       "      <td>1.098612</td>\n",
       "    </tr>\n",
       "    <tr>\n",
       "      <th>16</th>\n",
       "      <td>Billy Horschel</td>\n",
       "      <td>86.0</td>\n",
       "      <td>67.80</td>\n",
       "      <td>2018</td>\n",
       "      <td>295.4</td>\n",
       "      <td>71.75</td>\n",
       "      <td>29.46</td>\n",
       "      <td>58.03</td>\n",
       "      <td>70.154</td>\n",
       "      <td>960.0</td>\n",
       "      <td>1.0</td>\n",
       "      <td>3.0</td>\n",
       "      <td>0.392</td>\n",
       "      <td>1.112</td>\n",
       "      <td>0.538</td>\n",
       "      <td>0.352</td>\n",
       "      <td>-0.169</td>\n",
       "      <td>4315200.0</td>\n",
       "      <td>1.732051</td>\n",
       "      <td>1.098612</td>\n",
       "    </tr>\n",
       "    <tr>\n",
       "      <th>22</th>\n",
       "      <td>Ted Potter, Jr.</td>\n",
       "      <td>87.0</td>\n",
       "      <td>66.83</td>\n",
       "      <td>2018</td>\n",
       "      <td>286.0</td>\n",
       "      <td>63.03</td>\n",
       "      <td>28.45</td>\n",
       "      <td>57.51</td>\n",
       "      <td>71.024</td>\n",
       "      <td>744.0</td>\n",
       "      <td>1.0</td>\n",
       "      <td>1.0</td>\n",
       "      <td>0.074</td>\n",
       "      <td>-0.094</td>\n",
       "      <td>-0.074</td>\n",
       "      <td>-0.200</td>\n",
       "      <td>0.105</td>\n",
       "      <td>1976198.0</td>\n",
       "      <td>1.000000</td>\n",
       "      <td>0.000000</td>\n",
       "    </tr>\n",
       "    <tr>\n",
       "      <th>23</th>\n",
       "      <td>Austin Cook</td>\n",
       "      <td>107.0</td>\n",
       "      <td>66.76</td>\n",
       "      <td>2018</td>\n",
       "      <td>292.3</td>\n",
       "      <td>66.51</td>\n",
       "      <td>28.72</td>\n",
       "      <td>62.02</td>\n",
       "      <td>70.469</td>\n",
       "      <td>1060.0</td>\n",
       "      <td>1.0</td>\n",
       "      <td>3.0</td>\n",
       "      <td>0.315</td>\n",
       "      <td>0.569</td>\n",
       "      <td>0.120</td>\n",
       "      <td>-0.045</td>\n",
       "      <td>0.179</td>\n",
       "      <td>2448920.0</td>\n",
       "      <td>1.732051</td>\n",
       "      <td>1.098612</td>\n",
       "    </tr>\n",
       "    <tr>\n",
       "      <th>27</th>\n",
       "      <td>Ian Poulter</td>\n",
       "      <td>73.0</td>\n",
       "      <td>66.41</td>\n",
       "      <td>2018</td>\n",
       "      <td>293.6</td>\n",
       "      <td>67.01</td>\n",
       "      <td>28.97</td>\n",
       "      <td>57.11</td>\n",
       "      <td>70.593</td>\n",
       "      <td>1030.0</td>\n",
       "      <td>1.0</td>\n",
       "      <td>4.0</td>\n",
       "      <td>0.223</td>\n",
       "      <td>0.850</td>\n",
       "      <td>0.141</td>\n",
       "      <td>0.435</td>\n",
       "      <td>0.051</td>\n",
       "      <td>2714450.0</td>\n",
       "      <td>2.000000</td>\n",
       "      <td>1.386294</td>\n",
       "    </tr>\n",
       "  </tbody>\n",
       "</table>\n",
       "</div>"
      ],
      "text/plain": [
       "        Player Name  Rounds  Fairway Percentage  Year  Avg Distance    gir  \\\n",
       "1       Ryan Armour   109.0               73.58  2018         283.5  68.22   \n",
       "16   Billy Horschel    86.0               67.80  2018         295.4  71.75   \n",
       "22  Ted Potter, Jr.    87.0               66.83  2018         286.0  63.03   \n",
       "23      Austin Cook   107.0               66.76  2018         292.3  66.51   \n",
       "27      Ian Poulter    73.0               66.41  2018         293.6  67.01   \n",
       "\n",
       "    Average Putts  Average Scrambling  Average Score  Points  Wins  Top 10  \\\n",
       "1           29.31               60.13         70.758  1006.0   1.0     3.0   \n",
       "16          29.46               58.03         70.154   960.0   1.0     3.0   \n",
       "22          28.45               57.51         71.024   744.0   1.0     1.0   \n",
       "23          28.72               62.02         70.469  1060.0   1.0     3.0   \n",
       "27          28.97               57.11         70.593  1030.0   1.0     4.0   \n",
       "\n",
       "    Average SG Putts  Average SG Total  SG:OTT  SG:APR  SG:ARG      Money  \\\n",
       "1             -0.058             0.337  -0.012   0.213   0.194  2485203.0   \n",
       "16             0.392             1.112   0.538   0.352  -0.169  4315200.0   \n",
       "22             0.074            -0.094  -0.074  -0.200   0.105  1976198.0   \n",
       "23             0.315             0.569   0.120  -0.045   0.179  2448920.0   \n",
       "27             0.223             0.850   0.141   0.435   0.051  2714450.0   \n",
       "\n",
       "    Top10SQRT  Top10LOG  \n",
       "1    1.732051  1.098612  \n",
       "16   1.732051  1.098612  \n",
       "22   1.000000  0.000000  \n",
       "23   1.732051  1.098612  \n",
       "27   2.000000  1.386294  "
      ]
     },
     "execution_count": 13,
     "metadata": {},
     "output_type": "execute_result"
    }
   ],
   "source": [
    "golf.head()"
   ]
  },
  {
   "cell_type": "code",
   "execution_count": 14,
   "id": "5d73e436-3611-4059-8adf-02db4ae29b07",
   "metadata": {},
   "outputs": [
    {
     "name": "stderr",
     "output_type": "stream",
     "text": [
      "C:\\Users\\nolan\\anaconda3\\lib\\site-packages\\seaborn\\distributions.py:2557: FutureWarning: `distplot` is a deprecated function and will be removed in a future version. Please adapt your code to use either `displot` (a figure-level function with similar flexibility) or `histplot` (an axes-level function for histograms).\n",
      "  warnings.warn(msg, FutureWarning)\n"
     ]
    },
    {
     "data": {
      "text/plain": [
       "<AxesSubplot:xlabel='Top10LOG', ylabel='Density'>"
      ]
     },
     "execution_count": 14,
     "metadata": {},
     "output_type": "execute_result"
    },
    {
     "data": {
      "image/png": "[encoded data removed]",
      "text/plain": [
       "<Figure size 432x288 with 1 Axes>"
      ]
     },
     "metadata": {
      "needs_background": "light"
     },
     "output_type": "display_data"
    }
   ],
   "source": [
    "sns.distplot(golf['Top10LOG'])\n",
    "## no need to log it"
   ]
  },
  {
   "cell_type": "markdown",
   "id": "4b144f84-a6d3-4f91-a70d-41e19ddc9eb9",
   "metadata": {},
   "source": [
    "#### practicing squaring and cubing"
   ]
  },
  {
   "cell_type": "code",
   "execution_count": 15,
   "id": "28320817-6bc8-468b-b975-c699bf98a0cc",
   "metadata": {},
   "outputs": [],
   "source": [
    "golf['SGARGsq'] = golf['SG:ARG'] ** 2\n",
    "## ** 2 says to square the variable"
   ]
  },
  {
   "cell_type": "code",
   "execution_count": 16,
   "id": "da5ed442-6f4c-4dd2-b92f-d293fdfc2d18",
   "metadata": {},
   "outputs": [
    {
     "data": {
      "text/html": [
       "<div>\n",
       "<style scoped>\n",
       "    .dataframe tbody tr th:only-of-type {\n",
       "        vertical-align: middle;\n",
       "    }\n",
       "\n",
       "    .dataframe tbody tr th {\n",
       "        vertical-align: top;\n",
       "    }\n",
       "\n",
       "    .dataframe thead th {\n",
       "        text-align: right;\n",
       "    }\n",
       "</style>\n",
       "<table border=\"1\" class=\"dataframe\">\n",
       "  <thead>\n",
       "    <tr style=\"text-align: right;\">\n",
       "      <th></th>\n",
       "      <th>Player Name</th>\n",
       "      <th>Rounds</th>\n",
       "      <th>Fairway Percentage</th>\n",
       "      <th>Year</th>\n",
       "      <th>Avg Distance</th>\n",
       "      <th>gir</th>\n",
       "      <th>Average Putts</th>\n",
       "      <th>Average Scrambling</th>\n",
       "      <th>Average Score</th>\n",
       "      <th>Points</th>\n",
       "      <th>...</th>\n",
       "      <th>Top 10</th>\n",
       "      <th>Average SG Putts</th>\n",
       "      <th>Average SG Total</th>\n",
       "      <th>SG:OTT</th>\n",
       "      <th>SG:APR</th>\n",
       "      <th>SG:ARG</th>\n",
       "      <th>Money</th>\n",
       "      <th>Top10SQRT</th>\n",
       "      <th>Top10LOG</th>\n",
       "      <th>SGARGsq</th>\n",
       "    </tr>\n",
       "  </thead>\n",
       "  <tbody>\n",
       "    <tr>\n",
       "      <th>1</th>\n",
       "      <td>Ryan Armour</td>\n",
       "      <td>109.0</td>\n",
       "      <td>73.58</td>\n",
       "      <td>2018</td>\n",
       "      <td>283.5</td>\n",
       "      <td>68.22</td>\n",
       "      <td>29.31</td>\n",
       "      <td>60.13</td>\n",
       "      <td>70.758</td>\n",
       "      <td>1006.0</td>\n",
       "      <td>...</td>\n",
       "      <td>3.0</td>\n",
       "      <td>-0.058</td>\n",
       "      <td>0.337</td>\n",
       "      <td>-0.012</td>\n",
       "      <td>0.213</td>\n",
       "      <td>0.194</td>\n",
       "      <td>2485203.0</td>\n",
       "      <td>1.732051</td>\n",
       "      <td>1.098612</td>\n",
       "      <td>0.037636</td>\n",
       "    </tr>\n",
       "    <tr>\n",
       "      <th>16</th>\n",
       "      <td>Billy Horschel</td>\n",
       "      <td>86.0</td>\n",
       "      <td>67.80</td>\n",
       "      <td>2018</td>\n",
       "      <td>295.4</td>\n",
       "      <td>71.75</td>\n",
       "      <td>29.46</td>\n",
       "      <td>58.03</td>\n",
       "      <td>70.154</td>\n",
       "      <td>960.0</td>\n",
       "      <td>...</td>\n",
       "      <td>3.0</td>\n",
       "      <td>0.392</td>\n",
       "      <td>1.112</td>\n",
       "      <td>0.538</td>\n",
       "      <td>0.352</td>\n",
       "      <td>-0.169</td>\n",
       "      <td>4315200.0</td>\n",
       "      <td>1.732051</td>\n",
       "      <td>1.098612</td>\n",
       "      <td>0.028561</td>\n",
       "    </tr>\n",
       "    <tr>\n",
       "      <th>22</th>\n",
       "      <td>Ted Potter, Jr.</td>\n",
       "      <td>87.0</td>\n",
       "      <td>66.83</td>\n",
       "      <td>2018</td>\n",
       "      <td>286.0</td>\n",
       "      <td>63.03</td>\n",
       "      <td>28.45</td>\n",
       "      <td>57.51</td>\n",
       "      <td>71.024</td>\n",
       "      <td>744.0</td>\n",
       "      <td>...</td>\n",
       "      <td>1.0</td>\n",
       "      <td>0.074</td>\n",
       "      <td>-0.094</td>\n",
       "      <td>-0.074</td>\n",
       "      <td>-0.200</td>\n",
       "      <td>0.105</td>\n",
       "      <td>1976198.0</td>\n",
       "      <td>1.000000</td>\n",
       "      <td>0.000000</td>\n",
       "      <td>0.011025</td>\n",
       "    </tr>\n",
       "    <tr>\n",
       "      <th>23</th>\n",
       "      <td>Austin Cook</td>\n",
       "      <td>107.0</td>\n",
       "      <td>66.76</td>\n",
       "      <td>2018</td>\n",
       "      <td>292.3</td>\n",
       "      <td>66.51</td>\n",
       "      <td>28.72</td>\n",
       "      <td>62.02</td>\n",
       "      <td>70.469</td>\n",
       "      <td>1060.0</td>\n",
       "      <td>...</td>\n",
       "      <td>3.0</td>\n",
       "      <td>0.315</td>\n",
       "      <td>0.569</td>\n",
       "      <td>0.120</td>\n",
       "      <td>-0.045</td>\n",
       "      <td>0.179</td>\n",
       "      <td>2448920.0</td>\n",
       "      <td>1.732051</td>\n",
       "      <td>1.098612</td>\n",
       "      <td>0.032041</td>\n",
       "    </tr>\n",
       "    <tr>\n",
       "      <th>27</th>\n",
       "      <td>Ian Poulter</td>\n",
       "      <td>73.0</td>\n",
       "      <td>66.41</td>\n",
       "      <td>2018</td>\n",
       "      <td>293.6</td>\n",
       "      <td>67.01</td>\n",
       "      <td>28.97</td>\n",
       "      <td>57.11</td>\n",
       "      <td>70.593</td>\n",
       "      <td>1030.0</td>\n",
       "      <td>...</td>\n",
       "      <td>4.0</td>\n",
       "      <td>0.223</td>\n",
       "      <td>0.850</td>\n",
       "      <td>0.141</td>\n",
       "      <td>0.435</td>\n",
       "      <td>0.051</td>\n",
       "      <td>2714450.0</td>\n",
       "      <td>2.000000</td>\n",
       "      <td>1.386294</td>\n",
       "      <td>0.002601</td>\n",
       "    </tr>\n",
       "  </tbody>\n",
       "</table>\n",
       "<p>5 rows × 21 columns</p>\n",
       "</div>"
      ],
      "text/plain": [
       "        Player Name  Rounds  Fairway Percentage  Year  Avg Distance    gir  \\\n",
       "1       Ryan Armour   109.0               73.58  2018         283.5  68.22   \n",
       "16   Billy Horschel    86.0               67.80  2018         295.4  71.75   \n",
       "22  Ted Potter, Jr.    87.0               66.83  2018         286.0  63.03   \n",
       "23      Austin Cook   107.0               66.76  2018         292.3  66.51   \n",
       "27      Ian Poulter    73.0               66.41  2018         293.6  67.01   \n",
       "\n",
       "    Average Putts  Average Scrambling  Average Score  Points  ...  Top 10  \\\n",
       "1           29.31               60.13         70.758  1006.0  ...     3.0   \n",
       "16          29.46               58.03         70.154   960.0  ...     3.0   \n",
       "22          28.45               57.51         71.024   744.0  ...     1.0   \n",
       "23          28.72               62.02         70.469  1060.0  ...     3.0   \n",
       "27          28.97               57.11         70.593  1030.0  ...     4.0   \n",
       "\n",
       "    Average SG Putts  Average SG Total  SG:OTT  SG:APR  SG:ARG      Money  \\\n",
       "1             -0.058             0.337  -0.012   0.213   0.194  2485203.0   \n",
       "16             0.392             1.112   0.538   0.352  -0.169  4315200.0   \n",
       "22             0.074            -0.094  -0.074  -0.200   0.105  1976198.0   \n",
       "23             0.315             0.569   0.120  -0.045   0.179  2448920.0   \n",
       "27             0.223             0.850   0.141   0.435   0.051  2714450.0   \n",
       "\n",
       "    Top10SQRT  Top10LOG   SGARGsq  \n",
       "1    1.732051  1.098612  0.037636  \n",
       "16   1.732051  1.098612  0.028561  \n",
       "22   1.000000  0.000000  0.011025  \n",
       "23   1.732051  1.098612  0.032041  \n",
       "27   2.000000  1.386294  0.002601  \n",
       "\n",
       "[5 rows x 21 columns]"
      ]
     },
     "execution_count": 16,
     "metadata": {},
     "output_type": "execute_result"
    }
   ],
   "source": [
    "golf.head()"
   ]
  },
  {
   "cell_type": "code",
   "execution_count": 17,
   "id": "0f67f304-0ff1-432e-babe-900d1263bd65",
   "metadata": {},
   "outputs": [
    {
     "name": "stderr",
     "output_type": "stream",
     "text": [
      "C:\\Users\\nolan\\anaconda3\\lib\\site-packages\\seaborn\\distributions.py:2557: FutureWarning: `distplot` is a deprecated function and will be removed in a future version. Please adapt your code to use either `displot` (a figure-level function with similar flexibility) or `histplot` (an axes-level function for histograms).\n",
      "  warnings.warn(msg, FutureWarning)\n"
     ]
    },
    {
     "data": {
      "text/plain": [
       "<AxesSubplot:xlabel='SGARGsq', ylabel='Density'>"
      ]
     },
     "execution_count": 17,
     "metadata": {},
     "output_type": "execute_result"
    },
    {
     "data": {
      "image/png": "[encoded data removed]",
      "text/plain": [
       "<Figure size 432x288 with 1 Axes>"
      ]
     },
     "metadata": {
      "needs_background": "light"
     },
     "output_type": "display_data"
    }
   ],
   "source": [
    "sns.distplot(golf['SGARGsq'])\n",
    "## a not very useful histogram"
   ]
  },
  {
   "cell_type": "code",
   "execution_count": 18,
   "id": "2a616b83-aa4a-4a4c-98aa-f035bd3771ec",
   "metadata": {},
   "outputs": [],
   "source": [
    "## now cubing"
   ]
  },
  {
   "cell_type": "code",
   "execution_count": 19,
   "id": "1a3c00de-356a-4d75-81bb-750ea7768e98",
   "metadata": {},
   "outputs": [],
   "source": [
    "golf['SGARGcube'] = golf['SG:ARG'] ** 3"
   ]
  },
  {
   "cell_type": "code",
   "execution_count": 20,
   "id": "05e162fb-5dbc-42d1-9c2c-4fe96b4c5401",
   "metadata": {},
   "outputs": [
    {
     "data": {
      "text/html": [
       "<div>\n",
       "<style scoped>\n",
       "    .dataframe tbody tr th:only-of-type {\n",
       "        vertical-align: middle;\n",
       "    }\n",
       "\n",
       "    .dataframe tbody tr th {\n",
       "        vertical-align: top;\n",
       "    }\n",
       "\n",
       "    .dataframe thead th {\n",
       "        text-align: right;\n",
       "    }\n",
       "</style>\n",
       "<table border=\"1\" class=\"dataframe\">\n",
       "  <thead>\n",
       "    <tr style=\"text-align: right;\">\n",
       "      <th></th>\n",
       "      <th>Player Name</th>\n",
       "      <th>Rounds</th>\n",
       "      <th>Fairway Percentage</th>\n",
       "      <th>Year</th>\n",
       "      <th>Avg Distance</th>\n",
       "      <th>gir</th>\n",
       "      <th>Average Putts</th>\n",
       "      <th>Average Scrambling</th>\n",
       "      <th>Average Score</th>\n",
       "      <th>Points</th>\n",
       "      <th>...</th>\n",
       "      <th>Average SG Putts</th>\n",
       "      <th>Average SG Total</th>\n",
       "      <th>SG:OTT</th>\n",
       "      <th>SG:APR</th>\n",
       "      <th>SG:ARG</th>\n",
       "      <th>Money</th>\n",
       "      <th>Top10SQRT</th>\n",
       "      <th>Top10LOG</th>\n",
       "      <th>SGARGsq</th>\n",
       "      <th>SGARGcube</th>\n",
       "    </tr>\n",
       "  </thead>\n",
       "  <tbody>\n",
       "    <tr>\n",
       "      <th>1</th>\n",
       "      <td>Ryan Armour</td>\n",
       "      <td>109.0</td>\n",
       "      <td>73.58</td>\n",
       "      <td>2018</td>\n",
       "      <td>283.5</td>\n",
       "      <td>68.22</td>\n",
       "      <td>29.31</td>\n",
       "      <td>60.13</td>\n",
       "      <td>70.758</td>\n",
       "      <td>1006.0</td>\n",
       "      <td>...</td>\n",
       "      <td>-0.058</td>\n",
       "      <td>0.337</td>\n",
       "      <td>-0.012</td>\n",
       "      <td>0.213</td>\n",
       "      <td>0.194</td>\n",
       "      <td>2485203.0</td>\n",
       "      <td>1.732051</td>\n",
       "      <td>1.098612</td>\n",
       "      <td>0.037636</td>\n",
       "      <td>0.007301</td>\n",
       "    </tr>\n",
       "    <tr>\n",
       "      <th>16</th>\n",
       "      <td>Billy Horschel</td>\n",
       "      <td>86.0</td>\n",
       "      <td>67.80</td>\n",
       "      <td>2018</td>\n",
       "      <td>295.4</td>\n",
       "      <td>71.75</td>\n",
       "      <td>29.46</td>\n",
       "      <td>58.03</td>\n",
       "      <td>70.154</td>\n",
       "      <td>960.0</td>\n",
       "      <td>...</td>\n",
       "      <td>0.392</td>\n",
       "      <td>1.112</td>\n",
       "      <td>0.538</td>\n",
       "      <td>0.352</td>\n",
       "      <td>-0.169</td>\n",
       "      <td>4315200.0</td>\n",
       "      <td>1.732051</td>\n",
       "      <td>1.098612</td>\n",
       "      <td>0.028561</td>\n",
       "      <td>-0.004827</td>\n",
       "    </tr>\n",
       "    <tr>\n",
       "      <th>22</th>\n",
       "      <td>Ted Potter, Jr.</td>\n",
       "      <td>87.0</td>\n",
       "      <td>66.83</td>\n",
       "      <td>2018</td>\n",
       "      <td>286.0</td>\n",
       "      <td>63.03</td>\n",
       "      <td>28.45</td>\n",
       "      <td>57.51</td>\n",
       "      <td>71.024</td>\n",
       "      <td>744.0</td>\n",
       "      <td>...</td>\n",
       "      <td>0.074</td>\n",
       "      <td>-0.094</td>\n",
       "      <td>-0.074</td>\n",
       "      <td>-0.200</td>\n",
       "      <td>0.105</td>\n",
       "      <td>1976198.0</td>\n",
       "      <td>1.000000</td>\n",
       "      <td>0.000000</td>\n",
       "      <td>0.011025</td>\n",
       "      <td>0.001158</td>\n",
       "    </tr>\n",
       "    <tr>\n",
       "      <th>23</th>\n",
       "      <td>Austin Cook</td>\n",
       "      <td>107.0</td>\n",
       "      <td>66.76</td>\n",
       "      <td>2018</td>\n",
       "      <td>292.3</td>\n",
       "      <td>66.51</td>\n",
       "      <td>28.72</td>\n",
       "      <td>62.02</td>\n",
       "      <td>70.469</td>\n",
       "      <td>1060.0</td>\n",
       "      <td>...</td>\n",
       "      <td>0.315</td>\n",
       "      <td>0.569</td>\n",
       "      <td>0.120</td>\n",
       "      <td>-0.045</td>\n",
       "      <td>0.179</td>\n",
       "      <td>2448920.0</td>\n",
       "      <td>1.732051</td>\n",
       "      <td>1.098612</td>\n",
       "      <td>0.032041</td>\n",
       "      <td>0.005735</td>\n",
       "    </tr>\n",
       "    <tr>\n",
       "      <th>27</th>\n",
       "      <td>Ian Poulter</td>\n",
       "      <td>73.0</td>\n",
       "      <td>66.41</td>\n",
       "      <td>2018</td>\n",
       "      <td>293.6</td>\n",
       "      <td>67.01</td>\n",
       "      <td>28.97</td>\n",
       "      <td>57.11</td>\n",
       "      <td>70.593</td>\n",
       "      <td>1030.0</td>\n",
       "      <td>...</td>\n",
       "      <td>0.223</td>\n",
       "      <td>0.850</td>\n",
       "      <td>0.141</td>\n",
       "      <td>0.435</td>\n",
       "      <td>0.051</td>\n",
       "      <td>2714450.0</td>\n",
       "      <td>2.000000</td>\n",
       "      <td>1.386294</td>\n",
       "      <td>0.002601</td>\n",
       "      <td>0.000133</td>\n",
       "    </tr>\n",
       "  </tbody>\n",
       "</table>\n",
       "<p>5 rows × 22 columns</p>\n",
       "</div>"
      ],
      "text/plain": [
       "        Player Name  Rounds  Fairway Percentage  Year  Avg Distance    gir  \\\n",
       "1       Ryan Armour   109.0               73.58  2018         283.5  68.22   \n",
       "16   Billy Horschel    86.0               67.80  2018         295.4  71.75   \n",
       "22  Ted Potter, Jr.    87.0               66.83  2018         286.0  63.03   \n",
       "23      Austin Cook   107.0               66.76  2018         292.3  66.51   \n",
       "27      Ian Poulter    73.0               66.41  2018         293.6  67.01   \n",
       "\n",
       "    Average Putts  Average Scrambling  Average Score  Points  ...  \\\n",
       "1           29.31               60.13         70.758  1006.0  ...   \n",
       "16          29.46               58.03         70.154   960.0  ...   \n",
       "22          28.45               57.51         71.024   744.0  ...   \n",
       "23          28.72               62.02         70.469  1060.0  ...   \n",
       "27          28.97               57.11         70.593  1030.0  ...   \n",
       "\n",
       "    Average SG Putts  Average SG Total  SG:OTT  SG:APR  SG:ARG      Money  \\\n",
       "1             -0.058             0.337  -0.012   0.213   0.194  2485203.0   \n",
       "16             0.392             1.112   0.538   0.352  -0.169  4315200.0   \n",
       "22             0.074            -0.094  -0.074  -0.200   0.105  1976198.0   \n",
       "23             0.315             0.569   0.120  -0.045   0.179  2448920.0   \n",
       "27             0.223             0.850   0.141   0.435   0.051  2714450.0   \n",
       "\n",
       "    Top10SQRT  Top10LOG   SGARGsq  SGARGcube  \n",
       "1    1.732051  1.098612  0.037636   0.007301  \n",
       "16   1.732051  1.098612  0.028561  -0.004827  \n",
       "22   1.000000  0.000000  0.011025   0.001158  \n",
       "23   1.732051  1.098612  0.032041   0.005735  \n",
       "27   2.000000  1.386294  0.002601   0.000133  \n",
       "\n",
       "[5 rows x 22 columns]"
      ]
     },
     "execution_count": 20,
     "metadata": {},
     "output_type": "execute_result"
    }
   ],
   "source": [
    "golf.head()"
   ]
  },
  {
   "cell_type": "code",
   "execution_count": 21,
   "id": "0d207ee7-d9e2-4296-bfe4-42b15ed8de02",
   "metadata": {},
   "outputs": [
    {
     "name": "stderr",
     "output_type": "stream",
     "text": [
      "C:\\Users\\nolan\\anaconda3\\lib\\site-packages\\seaborn\\distributions.py:2557: FutureWarning: `distplot` is a deprecated function and will be removed in a future version. Please adapt your code to use either `displot` (a figure-level function with similar flexibility) or `histplot` (an axes-level function for histograms).\n",
      "  warnings.warn(msg, FutureWarning)\n"
     ]
    },
    {
     "data": {
      "text/plain": [
       "<AxesSubplot:xlabel='SGARGcube', ylabel='Density'>"
      ]
     },
     "execution_count": 21,
     "metadata": {},
     "output_type": "execute_result"
    },
    {
     "data": {
      "image/png": "[encoded data removed]",
      "text/plain": [
       "<Figure size 432x288 with 1 Axes>"
      ]
     },
     "metadata": {
      "needs_background": "light"
     },
     "output_type": "display_data"
    }
   ],
   "source": [
    "sns.distplot(golf['SGARGcube'])\n",
    "## also not helpful"
   ]
  },
  {
   "cell_type": "markdown",
   "id": "bde824e8-5a8d-45e8-a9a2-5732bd5bc8d9",
   "metadata": {},
   "source": [
    "Transformations in Python\n",
    "\n",
    "Data transformations can also be done in Python. You'll use the same anime data that you used to transform data in R."
   ]
  },
  {
   "cell_type": "code",
   "execution_count": 3,
   "id": "fdb20058-8647-4d96-a430-547ff1e7ff6a",
   "metadata": {},
   "outputs": [],
   "source": [
    "anime = pd.read_csv('../../datasets/anime.csv')"
   ]
  },
  {
   "cell_type": "code",
   "execution_count": 4,
   "id": "3dec019f-2f16-4a95-bb46-66838e015d03",
   "metadata": {},
   "outputs": [
    {
     "data": {
      "text/html": [
       "<div>\n",
       "<style scoped>\n",
       "    .dataframe tbody tr th:only-of-type {\n",
       "        vertical-align: middle;\n",
       "    }\n",
       "\n",
       "    .dataframe tbody tr th {\n",
       "        vertical-align: top;\n",
       "    }\n",
       "\n",
       "    .dataframe thead th {\n",
       "        text-align: right;\n",
       "    }\n",
       "</style>\n",
       "<table border=\"1\" class=\"dataframe\">\n",
       "  <thead>\n",
       "    <tr style=\"text-align: right;\">\n",
       "      <th></th>\n",
       "      <th>anime_id</th>\n",
       "      <th>title</th>\n",
       "      <th>title_english</th>\n",
       "      <th>title_japanese</th>\n",
       "      <th>title_synonyms</th>\n",
       "      <th>image_url</th>\n",
       "      <th>type</th>\n",
       "      <th>source</th>\n",
       "      <th>episodes</th>\n",
       "      <th>status</th>\n",
       "      <th>...</th>\n",
       "      <th>broadcast</th>\n",
       "      <th>related</th>\n",
       "      <th>producer</th>\n",
       "      <th>licensor</th>\n",
       "      <th>studio</th>\n",
       "      <th>genre</th>\n",
       "      <th>opening_theme</th>\n",
       "      <th>ending_theme</th>\n",
       "      <th>duration_min</th>\n",
       "      <th>aired_from_year</th>\n",
       "    </tr>\n",
       "  </thead>\n",
       "  <tbody>\n",
       "    <tr>\n",
       "      <th>0</th>\n",
       "      <td>11013</td>\n",
       "      <td>Inu x Boku SS</td>\n",
       "      <td>Inu X Boku Secret Service</td>\n",
       "      <td>妖狐×僕SS</td>\n",
       "      <td>Youko x Boku SS</td>\n",
       "      <td>https://myanimelist.cdn-dena.com/images/anime/...</td>\n",
       "      <td>TV</td>\n",
       "      <td>Manga</td>\n",
       "      <td>12</td>\n",
       "      <td>Finished Airing</td>\n",
       "      <td>...</td>\n",
       "      <td>Fridays at Unknown</td>\n",
       "      <td>{'Adaptation': [{'mal_id': 17207, 'type': 'man...</td>\n",
       "      <td>Aniplex, Square Enix, Mainichi Broadcasting Sy...</td>\n",
       "      <td>Sentai Filmworks</td>\n",
       "      <td>David Production</td>\n",
       "      <td>Comedy, Supernatural, Romance, Shounen</td>\n",
       "      <td>['\"Nirvana\" by MUCC']</td>\n",
       "      <td>['#1: \"Nirvana\" by MUCC (eps 1, 11-12)', '#2: ...</td>\n",
       "      <td>24.0</td>\n",
       "      <td>2012</td>\n",
       "    </tr>\n",
       "    <tr>\n",
       "      <th>1</th>\n",
       "      <td>2104</td>\n",
       "      <td>Seto no Hanayome</td>\n",
       "      <td>My Bride is a Mermaid</td>\n",
       "      <td>瀬戸の花嫁</td>\n",
       "      <td>The Inland Sea Bride</td>\n",
       "      <td>https://myanimelist.cdn-dena.com/images/anime/...</td>\n",
       "      <td>TV</td>\n",
       "      <td>Manga</td>\n",
       "      <td>26</td>\n",
       "      <td>Finished Airing</td>\n",
       "      <td>...</td>\n",
       "      <td>Unknown</td>\n",
       "      <td>{'Adaptation': [{'mal_id': 759, 'type': 'manga...</td>\n",
       "      <td>TV Tokyo, AIC, Square Enix, Sotsu</td>\n",
       "      <td>Funimation</td>\n",
       "      <td>Gonzo</td>\n",
       "      <td>Comedy, Parody, Romance, School, Shounen</td>\n",
       "      <td>['\"Romantic summer\" by SUN&amp;LUNAR']</td>\n",
       "      <td>['#1: \"Ashita e no Hikari (明日への光)\" by Asuka Hi...</td>\n",
       "      <td>24.0</td>\n",
       "      <td>2007</td>\n",
       "    </tr>\n",
       "    <tr>\n",
       "      <th>2</th>\n",
       "      <td>5262</td>\n",
       "      <td>Shugo Chara!! Doki</td>\n",
       "      <td>Shugo Chara!! Doki</td>\n",
       "      <td>しゅごキャラ！！どきっ</td>\n",
       "      <td>Shugo Chara Ninenme, Shugo Chara! Second Year</td>\n",
       "      <td>https://myanimelist.cdn-dena.com/images/anime/...</td>\n",
       "      <td>TV</td>\n",
       "      <td>Manga</td>\n",
       "      <td>51</td>\n",
       "      <td>Finished Airing</td>\n",
       "      <td>...</td>\n",
       "      <td>Unknown</td>\n",
       "      <td>{'Adaptation': [{'mal_id': 101, 'type': 'manga...</td>\n",
       "      <td>TV Tokyo, Sotsu</td>\n",
       "      <td>NaN</td>\n",
       "      <td>Satelight</td>\n",
       "      <td>Comedy, Magic, School, Shoujo</td>\n",
       "      <td>['#1: \"Minna no Tamago (みんなのたまご)\" by Shugo Cha...</td>\n",
       "      <td>['#1: \"Rottara Rottara (ロッタラ ロッタラ)\" by Buono! ...</td>\n",
       "      <td>24.0</td>\n",
       "      <td>2008</td>\n",
       "    </tr>\n",
       "    <tr>\n",
       "      <th>3</th>\n",
       "      <td>721</td>\n",
       "      <td>Princess Tutu</td>\n",
       "      <td>Princess Tutu</td>\n",
       "      <td>プリンセスチュチュ</td>\n",
       "      <td>NaN</td>\n",
       "      <td>https://myanimelist.cdn-dena.com/images/anime/...</td>\n",
       "      <td>TV</td>\n",
       "      <td>Original</td>\n",
       "      <td>38</td>\n",
       "      <td>Finished Airing</td>\n",
       "      <td>...</td>\n",
       "      <td>Fridays at Unknown</td>\n",
       "      <td>{'Adaptation': [{'mal_id': 1581, 'type': 'mang...</td>\n",
       "      <td>Memory-Tech, GANSIS, Marvelous AQL</td>\n",
       "      <td>ADV Films</td>\n",
       "      <td>Hal Film Maker</td>\n",
       "      <td>Comedy, Drama, Magic, Romance, Fantasy</td>\n",
       "      <td>['\"Morning Grace\" by Ritsuko Okazaki']</td>\n",
       "      <td>['\"Watashi No Ai Wa Chiisaikeredo\" by Ritsuko ...</td>\n",
       "      <td>16.0</td>\n",
       "      <td>2002</td>\n",
       "    </tr>\n",
       "    <tr>\n",
       "      <th>4</th>\n",
       "      <td>12365</td>\n",
       "      <td>Bakuman. 3rd Season</td>\n",
       "      <td>Bakuman.</td>\n",
       "      <td>バクマン。</td>\n",
       "      <td>Bakuman Season 3</td>\n",
       "      <td>https://myanimelist.cdn-dena.com/images/anime/...</td>\n",
       "      <td>TV</td>\n",
       "      <td>Manga</td>\n",
       "      <td>25</td>\n",
       "      <td>Finished Airing</td>\n",
       "      <td>...</td>\n",
       "      <td>Unknown</td>\n",
       "      <td>{'Adaptation': [{'mal_id': 9711, 'type': 'mang...</td>\n",
       "      <td>NHK, Shueisha</td>\n",
       "      <td>NaN</td>\n",
       "      <td>J.C.Staff</td>\n",
       "      <td>Comedy, Drama, Romance, Shounen</td>\n",
       "      <td>['#1: \"Moshimo no Hanashi (もしもの話)\" by nano.RIP...</td>\n",
       "      <td>['#1: \"Pride on Everyday\" by Sphere (eps 1-13)...</td>\n",
       "      <td>24.0</td>\n",
       "      <td>2012</td>\n",
       "    </tr>\n",
       "  </tbody>\n",
       "</table>\n",
       "<p>5 rows × 33 columns</p>\n",
       "</div>"
      ],
      "text/plain": [
       "   anime_id                title              title_english title_japanese  \\\n",
       "0     11013        Inu x Boku SS  Inu X Boku Secret Service         妖狐×僕SS   \n",
       "1      2104     Seto no Hanayome      My Bride is a Mermaid          瀬戸の花嫁   \n",
       "2      5262   Shugo Chara!! Doki         Shugo Chara!! Doki    しゅごキャラ！！どきっ   \n",
       "3       721        Princess Tutu              Princess Tutu      プリンセスチュチュ   \n",
       "4     12365  Bakuman. 3rd Season                   Bakuman.          バクマン。   \n",
       "\n",
       "                                  title_synonyms  \\\n",
       "0                                Youko x Boku SS   \n",
       "1                           The Inland Sea Bride   \n",
       "2  Shugo Chara Ninenme, Shugo Chara! Second Year   \n",
       "3                                            NaN   \n",
       "4                               Bakuman Season 3   \n",
       "\n",
       "                                           image_url type    source  episodes  \\\n",
       "0  https://myanimelist.cdn-dena.com/images/anime/...   TV     Manga        12   \n",
       "1  https://myanimelist.cdn-dena.com/images/anime/...   TV     Manga        26   \n",
       "2  https://myanimelist.cdn-dena.com/images/anime/...   TV     Manga        51   \n",
       "3  https://myanimelist.cdn-dena.com/images/anime/...   TV  Original        38   \n",
       "4  https://myanimelist.cdn-dena.com/images/anime/...   TV     Manga        25   \n",
       "\n",
       "            status  ...           broadcast  \\\n",
       "0  Finished Airing  ...  Fridays at Unknown   \n",
       "1  Finished Airing  ...             Unknown   \n",
       "2  Finished Airing  ...             Unknown   \n",
       "3  Finished Airing  ...  Fridays at Unknown   \n",
       "4  Finished Airing  ...             Unknown   \n",
       "\n",
       "                                             related  \\\n",
       "0  {'Adaptation': [{'mal_id': 17207, 'type': 'man...   \n",
       "1  {'Adaptation': [{'mal_id': 759, 'type': 'manga...   \n",
       "2  {'Adaptation': [{'mal_id': 101, 'type': 'manga...   \n",
       "3  {'Adaptation': [{'mal_id': 1581, 'type': 'mang...   \n",
       "4  {'Adaptation': [{'mal_id': 9711, 'type': 'mang...   \n",
       "\n",
       "                                            producer          licensor  \\\n",
       "0  Aniplex, Square Enix, Mainichi Broadcasting Sy...  Sentai Filmworks   \n",
       "1                  TV Tokyo, AIC, Square Enix, Sotsu        Funimation   \n",
       "2                                    TV Tokyo, Sotsu               NaN   \n",
       "3                 Memory-Tech, GANSIS, Marvelous AQL         ADV Films   \n",
       "4                                      NHK, Shueisha               NaN   \n",
       "\n",
       "             studio                                     genre  \\\n",
       "0  David Production    Comedy, Supernatural, Romance, Shounen   \n",
       "1             Gonzo  Comedy, Parody, Romance, School, Shounen   \n",
       "2         Satelight             Comedy, Magic, School, Shoujo   \n",
       "3    Hal Film Maker    Comedy, Drama, Magic, Romance, Fantasy   \n",
       "4         J.C.Staff           Comedy, Drama, Romance, Shounen   \n",
       "\n",
       "                                       opening_theme  \\\n",
       "0                              ['\"Nirvana\" by MUCC']   \n",
       "1                 ['\"Romantic summer\" by SUN&LUNAR']   \n",
       "2  ['#1: \"Minna no Tamago (みんなのたまご)\" by Shugo Cha...   \n",
       "3             ['\"Morning Grace\" by Ritsuko Okazaki']   \n",
       "4  ['#1: \"Moshimo no Hanashi (もしもの話)\" by nano.RIP...   \n",
       "\n",
       "                                        ending_theme  duration_min  \\\n",
       "0  ['#1: \"Nirvana\" by MUCC (eps 1, 11-12)', '#2: ...          24.0   \n",
       "1  ['#1: \"Ashita e no Hikari (明日への光)\" by Asuka Hi...          24.0   \n",
       "2  ['#1: \"Rottara Rottara (ロッタラ ロッタラ)\" by Buono! ...          24.0   \n",
       "3  ['\"Watashi No Ai Wa Chiisaikeredo\" by Ritsuko ...          16.0   \n",
       "4  ['#1: \"Pride on Everyday\" by Sphere (eps 1-13)...          24.0   \n",
       "\n",
       "   aired_from_year  \n",
       "0             2012  \n",
       "1             2007  \n",
       "2             2008  \n",
       "3             2002  \n",
       "4             2012  \n",
       "\n",
       "[5 rows x 33 columns]"
      ]
     },
     "execution_count": 4,
     "metadata": {},
     "output_type": "execute_result"
    }
   ],
   "source": [
    "anime.head()"
   ]
  },
  {
   "cell_type": "markdown",
   "id": "8807d1b7-09ee-4a44-b33d-3f24dc7b9095",
   "metadata": {},
   "source": [
    "#### Visualizing Transformations\n",
    "\n",
    "pandas has a function called .hist() that works pretty well for data normalization visualization, because it just ignores missing values. \n",
    "\n",
    "That means that you don't need to do a whole lot of data cleaning.\n",
    "\n",
    "Here's how .hist() works:"
   ]
  },
  {
   "cell_type": "code",
   "execution_count": 24,
   "id": "7edbfa0d-98a3-4943-aeb9-404baf798b51",
   "metadata": {},
   "outputs": [
    {
     "data": {
      "text/plain": [
       "<AxesSubplot:>"
      ]
     },
     "execution_count": 24,
     "metadata": {},
     "output_type": "execute_result"
    },
    {
     "data": {
      "image/png": "[encoded data removed]",
      "text/plain": [
       "<Figure size 432x288 with 1 Axes>"
      ]
     },
     "metadata": {
      "needs_background": "light"
     },
     "output_type": "display_data"
    }
   ],
   "source": [
    "anime.aired_from_year.hist()"
   ]
  },
  {
   "cell_type": "markdown",
   "id": "ea6ad0d1-0a0c-4c67-bfd0-8caba7634b58",
   "metadata": {},
   "source": [
    "If you want a fitted curve, you'll need to pull from seaborn, using the distplot() function."
   ]
  },
  {
   "cell_type": "code",
   "execution_count": 25,
   "id": "0bba8891-61f8-4d23-9612-e6ca045f8064",
   "metadata": {},
   "outputs": [
    {
     "name": "stderr",
     "output_type": "stream",
     "text": [
      "C:\\Users\\nolan\\anaconda3\\lib\\site-packages\\seaborn\\distributions.py:2557: FutureWarning: `distplot` is a deprecated function and will be removed in a future version. Please adapt your code to use either `displot` (a figure-level function with similar flexibility) or `histplot` (an axes-level function for histograms).\n",
      "  warnings.warn(msg, FutureWarning)\n"
     ]
    },
    {
     "data": {
      "text/plain": [
       "<AxesSubplot:xlabel='aired_from_year', ylabel='Density'>"
      ]
     },
     "execution_count": 25,
     "metadata": {},
     "output_type": "execute_result"
    },
    {
     "data": {
      "image/png": "[encoded data removed]",
      "text/plain": [
       "<Figure size 432x288 with 1 Axes>"
      ]
     },
     "metadata": {
      "needs_background": "light"
     },
     "output_type": "display_data"
    }
   ],
   "source": [
    "sns.distplot(anime['aired_from_year'])"
   ]
  },
  {
   "cell_type": "markdown",
   "id": "f2d74d97-72b1-4d99-bf00-64c5de8e8f35",
   "metadata": {},
   "source": [
    "#### Transforming Positively Skewed Data\n",
    "\n",
    "Take a look at the scored_by variable:"
   ]
  },
  {
   "cell_type": "code",
   "execution_count": 26,
   "id": "ba488fc5-4990-4dd3-a360-3a6bc5340e32",
   "metadata": {},
   "outputs": [
    {
     "data": {
      "text/plain": [
       "<AxesSubplot:>"
      ]
     },
     "execution_count": 26,
     "metadata": {},
     "output_type": "execute_result"
    },
    {
     "data": {
      "image/png": "[encoded data removed]",
      "text/plain": [
       "<Figure size 432x288 with 1 Axes>"
      ]
     },
     "metadata": {
      "needs_background": "light"
     },
     "output_type": "display_data"
    }
   ],
   "source": [
    "anime.scored_by.hist()"
   ]
  },
  {
   "cell_type": "markdown",
   "id": "6658cc30-2be7-4732-8feb-d570de818a95",
   "metadata": {},
   "source": [
    "It is quite positively skewed!"
   ]
  },
  {
   "cell_type": "code",
   "execution_count": 27,
   "id": "09f3f744-8e64-4f34-a4df-06deef704437",
   "metadata": {},
   "outputs": [
    {
     "name": "stderr",
     "output_type": "stream",
     "text": [
      "C:\\Users\\nolan\\anaconda3\\lib\\site-packages\\seaborn\\distributions.py:2557: FutureWarning: `distplot` is a deprecated function and will be removed in a future version. Please adapt your code to use either `displot` (a figure-level function with similar flexibility) or `histplot` (an axes-level function for histograms).\n",
      "  warnings.warn(msg, FutureWarning)\n"
     ]
    },
    {
     "data": {
      "text/plain": [
       "<AxesSubplot:xlabel='scored_by', ylabel='Density'>"
      ]
     },
     "execution_count": 27,
     "metadata": {},
     "output_type": "execute_result"
    },
    {
     "data": {
      "image/png": "[encoded data removed]",
      "text/plain": [
       "<Figure size 432x288 with 1 Axes>"
      ]
     },
     "metadata": {
      "needs_background": "light"
     },
     "output_type": "display_data"
    }
   ],
   "source": [
    "## let's do a sns histogram, jsut to see the line\n",
    "sns.distplot(anime['scored_by'])\n",
    "## tail is to the the right - it looks to be positively skewed"
   ]
  },
  {
   "cell_type": "markdown",
   "id": "c230e69c-7ea7-4697-8626-786e6b0ecfb0",
   "metadata": {},
   "source": [
    "#### Using np.sqrt()\n",
    "\n",
    "So, try a square root transformation first, using the function from numpy called .sqrt():"
   ]
  },
  {
   "cell_type": "code",
   "execution_count": 28,
   "id": "8af2403c-87cf-4a2c-b88c-9abb18bc09c2",
   "metadata": {},
   "outputs": [],
   "source": [
    "anime['scored_bySQRT'] = np.sqrt(anime['scored_by'])"
   ]
  },
  {
   "cell_type": "code",
   "execution_count": 29,
   "id": "5cd165d2-4d15-498d-beb4-b4db4bca9b4b",
   "metadata": {},
   "outputs": [
    {
     "data": {
      "text/plain": [
       "<AxesSubplot:>"
      ]
     },
     "execution_count": 29,
     "metadata": {},
     "output_type": "execute_result"
    },
    {
     "data": {
      "image/png": "[encoded data removed]",
      "text/plain": [
       "<Figure size 432x288 with 1 Axes>"
      ]
     },
     "metadata": {
      "needs_background": "light"
     },
     "output_type": "display_data"
    }
   ],
   "source": [
    "anime.scored_bySQRT.hist()"
   ]
  },
  {
   "cell_type": "markdown",
   "id": "a70e3d1a-3bfe-4d2c-8915-23c582ce7d1b",
   "metadata": {},
   "source": [
    "Looking at the above graph, that is better, but still no where close to normal."
   ]
  },
  {
   "cell_type": "markdown",
   "id": "e0b741f8-f283-4899-a7f1-23c76288ddc1",
   "metadata": {},
   "source": [
    "#### Using np.log()\n",
    "\n",
    "So, try a log transformation!"
   ]
  },
  {
   "cell_type": "code",
   "execution_count": 30,
   "id": "98856ff6-edde-4346-952e-29b489f17240",
   "metadata": {},
   "outputs": [
    {
     "name": "stderr",
     "output_type": "stream",
     "text": [
      "C:\\Users\\nolan\\anaconda3\\lib\\site-packages\\pandas\\core\\arraylike.py:358: RuntimeWarning: divide by zero encountered in log\n",
      "  result = getattr(ufunc, method)(*inputs, **kwargs)\n"
     ]
    }
   ],
   "source": [
    "anime['scored_byLOG'] = np.log(anime['scored_by'])"
   ]
  },
  {
   "cell_type": "code",
   "execution_count": 31,
   "id": "92a1a5d7-1cf6-41bc-8ce6-553d44caf56b",
   "metadata": {},
   "outputs": [],
   "source": [
    "## looks like Python is telling us if we do this there be infinite values"
   ]
  },
  {
   "cell_type": "markdown",
   "id": "d3c74c51-cf94-485e-aa82-cef75884a4f7",
   "metadata": {},
   "source": [
    "#### Dealing with Infinite Data\n",
    "\n",
    "If you try and run the histogram of your log transformed data when you've been given a warning about infinite values, you will get this error\n",
    "\n",
    "But don't panic! There is a fix, and a relatively easy one at that. Dropping na values will also get rid of infinite values! Simply call the dropna() function on your dataset."
   ]
  },
  {
   "cell_type": "code",
   "execution_count": 32,
   "id": "0127a527-4026-4324-bc29-dae2bae115bd",
   "metadata": {},
   "outputs": [],
   "source": [
    "anime.dropna(inplace = True)\n",
    "## rerun the cell above"
   ]
  },
  {
   "cell_type": "code",
   "execution_count": 33,
   "id": "0683e819-9b8c-4d68-8307-8e69952f94a6",
   "metadata": {},
   "outputs": [
    {
     "data": {
      "text/plain": [
       "<AxesSubplot:>"
      ]
     },
     "execution_count": 33,
     "metadata": {},
     "output_type": "execute_result"
    },
    {
     "data": {
      "image/png": "[encoded data removed]",
      "text/plain": [
       "<Figure size 432x288 with 1 Axes>"
      ]
     },
     "metadata": {
      "needs_background": "light"
     },
     "output_type": "display_data"
    }
   ],
   "source": [
    "anime.scored_byLOG.hist()"
   ]
  },
  {
   "cell_type": "markdown",
   "id": "31606818-63a1-49fe-93e9-a07c10d0335c",
   "metadata": {},
   "source": [
    "That doesn't look too shabby! Not quite normal, but you'll take it."
   ]
  },
  {
   "cell_type": "markdown",
   "id": "ee4c1b14-5c2e-4e56-a12e-f4d7156bafa7",
   "metadata": {},
   "source": [
    "#### Transforming Negatively Skewed Data\n",
    "\n",
    "In order to transform negatively skewed data, you will either square or cube your data.\n",
    "\n",
    "##### Squaring the Variable\n",
    "\n",
    "How about trying to transform the aired_from_year variable that you looked at earlier? It had a relatively large negative skew to it. So, start by squaring your data. The ** means that you are raising the variable to a power of 2."
   ]
  },
  {
   "cell_type": "code",
   "execution_count": 34,
   "id": "5479bdd5-9cae-4bbd-ba66-2d64c5311404",
   "metadata": {},
   "outputs": [],
   "source": [
    "anime['aired_from_yearSQ'] = anime['aired_from_year']**2"
   ]
  },
  {
   "cell_type": "markdown",
   "id": "426766a5-8e86-402c-92a0-a1d8e48ae0e7",
   "metadata": {},
   "source": [
    "Then take a look at the histogram to assess your progress:"
   ]
  },
  {
   "cell_type": "code",
   "execution_count": 35,
   "id": "57da04e2-02c4-45c3-819c-bd952a209aac",
   "metadata": {},
   "outputs": [
    {
     "data": {
      "text/plain": [
       "<AxesSubplot:>"
      ]
     },
     "execution_count": 35,
     "metadata": {},
     "output_type": "execute_result"
    },
    {
     "data": {
      "image/png": "[encoded data removed]",
      "text/plain": [
       "<Figure size 432x288 with 1 Axes>"
      ]
     },
     "metadata": {
      "needs_background": "light"
     },
     "output_type": "display_data"
    }
   ],
   "source": [
    "anime.aired_from_yearSQ.hist()"
   ]
  },
  {
   "cell_type": "markdown",
   "id": "928da99d-6c7f-4abf-8bcd-e9cfc6108e97",
   "metadata": {},
   "source": [
    "##### Cubing the Variable\n",
    "\n",
    "The histogram above still does not look very normal, which means that it is time to try cubing it!"
   ]
  },
  {
   "cell_type": "code",
   "execution_count": 36,
   "id": "5ed3ecb1-9e66-4316-92fc-83d1b71c8fda",
   "metadata": {},
   "outputs": [],
   "source": [
    "anime['aired_from_yearCUBE'] = anime['aired_from_year']**3"
   ]
  },
  {
   "cell_type": "code",
   "execution_count": 37,
   "id": "f19f7183-53b0-4ee0-91b0-f1b2b0f4a66a",
   "metadata": {},
   "outputs": [
    {
     "data": {
      "text/plain": [
       "<AxesSubplot:>"
      ]
     },
     "execution_count": 37,
     "metadata": {},
     "output_type": "execute_result"
    },
    {
     "data": {
      "image/png": "[encoded data removed]",
      "text/plain": [
       "<Figure size 432x288 with 1 Axes>"
      ]
     },
     "metadata": {
      "needs_background": "light"
     },
     "output_type": "display_data"
    }
   ],
   "source": [
    "anime.aired_from_yearCUBE.hist()"
   ]
  },
  {
   "cell_type": "markdown",
   "id": "db7acf7f-f874-4219-9822-fed32a97c47d",
   "metadata": {},
   "source": [
    "This has not made a lot of impact, but it is slightly better than the original, so you most likely want to use the cubed transformation"
   ]
  },
  {
   "cell_type": "markdown",
   "id": "99368185-c8fa-46cb-b169-a67b9676d004",
   "metadata": {},
   "source": [
    "#### BoxCox Transformation\n",
    "\n",
    "Just like the Tukey's Ladder of Power Transformations in R, you can transform by power in Python as well. \n",
    "\n",
    "However, the Python version, called boxcox(), has limited functionality. \n",
    "\n",
    "It does not seem to work well for negatively skewed data (so check your results very carefully!), and it does not automatically transform your data, unlike R. It just runs off a power system.\n",
    "\n",
    "Then you can call the function into a new variable, like you have been doing"
   ]
  },
  {
   "cell_type": "code",
   "execution_count": 38,
   "id": "8fb6727b-7a1b-4b25-8316-883b32970de0",
   "metadata": {},
   "outputs": [],
   "source": [
    "anime['scored_byLOG1'] = boxcox(anime['scored_by'], 0)"
   ]
  },
  {
   "cell_type": "markdown",
   "id": "492e2d13-0885-46b1-a667-774ab78a0303",
   "metadata": {},
   "source": [
    "Use the boxcox() function, and specify the variable. Then the last argument is the power value that you learned about at the beginning of this lesson. A power of 0 is a log transformation.\n",
    "\n",
    "\n",
    "<img src=\"../media/common-transformations.png\" align=\"left\" alt=\"COE image\" width = \"600\">"
   ]
  },
  {
   "cell_type": "code",
   "execution_count": 39,
   "id": "8d636779-5d6e-49a8-af0e-8016f1bdcc84",
   "metadata": {},
   "outputs": [
    {
     "name": "stderr",
     "output_type": "stream",
     "text": [
      "C:\\Users\\nolan\\anaconda3\\lib\\site-packages\\seaborn\\distributions.py:2557: FutureWarning: `distplot` is a deprecated function and will be removed in a future version. Please adapt your code to use either `displot` (a figure-level function with similar flexibility) or `histplot` (an axes-level function for histograms).\n",
      "  warnings.warn(msg, FutureWarning)\n"
     ]
    },
    {
     "data": {
      "text/plain": [
       "<AxesSubplot:xlabel='scored_byLOG1', ylabel='Density'>"
      ]
     },
     "execution_count": 39,
     "metadata": {},
     "output_type": "execute_result"
    },
    {
     "data": {
      "image/png": "[encoded data removed]",
      "text/plain": [
       "<Figure size 432x288 with 1 Axes>"
      ]
     },
     "metadata": {
      "needs_background": "light"
     },
     "output_type": "display_data"
    }
   ],
   "source": [
    "sns.distplot(anime['scored_byLOG1'])\n",
    "## looks a bit more normal"
   ]
  },
  {
   "cell_type": "code",
   "execution_count": 40,
   "id": "6693d383-9018-4c3d-b48c-6579c1482466",
   "metadata": {},
   "outputs": [],
   "source": [
    "#### Page 8 (activity)"
   ]
  },
  {
   "cell_type": "markdown",
   "id": "b4ed2818-a84a-4a4f-94e7-8c6912b5de7b",
   "metadata": {},
   "source": [
    "Using the cruise ship data from last lesson, determine whether each continuous variable is positively skewed, negatively skewed, or normally distributed. Then perform the correct transformations to get as close to the normal distribution as possible for each variable."
   ]
  },
  {
   "cell_type": "code",
   "execution_count": 5,
   "id": "29d6797d-1fd5-4385-b07e-17f9d0c37a68",
   "metadata": {},
   "outputs": [],
   "source": [
    "cruise_ship = pd.read_excel('../../datasets/cruise_ship.xlsx')"
   ]
  },
  {
   "cell_type": "code",
   "execution_count": 6,
   "id": "8e7915fb-c53a-4bd7-9ea2-6fb0a57fe06d",
   "metadata": {},
   "outputs": [
    {
     "data": {
      "text/html": [
       "<div>\n",
       "<style scoped>\n",
       "    .dataframe tbody tr th:only-of-type {\n",
       "        vertical-align: middle;\n",
       "    }\n",
       "\n",
       "    .dataframe tbody tr th {\n",
       "        vertical-align: top;\n",
       "    }\n",
       "\n",
       "    .dataframe thead th {\n",
       "        text-align: right;\n",
       "    }\n",
       "</style>\n",
       "<table border=\"1\" class=\"dataframe\">\n",
       "  <thead>\n",
       "    <tr style=\"text-align: right;\">\n",
       "      <th></th>\n",
       "      <th>Ship</th>\n",
       "      <th>Line</th>\n",
       "      <th>YearBlt</th>\n",
       "      <th>Tonnage</th>\n",
       "      <th>passngrs</th>\n",
       "      <th>Length</th>\n",
       "      <th>Cabins</th>\n",
       "      <th>Crew</th>\n",
       "      <th>PassSpcR</th>\n",
       "      <th>outcab</th>\n",
       "    </tr>\n",
       "  </thead>\n",
       "  <tbody>\n",
       "    <tr>\n",
       "      <th>0</th>\n",
       "      <td>Journey</td>\n",
       "      <td>Azamara</td>\n",
       "      <td>2007</td>\n",
       "      <td>30277</td>\n",
       "      <td>694</td>\n",
       "      <td>594</td>\n",
       "      <td>355</td>\n",
       "      <td>355</td>\n",
       "      <td>42.64</td>\n",
       "      <td>329</td>\n",
       "    </tr>\n",
       "    <tr>\n",
       "      <th>1</th>\n",
       "      <td>Quest</td>\n",
       "      <td>Azamara</td>\n",
       "      <td>2007</td>\n",
       "      <td>30277</td>\n",
       "      <td>694</td>\n",
       "      <td>594</td>\n",
       "      <td>355</td>\n",
       "      <td>355</td>\n",
       "      <td>42.64</td>\n",
       "      <td>329</td>\n",
       "    </tr>\n",
       "    <tr>\n",
       "      <th>2</th>\n",
       "      <td>Celebration</td>\n",
       "      <td>Carnival</td>\n",
       "      <td>1987</td>\n",
       "      <td>47262</td>\n",
       "      <td>1486</td>\n",
       "      <td>722</td>\n",
       "      <td>743</td>\n",
       "      <td>670</td>\n",
       "      <td>31.80</td>\n",
       "      <td>453</td>\n",
       "    </tr>\n",
       "    <tr>\n",
       "      <th>3</th>\n",
       "      <td>Conquest</td>\n",
       "      <td>Carnival</td>\n",
       "      <td>2002</td>\n",
       "      <td>110000</td>\n",
       "      <td>2974</td>\n",
       "      <td>953</td>\n",
       "      <td>1488</td>\n",
       "      <td>1910</td>\n",
       "      <td>36.99</td>\n",
       "      <td>892</td>\n",
       "    </tr>\n",
       "    <tr>\n",
       "      <th>4</th>\n",
       "      <td>Destiny</td>\n",
       "      <td>Carnival</td>\n",
       "      <td>1996</td>\n",
       "      <td>101353</td>\n",
       "      <td>2642</td>\n",
       "      <td>892</td>\n",
       "      <td>1321</td>\n",
       "      <td>1000</td>\n",
       "      <td>38.36</td>\n",
       "      <td>740</td>\n",
       "    </tr>\n",
       "  </tbody>\n",
       "</table>\n",
       "</div>"
      ],
      "text/plain": [
       "          Ship      Line  YearBlt  Tonnage  passngrs  Length  Cabins  Crew  \\\n",
       "0      Journey   Azamara     2007    30277       694     594     355   355   \n",
       "1        Quest   Azamara     2007    30277       694     594     355   355   \n",
       "2  Celebration  Carnival     1987    47262      1486     722     743   670   \n",
       "3     Conquest  Carnival     2002   110000      2974     953    1488  1910   \n",
       "4      Destiny  Carnival     1996   101353      2642     892    1321  1000   \n",
       "\n",
       "   PassSpcR  outcab  \n",
       "0     42.64     329  \n",
       "1     42.64     329  \n",
       "2     31.80     453  \n",
       "3     36.99     892  \n",
       "4     38.36     740  "
      ]
     },
     "execution_count": 6,
     "metadata": {},
     "output_type": "execute_result"
    }
   ],
   "source": [
    "cruise_ship.head()"
   ]
  },
  {
   "cell_type": "markdown",
   "id": "45a06eaf-c2df-4894-97c3-3113f9383818",
   "metadata": {},
   "source": [
    "#### Look at all distributions of continuous variables"
   ]
  },
  {
   "cell_type": "code",
   "execution_count": 43,
   "id": "0d472ee1-16b7-43b5-9361-e7432f819f24",
   "metadata": {},
   "outputs": [
    {
     "name": "stderr",
     "output_type": "stream",
     "text": [
      "C:\\Users\\nolan\\anaconda3\\lib\\site-packages\\seaborn\\distributions.py:2557: FutureWarning: `distplot` is a deprecated function and will be removed in a future version. Please adapt your code to use either `displot` (a figure-level function with similar flexibility) or `histplot` (an axes-level function for histograms).\n",
      "  warnings.warn(msg, FutureWarning)\n"
     ]
    },
    {
     "data": {
      "text/plain": [
       "<AxesSubplot:xlabel='YearBlt', ylabel='Density'>"
      ]
     },
     "execution_count": 43,
     "metadata": {},
     "output_type": "execute_result"
    },
    {
     "data": {
      "image/png": "[encoded data removed]",
      "text/plain": [
       "<Figure size 432x288 with 1 Axes>"
      ]
     },
     "metadata": {
      "needs_background": "light"
     },
     "output_type": "display_data"
    }
   ],
   "source": [
    "sns.distplot(cruise_ship['YearBlt'])\n",
    "## looks negatively skewed"
   ]
  },
  {
   "cell_type": "markdown",
   "id": "3e85449f-3126-4057-af0f-46f79660d444",
   "metadata": {},
   "source": [
    "##### transforming YearBlt"
   ]
  },
  {
   "cell_type": "code",
   "execution_count": 44,
   "id": "8ee8c393-f38f-4ec6-b012-dfc128ee965c",
   "metadata": {},
   "outputs": [],
   "source": [
    "cruise_ship['YearBltSQ'] = cruise_ship['YearBlt']**2"
   ]
  },
  {
   "cell_type": "code",
   "execution_count": 45,
   "id": "be0135c4-9765-4f47-97ec-2f72c7595c1a",
   "metadata": {},
   "outputs": [
    {
     "name": "stderr",
     "output_type": "stream",
     "text": [
      "C:\\Users\\nolan\\anaconda3\\lib\\site-packages\\seaborn\\distributions.py:2557: FutureWarning: `distplot` is a deprecated function and will be removed in a future version. Please adapt your code to use either `displot` (a figure-level function with similar flexibility) or `histplot` (an axes-level function for histograms).\n",
      "  warnings.warn(msg, FutureWarning)\n"
     ]
    },
    {
     "data": {
      "text/plain": [
       "<AxesSubplot:xlabel='YearBltSQ', ylabel='Density'>"
      ]
     },
     "execution_count": 45,
     "metadata": {},
     "output_type": "execute_result"
    },
    {
     "data": {
      "image/png": "[encoded data removed]",
      "text/plain": [
       "<Figure size 432x288 with 1 Axes>"
      ]
     },
     "metadata": {
      "needs_background": "light"
     },
     "output_type": "display_data"
    }
   ],
   "source": [
    "sns.distplot(cruise_ship['YearBltSQ'])"
   ]
  },
  {
   "cell_type": "code",
   "execution_count": 46,
   "id": "ba677b78-f474-4481-b2a4-1ca949a44f91",
   "metadata": {},
   "outputs": [],
   "source": [
    "cruise_ship['YearBltCUBE'] = cruise_ship['YearBlt']**3"
   ]
  },
  {
   "cell_type": "code",
   "execution_count": 47,
   "id": "6df3c2e4-5dde-4571-9515-9978b76dd6bd",
   "metadata": {},
   "outputs": [
    {
     "name": "stderr",
     "output_type": "stream",
     "text": [
      "C:\\Users\\nolan\\anaconda3\\lib\\site-packages\\seaborn\\distributions.py:2557: FutureWarning: `distplot` is a deprecated function and will be removed in a future version. Please adapt your code to use either `displot` (a figure-level function with similar flexibility) or `histplot` (an axes-level function for histograms).\n",
      "  warnings.warn(msg, FutureWarning)\n"
     ]
    },
    {
     "data": {
      "text/plain": [
       "<AxesSubplot:xlabel='YearBltCUBE', ylabel='Density'>"
      ]
     },
     "execution_count": 47,
     "metadata": {},
     "output_type": "execute_result"
    },
    {
     "data": {
      "image/png": "[encoded data removed]",
      "text/plain": [
       "<Figure size 432x288 with 1 Axes>"
      ]
     },
     "metadata": {
      "needs_background": "light"
     },
     "output_type": "display_data"
    }
   ],
   "source": [
    "sns.distplot(cruise_ship['YearBltCUBE'])\n",
    "## about as normal as we can get it"
   ]
  },
  {
   "cell_type": "markdown",
   "id": "c5731ab3-b9fd-4cd0-9d5d-3de14cbc69f1",
   "metadata": {},
   "source": [
    "##### Tonnage"
   ]
  },
  {
   "cell_type": "code",
   "execution_count": 48,
   "id": "e175bc14-2c94-4f12-bec3-78c994be2b22",
   "metadata": {},
   "outputs": [
    {
     "name": "stderr",
     "output_type": "stream",
     "text": [
      "C:\\Users\\nolan\\anaconda3\\lib\\site-packages\\seaborn\\distributions.py:2557: FutureWarning: `distplot` is a deprecated function and will be removed in a future version. Please adapt your code to use either `displot` (a figure-level function with similar flexibility) or `histplot` (an axes-level function for histograms).\n",
      "  warnings.warn(msg, FutureWarning)\n"
     ]
    },
    {
     "data": {
      "text/plain": [
       "<AxesSubplot:xlabel='Tonnage', ylabel='Density'>"
      ]
     },
     "execution_count": 48,
     "metadata": {},
     "output_type": "execute_result"
    },
    {
     "data": {
      "image/png": "[encoded data removed]",
      "text/plain": [
       "<Figure size 432x288 with 1 Axes>"
      ]
     },
     "metadata": {
      "needs_background": "light"
     },
     "output_type": "display_data"
    }
   ],
   "source": [
    "sns.distplot(cruise_ship['Tonnage'])\n",
    "## positively skewed"
   ]
  },
  {
   "cell_type": "code",
   "execution_count": 49,
   "id": "5cdec09a-e83c-4f3a-aca9-5df034392fc3",
   "metadata": {},
   "outputs": [],
   "source": [
    "cruise_ship['TonnageSQRT'] = np.sqrt(cruise_ship['Tonnage'])"
   ]
  },
  {
   "cell_type": "code",
   "execution_count": 50,
   "id": "7ccbbb90-f909-4bcb-b43a-7a5e3f3bbf1f",
   "metadata": {},
   "outputs": [
    {
     "name": "stderr",
     "output_type": "stream",
     "text": [
      "C:\\Users\\nolan\\anaconda3\\lib\\site-packages\\seaborn\\distributions.py:2557: FutureWarning: `distplot` is a deprecated function and will be removed in a future version. Please adapt your code to use either `displot` (a figure-level function with similar flexibility) or `histplot` (an axes-level function for histograms).\n",
      "  warnings.warn(msg, FutureWarning)\n"
     ]
    },
    {
     "data": {
      "text/plain": [
       "<AxesSubplot:xlabel='TonnageSQRT', ylabel='Density'>"
      ]
     },
     "execution_count": 50,
     "metadata": {},
     "output_type": "execute_result"
    },
    {
     "data": {
      "image/png": "[encoded data removed]",
      "text/plain": [
       "<Figure size 432x288 with 1 Axes>"
      ]
     },
     "metadata": {
      "needs_background": "light"
     },
     "output_type": "display_data"
    }
   ],
   "source": [
    "sns.distplot(cruise_ship['TonnageSQRT'])\n",
    "## looks more normal now"
   ]
  },
  {
   "cell_type": "markdown",
   "id": "93bf9126-6ec9-4b10-bba5-71bb7db2b0d8",
   "metadata": {},
   "source": [
    "##### passngrs"
   ]
  },
  {
   "cell_type": "code",
   "execution_count": 51,
   "id": "76ff2aec-a6b5-4574-834b-7f4c91cab768",
   "metadata": {},
   "outputs": [
    {
     "name": "stderr",
     "output_type": "stream",
     "text": [
      "C:\\Users\\nolan\\anaconda3\\lib\\site-packages\\seaborn\\distributions.py:2557: FutureWarning: `distplot` is a deprecated function and will be removed in a future version. Please adapt your code to use either `displot` (a figure-level function with similar flexibility) or `histplot` (an axes-level function for histograms).\n",
      "  warnings.warn(msg, FutureWarning)\n"
     ]
    },
    {
     "data": {
      "text/plain": [
       "<AxesSubplot:xlabel='passngrs', ylabel='Density'>"
      ]
     },
     "execution_count": 51,
     "metadata": {},
     "output_type": "execute_result"
    },
    {
     "data": {
      "image/png": "[encoded data removed]",
      "text/plain": [
       "<Figure size 432x288 with 1 Axes>"
      ]
     },
     "metadata": {
      "needs_background": "light"
     },
     "output_type": "display_data"
    }
   ],
   "source": [
    "sns.distplot(cruise_ship['passngrs'])\n",
    "## positively skewed"
   ]
  },
  {
   "cell_type": "code",
   "execution_count": 52,
   "id": "61eae38b-3825-4fb5-aa57-eeb81760abb5",
   "metadata": {},
   "outputs": [],
   "source": [
    "cruise_ship['passngrsSQRT'] = np.sqrt(cruise_ship['passngrs'])"
   ]
  },
  {
   "cell_type": "code",
   "execution_count": 53,
   "id": "474d0d6a-3593-4e82-8be8-b1b85fd5e47f",
   "metadata": {},
   "outputs": [
    {
     "name": "stderr",
     "output_type": "stream",
     "text": [
      "C:\\Users\\nolan\\anaconda3\\lib\\site-packages\\seaborn\\distributions.py:2557: FutureWarning: `distplot` is a deprecated function and will be removed in a future version. Please adapt your code to use either `displot` (a figure-level function with similar flexibility) or `histplot` (an axes-level function for histograms).\n",
      "  warnings.warn(msg, FutureWarning)\n"
     ]
    },
    {
     "data": {
      "text/plain": [
       "<AxesSubplot:xlabel='passngrsSQRT', ylabel='Density'>"
      ]
     },
     "execution_count": 53,
     "metadata": {},
     "output_type": "execute_result"
    },
    {
     "data": {
      "image/png": "[encoded data removed]",
      "text/plain": [
       "<Figure size 432x288 with 1 Axes>"
      ]
     },
     "metadata": {
      "needs_background": "light"
     },
     "output_type": "display_data"
    }
   ],
   "source": [
    "sns.distplot(cruise_ship['passngrsSQRT'])\n",
    "## looks more normally distributed now"
   ]
  },
  {
   "cell_type": "markdown",
   "id": "86f4949d-e805-47f8-b525-4bd1b3496b3d",
   "metadata": {},
   "source": [
    "##### Length"
   ]
  },
  {
   "cell_type": "code",
   "execution_count": 54,
   "id": "5d6e6a4f-5890-4ec1-9eb0-09a3f686b07b",
   "metadata": {},
   "outputs": [
    {
     "name": "stderr",
     "output_type": "stream",
     "text": [
      "C:\\Users\\nolan\\anaconda3\\lib\\site-packages\\seaborn\\distributions.py:2557: FutureWarning: `distplot` is a deprecated function and will be removed in a future version. Please adapt your code to use either `displot` (a figure-level function with similar flexibility) or `histplot` (an axes-level function for histograms).\n",
      "  warnings.warn(msg, FutureWarning)\n"
     ]
    },
    {
     "data": {
      "text/plain": [
       "<AxesSubplot:xlabel='Length', ylabel='Density'>"
      ]
     },
     "execution_count": 54,
     "metadata": {},
     "output_type": "execute_result"
    },
    {
     "data": {
      "image/png": "[encoded data removed]",
      "text/plain": [
       "<Figure size 432x288 with 1 Axes>"
      ]
     },
     "metadata": {
      "needs_background": "light"
     },
     "output_type": "display_data"
    }
   ],
   "source": [
    "sns.distplot(cruise_ship['Length'])\n",
    "## negatively skewed"
   ]
  },
  {
   "cell_type": "code",
   "execution_count": 55,
   "id": "02e5a8d1-65b8-4ee7-b322-85882758f639",
   "metadata": {},
   "outputs": [],
   "source": [
    "cruise_ship['LengthSQ'] = cruise_ship['Length']**2"
   ]
  },
  {
   "cell_type": "code",
   "execution_count": 56,
   "id": "68cf442b-6e81-4563-89ad-634e1041746a",
   "metadata": {},
   "outputs": [
    {
     "name": "stderr",
     "output_type": "stream",
     "text": [
      "C:\\Users\\nolan\\anaconda3\\lib\\site-packages\\seaborn\\distributions.py:2557: FutureWarning: `distplot` is a deprecated function and will be removed in a future version. Please adapt your code to use either `displot` (a figure-level function with similar flexibility) or `histplot` (an axes-level function for histograms).\n",
      "  warnings.warn(msg, FutureWarning)\n"
     ]
    },
    {
     "data": {
      "text/plain": [
       "<AxesSubplot:xlabel='LengthSQ', ylabel='Density'>"
      ]
     },
     "execution_count": 56,
     "metadata": {},
     "output_type": "execute_result"
    },
    {
     "data": {
      "image/png": "[encoded data removed]",
      "text/plain": [
       "<Figure size 432x288 with 1 Axes>"
      ]
     },
     "metadata": {
      "needs_background": "light"
     },
     "output_type": "display_data"
    }
   ],
   "source": [
    "sns.distplot(cruise_ship['LengthSQ'])\n",
    "## maybe it is slightly more normal, arguably the same though"
   ]
  },
  {
   "cell_type": "markdown",
   "id": "859ba595-3d4f-4c93-8423-5e405c16c91e",
   "metadata": {},
   "source": [
    "##### Cabins"
   ]
  },
  {
   "cell_type": "code",
   "execution_count": 57,
   "id": "2f6e6623-86c3-427a-bcc8-38be073cbbda",
   "metadata": {},
   "outputs": [
    {
     "name": "stderr",
     "output_type": "stream",
     "text": [
      "C:\\Users\\nolan\\anaconda3\\lib\\site-packages\\seaborn\\distributions.py:2557: FutureWarning: `distplot` is a deprecated function and will be removed in a future version. Please adapt your code to use either `displot` (a figure-level function with similar flexibility) or `histplot` (an axes-level function for histograms).\n",
      "  warnings.warn(msg, FutureWarning)\n"
     ]
    },
    {
     "data": {
      "text/plain": [
       "<AxesSubplot:xlabel='Cabins', ylabel='Density'>"
      ]
     },
     "execution_count": 57,
     "metadata": {},
     "output_type": "execute_result"
    },
    {
     "data": {
      "image/png": "[encoded data removed]",
      "text/plain": [
       "<Figure size 432x288 with 1 Axes>"
      ]
     },
     "metadata": {
      "needs_background": "light"
     },
     "output_type": "display_data"
    }
   ],
   "source": [
    "sns.distplot(cruise_ship['Cabins'])\n",
    "## positively skewed"
   ]
  },
  {
   "cell_type": "code",
   "execution_count": 58,
   "id": "eed6dc6c-cc84-4316-86fa-dcf2423e31bc",
   "metadata": {},
   "outputs": [],
   "source": [
    "cruise_ship['CabinsSQRT'] = np.sqrt(cruise_ship['Cabins'])"
   ]
  },
  {
   "cell_type": "code",
   "execution_count": 59,
   "id": "e551cc2f-a31b-4c7b-8b0c-076e0eabb2a3",
   "metadata": {},
   "outputs": [
    {
     "name": "stderr",
     "output_type": "stream",
     "text": [
      "C:\\Users\\nolan\\anaconda3\\lib\\site-packages\\seaborn\\distributions.py:2557: FutureWarning: `distplot` is a deprecated function and will be removed in a future version. Please adapt your code to use either `displot` (a figure-level function with similar flexibility) or `histplot` (an axes-level function for histograms).\n",
      "  warnings.warn(msg, FutureWarning)\n"
     ]
    },
    {
     "data": {
      "text/plain": [
       "<AxesSubplot:xlabel='CabinsSQRT', ylabel='Density'>"
      ]
     },
     "execution_count": 59,
     "metadata": {},
     "output_type": "execute_result"
    },
    {
     "data": {
      "image/png": "[encoded data removed]",
      "text/plain": [
       "<Figure size 432x288 with 1 Axes>"
      ]
     },
     "metadata": {
      "needs_background": "light"
     },
     "output_type": "display_data"
    }
   ],
   "source": [
    "sns.distplot(cruise_ship['CabinsSQRT'])\n",
    "## little more filled in and normal looking now"
   ]
  },
  {
   "cell_type": "markdown",
   "id": "3de785e2-b060-4280-a8d2-41d7bd70cbf9",
   "metadata": {},
   "source": [
    "##### Crew"
   ]
  },
  {
   "cell_type": "code",
   "execution_count": 60,
   "id": "7a059908-d2f7-4239-b66a-3ff04c4fa200",
   "metadata": {},
   "outputs": [
    {
     "name": "stderr",
     "output_type": "stream",
     "text": [
      "C:\\Users\\nolan\\anaconda3\\lib\\site-packages\\seaborn\\distributions.py:2557: FutureWarning: `distplot` is a deprecated function and will be removed in a future version. Please adapt your code to use either `displot` (a figure-level function with similar flexibility) or `histplot` (an axes-level function for histograms).\n",
      "  warnings.warn(msg, FutureWarning)\n"
     ]
    },
    {
     "data": {
      "text/plain": [
       "<AxesSubplot:xlabel='Crew', ylabel='Density'>"
      ]
     },
     "execution_count": 60,
     "metadata": {},
     "output_type": "execute_result"
    },
    {
     "data": {
      "image/png": "[encoded data removed]",
      "text/plain": [
       "<Figure size 432x288 with 1 Axes>"
      ]
     },
     "metadata": {
      "needs_background": "light"
     },
     "output_type": "display_data"
    }
   ],
   "source": [
    "sns.distplot(cruise_ship['Crew'])\n",
    "## positively skewed"
   ]
  },
  {
   "cell_type": "code",
   "execution_count": 61,
   "id": "513aad5c-1b8f-4949-8c0b-73f6fb81c498",
   "metadata": {},
   "outputs": [],
   "source": [
    "cruise_ship['CrewSQRT'] = np.sqrt(cruise_ship['Crew'])"
   ]
  },
  {
   "cell_type": "code",
   "execution_count": 62,
   "id": "7f9eb1b4-109a-4d22-832b-955b518ebc9c",
   "metadata": {},
   "outputs": [
    {
     "name": "stderr",
     "output_type": "stream",
     "text": [
      "C:\\Users\\nolan\\anaconda3\\lib\\site-packages\\seaborn\\distributions.py:2557: FutureWarning: `distplot` is a deprecated function and will be removed in a future version. Please adapt your code to use either `displot` (a figure-level function with similar flexibility) or `histplot` (an axes-level function for histograms).\n",
      "  warnings.warn(msg, FutureWarning)\n"
     ]
    },
    {
     "data": {
      "text/plain": [
       "<AxesSubplot:xlabel='CrewSQRT', ylabel='Density'>"
      ]
     },
     "execution_count": 62,
     "metadata": {},
     "output_type": "execute_result"
    },
    {
     "data": {
      "image/png": "[encoded data removed]",
      "text/plain": [
       "<Figure size 432x288 with 1 Axes>"
      ]
     },
     "metadata": {
      "needs_background": "light"
     },
     "output_type": "display_data"
    }
   ],
   "source": [
    "sns.distplot(cruise_ship['CrewSQRT'])\n",
    "## a little more normal"
   ]
  },
  {
   "cell_type": "markdown",
   "id": "287ffc25-d75b-4779-85b7-81540e4be5d5",
   "metadata": {},
   "source": [
    "##### PassSpcR"
   ]
  },
  {
   "cell_type": "code",
   "execution_count": 65,
   "id": "4f714196-9589-4ca5-961b-5e2cc3ff75e5",
   "metadata": {},
   "outputs": [
    {
     "name": "stderr",
     "output_type": "stream",
     "text": [
      "C:\\Users\\nolan\\anaconda3\\lib\\site-packages\\seaborn\\distributions.py:2557: FutureWarning: `distplot` is a deprecated function and will be removed in a future version. Please adapt your code to use either `displot` (a figure-level function with similar flexibility) or `histplot` (an axes-level function for histograms).\n",
      "  warnings.warn(msg, FutureWarning)\n"
     ]
    },
    {
     "data": {
      "text/plain": [
       "<AxesSubplot:xlabel='PassSpcR', ylabel='Density'>"
      ]
     },
     "execution_count": 65,
     "metadata": {},
     "output_type": "execute_result"
    },
    {
     "data": {
      "image/png": "[encoded data removed]",
      "text/plain": [
       "<Figure size 432x288 with 1 Axes>"
      ]
     },
     "metadata": {
      "needs_background": "light"
     },
     "output_type": "display_data"
    }
   ],
   "source": [
    "sns.distplot(cruise_ship['PassSpcR'])\n",
    "## pretty close to normal, but it is positively skewed"
   ]
  },
  {
   "cell_type": "code",
   "execution_count": 66,
   "id": "0bb48f95-ddbc-4af4-a3bc-aafbeb3a02e8",
   "metadata": {},
   "outputs": [],
   "source": [
    "cruise_ship['PassSpcRsqrt'] = np.sqrt(cruise_ship['PassSpcR'])"
   ]
  },
  {
   "cell_type": "code",
   "execution_count": 68,
   "id": "038b5839-a651-4d0e-b335-2f5a7a43dce6",
   "metadata": {},
   "outputs": [
    {
     "name": "stderr",
     "output_type": "stream",
     "text": [
      "C:\\Users\\nolan\\anaconda3\\lib\\site-packages\\seaborn\\distributions.py:2557: FutureWarning: `distplot` is a deprecated function and will be removed in a future version. Please adapt your code to use either `displot` (a figure-level function with similar flexibility) or `histplot` (an axes-level function for histograms).\n",
      "  warnings.warn(msg, FutureWarning)\n"
     ]
    },
    {
     "data": {
      "text/plain": [
       "<AxesSubplot:xlabel='PassSpcRsqrt', ylabel='Density'>"
      ]
     },
     "execution_count": 68,
     "metadata": {},
     "output_type": "execute_result"
    },
    {
     "data": {
      "image/png": "[encoded data removed]",
      "text/plain": [
       "<Figure size 432x288 with 1 Axes>"
      ]
     },
     "metadata": {
      "needs_background": "light"
     },
     "output_type": "display_data"
    }
   ],
   "source": [
    "sns.distplot(cruise_ship['PassSpcRsqrt'])\n",
    "## maybe a little more normal looking"
   ]
  },
  {
   "cell_type": "markdown",
   "id": "ca132f24-950f-4e4d-b9a4-9ed753eafab4",
   "metadata": {},
   "source": [
    "##### outcab"
   ]
  },
  {
   "cell_type": "code",
   "execution_count": 71,
   "id": "40f1fdde-e280-49f3-bae1-7ac9ceb150af",
   "metadata": {},
   "outputs": [
    {
     "name": "stderr",
     "output_type": "stream",
     "text": [
      "C:\\Users\\nolan\\anaconda3\\lib\\site-packages\\seaborn\\distributions.py:2557: FutureWarning: `distplot` is a deprecated function and will be removed in a future version. Please adapt your code to use either `displot` (a figure-level function with similar flexibility) or `histplot` (an axes-level function for histograms).\n",
      "  warnings.warn(msg, FutureWarning)\n"
     ]
    },
    {
     "data": {
      "text/plain": [
       "<AxesSubplot:xlabel='outcab', ylabel='Density'>"
      ]
     },
     "execution_count": 71,
     "metadata": {},
     "output_type": "execute_result"
    },
    {
     "data": {
      "image/png": "[encoded data removed]",
      "text/plain": [
       "<Figure size 432x288 with 1 Axes>"
      ]
     },
     "metadata": {
      "needs_background": "light"
     },
     "output_type": "display_data"
    }
   ],
   "source": [
    "sns.distplot(cruise_ship['outcab'])\n",
    "## positively skewed"
   ]
  },
  {
   "cell_type": "code",
   "execution_count": 72,
   "id": "6c83ba33-1408-4641-a7bd-dfdb282b4126",
   "metadata": {},
   "outputs": [],
   "source": [
    "cruise_ship['outcabSQRT'] = np.sqrt(cruise_ship['outcab'])"
   ]
  },
  {
   "cell_type": "code",
   "execution_count": 74,
   "id": "5a2dba15-9be5-40bb-8899-81df0ceaa99f",
   "metadata": {},
   "outputs": [
    {
     "name": "stderr",
     "output_type": "stream",
     "text": [
      "C:\\Users\\nolan\\anaconda3\\lib\\site-packages\\seaborn\\distributions.py:2557: FutureWarning: `distplot` is a deprecated function and will be removed in a future version. Please adapt your code to use either `displot` (a figure-level function with similar flexibility) or `histplot` (an axes-level function for histograms).\n",
      "  warnings.warn(msg, FutureWarning)\n"
     ]
    },
    {
     "data": {
      "text/plain": [
       "<AxesSubplot:xlabel='outcabSQRT', ylabel='Density'>"
      ]
     },
     "execution_count": 74,
     "metadata": {},
     "output_type": "execute_result"
    },
    {
     "data": {
      "image/png": "[encoded data removed]",
      "text/plain": [
       "<Figure size 432x288 with 1 Axes>"
      ]
     },
     "metadata": {
      "needs_background": "light"
     },
     "output_type": "display_data"
    }
   ],
   "source": [
    "sns.distplot(cruise_ship['outcabSQRT'])\n",
    "## a little more normal"
   ]
  },
  {
   "cell_type": "markdown",
   "id": "2b053303-cdc5-4bb3-8d75-e6e734fe3eb2",
   "metadata": {},
   "source": [
    "## playing around with new .displot"
   ]
  },
  {
   "cell_type": "code",
   "execution_count": 77,
   "id": "d5a645a0-5cc1-46c5-8c86-8acce8670e76",
   "metadata": {},
   "outputs": [
    {
     "data": {
      "text/plain": [
       "<seaborn.axisgrid.FacetGrid at 0x215d51eaa90>"
      ]
     },
     "execution_count": 77,
     "metadata": {},
     "output_type": "execute_result"
    },
    {
     "data": {
      "image/png": "[encoded data removed]",
      "text/plain": [
       "<Figure size 360x360 with 1 Axes>"
      ]
     },
     "metadata": {
      "needs_background": "light"
     },
     "output_type": "display_data"
    }
   ],
   "source": [
    "sns.displot(data = cruise_ship, x = \"Tonnage\", kde=True)\n",
    "## this will be place .distplot"
   ]
  },
  {
   "cell_type": "code",
   "execution_count": 80,
   "id": "daa9c639-d1f8-4b69-b3c8-b342cf80ac55",
   "metadata": {},
   "outputs": [
    {
     "data": {
      "text/plain": [
       "<seaborn.axisgrid.FacetGrid at 0x215d5453f70>"
      ]
     },
     "execution_count": 80,
     "metadata": {},
     "output_type": "execute_result"
    },
    {
     "data": {
      "image/png": "[encoded data removed]",
      "text/plain": [
       "<Figure size 360x360 with 1 Axes>"
      ]
     },
     "metadata": {
      "needs_background": "light"
     },
     "output_type": "display_data"
    }
   ],
   "source": [
    "sns.displot(data = cruise_ship, x = \"YearBlt\", kde = True) ## negatively skewed"
   ]
  },
  {
   "cell_type": "code",
   "execution_count": 81,
   "id": "327cf64a-5a9e-44aa-9940-f8e7067482b0",
   "metadata": {},
   "outputs": [
    {
     "name": "stderr",
     "output_type": "stream",
     "text": [
      "C:\\Users\\nolan\\anaconda3\\lib\\site-packages\\seaborn\\distributions.py:306: UserWarning: Dataset has 0 variance; skipping density estimate.\n",
      "  warnings.warn(msg, UserWarning)\n",
      "C:\\Users\\nolan\\anaconda3\\lib\\site-packages\\seaborn\\distributions.py:306: UserWarning: Dataset has 0 variance; skipping density estimate.\n",
      "  warnings.warn(msg, UserWarning)\n",
      "C:\\Users\\nolan\\anaconda3\\lib\\site-packages\\seaborn\\distributions.py:306: UserWarning: Dataset has 0 variance; skipping density estimate.\n",
      "  warnings.warn(msg, UserWarning)\n",
      "C:\\Users\\nolan\\anaconda3\\lib\\site-packages\\seaborn\\distributions.py:306: UserWarning: Dataset has 0 variance; skipping density estimate.\n",
      "  warnings.warn(msg, UserWarning)\n"
     ]
    },
    {
     "data": {
      "text/plain": [
       "<seaborn.axisgrid.FacetGrid at 0x215d5288a60>"
      ]
     },
     "execution_count": 81,
     "metadata": {},
     "output_type": "execute_result"
    },
    {
     "data": {
      "image/png": "[encoded data removed]",
      "text/plain": [
       "<Figure size 492x360 with 1 Axes>"
      ]
     },
     "metadata": {
      "needs_background": "light"
     },
     "output_type": "display_data"
    }
   ],
   "source": [
    "sns.displot(data = cruise_ship, x=\"Tonnage\", hue=\"Line\", kind=\"kde\")"
   ]
  },
  {
   "cell_type": "code",
   "execution_count": 82,
   "id": "c344e3ef-6b92-4a0f-9b1e-a73bcc12e2da",
   "metadata": {},
   "outputs": [
    {
     "data": {
      "text/plain": [
       "<seaborn.axisgrid.FacetGrid at 0x215d54251c0>"
      ]
     },
     "execution_count": 82,
     "metadata": {},
     "output_type": "execute_result"
    },
    {
     "data": {
      "image/png": "[encoded data removed]",
      "text/plain": [
       "<Figure size 492x360 with 1 Axes>"
      ]
     },
     "metadata": {
      "needs_background": "light"
     },
     "output_type": "display_data"
    }
   ],
   "source": [
    "sns.displot(data = cruise_ship, x = \"Tonnage\", hue = \"Line\", multiple = \"stack\")"
   ]
  },
  {
   "cell_type": "markdown",
   "id": "b1b6fd3f-5206-4394-8d5c-04024d282ca7",
   "metadata": {},
   "source": [
    "### .displot() replaces .distplot()\n",
    "\n",
    "#### .displot(data=datasetName, x = \"columnName\", kde = True) \n",
    "\n",
    "with kde adding the best fit line"
   ]
  },
  {
   "cell_type": "code",
   "execution_count": 75,
   "id": "ef86cddf-0f07-4358-ad09-c3a350f22d25",
   "metadata": {},
   "outputs": [],
   "source": [
    "#### Page 9 (activity solution)"
   ]
  },
  {
   "cell_type": "code",
   "execution_count": 76,
   "id": "4af339a1-0c9a-46e5-b66a-491fe05bb934",
   "metadata": {},
   "outputs": [],
   "source": [
    "#### Page 10 Key Terms"
   ]
  },
  {
   "cell_type": "markdown",
   "id": "32675e49-ef28-4851-a1f6-7ad160e63185",
   "metadata": {},
   "source": [
    "list\n",
    "\n",
    "Skew -> Non-parametric distribution that is not normal horizontally from side to side.\n",
    "\n",
    "Negative Skew -> A distribution that has the tail to the left and the bulk of data to the right.\n",
    "\n",
    "Positive Skew -> A distribution that has the tail to the right and the bulk of the data to the left.\n",
    "\n",
    "Kurtosis -> Non-parametric distribution that is not normally vertically, from top to bottom.\n",
    "\n",
    "Leptokurtic -> A positively kurtotic distribution that looks taller than the normal distribution.\n",
    "\n",
    "Platykurtic -> A negatively kurtotic distribution that looks flatter than the normal distribution.\n",
    "\n",
    "Mesokurtic -> The normal distribution's kurtosis.\n",
    "\n",
    "Power -> Defined as 1-slope, power is on a ladder system that determines how data can be transformed.\n",
    "\n",
    "Reciprocal or Reflection -> The exact opposite of your current data; flipped.\n"
   ]
  },
  {
   "cell_type": "markdown",
   "id": "2ddaccef-f3d0-4771-8026-f8a99d7e3573",
   "metadata": {},
   "source": [
    "##### Key R Libraries"
   ]
  },
  {
   "cell_type": "markdown",
   "id": "a393b807-320b-42bf-b323-8832ff7738a3",
   "metadata": {},
   "source": [
    "rcompanion -> Used to test for the normal distribution.\n",
    "\n",
    "IDPmisc -> A library used to screen out missing values."
   ]
  },
  {
   "cell_type": "markdown",
   "id": "d75d59ee-9457-45c6-a61f-0dd87dc070f4",
   "metadata": {},
   "source": [
    "##### Key R Code"
   ]
  },
  {
   "cell_type": "markdown",
   "id": "c4828289-ba3e-4d62-9a40-af9ed7ad36d7",
   "metadata": {},
   "source": [
    "plotNormalHistogram() -> Easily creates a histogram with a best-fit curve to show how it matches the normal distribution.\n",
    "\n",
    "sqrt() -> Takes the square root of a variable.\n",
    "\n",
    "log() -> Takes the log of a variable.\n",
    "\n",
    "NaRV.omit() -> Removes missing and infinite values from a dataset.\n",
    "\n",
    "transformTukey -> Automatically transforms your data to approximate the normal distribution as best as possible."
   ]
  },
  {
   "cell_type": "markdown",
   "id": "8b6e0061-f42f-4195-9d60-2450f542c8a5",
   "metadata": {},
   "source": [
    "##### Key Python Packages"
   ]
  },
  {
   "cell_type": "markdown",
   "id": "7fda273f-2460-4e75-a43c-54bfe8209d2f",
   "metadata": {},
   "source": [
    "boxcox -> A package that houses the BoxCox transformation."
   ]
  },
  {
   "cell_type": "markdown",
   "id": "2c9a69d7-638b-41ae-9a9a-5c71b8f8187c",
   "metadata": {},
   "source": [
    "##### Key Python Code"
   ]
  },
  {
   "cell_type": "markdown",
   "id": "6c385830-f508-4b80-ba78-5269ca08cec7",
   "metadata": {},
   "source": [
    "np.sqrt() -> Takes the square root of a variable.\n",
    "\n",
    "np.log() -> Takes the log of a variable.\n",
    "\n",
    ".dropna(inplace=True) -> Drops missing values.\n",
    "\n",
    "boxcox() -> Performs a BoxCox transformation based on the power level you choose."
   ]
  },
  {
   "cell_type": "code",
   "execution_count": null,
   "id": "87b85fbf-379f-4070-b4b3-220055f2d3d0",
   "metadata": {},
   "outputs": [],
   "source": []
  }
 ],
 "metadata": {
  "kernelspec": {
   "display_name": "Python 3 (ipykernel)",
   "language": "python",
   "name": "python3"
  },
  "language_info": {
   "codemirror_mode": {
    "name": "ipython",
    "version": 3
   },
   "file_extension": ".py",
   "mimetype": "text/x-python",
   "name": "python",
   "nbconvert_exporter": "python",
   "pygments_lexer": "ipython3",
   "version": "3.9.5"
  }
 },
 "nbformat": 4,
 "nbformat_minor": 5
}
