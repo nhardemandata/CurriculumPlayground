{
 "cells": [
  {
   "cell_type": "markdown",
   "id": "28759aff-a161-4050-b5fb-443e24b014af",
   "metadata": {},
   "source": [
    "# DSO105 Intermediate Stats L4 - Python (pages 8-12)"
   ]
  },
  {
   "cell_type": "code",
   "execution_count": 2,
   "id": "f0c5a08b-3644-4a41-b8cb-ede388721554",
   "metadata": {},
   "outputs": [],
   "source": [
    "import pandas as pd\n",
    "import numpy as np\n",
    "import scipy\n",
    "import seaborn as sns\n",
    "from scipy import stats\n",
    "from statsmodels.stats.multicomp import pairwise_tukeyhsd\n",
    "from statsmodels.stats.multicomp import MultiComparison"
   ]
  },
  {
   "cell_type": "code",
   "execution_count": 3,
   "id": "e40551fb-ad00-4ede-bbcd-4fd75e9fa368",
   "metadata": {},
   "outputs": [],
   "source": [
    "#### Page 8"
   ]
  },
  {
   "cell_type": "markdown",
   "id": "24e6adb1-14f5-49a8-bb96-ae26178048b2",
   "metadata": {},
   "source": [
    "## One Way Between Subjects ANOVA in Python"
   ]
  },
  {
   "cell_type": "code",
   "execution_count": 4,
   "id": "aecc41e3-cc25-4dd7-96c0-2a1b8354ca28",
   "metadata": {},
   "outputs": [],
   "source": [
    "## Video at beginning of page"
   ]
  },
  {
   "cell_type": "code",
   "execution_count": 5,
   "id": "55803288-1107-444e-ba6c-e30e105ced5f",
   "metadata": {},
   "outputs": [],
   "source": [
    "## load data\n",
    "salon = pd.read_csv('../../datasets/client_cancellations.csv')"
   ]
  },
  {
   "cell_type": "code",
   "execution_count": 6,
   "id": "061d6b5a-66e8-4b71-8386-70d59dc43d9e",
   "metadata": {},
   "outputs": [
    {
     "data": {
      "text/html": [
       "<div>\n",
       "<style scoped>\n",
       "    .dataframe tbody tr th:only-of-type {\n",
       "        vertical-align: middle;\n",
       "    }\n",
       "\n",
       "    .dataframe tbody tr th {\n",
       "        vertical-align: top;\n",
       "    }\n",
       "\n",
       "    .dataframe thead th {\n",
       "        text-align: right;\n",
       "    }\n",
       "</style>\n",
       "<table border=\"1\" class=\"dataframe\">\n",
       "  <thead>\n",
       "    <tr style=\"text-align: right;\">\n",
       "      <th></th>\n",
       "      <th>cancel date</th>\n",
       "      <th>cancel date month</th>\n",
       "      <th>code</th>\n",
       "      <th>service code</th>\n",
       "      <th>service desc</th>\n",
       "      <th>staff</th>\n",
       "      <th>booking date</th>\n",
       "      <th>booking date month</th>\n",
       "      <th>canceled by</th>\n",
       "      <th>days in adv</th>\n",
       "      <th>avg price</th>\n",
       "    </tr>\n",
       "  </thead>\n",
       "  <tbody>\n",
       "    <tr>\n",
       "      <th>0</th>\n",
       "      <td>3/10/2018</td>\n",
       "      <td>March</td>\n",
       "      <td>KOOM01</td>\n",
       "      <td>SHCW</td>\n",
       "      <td>Women's hair cut</td>\n",
       "      <td>JJ</td>\n",
       "      <td>4/3/2018</td>\n",
       "      <td>April</td>\n",
       "      <td>JJ</td>\n",
       "      <td>24</td>\n",
       "      <td>88.44</td>\n",
       "    </tr>\n",
       "    <tr>\n",
       "      <th>1</th>\n",
       "      <td>3/27/2018</td>\n",
       "      <td>March</td>\n",
       "      <td>WIL*01</td>\n",
       "      <td>SHCW</td>\n",
       "      <td>Women's hair cut</td>\n",
       "      <td>JJ</td>\n",
       "      <td>3/29/2018</td>\n",
       "      <td>March</td>\n",
       "      <td>JJ</td>\n",
       "      <td>2</td>\n",
       "      <td>88.44</td>\n",
       "    </tr>\n",
       "    <tr>\n",
       "      <th>2</th>\n",
       "      <td>4/3/2018</td>\n",
       "      <td>April</td>\n",
       "      <td>BUDG02</td>\n",
       "      <td>SHCM</td>\n",
       "      <td>Men's hair cut</td>\n",
       "      <td>SINEAD</td>\n",
       "      <td>4/21/2018</td>\n",
       "      <td>April</td>\n",
       "      <td>BECKY</td>\n",
       "      <td>18</td>\n",
       "      <td>41.41</td>\n",
       "    </tr>\n",
       "    <tr>\n",
       "      <th>3</th>\n",
       "      <td>4/3/2018</td>\n",
       "      <td>April</td>\n",
       "      <td>HILJ01</td>\n",
       "      <td>CFC</td>\n",
       "      <td>Color full color</td>\n",
       "      <td>KELLY</td>\n",
       "      <td>4/3/2018</td>\n",
       "      <td>April</td>\n",
       "      <td>JJ</td>\n",
       "      <td>0</td>\n",
       "      <td>63.13</td>\n",
       "    </tr>\n",
       "    <tr>\n",
       "      <th>4</th>\n",
       "      <td>4/3/2018</td>\n",
       "      <td>April</td>\n",
       "      <td>STEM01</td>\n",
       "      <td>SHCW</td>\n",
       "      <td>Women's hair cut</td>\n",
       "      <td>BECKY</td>\n",
       "      <td>4/21/2018</td>\n",
       "      <td>April</td>\n",
       "      <td>JJ</td>\n",
       "      <td>18</td>\n",
       "      <td>67.84</td>\n",
       "    </tr>\n",
       "  </tbody>\n",
       "</table>\n",
       "</div>"
      ],
      "text/plain": [
       "  cancel date cancel date month    code service code      service desc  \\\n",
       "0   3/10/2018             March  KOOM01         SHCW  Women's hair cut   \n",
       "1   3/27/2018             March  WIL*01         SHCW  Women's hair cut   \n",
       "2    4/3/2018             April  BUDG02         SHCM    Men's hair cut   \n",
       "3    4/3/2018             April  HILJ01          CFC  Color full color   \n",
       "4    4/3/2018             April  STEM01         SHCW  Women's hair cut   \n",
       "\n",
       "    staff booking date booking date month canceled by  days in adv  avg price  \n",
       "0      JJ     4/3/2018              April          JJ           24      88.44  \n",
       "1      JJ    3/29/2018              March          JJ            2      88.44  \n",
       "2  SINEAD    4/21/2018              April       BECKY           18      41.41  \n",
       "3   KELLY     4/3/2018              April          JJ            0      63.13  \n",
       "4   BECKY    4/21/2018              April          JJ           18      67.84  "
      ]
     },
     "execution_count": 6,
     "metadata": {},
     "output_type": "execute_result"
    }
   ],
   "source": [
    "salon.head()"
   ]
  },
  {
   "cell_type": "code",
   "execution_count": 7,
   "id": "1defd21d-d439-4256-b103-9043b1dc6792",
   "metadata": {},
   "outputs": [],
   "source": [
    "## playing around"
   ]
  },
  {
   "cell_type": "code",
   "execution_count": 8,
   "id": "ea48402a-9753-4e5b-9e4b-fdd251e4454b",
   "metadata": {},
   "outputs": [
    {
     "name": "stdout",
     "output_type": "stream",
     "text": [
      "c:\\users\\nolan\\appdata\\local\\programs\\python\\python39\\python.exe\n",
      "3.9.5 (tags/v3.9.5:0a7dcbd, May  3 2021, 17:27:52) [MSC v.1928 64 bit (AMD64)]\n",
      "sys.version_info(major=3, minor=9, micro=5, releaselevel='final', serial=0)\n"
     ]
    }
   ],
   "source": [
    "import sys\n",
    "print(sys.executable)\n",
    "print(sys.version)\n",
    "print(sys.version_info)"
   ]
  },
  {
   "cell_type": "code",
   "execution_count": 9,
   "id": "70422d41-3824-4d4b-bf30-8e66e36cf85b",
   "metadata": {},
   "outputs": [],
   "source": [
    "## back to video"
   ]
  },
  {
   "cell_type": "markdown",
   "id": "e435ba19-be0f-4901-a446-781278e7c7d1",
   "metadata": {},
   "source": [
    "#### data wrangling"
   ]
  },
  {
   "cell_type": "code",
   "execution_count": 10,
   "id": "bdf5a46d-36f7-4a4f-b388-efa33c660d24",
   "metadata": {},
   "outputs": [],
   "source": [
    "## remove missing data\n",
    "salon.dropna(inplace=True)"
   ]
  },
  {
   "cell_type": "code",
   "execution_count": 11,
   "id": "f6ab4674-9d75-437e-a897-fac03c861c03",
   "metadata": {},
   "outputs": [],
   "source": [
    "## recode independent variable to numeric\n",
    "## staff is categorical but Python needs it to be numeric in order to test the assumption of homogeneity of variance"
   ]
  },
  {
   "cell_type": "code",
   "execution_count": 12,
   "id": "fa1e8af1-eeae-4974-adaa-1cb98c9e5aee",
   "metadata": {},
   "outputs": [
    {
     "data": {
      "text/plain": [
       "JJ        68\n",
       "BECKY     61\n",
       "JOANNE    45\n",
       "KELLY     44\n",
       "SINEAD    19\n",
       "TANYA      4\n",
       "Name: staff, dtype: int64"
      ]
     },
     "execution_count": 12,
     "metadata": {},
     "output_type": "execute_result"
    }
   ],
   "source": [
    "salon.staff.value_counts()"
   ]
  },
  {
   "cell_type": "code",
   "execution_count": 13,
   "id": "2c21914c-76e7-4257-88e5-308a5581b46b",
   "metadata": {},
   "outputs": [],
   "source": [
    "dict = {'JJ': 0, 'BECKY': 1, \"JOANNE\": 2, \"KELLY\": 3, \"SINEAD\": 4, \"TANYA\":5}"
   ]
  },
  {
   "cell_type": "code",
   "execution_count": 14,
   "id": "087fae85-390b-4d6b-9f20-1469cb94f1c7",
   "metadata": {},
   "outputs": [],
   "source": [
    "salon['staffR'] = salon.staff.replace(dict)"
   ]
  },
  {
   "cell_type": "code",
   "execution_count": 15,
   "id": "e739afda-8498-461b-8727-781641f71913",
   "metadata": {},
   "outputs": [
    {
     "data": {
      "text/html": [
       "<div>\n",
       "<style scoped>\n",
       "    .dataframe tbody tr th:only-of-type {\n",
       "        vertical-align: middle;\n",
       "    }\n",
       "\n",
       "    .dataframe tbody tr th {\n",
       "        vertical-align: top;\n",
       "    }\n",
       "\n",
       "    .dataframe thead th {\n",
       "        text-align: right;\n",
       "    }\n",
       "</style>\n",
       "<table border=\"1\" class=\"dataframe\">\n",
       "  <thead>\n",
       "    <tr style=\"text-align: right;\">\n",
       "      <th></th>\n",
       "      <th>cancel date</th>\n",
       "      <th>cancel date month</th>\n",
       "      <th>code</th>\n",
       "      <th>service code</th>\n",
       "      <th>service desc</th>\n",
       "      <th>staff</th>\n",
       "      <th>booking date</th>\n",
       "      <th>booking date month</th>\n",
       "      <th>canceled by</th>\n",
       "      <th>days in adv</th>\n",
       "      <th>avg price</th>\n",
       "      <th>staffR</th>\n",
       "    </tr>\n",
       "  </thead>\n",
       "  <tbody>\n",
       "    <tr>\n",
       "      <th>0</th>\n",
       "      <td>3/10/2018</td>\n",
       "      <td>March</td>\n",
       "      <td>KOOM01</td>\n",
       "      <td>SHCW</td>\n",
       "      <td>Women's hair cut</td>\n",
       "      <td>JJ</td>\n",
       "      <td>4/3/2018</td>\n",
       "      <td>April</td>\n",
       "      <td>JJ</td>\n",
       "      <td>24</td>\n",
       "      <td>88.44</td>\n",
       "      <td>0</td>\n",
       "    </tr>\n",
       "    <tr>\n",
       "      <th>1</th>\n",
       "      <td>3/27/2018</td>\n",
       "      <td>March</td>\n",
       "      <td>WIL*01</td>\n",
       "      <td>SHCW</td>\n",
       "      <td>Women's hair cut</td>\n",
       "      <td>JJ</td>\n",
       "      <td>3/29/2018</td>\n",
       "      <td>March</td>\n",
       "      <td>JJ</td>\n",
       "      <td>2</td>\n",
       "      <td>88.44</td>\n",
       "      <td>0</td>\n",
       "    </tr>\n",
       "    <tr>\n",
       "      <th>2</th>\n",
       "      <td>4/3/2018</td>\n",
       "      <td>April</td>\n",
       "      <td>BUDG02</td>\n",
       "      <td>SHCM</td>\n",
       "      <td>Men's hair cut</td>\n",
       "      <td>SINEAD</td>\n",
       "      <td>4/21/2018</td>\n",
       "      <td>April</td>\n",
       "      <td>BECKY</td>\n",
       "      <td>18</td>\n",
       "      <td>41.41</td>\n",
       "      <td>4</td>\n",
       "    </tr>\n",
       "    <tr>\n",
       "      <th>3</th>\n",
       "      <td>4/3/2018</td>\n",
       "      <td>April</td>\n",
       "      <td>HILJ01</td>\n",
       "      <td>CFC</td>\n",
       "      <td>Color full color</td>\n",
       "      <td>KELLY</td>\n",
       "      <td>4/3/2018</td>\n",
       "      <td>April</td>\n",
       "      <td>JJ</td>\n",
       "      <td>0</td>\n",
       "      <td>63.13</td>\n",
       "      <td>3</td>\n",
       "    </tr>\n",
       "    <tr>\n",
       "      <th>4</th>\n",
       "      <td>4/3/2018</td>\n",
       "      <td>April</td>\n",
       "      <td>STEM01</td>\n",
       "      <td>SHCW</td>\n",
       "      <td>Women's hair cut</td>\n",
       "      <td>BECKY</td>\n",
       "      <td>4/21/2018</td>\n",
       "      <td>April</td>\n",
       "      <td>JJ</td>\n",
       "      <td>18</td>\n",
       "      <td>67.84</td>\n",
       "      <td>1</td>\n",
       "    </tr>\n",
       "  </tbody>\n",
       "</table>\n",
       "</div>"
      ],
      "text/plain": [
       "  cancel date cancel date month    code service code      service desc  \\\n",
       "0   3/10/2018             March  KOOM01         SHCW  Women's hair cut   \n",
       "1   3/27/2018             March  WIL*01         SHCW  Women's hair cut   \n",
       "2    4/3/2018             April  BUDG02         SHCM    Men's hair cut   \n",
       "3    4/3/2018             April  HILJ01          CFC  Color full color   \n",
       "4    4/3/2018             April  STEM01         SHCW  Women's hair cut   \n",
       "\n",
       "    staff booking date booking date month canceled by  days in adv  avg price  \\\n",
       "0      JJ     4/3/2018              April          JJ           24      88.44   \n",
       "1      JJ    3/29/2018              March          JJ            2      88.44   \n",
       "2  SINEAD    4/21/2018              April       BECKY           18      41.41   \n",
       "3   KELLY     4/3/2018              April          JJ            0      63.13   \n",
       "4   BECKY    4/21/2018              April          JJ           18      67.84   \n",
       "\n",
       "   staffR  \n",
       "0       0  \n",
       "1       0  \n",
       "2       4  \n",
       "3       3  \n",
       "4       1  "
      ]
     },
     "execution_count": 15,
     "metadata": {},
     "output_type": "execute_result"
    }
   ],
   "source": [
    "salon.head()"
   ]
  },
  {
   "cell_type": "markdown",
   "id": "78bb146c-29c8-4474-b406-9029c0f4b311",
   "metadata": {},
   "source": [
    "#### Test Assumptions"
   ]
  },
  {
   "cell_type": "markdown",
   "id": "8400cc05-ffda-405b-a5f5-b905b3f254f5",
   "metadata": {},
   "source": [
    "##### Normality"
   ]
  },
  {
   "cell_type": "code",
   "execution_count": 16,
   "id": "e895161f-5e55-4d99-bc6b-6fc35ea0f4e1",
   "metadata": {},
   "outputs": [
    {
     "data": {
      "text/plain": [
       "<seaborn.axisgrid.FacetGrid at 0x1a7be0c12e0>"
      ]
     },
     "execution_count": 16,
     "metadata": {},
     "output_type": "execute_result"
    },
    {
     "data": {
      "image/png": "[encoded data removed]",
      "text/plain": [
       "<Figure size 360x360 with 1 Axes>"
      ]
     },
     "metadata": {
      "needs_background": "light"
     },
     "output_type": "display_data"
    }
   ],
   "source": [
    "sns.displot(data=salon, x=\"avg price\", kde=True)\n",
    "## a little positively skewed"
   ]
  },
  {
   "cell_type": "code",
   "execution_count": 17,
   "id": "87237262-148b-4c72-8600-df25773b247f",
   "metadata": {},
   "outputs": [],
   "source": [
    "salon['avgPriceSQRT'] = np.sqrt(salon['avg price'])"
   ]
  },
  {
   "cell_type": "code",
   "execution_count": 18,
   "id": "160dd441-5661-4068-b694-af0a4279dfa7",
   "metadata": {},
   "outputs": [
    {
     "data": {
      "text/html": [
       "<div>\n",
       "<style scoped>\n",
       "    .dataframe tbody tr th:only-of-type {\n",
       "        vertical-align: middle;\n",
       "    }\n",
       "\n",
       "    .dataframe tbody tr th {\n",
       "        vertical-align: top;\n",
       "    }\n",
       "\n",
       "    .dataframe thead th {\n",
       "        text-align: right;\n",
       "    }\n",
       "</style>\n",
       "<table border=\"1\" class=\"dataframe\">\n",
       "  <thead>\n",
       "    <tr style=\"text-align: right;\">\n",
       "      <th></th>\n",
       "      <th>cancel date</th>\n",
       "      <th>cancel date month</th>\n",
       "      <th>code</th>\n",
       "      <th>service code</th>\n",
       "      <th>service desc</th>\n",
       "      <th>staff</th>\n",
       "      <th>booking date</th>\n",
       "      <th>booking date month</th>\n",
       "      <th>canceled by</th>\n",
       "      <th>days in adv</th>\n",
       "      <th>avg price</th>\n",
       "      <th>staffR</th>\n",
       "      <th>avgPriceSQRT</th>\n",
       "    </tr>\n",
       "  </thead>\n",
       "  <tbody>\n",
       "    <tr>\n",
       "      <th>0</th>\n",
       "      <td>3/10/2018</td>\n",
       "      <td>March</td>\n",
       "      <td>KOOM01</td>\n",
       "      <td>SHCW</td>\n",
       "      <td>Women's hair cut</td>\n",
       "      <td>JJ</td>\n",
       "      <td>4/3/2018</td>\n",
       "      <td>April</td>\n",
       "      <td>JJ</td>\n",
       "      <td>24</td>\n",
       "      <td>88.44</td>\n",
       "      <td>0</td>\n",
       "      <td>9.404254</td>\n",
       "    </tr>\n",
       "    <tr>\n",
       "      <th>1</th>\n",
       "      <td>3/27/2018</td>\n",
       "      <td>March</td>\n",
       "      <td>WIL*01</td>\n",
       "      <td>SHCW</td>\n",
       "      <td>Women's hair cut</td>\n",
       "      <td>JJ</td>\n",
       "      <td>3/29/2018</td>\n",
       "      <td>March</td>\n",
       "      <td>JJ</td>\n",
       "      <td>2</td>\n",
       "      <td>88.44</td>\n",
       "      <td>0</td>\n",
       "      <td>9.404254</td>\n",
       "    </tr>\n",
       "    <tr>\n",
       "      <th>2</th>\n",
       "      <td>4/3/2018</td>\n",
       "      <td>April</td>\n",
       "      <td>BUDG02</td>\n",
       "      <td>SHCM</td>\n",
       "      <td>Men's hair cut</td>\n",
       "      <td>SINEAD</td>\n",
       "      <td>4/21/2018</td>\n",
       "      <td>April</td>\n",
       "      <td>BECKY</td>\n",
       "      <td>18</td>\n",
       "      <td>41.41</td>\n",
       "      <td>4</td>\n",
       "      <td>6.435060</td>\n",
       "    </tr>\n",
       "    <tr>\n",
       "      <th>3</th>\n",
       "      <td>4/3/2018</td>\n",
       "      <td>April</td>\n",
       "      <td>HILJ01</td>\n",
       "      <td>CFC</td>\n",
       "      <td>Color full color</td>\n",
       "      <td>KELLY</td>\n",
       "      <td>4/3/2018</td>\n",
       "      <td>April</td>\n",
       "      <td>JJ</td>\n",
       "      <td>0</td>\n",
       "      <td>63.13</td>\n",
       "      <td>3</td>\n",
       "      <td>7.945439</td>\n",
       "    </tr>\n",
       "    <tr>\n",
       "      <th>4</th>\n",
       "      <td>4/3/2018</td>\n",
       "      <td>April</td>\n",
       "      <td>STEM01</td>\n",
       "      <td>SHCW</td>\n",
       "      <td>Women's hair cut</td>\n",
       "      <td>BECKY</td>\n",
       "      <td>4/21/2018</td>\n",
       "      <td>April</td>\n",
       "      <td>JJ</td>\n",
       "      <td>18</td>\n",
       "      <td>67.84</td>\n",
       "      <td>1</td>\n",
       "      <td>8.236504</td>\n",
       "    </tr>\n",
       "  </tbody>\n",
       "</table>\n",
       "</div>"
      ],
      "text/plain": [
       "  cancel date cancel date month    code service code      service desc  \\\n",
       "0   3/10/2018             March  KOOM01         SHCW  Women's hair cut   \n",
       "1   3/27/2018             March  WIL*01         SHCW  Women's hair cut   \n",
       "2    4/3/2018             April  BUDG02         SHCM    Men's hair cut   \n",
       "3    4/3/2018             April  HILJ01          CFC  Color full color   \n",
       "4    4/3/2018             April  STEM01         SHCW  Women's hair cut   \n",
       "\n",
       "    staff booking date booking date month canceled by  days in adv  avg price  \\\n",
       "0      JJ     4/3/2018              April          JJ           24      88.44   \n",
       "1      JJ    3/29/2018              March          JJ            2      88.44   \n",
       "2  SINEAD    4/21/2018              April       BECKY           18      41.41   \n",
       "3   KELLY     4/3/2018              April          JJ            0      63.13   \n",
       "4   BECKY    4/21/2018              April          JJ           18      67.84   \n",
       "\n",
       "   staffR  avgPriceSQRT  \n",
       "0       0      9.404254  \n",
       "1       0      9.404254  \n",
       "2       4      6.435060  \n",
       "3       3      7.945439  \n",
       "4       1      8.236504  "
      ]
     },
     "execution_count": 18,
     "metadata": {},
     "output_type": "execute_result"
    }
   ],
   "source": [
    "salon.head()"
   ]
  },
  {
   "cell_type": "code",
   "execution_count": 19,
   "id": "b6954795-e752-4524-adc6-8aea2798c7ab",
   "metadata": {},
   "outputs": [
    {
     "data": {
      "text/plain": [
       "<seaborn.axisgrid.FacetGrid at 0x1a7c017d220>"
      ]
     },
     "execution_count": 19,
     "metadata": {},
     "output_type": "execute_result"
    },
    {
     "data": {
      "image/png": "[encoded data removed]",
      "text/plain": [
       "<Figure size 360x360 with 1 Axes>"
      ]
     },
     "metadata": {
      "needs_background": "light"
     },
     "output_type": "display_data"
    }
   ],
   "source": [
    "sns.displot(data=salon, x=\"avgPriceSQRT\", kde=True)\n",
    "# looks more approx. normal"
   ]
  },
  {
   "cell_type": "markdown",
   "id": "bf98b59b-644b-4b27-b8e3-c8d077d36af5",
   "metadata": {},
   "source": [
    "##### Homogeneity of Variance"
   ]
  },
  {
   "cell_type": "code",
   "execution_count": 20,
   "id": "84309c48-56df-423c-b21a-fa5555c34a19",
   "metadata": {},
   "outputs": [],
   "source": [
    "## we will use both tests, but Bartlett's is the one to use bc our data is approx. normal"
   ]
  },
  {
   "cell_type": "code",
   "execution_count": 21,
   "id": "5eeac37b-ffdb-449b-a6fe-32216c52ee77",
   "metadata": {},
   "outputs": [
    {
     "data": {
      "text/plain": [
       "BartlettResult(statistic=85.2791342386295, pvalue=2.5908283927286395e-20)"
      ]
     },
     "execution_count": 21,
     "metadata": {},
     "output_type": "execute_result"
    }
   ],
   "source": [
    "scipy.stats.bartlett(salon['avgPriceSQRT'], salon['staffR'])\n",
    "## this is significant, so the data violates the assumption of homogeneity of variance"
   ]
  },
  {
   "cell_type": "code",
   "execution_count": 22,
   "id": "a1f49590-c76f-4486-9e25-c91ea4485d01",
   "metadata": {},
   "outputs": [
    {
     "data": {
      "text/plain": [
       "FlignerResult(statistic=14.041888591291224, pvalue=0.00017878330489283094)"
      ]
     },
     "execution_count": 22,
     "metadata": {},
     "output_type": "execute_result"
    }
   ],
   "source": [
    "## trying Fligner's test for learning purposes\n",
    "scipy.stats.fligner(salon['avgPriceSQRT'], salon['staffR'])"
   ]
  },
  {
   "cell_type": "markdown",
   "id": "b3a6a288-4e04-4e24-ab26-fc9c680a0604",
   "metadata": {},
   "source": [
    "##### Sample Size"
   ]
  },
  {
   "cell_type": "code",
   "execution_count": 23,
   "id": "60735f77-16c6-48f4-a321-76e08834e79d",
   "metadata": {},
   "outputs": [
    {
     "name": "stdout",
     "output_type": "stream",
     "text": [
      "<class 'pandas.core.frame.DataFrame'>\n",
      "Int64Index: 241 entries, 0 to 242\n",
      "Data columns (total 13 columns):\n",
      " #   Column              Non-Null Count  Dtype  \n",
      "---  ------              --------------  -----  \n",
      " 0   cancel date         241 non-null    object \n",
      " 1   cancel date month   241 non-null    object \n",
      " 2   code                241 non-null    object \n",
      " 3   service code        241 non-null    object \n",
      " 4   service desc        241 non-null    object \n",
      " 5   staff               241 non-null    object \n",
      " 6   booking date        241 non-null    object \n",
      " 7   booking date month  241 non-null    object \n",
      " 8   canceled by         241 non-null    object \n",
      " 9   days in adv         241 non-null    int64  \n",
      " 10  avg price           241 non-null    float64\n",
      " 11  staffR              241 non-null    int64  \n",
      " 12  avgPriceSQRT        241 non-null    float64\n",
      "dtypes: float64(2), int64(2), object(9)\n",
      "memory usage: 26.4+ KB\n"
     ]
    }
   ],
   "source": [
    "## need at least 20 case per IV\n",
    "salon.info()"
   ]
  },
  {
   "cell_type": "code",
   "execution_count": 24,
   "id": "d3ea8532-e011-43af-b696-43fda01948ac",
   "metadata": {},
   "outputs": [],
   "source": [
    "## 241 enteries meets req. for sample size"
   ]
  },
  {
   "cell_type": "markdown",
   "id": "b61d06be-a7cb-4c13-bc7a-5bf31669e6e3",
   "metadata": {},
   "source": [
    "##### Independence"
   ]
  },
  {
   "cell_type": "code",
   "execution_count": 25,
   "id": "e6a83228-3e50-43f4-bc10-a156e4fa6ff7",
   "metadata": {},
   "outputs": [],
   "source": [
    "## No way to test in R or Python for independence"
   ]
  },
  {
   "cell_type": "code",
   "execution_count": 26,
   "id": "36133cb6-44ac-4073-b947-6dc47b8fc89b",
   "metadata": {},
   "outputs": [],
   "source": [
    "### End of video"
   ]
  },
  {
   "cell_type": "code",
   "execution_count": 27,
   "id": "cbdcb64f-2fc8-4a15-b7d2-d12d57812631",
   "metadata": {},
   "outputs": [],
   "source": [
    "#### Page 8 resumes"
   ]
  },
  {
   "cell_type": "markdown",
   "id": "77262438-0a75-405a-8cf5-7e74a6e6dfcf",
   "metadata": {},
   "source": [
    "## One Way Between Subjects ANOVAs in Python\n",
    "\n",
    "Now that you have a basic idea about what an ANOVA is, you will learn how to create ANOVAs in Python, starting with the One Way ANOVA"
   ]
  },
  {
   "cell_type": "markdown",
   "id": "4b0ad810-53f2-45a8-8eb2-0be9f155a057",
   "metadata": {},
   "source": [
    "### Remember: Python was not created specifically with statistics in mind, like R was, so there are far fewer options and it is more difficult to test assumptions. You will work within these limitations, but know that if you need to fully explore ANOVAs, R will be your best bet."
   ]
  },
  {
   "cell_type": "code",
   "execution_count": 28,
   "id": "cd67aaff-f784-417c-92e7-d97ed211d709",
   "metadata": {},
   "outputs": [],
   "source": [
    "## load data\n",
    "apps = pd.read_csv('../../datasets/googleplaystore.csv')"
   ]
  },
  {
   "cell_type": "code",
   "execution_count": 29,
   "id": "2fcf0c9b-1568-419e-a555-08f2be15c1a7",
   "metadata": {},
   "outputs": [
    {
     "data": {
      "text/html": [
       "<div>\n",
       "<style scoped>\n",
       "    .dataframe tbody tr th:only-of-type {\n",
       "        vertical-align: middle;\n",
       "    }\n",
       "\n",
       "    .dataframe tbody tr th {\n",
       "        vertical-align: top;\n",
       "    }\n",
       "\n",
       "    .dataframe thead th {\n",
       "        text-align: right;\n",
       "    }\n",
       "</style>\n",
       "<table border=\"1\" class=\"dataframe\">\n",
       "  <thead>\n",
       "    <tr style=\"text-align: right;\">\n",
       "      <th></th>\n",
       "      <th>Unnamed: 0</th>\n",
       "      <th>App</th>\n",
       "      <th>Category</th>\n",
       "      <th>Rating</th>\n",
       "      <th>Reviews</th>\n",
       "      <th>Size</th>\n",
       "      <th>Installs</th>\n",
       "      <th>Type</th>\n",
       "      <th>Price</th>\n",
       "      <th>Content.Rating</th>\n",
       "      <th>Genres</th>\n",
       "      <th>Last.Updated</th>\n",
       "      <th>Current.Ver</th>\n",
       "      <th>Android.Ver</th>\n",
       "    </tr>\n",
       "  </thead>\n",
       "  <tbody>\n",
       "    <tr>\n",
       "      <th>0</th>\n",
       "      <td>1</td>\n",
       "      <td>Photo Editor &amp; Candy Camera &amp; Grid &amp; ScrapBook</td>\n",
       "      <td>ART_AND_DESIGN</td>\n",
       "      <td>4.1</td>\n",
       "      <td>159</td>\n",
       "      <td>19M</td>\n",
       "      <td>10,000+</td>\n",
       "      <td>Free</td>\n",
       "      <td>0</td>\n",
       "      <td>Everyone</td>\n",
       "      <td>Art &amp; Design</td>\n",
       "      <td>7-Jan-18</td>\n",
       "      <td>1.0.0</td>\n",
       "      <td>4.0.3 and up</td>\n",
       "    </tr>\n",
       "    <tr>\n",
       "      <th>1</th>\n",
       "      <td>2</td>\n",
       "      <td>Coloring book moana</td>\n",
       "      <td>ART_AND_DESIGN</td>\n",
       "      <td>3.9</td>\n",
       "      <td>967</td>\n",
       "      <td>14M</td>\n",
       "      <td>500,000+</td>\n",
       "      <td>Free</td>\n",
       "      <td>0</td>\n",
       "      <td>Everyone</td>\n",
       "      <td>Art &amp; Design;Pretend Play</td>\n",
       "      <td>15-Jan-18</td>\n",
       "      <td>2.0.0</td>\n",
       "      <td>4.0.3 and up</td>\n",
       "    </tr>\n",
       "    <tr>\n",
       "      <th>2</th>\n",
       "      <td>3</td>\n",
       "      <td>U Launcher Lite – FREE Live Cool Themes, Hide ...</td>\n",
       "      <td>ART_AND_DESIGN</td>\n",
       "      <td>4.7</td>\n",
       "      <td>87510</td>\n",
       "      <td>8.7M</td>\n",
       "      <td>5,000,000+</td>\n",
       "      <td>Free</td>\n",
       "      <td>0</td>\n",
       "      <td>Everyone</td>\n",
       "      <td>Art &amp; Design</td>\n",
       "      <td>1-Aug-18</td>\n",
       "      <td>1.2.4</td>\n",
       "      <td>4.0.3 and up</td>\n",
       "    </tr>\n",
       "    <tr>\n",
       "      <th>3</th>\n",
       "      <td>4</td>\n",
       "      <td>Sketch - Draw &amp; Paint</td>\n",
       "      <td>ART_AND_DESIGN</td>\n",
       "      <td>4.5</td>\n",
       "      <td>215644</td>\n",
       "      <td>25M</td>\n",
       "      <td>50,000,000+</td>\n",
       "      <td>Free</td>\n",
       "      <td>0</td>\n",
       "      <td>Teen</td>\n",
       "      <td>Art &amp; Design</td>\n",
       "      <td>8-Jun-18</td>\n",
       "      <td>Varies with device</td>\n",
       "      <td>4.2 and up</td>\n",
       "    </tr>\n",
       "    <tr>\n",
       "      <th>4</th>\n",
       "      <td>5</td>\n",
       "      <td>Pixel Draw - Number Art Coloring Book</td>\n",
       "      <td>ART_AND_DESIGN</td>\n",
       "      <td>4.3</td>\n",
       "      <td>967</td>\n",
       "      <td>2.8M</td>\n",
       "      <td>100,000+</td>\n",
       "      <td>Free</td>\n",
       "      <td>0</td>\n",
       "      <td>Everyone</td>\n",
       "      <td>Art &amp; Design;Creativity</td>\n",
       "      <td>20-Jun-18</td>\n",
       "      <td>1.1</td>\n",
       "      <td>4.4 and up</td>\n",
       "    </tr>\n",
       "  </tbody>\n",
       "</table>\n",
       "</div>"
      ],
      "text/plain": [
       "   Unnamed: 0                                                App  \\\n",
       "0           1     Photo Editor & Candy Camera & Grid & ScrapBook   \n",
       "1           2                                Coloring book moana   \n",
       "2           3  U Launcher Lite – FREE Live Cool Themes, Hide ...   \n",
       "3           4                              Sketch - Draw & Paint   \n",
       "4           5              Pixel Draw - Number Art Coloring Book   \n",
       "\n",
       "         Category  Rating Reviews  Size     Installs  Type Price  \\\n",
       "0  ART_AND_DESIGN     4.1     159   19M      10,000+  Free     0   \n",
       "1  ART_AND_DESIGN     3.9     967   14M     500,000+  Free     0   \n",
       "2  ART_AND_DESIGN     4.7   87510  8.7M   5,000,000+  Free     0   \n",
       "3  ART_AND_DESIGN     4.5  215644   25M  50,000,000+  Free     0   \n",
       "4  ART_AND_DESIGN     4.3     967  2.8M     100,000+  Free     0   \n",
       "\n",
       "  Content.Rating                     Genres Last.Updated         Current.Ver  \\\n",
       "0       Everyone               Art & Design     7-Jan-18               1.0.0   \n",
       "1       Everyone  Art & Design;Pretend Play    15-Jan-18               2.0.0   \n",
       "2       Everyone               Art & Design     1-Aug-18               1.2.4   \n",
       "3           Teen               Art & Design     8-Jun-18  Varies with device   \n",
       "4       Everyone    Art & Design;Creativity    20-Jun-18                 1.1   \n",
       "\n",
       "    Android.Ver  \n",
       "0  4.0.3 and up  \n",
       "1  4.0.3 and up  \n",
       "2  4.0.3 and up  \n",
       "3    4.2 and up  \n",
       "4    4.4 and up  "
      ]
     },
     "execution_count": 29,
     "metadata": {},
     "output_type": "execute_result"
    }
   ],
   "source": [
    "apps.head()"
   ]
  },
  {
   "cell_type": "markdown",
   "id": "788bfd9c-e0f5-4659-95d6-14adc27be835",
   "metadata": {},
   "source": [
    "#### Question Setup\n",
    "\n",
    "With this data, you will answer the question:\n",
    "\n",
    "Is there a difference in the number of reviews among the three app categories of beauty, food and drink, and photography? "
   ]
  },
  {
   "cell_type": "markdown",
   "id": "c2d00a9e-f8a4-4ec0-af6e-e3f810432c22",
   "metadata": {},
   "source": [
    "In order to answer this question, your x, or independent variable, will be the app categories, which has three levels: beauty, food and drink, and photography. Your y, or dependent variable, will be the reviews. As with all ANOVAs, the IV will be categorical, and the DV will be continuous."
   ]
  },
  {
   "cell_type": "markdown",
   "id": "24af1ccb-e468-42b9-bd41-5a0ba84bc3cb",
   "metadata": {},
   "source": [
    "#### Data Wrangling\n",
    "\n",
    "Depending on the data that you've been given, it may need some wrangling! In this case, although you can run the actual ANOVA using the original data, you can't test the assumptions or run the post hocs unless the data is wrangled."
   ]
  },
  {
   "cell_type": "markdown",
   "id": "1e13d20c-dbe8-417f-ae1f-ff3665a61e7d",
   "metadata": {},
   "source": [
    "#### Focusing on the Three Categories\n",
    "\n",
    "The data has many more categories than three, so you will need to filter the dataset by the categories you want: beauty, food and drink, and photography."
   ]
  },
  {
   "cell_type": "code",
   "execution_count": 30,
   "id": "61a7c920-b77f-4b3e-99bf-07002a538a96",
   "metadata": {},
   "outputs": [],
   "source": [
    "categories = ['BEAUTY', 'FOOD_AND_DRINK','PHOTOGRAPHY']"
   ]
  },
  {
   "cell_type": "code",
   "execution_count": 31,
   "id": "c13dd85f-4ff2-4c12-aead-314bcfba8b93",
   "metadata": {},
   "outputs": [],
   "source": [
    "apps1 = apps['Category'].isin(categories)\n",
    "apps2 = apps[apps1].copy()"
   ]
  },
  {
   "cell_type": "markdown",
   "id": "a041322d-9c72-4901-8057-034e27dbe058",
   "metadata": {},
   "source": [
    "The code above makes a list of the categories you want to keep, then searches through the Category column using the isin() function to keep only those that match. Then, you can apply that list to your actual data frame, being sure to you use the .copy() function to change this from a slice into a data frame."
   ]
  },
  {
   "cell_type": "markdown",
   "id": "f8c1d352-2412-40c8-bdfb-27a953ac576d",
   "metadata": {},
   "source": [
    "#### Subsetting to Only the Variables Needed\n",
    "\n",
    "You only want to keep the two variables you'll need in your test: Category and Reviews."
   ]
  },
  {
   "cell_type": "code",
   "execution_count": 32,
   "id": "95425bbd-0dcd-47c4-9695-f071bdd7b0fe",
   "metadata": {},
   "outputs": [],
   "source": [
    "apps3 = apps2[['Category','Reviews']]"
   ]
  },
  {
   "cell_type": "code",
   "execution_count": 33,
   "id": "7e074dfc-4371-4fd5-a065-a642b851f6d7",
   "metadata": {},
   "outputs": [
    {
     "data": {
      "text/html": [
       "<div>\n",
       "<style scoped>\n",
       "    .dataframe tbody tr th:only-of-type {\n",
       "        vertical-align: middle;\n",
       "    }\n",
       "\n",
       "    .dataframe tbody tr th {\n",
       "        vertical-align: top;\n",
       "    }\n",
       "\n",
       "    .dataframe thead th {\n",
       "        text-align: right;\n",
       "    }\n",
       "</style>\n",
       "<table border=\"1\" class=\"dataframe\">\n",
       "  <thead>\n",
       "    <tr style=\"text-align: right;\">\n",
       "      <th></th>\n",
       "      <th>Category</th>\n",
       "      <th>Reviews</th>\n",
       "    </tr>\n",
       "  </thead>\n",
       "  <tbody>\n",
       "    <tr>\n",
       "      <th>98</th>\n",
       "      <td>BEAUTY</td>\n",
       "      <td>18900</td>\n",
       "    </tr>\n",
       "    <tr>\n",
       "      <th>99</th>\n",
       "      <td>BEAUTY</td>\n",
       "      <td>49790</td>\n",
       "    </tr>\n",
       "    <tr>\n",
       "      <th>100</th>\n",
       "      <td>BEAUTY</td>\n",
       "      <td>1150</td>\n",
       "    </tr>\n",
       "    <tr>\n",
       "      <th>101</th>\n",
       "      <td>BEAUTY</td>\n",
       "      <td>1739</td>\n",
       "    </tr>\n",
       "    <tr>\n",
       "      <th>102</th>\n",
       "      <td>BEAUTY</td>\n",
       "      <td>32090</td>\n",
       "    </tr>\n",
       "  </tbody>\n",
       "</table>\n",
       "</div>"
      ],
      "text/plain": [
       "    Category Reviews\n",
       "98    BEAUTY   18900\n",
       "99    BEAUTY   49790\n",
       "100   BEAUTY    1150\n",
       "101   BEAUTY    1739\n",
       "102   BEAUTY   32090"
      ]
     },
     "execution_count": 33,
     "metadata": {},
     "output_type": "execute_result"
    }
   ],
   "source": [
    "apps3.head()"
   ]
  },
  {
   "cell_type": "markdown",
   "id": "94d53f01-ec2e-4e52-b3d9-91006dbed4a7",
   "metadata": {},
   "source": [
    "#### Changing Reviews to an Integer\n",
    "\n",
    "Your dependent variable will need to be an integer. You can check what format it is in by using the .info() function:"
   ]
  },
  {
   "cell_type": "code",
   "execution_count": 34,
   "id": "20ee4cc8-e54c-4670-8ecb-178c96a9ab53",
   "metadata": {},
   "outputs": [
    {
     "name": "stdout",
     "output_type": "stream",
     "text": [
      "<class 'pandas.core.frame.DataFrame'>\n",
      "Int64Index: 515 entries, 98 to 10740\n",
      "Data columns (total 2 columns):\n",
      " #   Column    Non-Null Count  Dtype \n",
      "---  ------    --------------  ----- \n",
      " 0   Category  515 non-null    object\n",
      " 1   Reviews   515 non-null    object\n",
      "dtypes: object(2)\n",
      "memory usage: 12.1+ KB\n"
     ]
    }
   ],
   "source": [
    "apps3.info()"
   ]
  },
  {
   "cell_type": "markdown",
   "id": "2a4fb07e-4d55-4f96-9782-34de13a81b7d",
   "metadata": {},
   "source": [
    "Note that both Category and Reviews is a non-null object (string). You'll want to convert Reviews to an integer, then:"
   ]
  },
  {
   "cell_type": "code",
   "execution_count": 35,
   "id": "ea0224db-18d8-43b8-9d6d-9f5b27d909b5",
   "metadata": {},
   "outputs": [
    {
     "name": "stderr",
     "output_type": "stream",
     "text": [
      "c:\\users\\nolan\\appdata\\local\\programs\\python\\python39\\lib\\site-packages\\pandas\\core\\generic.py:5507: SettingWithCopyWarning: \n",
      "A value is trying to be set on a copy of a slice from a DataFrame.\n",
      "Try using .loc[row_indexer,col_indexer] = value instead\n",
      "\n",
      "See the caveats in the documentation: https://pandas.pydata.org/pandas-docs/stable/user_guide/indexing.html#returning-a-view-versus-a-copy\n",
      "  self[name] = value\n"
     ]
    }
   ],
   "source": [
    "apps3.Reviews = apps3.Reviews.astype(int)\n",
    "## It will give you a warning, because you still technically have a slice masquerading as a data frame:"
   ]
  },
  {
   "cell_type": "code",
   "execution_count": 36,
   "id": "a93225cc-49c2-4a49-87fa-933fceff1ccb",
   "metadata": {},
   "outputs": [
    {
     "name": "stdout",
     "output_type": "stream",
     "text": [
      "<class 'pandas.core.frame.DataFrame'>\n",
      "Int64Index: 515 entries, 98 to 10740\n",
      "Data columns (total 2 columns):\n",
      " #   Column    Non-Null Count  Dtype \n",
      "---  ------    --------------  ----- \n",
      " 0   Category  515 non-null    object\n",
      " 1   Reviews   515 non-null    int32 \n",
      "dtypes: int32(1), object(1)\n",
      "memory usage: 10.1+ KB\n"
     ]
    }
   ],
   "source": [
    "apps3.info()"
   ]
  },
  {
   "cell_type": "markdown",
   "id": "cd3eecb4-4279-4958-be22-8ed4f8afd121",
   "metadata": {},
   "source": [
    "#### Recoding Category to a Number\n",
    "\n",
    "The post-hocs and assumptions won't take any string values, so you'll need to recode Category as well:"
   ]
  },
  {
   "cell_type": "code",
   "execution_count": 37,
   "id": "80041cd4-e830-4b37-b935-6c06a7a18337",
   "metadata": {},
   "outputs": [
    {
     "data": {
      "text/plain": [
       "PHOTOGRAPHY       335\n",
       "FOOD_AND_DRINK    127\n",
       "BEAUTY             53\n",
       "Name: Category, dtype: int64"
      ]
     },
     "execution_count": 37,
     "metadata": {},
     "output_type": "execute_result"
    }
   ],
   "source": [
    "apps3.Category.value_counts()"
   ]
  },
  {
   "cell_type": "code",
   "execution_count": 38,
   "id": "9be8e641-681d-47ba-bea1-ac3405390583",
   "metadata": {},
   "outputs": [
    {
     "name": "stderr",
     "output_type": "stream",
     "text": [
      "C:\\Users\\nolan\\AppData\\Local\\Temp/ipykernel_22564/3631121828.py:2: SettingWithCopyWarning: \n",
      "A value is trying to be set on a copy of a slice from a DataFrame.\n",
      "Try using .loc[row_indexer,col_indexer] = value instead\n",
      "\n",
      "See the caveats in the documentation: https://pandas.pydata.org/pandas-docs/stable/user_guide/indexing.html#returning-a-view-versus-a-copy\n",
      "  apps3['categoryR'] = apps3.Category.replace(dict)\n"
     ]
    }
   ],
   "source": [
    "dict = {'PHOTOGRAPHY': 0, 'FOOD_AND_DRINK': 1, 'BEAUTY': 2}\n",
    "apps3['categoryR'] = apps3.Category.replace(dict)\n",
    "## same warning as above"
   ]
  },
  {
   "cell_type": "code",
   "execution_count": 39,
   "id": "77636081-385a-4be5-b437-917ab9cc47cf",
   "metadata": {},
   "outputs": [
    {
     "data": {
      "text/html": [
       "<div>\n",
       "<style scoped>\n",
       "    .dataframe tbody tr th:only-of-type {\n",
       "        vertical-align: middle;\n",
       "    }\n",
       "\n",
       "    .dataframe tbody tr th {\n",
       "        vertical-align: top;\n",
       "    }\n",
       "\n",
       "    .dataframe thead th {\n",
       "        text-align: right;\n",
       "    }\n",
       "</style>\n",
       "<table border=\"1\" class=\"dataframe\">\n",
       "  <thead>\n",
       "    <tr style=\"text-align: right;\">\n",
       "      <th></th>\n",
       "      <th>Category</th>\n",
       "      <th>Reviews</th>\n",
       "      <th>categoryR</th>\n",
       "    </tr>\n",
       "  </thead>\n",
       "  <tbody>\n",
       "    <tr>\n",
       "      <th>98</th>\n",
       "      <td>BEAUTY</td>\n",
       "      <td>18900</td>\n",
       "      <td>2</td>\n",
       "    </tr>\n",
       "    <tr>\n",
       "      <th>99</th>\n",
       "      <td>BEAUTY</td>\n",
       "      <td>49790</td>\n",
       "      <td>2</td>\n",
       "    </tr>\n",
       "    <tr>\n",
       "      <th>100</th>\n",
       "      <td>BEAUTY</td>\n",
       "      <td>1150</td>\n",
       "      <td>2</td>\n",
       "    </tr>\n",
       "    <tr>\n",
       "      <th>101</th>\n",
       "      <td>BEAUTY</td>\n",
       "      <td>1739</td>\n",
       "      <td>2</td>\n",
       "    </tr>\n",
       "    <tr>\n",
       "      <th>102</th>\n",
       "      <td>BEAUTY</td>\n",
       "      <td>32090</td>\n",
       "      <td>2</td>\n",
       "    </tr>\n",
       "  </tbody>\n",
       "</table>\n",
       "</div>"
      ],
      "text/plain": [
       "    Category  Reviews  categoryR\n",
       "98    BEAUTY    18900          2\n",
       "99    BEAUTY    49790          2\n",
       "100   BEAUTY     1150          2\n",
       "101   BEAUTY     1739          2\n",
       "102   BEAUTY    32090          2"
      ]
     },
     "execution_count": 39,
     "metadata": {},
     "output_type": "execute_result"
    }
   ],
   "source": [
    "apps3.head()"
   ]
  },
  {
   "cell_type": "markdown",
   "id": "e5d78b50-e5d6-4a4c-bab9-a92879ba6b6e",
   "metadata": {},
   "source": [
    "#### Dropping the Original Category Variable\n",
    "\n",
    "But wait! You now have three variables again! Go ahead and drop the original Category variable out, since it's mere presence will throw off the work you'll do later."
   ]
  },
  {
   "cell_type": "code",
   "execution_count": 40,
   "id": "debce57a-0314-41e7-89c0-8e0ff1ae83a0",
   "metadata": {},
   "outputs": [],
   "source": [
    "apps4 = apps3[['categoryR','Reviews']]"
   ]
  },
  {
   "cell_type": "code",
   "execution_count": 41,
   "id": "eaf93b63-ec7f-4367-840e-b842d1f2d421",
   "metadata": {},
   "outputs": [
    {
     "data": {
      "text/html": [
       "<div>\n",
       "<style scoped>\n",
       "    .dataframe tbody tr th:only-of-type {\n",
       "        vertical-align: middle;\n",
       "    }\n",
       "\n",
       "    .dataframe tbody tr th {\n",
       "        vertical-align: top;\n",
       "    }\n",
       "\n",
       "    .dataframe thead th {\n",
       "        text-align: right;\n",
       "    }\n",
       "</style>\n",
       "<table border=\"1\" class=\"dataframe\">\n",
       "  <thead>\n",
       "    <tr style=\"text-align: right;\">\n",
       "      <th></th>\n",
       "      <th>categoryR</th>\n",
       "      <th>Reviews</th>\n",
       "    </tr>\n",
       "  </thead>\n",
       "  <tbody>\n",
       "    <tr>\n",
       "      <th>98</th>\n",
       "      <td>2</td>\n",
       "      <td>18900</td>\n",
       "    </tr>\n",
       "    <tr>\n",
       "      <th>99</th>\n",
       "      <td>2</td>\n",
       "      <td>49790</td>\n",
       "    </tr>\n",
       "    <tr>\n",
       "      <th>100</th>\n",
       "      <td>2</td>\n",
       "      <td>1150</td>\n",
       "    </tr>\n",
       "    <tr>\n",
       "      <th>101</th>\n",
       "      <td>2</td>\n",
       "      <td>1739</td>\n",
       "    </tr>\n",
       "    <tr>\n",
       "      <th>102</th>\n",
       "      <td>2</td>\n",
       "      <td>32090</td>\n",
       "    </tr>\n",
       "  </tbody>\n",
       "</table>\n",
       "</div>"
      ],
      "text/plain": [
       "     categoryR  Reviews\n",
       "98           2    18900\n",
       "99           2    49790\n",
       "100          2     1150\n",
       "101          2     1739\n",
       "102          2    32090"
      ]
     },
     "execution_count": 41,
     "metadata": {},
     "output_type": "execute_result"
    }
   ],
   "source": [
    "apps4.head()"
   ]
  },
  {
   "cell_type": "markdown",
   "id": "319f4b77-f787-4030-9185-53a1282e53fc",
   "metadata": {},
   "source": [
    "And finally, eons later, you are all prepared to run a one-way ANOVA and all it's assumptions and post-hoc tests. Phew! R required a lot less wrangling, because it is specifically meant for advanced statistics."
   ]
  },
  {
   "cell_type": "markdown",
   "id": "270ec33f-78db-492d-b162-8df1b71b85f2",
   "metadata": {},
   "source": [
    "### Test Assumptions\n",
    "\n",
    "Before you go any further, it's important to test for assumptions. If the assumptions are not met for ANOVA, but you proceeded anyway, you run the risk of biasing your results."
   ]
  },
  {
   "cell_type": "markdown",
   "id": "8cf3e51f-644c-4e9d-b7cc-6480385edeb4",
   "metadata": {},
   "source": [
    "#### Normality\n",
    "\n",
    "You only need to test for the normality of the dependent variable, since the IV is categorical."
   ]
  },
  {
   "cell_type": "code",
   "execution_count": 42,
   "id": "6570667e-72b7-4efa-9433-1056a5125153",
   "metadata": {},
   "outputs": [
    {
     "data": {
      "text/plain": [
       "<seaborn.axisgrid.FacetGrid at 0x1a7c24ab0a0>"
      ]
     },
     "execution_count": 42,
     "metadata": {},
     "output_type": "execute_result"
    },
    {
     "data": {
      "image/png": "[encoded data removed]",
      "text/plain": [
       "<Figure size 360x360 with 1 Axes>"
      ]
     },
     "metadata": {
      "needs_background": "light"
     },
     "output_type": "display_data"
    }
   ],
   "source": [
    "sns.displot(data=apps4, x=\"Reviews\", kde=True)\n",
    "## not normal, and positively skewed"
   ]
  },
  {
   "cell_type": "markdown",
   "id": "c1652e1f-bc2f-4aad-8f9e-dc54898c478f",
   "metadata": {},
   "source": [
    "Looks like that isn't normal in any way - it is very highly positively skewed. So, you'll need to transform price by taking the square root or the log."
   ]
  },
  {
   "cell_type": "code",
   "execution_count": 43,
   "id": "e698a59a-2592-424a-a52f-f5995df131be",
   "metadata": {},
   "outputs": [],
   "source": [
    "apps4['ReviewsSQRT'] = np.sqrt(apps4['Reviews'])"
   ]
  },
  {
   "cell_type": "code",
   "execution_count": 44,
   "id": "02d98145-bfa6-4f89-bad4-cd8f91982674",
   "metadata": {},
   "outputs": [
    {
     "data": {
      "text/plain": [
       "<seaborn.axisgrid.FacetGrid at 0x1a7c0172d60>"
      ]
     },
     "execution_count": 44,
     "metadata": {},
     "output_type": "execute_result"
    },
    {
     "data": {
      "image/png": "[encoded data removed]",
      "text/plain": [
       "<Figure size 360x360 with 1 Axes>"
      ]
     },
     "metadata": {
      "needs_background": "light"
     },
     "output_type": "display_data"
    }
   ],
   "source": [
    "sns.displot(data=apps4, x=\"ReviewsSQRT\", kde=True)"
   ]
  },
  {
   "cell_type": "markdown",
   "id": "3dc0f588-4f90-47c6-b684-cd5bbd38f966",
   "metadata": {},
   "source": [
    "That looks relatively normal, so keep it there:"
   ]
  },
  {
   "cell_type": "markdown",
   "id": "568d8858-f75d-47f7-9b82-a881d3352b15",
   "metadata": {},
   "source": [
    "#### Homogeneity of Variance\n",
    "\n",
    "Just like in R, you can test for homogeneity of variance easily using either Bartlett's test or Fligner's Test. Bartlett's test is for when your data is normally distributed, and Fligner's test is for when your data is non-parametric. No matter which test you are using, you are looking for a non-significant test. The null hypothesis for both of these is that the data has equal variance, so you'd like to have a p value of > .05. Since you have corrected your data, you can use Bartlett's test, but just for learning purposes, you'll try both here.\n",
    "\n"
   ]
  },
  {
   "cell_type": "markdown",
   "id": "97ba9379-27fc-4851-a2eb-dfd9a5e5441d",
   "metadata": {},
   "source": [
    "##### Bartlett's Test\n",
    "\n",
    "To do Bartlett's test, use the function scipy.stats.bartlett(), with the argument of the y data, followed by the x data."
   ]
  },
  {
   "cell_type": "code",
   "execution_count": 45,
   "id": "f3c74a58-0174-4cb1-bf1f-bdbb097ed0cd",
   "metadata": {},
   "outputs": [
    {
     "data": {
      "text/plain": [
       "BartlettResult(statistic=6187.981817647615, pvalue=0.0)"
      ]
     },
     "execution_count": 45,
     "metadata": {},
     "output_type": "execute_result"
    }
   ],
   "source": [
    "scipy.stats.bartlett(apps4['ReviewsSQRT'], apps4['categoryR'])"
   ]
  },
  {
   "cell_type": "markdown",
   "id": "d013ef19-e963-4cb4-a9bc-9dda6f2cc97c",
   "metadata": {},
   "source": [
    "The p value associated with this test is < .05, which means that unfortunately, you have violated the assumption of homogeneity of variance."
   ]
  },
  {
   "cell_type": "markdown",
   "id": "ba098bd9-673b-4b1f-b093-205810682c3e",
   "metadata": {},
   "source": [
    "##### Fligner's Test\n",
    "\n",
    "To perform Fligner's test, use the function scipy.stats.fligner(), with the argument of the y data, followed by the x data."
   ]
  },
  {
   "cell_type": "code",
   "execution_count": 46,
   "id": "4f7c43f3-f063-4fc6-a2b2-426b14cecb1f",
   "metadata": {},
   "outputs": [
    {
     "data": {
      "text/plain": [
       "FlignerResult(statistic=642.0602581715318, pvalue=1.1908711834100128e-141)"
      ]
     },
     "execution_count": 46,
     "metadata": {},
     "output_type": "execute_result"
    }
   ],
   "source": [
    "scipy.stats.fligner(apps4['ReviewsSQRT'], apps4['categoryR'])"
   ]
  },
  {
   "cell_type": "markdown",
   "id": "fa96b926-e2cb-4b09-9cd5-f0770cae8eae",
   "metadata": {},
   "source": [
    "The p value is still < .05, which means you have violated the assumption of homogeneity of variance."
   ]
  },
  {
   "cell_type": "markdown",
   "id": "214cf843-4e74-4b5f-96ca-22d4255a85fa",
   "metadata": {},
   "source": [
    "#### Correcting for Violations of Homogeneity of Variance\n",
    "\n",
    "As you know, there are many different ways to correct for this violation in the general field of statistics. However, Python does not support any of them! Which means that you can run the ANOVA, but there is a good chance it will be inaccurate. If you do choose to proceed with the analysis in Python, ensure that all parties consuming your results understand that there could be inaccuracies with the data analysis!\n",
    "\n",
    "It is recommended, however, that if you violate the assumption of homogeneity of variance that you switch over to R, and proceed from there. You are becoming a guru in both languages for a reason!"
   ]
  },
  {
   "cell_type": "markdown",
   "id": "026b7521-3d74-496b-96c5-01797e48472c",
   "metadata": {},
   "source": [
    "#### Sample Size\n",
    "\n",
    "An ANOVA requires a sample size of at least 20 per independent variable. In this case, you only have one independent variable, so as long as you have at least 20 cases, you are fine. Looking at the data, the n is 515, so you are fine to proceed with this assumption!"
   ]
  },
  {
   "cell_type": "code",
   "execution_count": 47,
   "id": "d8c3f4ad-860e-465c-be0b-0df4169f37e7",
   "metadata": {},
   "outputs": [
    {
     "name": "stdout",
     "output_type": "stream",
     "text": [
      "<class 'pandas.core.frame.DataFrame'>\n",
      "Int64Index: 515 entries, 98 to 10740\n",
      "Data columns (total 3 columns):\n",
      " #   Column       Non-Null Count  Dtype  \n",
      "---  ------       --------------  -----  \n",
      " 0   categoryR    515 non-null    int64  \n",
      " 1   Reviews      515 non-null    int32  \n",
      " 2   ReviewsSQRT  515 non-null    float64\n",
      "dtypes: float64(1), int32(1), int64(1)\n",
      "memory usage: 14.1 KB\n"
     ]
    }
   ],
   "source": [
    "apps4.info()"
   ]
  },
  {
   "cell_type": "markdown",
   "id": "b23b214e-f6f9-4255-b519-72721630cbdc",
   "metadata": {},
   "source": [
    "#### Independence\n",
    "\n",
    "There is no statistical test for the assumption of independence, so you can proceed!"
   ]
  },
  {
   "cell_type": "code",
   "execution_count": 48,
   "id": "1e941469-149b-480b-a820-827e53cc7fc1",
   "metadata": {},
   "outputs": [],
   "source": [
    "#### page 9 (One Way Between Subjects ANOVA in Python Part 2)"
   ]
  },
  {
   "cell_type": "code",
   "execution_count": 49,
   "id": "c8f1e4dc-75a5-4ed7-902b-738ecf07dae4",
   "metadata": {},
   "outputs": [],
   "source": [
    "## starts with a video"
   ]
  },
  {
   "cell_type": "code",
   "execution_count": 51,
   "id": "488b8a98-eed3-4887-975c-b07ca563c281",
   "metadata": {},
   "outputs": [],
   "source": [
    "## load in salon data from video\n",
    "## load data\n",
    "salon = pd.read_csv('../../datasets/client_cancellations.csv')"
   ]
  },
  {
   "cell_type": "code",
   "execution_count": 58,
   "id": "3f59d012-6928-4997-a828-8d17d6a33a79",
   "metadata": {},
   "outputs": [
    {
     "data": {
      "text/html": [
       "<div>\n",
       "<style scoped>\n",
       "    .dataframe tbody tr th:only-of-type {\n",
       "        vertical-align: middle;\n",
       "    }\n",
       "\n",
       "    .dataframe tbody tr th {\n",
       "        vertical-align: top;\n",
       "    }\n",
       "\n",
       "    .dataframe thead th {\n",
       "        text-align: right;\n",
       "    }\n",
       "</style>\n",
       "<table border=\"1\" class=\"dataframe\">\n",
       "  <thead>\n",
       "    <tr style=\"text-align: right;\">\n",
       "      <th></th>\n",
       "      <th>cancel date</th>\n",
       "      <th>cancel date month</th>\n",
       "      <th>code</th>\n",
       "      <th>service code</th>\n",
       "      <th>service desc</th>\n",
       "      <th>staff</th>\n",
       "      <th>booking date</th>\n",
       "      <th>booking date month</th>\n",
       "      <th>canceled by</th>\n",
       "      <th>days in adv</th>\n",
       "      <th>avg price</th>\n",
       "      <th>avgPriceSQRT</th>\n",
       "    </tr>\n",
       "  </thead>\n",
       "  <tbody>\n",
       "    <tr>\n",
       "      <th>0</th>\n",
       "      <td>3/10/2018</td>\n",
       "      <td>March</td>\n",
       "      <td>KOOM01</td>\n",
       "      <td>SHCW</td>\n",
       "      <td>Women's hair cut</td>\n",
       "      <td>JJ</td>\n",
       "      <td>4/3/2018</td>\n",
       "      <td>April</td>\n",
       "      <td>JJ</td>\n",
       "      <td>24</td>\n",
       "      <td>88.44</td>\n",
       "      <td>9.404254</td>\n",
       "    </tr>\n",
       "    <tr>\n",
       "      <th>1</th>\n",
       "      <td>3/27/2018</td>\n",
       "      <td>March</td>\n",
       "      <td>WIL*01</td>\n",
       "      <td>SHCW</td>\n",
       "      <td>Women's hair cut</td>\n",
       "      <td>JJ</td>\n",
       "      <td>3/29/2018</td>\n",
       "      <td>March</td>\n",
       "      <td>JJ</td>\n",
       "      <td>2</td>\n",
       "      <td>88.44</td>\n",
       "      <td>9.404254</td>\n",
       "    </tr>\n",
       "    <tr>\n",
       "      <th>2</th>\n",
       "      <td>4/3/2018</td>\n",
       "      <td>April</td>\n",
       "      <td>BUDG02</td>\n",
       "      <td>SHCM</td>\n",
       "      <td>Men's hair cut</td>\n",
       "      <td>SINEAD</td>\n",
       "      <td>4/21/2018</td>\n",
       "      <td>April</td>\n",
       "      <td>BECKY</td>\n",
       "      <td>18</td>\n",
       "      <td>41.41</td>\n",
       "      <td>6.435060</td>\n",
       "    </tr>\n",
       "    <tr>\n",
       "      <th>3</th>\n",
       "      <td>4/3/2018</td>\n",
       "      <td>April</td>\n",
       "      <td>HILJ01</td>\n",
       "      <td>CFC</td>\n",
       "      <td>Color full color</td>\n",
       "      <td>KELLY</td>\n",
       "      <td>4/3/2018</td>\n",
       "      <td>April</td>\n",
       "      <td>JJ</td>\n",
       "      <td>0</td>\n",
       "      <td>63.13</td>\n",
       "      <td>7.945439</td>\n",
       "    </tr>\n",
       "    <tr>\n",
       "      <th>4</th>\n",
       "      <td>4/3/2018</td>\n",
       "      <td>April</td>\n",
       "      <td>STEM01</td>\n",
       "      <td>SHCW</td>\n",
       "      <td>Women's hair cut</td>\n",
       "      <td>BECKY</td>\n",
       "      <td>4/21/2018</td>\n",
       "      <td>April</td>\n",
       "      <td>JJ</td>\n",
       "      <td>18</td>\n",
       "      <td>67.84</td>\n",
       "      <td>8.236504</td>\n",
       "    </tr>\n",
       "  </tbody>\n",
       "</table>\n",
       "</div>"
      ],
      "text/plain": [
       "  cancel date cancel date month    code service code      service desc  \\\n",
       "0   3/10/2018             March  KOOM01         SHCW  Women's hair cut   \n",
       "1   3/27/2018             March  WIL*01         SHCW  Women's hair cut   \n",
       "2    4/3/2018             April  BUDG02         SHCM    Men's hair cut   \n",
       "3    4/3/2018             April  HILJ01          CFC  Color full color   \n",
       "4    4/3/2018             April  STEM01         SHCW  Women's hair cut   \n",
       "\n",
       "    staff booking date booking date month canceled by  days in adv  avg price  \\\n",
       "0      JJ     4/3/2018              April          JJ           24      88.44   \n",
       "1      JJ    3/29/2018              March          JJ            2      88.44   \n",
       "2  SINEAD    4/21/2018              April       BECKY           18      41.41   \n",
       "3   KELLY     4/3/2018              April          JJ            0      63.13   \n",
       "4   BECKY    4/21/2018              April          JJ           18      67.84   \n",
       "\n",
       "   avgPriceSQRT  \n",
       "0      9.404254  \n",
       "1      9.404254  \n",
       "2      6.435060  \n",
       "3      7.945439  \n",
       "4      8.236504  "
      ]
     },
     "execution_count": 58,
     "metadata": {},
     "output_type": "execute_result"
    }
   ],
   "source": [
    "## she has the data carried over from previous video - need to make columns she already has\n",
    "salon.head()"
   ]
  },
  {
   "cell_type": "code",
   "execution_count": 57,
   "id": "c0edbb54-ce77-4eca-aaf6-a5caa0f36577",
   "metadata": {},
   "outputs": [
    {
     "data": {
      "text/html": [
       "<div>\n",
       "<style scoped>\n",
       "    .dataframe tbody tr th:only-of-type {\n",
       "        vertical-align: middle;\n",
       "    }\n",
       "\n",
       "    .dataframe tbody tr th {\n",
       "        vertical-align: top;\n",
       "    }\n",
       "\n",
       "    .dataframe thead th {\n",
       "        text-align: right;\n",
       "    }\n",
       "</style>\n",
       "<table border=\"1\" class=\"dataframe\">\n",
       "  <thead>\n",
       "    <tr style=\"text-align: right;\">\n",
       "      <th></th>\n",
       "      <th>cancel date</th>\n",
       "      <th>cancel date month</th>\n",
       "      <th>code</th>\n",
       "      <th>service code</th>\n",
       "      <th>service desc</th>\n",
       "      <th>staff</th>\n",
       "      <th>booking date</th>\n",
       "      <th>booking date month</th>\n",
       "      <th>canceled by</th>\n",
       "      <th>days in adv</th>\n",
       "      <th>avg price</th>\n",
       "      <th>avgPriceSQRT</th>\n",
       "    </tr>\n",
       "  </thead>\n",
       "  <tbody>\n",
       "    <tr>\n",
       "      <th>0</th>\n",
       "      <td>3/10/2018</td>\n",
       "      <td>March</td>\n",
       "      <td>KOOM01</td>\n",
       "      <td>SHCW</td>\n",
       "      <td>Women's hair cut</td>\n",
       "      <td>JJ</td>\n",
       "      <td>4/3/2018</td>\n",
       "      <td>April</td>\n",
       "      <td>JJ</td>\n",
       "      <td>24</td>\n",
       "      <td>88.44</td>\n",
       "      <td>9.404254</td>\n",
       "    </tr>\n",
       "    <tr>\n",
       "      <th>1</th>\n",
       "      <td>3/27/2018</td>\n",
       "      <td>March</td>\n",
       "      <td>WIL*01</td>\n",
       "      <td>SHCW</td>\n",
       "      <td>Women's hair cut</td>\n",
       "      <td>JJ</td>\n",
       "      <td>3/29/2018</td>\n",
       "      <td>March</td>\n",
       "      <td>JJ</td>\n",
       "      <td>2</td>\n",
       "      <td>88.44</td>\n",
       "      <td>9.404254</td>\n",
       "    </tr>\n",
       "    <tr>\n",
       "      <th>2</th>\n",
       "      <td>4/3/2018</td>\n",
       "      <td>April</td>\n",
       "      <td>BUDG02</td>\n",
       "      <td>SHCM</td>\n",
       "      <td>Men's hair cut</td>\n",
       "      <td>SINEAD</td>\n",
       "      <td>4/21/2018</td>\n",
       "      <td>April</td>\n",
       "      <td>BECKY</td>\n",
       "      <td>18</td>\n",
       "      <td>41.41</td>\n",
       "      <td>6.435060</td>\n",
       "    </tr>\n",
       "    <tr>\n",
       "      <th>3</th>\n",
       "      <td>4/3/2018</td>\n",
       "      <td>April</td>\n",
       "      <td>HILJ01</td>\n",
       "      <td>CFC</td>\n",
       "      <td>Color full color</td>\n",
       "      <td>KELLY</td>\n",
       "      <td>4/3/2018</td>\n",
       "      <td>April</td>\n",
       "      <td>JJ</td>\n",
       "      <td>0</td>\n",
       "      <td>63.13</td>\n",
       "      <td>7.945439</td>\n",
       "    </tr>\n",
       "    <tr>\n",
       "      <th>4</th>\n",
       "      <td>4/3/2018</td>\n",
       "      <td>April</td>\n",
       "      <td>STEM01</td>\n",
       "      <td>SHCW</td>\n",
       "      <td>Women's hair cut</td>\n",
       "      <td>BECKY</td>\n",
       "      <td>4/21/2018</td>\n",
       "      <td>April</td>\n",
       "      <td>JJ</td>\n",
       "      <td>18</td>\n",
       "      <td>67.84</td>\n",
       "      <td>8.236504</td>\n",
       "    </tr>\n",
       "  </tbody>\n",
       "</table>\n",
       "</div>"
      ],
      "text/plain": [
       "  cancel date cancel date month    code service code      service desc  \\\n",
       "0   3/10/2018             March  KOOM01         SHCW  Women's hair cut   \n",
       "1   3/27/2018             March  WIL*01         SHCW  Women's hair cut   \n",
       "2    4/3/2018             April  BUDG02         SHCM    Men's hair cut   \n",
       "3    4/3/2018             April  HILJ01          CFC  Color full color   \n",
       "4    4/3/2018             April  STEM01         SHCW  Women's hair cut   \n",
       "\n",
       "    staff booking date booking date month canceled by  days in adv  avg price  \\\n",
       "0      JJ     4/3/2018              April          JJ           24      88.44   \n",
       "1      JJ    3/29/2018              March          JJ            2      88.44   \n",
       "2  SINEAD    4/21/2018              April       BECKY           18      41.41   \n",
       "3   KELLY     4/3/2018              April          JJ            0      63.13   \n",
       "4   BECKY    4/21/2018              April          JJ           18      67.84   \n",
       "\n",
       "   avgPriceSQRT  \n",
       "0      9.404254  \n",
       "1      9.404254  \n",
       "2      6.435060  \n",
       "3      7.945439  \n",
       "4      8.236504  "
      ]
     },
     "execution_count": 57,
     "metadata": {},
     "output_type": "execute_result"
    }
   ],
   "source": [
    "salon['avgPriceSQRT'] = np.sqrt(salon['avg price'])\n",
    "salon.head()"
   ]
  },
  {
   "cell_type": "code",
   "execution_count": 62,
   "id": "f139f4d5-4112-4b7e-accf-2ef1af04caa1",
   "metadata": {},
   "outputs": [],
   "source": [
    "salon.dropna(inplace=True)"
   ]
  },
  {
   "cell_type": "markdown",
   "id": "a1a6ae3d-5e6e-452a-afdb-e5247400ac47",
   "metadata": {},
   "source": [
    "## running the analysis"
   ]
  },
  {
   "cell_type": "code",
   "execution_count": 63,
   "id": "68a1acb7-da75-43d9-bee3-9c274fcb1c9c",
   "metadata": {},
   "outputs": [
    {
     "data": {
      "text/plain": [
       "JJ        68\n",
       "BECKY     61\n",
       "JOANNE    45\n",
       "KELLY     44\n",
       "SINEAD    19\n",
       "TANYA      4\n",
       "Name: staff, dtype: int64"
      ]
     },
     "execution_count": 63,
     "metadata": {},
     "output_type": "execute_result"
    }
   ],
   "source": [
    "salon.staff.value_counts()"
   ]
  },
  {
   "cell_type": "code",
   "execution_count": 64,
   "id": "34e365eb-83a4-41a1-a7d4-16a8a4200e97",
   "metadata": {},
   "outputs": [
    {
     "data": {
      "text/plain": [
       "F_onewayResult(statistic=8.109764971308326, pvalue=4.4521793522335193e-07)"
      ]
     },
     "execution_count": 64,
     "metadata": {},
     "output_type": "execute_result"
    }
   ],
   "source": [
    "stats.f_oneway(salon['avgPriceSQRT'][salon['staff']=='JJ'],\n",
    "              salon['avgPriceSQRT'][salon['staff']=='BECKY'],\n",
    "              salon['avgPriceSQRT'][salon['staff']=='JOANNE'],\n",
    "              salon['avgPriceSQRT'][salon['staff']=='KELLY'],\n",
    "              salon['avgPriceSQRT'][salon['staff']=='SINEAD'],\n",
    "              salon['avgPriceSQRT'][salon['staff']=='TANYA'])"
   ]
  },
  {
   "cell_type": "code",
   "execution_count": 65,
   "id": "590eb1f9-758c-4b85-a2ba-e690423e68aa",
   "metadata": {},
   "outputs": [],
   "source": [
    "## this shows significant difference between staff members and the average price they bring in. But how do we know which is better? Through post hocs with Tukeys"
   ]
  },
  {
   "cell_type": "code",
   "execution_count": 66,
   "id": "0e88fe64-56e2-48b9-ac91-d6592502507d",
   "metadata": {},
   "outputs": [],
   "source": [
    "postHoc = MultiComparison(salon['avgPriceSQRT'], salon['staff'])"
   ]
  },
  {
   "cell_type": "code",
   "execution_count": 67,
   "id": "aa6c8e7c-f319-47de-87fc-8bf6bf098b20",
   "metadata": {},
   "outputs": [],
   "source": [
    "postHocResults = postHoc.tukeyhsd()"
   ]
  },
  {
   "cell_type": "code",
   "execution_count": 68,
   "id": "172ede22-d96f-4c9e-87d4-73d47d581dd1",
   "metadata": {},
   "outputs": [
    {
     "name": "stdout",
     "output_type": "stream",
     "text": [
      "Multiple Comparison of Means - Tukey HSD, FWER=0.05 \n",
      "====================================================\n",
      "group1 group2 meandiff p-adj   lower   upper  reject\n",
      "----------------------------------------------------\n",
      " BECKY     JJ   1.0707 0.1053 -0.1199  2.2612  False\n",
      " BECKY JOANNE   2.8075  0.001  1.4809  4.1342   True\n",
      " BECKY  KELLY   0.9295 0.3456 -0.4058  2.2648  False\n",
      " BECKY SINEAD   0.2797    0.9 -1.4939  2.0534  False\n",
      " BECKY  TANYA  -0.1675    0.9 -3.6519  3.3169  False\n",
      "    JJ JOANNE   1.7369 0.0021  0.4396  3.0342   True\n",
      "    JJ  KELLY  -0.1412    0.9 -1.4473   1.165  False\n",
      "    JJ SINEAD   -0.791 0.7595 -2.5428  0.9609  False\n",
      "    JJ  TANYA  -1.2382    0.9 -4.7115  2.2352  False\n",
      "JOANNE  KELLY   -1.878 0.0028 -3.3093 -0.4468   True\n",
      "JOANNE SINEAD  -2.5278 0.0015 -4.3749 -0.6808   True\n",
      "JOANNE  TANYA   -2.975 0.1512 -6.4973  0.5473  False\n",
      " KELLY SINEAD  -0.6498    0.9  -2.503  1.2035  False\n",
      " KELLY  TANYA   -1.097    0.9 -4.6226  2.4286  False\n",
      "SINEAD  TANYA  -0.4472    0.9 -4.1611  3.2666  False\n",
      "----------------------------------------------------\n"
     ]
    }
   ],
   "source": [
    "print(postHocResults)"
   ]
  },
  {
   "cell_type": "code",
   "execution_count": 69,
   "id": "c9c935cd-7e2f-4ddd-b2f3-e542f8396150",
   "metadata": {},
   "outputs": [],
   "source": [
    "## if 'reject' column is true. We reject the null hypothesis. Meaning that there is a significant difference betweenthe two staff members."
   ]
  },
  {
   "cell_type": "code",
   "execution_count": 70,
   "id": "54b29bed-ca57-4478-8c90-463f312461ba",
   "metadata": {},
   "outputs": [],
   "source": [
    "## We do not get to see the p-value here - to examine which staff member is better, we need to look at the means"
   ]
  },
  {
   "cell_type": "code",
   "execution_count": 71,
   "id": "50166ae3-44a5-48d6-989d-5795140ffc72",
   "metadata": {},
   "outputs": [
    {
     "data": {
      "text/html": [
       "<div>\n",
       "<style scoped>\n",
       "    .dataframe tbody tr th:only-of-type {\n",
       "        vertical-align: middle;\n",
       "    }\n",
       "\n",
       "    .dataframe tbody tr th {\n",
       "        vertical-align: top;\n",
       "    }\n",
       "\n",
       "    .dataframe thead th {\n",
       "        text-align: right;\n",
       "    }\n",
       "</style>\n",
       "<table border=\"1\" class=\"dataframe\">\n",
       "  <thead>\n",
       "    <tr style=\"text-align: right;\">\n",
       "      <th></th>\n",
       "      <th>days in adv</th>\n",
       "      <th>avg price</th>\n",
       "      <th>avgPriceSQRT</th>\n",
       "    </tr>\n",
       "    <tr>\n",
       "      <th>staff</th>\n",
       "      <th></th>\n",
       "      <th></th>\n",
       "      <th></th>\n",
       "    </tr>\n",
       "  </thead>\n",
       "  <tbody>\n",
       "    <tr>\n",
       "      <th>BECKY</th>\n",
       "      <td>7.295082</td>\n",
       "      <td>51.064590</td>\n",
       "      <td>6.896776</td>\n",
       "    </tr>\n",
       "    <tr>\n",
       "      <th>JJ</th>\n",
       "      <td>5.029412</td>\n",
       "      <td>66.325588</td>\n",
       "      <td>7.967442</td>\n",
       "    </tr>\n",
       "    <tr>\n",
       "      <th>JOANNE</th>\n",
       "      <td>4.488889</td>\n",
       "      <td>108.042444</td>\n",
       "      <td>9.704312</td>\n",
       "    </tr>\n",
       "    <tr>\n",
       "      <th>KELLY</th>\n",
       "      <td>3.863636</td>\n",
       "      <td>66.137727</td>\n",
       "      <td>7.826262</td>\n",
       "    </tr>\n",
       "    <tr>\n",
       "      <th>SINEAD</th>\n",
       "      <td>7.368421</td>\n",
       "      <td>52.733684</td>\n",
       "      <td>7.176490</td>\n",
       "    </tr>\n",
       "    <tr>\n",
       "      <th>TANYA</th>\n",
       "      <td>2.000000</td>\n",
       "      <td>52.222500</td>\n",
       "      <td>6.729286</td>\n",
       "    </tr>\n",
       "  </tbody>\n",
       "</table>\n",
       "</div>"
      ],
      "text/plain": [
       "        days in adv   avg price  avgPriceSQRT\n",
       "staff                                        \n",
       "BECKY      7.295082   51.064590      6.896776\n",
       "JJ         5.029412   66.325588      7.967442\n",
       "JOANNE     4.488889  108.042444      9.704312\n",
       "KELLY      3.863636   66.137727      7.826262\n",
       "SINEAD     7.368421   52.733684      7.176490\n",
       "TANYA      2.000000   52.222500      6.729286"
      ]
     },
     "execution_count": 71,
     "metadata": {},
     "output_type": "execute_result"
    }
   ],
   "source": [
    "salon.groupby('staff').mean()"
   ]
  },
  {
   "cell_type": "code",
   "execution_count": 72,
   "id": "fcbec5fa-1528-470d-b9c8-4ceb2b0169c1",
   "metadata": {},
   "outputs": [],
   "source": [
    "## Joanne brings in almost double what every other staff member brings in"
   ]
  },
  {
   "cell_type": "code",
   "execution_count": 74,
   "id": "ea3e7639-0a7e-42a2-8dd8-85fce37ed3ba",
   "metadata": {},
   "outputs": [],
   "source": [
    "#### end of video"
   ]
  },
  {
   "cell_type": "code",
   "execution_count": 75,
   "id": "ea7e23df-d3d2-4832-80dc-8a6bee6dfcfe",
   "metadata": {},
   "outputs": [],
   "source": [
    "## Page 9 text"
   ]
  },
  {
   "cell_type": "code",
   "execution_count": null,
   "id": "71903695-23e2-4e26-8d52-53c438304b20",
   "metadata": {},
   "outputs": [],
   "source": []
  }
 ],
 "metadata": {
  "kernelspec": {
   "display_name": "Python 3 (ipykernel)",
   "language": "python",
   "name": "python3"
  },
  "language_info": {
   "codemirror_mode": {
    "name": "ipython",
    "version": 3
   },
   "file_extension": ".py",
   "mimetype": "text/x-python",
   "name": "python",
   "nbconvert_exporter": "python",
   "pygments_lexer": "ipython3",
   "version": "3.9.5"
  }
 },
 "nbformat": 4,
 "nbformat_minor": 5
}
