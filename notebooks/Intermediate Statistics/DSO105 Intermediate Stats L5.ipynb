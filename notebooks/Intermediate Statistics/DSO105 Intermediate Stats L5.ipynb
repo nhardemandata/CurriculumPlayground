{
 "cells": [
  {
   "cell_type": "markdown",
   "id": "68833bcf-317f-4c4f-a873-cb5064e5f5c4",
   "metadata": {},
   "source": [
    "# Repeated Measures ANOVAs"
   ]
  },
  {
   "cell_type": "code",
   "execution_count": 2,
   "id": "339ba292-3d06-4a45-aba4-db4232184c3b",
   "metadata": {},
   "outputs": [],
   "source": [
    "#### Page 1"
   ]
  },
  {
   "cell_type": "markdown",
   "id": "b22735ed-09a0-41fd-b8a4-966b76c5c2e2",
   "metadata": {},
   "source": [
    "## Introduction\n",
    "\n",
    "Repeated Measures ANOVAs, also known as within subjects ANOVAs, are when you are measuring the same person or thing repeatedly over time. Although they are used extensively in research studies and experiments, they often have in real-world data science applications when looking at changes over time. For instance, did unemployment rate increase from 2008 to 2009?"
   ]
  },
  {
   "cell_type": "code",
   "execution_count": null,
   "id": "cb7d3b7c-0585-46ac-a633-b2f344cf3011",
   "metadata": {},
   "outputs": [],
   "source": [
    "#### Page 2"
   ]
  }
 ],
 "metadata": {
  "kernelspec": {
   "display_name": "R",
   "language": "R",
   "name": "ir"
  },
  "language_info": {
   "codemirror_mode": "r",
   "file_extension": ".r",
   "mimetype": "text/x-r-source",
   "name": "R",
   "pygments_lexer": "r",
   "version": "4.1.0"
  }
 },
 "nbformat": 4,
 "nbformat_minor": 5
}
