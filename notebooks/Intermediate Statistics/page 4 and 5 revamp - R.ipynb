{
 "cells": [
  {
   "cell_type": "markdown",
   "id": "abb15bdc-48f6-49c9-99c8-1de8639cfd87",
   "metadata": {},
   "source": [
    "# DSO105 Int Stats Page 4 and 5 revamp"
   ]
  },
  {
   "cell_type": "code",
   "execution_count": 2,
   "id": "36060db1-fe6a-4bb1-8f46-6697ef265788",
   "metadata": {},
   "outputs": [],
   "source": [
    "## in R"
   ]
  },
  {
   "cell_type": "code",
   "execution_count": 3,
   "id": "a7648aaa-4c99-4923-a40d-78c7dd3ce459",
   "metadata": {},
   "outputs": [
    {
     "name": "stderr",
     "output_type": "stream",
     "text": [
      "Installing package into 'C:/Users/nolan/OneDrive/Documents/R/win-library/4.1'\n",
      "(as 'lib' is unspecified)\n",
      "\n"
     ]
    },
    {
     "name": "stdout",
     "output_type": "stream",
     "text": [
      "package 'rcompanion' successfully unpacked and MD5 sums checked\n",
      "\n",
      "The downloaded binary packages are in\n",
      "\tC:\\Users\\nolan\\AppData\\Local\\Temp\\RtmpSAd7V4\\downloaded_packages\n"
     ]
    },
    {
     "name": "stderr",
     "output_type": "stream",
     "text": [
      "Installing package into 'C:/Users/nolan/OneDrive/Documents/R/win-library/4.1'\n",
      "(as 'lib' is unspecified)\n",
      "\n"
     ]
    },
    {
     "name": "stdout",
     "output_type": "stream",
     "text": [
      "package 'car' successfully unpacked and MD5 sums checked\n",
      "\n",
      "The downloaded binary packages are in\n",
      "\tC:\\Users\\nolan\\AppData\\Local\\Temp\\RtmpSAd7V4\\downloaded_packages\n"
     ]
    },
    {
     "name": "stderr",
     "output_type": "stream",
     "text": [
      "Installing package into 'C:/Users/nolan/OneDrive/Documents/R/win-library/4.1'\n",
      "(as 'lib' is unspecified)\n",
      "\n"
     ]
    },
    {
     "name": "stdout",
     "output_type": "stream",
     "text": [
      "package 'readxl' successfully unpacked and MD5 sums checked\n"
     ]
    },
    {
     "name": "stderr",
     "output_type": "stream",
     "text": [
      "Warning message:\n",
      "\"cannot remove prior installation of package 'readxl'\"\n",
      "Warning message in file.copy(savedcopy, lib, recursive = TRUE):\n",
      "\"problem copying C:\\Users\\nolan\\OneDrive\\Documents\\R\\win-library\\4.1\\00LOCK\\readxl\\libs\\x64\\readxl.dll to C:\\Users\\nolan\\OneDrive\\Documents\\R\\win-library\\4.1\\readxl\\libs\\x64\\readxl.dll: Permission denied\"\n",
      "Warning message:\n",
      "\"restored 'readxl'\"\n"
     ]
    },
    {
     "name": "stdout",
     "output_type": "stream",
     "text": [
      "\n",
      "The downloaded binary packages are in\n",
      "\tC:\\Users\\nolan\\AppData\\Local\\Temp\\RtmpSAd7V4\\downloaded_packages\n"
     ]
    },
    {
     "name": "stderr",
     "output_type": "stream",
     "text": [
      "-- \u001b[1mAttaching packages\u001b[22m ------------------------------------------------------------------------------- tidyverse 1.3.1 --\n",
      "\n",
      "\u001b[32mv\u001b[39m \u001b[34mggplot2\u001b[39m 3.3.5     \u001b[32mv\u001b[39m \u001b[34mpurrr  \u001b[39m 0.3.4\n",
      "\u001b[32mv\u001b[39m \u001b[34mtibble \u001b[39m 3.1.2     \u001b[32mv\u001b[39m \u001b[34mdplyr  \u001b[39m 1.0.6\n",
      "\u001b[32mv\u001b[39m \u001b[34mtidyr  \u001b[39m 1.1.3     \u001b[32mv\u001b[39m \u001b[34mstringr\u001b[39m 1.4.0\n",
      "\u001b[32mv\u001b[39m \u001b[34mreadr  \u001b[39m 1.4.0     \u001b[32mv\u001b[39m \u001b[34mforcats\u001b[39m 0.5.1\n",
      "\n",
      "-- \u001b[1mConflicts\u001b[22m ---------------------------------------------------------------------------------- tidyverse_conflicts() --\n",
      "\u001b[31mx\u001b[39m \u001b[34mdplyr\u001b[39m::\u001b[32mfilter()\u001b[39m masks \u001b[34mstats\u001b[39m::filter()\n",
      "\u001b[31mx\u001b[39m \u001b[34mdplyr\u001b[39m::\u001b[32mlag()\u001b[39m    masks \u001b[34mstats\u001b[39m::lag()\n",
      "\n",
      "Loading required package: carData\n",
      "\n",
      "\n",
      "Attaching package: 'car'\n",
      "\n",
      "\n",
      "The following object is masked from 'package:dplyr':\n",
      "\n",
      "    recode\n",
      "\n",
      "\n",
      "The following object is masked from 'package:purrr':\n",
      "\n",
      "    some\n",
      "\n",
      "\n"
     ]
    }
   ],
   "source": [
    "## load libraries\n",
    "\n",
    "\n",
    "install.packages('rcompanion')\n",
    "install.packages('car')\n",
    "install.packages('readxl')\n",
    "\n",
    "library(tidyverse)\n",
    "library(IDPmisc)\n",
    "library(rcompanion)\n",
    "library(car)\n",
    "library(readxl)"
   ]
  },
  {
   "cell_type": "code",
   "execution_count": 4,
   "id": "3b07d89b-a487-4957-943c-250929231561",
   "metadata": {},
   "outputs": [],
   "source": [
    "## load data for one way between subjects Anova in R"
   ]
  },
  {
   "cell_type": "code",
   "execution_count": 28,
   "id": "ffc6fc41-454d-46ca-8d4b-3df3ea8ad7f5",
   "metadata": {},
   "outputs": [],
   "source": [
    "cc = read.csv('../../datasets/PlayData/BankChurners.csv')"
   ]
  },
  {
   "cell_type": "code",
   "execution_count": 29,
   "id": "3827ff3f-f18a-420e-9ee1-8c7dd153725b",
   "metadata": {},
   "outputs": [
    {
     "data": {
      "text/html": [
       "<table class=\"dataframe\">\n",
       "<caption>A data.frame: 6 × 23</caption>\n",
       "<thead>\n",
       "\t<tr><th></th><th scope=col>CLIENTNUM</th><th scope=col>Attrition_Flag</th><th scope=col>Customer_Age</th><th scope=col>Gender</th><th scope=col>Dependent_count</th><th scope=col>Education_Level</th><th scope=col>Marital_Status</th><th scope=col>Income_Category</th><th scope=col>Card_Category</th><th scope=col>Months_on_book</th><th scope=col>...</th><th scope=col>Credit_Limit</th><th scope=col>Total_Revolving_Bal</th><th scope=col>Avg_Open_To_Buy</th><th scope=col>Total_Amt_Chng_Q4_Q1</th><th scope=col>Total_Trans_Amt</th><th scope=col>Total_Trans_Ct</th><th scope=col>Total_Ct_Chng_Q4_Q1</th><th scope=col>Avg_Utilization_Ratio</th><th scope=col>Naive_Bayes_Classifier_Attrition_Flag_Card_Category_Contacts_Count_12_mon_Dependent_count_Education_Level_Months_Inactive_12_mon_1</th><th scope=col>Naive_Bayes_Classifier_Attrition_Flag_Card_Category_Contacts_Count_12_mon_Dependent_count_Education_Level_Months_Inactive_12_mon_2</th></tr>\n",
       "\t<tr><th></th><th scope=col>&lt;int&gt;</th><th scope=col>&lt;chr&gt;</th><th scope=col>&lt;int&gt;</th><th scope=col>&lt;chr&gt;</th><th scope=col>&lt;int&gt;</th><th scope=col>&lt;chr&gt;</th><th scope=col>&lt;chr&gt;</th><th scope=col>&lt;chr&gt;</th><th scope=col>&lt;chr&gt;</th><th scope=col>&lt;int&gt;</th><th scope=col>...</th><th scope=col>&lt;dbl&gt;</th><th scope=col>&lt;int&gt;</th><th scope=col>&lt;dbl&gt;</th><th scope=col>&lt;dbl&gt;</th><th scope=col>&lt;int&gt;</th><th scope=col>&lt;int&gt;</th><th scope=col>&lt;dbl&gt;</th><th scope=col>&lt;dbl&gt;</th><th scope=col>&lt;dbl&gt;</th><th scope=col>&lt;dbl&gt;</th></tr>\n",
       "</thead>\n",
       "<tbody>\n",
       "\t<tr><th scope=row>1</th><td>768805383</td><td>Existing Customer</td><td>45</td><td>M</td><td>3</td><td>High School</td><td>Married</td><td>$60K - $80K   </td><td>Blue</td><td>39</td><td>...</td><td>12691</td><td> 777</td><td>11914</td><td>1.335</td><td>1144</td><td>42</td><td>1.625</td><td>0.061</td><td>9.3448e-05</td><td>0.99991</td></tr>\n",
       "\t<tr><th scope=row>2</th><td>818770008</td><td>Existing Customer</td><td>49</td><td>F</td><td>5</td><td>Graduate   </td><td>Single </td><td>Less than $40K</td><td>Blue</td><td>44</td><td>...</td><td> 8256</td><td> 864</td><td> 7392</td><td>1.541</td><td>1291</td><td>33</td><td>3.714</td><td>0.105</td><td>5.6861e-05</td><td>0.99994</td></tr>\n",
       "\t<tr><th scope=row>3</th><td>713982108</td><td>Existing Customer</td><td>51</td><td>M</td><td>3</td><td>Graduate   </td><td>Married</td><td>$80K - $120K  </td><td>Blue</td><td>36</td><td>...</td><td> 3418</td><td>   0</td><td> 3418</td><td>2.594</td><td>1887</td><td>20</td><td>2.333</td><td>0.000</td><td>2.1081e-05</td><td>0.99998</td></tr>\n",
       "\t<tr><th scope=row>4</th><td>769911858</td><td>Existing Customer</td><td>40</td><td>F</td><td>4</td><td>High School</td><td>Unknown</td><td>Less than $40K</td><td>Blue</td><td>34</td><td>...</td><td> 3313</td><td>2517</td><td>  796</td><td>1.405</td><td>1171</td><td>20</td><td>2.333</td><td>0.760</td><td>1.3366e-04</td><td>0.99987</td></tr>\n",
       "\t<tr><th scope=row>5</th><td>709106358</td><td>Existing Customer</td><td>40</td><td>M</td><td>3</td><td>Uneducated </td><td>Married</td><td>$60K - $80K   </td><td>Blue</td><td>21</td><td>...</td><td> 4716</td><td>   0</td><td> 4716</td><td>2.175</td><td> 816</td><td>28</td><td>2.500</td><td>0.000</td><td>2.1676e-05</td><td>0.99998</td></tr>\n",
       "\t<tr><th scope=row>6</th><td>713061558</td><td>Existing Customer</td><td>44</td><td>M</td><td>2</td><td>Graduate   </td><td>Married</td><td>$40K - $60K   </td><td>Blue</td><td>36</td><td>...</td><td> 4010</td><td>1247</td><td> 2763</td><td>1.376</td><td>1088</td><td>24</td><td>0.846</td><td>0.311</td><td>5.5077e-05</td><td>0.99994</td></tr>\n",
       "</tbody>\n",
       "</table>\n"
      ],
      "text/latex": [
       "A data.frame: 6 × 23\n",
       "\\begin{tabular}{r|lllllllllllllllllllll}\n",
       "  & CLIENTNUM & Attrition\\_Flag & Customer\\_Age & Gender & Dependent\\_count & Education\\_Level & Marital\\_Status & Income\\_Category & Card\\_Category & Months\\_on\\_book & ... & Credit\\_Limit & Total\\_Revolving\\_Bal & Avg\\_Open\\_To\\_Buy & Total\\_Amt\\_Chng\\_Q4\\_Q1 & Total\\_Trans\\_Amt & Total\\_Trans\\_Ct & Total\\_Ct\\_Chng\\_Q4\\_Q1 & Avg\\_Utilization\\_Ratio & Naive\\_Bayes\\_Classifier\\_Attrition\\_Flag\\_Card\\_Category\\_Contacts\\_Count\\_12\\_mon\\_Dependent\\_count\\_Education\\_Level\\_Months\\_Inactive\\_12\\_mon\\_1 & Naive\\_Bayes\\_Classifier\\_Attrition\\_Flag\\_Card\\_Category\\_Contacts\\_Count\\_12\\_mon\\_Dependent\\_count\\_Education\\_Level\\_Months\\_Inactive\\_12\\_mon\\_2\\\\\n",
       "  & <int> & <chr> & <int> & <chr> & <int> & <chr> & <chr> & <chr> & <chr> & <int> & ... & <dbl> & <int> & <dbl> & <dbl> & <int> & <int> & <dbl> & <dbl> & <dbl> & <dbl>\\\\\n",
       "\\hline\n",
       "\t1 & 768805383 & Existing Customer & 45 & M & 3 & High School & Married & \\$60K - \\$80K    & Blue & 39 & ... & 12691 &  777 & 11914 & 1.335 & 1144 & 42 & 1.625 & 0.061 & 9.3448e-05 & 0.99991\\\\\n",
       "\t2 & 818770008 & Existing Customer & 49 & F & 5 & Graduate    & Single  & Less than \\$40K & Blue & 44 & ... &  8256 &  864 &  7392 & 1.541 & 1291 & 33 & 3.714 & 0.105 & 5.6861e-05 & 0.99994\\\\\n",
       "\t3 & 713982108 & Existing Customer & 51 & M & 3 & Graduate    & Married & \\$80K - \\$120K   & Blue & 36 & ... &  3418 &    0 &  3418 & 2.594 & 1887 & 20 & 2.333 & 0.000 & 2.1081e-05 & 0.99998\\\\\n",
       "\t4 & 769911858 & Existing Customer & 40 & F & 4 & High School & Unknown & Less than \\$40K & Blue & 34 & ... &  3313 & 2517 &   796 & 1.405 & 1171 & 20 & 2.333 & 0.760 & 1.3366e-04 & 0.99987\\\\\n",
       "\t5 & 709106358 & Existing Customer & 40 & M & 3 & Uneducated  & Married & \\$60K - \\$80K    & Blue & 21 & ... &  4716 &    0 &  4716 & 2.175 &  816 & 28 & 2.500 & 0.000 & 2.1676e-05 & 0.99998\\\\\n",
       "\t6 & 713061558 & Existing Customer & 44 & M & 2 & Graduate    & Married & \\$40K - \\$60K    & Blue & 36 & ... &  4010 & 1247 &  2763 & 1.376 & 1088 & 24 & 0.846 & 0.311 & 5.5077e-05 & 0.99994\\\\\n",
       "\\end{tabular}\n"
      ],
      "text/markdown": [
       "\n",
       "A data.frame: 6 × 23\n",
       "\n",
       "| <!--/--> | CLIENTNUM &lt;int&gt; | Attrition_Flag &lt;chr&gt; | Customer_Age &lt;int&gt; | Gender &lt;chr&gt; | Dependent_count &lt;int&gt; | Education_Level &lt;chr&gt; | Marital_Status &lt;chr&gt; | Income_Category &lt;chr&gt; | Card_Category &lt;chr&gt; | Months_on_book &lt;int&gt; | ... ... | Credit_Limit &lt;dbl&gt; | Total_Revolving_Bal &lt;int&gt; | Avg_Open_To_Buy &lt;dbl&gt; | Total_Amt_Chng_Q4_Q1 &lt;dbl&gt; | Total_Trans_Amt &lt;int&gt; | Total_Trans_Ct &lt;int&gt; | Total_Ct_Chng_Q4_Q1 &lt;dbl&gt; | Avg_Utilization_Ratio &lt;dbl&gt; | Naive_Bayes_Classifier_Attrition_Flag_Card_Category_Contacts_Count_12_mon_Dependent_count_Education_Level_Months_Inactive_12_mon_1 &lt;dbl&gt; | Naive_Bayes_Classifier_Attrition_Flag_Card_Category_Contacts_Count_12_mon_Dependent_count_Education_Level_Months_Inactive_12_mon_2 &lt;dbl&gt; |\n",
       "|---|---|---|---|---|---|---|---|---|---|---|---|---|---|---|---|---|---|---|---|---|---|\n",
       "| 1 | 768805383 | Existing Customer | 45 | M | 3 | High School | Married | $60K - $80K    | Blue | 39 | ... | 12691 |  777 | 11914 | 1.335 | 1144 | 42 | 1.625 | 0.061 | 9.3448e-05 | 0.99991 |\n",
       "| 2 | 818770008 | Existing Customer | 49 | F | 5 | Graduate    | Single  | Less than $40K | Blue | 44 | ... |  8256 |  864 |  7392 | 1.541 | 1291 | 33 | 3.714 | 0.105 | 5.6861e-05 | 0.99994 |\n",
       "| 3 | 713982108 | Existing Customer | 51 | M | 3 | Graduate    | Married | $80K - $120K   | Blue | 36 | ... |  3418 |    0 |  3418 | 2.594 | 1887 | 20 | 2.333 | 0.000 | 2.1081e-05 | 0.99998 |\n",
       "| 4 | 769911858 | Existing Customer | 40 | F | 4 | High School | Unknown | Less than $40K | Blue | 34 | ... |  3313 | 2517 |   796 | 1.405 | 1171 | 20 | 2.333 | 0.760 | 1.3366e-04 | 0.99987 |\n",
       "| 5 | 709106358 | Existing Customer | 40 | M | 3 | Uneducated  | Married | $60K - $80K    | Blue | 21 | ... |  4716 |    0 |  4716 | 2.175 |  816 | 28 | 2.500 | 0.000 | 2.1676e-05 | 0.99998 |\n",
       "| 6 | 713061558 | Existing Customer | 44 | M | 2 | Graduate    | Married | $40K - $60K    | Blue | 36 | ... |  4010 | 1247 |  2763 | 1.376 | 1088 | 24 | 0.846 | 0.311 | 5.5077e-05 | 0.99994 |\n",
       "\n"
      ],
      "text/plain": [
       "  CLIENTNUM Attrition_Flag    Customer_Age Gender Dependent_count\n",
       "1 768805383 Existing Customer 45           M      3              \n",
       "2 818770008 Existing Customer 49           F      5              \n",
       "3 713982108 Existing Customer 51           M      3              \n",
       "4 769911858 Existing Customer 40           F      4              \n",
       "5 709106358 Existing Customer 40           M      3              \n",
       "6 713061558 Existing Customer 44           M      2              \n",
       "  Education_Level Marital_Status Income_Category Card_Category Months_on_book\n",
       "1 High School     Married        $60K - $80K     Blue          39            \n",
       "2 Graduate        Single         Less than $40K  Blue          44            \n",
       "3 Graduate        Married        $80K - $120K    Blue          36            \n",
       "4 High School     Unknown        Less than $40K  Blue          34            \n",
       "5 Uneducated      Married        $60K - $80K     Blue          21            \n",
       "6 Graduate        Married        $40K - $60K     Blue          36            \n",
       "  ... Credit_Limit Total_Revolving_Bal Avg_Open_To_Buy Total_Amt_Chng_Q4_Q1\n",
       "1 ... 12691         777                11914           1.335               \n",
       "2 ...  8256         864                 7392           1.541               \n",
       "3 ...  3418           0                 3418           2.594               \n",
       "4 ...  3313        2517                  796           1.405               \n",
       "5 ...  4716           0                 4716           2.175               \n",
       "6 ...  4010        1247                 2763           1.376               \n",
       "  Total_Trans_Amt Total_Trans_Ct Total_Ct_Chng_Q4_Q1 Avg_Utilization_Ratio\n",
       "1 1144            42             1.625               0.061                \n",
       "2 1291            33             3.714               0.105                \n",
       "3 1887            20             2.333               0.000                \n",
       "4 1171            20             2.333               0.760                \n",
       "5  816            28             2.500               0.000                \n",
       "6 1088            24             0.846               0.311                \n",
       "  Naive_Bayes_Classifier_Attrition_Flag_Card_Category_Contacts_Count_12_mon_Dependent_count_Education_Level_Months_Inactive_12_mon_1\n",
       "1 9.3448e-05                                                                                                                        \n",
       "2 5.6861e-05                                                                                                                        \n",
       "3 2.1081e-05                                                                                                                        \n",
       "4 1.3366e-04                                                                                                                        \n",
       "5 2.1676e-05                                                                                                                        \n",
       "6 5.5077e-05                                                                                                                        \n",
       "  Naive_Bayes_Classifier_Attrition_Flag_Card_Category_Contacts_Count_12_mon_Dependent_count_Education_Level_Months_Inactive_12_mon_2\n",
       "1 0.99991                                                                                                                           \n",
       "2 0.99994                                                                                                                           \n",
       "3 0.99998                                                                                                                           \n",
       "4 0.99987                                                                                                                           \n",
       "5 0.99998                                                                                                                           \n",
       "6 0.99994                                                                                                                           "
      ]
     },
     "metadata": {},
     "output_type": "display_data"
    }
   ],
   "source": [
    "head(cc)"
   ]
  },
  {
   "cell_type": "markdown",
   "id": "1fc747d4-a416-4fcd-9d27-59c48249337f",
   "metadata": {},
   "source": [
    "#### list out all column value counts to get an idea of your data and what to look for"
   ]
  },
  {
   "cell_type": "code",
   "execution_count": 30,
   "id": "5b0e167e-4b06-440d-9e2a-116f7f1461bb",
   "metadata": {},
   "outputs": [
    {
     "data": {
      "text/html": [
       "<table class=\"dataframe\">\n",
       "<caption>A data.frame: 4 × 1</caption>\n",
       "<thead>\n",
       "\t<tr><th></th><th scope=col>Card_Category</th></tr>\n",
       "\t<tr><th></th><th scope=col>&lt;chr&gt;</th></tr>\n",
       "</thead>\n",
       "<tbody>\n",
       "\t<tr><th scope=row>1</th><td>Blue    </td></tr>\n",
       "\t<tr><th scope=row>7</th><td>Gold    </td></tr>\n",
       "\t<tr><th scope=row>8</th><td>Silver  </td></tr>\n",
       "\t<tr><th scope=row>444</th><td>Platinum</td></tr>\n",
       "</tbody>\n",
       "</table>\n"
      ],
      "text/latex": [
       "A data.frame: 4 × 1\n",
       "\\begin{tabular}{r|l}\n",
       "  & Card\\_Category\\\\\n",
       "  & <chr>\\\\\n",
       "\\hline\n",
       "\t1 & Blue    \\\\\n",
       "\t7 & Gold    \\\\\n",
       "\t8 & Silver  \\\\\n",
       "\t444 & Platinum\\\\\n",
       "\\end{tabular}\n"
      ],
      "text/markdown": [
       "\n",
       "A data.frame: 4 × 1\n",
       "\n",
       "| <!--/--> | Card_Category &lt;chr&gt; |\n",
       "|---|---|\n",
       "| 1 | Blue     |\n",
       "| 7 | Gold     |\n",
       "| 8 | Silver   |\n",
       "| 444 | Platinum |\n",
       "\n"
      ],
      "text/plain": [
       "    Card_Category\n",
       "1   Blue         \n",
       "7   Gold         \n",
       "8   Silver       \n",
       "444 Platinum     "
      ]
     },
     "metadata": {},
     "output_type": "display_data"
    }
   ],
   "source": [
    "unique(cc[c(\"Card_Category\")])\n",
    "## lets see if there is a difference in age among the 4 card categories."
   ]
  },
  {
   "cell_type": "code",
   "execution_count": null,
   "id": "b620a3d9-06ab-4592-a372-f6034a0ff1dc",
   "metadata": {},
   "outputs": [],
   "source": [
    "## make sure your DV is continuous (age is already)"
   ]
  },
  {
   "cell_type": "markdown",
   "id": "4e924ad1-9c50-43eb-a004-d9aa35124c07",
   "metadata": {},
   "source": [
    "## One Way Between Subjects ANOVAs in R\n",
    "\n",
    "Now that you have a basic idea about what an ANOVA is, you will learn how to create ANOVAs in R, starting with the One Way ANOVA.\n",
    "\n",
    "## Load Libraries\n",
    "\n",
    "ANOVAs come as part of the base package in R, so the only libraries you will need to load in are dplyr because you'll need it for some data wrangling, rcompanion because you'll use it to check for the assumption of normality, and car if you need to run an ANOVA that will correct for a violation of homogeneity of variance."
   ]
  },
  {
   "cell_type": "markdown",
   "id": "5af0f0da-088a-4ed7-b59d-9e1bdb09e669",
   "metadata": {},
   "source": [
    "## Question Setup\n",
    "\n",
    "With this data, you will answer the question:\n",
    "\n",
    "*Is there a difference in age among the 4 card categories?*"
   ]
  },
  {
   "cell_type": "markdown",
   "id": "72364be0-f1da-4ce3-858f-704594031c6a",
   "metadata": {},
   "source": [
    "**In order to answer this question, your x, or independent variable, will be the Card_Category, which has four levels: Blue, Silver, Gold, and Platinum. Your y, or dependent variable, will be the Customer_Age. As with all ANOVAs, the IV will be categorical, and the DV will be continuous.**"
   ]
  },
  {
   "cell_type": "markdown",
   "id": "5f624a5c-8b88-44a5-9e25-ebb271916aa5",
   "metadata": {},
   "source": [
    "## Data Wrangling\n",
    "\n",
    "Depending on the data that you've been given, it may need some wrangling!\n",
    "\n",
    "## Filter the Data and Remove Missing Values\n",
    "\n",
    "In this case we do not need to filter any of our categorical variables, because we are using all four card levels. All that is left is to drop the missing data and make sure our DV (Customer_Age) is numeric."
   ]
  },
  {
   "cell_type": "code",
   "execution_count": 31,
   "id": "ce54b5bb-39a8-4434-9d89-90b2d14c6329",
   "metadata": {},
   "outputs": [],
   "source": [
    "cc1 = na.omit(cc)"
   ]
  },
  {
   "cell_type": "code",
   "execution_count": 32,
   "id": "c2df1d5f-9848-4682-b23d-2c8bc5615b33",
   "metadata": {},
   "outputs": [
    {
     "data": {
      "text/html": [
       "<table class=\"dataframe\">\n",
       "<caption>A data.frame: 6 × 23</caption>\n",
       "<thead>\n",
       "\t<tr><th></th><th scope=col>CLIENTNUM</th><th scope=col>Attrition_Flag</th><th scope=col>Customer_Age</th><th scope=col>Gender</th><th scope=col>Dependent_count</th><th scope=col>Education_Level</th><th scope=col>Marital_Status</th><th scope=col>Income_Category</th><th scope=col>Card_Category</th><th scope=col>Months_on_book</th><th scope=col>...</th><th scope=col>Credit_Limit</th><th scope=col>Total_Revolving_Bal</th><th scope=col>Avg_Open_To_Buy</th><th scope=col>Total_Amt_Chng_Q4_Q1</th><th scope=col>Total_Trans_Amt</th><th scope=col>Total_Trans_Ct</th><th scope=col>Total_Ct_Chng_Q4_Q1</th><th scope=col>Avg_Utilization_Ratio</th><th scope=col>Naive_Bayes_Classifier_Attrition_Flag_Card_Category_Contacts_Count_12_mon_Dependent_count_Education_Level_Months_Inactive_12_mon_1</th><th scope=col>Naive_Bayes_Classifier_Attrition_Flag_Card_Category_Contacts_Count_12_mon_Dependent_count_Education_Level_Months_Inactive_12_mon_2</th></tr>\n",
       "\t<tr><th></th><th scope=col>&lt;int&gt;</th><th scope=col>&lt;chr&gt;</th><th scope=col>&lt;int&gt;</th><th scope=col>&lt;chr&gt;</th><th scope=col>&lt;int&gt;</th><th scope=col>&lt;chr&gt;</th><th scope=col>&lt;chr&gt;</th><th scope=col>&lt;chr&gt;</th><th scope=col>&lt;chr&gt;</th><th scope=col>&lt;int&gt;</th><th scope=col>...</th><th scope=col>&lt;dbl&gt;</th><th scope=col>&lt;int&gt;</th><th scope=col>&lt;dbl&gt;</th><th scope=col>&lt;dbl&gt;</th><th scope=col>&lt;int&gt;</th><th scope=col>&lt;int&gt;</th><th scope=col>&lt;dbl&gt;</th><th scope=col>&lt;dbl&gt;</th><th scope=col>&lt;dbl&gt;</th><th scope=col>&lt;dbl&gt;</th></tr>\n",
       "</thead>\n",
       "<tbody>\n",
       "\t<tr><th scope=row>1</th><td>768805383</td><td>Existing Customer</td><td>45</td><td>M</td><td>3</td><td>High School</td><td>Married</td><td>$60K - $80K   </td><td>Blue</td><td>39</td><td>...</td><td>12691</td><td> 777</td><td>11914</td><td>1.335</td><td>1144</td><td>42</td><td>1.625</td><td>0.061</td><td>9.3448e-05</td><td>0.99991</td></tr>\n",
       "\t<tr><th scope=row>2</th><td>818770008</td><td>Existing Customer</td><td>49</td><td>F</td><td>5</td><td>Graduate   </td><td>Single </td><td>Less than $40K</td><td>Blue</td><td>44</td><td>...</td><td> 8256</td><td> 864</td><td> 7392</td><td>1.541</td><td>1291</td><td>33</td><td>3.714</td><td>0.105</td><td>5.6861e-05</td><td>0.99994</td></tr>\n",
       "\t<tr><th scope=row>3</th><td>713982108</td><td>Existing Customer</td><td>51</td><td>M</td><td>3</td><td>Graduate   </td><td>Married</td><td>$80K - $120K  </td><td>Blue</td><td>36</td><td>...</td><td> 3418</td><td>   0</td><td> 3418</td><td>2.594</td><td>1887</td><td>20</td><td>2.333</td><td>0.000</td><td>2.1081e-05</td><td>0.99998</td></tr>\n",
       "\t<tr><th scope=row>4</th><td>769911858</td><td>Existing Customer</td><td>40</td><td>F</td><td>4</td><td>High School</td><td>Unknown</td><td>Less than $40K</td><td>Blue</td><td>34</td><td>...</td><td> 3313</td><td>2517</td><td>  796</td><td>1.405</td><td>1171</td><td>20</td><td>2.333</td><td>0.760</td><td>1.3366e-04</td><td>0.99987</td></tr>\n",
       "\t<tr><th scope=row>5</th><td>709106358</td><td>Existing Customer</td><td>40</td><td>M</td><td>3</td><td>Uneducated </td><td>Married</td><td>$60K - $80K   </td><td>Blue</td><td>21</td><td>...</td><td> 4716</td><td>   0</td><td> 4716</td><td>2.175</td><td> 816</td><td>28</td><td>2.500</td><td>0.000</td><td>2.1676e-05</td><td>0.99998</td></tr>\n",
       "\t<tr><th scope=row>6</th><td>713061558</td><td>Existing Customer</td><td>44</td><td>M</td><td>2</td><td>Graduate   </td><td>Married</td><td>$40K - $60K   </td><td>Blue</td><td>36</td><td>...</td><td> 4010</td><td>1247</td><td> 2763</td><td>1.376</td><td>1088</td><td>24</td><td>0.846</td><td>0.311</td><td>5.5077e-05</td><td>0.99994</td></tr>\n",
       "</tbody>\n",
       "</table>\n"
      ],
      "text/latex": [
       "A data.frame: 6 × 23\n",
       "\\begin{tabular}{r|lllllllllllllllllllll}\n",
       "  & CLIENTNUM & Attrition\\_Flag & Customer\\_Age & Gender & Dependent\\_count & Education\\_Level & Marital\\_Status & Income\\_Category & Card\\_Category & Months\\_on\\_book & ... & Credit\\_Limit & Total\\_Revolving\\_Bal & Avg\\_Open\\_To\\_Buy & Total\\_Amt\\_Chng\\_Q4\\_Q1 & Total\\_Trans\\_Amt & Total\\_Trans\\_Ct & Total\\_Ct\\_Chng\\_Q4\\_Q1 & Avg\\_Utilization\\_Ratio & Naive\\_Bayes\\_Classifier\\_Attrition\\_Flag\\_Card\\_Category\\_Contacts\\_Count\\_12\\_mon\\_Dependent\\_count\\_Education\\_Level\\_Months\\_Inactive\\_12\\_mon\\_1 & Naive\\_Bayes\\_Classifier\\_Attrition\\_Flag\\_Card\\_Category\\_Contacts\\_Count\\_12\\_mon\\_Dependent\\_count\\_Education\\_Level\\_Months\\_Inactive\\_12\\_mon\\_2\\\\\n",
       "  & <int> & <chr> & <int> & <chr> & <int> & <chr> & <chr> & <chr> & <chr> & <int> & ... & <dbl> & <int> & <dbl> & <dbl> & <int> & <int> & <dbl> & <dbl> & <dbl> & <dbl>\\\\\n",
       "\\hline\n",
       "\t1 & 768805383 & Existing Customer & 45 & M & 3 & High School & Married & \\$60K - \\$80K    & Blue & 39 & ... & 12691 &  777 & 11914 & 1.335 & 1144 & 42 & 1.625 & 0.061 & 9.3448e-05 & 0.99991\\\\\n",
       "\t2 & 818770008 & Existing Customer & 49 & F & 5 & Graduate    & Single  & Less than \\$40K & Blue & 44 & ... &  8256 &  864 &  7392 & 1.541 & 1291 & 33 & 3.714 & 0.105 & 5.6861e-05 & 0.99994\\\\\n",
       "\t3 & 713982108 & Existing Customer & 51 & M & 3 & Graduate    & Married & \\$80K - \\$120K   & Blue & 36 & ... &  3418 &    0 &  3418 & 2.594 & 1887 & 20 & 2.333 & 0.000 & 2.1081e-05 & 0.99998\\\\\n",
       "\t4 & 769911858 & Existing Customer & 40 & F & 4 & High School & Unknown & Less than \\$40K & Blue & 34 & ... &  3313 & 2517 &   796 & 1.405 & 1171 & 20 & 2.333 & 0.760 & 1.3366e-04 & 0.99987\\\\\n",
       "\t5 & 709106358 & Existing Customer & 40 & M & 3 & Uneducated  & Married & \\$60K - \\$80K    & Blue & 21 & ... &  4716 &    0 &  4716 & 2.175 &  816 & 28 & 2.500 & 0.000 & 2.1676e-05 & 0.99998\\\\\n",
       "\t6 & 713061558 & Existing Customer & 44 & M & 2 & Graduate    & Married & \\$40K - \\$60K    & Blue & 36 & ... &  4010 & 1247 &  2763 & 1.376 & 1088 & 24 & 0.846 & 0.311 & 5.5077e-05 & 0.99994\\\\\n",
       "\\end{tabular}\n"
      ],
      "text/markdown": [
       "\n",
       "A data.frame: 6 × 23\n",
       "\n",
       "| <!--/--> | CLIENTNUM &lt;int&gt; | Attrition_Flag &lt;chr&gt; | Customer_Age &lt;int&gt; | Gender &lt;chr&gt; | Dependent_count &lt;int&gt; | Education_Level &lt;chr&gt; | Marital_Status &lt;chr&gt; | Income_Category &lt;chr&gt; | Card_Category &lt;chr&gt; | Months_on_book &lt;int&gt; | ... ... | Credit_Limit &lt;dbl&gt; | Total_Revolving_Bal &lt;int&gt; | Avg_Open_To_Buy &lt;dbl&gt; | Total_Amt_Chng_Q4_Q1 &lt;dbl&gt; | Total_Trans_Amt &lt;int&gt; | Total_Trans_Ct &lt;int&gt; | Total_Ct_Chng_Q4_Q1 &lt;dbl&gt; | Avg_Utilization_Ratio &lt;dbl&gt; | Naive_Bayes_Classifier_Attrition_Flag_Card_Category_Contacts_Count_12_mon_Dependent_count_Education_Level_Months_Inactive_12_mon_1 &lt;dbl&gt; | Naive_Bayes_Classifier_Attrition_Flag_Card_Category_Contacts_Count_12_mon_Dependent_count_Education_Level_Months_Inactive_12_mon_2 &lt;dbl&gt; |\n",
       "|---|---|---|---|---|---|---|---|---|---|---|---|---|---|---|---|---|---|---|---|---|---|\n",
       "| 1 | 768805383 | Existing Customer | 45 | M | 3 | High School | Married | $60K - $80K    | Blue | 39 | ... | 12691 |  777 | 11914 | 1.335 | 1144 | 42 | 1.625 | 0.061 | 9.3448e-05 | 0.99991 |\n",
       "| 2 | 818770008 | Existing Customer | 49 | F | 5 | Graduate    | Single  | Less than $40K | Blue | 44 | ... |  8256 |  864 |  7392 | 1.541 | 1291 | 33 | 3.714 | 0.105 | 5.6861e-05 | 0.99994 |\n",
       "| 3 | 713982108 | Existing Customer | 51 | M | 3 | Graduate    | Married | $80K - $120K   | Blue | 36 | ... |  3418 |    0 |  3418 | 2.594 | 1887 | 20 | 2.333 | 0.000 | 2.1081e-05 | 0.99998 |\n",
       "| 4 | 769911858 | Existing Customer | 40 | F | 4 | High School | Unknown | Less than $40K | Blue | 34 | ... |  3313 | 2517 |   796 | 1.405 | 1171 | 20 | 2.333 | 0.760 | 1.3366e-04 | 0.99987 |\n",
       "| 5 | 709106358 | Existing Customer | 40 | M | 3 | Uneducated  | Married | $60K - $80K    | Blue | 21 | ... |  4716 |    0 |  4716 | 2.175 |  816 | 28 | 2.500 | 0.000 | 2.1676e-05 | 0.99998 |\n",
       "| 6 | 713061558 | Existing Customer | 44 | M | 2 | Graduate    | Married | $40K - $60K    | Blue | 36 | ... |  4010 | 1247 |  2763 | 1.376 | 1088 | 24 | 0.846 | 0.311 | 5.5077e-05 | 0.99994 |\n",
       "\n"
      ],
      "text/plain": [
       "  CLIENTNUM Attrition_Flag    Customer_Age Gender Dependent_count\n",
       "1 768805383 Existing Customer 45           M      3              \n",
       "2 818770008 Existing Customer 49           F      5              \n",
       "3 713982108 Existing Customer 51           M      3              \n",
       "4 769911858 Existing Customer 40           F      4              \n",
       "5 709106358 Existing Customer 40           M      3              \n",
       "6 713061558 Existing Customer 44           M      2              \n",
       "  Education_Level Marital_Status Income_Category Card_Category Months_on_book\n",
       "1 High School     Married        $60K - $80K     Blue          39            \n",
       "2 Graduate        Single         Less than $40K  Blue          44            \n",
       "3 Graduate        Married        $80K - $120K    Blue          36            \n",
       "4 High School     Unknown        Less than $40K  Blue          34            \n",
       "5 Uneducated      Married        $60K - $80K     Blue          21            \n",
       "6 Graduate        Married        $40K - $60K     Blue          36            \n",
       "  ... Credit_Limit Total_Revolving_Bal Avg_Open_To_Buy Total_Amt_Chng_Q4_Q1\n",
       "1 ... 12691         777                11914           1.335               \n",
       "2 ...  8256         864                 7392           1.541               \n",
       "3 ...  3418           0                 3418           2.594               \n",
       "4 ...  3313        2517                  796           1.405               \n",
       "5 ...  4716           0                 4716           2.175               \n",
       "6 ...  4010        1247                 2763           1.376               \n",
       "  Total_Trans_Amt Total_Trans_Ct Total_Ct_Chng_Q4_Q1 Avg_Utilization_Ratio\n",
       "1 1144            42             1.625               0.061                \n",
       "2 1291            33             3.714               0.105                \n",
       "3 1887            20             2.333               0.000                \n",
       "4 1171            20             2.333               0.760                \n",
       "5  816            28             2.500               0.000                \n",
       "6 1088            24             0.846               0.311                \n",
       "  Naive_Bayes_Classifier_Attrition_Flag_Card_Category_Contacts_Count_12_mon_Dependent_count_Education_Level_Months_Inactive_12_mon_1\n",
       "1 9.3448e-05                                                                                                                        \n",
       "2 5.6861e-05                                                                                                                        \n",
       "3 2.1081e-05                                                                                                                        \n",
       "4 1.3366e-04                                                                                                                        \n",
       "5 2.1676e-05                                                                                                                        \n",
       "6 5.5077e-05                                                                                                                        \n",
       "  Naive_Bayes_Classifier_Attrition_Flag_Card_Category_Contacts_Count_12_mon_Dependent_count_Education_Level_Months_Inactive_12_mon_2\n",
       "1 0.99991                                                                                                                           \n",
       "2 0.99994                                                                                                                           \n",
       "3 0.99998                                                                                                                           \n",
       "4 0.99987                                                                                                                           \n",
       "5 0.99998                                                                                                                           \n",
       "6 0.99994                                                                                                                           "
      ]
     },
     "metadata": {},
     "output_type": "display_data"
    }
   ],
   "source": [
    "head(cc1)"
   ]
  },
  {
   "cell_type": "code",
   "execution_count": 36,
   "id": "2f52780b-dfea-4f08-ae16-f2262ab86ad9",
   "metadata": {},
   "outputs": [
    {
     "name": "stdout",
     "output_type": "stream",
     "text": [
      "'data.frame':\t10127 obs. of  23 variables:\n",
      " $ CLIENTNUM                                                                                                                         : int  768805383 818770008 713982108 769911858 709106358 713061558 810347208 818906208 710930508 719661558 ...\n",
      " $ Attrition_Flag                                                                                                                    : chr  \"Existing Customer\" \"Existing Customer\" \"Existing Customer\" \"Existing Customer\" ...\n",
      " $ Customer_Age                                                                                                                      : int  45 49 51 40 40 44 51 32 37 48 ...\n",
      " $ Gender                                                                                                                            : chr  \"M\" \"F\" \"M\" \"F\" ...\n",
      " $ Dependent_count                                                                                                                   : int  3 5 3 4 3 2 4 0 3 2 ...\n",
      " $ Education_Level                                                                                                                   : chr  \"High School\" \"Graduate\" \"Graduate\" \"High School\" ...\n",
      " $ Marital_Status                                                                                                                    : chr  \"Married\" \"Single\" \"Married\" \"Unknown\" ...\n",
      " $ Income_Category                                                                                                                   : chr  \"$60K - $80K\" \"Less than $40K\" \"$80K - $120K\" \"Less than $40K\" ...\n",
      " $ Card_Category                                                                                                                     : chr  \"Blue\" \"Blue\" \"Blue\" \"Blue\" ...\n",
      " $ Months_on_book                                                                                                                    : int  39 44 36 34 21 36 46 27 36 36 ...\n",
      " $ Total_Relationship_Count                                                                                                          : int  5 6 4 3 5 3 6 2 5 6 ...\n",
      " $ Months_Inactive_12_mon                                                                                                            : int  1 1 1 4 1 1 1 2 2 3 ...\n",
      " $ Contacts_Count_12_mon                                                                                                             : int  3 2 0 1 0 2 3 2 0 3 ...\n",
      " $ Credit_Limit                                                                                                                      : num  12691 8256 3418 3313 4716 ...\n",
      " $ Total_Revolving_Bal                                                                                                               : int  777 864 0 2517 0 1247 2264 1396 2517 1677 ...\n",
      " $ Avg_Open_To_Buy                                                                                                                   : num  11914 7392 3418 796 4716 ...\n",
      " $ Total_Amt_Chng_Q4_Q1                                                                                                              : num  1.33 1.54 2.59 1.4 2.17 ...\n",
      " $ Total_Trans_Amt                                                                                                                   : int  1144 1291 1887 1171 816 1088 1330 1538 1350 1441 ...\n",
      " $ Total_Trans_Ct                                                                                                                    : int  42 33 20 20 28 24 31 36 24 32 ...\n",
      " $ Total_Ct_Chng_Q4_Q1                                                                                                               : num  1.62 3.71 2.33 2.33 2.5 ...\n",
      " $ Avg_Utilization_Ratio                                                                                                             : num  0.061 0.105 0 0.76 0 0.311 0.066 0.048 0.113 0.144 ...\n",
      " $ Naive_Bayes_Classifier_Attrition_Flag_Card_Category_Contacts_Count_12_mon_Dependent_count_Education_Level_Months_Inactive_12_mon_1: num  9.34e-05 5.69e-05 2.11e-05 1.34e-04 2.17e-05 ...\n",
      " $ Naive_Bayes_Classifier_Attrition_Flag_Card_Category_Contacts_Count_12_mon_Dependent_count_Education_Level_Months_Inactive_12_mon_2: num  1 1 1 1 1 ...\n"
     ]
    }
   ],
   "source": [
    "str(cc1)\n",
    "## Customer_Age is an integer so we are good to proceed!"
   ]
  },
  {
   "cell_type": "markdown",
   "id": "ca46892a-c7fd-4815-8f04-9f9213682bff",
   "metadata": {},
   "source": [
    "## Test Assumptions\n",
    "\n",
    "Before you go any further, it's important to test for assumptions. If the assumptions are not met for ANOVA, but you proceeded anyway, you run the risk of biasing your results"
   ]
  },
  {
   "cell_type": "markdown",
   "id": "51ec30dd-1840-4256-ad61-8bd34c6432f1",
   "metadata": {},
   "source": [
    "## Normality\n",
    "\n",
    "You only need to test for the normality of the dependent variable, since the IV is categorical."
   ]
  },
  {
   "cell_type": "code",
   "execution_count": 38,
   "id": "89b6f966-2523-4aaf-8f73-eea65f076d7c",
   "metadata": {},
   "outputs": [
    {
     "data": {
      "image/png": "[encoded data removed]",
      "text/plain": [
       "Plot with title \"\""
      ]
     },
     "metadata": {
      "image/png": {
       "height": 420,
       "width": 420
      }
     },
     "output_type": "display_data"
    }
   ],
   "source": [
    "plotNormalHistogram(cc1$Customer_Age)\n",
    "## This looks approx. normally distributed - alright!"
   ]
  },
  {
   "cell_type": "markdown",
   "id": "c0e51804-ac1b-4b53-b904-19729387d8c1",
   "metadata": {},
   "source": [
    "## Homogeneity of Variance\n",
    "\n",
    "You can test for homogeneity of variance easily using either Bartlett's test or Fligner's Test. Bartlett's test is for when your data is normally distributed, and Fligner's test is for when your data is non-parametric. No matter which test you are using, you are looking for a non-significant test. The null hypothesis for both of these is that the data has equal variance, so you'd like to have a p value of > .05. You have already determined your data is normally distributed, so ordinarily you would just perform Bartlett's test, but just for learning purposes, you'll try both here."
   ]
  },
  {
   "cell_type": "markdown",
   "id": "33cd921a-5e1b-49e5-9194-5fefd49198fa",
   "metadata": {},
   "source": [
    "### Bartlett's Test\n",
    "\n",
    "To do Bartlett's test, use the function bartlett.test(), with the argument of the y data separated by a tilde, followed by the x data. Then there's an argument data=, which is where you will specify the name of your dataset."
   ]
  },
  {
   "cell_type": "code",
   "execution_count": 39,
   "id": "319484a8-fbf1-4010-a490-4e6be43778c4",
   "metadata": {},
   "outputs": [
    {
     "data": {
      "text/plain": [
       "\n",
       "\tBartlett test of homogeneity of variances\n",
       "\n",
       "data:  Customer_Age by Card_Category\n",
       "Bartlett's K-squared = 22.243, df = 3, p-value = 5.806e-05\n"
      ]
     },
     "metadata": {},
     "output_type": "display_data"
    }
   ],
   "source": [
    "bartlett.test(Customer_Age ~ Card_Category, data = cc1)"
   ]
  },
  {
   "cell_type": "markdown",
   "id": "938c6fb3-6e63-41ce-a71e-8d52b969b4c2",
   "metadata": {},
   "source": [
    "The p value associated with this test is < .05, which means that unfortunately, you have violated the assumption of homogeneity of variance."
   ]
  },
  {
   "cell_type": "code",
   "execution_count": 42,
   "id": "362e1638-e834-4415-a8f9-f3473a10a884",
   "metadata": {},
   "outputs": [],
   "source": [
    "## this kind of makes sense, as cc customers of all ages have various levels of credit, \n",
    "## so there is more reason to believe that there is heterogeneity of variance"
   ]
  },
  {
   "cell_type": "markdown",
   "id": "b44dbb56-9ee3-481c-a4fa-857891030342",
   "metadata": {},
   "source": [
    "### Fligner's Test\n",
    "\n",
    "To perform Fligner's test, use the function fligner.test(), with the argument of the y data separated by a tilde, followed by the x data. Then there's an argument data=, which is where you will specify the name of your dataset."
   ]
  },
  {
   "cell_type": "code",
   "execution_count": 43,
   "id": "2659c534-875d-4da0-97b5-17fb22e1f6f5",
   "metadata": {},
   "outputs": [
    {
     "data": {
      "text/plain": [
       "\n",
       "\tFligner-Killeen test of homogeneity of variances\n",
       "\n",
       "data:  Customer_Age by Card_Category\n",
       "Fligner-Killeen:med chi-squared = 24.825, df = 3, p-value = 1.68e-05\n"
      ]
     },
     "metadata": {},
     "output_type": "display_data"
    }
   ],
   "source": [
    "fligner.test(Customer_Age ~ Card_Category, data = cc1)"
   ]
  },
  {
   "cell_type": "code",
   "execution_count": null,
   "id": "72b72d8e-a208-4ba6-8f35-92dc5af8756a",
   "metadata": {},
   "outputs": [],
   "source": [
    "## still shows violation of assumption of homogeneity of variance"
   ]
  },
  {
   "cell_type": "markdown",
   "id": "73f603ac-c79e-4f19-9e91-9fbaf3af9edb",
   "metadata": {},
   "source": [
    "## Correcting for Violations of Homogeneity of Variance\n",
    "\n",
    "There are two ways that you can correct for a violation of homogeneity of variance. The first is the BoxCox transformation of your data, and the second is running a slightly different type of ANOVA, one that was created specifically to handle this violation. That test is called the Welch One-Way Test, and you'll learn about this ANOVA option."
   ]
  },
  {
   "cell_type": "markdown",
   "id": "be74ef18-895c-4563-b585-74a864466b2c",
   "metadata": {},
   "source": [
    "## Sample Size\n",
    "\n",
    "An ANOVA requires a sample size of at least 20 per independent variable. In this case, you only have one independent variable, so as long as you have at least 20 cases, you are fine. Looking at the data, the n is 10127, so you are fine to proceed with this assumption!"
   ]
  },
  {
   "cell_type": "markdown",
   "id": "474426ef-7e13-4412-81fd-49f1d948ee1a",
   "metadata": {},
   "source": [
    "## Independence\n",
    "\n",
    "There is no statistical test for the assumption of independence."
   ]
  },
  {
   "cell_type": "code",
   "execution_count": 44,
   "id": "befeb433-6a2f-4da0-8212-4f7c999789ad",
   "metadata": {},
   "outputs": [],
   "source": [
    "#### Page 5"
   ]
  },
  {
   "cell_type": "markdown",
   "id": "df7d3619-9829-43d8-b70d-c2969eff0fe4",
   "metadata": {},
   "source": [
    "## Computing ANOVAs with Equal Variance (Met Homogeneity of Variance Assumption)\n",
    "\n",
    "In this case, your data did not meet this assumption, but for the purposes of learning, you'll be shown what to do if you had.\n",
    "\n",
    "Below is the code to run a one-way ANOVA in R. You can give your ANOVA a name; this one is named cc1ANOVA. Then you want to use the function aov(). The argument for this function is your y variable, which is continuous, followed by a tilde and then your x variable, which is categorical. Remember that the tilde reads as \"by,\" so you can think of this as analyzing age by card category."
   ]
  },
  {
   "cell_type": "code",
   "execution_count": 46,
   "id": "355509d6-1336-4d5f-96db-fb65cb33879e",
   "metadata": {},
   "outputs": [],
   "source": [
    "cc1ANOVA <- aov(cc1$Customer_Age ~ cc1$Card_Category)"
   ]
  },
  {
   "cell_type": "markdown",
   "id": "f172d0af-5078-4f3d-b800-f397b7d317be",
   "metadata": {},
   "source": [
    "You need to utilize the summary() function:"
   ]
  },
  {
   "cell_type": "code",
   "execution_count": 47,
   "id": "f854c507-693d-46cc-9f10-168c4db098c2",
   "metadata": {},
   "outputs": [
    {
     "data": {
      "text/plain": [
       "                     Df Sum Sq Mean Sq F value Pr(>F)\n",
       "cc1$Card_Category     3    371  123.71   1.925  0.123\n",
       "Residuals         10123 650420   64.25               "
      ]
     },
     "metadata": {},
     "output_type": "display_data"
    }
   ],
   "source": [
    "summary(cc1ANOVA)"
   ]
  },
  {
   "cell_type": "markdown",
   "id": "f09a7aa1-7bc9-4724-8cba-d7c3bebe28ac",
   "metadata": {},
   "source": [
    "The first row of the output has the Df, or degrees of freedom. The row for your category is calculated as # of Levels - 1, so that is always a good gut check. Next, you have rows for the Sum Sq and Mean Sq; these are just some of the calculations that went into getting your F value, which is the test statistic for an ANOVA. The real meat that you want to pay attention to is the F value itself and the associated p value next to it. Like anything else, if this value is less than .05, the test was significant. If you ever need a reminder of that, you can look at the star and Signif. codes down at the bottom - there's one star listed, so it is significant at .05."
   ]
  },
  {
   "cell_type": "code",
   "execution_count": 48,
   "id": "e06aac70-4d30-4334-bfdc-1689bb00732e",
   "metadata": {},
   "outputs": [],
   "source": [
    "## the star and signif codes do not appear in R/Jup Lab"
   ]
  },
  {
   "cell_type": "markdown",
   "id": "22258814-65a1-43c6-86e0-93a5921f5bee",
   "metadata": {},
   "source": [
    "## Computing ANOVAs with Unequal Variance (Violated Homogeneity of Variance Assumption)\n",
    "\n",
    "If you need to correct for violating the assumption of homogeneity of variance, you can run an ANOVA that was meant to correct for that violation, using a Welch's One-Way Test. To do this, you will actually create a linear model first, and then use the function Anova() on it."
   ]
  },
  {
   "cell_type": "code",
   "execution_count": 50,
   "id": "84ea0c0c-69e7-41f1-b072-d97cb8a91fd4",
   "metadata": {},
   "outputs": [],
   "source": [
    "## this is the ANOVA we would like to run since we have heterogeneity of variance"
   ]
  },
  {
   "cell_type": "markdown",
   "id": "ca12e7a8-352b-43b2-9b78-ccbc57ef646d",
   "metadata": {},
   "source": [
    "First, create and name a linear model that uses the same set up as the ANOVA with equal variance. Then, call the Anova() function on that named model, include the argument of Type= and set it to \"II\" because this is a between subjects ANOVA, and then use the argument white.adjust=TRUE. This last part, setting white.adjust= to TRUE, is what makes this ANOVA appropriate when you have unequal variance."
   ]
  },
  {
   "cell_type": "code",
   "execution_count": 51,
   "id": "bc96403b-28d5-4527-8896-cbe2d63ba2b2",
   "metadata": {},
   "outputs": [
    {
     "name": "stderr",
     "output_type": "stream",
     "text": [
      "Coefficient covariances computed by hccm()\n",
      "\n"
     ]
    },
    {
     "data": {
      "text/html": [
       "<table class=\"dataframe\">\n",
       "<caption>A anova: 2 × 3</caption>\n",
       "<thead>\n",
       "\t<tr><th></th><th scope=col>Df</th><th scope=col>F</th><th scope=col>Pr(&gt;F)</th></tr>\n",
       "\t<tr><th></th><th scope=col>&lt;dbl&gt;</th><th scope=col>&lt;dbl&gt;</th><th scope=col>&lt;dbl&gt;</th></tr>\n",
       "</thead>\n",
       "<tbody>\n",
       "\t<tr><th scope=row>Card_Category</th><td>    3</td><td>2.580543</td><td>0.05172408</td></tr>\n",
       "\t<tr><th scope=row>Residuals</th><td>10123</td><td>      NA</td><td>        NA</td></tr>\n",
       "</tbody>\n",
       "</table>\n"
      ],
      "text/latex": [
       "A anova: 2 × 3\n",
       "\\begin{tabular}{r|lll}\n",
       "  & Df & F & Pr(>F)\\\\\n",
       "  & <dbl> & <dbl> & <dbl>\\\\\n",
       "\\hline\n",
       "\tCard\\_Category &     3 & 2.580543 & 0.05172408\\\\\n",
       "\tResiduals & 10123 &       NA &         NA\\\\\n",
       "\\end{tabular}\n"
      ],
      "text/markdown": [
       "\n",
       "A anova: 2 × 3\n",
       "\n",
       "| <!--/--> | Df &lt;dbl&gt; | F &lt;dbl&gt; | Pr(&gt;F) &lt;dbl&gt; |\n",
       "|---|---|---|---|\n",
       "| Card_Category |     3 | 2.580543 | 0.05172408 |\n",
       "| Residuals | 10123 |       NA |         NA |\n",
       "\n"
      ],
      "text/plain": [
       "              Df    F        Pr(>F)    \n",
       "Card_Category     3 2.580543 0.05172408\n",
       "Residuals     10123       NA         NA"
      ]
     },
     "metadata": {},
     "output_type": "display_data"
    }
   ],
   "source": [
    "ANOVA <- lm(Customer_Age ~ Card_Category, data = cc1)\n",
    "Anova(ANOVA, Type=\"II\", white.adjust=TRUE)"
   ]
  },
  {
   "cell_type": "code",
   "execution_count": 52,
   "id": "73eb12ea-752b-4094-992a-5ae90c842dad",
   "metadata": {},
   "outputs": [],
   "source": [
    "## need to run in R to see the star and signif codes"
   ]
  },
  {
   "cell_type": "markdown",
   "id": "54e0cdae-68b5-4fe8-82c1-561b4f8d3bdd",
   "metadata": {},
   "source": [
    "## Post Hocs\n",
    "\n",
    "Now the problem with an ANOVA is that you have multiple groups. When you found significance with a t-test, you were able to just look at the means and you knew where the significant differences lie. You knew what was higher, and what was lower. But with an ANOVA, you can't just look at the means right away, because the F and associated p value just let you know that there is a difference between at least set of the three categories. In your example, the mean prices could be different between the beauty and food and drink category, the beauty and photography category, the food and drink and photography category, or some combination of those three!\n",
    "\n",
    "That's where post hocs come in. They are specifically designed to test all the pairs between your data, which is why they are also often known as pairwise comparisons. This is done with t-tests. But the inherent problem with using multiple t-tests is that the more analyses you run, the more you increase your chances of Type I error. So you're more likely to find something significant when it really isn't. So, typically a post hoc will apply a correction, or adjustment, so that the t-tests become more stringent, and you are therefore correcting for doing multiple t-tests by applying stricter criteria. That way your Type I error doesn't run rampant!\n",
    "\n",
    "There are many different corrections you can apply. But the most common ones you'll hear about are Tukey, Bonferroni, Holm, and Scheffe. All named by after the people who came up with them, by the way. These three are in order of how much correction they apply, with Tukey applying the least correction and Scheffe applying the most. Unfortunately, R does not compute Tukey and Scheffe automatically, so you'll stick to exploring the difference between no correction at all, and a Bonferroni correction."
   ]
  },
  {
   "cell_type": "markdown",
   "id": "4fcec51b-8d4d-45e8-8e98-9d1018f25c1a",
   "metadata": {},
   "source": [
    "## Computing Post Hocs with No Adjustment\n",
    "\n",
    "Use the pairwise.t.test() function, with the arguments of the two variables you are crossing, and the argument p.adjust=. To show you why a correction is necessary, you will start out with a value of \"none\", which means that no correction is being made for Type I error. Here are the results:\n",
    "\n",
    "Here is the code for computing a post hoc in R:"
   ]
  },
  {
   "cell_type": "code",
   "execution_count": 54,
   "id": "243ca487-2e0d-491f-8b2b-087f8369ef01",
   "metadata": {},
   "outputs": [
    {
     "data": {
      "text/plain": [
       "\n",
       "\tPairwise comparisons using t tests with pooled SD \n",
       "\n",
       "data:  cc1$Customer_Age and cc1$Card_Category \n",
       "\n",
       "         Blue  Gold  Platinum\n",
       "Gold     0.213 -     -       \n",
       "Platinum 0.530 0.288 -       \n",
       "Silver   0.048 0.770 0.318   \n",
       "\n",
       "P value adjustment method: none "
      ]
     },
     "metadata": {},
     "output_type": "display_data"
    }
   ],
   "source": [
    "pairwise.t.test(cc1$Customer_Age, cc1$Card_Category, p.adjust=\"none\")\n",
    "## no correction for Type 1 Error"
   ]
  },
  {
   "cell_type": "markdown",
   "id": "8dcc081c-336e-40c5-a3c3-6375e1835212",
   "metadata": {},
   "source": [
    "What is presented in the matrix above is the p values for each t-test between the pairs of the levels of your independent variable. Reading this, you can see that there was not a significant difference in age between Gold and Blue, Platinum and Blue, Gold and Platinum, Gold and Silver, and Silver and Platinum.  There is, however, a significant difference between the age of customers using Blue and Silver cards, at p = .048."
   ]
  },
  {
   "cell_type": "markdown",
   "id": "ee2d1c23-bd48-4b86-a246-daaec63024ec",
   "metadata": {},
   "source": [
    "## Computing Post Hocs with Bonferroni Adjustment\n",
    "\n",
    "You may be pretty pleased with finding a significant difference in age between card categories. But guess what? That difference may not really exist, because by running four t-tests, you may have increased your Type I error. So, better to typically stick with some form of correction, like Bonferroni. It is relatively \"mild,\" but gets the job done!"
   ]
  },
  {
   "cell_type": "code",
   "execution_count": 56,
   "id": "9d94e6b1-a519-4eb2-afcf-f4831bae1a1f",
   "metadata": {},
   "outputs": [
    {
     "data": {
      "text/plain": [
       "\n",
       "\tPairwise comparisons using t tests with pooled SD \n",
       "\n",
       "data:  cc1$Customer_Age and cc1$Card_Category \n",
       "\n",
       "         Blue Gold Platinum\n",
       "Gold     1.00 -    -       \n",
       "Platinum 1.00 1.00 -       \n",
       "Silver   0.29 1.00 1.00    \n",
       "\n",
       "P value adjustment method: bonferroni "
      ]
     },
     "metadata": {},
     "output_type": "display_data"
    }
   ],
   "source": [
    "pairwise.t.test(cc1$Customer_Age, cc1$Card_Category, p.adjust=\"bonferroni\")\n",
    "## here we are correcting for Type 1 Error\n",
    "## taking into a count the several t-tests we are running"
   ]
  },
  {
   "cell_type": "markdown",
   "id": "22a9be65-92ce-43a3-97a2-325590e6abe0",
   "metadata": {},
   "source": [
    "We see that our significant p-value is no longer significant.\n",
    "\n",
    "We also see that our non-significant p-values became even more non-significant.With Blue and Gold, going from 0.213 to 1.00, and with others.\n",
    "\n",
    "Since a p value can only be between 0 and 1, that's the end of line; as non-significant as something gets. This has just demonstrated why it's important to always, always, apply a correction to your post hocs!"
   ]
  },
  {
   "cell_type": "markdown",
   "id": "a57ff09b-11c5-447f-b575-b8aa4067c3be",
   "metadata": {},
   "source": [
    "## Computing Post Hocs When You've Violated the Assumption of Homogeneity of Variance\n",
    "\n",
    "There is an easy solution to computing post hocs when you have violated the assumption of homogeneity of variance. You'll use the same codes as above, but include the argument pool.sd = FALSE at the end. Like this:"
   ]
  },
  {
   "cell_type": "code",
   "execution_count": 58,
   "id": "e59130e2-8715-4424-8542-9560f32fa932",
   "metadata": {},
   "outputs": [
    {
     "data": {
      "text/plain": [
       "\n",
       "\tPairwise comparisons using t tests with non-pooled SD \n",
       "\n",
       "data:  cc1$Customer_Age and cc1$Card_Category \n",
       "\n",
       "         Blue Gold Platinum\n",
       "Gold     0.80 -    -       \n",
       "Platinum 1.00 0.62 -       \n",
       "Silver   0.20 1.00 0.70    \n",
       "\n",
       "P value adjustment method: bonferroni "
      ]
     },
     "metadata": {},
     "output_type": "display_data"
    }
   ],
   "source": [
    "pairwise.t.test(cc1$Customer_Age, cc1$Card_Category, p.adjust=\"bonferroni\", pool.sd = FALSE)"
   ]
  },
  {
   "cell_type": "markdown",
   "id": "44d4d47c-47d6-433a-913e-8c83c45d4491",
   "metadata": {},
   "source": [
    "This provides a very similar output, the only difference being that is was calculated with non-pooled standard deviations, as noted at the top."
   ]
  },
  {
   "cell_type": "markdown",
   "id": "a47add39-01fa-4b40-a7c3-904dbff80a7f",
   "metadata": {},
   "source": [
    "As you can see, once you've correct for this assumption, your results are more accurate, and your pairwise comparisons are still not significant, but give a more accurate p-value."
   ]
  },
  {
   "cell_type": "markdown",
   "id": "5f3ea785-af73-4d0a-86b5-86bef42f412e",
   "metadata": {},
   "source": [
    "## Determine Means and Draw Conclusions\n",
    "\n",
    "If you had found a significant difference after correction, you would want to then finish interpreting the results and draw some conclusions. To do that, you need to examine the means! Again, dplyr nicely comes to the rescue."
   ]
  },
  {
   "cell_type": "code",
   "execution_count": 61,
   "id": "19349ae5-0909-4ce7-847b-2e299de3eb36",
   "metadata": {},
   "outputs": [],
   "source": [
    "cc1Means = cc1 %>% group_by(Card_Category) %>% summarize(Mean = mean(Customer_Age))"
   ]
  },
  {
   "cell_type": "code",
   "execution_count": 62,
   "id": "4d9ffa29-7b87-4933-9961-10386ade96bd",
   "metadata": {},
   "outputs": [
    {
     "data": {
      "text/html": [
       "<table class=\"dataframe\">\n",
       "<caption>A tibble: 4 × 2</caption>\n",
       "<thead>\n",
       "\t<tr><th scope=col>Card_Category</th><th scope=col>Mean</th></tr>\n",
       "\t<tr><th scope=col>&lt;chr&gt;</th><th scope=col>&lt;dbl&gt;</th></tr>\n",
       "</thead>\n",
       "<tbody>\n",
       "\t<tr><td>Blue    </td><td>46.37240</td></tr>\n",
       "\t<tr><td>Gold    </td><td>45.43966</td></tr>\n",
       "\t<tr><td>Platinum</td><td>47.50000</td></tr>\n",
       "\t<tr><td>Silver  </td><td>45.67928</td></tr>\n",
       "</tbody>\n",
       "</table>\n"
      ],
      "text/latex": [
       "A tibble: 4 × 2\n",
       "\\begin{tabular}{ll}\n",
       " Card\\_Category & Mean\\\\\n",
       " <chr> & <dbl>\\\\\n",
       "\\hline\n",
       "\t Blue     & 46.37240\\\\\n",
       "\t Gold     & 45.43966\\\\\n",
       "\t Platinum & 47.50000\\\\\n",
       "\t Silver   & 45.67928\\\\\n",
       "\\end{tabular}\n"
      ],
      "text/markdown": [
       "\n",
       "A tibble: 4 × 2\n",
       "\n",
       "| Card_Category &lt;chr&gt; | Mean &lt;dbl&gt; |\n",
       "|---|---|\n",
       "| Blue     | 46.37240 |\n",
       "| Gold     | 45.43966 |\n",
       "| Platinum | 47.50000 |\n",
       "| Silver   | 45.67928 |\n",
       "\n"
      ],
      "text/plain": [
       "  Card_Category Mean    \n",
       "1 Blue          46.37240\n",
       "2 Gold          45.43966\n",
       "3 Platinum      47.50000\n",
       "4 Silver        45.67928"
      ]
     },
     "metadata": {},
     "output_type": "display_data"
    }
   ],
   "source": [
    "cc1Means"
   ]
  },
  {
   "cell_type": "markdown",
   "id": "f51bec45-a2f4-4e81-b903-9766e156ac49",
   "metadata": {},
   "source": [
    "Had you passed the corrected post-hoc with this data, you would have been able to look at the means and say that the Platinum card had a significantly higher average customer age than Gold or Silver cards. But, looking at these means, which are extremely close, it makes sense that this significant finding would \"wash out\" after Bonferroni correction. Is the difference between 45.5 years and 47.5 years really all that different?"
   ]
  },
  {
   "cell_type": "code",
   "execution_count": null,
   "id": "102746f5-2123-49ff-be47-9f1b18fd68d0",
   "metadata": {},
   "outputs": [],
   "source": []
  }
 ],
 "metadata": {
  "kernelspec": {
   "display_name": "R",
   "language": "R",
   "name": "ir"
  },
  "language_info": {
   "codemirror_mode": "r",
   "file_extension": ".r",
   "mimetype": "text/x-r-source",
   "name": "R",
   "pygments_lexer": "r",
   "version": "4.1.0"
  }
 },
 "nbformat": 4,
 "nbformat_minor": 5
}
