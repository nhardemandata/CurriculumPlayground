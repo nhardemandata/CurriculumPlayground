{
 "cells": [
  {
   "cell_type": "markdown",
   "id": "98e2a58e-22df-4a63-940a-8bed5d37bdca",
   "metadata": {},
   "source": [
    "# DSO105 Intermediate Stats L5 Page 4 Activity\n",
    "\n",
    "Using the breakfast data from last page, determine whether weight changes from baseline to follow up. "
   ]
  },
  {
   "cell_type": "code",
   "execution_count": 1,
   "id": "56f7c828-2e0d-442d-83fa-1d12dc47746c",
   "metadata": {},
   "outputs": [
    {
     "name": "stderr",
     "output_type": "stream",
     "text": [
      "-- \u001b[1mAttaching packages\u001b[22m ------------------------------------------------------------------------------- tidyverse 1.3.1 --\n",
      "\n",
      "\u001b[32mv\u001b[39m \u001b[34mggplot2\u001b[39m 3.3.5     \u001b[32mv\u001b[39m \u001b[34mpurrr  \u001b[39m 0.3.4\n",
      "\u001b[32mv\u001b[39m \u001b[34mtibble \u001b[39m 3.1.2     \u001b[32mv\u001b[39m \u001b[34mdplyr  \u001b[39m 1.0.6\n",
      "\u001b[32mv\u001b[39m \u001b[34mtidyr  \u001b[39m 1.1.3     \u001b[32mv\u001b[39m \u001b[34mstringr\u001b[39m 1.4.0\n",
      "\u001b[32mv\u001b[39m \u001b[34mreadr  \u001b[39m 1.4.0     \u001b[32mv\u001b[39m \u001b[34mforcats\u001b[39m 0.5.1\n",
      "\n",
      "-- \u001b[1mConflicts\u001b[22m ---------------------------------------------------------------------------------- tidyverse_conflicts() --\n",
      "\u001b[31mx\u001b[39m \u001b[34mdplyr\u001b[39m::\u001b[32mfilter()\u001b[39m masks \u001b[34mstats\u001b[39m::filter()\n",
      "\u001b[31mx\u001b[39m \u001b[34mdplyr\u001b[39m::\u001b[32mlag()\u001b[39m    masks \u001b[34mstats\u001b[39m::lag()\n",
      "\n",
      "Loading required package: carData\n",
      "\n",
      "\n",
      "Attaching package: 'car'\n",
      "\n",
      "\n",
      "The following object is masked from 'package:dplyr':\n",
      "\n",
      "    recode\n",
      "\n",
      "\n",
      "The following object is masked from 'package:purrr':\n",
      "\n",
      "    some\n",
      "\n",
      "\n"
     ]
    }
   ],
   "source": [
    "## packages\n",
    "library(tidyverse)\n",
    "library(rcompanion)\n",
    "library(car)"
   ]
  },
  {
   "cell_type": "code",
   "execution_count": 2,
   "id": "256f6cb5-e8e1-4852-a134-0aacd553b89b",
   "metadata": {},
   "outputs": [],
   "source": [
    "## data\n",
    "data = read.csv('../../datasets/breakfast.csv')"
   ]
  },
  {
   "cell_type": "code",
   "execution_count": 3,
   "id": "84e7df29-6bb3-481b-8d35-f807ff4687d5",
   "metadata": {},
   "outputs": [
    {
     "data": {
      "text/html": [
       "<table class=\"dataframe\">\n",
       "<caption>A data.frame: 6 × 141</caption>\n",
       "<thead>\n",
       "\t<tr><th></th><th scope=col>Participant.Code</th><th scope=col>Treatment.Group</th><th scope=col>Age..y.</th><th scope=col>Sex</th><th scope=col>Height..m.</th><th scope=col>Baseline.Body.Mass..kg.</th><th scope=col>Follow.Up.Body.Mass..kg.</th><th scope=col>Baseline.Lean.Tissue.Mass..kg.</th><th scope=col>Follow.Up.Lean.Tissue.Mass..kg.</th><th scope=col>Baseline.Adipose.Tissue.Mass..kg.</th><th scope=col>...</th><th scope=col>Week.1.Mean.Afternoon.Evening.Interstitial.Glucose..mmol.l.</th><th scope=col>Week.6.Mean.Afternoon.Evening.Interstitial.Glucose..mmol.l.</th><th scope=col>Week.1.CV.Afternoon.Evening.Interstitial.Glucose....</th><th scope=col>Week.6.CV.Afternoon.Evening.Interstitial.Glucose....</th><th scope=col>Week.1.Peak.Sleeping.Interstitial.Glucose..mmol.l.</th><th scope=col>Week.6.Peak.Sleeping.Interstitial.Glucose..mmol.l.</th><th scope=col>Week.1.Mean.Sleeping.Interstitial.Glucose..mmol.l.</th><th scope=col>Week.6.Mean.Sleeping.Interstitial.Glucose..mmol.l.</th><th scope=col>Week.1.CV.Sleeping.Interstitial.Glucose....</th><th scope=col>Week.6.CV.Sleeping.Interstitial.Glucose....</th></tr>\n",
       "\t<tr><th></th><th scope=col>&lt;int&gt;</th><th scope=col>&lt;chr&gt;</th><th scope=col>&lt;int&gt;</th><th scope=col>&lt;chr&gt;</th><th scope=col>&lt;dbl&gt;</th><th scope=col>&lt;dbl&gt;</th><th scope=col>&lt;dbl&gt;</th><th scope=col>&lt;dbl&gt;</th><th scope=col>&lt;dbl&gt;</th><th scope=col>&lt;dbl&gt;</th><th scope=col>...</th><th scope=col>&lt;dbl&gt;</th><th scope=col>&lt;dbl&gt;</th><th scope=col>&lt;dbl&gt;</th><th scope=col>&lt;dbl&gt;</th><th scope=col>&lt;dbl&gt;</th><th scope=col>&lt;dbl&gt;</th><th scope=col>&lt;dbl&gt;</th><th scope=col>&lt;dbl&gt;</th><th scope=col>&lt;dbl&gt;</th><th scope=col>&lt;dbl&gt;</th></tr>\n",
       "</thead>\n",
       "<tbody>\n",
       "\t<tr><th scope=row>1</th><td> 2</td><td>Fasting</td><td>27</td><td>Female</td><td>1.75</td><td>71.5</td><td>71.1</td><td>51.8</td><td>52.4</td><td>15.1</td><td>...</td><td>5.5</td><td>5.2</td><td>13.8</td><td>14.7</td><td>6.5</td><td>7.8</td><td>5.2</td><td>5.6</td><td> 9.0</td><td>15.7</td></tr>\n",
       "\t<tr><th scope=row>2</th><td> 4</td><td>Fasting</td><td>25</td><td>Female</td><td>1.72</td><td>74.6</td><td>73.8</td><td>50.4</td><td>51.7</td><td>21.0</td><td>...</td><td>5.7</td><td>5.8</td><td> 9.0</td><td>11.0</td><td>6.3</td><td>6.8</td><td>5.6</td><td>5.6</td><td> 6.9</td><td> 9.1</td></tr>\n",
       "\t<tr><th scope=row>3</th><td>11</td><td>Fasting</td><td>44</td><td>Male  </td><td>1.64</td><td>68.0</td><td>68.1</td><td>46.7</td><td>47.0</td><td>17.9</td><td>...</td><td>5.7</td><td>5.4</td><td>17.4</td><td>12.6</td><td>7.1</td><td>7.5</td><td>5.6</td><td>5.5</td><td>11.6</td><td>13.1</td></tr>\n",
       "\t<tr><th scope=row>4</th><td>14</td><td>Fasting</td><td>36</td><td>Female</td><td>1.68</td><td>57.0</td><td>57.3</td><td>41.0</td><td>41.9</td><td>13.6</td><td>...</td><td>5.2</td><td>5.2</td><td>16.7</td><td>16.4</td><td>7.3</td><td>7.7</td><td>5.2</td><td>5.5</td><td>11.0</td><td>10.1</td></tr>\n",
       "\t<tr><th scope=row>5</th><td>16</td><td>Fasting</td><td>28</td><td>Female</td><td>1.64</td><td>49.4</td><td>49.0</td><td>36.4</td><td>35.9</td><td>10.1</td><td>...</td><td>4.7</td><td>5.1</td><td>12.7</td><td>15.6</td><td>6.2</td><td>9.4</td><td>4.9</td><td>5.3</td><td> 9.2</td><td>17.7</td></tr>\n",
       "\t<tr><th scope=row>6</th><td>19</td><td>Fasting</td><td>38</td><td>Male  </td><td>1.74</td><td>64.3</td><td>64.0</td><td>50.0</td><td>49.3</td><td>11.1</td><td>...</td><td>5.3</td><td>5.5</td><td>19.8</td><td>14.7</td><td>6.8</td><td>6.9</td><td>4.9</td><td>5.4</td><td>15.8</td><td> 8.7</td></tr>\n",
       "</tbody>\n",
       "</table>\n"
      ],
      "text/latex": [
       "A data.frame: 6 × 141\n",
       "\\begin{tabular}{r|lllllllllllllllllllll}\n",
       "  & Participant.Code & Treatment.Group & Age..y. & Sex & Height..m. & Baseline.Body.Mass..kg. & Follow.Up.Body.Mass..kg. & Baseline.Lean.Tissue.Mass..kg. & Follow.Up.Lean.Tissue.Mass..kg. & Baseline.Adipose.Tissue.Mass..kg. & ... & Week.1.Mean.Afternoon.Evening.Interstitial.Glucose..mmol.l. & Week.6.Mean.Afternoon.Evening.Interstitial.Glucose..mmol.l. & Week.1.CV.Afternoon.Evening.Interstitial.Glucose.... & Week.6.CV.Afternoon.Evening.Interstitial.Glucose.... & Week.1.Peak.Sleeping.Interstitial.Glucose..mmol.l. & Week.6.Peak.Sleeping.Interstitial.Glucose..mmol.l. & Week.1.Mean.Sleeping.Interstitial.Glucose..mmol.l. & Week.6.Mean.Sleeping.Interstitial.Glucose..mmol.l. & Week.1.CV.Sleeping.Interstitial.Glucose.... & Week.6.CV.Sleeping.Interstitial.Glucose....\\\\\n",
       "  & <int> & <chr> & <int> & <chr> & <dbl> & <dbl> & <dbl> & <dbl> & <dbl> & <dbl> & ... & <dbl> & <dbl> & <dbl> & <dbl> & <dbl> & <dbl> & <dbl> & <dbl> & <dbl> & <dbl>\\\\\n",
       "\\hline\n",
       "\t1 &  2 & Fasting & 27 & Female & 1.75 & 71.5 & 71.1 & 51.8 & 52.4 & 15.1 & ... & 5.5 & 5.2 & 13.8 & 14.7 & 6.5 & 7.8 & 5.2 & 5.6 &  9.0 & 15.7\\\\\n",
       "\t2 &  4 & Fasting & 25 & Female & 1.72 & 74.6 & 73.8 & 50.4 & 51.7 & 21.0 & ... & 5.7 & 5.8 &  9.0 & 11.0 & 6.3 & 6.8 & 5.6 & 5.6 &  6.9 &  9.1\\\\\n",
       "\t3 & 11 & Fasting & 44 & Male   & 1.64 & 68.0 & 68.1 & 46.7 & 47.0 & 17.9 & ... & 5.7 & 5.4 & 17.4 & 12.6 & 7.1 & 7.5 & 5.6 & 5.5 & 11.6 & 13.1\\\\\n",
       "\t4 & 14 & Fasting & 36 & Female & 1.68 & 57.0 & 57.3 & 41.0 & 41.9 & 13.6 & ... & 5.2 & 5.2 & 16.7 & 16.4 & 7.3 & 7.7 & 5.2 & 5.5 & 11.0 & 10.1\\\\\n",
       "\t5 & 16 & Fasting & 28 & Female & 1.64 & 49.4 & 49.0 & 36.4 & 35.9 & 10.1 & ... & 4.7 & 5.1 & 12.7 & 15.6 & 6.2 & 9.4 & 4.9 & 5.3 &  9.2 & 17.7\\\\\n",
       "\t6 & 19 & Fasting & 38 & Male   & 1.74 & 64.3 & 64.0 & 50.0 & 49.3 & 11.1 & ... & 5.3 & 5.5 & 19.8 & 14.7 & 6.8 & 6.9 & 4.9 & 5.4 & 15.8 &  8.7\\\\\n",
       "\\end{tabular}\n"
      ],
      "text/markdown": [
       "\n",
       "A data.frame: 6 × 141\n",
       "\n",
       "| <!--/--> | Participant.Code &lt;int&gt; | Treatment.Group &lt;chr&gt; | Age..y. &lt;int&gt; | Sex &lt;chr&gt; | Height..m. &lt;dbl&gt; | Baseline.Body.Mass..kg. &lt;dbl&gt; | Follow.Up.Body.Mass..kg. &lt;dbl&gt; | Baseline.Lean.Tissue.Mass..kg. &lt;dbl&gt; | Follow.Up.Lean.Tissue.Mass..kg. &lt;dbl&gt; | Baseline.Adipose.Tissue.Mass..kg. &lt;dbl&gt; | ... ... | Week.1.Mean.Afternoon.Evening.Interstitial.Glucose..mmol.l. &lt;dbl&gt; | Week.6.Mean.Afternoon.Evening.Interstitial.Glucose..mmol.l. &lt;dbl&gt; | Week.1.CV.Afternoon.Evening.Interstitial.Glucose.... &lt;dbl&gt; | Week.6.CV.Afternoon.Evening.Interstitial.Glucose.... &lt;dbl&gt; | Week.1.Peak.Sleeping.Interstitial.Glucose..mmol.l. &lt;dbl&gt; | Week.6.Peak.Sleeping.Interstitial.Glucose..mmol.l. &lt;dbl&gt; | Week.1.Mean.Sleeping.Interstitial.Glucose..mmol.l. &lt;dbl&gt; | Week.6.Mean.Sleeping.Interstitial.Glucose..mmol.l. &lt;dbl&gt; | Week.1.CV.Sleeping.Interstitial.Glucose.... &lt;dbl&gt; | Week.6.CV.Sleeping.Interstitial.Glucose.... &lt;dbl&gt; |\n",
       "|---|---|---|---|---|---|---|---|---|---|---|---|---|---|---|---|---|---|---|---|---|---|\n",
       "| 1 |  2 | Fasting | 27 | Female | 1.75 | 71.5 | 71.1 | 51.8 | 52.4 | 15.1 | ... | 5.5 | 5.2 | 13.8 | 14.7 | 6.5 | 7.8 | 5.2 | 5.6 |  9.0 | 15.7 |\n",
       "| 2 |  4 | Fasting | 25 | Female | 1.72 | 74.6 | 73.8 | 50.4 | 51.7 | 21.0 | ... | 5.7 | 5.8 |  9.0 | 11.0 | 6.3 | 6.8 | 5.6 | 5.6 |  6.9 |  9.1 |\n",
       "| 3 | 11 | Fasting | 44 | Male   | 1.64 | 68.0 | 68.1 | 46.7 | 47.0 | 17.9 | ... | 5.7 | 5.4 | 17.4 | 12.6 | 7.1 | 7.5 | 5.6 | 5.5 | 11.6 | 13.1 |\n",
       "| 4 | 14 | Fasting | 36 | Female | 1.68 | 57.0 | 57.3 | 41.0 | 41.9 | 13.6 | ... | 5.2 | 5.2 | 16.7 | 16.4 | 7.3 | 7.7 | 5.2 | 5.5 | 11.0 | 10.1 |\n",
       "| 5 | 16 | Fasting | 28 | Female | 1.64 | 49.4 | 49.0 | 36.4 | 35.9 | 10.1 | ... | 4.7 | 5.1 | 12.7 | 15.6 | 6.2 | 9.4 | 4.9 | 5.3 |  9.2 | 17.7 |\n",
       "| 6 | 19 | Fasting | 38 | Male   | 1.74 | 64.3 | 64.0 | 50.0 | 49.3 | 11.1 | ... | 5.3 | 5.5 | 19.8 | 14.7 | 6.8 | 6.9 | 4.9 | 5.4 | 15.8 |  8.7 |\n",
       "\n"
      ],
      "text/plain": [
       "  Participant.Code Treatment.Group Age..y. Sex    Height..m.\n",
       "1  2               Fasting         27      Female 1.75      \n",
       "2  4               Fasting         25      Female 1.72      \n",
       "3 11               Fasting         44      Male   1.64      \n",
       "4 14               Fasting         36      Female 1.68      \n",
       "5 16               Fasting         28      Female 1.64      \n",
       "6 19               Fasting         38      Male   1.74      \n",
       "  Baseline.Body.Mass..kg. Follow.Up.Body.Mass..kg.\n",
       "1 71.5                    71.1                    \n",
       "2 74.6                    73.8                    \n",
       "3 68.0                    68.1                    \n",
       "4 57.0                    57.3                    \n",
       "5 49.4                    49.0                    \n",
       "6 64.3                    64.0                    \n",
       "  Baseline.Lean.Tissue.Mass..kg. Follow.Up.Lean.Tissue.Mass..kg.\n",
       "1 51.8                           52.4                           \n",
       "2 50.4                           51.7                           \n",
       "3 46.7                           47.0                           \n",
       "4 41.0                           41.9                           \n",
       "5 36.4                           35.9                           \n",
       "6 50.0                           49.3                           \n",
       "  Baseline.Adipose.Tissue.Mass..kg. ...\n",
       "1 15.1                              ...\n",
       "2 21.0                              ...\n",
       "3 17.9                              ...\n",
       "4 13.6                              ...\n",
       "5 10.1                              ...\n",
       "6 11.1                              ...\n",
       "  Week.1.Mean.Afternoon.Evening.Interstitial.Glucose..mmol.l.\n",
       "1 5.5                                                        \n",
       "2 5.7                                                        \n",
       "3 5.7                                                        \n",
       "4 5.2                                                        \n",
       "5 4.7                                                        \n",
       "6 5.3                                                        \n",
       "  Week.6.Mean.Afternoon.Evening.Interstitial.Glucose..mmol.l.\n",
       "1 5.2                                                        \n",
       "2 5.8                                                        \n",
       "3 5.4                                                        \n",
       "4 5.2                                                        \n",
       "5 5.1                                                        \n",
       "6 5.5                                                        \n",
       "  Week.1.CV.Afternoon.Evening.Interstitial.Glucose....\n",
       "1 13.8                                                \n",
       "2  9.0                                                \n",
       "3 17.4                                                \n",
       "4 16.7                                                \n",
       "5 12.7                                                \n",
       "6 19.8                                                \n",
       "  Week.6.CV.Afternoon.Evening.Interstitial.Glucose....\n",
       "1 14.7                                                \n",
       "2 11.0                                                \n",
       "3 12.6                                                \n",
       "4 16.4                                                \n",
       "5 15.6                                                \n",
       "6 14.7                                                \n",
       "  Week.1.Peak.Sleeping.Interstitial.Glucose..mmol.l.\n",
       "1 6.5                                               \n",
       "2 6.3                                               \n",
       "3 7.1                                               \n",
       "4 7.3                                               \n",
       "5 6.2                                               \n",
       "6 6.8                                               \n",
       "  Week.6.Peak.Sleeping.Interstitial.Glucose..mmol.l.\n",
       "1 7.8                                               \n",
       "2 6.8                                               \n",
       "3 7.5                                               \n",
       "4 7.7                                               \n",
       "5 9.4                                               \n",
       "6 6.9                                               \n",
       "  Week.1.Mean.Sleeping.Interstitial.Glucose..mmol.l.\n",
       "1 5.2                                               \n",
       "2 5.6                                               \n",
       "3 5.6                                               \n",
       "4 5.2                                               \n",
       "5 4.9                                               \n",
       "6 4.9                                               \n",
       "  Week.6.Mean.Sleeping.Interstitial.Glucose..mmol.l.\n",
       "1 5.6                                               \n",
       "2 5.6                                               \n",
       "3 5.5                                               \n",
       "4 5.5                                               \n",
       "5 5.3                                               \n",
       "6 5.4                                               \n",
       "  Week.1.CV.Sleeping.Interstitial.Glucose....\n",
       "1  9.0                                       \n",
       "2  6.9                                       \n",
       "3 11.6                                       \n",
       "4 11.0                                       \n",
       "5  9.2                                       \n",
       "6 15.8                                       \n",
       "  Week.6.CV.Sleeping.Interstitial.Glucose....\n",
       "1 15.7                                       \n",
       "2  9.1                                       \n",
       "3 13.1                                       \n",
       "4 10.1                                       \n",
       "5 17.7                                       \n",
       "6  8.7                                       "
      ]
     },
     "metadata": {},
     "output_type": "display_data"
    }
   ],
   "source": [
    "head(data)"
   ]
  },
  {
   "cell_type": "markdown",
   "id": "6f5d8205-65bb-4f6b-bb90-c3b185106df5",
   "metadata": {},
   "source": [
    "## Data Wrangling"
   ]
  },
  {
   "cell_type": "code",
   "execution_count": 10,
   "id": "e0bdd315-0b9b-4c4e-a024-b8601cf85c3e",
   "metadata": {},
   "outputs": [],
   "source": [
    "data1 = data[1:33,]\n",
    "## subset the void rows below 33"
   ]
  },
  {
   "cell_type": "code",
   "execution_count": 5,
   "id": "7c02d0bf-be02-4e19-abd1-31a9e4437cde",
   "metadata": {},
   "outputs": [
    {
     "data": {
      "text/html": [
       "<table class=\"dataframe\">\n",
       "<caption>A data.frame: 6 × 141</caption>\n",
       "<thead>\n",
       "\t<tr><th></th><th scope=col>Participant.Code</th><th scope=col>Treatment.Group</th><th scope=col>Age..y.</th><th scope=col>Sex</th><th scope=col>Height..m.</th><th scope=col>Baseline.Body.Mass..kg.</th><th scope=col>Follow.Up.Body.Mass..kg.</th><th scope=col>Baseline.Lean.Tissue.Mass..kg.</th><th scope=col>Follow.Up.Lean.Tissue.Mass..kg.</th><th scope=col>Baseline.Adipose.Tissue.Mass..kg.</th><th scope=col>...</th><th scope=col>Week.1.Mean.Afternoon.Evening.Interstitial.Glucose..mmol.l.</th><th scope=col>Week.6.Mean.Afternoon.Evening.Interstitial.Glucose..mmol.l.</th><th scope=col>Week.1.CV.Afternoon.Evening.Interstitial.Glucose....</th><th scope=col>Week.6.CV.Afternoon.Evening.Interstitial.Glucose....</th><th scope=col>Week.1.Peak.Sleeping.Interstitial.Glucose..mmol.l.</th><th scope=col>Week.6.Peak.Sleeping.Interstitial.Glucose..mmol.l.</th><th scope=col>Week.1.Mean.Sleeping.Interstitial.Glucose..mmol.l.</th><th scope=col>Week.6.Mean.Sleeping.Interstitial.Glucose..mmol.l.</th><th scope=col>Week.1.CV.Sleeping.Interstitial.Glucose....</th><th scope=col>Week.6.CV.Sleeping.Interstitial.Glucose....</th></tr>\n",
       "\t<tr><th></th><th scope=col>&lt;int&gt;</th><th scope=col>&lt;chr&gt;</th><th scope=col>&lt;int&gt;</th><th scope=col>&lt;chr&gt;</th><th scope=col>&lt;dbl&gt;</th><th scope=col>&lt;dbl&gt;</th><th scope=col>&lt;dbl&gt;</th><th scope=col>&lt;dbl&gt;</th><th scope=col>&lt;dbl&gt;</th><th scope=col>&lt;dbl&gt;</th><th scope=col>...</th><th scope=col>&lt;dbl&gt;</th><th scope=col>&lt;dbl&gt;</th><th scope=col>&lt;dbl&gt;</th><th scope=col>&lt;dbl&gt;</th><th scope=col>&lt;dbl&gt;</th><th scope=col>&lt;dbl&gt;</th><th scope=col>&lt;dbl&gt;</th><th scope=col>&lt;dbl&gt;</th><th scope=col>&lt;dbl&gt;</th><th scope=col>&lt;dbl&gt;</th></tr>\n",
       "</thead>\n",
       "<tbody>\n",
       "\t<tr><th scope=row>1</th><td> 2</td><td>Fasting</td><td>27</td><td>Female</td><td>1.75</td><td>71.5</td><td>71.1</td><td>51.8</td><td>52.4</td><td>15.1</td><td>...</td><td>5.5</td><td>5.2</td><td>13.8</td><td>14.7</td><td>6.5</td><td>7.8</td><td>5.2</td><td>5.6</td><td> 9.0</td><td>15.7</td></tr>\n",
       "\t<tr><th scope=row>2</th><td> 4</td><td>Fasting</td><td>25</td><td>Female</td><td>1.72</td><td>74.6</td><td>73.8</td><td>50.4</td><td>51.7</td><td>21.0</td><td>...</td><td>5.7</td><td>5.8</td><td> 9.0</td><td>11.0</td><td>6.3</td><td>6.8</td><td>5.6</td><td>5.6</td><td> 6.9</td><td> 9.1</td></tr>\n",
       "\t<tr><th scope=row>3</th><td>11</td><td>Fasting</td><td>44</td><td>Male  </td><td>1.64</td><td>68.0</td><td>68.1</td><td>46.7</td><td>47.0</td><td>17.9</td><td>...</td><td>5.7</td><td>5.4</td><td>17.4</td><td>12.6</td><td>7.1</td><td>7.5</td><td>5.6</td><td>5.5</td><td>11.6</td><td>13.1</td></tr>\n",
       "\t<tr><th scope=row>4</th><td>14</td><td>Fasting</td><td>36</td><td>Female</td><td>1.68</td><td>57.0</td><td>57.3</td><td>41.0</td><td>41.9</td><td>13.6</td><td>...</td><td>5.2</td><td>5.2</td><td>16.7</td><td>16.4</td><td>7.3</td><td>7.7</td><td>5.2</td><td>5.5</td><td>11.0</td><td>10.1</td></tr>\n",
       "\t<tr><th scope=row>5</th><td>16</td><td>Fasting</td><td>28</td><td>Female</td><td>1.64</td><td>49.4</td><td>49.0</td><td>36.4</td><td>35.9</td><td>10.1</td><td>...</td><td>4.7</td><td>5.1</td><td>12.7</td><td>15.6</td><td>6.2</td><td>9.4</td><td>4.9</td><td>5.3</td><td> 9.2</td><td>17.7</td></tr>\n",
       "\t<tr><th scope=row>6</th><td>19</td><td>Fasting</td><td>38</td><td>Male  </td><td>1.74</td><td>64.3</td><td>64.0</td><td>50.0</td><td>49.3</td><td>11.1</td><td>...</td><td>5.3</td><td>5.5</td><td>19.8</td><td>14.7</td><td>6.8</td><td>6.9</td><td>4.9</td><td>5.4</td><td>15.8</td><td> 8.7</td></tr>\n",
       "</tbody>\n",
       "</table>\n"
      ],
      "text/latex": [
       "A data.frame: 6 × 141\n",
       "\\begin{tabular}{r|lllllllllllllllllllll}\n",
       "  & Participant.Code & Treatment.Group & Age..y. & Sex & Height..m. & Baseline.Body.Mass..kg. & Follow.Up.Body.Mass..kg. & Baseline.Lean.Tissue.Mass..kg. & Follow.Up.Lean.Tissue.Mass..kg. & Baseline.Adipose.Tissue.Mass..kg. & ... & Week.1.Mean.Afternoon.Evening.Interstitial.Glucose..mmol.l. & Week.6.Mean.Afternoon.Evening.Interstitial.Glucose..mmol.l. & Week.1.CV.Afternoon.Evening.Interstitial.Glucose.... & Week.6.CV.Afternoon.Evening.Interstitial.Glucose.... & Week.1.Peak.Sleeping.Interstitial.Glucose..mmol.l. & Week.6.Peak.Sleeping.Interstitial.Glucose..mmol.l. & Week.1.Mean.Sleeping.Interstitial.Glucose..mmol.l. & Week.6.Mean.Sleeping.Interstitial.Glucose..mmol.l. & Week.1.CV.Sleeping.Interstitial.Glucose.... & Week.6.CV.Sleeping.Interstitial.Glucose....\\\\\n",
       "  & <int> & <chr> & <int> & <chr> & <dbl> & <dbl> & <dbl> & <dbl> & <dbl> & <dbl> & ... & <dbl> & <dbl> & <dbl> & <dbl> & <dbl> & <dbl> & <dbl> & <dbl> & <dbl> & <dbl>\\\\\n",
       "\\hline\n",
       "\t1 &  2 & Fasting & 27 & Female & 1.75 & 71.5 & 71.1 & 51.8 & 52.4 & 15.1 & ... & 5.5 & 5.2 & 13.8 & 14.7 & 6.5 & 7.8 & 5.2 & 5.6 &  9.0 & 15.7\\\\\n",
       "\t2 &  4 & Fasting & 25 & Female & 1.72 & 74.6 & 73.8 & 50.4 & 51.7 & 21.0 & ... & 5.7 & 5.8 &  9.0 & 11.0 & 6.3 & 6.8 & 5.6 & 5.6 &  6.9 &  9.1\\\\\n",
       "\t3 & 11 & Fasting & 44 & Male   & 1.64 & 68.0 & 68.1 & 46.7 & 47.0 & 17.9 & ... & 5.7 & 5.4 & 17.4 & 12.6 & 7.1 & 7.5 & 5.6 & 5.5 & 11.6 & 13.1\\\\\n",
       "\t4 & 14 & Fasting & 36 & Female & 1.68 & 57.0 & 57.3 & 41.0 & 41.9 & 13.6 & ... & 5.2 & 5.2 & 16.7 & 16.4 & 7.3 & 7.7 & 5.2 & 5.5 & 11.0 & 10.1\\\\\n",
       "\t5 & 16 & Fasting & 28 & Female & 1.64 & 49.4 & 49.0 & 36.4 & 35.9 & 10.1 & ... & 4.7 & 5.1 & 12.7 & 15.6 & 6.2 & 9.4 & 4.9 & 5.3 &  9.2 & 17.7\\\\\n",
       "\t6 & 19 & Fasting & 38 & Male   & 1.74 & 64.3 & 64.0 & 50.0 & 49.3 & 11.1 & ... & 5.3 & 5.5 & 19.8 & 14.7 & 6.8 & 6.9 & 4.9 & 5.4 & 15.8 &  8.7\\\\\n",
       "\\end{tabular}\n"
      ],
      "text/markdown": [
       "\n",
       "A data.frame: 6 × 141\n",
       "\n",
       "| <!--/--> | Participant.Code &lt;int&gt; | Treatment.Group &lt;chr&gt; | Age..y. &lt;int&gt; | Sex &lt;chr&gt; | Height..m. &lt;dbl&gt; | Baseline.Body.Mass..kg. &lt;dbl&gt; | Follow.Up.Body.Mass..kg. &lt;dbl&gt; | Baseline.Lean.Tissue.Mass..kg. &lt;dbl&gt; | Follow.Up.Lean.Tissue.Mass..kg. &lt;dbl&gt; | Baseline.Adipose.Tissue.Mass..kg. &lt;dbl&gt; | ... ... | Week.1.Mean.Afternoon.Evening.Interstitial.Glucose..mmol.l. &lt;dbl&gt; | Week.6.Mean.Afternoon.Evening.Interstitial.Glucose..mmol.l. &lt;dbl&gt; | Week.1.CV.Afternoon.Evening.Interstitial.Glucose.... &lt;dbl&gt; | Week.6.CV.Afternoon.Evening.Interstitial.Glucose.... &lt;dbl&gt; | Week.1.Peak.Sleeping.Interstitial.Glucose..mmol.l. &lt;dbl&gt; | Week.6.Peak.Sleeping.Interstitial.Glucose..mmol.l. &lt;dbl&gt; | Week.1.Mean.Sleeping.Interstitial.Glucose..mmol.l. &lt;dbl&gt; | Week.6.Mean.Sleeping.Interstitial.Glucose..mmol.l. &lt;dbl&gt; | Week.1.CV.Sleeping.Interstitial.Glucose.... &lt;dbl&gt; | Week.6.CV.Sleeping.Interstitial.Glucose.... &lt;dbl&gt; |\n",
       "|---|---|---|---|---|---|---|---|---|---|---|---|---|---|---|---|---|---|---|---|---|---|\n",
       "| 1 |  2 | Fasting | 27 | Female | 1.75 | 71.5 | 71.1 | 51.8 | 52.4 | 15.1 | ... | 5.5 | 5.2 | 13.8 | 14.7 | 6.5 | 7.8 | 5.2 | 5.6 |  9.0 | 15.7 |\n",
       "| 2 |  4 | Fasting | 25 | Female | 1.72 | 74.6 | 73.8 | 50.4 | 51.7 | 21.0 | ... | 5.7 | 5.8 |  9.0 | 11.0 | 6.3 | 6.8 | 5.6 | 5.6 |  6.9 |  9.1 |\n",
       "| 3 | 11 | Fasting | 44 | Male   | 1.64 | 68.0 | 68.1 | 46.7 | 47.0 | 17.9 | ... | 5.7 | 5.4 | 17.4 | 12.6 | 7.1 | 7.5 | 5.6 | 5.5 | 11.6 | 13.1 |\n",
       "| 4 | 14 | Fasting | 36 | Female | 1.68 | 57.0 | 57.3 | 41.0 | 41.9 | 13.6 | ... | 5.2 | 5.2 | 16.7 | 16.4 | 7.3 | 7.7 | 5.2 | 5.5 | 11.0 | 10.1 |\n",
       "| 5 | 16 | Fasting | 28 | Female | 1.64 | 49.4 | 49.0 | 36.4 | 35.9 | 10.1 | ... | 4.7 | 5.1 | 12.7 | 15.6 | 6.2 | 9.4 | 4.9 | 5.3 |  9.2 | 17.7 |\n",
       "| 6 | 19 | Fasting | 38 | Male   | 1.74 | 64.3 | 64.0 | 50.0 | 49.3 | 11.1 | ... | 5.3 | 5.5 | 19.8 | 14.7 | 6.8 | 6.9 | 4.9 | 5.4 | 15.8 |  8.7 |\n",
       "\n"
      ],
      "text/plain": [
       "  Participant.Code Treatment.Group Age..y. Sex    Height..m.\n",
       "1  2               Fasting         27      Female 1.75      \n",
       "2  4               Fasting         25      Female 1.72      \n",
       "3 11               Fasting         44      Male   1.64      \n",
       "4 14               Fasting         36      Female 1.68      \n",
       "5 16               Fasting         28      Female 1.64      \n",
       "6 19               Fasting         38      Male   1.74      \n",
       "  Baseline.Body.Mass..kg. Follow.Up.Body.Mass..kg.\n",
       "1 71.5                    71.1                    \n",
       "2 74.6                    73.8                    \n",
       "3 68.0                    68.1                    \n",
       "4 57.0                    57.3                    \n",
       "5 49.4                    49.0                    \n",
       "6 64.3                    64.0                    \n",
       "  Baseline.Lean.Tissue.Mass..kg. Follow.Up.Lean.Tissue.Mass..kg.\n",
       "1 51.8                           52.4                           \n",
       "2 50.4                           51.7                           \n",
       "3 46.7                           47.0                           \n",
       "4 41.0                           41.9                           \n",
       "5 36.4                           35.9                           \n",
       "6 50.0                           49.3                           \n",
       "  Baseline.Adipose.Tissue.Mass..kg. ...\n",
       "1 15.1                              ...\n",
       "2 21.0                              ...\n",
       "3 17.9                              ...\n",
       "4 13.6                              ...\n",
       "5 10.1                              ...\n",
       "6 11.1                              ...\n",
       "  Week.1.Mean.Afternoon.Evening.Interstitial.Glucose..mmol.l.\n",
       "1 5.5                                                        \n",
       "2 5.7                                                        \n",
       "3 5.7                                                        \n",
       "4 5.2                                                        \n",
       "5 4.7                                                        \n",
       "6 5.3                                                        \n",
       "  Week.6.Mean.Afternoon.Evening.Interstitial.Glucose..mmol.l.\n",
       "1 5.2                                                        \n",
       "2 5.8                                                        \n",
       "3 5.4                                                        \n",
       "4 5.2                                                        \n",
       "5 5.1                                                        \n",
       "6 5.5                                                        \n",
       "  Week.1.CV.Afternoon.Evening.Interstitial.Glucose....\n",
       "1 13.8                                                \n",
       "2  9.0                                                \n",
       "3 17.4                                                \n",
       "4 16.7                                                \n",
       "5 12.7                                                \n",
       "6 19.8                                                \n",
       "  Week.6.CV.Afternoon.Evening.Interstitial.Glucose....\n",
       "1 14.7                                                \n",
       "2 11.0                                                \n",
       "3 12.6                                                \n",
       "4 16.4                                                \n",
       "5 15.6                                                \n",
       "6 14.7                                                \n",
       "  Week.1.Peak.Sleeping.Interstitial.Glucose..mmol.l.\n",
       "1 6.5                                               \n",
       "2 6.3                                               \n",
       "3 7.1                                               \n",
       "4 7.3                                               \n",
       "5 6.2                                               \n",
       "6 6.8                                               \n",
       "  Week.6.Peak.Sleeping.Interstitial.Glucose..mmol.l.\n",
       "1 7.8                                               \n",
       "2 6.8                                               \n",
       "3 7.5                                               \n",
       "4 7.7                                               \n",
       "5 9.4                                               \n",
       "6 6.9                                               \n",
       "  Week.1.Mean.Sleeping.Interstitial.Glucose..mmol.l.\n",
       "1 5.2                                               \n",
       "2 5.6                                               \n",
       "3 5.6                                               \n",
       "4 5.2                                               \n",
       "5 4.9                                               \n",
       "6 4.9                                               \n",
       "  Week.6.Mean.Sleeping.Interstitial.Glucose..mmol.l.\n",
       "1 5.6                                               \n",
       "2 5.6                                               \n",
       "3 5.5                                               \n",
       "4 5.5                                               \n",
       "5 5.3                                               \n",
       "6 5.4                                               \n",
       "  Week.1.CV.Sleeping.Interstitial.Glucose....\n",
       "1  9.0                                       \n",
       "2  6.9                                       \n",
       "3 11.6                                       \n",
       "4 11.0                                       \n",
       "5  9.2                                       \n",
       "6 15.8                                       \n",
       "  Week.6.CV.Sleeping.Interstitial.Glucose....\n",
       "1 15.7                                       \n",
       "2  9.1                                       \n",
       "3 13.1                                       \n",
       "4 10.1                                       \n",
       "5 17.7                                       \n",
       "6  8.7                                       "
      ]
     },
     "metadata": {},
     "output_type": "display_data"
    }
   ],
   "source": [
    "head(data1)\n",
    "## view data"
   ]
  },
  {
   "cell_type": "code",
   "execution_count": 7,
   "id": "f761228c-2508-4f91-a6e8-a0e77cb3f722",
   "metadata": {},
   "outputs": [],
   "source": [
    "keep = c(\"Participant.Code\", \"Treatment.Group\", \"Age..y.\", \"Sex\", \"Height..m.\", \"Baseline.Body.Mass..kg.\", \"Follow.Up.Body.Mass..kg.\")\n",
    "## vector of columns to keep/examine"
   ]
  },
  {
   "cell_type": "code",
   "execution_count": 8,
   "id": "ae7fe7c7-7a49-4c07-bfab-654ede6e7f07",
   "metadata": {},
   "outputs": [],
   "source": [
    "data2 = data1[keep]\n",
    "## new data set with only those columns in the vector above"
   ]
  },
  {
   "cell_type": "code",
   "execution_count": 9,
   "id": "8fea6bd4-5b80-4ae1-bd32-70c316e8809e",
   "metadata": {},
   "outputs": [
    {
     "data": {
      "text/html": [
       "<table class=\"dataframe\">\n",
       "<caption>A data.frame: 6 × 7</caption>\n",
       "<thead>\n",
       "\t<tr><th></th><th scope=col>Participant.Code</th><th scope=col>Treatment.Group</th><th scope=col>Age..y.</th><th scope=col>Sex</th><th scope=col>Height..m.</th><th scope=col>Baseline.Body.Mass..kg.</th><th scope=col>Follow.Up.Body.Mass..kg.</th></tr>\n",
       "\t<tr><th></th><th scope=col>&lt;int&gt;</th><th scope=col>&lt;chr&gt;</th><th scope=col>&lt;int&gt;</th><th scope=col>&lt;chr&gt;</th><th scope=col>&lt;dbl&gt;</th><th scope=col>&lt;dbl&gt;</th><th scope=col>&lt;dbl&gt;</th></tr>\n",
       "</thead>\n",
       "<tbody>\n",
       "\t<tr><th scope=row>1</th><td> 2</td><td>Fasting</td><td>27</td><td>Female</td><td>1.75</td><td>71.5</td><td>71.1</td></tr>\n",
       "\t<tr><th scope=row>2</th><td> 4</td><td>Fasting</td><td>25</td><td>Female</td><td>1.72</td><td>74.6</td><td>73.8</td></tr>\n",
       "\t<tr><th scope=row>3</th><td>11</td><td>Fasting</td><td>44</td><td>Male  </td><td>1.64</td><td>68.0</td><td>68.1</td></tr>\n",
       "\t<tr><th scope=row>4</th><td>14</td><td>Fasting</td><td>36</td><td>Female</td><td>1.68</td><td>57.0</td><td>57.3</td></tr>\n",
       "\t<tr><th scope=row>5</th><td>16</td><td>Fasting</td><td>28</td><td>Female</td><td>1.64</td><td>49.4</td><td>49.0</td></tr>\n",
       "\t<tr><th scope=row>6</th><td>19</td><td>Fasting</td><td>38</td><td>Male  </td><td>1.74</td><td>64.3</td><td>64.0</td></tr>\n",
       "</tbody>\n",
       "</table>\n"
      ],
      "text/latex": [
       "A data.frame: 6 × 7\n",
       "\\begin{tabular}{r|lllllll}\n",
       "  & Participant.Code & Treatment.Group & Age..y. & Sex & Height..m. & Baseline.Body.Mass..kg. & Follow.Up.Body.Mass..kg.\\\\\n",
       "  & <int> & <chr> & <int> & <chr> & <dbl> & <dbl> & <dbl>\\\\\n",
       "\\hline\n",
       "\t1 &  2 & Fasting & 27 & Female & 1.75 & 71.5 & 71.1\\\\\n",
       "\t2 &  4 & Fasting & 25 & Female & 1.72 & 74.6 & 73.8\\\\\n",
       "\t3 & 11 & Fasting & 44 & Male   & 1.64 & 68.0 & 68.1\\\\\n",
       "\t4 & 14 & Fasting & 36 & Female & 1.68 & 57.0 & 57.3\\\\\n",
       "\t5 & 16 & Fasting & 28 & Female & 1.64 & 49.4 & 49.0\\\\\n",
       "\t6 & 19 & Fasting & 38 & Male   & 1.74 & 64.3 & 64.0\\\\\n",
       "\\end{tabular}\n"
      ],
      "text/markdown": [
       "\n",
       "A data.frame: 6 × 7\n",
       "\n",
       "| <!--/--> | Participant.Code &lt;int&gt; | Treatment.Group &lt;chr&gt; | Age..y. &lt;int&gt; | Sex &lt;chr&gt; | Height..m. &lt;dbl&gt; | Baseline.Body.Mass..kg. &lt;dbl&gt; | Follow.Up.Body.Mass..kg. &lt;dbl&gt; |\n",
       "|---|---|---|---|---|---|---|---|\n",
       "| 1 |  2 | Fasting | 27 | Female | 1.75 | 71.5 | 71.1 |\n",
       "| 2 |  4 | Fasting | 25 | Female | 1.72 | 74.6 | 73.8 |\n",
       "| 3 | 11 | Fasting | 44 | Male   | 1.64 | 68.0 | 68.1 |\n",
       "| 4 | 14 | Fasting | 36 | Female | 1.68 | 57.0 | 57.3 |\n",
       "| 5 | 16 | Fasting | 28 | Female | 1.64 | 49.4 | 49.0 |\n",
       "| 6 | 19 | Fasting | 38 | Male   | 1.74 | 64.3 | 64.0 |\n",
       "\n"
      ],
      "text/plain": [
       "  Participant.Code Treatment.Group Age..y. Sex    Height..m.\n",
       "1  2               Fasting         27      Female 1.75      \n",
       "2  4               Fasting         25      Female 1.72      \n",
       "3 11               Fasting         44      Male   1.64      \n",
       "4 14               Fasting         36      Female 1.68      \n",
       "5 16               Fasting         28      Female 1.64      \n",
       "6 19               Fasting         38      Male   1.74      \n",
       "  Baseline.Body.Mass..kg. Follow.Up.Body.Mass..kg.\n",
       "1 71.5                    71.1                    \n",
       "2 74.6                    73.8                    \n",
       "3 68.0                    68.1                    \n",
       "4 57.0                    57.3                    \n",
       "5 49.4                    49.0                    \n",
       "6 64.3                    64.0                    "
      ]
     },
     "metadata": {},
     "output_type": "display_data"
    }
   ],
   "source": [
    "head(data2)\n",
    "## view data"
   ]
  },
  {
   "cell_type": "markdown",
   "id": "aa3db646-9d84-4db5-92c8-a11bae998e56",
   "metadata": {},
   "source": [
    "#### baseline data"
   ]
  },
  {
   "cell_type": "code",
   "execution_count": 12,
   "id": "1a329eb9-f0eb-4c12-8eb5-642b6cb528e2",
   "metadata": {},
   "outputs": [],
   "source": [
    "data3 <- data2[,1:5]\n",
    "## keeping only first 5 columns that do not change by timepoint"
   ]
  },
  {
   "cell_type": "code",
   "execution_count": 13,
   "id": "ca3a726c-36a3-48f8-bae4-5e5d0c5c67ae",
   "metadata": {},
   "outputs": [],
   "source": [
    "data3$repdat <- data2$Baseline.Body.Mass..kg.\n",
    "## column with the subject's baseline mass"
   ]
  },
  {
   "cell_type": "code",
   "execution_count": 14,
   "id": "d3d506a2-35ca-4c9d-9d7f-4e0cd5617a5b",
   "metadata": {},
   "outputs": [],
   "source": [
    "data3$contrasts <- \"T1\""
   ]
  },
  {
   "cell_type": "code",
   "execution_count": 15,
   "id": "2dd1592e-36a2-4e5f-9f60-7b215b9aeb82",
   "metadata": {},
   "outputs": [
    {
     "data": {
      "text/html": [
       "<table class=\"dataframe\">\n",
       "<caption>A data.frame: 6 × 7</caption>\n",
       "<thead>\n",
       "\t<tr><th></th><th scope=col>Participant.Code</th><th scope=col>Treatment.Group</th><th scope=col>Age..y.</th><th scope=col>Sex</th><th scope=col>Height..m.</th><th scope=col>repdat</th><th scope=col>contrasts</th></tr>\n",
       "\t<tr><th></th><th scope=col>&lt;int&gt;</th><th scope=col>&lt;chr&gt;</th><th scope=col>&lt;int&gt;</th><th scope=col>&lt;chr&gt;</th><th scope=col>&lt;dbl&gt;</th><th scope=col>&lt;dbl&gt;</th><th scope=col>&lt;chr&gt;</th></tr>\n",
       "</thead>\n",
       "<tbody>\n",
       "\t<tr><th scope=row>1</th><td> 2</td><td>Fasting</td><td>27</td><td>Female</td><td>1.75</td><td>71.5</td><td>T1</td></tr>\n",
       "\t<tr><th scope=row>2</th><td> 4</td><td>Fasting</td><td>25</td><td>Female</td><td>1.72</td><td>74.6</td><td>T1</td></tr>\n",
       "\t<tr><th scope=row>3</th><td>11</td><td>Fasting</td><td>44</td><td>Male  </td><td>1.64</td><td>68.0</td><td>T1</td></tr>\n",
       "\t<tr><th scope=row>4</th><td>14</td><td>Fasting</td><td>36</td><td>Female</td><td>1.68</td><td>57.0</td><td>T1</td></tr>\n",
       "\t<tr><th scope=row>5</th><td>16</td><td>Fasting</td><td>28</td><td>Female</td><td>1.64</td><td>49.4</td><td>T1</td></tr>\n",
       "\t<tr><th scope=row>6</th><td>19</td><td>Fasting</td><td>38</td><td>Male  </td><td>1.74</td><td>64.3</td><td>T1</td></tr>\n",
       "</tbody>\n",
       "</table>\n"
      ],
      "text/latex": [
       "A data.frame: 6 × 7\n",
       "\\begin{tabular}{r|lllllll}\n",
       "  & Participant.Code & Treatment.Group & Age..y. & Sex & Height..m. & repdat & contrasts\\\\\n",
       "  & <int> & <chr> & <int> & <chr> & <dbl> & <dbl> & <chr>\\\\\n",
       "\\hline\n",
       "\t1 &  2 & Fasting & 27 & Female & 1.75 & 71.5 & T1\\\\\n",
       "\t2 &  4 & Fasting & 25 & Female & 1.72 & 74.6 & T1\\\\\n",
       "\t3 & 11 & Fasting & 44 & Male   & 1.64 & 68.0 & T1\\\\\n",
       "\t4 & 14 & Fasting & 36 & Female & 1.68 & 57.0 & T1\\\\\n",
       "\t5 & 16 & Fasting & 28 & Female & 1.64 & 49.4 & T1\\\\\n",
       "\t6 & 19 & Fasting & 38 & Male   & 1.74 & 64.3 & T1\\\\\n",
       "\\end{tabular}\n"
      ],
      "text/markdown": [
       "\n",
       "A data.frame: 6 × 7\n",
       "\n",
       "| <!--/--> | Participant.Code &lt;int&gt; | Treatment.Group &lt;chr&gt; | Age..y. &lt;int&gt; | Sex &lt;chr&gt; | Height..m. &lt;dbl&gt; | repdat &lt;dbl&gt; | contrasts &lt;chr&gt; |\n",
       "|---|---|---|---|---|---|---|---|\n",
       "| 1 |  2 | Fasting | 27 | Female | 1.75 | 71.5 | T1 |\n",
       "| 2 |  4 | Fasting | 25 | Female | 1.72 | 74.6 | T1 |\n",
       "| 3 | 11 | Fasting | 44 | Male   | 1.64 | 68.0 | T1 |\n",
       "| 4 | 14 | Fasting | 36 | Female | 1.68 | 57.0 | T1 |\n",
       "| 5 | 16 | Fasting | 28 | Female | 1.64 | 49.4 | T1 |\n",
       "| 6 | 19 | Fasting | 38 | Male   | 1.74 | 64.3 | T1 |\n",
       "\n"
      ],
      "text/plain": [
       "  Participant.Code Treatment.Group Age..y. Sex    Height..m. repdat contrasts\n",
       "1  2               Fasting         27      Female 1.75       71.5   T1       \n",
       "2  4               Fasting         25      Female 1.72       74.6   T1       \n",
       "3 11               Fasting         44      Male   1.64       68.0   T1       \n",
       "4 14               Fasting         36      Female 1.68       57.0   T1       \n",
       "5 16               Fasting         28      Female 1.64       49.4   T1       \n",
       "6 19               Fasting         38      Male   1.74       64.3   T1       "
      ]
     },
     "metadata": {},
     "output_type": "display_data"
    }
   ],
   "source": [
    "head(data3)"
   ]
  },
  {
   "cell_type": "markdown",
   "id": "b38cd7fb-6143-45f6-b486-c2c82cda1555",
   "metadata": {},
   "source": [
    "#### follow up data"
   ]
  },
  {
   "cell_type": "code",
   "execution_count": 17,
   "id": "518cf489-c2ed-4785-bab2-e85851e78281",
   "metadata": {},
   "outputs": [],
   "source": [
    "data4 = data2[,1:5]"
   ]
  },
  {
   "cell_type": "code",
   "execution_count": 18,
   "id": "4d52ec8a-03f6-4a45-8118-8de3e4b9e761",
   "metadata": {},
   "outputs": [],
   "source": [
    "data4$repdat = data2$Follow.Up.Body.Mass..kg."
   ]
  },
  {
   "cell_type": "code",
   "execution_count": 19,
   "id": "f7496108-f99c-4b6b-91ce-35508c157b12",
   "metadata": {},
   "outputs": [],
   "source": [
    "data4$contrasts = \"T2\""
   ]
  },
  {
   "cell_type": "code",
   "execution_count": 20,
   "id": "7522aa9f-3938-47a6-88e2-c1f5be4592d2",
   "metadata": {},
   "outputs": [
    {
     "data": {
      "text/html": [
       "<table class=\"dataframe\">\n",
       "<caption>A data.frame: 6 × 7</caption>\n",
       "<thead>\n",
       "\t<tr><th></th><th scope=col>Participant.Code</th><th scope=col>Treatment.Group</th><th scope=col>Age..y.</th><th scope=col>Sex</th><th scope=col>Height..m.</th><th scope=col>repdat</th><th scope=col>contrasts</th></tr>\n",
       "\t<tr><th></th><th scope=col>&lt;int&gt;</th><th scope=col>&lt;chr&gt;</th><th scope=col>&lt;int&gt;</th><th scope=col>&lt;chr&gt;</th><th scope=col>&lt;dbl&gt;</th><th scope=col>&lt;dbl&gt;</th><th scope=col>&lt;chr&gt;</th></tr>\n",
       "</thead>\n",
       "<tbody>\n",
       "\t<tr><th scope=row>1</th><td> 2</td><td>Fasting</td><td>27</td><td>Female</td><td>1.75</td><td>71.1</td><td>T2</td></tr>\n",
       "\t<tr><th scope=row>2</th><td> 4</td><td>Fasting</td><td>25</td><td>Female</td><td>1.72</td><td>73.8</td><td>T2</td></tr>\n",
       "\t<tr><th scope=row>3</th><td>11</td><td>Fasting</td><td>44</td><td>Male  </td><td>1.64</td><td>68.1</td><td>T2</td></tr>\n",
       "\t<tr><th scope=row>4</th><td>14</td><td>Fasting</td><td>36</td><td>Female</td><td>1.68</td><td>57.3</td><td>T2</td></tr>\n",
       "\t<tr><th scope=row>5</th><td>16</td><td>Fasting</td><td>28</td><td>Female</td><td>1.64</td><td>49.0</td><td>T2</td></tr>\n",
       "\t<tr><th scope=row>6</th><td>19</td><td>Fasting</td><td>38</td><td>Male  </td><td>1.74</td><td>64.0</td><td>T2</td></tr>\n",
       "</tbody>\n",
       "</table>\n"
      ],
      "text/latex": [
       "A data.frame: 6 × 7\n",
       "\\begin{tabular}{r|lllllll}\n",
       "  & Participant.Code & Treatment.Group & Age..y. & Sex & Height..m. & repdat & contrasts\\\\\n",
       "  & <int> & <chr> & <int> & <chr> & <dbl> & <dbl> & <chr>\\\\\n",
       "\\hline\n",
       "\t1 &  2 & Fasting & 27 & Female & 1.75 & 71.1 & T2\\\\\n",
       "\t2 &  4 & Fasting & 25 & Female & 1.72 & 73.8 & T2\\\\\n",
       "\t3 & 11 & Fasting & 44 & Male   & 1.64 & 68.1 & T2\\\\\n",
       "\t4 & 14 & Fasting & 36 & Female & 1.68 & 57.3 & T2\\\\\n",
       "\t5 & 16 & Fasting & 28 & Female & 1.64 & 49.0 & T2\\\\\n",
       "\t6 & 19 & Fasting & 38 & Male   & 1.74 & 64.0 & T2\\\\\n",
       "\\end{tabular}\n"
      ],
      "text/markdown": [
       "\n",
       "A data.frame: 6 × 7\n",
       "\n",
       "| <!--/--> | Participant.Code &lt;int&gt; | Treatment.Group &lt;chr&gt; | Age..y. &lt;int&gt; | Sex &lt;chr&gt; | Height..m. &lt;dbl&gt; | repdat &lt;dbl&gt; | contrasts &lt;chr&gt; |\n",
       "|---|---|---|---|---|---|---|---|\n",
       "| 1 |  2 | Fasting | 27 | Female | 1.75 | 71.1 | T2 |\n",
       "| 2 |  4 | Fasting | 25 | Female | 1.72 | 73.8 | T2 |\n",
       "| 3 | 11 | Fasting | 44 | Male   | 1.64 | 68.1 | T2 |\n",
       "| 4 | 14 | Fasting | 36 | Female | 1.68 | 57.3 | T2 |\n",
       "| 5 | 16 | Fasting | 28 | Female | 1.64 | 49.0 | T2 |\n",
       "| 6 | 19 | Fasting | 38 | Male   | 1.74 | 64.0 | T2 |\n",
       "\n"
      ],
      "text/plain": [
       "  Participant.Code Treatment.Group Age..y. Sex    Height..m. repdat contrasts\n",
       "1  2               Fasting         27      Female 1.75       71.1   T2       \n",
       "2  4               Fasting         25      Female 1.72       73.8   T2       \n",
       "3 11               Fasting         44      Male   1.64       68.1   T2       \n",
       "4 14               Fasting         36      Female 1.68       57.3   T2       \n",
       "5 16               Fasting         28      Female 1.64       49.0   T2       \n",
       "6 19               Fasting         38      Male   1.74       64.0   T2       "
      ]
     },
     "metadata": {},
     "output_type": "display_data"
    }
   ],
   "source": [
    "head(data4)"
   ]
  },
  {
   "cell_type": "markdown",
   "id": "3c3fd9d1-cdce-4723-81dd-bc6ddc98c85a",
   "metadata": {},
   "source": [
    "#### bind the data sets"
   ]
  },
  {
   "cell_type": "code",
   "execution_count": 21,
   "id": "65541f99-21ea-4dc8-a8ab-6e44390bcece",
   "metadata": {},
   "outputs": [],
   "source": [
    "data5 <- rbind(data3, data4)"
   ]
  },
  {
   "cell_type": "code",
   "execution_count": 22,
   "id": "39d55602-b19a-4380-96c3-75fb59de3796",
   "metadata": {},
   "outputs": [
    {
     "data": {
      "text/html": [
       "<table class=\"dataframe\">\n",
       "<caption>A data.frame: 6 × 7</caption>\n",
       "<thead>\n",
       "\t<tr><th></th><th scope=col>Participant.Code</th><th scope=col>Treatment.Group</th><th scope=col>Age..y.</th><th scope=col>Sex</th><th scope=col>Height..m.</th><th scope=col>repdat</th><th scope=col>contrasts</th></tr>\n",
       "\t<tr><th></th><th scope=col>&lt;int&gt;</th><th scope=col>&lt;chr&gt;</th><th scope=col>&lt;int&gt;</th><th scope=col>&lt;chr&gt;</th><th scope=col>&lt;dbl&gt;</th><th scope=col>&lt;dbl&gt;</th><th scope=col>&lt;chr&gt;</th></tr>\n",
       "</thead>\n",
       "<tbody>\n",
       "\t<tr><th scope=row>1</th><td> 2</td><td>Fasting</td><td>27</td><td>Female</td><td>1.75</td><td>71.5</td><td>T1</td></tr>\n",
       "\t<tr><th scope=row>2</th><td> 4</td><td>Fasting</td><td>25</td><td>Female</td><td>1.72</td><td>74.6</td><td>T1</td></tr>\n",
       "\t<tr><th scope=row>3</th><td>11</td><td>Fasting</td><td>44</td><td>Male  </td><td>1.64</td><td>68.0</td><td>T1</td></tr>\n",
       "\t<tr><th scope=row>4</th><td>14</td><td>Fasting</td><td>36</td><td>Female</td><td>1.68</td><td>57.0</td><td>T1</td></tr>\n",
       "\t<tr><th scope=row>5</th><td>16</td><td>Fasting</td><td>28</td><td>Female</td><td>1.64</td><td>49.4</td><td>T1</td></tr>\n",
       "\t<tr><th scope=row>6</th><td>19</td><td>Fasting</td><td>38</td><td>Male  </td><td>1.74</td><td>64.3</td><td>T1</td></tr>\n",
       "</tbody>\n",
       "</table>\n"
      ],
      "text/latex": [
       "A data.frame: 6 × 7\n",
       "\\begin{tabular}{r|lllllll}\n",
       "  & Participant.Code & Treatment.Group & Age..y. & Sex & Height..m. & repdat & contrasts\\\\\n",
       "  & <int> & <chr> & <int> & <chr> & <dbl> & <dbl> & <chr>\\\\\n",
       "\\hline\n",
       "\t1 &  2 & Fasting & 27 & Female & 1.75 & 71.5 & T1\\\\\n",
       "\t2 &  4 & Fasting & 25 & Female & 1.72 & 74.6 & T1\\\\\n",
       "\t3 & 11 & Fasting & 44 & Male   & 1.64 & 68.0 & T1\\\\\n",
       "\t4 & 14 & Fasting & 36 & Female & 1.68 & 57.0 & T1\\\\\n",
       "\t5 & 16 & Fasting & 28 & Female & 1.64 & 49.4 & T1\\\\\n",
       "\t6 & 19 & Fasting & 38 & Male   & 1.74 & 64.3 & T1\\\\\n",
       "\\end{tabular}\n"
      ],
      "text/markdown": [
       "\n",
       "A data.frame: 6 × 7\n",
       "\n",
       "| <!--/--> | Participant.Code &lt;int&gt; | Treatment.Group &lt;chr&gt; | Age..y. &lt;int&gt; | Sex &lt;chr&gt; | Height..m. &lt;dbl&gt; | repdat &lt;dbl&gt; | contrasts &lt;chr&gt; |\n",
       "|---|---|---|---|---|---|---|---|\n",
       "| 1 |  2 | Fasting | 27 | Female | 1.75 | 71.5 | T1 |\n",
       "| 2 |  4 | Fasting | 25 | Female | 1.72 | 74.6 | T1 |\n",
       "| 3 | 11 | Fasting | 44 | Male   | 1.64 | 68.0 | T1 |\n",
       "| 4 | 14 | Fasting | 36 | Female | 1.68 | 57.0 | T1 |\n",
       "| 5 | 16 | Fasting | 28 | Female | 1.64 | 49.4 | T1 |\n",
       "| 6 | 19 | Fasting | 38 | Male   | 1.74 | 64.3 | T1 |\n",
       "\n"
      ],
      "text/plain": [
       "  Participant.Code Treatment.Group Age..y. Sex    Height..m. repdat contrasts\n",
       "1  2               Fasting         27      Female 1.75       71.5   T1       \n",
       "2  4               Fasting         25      Female 1.72       74.6   T1       \n",
       "3 11               Fasting         44      Male   1.64       68.0   T1       \n",
       "4 14               Fasting         36      Female 1.68       57.0   T1       \n",
       "5 16               Fasting         28      Female 1.64       49.4   T1       \n",
       "6 19               Fasting         38      Male   1.74       64.3   T1       "
      ]
     },
     "metadata": {},
     "output_type": "display_data"
    }
   ],
   "source": [
    "head(data5)"
   ]
  },
  {
   "cell_type": "code",
   "execution_count": 23,
   "id": "d19234cd-86be-4961-99e2-cf99ffe3dd4c",
   "metadata": {},
   "outputs": [
    {
     "data": {
      "text/html": [
       "<table class=\"dataframe\">\n",
       "<caption>A data.frame: 6 × 7</caption>\n",
       "<thead>\n",
       "\t<tr><th></th><th scope=col>Participant.Code</th><th scope=col>Treatment.Group</th><th scope=col>Age..y.</th><th scope=col>Sex</th><th scope=col>Height..m.</th><th scope=col>repdat</th><th scope=col>contrasts</th></tr>\n",
       "\t<tr><th></th><th scope=col>&lt;int&gt;</th><th scope=col>&lt;chr&gt;</th><th scope=col>&lt;int&gt;</th><th scope=col>&lt;chr&gt;</th><th scope=col>&lt;dbl&gt;</th><th scope=col>&lt;dbl&gt;</th><th scope=col>&lt;chr&gt;</th></tr>\n",
       "</thead>\n",
       "<tbody>\n",
       "\t<tr><th scope=row>61</th><td>40</td><td>Breakfast</td><td>23</td><td>Female</td><td>1.66</td><td>55.8</td><td>T2</td></tr>\n",
       "\t<tr><th scope=row>62</th><td> 5</td><td>Breakfast</td><td>35</td><td>Female</td><td>1.62</td><td>74.5</td><td>T2</td></tr>\n",
       "\t<tr><th scope=row>63</th><td> 7</td><td>Breakfast</td><td>45</td><td>Female</td><td>1.69</td><td>64.8</td><td>T2</td></tr>\n",
       "\t<tr><th scope=row>64</th><td>10</td><td>Breakfast</td><td>23</td><td>Male  </td><td>1.93</td><td>82.6</td><td>T2</td></tr>\n",
       "\t<tr><th scope=row>65</th><td>28</td><td>Breakfast</td><td>22</td><td>Male  </td><td>1.77</td><td>76.7</td><td>T2</td></tr>\n",
       "\t<tr><th scope=row>66</th><td>36</td><td>Breakfast</td><td>48</td><td>Male  </td><td>1.80</td><td>74.1</td><td>T2</td></tr>\n",
       "</tbody>\n",
       "</table>\n"
      ],
      "text/latex": [
       "A data.frame: 6 × 7\n",
       "\\begin{tabular}{r|lllllll}\n",
       "  & Participant.Code & Treatment.Group & Age..y. & Sex & Height..m. & repdat & contrasts\\\\\n",
       "  & <int> & <chr> & <int> & <chr> & <dbl> & <dbl> & <chr>\\\\\n",
       "\\hline\n",
       "\t61 & 40 & Breakfast & 23 & Female & 1.66 & 55.8 & T2\\\\\n",
       "\t62 &  5 & Breakfast & 35 & Female & 1.62 & 74.5 & T2\\\\\n",
       "\t63 &  7 & Breakfast & 45 & Female & 1.69 & 64.8 & T2\\\\\n",
       "\t64 & 10 & Breakfast & 23 & Male   & 1.93 & 82.6 & T2\\\\\n",
       "\t65 & 28 & Breakfast & 22 & Male   & 1.77 & 76.7 & T2\\\\\n",
       "\t66 & 36 & Breakfast & 48 & Male   & 1.80 & 74.1 & T2\\\\\n",
       "\\end{tabular}\n"
      ],
      "text/markdown": [
       "\n",
       "A data.frame: 6 × 7\n",
       "\n",
       "| <!--/--> | Participant.Code &lt;int&gt; | Treatment.Group &lt;chr&gt; | Age..y. &lt;int&gt; | Sex &lt;chr&gt; | Height..m. &lt;dbl&gt; | repdat &lt;dbl&gt; | contrasts &lt;chr&gt; |\n",
       "|---|---|---|---|---|---|---|---|\n",
       "| 61 | 40 | Breakfast | 23 | Female | 1.66 | 55.8 | T2 |\n",
       "| 62 |  5 | Breakfast | 35 | Female | 1.62 | 74.5 | T2 |\n",
       "| 63 |  7 | Breakfast | 45 | Female | 1.69 | 64.8 | T2 |\n",
       "| 64 | 10 | Breakfast | 23 | Male   | 1.93 | 82.6 | T2 |\n",
       "| 65 | 28 | Breakfast | 22 | Male   | 1.77 | 76.7 | T2 |\n",
       "| 66 | 36 | Breakfast | 48 | Male   | 1.80 | 74.1 | T2 |\n",
       "\n"
      ],
      "text/plain": [
       "   Participant.Code Treatment.Group Age..y. Sex    Height..m. repdat contrasts\n",
       "61 40               Breakfast       23      Female 1.66       55.8   T2       \n",
       "62  5               Breakfast       35      Female 1.62       74.5   T2       \n",
       "63  7               Breakfast       45      Female 1.69       64.8   T2       \n",
       "64 10               Breakfast       23      Male   1.93       82.6   T2       \n",
       "65 28               Breakfast       22      Male   1.77       76.7   T2       \n",
       "66 36               Breakfast       48      Male   1.80       74.1   T2       "
      ]
     },
     "metadata": {},
     "output_type": "display_data"
    }
   ],
   "source": [
    "tail(data5)"
   ]
  },
  {
   "cell_type": "markdown",
   "id": "5aeaceea-8a4d-4d4d-86b3-df041dcbfcc6",
   "metadata": {},
   "source": [
    "## Testing Assumptions\n",
    "\n",
    "### Normality\n",
    "\n",
    "Test normality of dependent variable at both timepoints"
   ]
  },
  {
   "cell_type": "code",
   "execution_count": 25,
   "id": "e5c84122-2c93-4421-8a6c-4f426cca0a0c",
   "metadata": {},
   "outputs": [
    {
     "data": {
      "image/png": "[encoded data removed]",
      "text/plain": [
       "Plot with title \"\""
      ]
     },
     "metadata": {
      "image/png": {
       "height": 420,
       "width": 420
      }
     },
     "output_type": "display_data"
    }
   ],
   "source": [
    "plotNormalHistogram(data2$Baseline.Body.Mass..kg.)\n",
    "## looks approx normally distributed"
   ]
  },
  {
   "cell_type": "code",
   "execution_count": 27,
   "id": "a75ab010-a7ca-415b-8ad0-5790a1fb2123",
   "metadata": {},
   "outputs": [
    {
     "data": {
      "image/png": "[encoded data removed]",
      "text/plain": [
       "Plot with title \"\""
      ]
     },
     "metadata": {
      "image/png": {
       "height": 420,
       "width": 420
      }
     },
     "output_type": "display_data"
    }
   ],
   "source": [
    "plotNormalHistogram(data2$Follow.Up.Body.Mass..kg.)\n",
    "## same here"
   ]
  },
  {
   "cell_type": "markdown",
   "id": "c5c6fb58-63fe-4b1b-baa4-dbbb9d259220",
   "metadata": {},
   "source": [
    "## Homogeneity of Variance"
   ]
  },
  {
   "cell_type": "code",
   "execution_count": 29,
   "id": "9c83e4c7-19f3-440b-a75a-a217289666fc",
   "metadata": {},
   "outputs": [
    {
     "data": {
      "text/html": [
       "<table class=\"dataframe\">\n",
       "<caption>A anova: 2 × 3</caption>\n",
       "<thead>\n",
       "\t<tr><th></th><th scope=col>Df</th><th scope=col>F value</th><th scope=col>Pr(&gt;F)</th></tr>\n",
       "\t<tr><th></th><th scope=col>&lt;int&gt;</th><th scope=col>&lt;dbl&gt;</th><th scope=col>&lt;dbl&gt;</th></tr>\n",
       "</thead>\n",
       "<tbody>\n",
       "\t<tr><th scope=row>group</th><td> 3</td><td>0.06231531</td><td>0.9794777</td></tr>\n",
       "\t<tr><th scope=row> </th><td>62</td><td>        NA</td><td>       NA</td></tr>\n",
       "</tbody>\n",
       "</table>\n"
      ],
      "text/latex": [
       "A anova: 2 × 3\n",
       "\\begin{tabular}{r|lll}\n",
       "  & Df & F value & Pr(>F)\\\\\n",
       "  & <int> & <dbl> & <dbl>\\\\\n",
       "\\hline\n",
       "\tgroup &  3 & 0.06231531 & 0.9794777\\\\\n",
       "\t  & 62 &         NA &        NA\\\\\n",
       "\\end{tabular}\n"
      ],
      "text/markdown": [
       "\n",
       "A anova: 2 × 3\n",
       "\n",
       "| <!--/--> | Df &lt;int&gt; | F value &lt;dbl&gt; | Pr(&gt;F) &lt;dbl&gt; |\n",
       "|---|---|---|---|\n",
       "| group |  3 | 0.06231531 | 0.9794777 |\n",
       "| <!----> | 62 |         NA |        NA |\n",
       "\n"
      ],
      "text/plain": [
       "      Df F value    Pr(>F)   \n",
       "group  3 0.06231531 0.9794777\n",
       "      62         NA        NA"
      ]
     },
     "metadata": {},
     "output_type": "display_data"
    }
   ],
   "source": [
    "leveneTest(repdat ~ Treatment.Group*contrasts, data=data5)\n",
    "## no significance, so data passes the assumption of homogeneity of variance"
   ]
  },
  {
   "cell_type": "code",
   "execution_count": 31,
   "id": "63d79c64-ff7f-4c89-83ee-079b4eee67b7",
   "metadata": {},
   "outputs": [
    {
     "name": "stdout",
     "output_type": "stream",
     "text": [
      "'data.frame':\t66 obs. of  7 variables:\n",
      " $ Participant.Code: int  2 4 11 14 16 19 20 23 27 34 ...\n",
      " $ Treatment.Group : chr  \"Fasting\" \"Fasting\" \"Fasting\" \"Fasting\" ...\n",
      " $ Age..y.         : int  27 25 44 36 28 38 48 54 27 22 ...\n",
      " $ Sex             : chr  \"Female\" \"Female\" \"Male\" \"Female\" ...\n",
      " $ Height..m.      : num  1.75 1.72 1.64 1.68 1.64 1.74 1.78 1.75 1.63 1.66 ...\n",
      " $ repdat          : num  71.5 74.6 68 57 49.4 64.3 66.5 73.5 59 67.1 ...\n",
      " $ contrasts       : chr  \"T1\" \"T1\" \"T1\" \"T1\" ...\n"
     ]
    }
   ],
   "source": [
    "str(data5)\n",
    "## Pass assumption of sample size"
   ]
  },
  {
   "cell_type": "code",
   "execution_count": null,
   "id": "f2676c63-9b14-48e8-ade8-2cf08b84366a",
   "metadata": {},
   "outputs": [],
   "source": []
  }
 ],
 "metadata": {
  "kernelspec": {
   "display_name": "R",
   "language": "R",
   "name": "ir"
  },
  "language_info": {
   "codemirror_mode": "r",
   "file_extension": ".r",
   "mimetype": "text/x-r-source",
   "name": "R",
   "pygments_lexer": "r",
   "version": "4.1.0"
  }
 },
 "nbformat": 4,
 "nbformat_minor": 5
}
