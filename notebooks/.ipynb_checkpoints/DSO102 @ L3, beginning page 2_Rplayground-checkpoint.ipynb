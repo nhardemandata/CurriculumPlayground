{
 "cells": [
  {
   "cell_type": "markdown",
   "id": "d6cc3731-61fc-415a-ace0-faa28a26ecce",
   "metadata": {},
   "source": [
    "## An assignment statement assigns an object to a variable; in other words, it gives the object a name. \n",
    "## Assignment statements can be built using the following symbols:\n",
    "\n",
    "### <-\n",
    "### =\n",
    "### ->\n",
    "### For example:\n",
    "\n",
    "## The assignment statement x <- 3 creates a variable x and stores 3 in it.\n",
    "## The assignment statement y = 7 creates a variably y and stores 7 in it.\n",
    "## The assignment statement 11 -> z creates a variable z and stores 11 in it.\n",
    "## R is quite unusual in that it has three different ways to indicate assignment; most programming languages only ## have one. In most programming languages, you think of the variable on the left being assigned the value on the ## right, as in the top two assignment statements. But R also allows us to assign the value on the left to a \n",
    "## variable on the right, as in the last assignment statement.\n",
    "\n",
    "## To implement your first assignment statement, start RStudio if it is not already started. \n",
    "## Then enter the following assignment into the Console window:"
   ]
  },
  {
   "cell_type": "code",
   "execution_count": 1,
   "id": "cdec07bd-51d5-4465-b8c9-0e8f373aaa21",
   "metadata": {},
   "outputs": [],
   "source": [
    "x <- 3"
   ]
  },
  {
   "cell_type": "code",
   "execution_count": 2,
   "id": "daf3e537-411a-4ccf-a9c5-1de38fd0618b",
   "metadata": {},
   "outputs": [
    {
     "data": {
      "text/html": [
       "3"
      ],
      "text/latex": [
       "3"
      ],
      "text/markdown": [
       "3"
      ],
      "text/plain": [
       "[1] 3"
      ]
     },
     "metadata": {},
     "output_type": "display_data"
    }
   ],
   "source": [
    "x"
   ]
  },
  {
   "cell_type": "markdown",
   "id": "6135810d-4a61-4fc9-9bd1-9301b27970e4",
   "metadata": {},
   "source": [
    "# Strings"
   ]
  },
  {
   "cell_type": "markdown",
   "id": "3a1fef7d-9eb2-41fe-95e9-affe68255cd0",
   "metadata": {},
   "source": [
    "## So far, you have only assigned numbers to variables. But R has the capability to represent many more types of data in addition to numbers. In this section, strings, or character data, are introduced.\n",
    "\n",
    "## In computer programming, a sequence of characters is often called a string. Strings are used for many reasons, including to represent categorical data values, to represent column names in data tables, and to represent labels in charts and graphs.\n",
    "\n",
    "## Strings can be created in R by enclosing the string in single quotes ' or double quotes \". For example, this is a valid string: \"Hello World!\" If you enter this string into the R Console, R will print it (with the quotes):"
   ]
  },
  {
   "cell_type": "code",
   "execution_count": 4,
   "id": "dde1e9d6-0940-4d22-a7e6-c515c09866c2",
   "metadata": {},
   "outputs": [
    {
     "data": {
      "text/html": [
       "'Hello World!'"
      ],
      "text/latex": [
       "'Hello World!'"
      ],
      "text/markdown": [
       "'Hello World!'"
      ],
      "text/plain": [
       "[1] \"Hello World!\""
      ]
     },
     "metadata": {},
     "output_type": "display_data"
    }
   ],
   "source": [
    "\"Hello World!\""
   ]
  },
  {
   "cell_type": "markdown",
   "id": "b9d266fb-0859-4d0d-a2d9-37e1da9a9024",
   "metadata": {},
   "source": [
    "## Strings can be assigned to variables just like numbers. This statement assigns the string to the variable h:"
   ]
  },
  {
   "cell_type": "code",
   "execution_count": 5,
   "id": "a0d2edd8-1b2e-405a-a585-e355a832f546",
   "metadata": {},
   "outputs": [],
   "source": [
    "h <- \"Hello World!\""
   ]
  },
  {
   "cell_type": "markdown",
   "id": "92b5b7a3-14cd-42a7-b27c-279dae6a1802",
   "metadata": {},
   "source": [
    "## As with assignments of numbers, R does not print the result of an assignment. R will print the value of a variable when you type it into the Console. So entering h into the console produces the following:"
   ]
  },
  {
   "cell_type": "code",
   "execution_count": 6,
   "id": "25d0c208-9b9d-4a42-82e3-2909a459ec37",
   "metadata": {},
   "outputs": [
    {
     "data": {
      "text/html": [
       "'Hello World!'"
      ],
      "text/latex": [
       "'Hello World!'"
      ],
      "text/markdown": [
       "'Hello World!'"
      ],
      "text/plain": [
       "[1] \"Hello World!\""
      ]
     },
     "metadata": {},
     "output_type": "display_data"
    }
   ],
   "source": [
    "h"
   ]
  },
  {
   "cell_type": "markdown",
   "id": "fa6a5b89-4585-4342-a70f-dea8e3b7cca8",
   "metadata": {},
   "source": [
    "## You can also use the print() function to print the value of a variable. If you enter print(h) into the console, you get the same output as you got when just entering h:"
   ]
  },
  {
   "cell_type": "code",
   "execution_count": 7,
   "id": "a72f173a-6be4-4fb7-a48a-08e8970e14e8",
   "metadata": {},
   "outputs": [
    {
     "name": "stdout",
     "output_type": "stream",
     "text": [
      "[1] \"Hello World!\"\n"
     ]
    }
   ],
   "source": [
    "print(h)"
   ]
  },
  {
   "cell_type": "markdown",
   "id": "cbebd1b4-0119-452d-aaf9-ec4995dd517b",
   "metadata": {},
   "source": [
    "## You can combine two strings into a single one using the paste() function:"
   ]
  },
  {
   "cell_type": "code",
   "execution_count": 9,
   "id": "70faa83e-8982-4140-a476-d97cdb49b93f",
   "metadata": {},
   "outputs": [],
   "source": [
    "f <- \"Hello\"\n",
    "g <- \"World!\""
   ]
  },
  {
   "cell_type": "code",
   "execution_count": 11,
   "id": "2fd45559-e0f0-4ba1-8232-ee8003d7af02",
   "metadata": {},
   "outputs": [
    {
     "data": {
      "text/html": [
       "'Hello World!'"
      ],
      "text/latex": [
       "'Hello World!'"
      ],
      "text/markdown": [
       "'Hello World!'"
      ],
      "text/plain": [
       "[1] \"Hello World!\""
      ]
     },
     "metadata": {},
     "output_type": "display_data"
    }
   ],
   "source": [
    "paste(f, g)\n",
    "###This means that you get the output in only one line, instead of two."
   ]
  },
  {
   "cell_type": "markdown",
   "id": "919ec552-9edd-4ea6-958c-dd14aa68f66d",
   "metadata": {},
   "source": [
    "# Arithmetic Operations"
   ]
  },
  {
   "cell_type": "markdown",
   "id": "a3ec1b4a-44b3-411e-8adf-109fe178120e",
   "metadata": {},
   "source": [
    "## Like most other computational environments, R can do computations on data values, including those stored in variables. You can compute the sum of two numbers as follows; R will provide the following output:"
   ]
  },
  {
   "cell_type": "code",
   "execution_count": 12,
   "id": "ccdd572d-0fb1-465d-8e1b-5e185d74934b",
   "metadata": {},
   "outputs": [
    {
     "data": {
      "text/html": [
       "5"
      ],
      "text/latex": [
       "5"
      ],
      "text/markdown": [
       "5"
      ],
      "text/plain": [
       "[1] 5"
      ]
     },
     "metadata": {},
     "output_type": "display_data"
    }
   ],
   "source": [
    "2 + 3"
   ]
  },
  {
   "cell_type": "markdown",
   "id": "bd332190-be13-4080-b755-ff697c948082",
   "metadata": {},
   "source": [
    "## You can also compute the sum of two numbers that are stored as variables:"
   ]
  },
  {
   "cell_type": "code",
   "execution_count": 13,
   "id": "4e376735-fdc0-41e0-a79b-dc3af3ed3b6d",
   "metadata": {},
   "outputs": [
    {
     "data": {
      "text/html": [
       "11"
      ],
      "text/latex": [
       "11"
      ],
      "text/markdown": [
       "11"
      ],
      "text/plain": [
       "[1] 11"
      ]
     },
     "metadata": {},
     "output_type": "display_data"
    }
   ],
   "source": [
    "x <- 4\n",
    "y <- 7\n",
    "x + y"
   ]
  },
  {
   "cell_type": "markdown",
   "id": "af479288-5209-49f5-b1bf-c3b3a878b9e6",
   "metadata": {},
   "source": [
    "## R implements all of the usual arithmetic operators:\n",
    "\n",
    "### Addition: x + y\n",
    "### Subtraction: x - y\n",
    "### Multiplication: x * y\n",
    "### Division: x / y\n",
    "### Raising to a Power: x ^ y"
   ]
  },
  {
   "cell_type": "markdown",
   "id": "b3062399-68d3-4205-9912-0091356bec09",
   "metadata": {},
   "source": [
    "# Order of Operations\n",
    "## These arithmetic operators have the following precedence. Raising to a power is done first, followed by multiplication and division, and finally addition and subtraction.\n",
    "\n",
    "## You may recall the acronym \"PEMDAS\" from math classes, where PEMDAS indicates the order of operation. PEMDAS stands for:"
   ]
  },
  {
   "cell_type": "markdown",
   "id": "cb1aecd3-1749-4b99-bf75-9ddd3f4c8374",
   "metadata": {},
   "source": [
    "<img src=\"../media/PEMDAS photo.jpg\" align=\"left\" alt=\"COE image\" width = \"600\">"
   ]
  },
  {
   "cell_type": "code",
   "execution_count": 16,
   "id": "620160b4-5996-4d4d-817a-3f88207cfe5f",
   "metadata": {},
   "outputs": [],
   "source": [
    "s <- 4 ^ 2 + 3 ^ 2"
   ]
  },
  {
   "cell_type": "code",
   "execution_count": 17,
   "id": "7213cc3a-39fd-4f18-8b3f-4d41c3cd089b",
   "metadata": {},
   "outputs": [
    {
     "data": {
      "text/html": [
       "25"
      ],
      "text/latex": [
       "25"
      ],
      "text/markdown": [
       "25"
      ],
      "text/plain": [
       "[1] 25"
      ]
     },
     "metadata": {},
     "output_type": "display_data"
    }
   ],
   "source": [
    "s"
   ]
  },
  {
   "cell_type": "markdown",
   "id": "382c7870-d861-49cd-9df2-e1db33592b65",
   "metadata": {},
   "source": [
    "Example: Computing a z-Score\n",
    "Next, you will use R to do a statistical calculation from the Basic Statistics module, namely computing a z-score.\n",
    "\n",
    "In the Basic Statistics module you were informed that in Ghana, the height of a young adult woman is normally distributed with a mean of 159.0 cm and a standard deviation of about 4.9 cm.\n",
    "\n",
    "Gabianu is a college student originally from Ghana, and she stands 169.0 cm tall. You can compute the z-score for Gabianu's height using this formula:\n",
    "\n",
    "<img src=\"../media/Z-score-formula.jpg\" align=\"left\" alt=\"COE image\" width = \"600\">\n",
    "\n",
    "\n",
    "Z score formula: z equals x minus mu divided by sigma.\n",
    "\n",
    "You first define R variables for each of the quantities on the right side of the formula:"
   ]
  },
  {
   "cell_type": "code",
   "execution_count": 2,
   "id": "10429a41-dc04-4eda-b530-3632d8555687",
   "metadata": {},
   "outputs": [
    {
     "data": {
      "text/html": [
       "<pre class=language-r><code>function (path = \".\", pattern = NULL, all.files = FALSE, full.names = FALSE, \n",
       "<span style=white-space:pre-wrap>    recursive = FALSE, ignore.case = FALSE, include.dirs = FALSE, </span>\n",
       "<span style=white-space:pre-wrap>    no.. = FALSE) </span>\n",
       ".Internal(list.files(path, pattern, all.files, full.names, recursive, \n",
       "<span style=white-space:pre-wrap>    ignore.case, include.dirs, no..))</span></code></pre>"
      ],
      "text/latex": [
       "\\begin{minted}{r}\n",
       "function (path = \".\", pattern = NULL, all.files = FALSE, full.names = FALSE, \n",
       "    recursive = FALSE, ignore.case = FALSE, include.dirs = FALSE, \n",
       "    no.. = FALSE) \n",
       ".Internal(list.files(path, pattern, all.files, full.names, recursive, \n",
       "    ignore.case, include.dirs, no..))\n",
       "\\end{minted}"
      ],
      "text/markdown": [
       "```r\n",
       "function (path = \".\", pattern = NULL, all.files = FALSE, full.names = FALSE, \n",
       "    recursive = FALSE, ignore.case = FALSE, include.dirs = FALSE, \n",
       "    no.. = FALSE) \n",
       ".Internal(list.files(path, pattern, all.files, full.names, recursive, \n",
       "    ignore.case, include.dirs, no..))\n",
       "```"
      ],
      "text/plain": [
       "function (path = \".\", pattern = NULL, all.files = FALSE, full.names = FALSE, \n",
       "    recursive = FALSE, ignore.case = FALSE, include.dirs = FALSE, \n",
       "    no.. = FALSE) \n",
       ".Internal(list.files(path, pattern, all.files, full.names, recursive, \n",
       "    ignore.case, include.dirs, no..))\n",
       "<bytecode: 0x00000000055313a0>\n",
       "<environment: namespace:base>"
      ]
     },
     "metadata": {},
     "output_type": "display_data"
    }
   ],
   "source": [
    "dir"
   ]
  },
  {
   "cell_type": "code",
   "execution_count": 18,
   "id": "1989066d-aba2-40a2-a827-6a99cfaa5535",
   "metadata": {},
   "outputs": [],
   "source": [
    "x <- 169.0\n",
    "mu <- 159.0\n",
    "sigma <- 4.9"
   ]
  },
  {
   "cell_type": "markdown",
   "id": "ad8cbde4-18ee-4dab-99f5-8b15c4e16e6e",
   "metadata": {},
   "source": [
    "## Zscore formula time!"
   ]
  },
  {
   "cell_type": "code",
   "execution_count": 20,
   "id": "746df8b9-27bf-4a39-b278-8b32df5d7481",
   "metadata": {},
   "outputs": [
    {
     "data": {
      "text/html": [
       "2.04081632653061"
      ],
      "text/latex": [
       "2.04081632653061"
      ],
      "text/markdown": [
       "2.04081632653061"
      ],
      "text/plain": [
       "[1] 2.040816"
      ]
     },
     "metadata": {},
     "output_type": "display_data"
    }
   ],
   "source": [
    "(x - mu)/sigma"
   ]
  },
  {
   "cell_type": "markdown",
   "id": "055819bd-efd7-468b-adb7-8a9deeb6c83c",
   "metadata": {},
   "source": [
    "Note that the parentheses are necessary in the computation of the z-score. The reason for this is that you must first subtract mu from x, then divide the difference by sigma.\n",
    "\n",
    "If you leave the parentheses out of the expression, it would look like this: x - mu / sigma. Because division has a higher precedence than subtraction, R would divide mu by sigma first, then subtract this quotient from x. If you type this expression into R without the parentheses, you get the following:"
   ]
  },
  {
   "cell_type": "code",
   "execution_count": 22,
   "id": "576d9df2-b3c3-4a78-9a29-3e08604d6336",
   "metadata": {},
   "outputs": [
    {
     "data": {
      "text/html": [
       "136.551020408163"
      ],
      "text/latex": [
       "136.551020408163"
      ],
      "text/markdown": [
       "136.551020408163"
      ],
      "text/plain": [
       "[1] 136.551"
      ]
     },
     "metadata": {},
     "output_type": "display_data"
    }
   ],
   "source": [
    "x - mu / sigma"
   ]
  },
  {
   "cell_type": "markdown",
   "id": "043882e4-04e4-4293-b74c-22b0d1c01ca6",
   "metadata": {},
   "source": [
    "<img src=\"../media/wrong-or-wrongly.jpg\" align=\"left\" alt=\"COE image\" width = \"600\">"
   ]
  },
  {
   "cell_type": "code",
   "execution_count": 3,
   "id": "d6f988f2-4c03-4ab8-8336-cb9222d4c940",
   "metadata": {},
   "outputs": [
    {
     "ename": "ERROR",
     "evalue": "Error in !dir: invalid argument type\n",
     "output_type": "error",
     "traceback": [
      "Error in !dir: invalid argument type\nTraceback:\n"
     ]
    }
   ],
   "source": [
    "!dir"
   ]
  },
  {
   "cell_type": "code",
   "execution_count": 24,
   "id": "d86e3d0b-baba-46cf-a8d8-892e8e168ad7",
   "metadata": {},
   "outputs": [],
   "source": [
    "##You can clearly see that this is different than the correct answer above."
   ]
  },
  {
   "cell_type": "markdown",
   "id": "497a9a93-c998-43f7-8854-2d097707f971",
   "metadata": {},
   "source": [
    "Functions\n",
    "\n",
    "In most programming languages, a function relates inputs (also called arguments) to an output; in other words, a function produces a value for each possible value(s) of their argument(s). You can think of a function as the main \"do-er\" - it is a command that will be done to the data you feed the function. A function performs a specific programming task.\n",
    "\n",
    "You have already worked with functions in the Basic Statistics module, even though they weren't thought of as such. For example, you had to compute the square root of 16. R has a function built in that will compute a square root; this function is sqrt(). Notice that a function has a name followed by parentheses; the function's argument goes in the parentheses.\n",
    "\n",
    "You can compute the square root of 16 in R as follows:"
   ]
  },
  {
   "cell_type": "code",
   "execution_count": 25,
   "id": "96ece903-3623-4bdd-92fa-8e929af4f94f",
   "metadata": {},
   "outputs": [],
   "source": [
    "##the input of the function is the ARGUMENT"
   ]
  },
  {
   "cell_type": "code",
   "execution_count": 26,
   "id": "8f9b3585-3869-4792-b797-3bc68d32eec8",
   "metadata": {},
   "outputs": [
    {
     "data": {
      "text/html": [
       "4"
      ],
      "text/latex": [
       "4"
      ],
      "text/markdown": [
       "4"
      ],
      "text/plain": [
       "[1] 4"
      ]
     },
     "metadata": {},
     "output_type": "display_data"
    }
   ],
   "source": [
    "sqrt(16)"
   ]
  },
  {
   "cell_type": "markdown",
   "id": "79ffbd85-1bdc-417f-818b-d162c8f6499b",
   "metadata": {},
   "source": [
    "### variable example next:"
   ]
  },
  {
   "cell_type": "code",
   "execution_count": 28,
   "id": "3c573b6b-df28-4fe0-9ee7-5da970cb5937",
   "metadata": {},
   "outputs": [
    {
     "data": {
      "text/html": [
       "4"
      ],
      "text/latex": [
       "4"
      ],
      "text/markdown": [
       "4"
      ],
      "text/plain": [
       "[1] 4"
      ]
     },
     "metadata": {},
     "output_type": "display_data"
    }
   ],
   "source": [
    "t <- sqrt(16)\n",
    "t"
   ]
  },
  {
   "cell_type": "code",
   "execution_count": 29,
   "id": "6dd8135d-db72-4d83-980c-8ed0888c249c",
   "metadata": {},
   "outputs": [
    {
     "data": {
      "text/html": [
       "1.4142135623731"
      ],
      "text/latex": [
       "1.4142135623731"
      ],
      "text/markdown": [
       "1.4142135623731"
      ],
      "text/plain": [
       "[1] 1.414214"
      ]
     },
     "metadata": {},
     "output_type": "display_data"
    }
   ],
   "source": [
    "w <- 2\n",
    "sqrt(w)"
   ]
  },
  {
   "cell_type": "code",
   "execution_count": 30,
   "id": "0c6a6bb1-61c5-4490-92b9-7ce9a3403381",
   "metadata": {},
   "outputs": [],
   "source": [
    "#Remember the arrow is basically an equal sign assigning value to the new variable it is pointing at"
   ]
  },
  {
   "cell_type": "code",
   "execution_count": null,
   "id": "92bc22ae-3a12-4940-93cb-5e4fc8fd51f3",
   "metadata": {},
   "outputs": [],
   "source": []
  }
 ],
 "metadata": {
  "kernelspec": {
   "display_name": "R",
   "language": "R",
   "name": "ir"
  },
  "language_info": {
   "codemirror_mode": "r",
   "file_extension": ".r",
   "mimetype": "text/x-r-source",
   "name": "R",
   "pygments_lexer": "r",
   "version": "4.1.0"
  }
 },
 "nbformat": 4,
 "nbformat_minor": 5
}
