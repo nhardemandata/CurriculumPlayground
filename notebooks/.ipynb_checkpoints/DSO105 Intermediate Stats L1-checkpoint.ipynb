{
 "cells": [
  {
   "cell_type": "markdown",
   "id": "48c7606f-e01d-4856-91da-82065e765539",
   "metadata": {},
   "source": [
    "# DSO105 Intermediate Stats L1 - Basic Stats in Python (olympic Events video follow along)"
   ]
  },
  {
   "cell_type": "code",
   "execution_count": null,
   "id": "b2c9aa21-52d2-4fd4-aced-e8d8f34f8e50",
   "metadata": {},
   "outputs": [],
   "source": [
    "#### Page 1"
   ]
  },
  {
   "cell_type": "markdown",
   "id": "2d2c48af-7da5-40a3-82b2-459359aa8b0b",
   "metadata": {},
   "source": [
    "(olympic Events video follow along)"
   ]
  },
  {
   "cell_type": "markdown",
   "id": "6523110a-fde1-4bf9-bacc-e3255c17dd1b",
   "metadata": {},
   "source": [
    "## Import Packages"
   ]
  },
  {
   "cell_type": "code",
   "execution_count": 46,
   "id": "bd528c11-a336-477d-b710-d3f7421e9556",
   "metadata": {},
   "outputs": [],
   "source": [
    "## add all new packages in up here, then run cell again"
   ]
  },
  {
   "cell_type": "code",
   "execution_count": 1,
   "id": "5e7423e5-8fe4-43cc-9164-445b26433c36",
   "metadata": {},
   "outputs": [],
   "source": [
    "import pandas as pd\n",
    "import numpy as np\n",
    "from scipy.stats import norm\n",
    "from scipy import stats\n",
    "from scipy.stats import ttest_ind\n",
    "import matplotlib.pyplot as plt\n",
    "import seaborn as sns"
   ]
  },
  {
   "cell_type": "markdown",
   "id": "1f5696c4-b074-44ec-9c49-5071b28655f8",
   "metadata": {},
   "source": [
    "## Load in Data"
   ]
  },
  {
   "cell_type": "code",
   "execution_count": 3,
   "id": "4dbcd3cd-8515-4dd1-b99d-a384a116bd4e",
   "metadata": {},
   "outputs": [],
   "source": [
    "olympicEvents = pd.read_excel('../datasets/olympicEvents.xlsx')"
   ]
  },
  {
   "cell_type": "code",
   "execution_count": 4,
   "id": "7f13ce11-2087-4d5e-853c-b8db7a55f2bd",
   "metadata": {},
   "outputs": [
    {
     "data": {
      "text/html": [
       "<div>\n",
       "<style scoped>\n",
       "    .dataframe tbody tr th:only-of-type {\n",
       "        vertical-align: middle;\n",
       "    }\n",
       "\n",
       "    .dataframe tbody tr th {\n",
       "        vertical-align: top;\n",
       "    }\n",
       "\n",
       "    .dataframe thead th {\n",
       "        text-align: right;\n",
       "    }\n",
       "</style>\n",
       "<table border=\"1\" class=\"dataframe\">\n",
       "  <thead>\n",
       "    <tr style=\"text-align: right;\">\n",
       "      <th></th>\n",
       "      <th>ID</th>\n",
       "      <th>Name</th>\n",
       "      <th>Sex</th>\n",
       "      <th>Age</th>\n",
       "      <th>Height</th>\n",
       "      <th>Weight</th>\n",
       "      <th>Team</th>\n",
       "      <th>NOC</th>\n",
       "      <th>Games</th>\n",
       "      <th>Year</th>\n",
       "      <th>Season</th>\n",
       "      <th>City</th>\n",
       "      <th>Sport</th>\n",
       "      <th>Event</th>\n",
       "      <th>Medal</th>\n",
       "    </tr>\n",
       "  </thead>\n",
       "  <tbody>\n",
       "    <tr>\n",
       "      <th>0</th>\n",
       "      <td>1</td>\n",
       "      <td>A Dijiang</td>\n",
       "      <td>M</td>\n",
       "      <td>24.0</td>\n",
       "      <td>180.0</td>\n",
       "      <td>80.0</td>\n",
       "      <td>China</td>\n",
       "      <td>CHN</td>\n",
       "      <td>1992 Summer</td>\n",
       "      <td>1992</td>\n",
       "      <td>Summer</td>\n",
       "      <td>Barcelona</td>\n",
       "      <td>Basketball</td>\n",
       "      <td>Basketball Men's Basketball</td>\n",
       "      <td>NaN</td>\n",
       "    </tr>\n",
       "    <tr>\n",
       "      <th>1</th>\n",
       "      <td>2</td>\n",
       "      <td>A Lamusi</td>\n",
       "      <td>M</td>\n",
       "      <td>23.0</td>\n",
       "      <td>170.0</td>\n",
       "      <td>60.0</td>\n",
       "      <td>China</td>\n",
       "      <td>CHN</td>\n",
       "      <td>2012 Summer</td>\n",
       "      <td>2012</td>\n",
       "      <td>Summer</td>\n",
       "      <td>London</td>\n",
       "      <td>Judo</td>\n",
       "      <td>Judo Men's Extra-Lightweight</td>\n",
       "      <td>NaN</td>\n",
       "    </tr>\n",
       "    <tr>\n",
       "      <th>2</th>\n",
       "      <td>3</td>\n",
       "      <td>Gunnar Nielsen Aaby</td>\n",
       "      <td>M</td>\n",
       "      <td>24.0</td>\n",
       "      <td>NaN</td>\n",
       "      <td>NaN</td>\n",
       "      <td>Denmark</td>\n",
       "      <td>DEN</td>\n",
       "      <td>1920 Summer</td>\n",
       "      <td>1920</td>\n",
       "      <td>Summer</td>\n",
       "      <td>Antwerpen</td>\n",
       "      <td>Football</td>\n",
       "      <td>Football Men's Football</td>\n",
       "      <td>NaN</td>\n",
       "    </tr>\n",
       "    <tr>\n",
       "      <th>3</th>\n",
       "      <td>4</td>\n",
       "      <td>Edgar Lindenau Aabye</td>\n",
       "      <td>M</td>\n",
       "      <td>34.0</td>\n",
       "      <td>NaN</td>\n",
       "      <td>NaN</td>\n",
       "      <td>Denmark/Sweden</td>\n",
       "      <td>DEN</td>\n",
       "      <td>1900 Summer</td>\n",
       "      <td>1900</td>\n",
       "      <td>Summer</td>\n",
       "      <td>Paris</td>\n",
       "      <td>Tug-Of-War</td>\n",
       "      <td>Tug-Of-War Men's Tug-Of-War</td>\n",
       "      <td>Gold</td>\n",
       "    </tr>\n",
       "    <tr>\n",
       "      <th>4</th>\n",
       "      <td>5</td>\n",
       "      <td>Christine Jacoba Aaftink</td>\n",
       "      <td>F</td>\n",
       "      <td>21.0</td>\n",
       "      <td>185.0</td>\n",
       "      <td>82.0</td>\n",
       "      <td>Netherlands</td>\n",
       "      <td>NED</td>\n",
       "      <td>1988 Winter</td>\n",
       "      <td>1988</td>\n",
       "      <td>Winter</td>\n",
       "      <td>Calgary</td>\n",
       "      <td>Speed Skating</td>\n",
       "      <td>Speed Skating Women's 500 metres</td>\n",
       "      <td>NaN</td>\n",
       "    </tr>\n",
       "  </tbody>\n",
       "</table>\n",
       "</div>"
      ],
      "text/plain": [
       "   ID                      Name Sex   Age  Height  Weight            Team  \\\n",
       "0   1                 A Dijiang   M  24.0   180.0    80.0           China   \n",
       "1   2                  A Lamusi   M  23.0   170.0    60.0           China   \n",
       "2   3       Gunnar Nielsen Aaby   M  24.0     NaN     NaN         Denmark   \n",
       "3   4      Edgar Lindenau Aabye   M  34.0     NaN     NaN  Denmark/Sweden   \n",
       "4   5  Christine Jacoba Aaftink   F  21.0   185.0    82.0     Netherlands   \n",
       "\n",
       "   NOC        Games  Year  Season       City          Sport  \\\n",
       "0  CHN  1992 Summer  1992  Summer  Barcelona     Basketball   \n",
       "1  CHN  2012 Summer  2012  Summer     London           Judo   \n",
       "2  DEN  1920 Summer  1920  Summer  Antwerpen       Football   \n",
       "3  DEN  1900 Summer  1900  Summer      Paris     Tug-Of-War   \n",
       "4  NED  1988 Winter  1988  Winter    Calgary  Speed Skating   \n",
       "\n",
       "                              Event Medal  \n",
       "0       Basketball Men's Basketball   NaN  \n",
       "1      Judo Men's Extra-Lightweight   NaN  \n",
       "2           Football Men's Football   NaN  \n",
       "3       Tug-Of-War Men's Tug-Of-War  Gold  \n",
       "4  Speed Skating Women's 500 metres   NaN  "
      ]
     },
     "execution_count": 4,
     "metadata": {},
     "output_type": "execute_result"
    }
   ],
   "source": [
    "olympicEvents.head()"
   ]
  },
  {
   "cell_type": "markdown",
   "id": "e3c262b0-5ea5-4c5a-801b-36dff2aa5da8",
   "metadata": {},
   "source": [
    "## Data Wrangling"
   ]
  },
  {
   "cell_type": "markdown",
   "id": "dc31c6d5-c0b5-435e-9a2b-a18afad34150",
   "metadata": {},
   "source": [
    "### Drop the NAs"
   ]
  },
  {
   "cell_type": "code",
   "execution_count": 6,
   "id": "7da2f4e0-773b-456b-a3e0-6755d4230167",
   "metadata": {},
   "outputs": [],
   "source": [
    "olympicEvents.dropna(inplace=True)"
   ]
  },
  {
   "cell_type": "markdown",
   "id": "f5b19a99-be86-4e54-9b16-63be38920fef",
   "metadata": {},
   "source": [
    "## Single Sample t-test"
   ]
  },
  {
   "cell_type": "markdown",
   "id": "96ed073c-13e9-4975-b6fb-861ddc724256",
   "metadata": {},
   "source": [
    "### Question: Is the average age different from 22?"
   ]
  },
  {
   "cell_type": "markdown",
   "id": "9450f4ab-375c-49c4-b76a-dd1e6b81e0cc",
   "metadata": {},
   "source": [
    "### test for assumptions first - is it Normally Distributed"
   ]
  },
  {
   "cell_type": "code",
   "execution_count": 7,
   "id": "b930df3f-442e-4d24-8992-de3c7f2fbed1",
   "metadata": {},
   "outputs": [
    {
     "data": {
      "text/plain": [
       "<AxesSubplot:>"
      ]
     },
     "execution_count": 7,
     "metadata": {},
     "output_type": "execute_result"
    },
    {
     "data": {
      "image/png": "[encoded data removed]",
      "text/plain": [
       "<Figure size 432x288 with 1 Axes>"
      ]
     },
     "metadata": {
      "needs_background": "light"
     },
     "output_type": "display_data"
    }
   ],
   "source": [
    "olympicEvents['Age'].hist()"
   ]
  },
  {
   "cell_type": "markdown",
   "id": "279bd709-4ad1-4305-bb02-3cf95a42f4d4",
   "metadata": {},
   "source": [
    "### looks like it could maybe be normally distributed"
   ]
  },
  {
   "cell_type": "markdown",
   "id": "f58a5f7b-5391-4509-9e22-adeb91284b5e",
   "metadata": {},
   "source": [
    "## Run the Analysis"
   ]
  },
  {
   "cell_type": "code",
   "execution_count": 8,
   "id": "956bba39-1300-4f38-b75d-b938558e6c96",
   "metadata": {},
   "outputs": [
    {
     "data": {
      "text/plain": [
       "Ttest_1sampResult(statistic=117.96999514411488, pvalue=0.0)"
      ]
     },
     "execution_count": 8,
     "metadata": {},
     "output_type": "execute_result"
    }
   ],
   "source": [
    "stats.ttest_1samp(olympicEvents['Age'], 22)"
   ]
  },
  {
   "cell_type": "markdown",
   "id": "88c73e03-ce16-4466-9669-3bb1774c9734",
   "metadata": {},
   "source": [
    "### We can tell the average age is differnt from 22 - is it higher? is it lower?"
   ]
  },
  {
   "cell_type": "code",
   "execution_count": 9,
   "id": "6ba2712c-7aa0-476f-a82e-0ce553c6f624",
   "metadata": {},
   "outputs": [
    {
     "data": {
      "text/plain": [
       "25.42901162983334"
      ]
     },
     "execution_count": 9,
     "metadata": {},
     "output_type": "execute_result"
    }
   ],
   "source": [
    "olympicEvents.Age.mean()"
   ]
  },
  {
   "cell_type": "markdown",
   "id": "d3deeb04-5074-45e0-b018-ed1a2e220564",
   "metadata": {},
   "source": [
    "## Independent t-test"
   ]
  },
  {
   "cell_type": "markdown",
   "id": "a4026bed-3093-4e54-bcc0-94f748831fcf",
   "metadata": {},
   "source": [
    "### Does the average age differ between men and women?"
   ]
  },
  {
   "cell_type": "markdown",
   "id": "ad040f7c-7133-4a63-a4d5-e53b28c2723b",
   "metadata": {},
   "source": [
    "### test for assumptions first - is it Normally Distributed"
   ]
  },
  {
   "cell_type": "code",
   "execution_count": 10,
   "id": "0c214fe3-1aee-405c-b76b-5079153776d1",
   "metadata": {},
   "outputs": [
    {
     "data": {
      "text/plain": [
       "<AxesSubplot:>"
      ]
     },
     "execution_count": 10,
     "metadata": {},
     "output_type": "execute_result"
    },
    {
     "data": {
      "image/png": "[encoded data removed]",
      "text/plain": [
       "<Figure size 432x288 with 1 Axes>"
      ]
     },
     "metadata": {
      "needs_background": "light"
     },
     "output_type": "display_data"
    }
   ],
   "source": [
    "olympicEvents.Age[olympicEvents.Sex == 'M'].hist()\n",
    "## distribution of male age"
   ]
  },
  {
   "cell_type": "code",
   "execution_count": 11,
   "id": "fe85e160-3ee4-4e5d-8f4c-ad04636d90cd",
   "metadata": {},
   "outputs": [
    {
     "data": {
      "text/plain": [
       "<AxesSubplot:>"
      ]
     },
     "execution_count": 11,
     "metadata": {},
     "output_type": "execute_result"
    },
    {
     "data": {
      "image/png": "[encoded data removed]",
      "text/plain": [
       "<Figure size 432x288 with 1 Axes>"
      ]
     },
     "metadata": {
      "needs_background": "light"
     },
     "output_type": "display_data"
    }
   ],
   "source": [
    "olympicEvents.Age[olympicEvents.Sex == 'F'].hist()\n",
    "## distribution of female age"
   ]
  },
  {
   "cell_type": "markdown",
   "id": "c828ba13-e2a8-4016-a599-96e74b603107",
   "metadata": {},
   "source": [
    "# moving forward like they are normally distributed"
   ]
  },
  {
   "cell_type": "code",
   "execution_count": 12,
   "id": "54f429d4-e27d-4b4e-88fa-83ce8f7cbbb3",
   "metadata": {},
   "outputs": [
    {
     "data": {
      "text/plain": [
       "Ttest_indResult(statistic=20.811905071131516, pvalue=1.5853311644818236e-95)"
      ]
     },
     "execution_count": 12,
     "metadata": {},
     "output_type": "execute_result"
    }
   ],
   "source": [
    "ttest_ind(olympicEvents.Age[olympicEvents.Sex == 'M'], olympicEvents.Age[olympicEvents.Sex == 'F'])"
   ]
  },
  {
   "cell_type": "code",
   "execution_count": 13,
   "id": "d1598416-2998-4109-a9f1-e758d70deb3f",
   "metadata": {},
   "outputs": [
    {
     "data": {
      "text/plain": [
       "Sex\n",
       "F    24.597585\n",
       "M    25.862942\n",
       "Name: Age, dtype: float64"
      ]
     },
     "execution_count": 13,
     "metadata": {},
     "output_type": "execute_result"
    }
   ],
   "source": [
    "olympicEvents.groupby('Sex')['Age'].mean()"
   ]
  },
  {
   "cell_type": "markdown",
   "id": "a42e9a85-258c-421a-bd8a-1e3c6dce256b",
   "metadata": {},
   "source": [
    "# Independent Chi-Square"
   ]
  },
  {
   "cell_type": "markdown",
   "id": "c540f5f1-5092-4cd2-923e-3ee0a2eac041",
   "metadata": {},
   "source": [
    "## Trying to see if the season influences the type of medal earned"
   ]
  },
  {
   "cell_type": "markdown",
   "id": "12007c0d-7f4b-4b7b-a45e-dc5ddb167502",
   "metadata": {},
   "source": [
    "### start with crosstab"
   ]
  },
  {
   "cell_type": "code",
   "execution_count": 15,
   "id": "12e6ff73-844d-466e-a746-f08851886148",
   "metadata": {},
   "outputs": [],
   "source": [
    "crosstab = pd.crosstab(olympicEvents['Season'], olympicEvents['Medal'])"
   ]
  },
  {
   "cell_type": "code",
   "execution_count": 16,
   "id": "28b3d456-6cae-471c-98c9-b43573238d77",
   "metadata": {},
   "outputs": [
    {
     "data": {
      "text/html": [
       "<div>\n",
       "<style scoped>\n",
       "    .dataframe tbody tr th:only-of-type {\n",
       "        vertical-align: middle;\n",
       "    }\n",
       "\n",
       "    .dataframe tbody tr th {\n",
       "        vertical-align: top;\n",
       "    }\n",
       "\n",
       "    .dataframe thead th {\n",
       "        text-align: right;\n",
       "    }\n",
       "</style>\n",
       "<table border=\"1\" class=\"dataframe\">\n",
       "  <thead>\n",
       "    <tr style=\"text-align: right;\">\n",
       "      <th>Medal</th>\n",
       "      <th>Bronze</th>\n",
       "      <th>Gold</th>\n",
       "      <th>Silver</th>\n",
       "    </tr>\n",
       "    <tr>\n",
       "      <th>Season</th>\n",
       "      <th></th>\n",
       "      <th></th>\n",
       "      <th></th>\n",
       "    </tr>\n",
       "  </thead>\n",
       "  <tbody>\n",
       "    <tr>\n",
       "      <th>Summer</th>\n",
       "      <td>8566</td>\n",
       "      <td>8542</td>\n",
       "      <td>8233</td>\n",
       "    </tr>\n",
       "    <tr>\n",
       "      <th>Winter</th>\n",
       "      <td>1582</td>\n",
       "      <td>1625</td>\n",
       "      <td>1633</td>\n",
       "    </tr>\n",
       "  </tbody>\n",
       "</table>\n",
       "</div>"
      ],
      "text/plain": [
       "Medal   Bronze  Gold  Silver\n",
       "Season                      \n",
       "Summer    8566  8542    8233\n",
       "Winter    1582  1625    1633"
      ]
     },
     "execution_count": 16,
     "metadata": {},
     "output_type": "execute_result"
    }
   ],
   "source": [
    "crosstab"
   ]
  },
  {
   "cell_type": "markdown",
   "id": "ed733008-85e3-4baf-a306-a06e58465e2c",
   "metadata": {},
   "source": [
    "### both season and medal are categorical "
   ]
  },
  {
   "cell_type": "code",
   "execution_count": 17,
   "id": "90cfd80b-14c0-4e8b-bd91-3451cf9c0694",
   "metadata": {},
   "outputs": [
    {
     "data": {
      "text/plain": [
       "(3.4745101681496746,\n",
       " 0.17600285120006448,\n",
       " 2,\n",
       " array([[8520.60793214, 8536.56098207, 8283.83108578],\n",
       "        [1627.39206786, 1630.43901793, 1582.16891422]]))"
      ]
     },
     "execution_count": 17,
     "metadata": {},
     "output_type": "execute_result"
    }
   ],
   "source": [
    "stats.chi2_contingency(crosstab)"
   ]
  },
  {
   "cell_type": "markdown",
   "id": "d05d3673-77d3-41df-90c0-163e0aee0c14",
   "metadata": {},
   "source": [
    "### - Chi-square value\n",
    "### - p-value\n",
    "### - number of seasons(??)\n",
    "### - array of medal counts if things were equal"
   ]
  },
  {
   "cell_type": "code",
   "execution_count": 20,
   "id": "a4f12852-b935-46a0-9f84-678d9bf9fdf7",
   "metadata": {},
   "outputs": [],
   "source": [
    "## p-value of .176 is not significant - makes sense because the Chi-square array is close to the real life medal counts"
   ]
  },
  {
   "cell_type": "markdown",
   "id": "468ad295-9117-4a92-b997-1ba52e2bd8e7",
   "metadata": {},
   "source": [
    "# Correlation"
   ]
  },
  {
   "cell_type": "code",
   "execution_count": 21,
   "id": "bf9976d5-96ac-4f99-9b16-35c497b2cd21",
   "metadata": {},
   "outputs": [
    {
     "data": {
      "text/plain": [
       "0.8018308248560182"
      ]
     },
     "execution_count": 21,
     "metadata": {},
     "output_type": "execute_result"
    }
   ],
   "source": [
    "olympicEvents['Height'].corr(olympicEvents['Weight'])"
   ]
  },
  {
   "cell_type": "code",
   "execution_count": 23,
   "id": "3285c157-63ce-4c01-9d54-e7ec76bd8bca",
   "metadata": {},
   "outputs": [],
   "source": [
    "## .8 out of 1 is pretty strong\n",
    "## it is positively correlated (as one goes up so does the other)"
   ]
  },
  {
   "cell_type": "code",
   "execution_count": 25,
   "id": "95172671-a977-430a-919c-67115acd332f",
   "metadata": {},
   "outputs": [
    {
     "data": {
      "text/plain": [
       "<AxesSubplot:>"
      ]
     },
     "execution_count": 25,
     "metadata": {},
     "output_type": "execute_result"
    },
    {
     "data": {
      "image/png": "[encoded data removed]",
      "text/plain": [
       "<Figure size 432x288 with 2 Axes>"
      ]
     },
     "metadata": {
      "needs_background": "light"
     },
     "output_type": "display_data"
    }
   ],
   "source": [
    "sns.heatmap(olympicEvents.corr(), annot = True)\n",
    "## to get a visual representation of all the variables we call sns.heatmap(dataset.corr())\n",
    "## annot = True is the show the actual correlation values"
   ]
  },
  {
   "cell_type": "markdown",
   "id": "9c7d3cc8-eba7-45d7-9396-55e51f201b55",
   "metadata": {},
   "source": [
    "Introduction\n",
    "\n",
    "This lesson will cover the basic statistics you already know how to do in MS Excel and R in Python.\n",
    "\n",
    "By the end of this lesson, you should be able to complete the following tasks in Python:\n",
    "\n",
    "Single sample, independent, and dependent t tests\n",
    "\n",
    "Chi-Squares\n",
    "\n",
    "Correlation"
   ]
  },
  {
   "cell_type": "code",
   "execution_count": 26,
   "id": "f3d24aa8-e7b0-4c87-85ea-7e79db2ea100",
   "metadata": {},
   "outputs": [],
   "source": [
    "#### Page 2"
   ]
  },
  {
   "cell_type": "markdown",
   "id": "fa948eba-f780-40c4-8b26-ff097f5b5124",
   "metadata": {},
   "source": [
    "# Single Sample t-test"
   ]
  },
  {
   "cell_type": "markdown",
   "id": "49670896-423e-4ba3-a17d-75d56b549a39",
   "metadata": {},
   "source": [
    "Remember that a single-sample t-test is meant to examine whether a particular value is different than the population mean. You've already performed single sample t-tests by hand and using R. Now it's time to learn how to complete them in Python!"
   ]
  },
  {
   "cell_type": "code",
   "execution_count": 28,
   "id": "33b0961f-2bca-48e8-a722-1fa4138b83fa",
   "metadata": {},
   "outputs": [],
   "source": [
    "## packages already imported above"
   ]
  },
  {
   "cell_type": "code",
   "execution_count": 29,
   "id": "3e80aa46-0a87-40e2-aca6-c256d58d5e18",
   "metadata": {},
   "outputs": [],
   "source": [
    "## load in data"
   ]
  },
  {
   "cell_type": "code",
   "execution_count": 30,
   "id": "e11de952-9b83-4557-9fe3-a1e687f67b47",
   "metadata": {},
   "outputs": [],
   "source": [
    "hybrid2013 = pd.read_excel('../datasets/hybrid2013.xlsx')"
   ]
  },
  {
   "cell_type": "code",
   "execution_count": 31,
   "id": "8fe52781-25df-40dd-9eeb-d5f83027ebdc",
   "metadata": {},
   "outputs": [
    {
     "data": {
      "text/html": [
       "<div>\n",
       "<style scoped>\n",
       "    .dataframe tbody tr th:only-of-type {\n",
       "        vertical-align: middle;\n",
       "    }\n",
       "\n",
       "    .dataframe tbody tr th {\n",
       "        vertical-align: top;\n",
       "    }\n",
       "\n",
       "    .dataframe thead th {\n",
       "        text-align: right;\n",
       "    }\n",
       "</style>\n",
       "<table border=\"1\" class=\"dataframe\">\n",
       "  <thead>\n",
       "    <tr style=\"text-align: right;\">\n",
       "      <th></th>\n",
       "      <th>carid</th>\n",
       "      <th>vehicle</th>\n",
       "      <th>year</th>\n",
       "      <th>msrp</th>\n",
       "      <th>accelrate</th>\n",
       "      <th>mpg</th>\n",
       "      <th>mpgmpge</th>\n",
       "      <th>carclass</th>\n",
       "      <th>carclass_id</th>\n",
       "    </tr>\n",
       "  </thead>\n",
       "  <tbody>\n",
       "    <tr>\n",
       "      <th>0</th>\n",
       "      <td>111</td>\n",
       "      <td>Prius C</td>\n",
       "      <td>2013</td>\n",
       "      <td>19080</td>\n",
       "      <td>8.70</td>\n",
       "      <td>50</td>\n",
       "      <td>50</td>\n",
       "      <td>C</td>\n",
       "      <td>1</td>\n",
       "    </tr>\n",
       "    <tr>\n",
       "      <th>1</th>\n",
       "      <td>112</td>\n",
       "      <td>Jetta</td>\n",
       "      <td>2013</td>\n",
       "      <td>24995</td>\n",
       "      <td>12.66</td>\n",
       "      <td>45</td>\n",
       "      <td>45</td>\n",
       "      <td>C</td>\n",
       "      <td>1</td>\n",
       "    </tr>\n",
       "    <tr>\n",
       "      <th>2</th>\n",
       "      <td>113</td>\n",
       "      <td>Civic</td>\n",
       "      <td>2013</td>\n",
       "      <td>24360</td>\n",
       "      <td>10.20</td>\n",
       "      <td>44</td>\n",
       "      <td>44</td>\n",
       "      <td>C</td>\n",
       "      <td>1</td>\n",
       "    </tr>\n",
       "    <tr>\n",
       "      <th>3</th>\n",
       "      <td>114</td>\n",
       "      <td>Prius</td>\n",
       "      <td>2013</td>\n",
       "      <td>24200</td>\n",
       "      <td>10.20</td>\n",
       "      <td>50</td>\n",
       "      <td>50</td>\n",
       "      <td>M</td>\n",
       "      <td>3</td>\n",
       "    </tr>\n",
       "    <tr>\n",
       "      <th>4</th>\n",
       "      <td>115</td>\n",
       "      <td>Fusion FWD</td>\n",
       "      <td>2013</td>\n",
       "      <td>27200</td>\n",
       "      <td>11.72</td>\n",
       "      <td>47</td>\n",
       "      <td>47</td>\n",
       "      <td>M</td>\n",
       "      <td>3</td>\n",
       "    </tr>\n",
       "  </tbody>\n",
       "</table>\n",
       "</div>"
      ],
      "text/plain": [
       "   carid     vehicle  year   msrp  accelrate  mpg  mpgmpge carclass  \\\n",
       "0    111     Prius C  2013  19080       8.70   50       50        C   \n",
       "1    112       Jetta  2013  24995      12.66   45       45        C   \n",
       "2    113       Civic  2013  24360      10.20   44       44        C   \n",
       "3    114       Prius  2013  24200      10.20   50       50        M   \n",
       "4    115  Fusion FWD  2013  27200      11.72   47       47        M   \n",
       "\n",
       "   carclass_id  \n",
       "0            1  \n",
       "1            1  \n",
       "2            1  \n",
       "3            3  \n",
       "4            3  "
      ]
     },
     "execution_count": 31,
     "metadata": {},
     "output_type": "execute_result"
    }
   ],
   "source": [
    "hybrid2013.head()"
   ]
  },
  {
   "cell_type": "markdown",
   "id": "5bcd2ccd-5822-4579-8274-fe8a949c25ba",
   "metadata": {},
   "source": [
    "## Question: is a cost of $25,000 for a hybrid in 2013 different than the mean cost?"
   ]
  },
  {
   "cell_type": "markdown",
   "id": "63243733-65c0-4b96-aaaf-ae5ae264d92b",
   "metadata": {},
   "source": [
    "## testing asumptions - is this normally distributed? "
   ]
  },
  {
   "cell_type": "code",
   "execution_count": 32,
   "id": "cc624d02-30d5-4193-b984-d1cf22469230",
   "metadata": {},
   "outputs": [
    {
     "data": {
      "text/plain": [
       "<AxesSubplot:>"
      ]
     },
     "execution_count": 32,
     "metadata": {},
     "output_type": "execute_result"
    },
    {
     "data": {
      "image/png": "[encoded data removed]",
      "text/plain": [
       "<Figure size 432x288 with 1 Axes>"
      ]
     },
     "metadata": {
      "needs_background": "light"
     },
     "output_type": "display_data"
    }
   ],
   "source": [
    "hybrid2013['msrp'].hist()"
   ]
  },
  {
   "cell_type": "code",
   "execution_count": 33,
   "id": "9a0cb200-0ded-4826-9f6c-3d8f9b593420",
   "metadata": {},
   "outputs": [],
   "source": [
    "# Looks like things aren't quite normally distributed, but you'll let it slide for now for learning purposes."
   ]
  },
  {
   "cell_type": "markdown",
   "id": "d6b4c16b-2bdc-4b43-862f-4fa8be7bbafa",
   "metadata": {},
   "source": [
    "## Run the analysis"
   ]
  },
  {
   "cell_type": "markdown",
   "id": "1a9fbdd6-ad87-4617-a7ce-d6ec26dc654a",
   "metadata": {},
   "source": [
    "There is only one line of code needed to run a single sample t-test in Python. The function stats.ttest_1samp() performs the function, and takes the argument of the data column that contains your population values, and then the x value that you are trying to test against, which is $25,000."
   ]
  },
  {
   "cell_type": "code",
   "execution_count": 34,
   "id": "c2bb1839-3309-40f1-b598-638ed0380ce8",
   "metadata": {},
   "outputs": [
    {
     "data": {
      "text/plain": [
       "Ttest_1sampResult(statistic=6.003733172775179, pvalue=3.9231807518835515e-07)"
      ]
     },
     "execution_count": 34,
     "metadata": {},
     "output_type": "execute_result"
    }
   ],
   "source": [
    "stats.ttest_1samp(hybrid2013['msrp'], 25000)"
   ]
  },
  {
   "cell_type": "markdown",
   "id": "dac8e46a-5fbc-4f8f-b0dd-9c16d30f66a6",
   "metadata": {},
   "source": [
    "The statistic is your t value, and the p value is the one associated with that t-test. Remember that the p value is written in scientific notation, so this is significant at p < .05. That means that buying a hybrid car for $25,000 in 2013 is different than the population mean. Is it higher or lower? To answer that question, you will need to examine the population mean:"
   ]
  },
  {
   "cell_type": "code",
   "execution_count": 35,
   "id": "96982800-3ae8-4d3a-9787-2a7f6a406b02",
   "metadata": {},
   "outputs": [
    {
     "data": {
      "text/plain": [
       "42943.48837209302"
      ]
     },
     "execution_count": 35,
     "metadata": {},
     "output_type": "execute_result"
    }
   ],
   "source": [
    "hybrid2013.msrp.mean()"
   ]
  },
  {
   "cell_type": "code",
   "execution_count": 36,
   "id": "697f4110-7c39-478e-908b-f51365575366",
   "metadata": {},
   "outputs": [],
   "source": [
    "## the average hybrid msrp in 2013 was $42943.49 cents - well above the point of $25000 we were testing"
   ]
  },
  {
   "cell_type": "code",
   "execution_count": 37,
   "id": "4e43645a-d87a-4152-93dc-e3b91bf194fc",
   "metadata": {},
   "outputs": [],
   "source": [
    "#### Page 3"
   ]
  },
  {
   "cell_type": "markdown",
   "id": "e5bed99b-1ffb-4213-87a2-7c42db09572a",
   "metadata": {},
   "source": [
    "Using the hybrid2013 dataset you worked with in the lesson, determine whether a miles per gallon (mpg) rating of 40 is unusual for a hybrid car on the market in 2013. To do this, you will need to test for the assumption of normality by creating a histogram, and then run a single sample ttest."
   ]
  },
  {
   "cell_type": "code",
   "execution_count": 39,
   "id": "5997141b-7b71-459b-9213-0c51fc853c6c",
   "metadata": {},
   "outputs": [
    {
     "data": {
      "text/plain": [
       "<AxesSubplot:>"
      ]
     },
     "execution_count": 39,
     "metadata": {},
     "output_type": "execute_result"
    },
    {
     "data": {
      "image/png": "[encoded data removed]",
      "text/plain": [
       "<Figure size 432x288 with 1 Axes>"
      ]
     },
     "metadata": {
      "needs_background": "light"
     },
     "output_type": "display_data"
    }
   ],
   "source": [
    "# test the assumptions - is it normally distributed?\n",
    "hybrid2013.mpg.hist()"
   ]
  },
  {
   "cell_type": "code",
   "execution_count": 40,
   "id": "b8eb9ed1-ec9b-489f-ba87-fd131d1ba5a8",
   "metadata": {},
   "outputs": [],
   "source": [
    "# not normally distributed, but continue to answer the question"
   ]
  },
  {
   "cell_type": "code",
   "execution_count": 41,
   "id": "48f97772-d25f-4aee-bce6-543f3e13f815",
   "metadata": {},
   "outputs": [
    {
     "data": {
      "text/plain": [
       "Ttest_1sampResult(statistic=-4.427320491687408, pvalue=6.67005084670698e-05)"
      ]
     },
     "execution_count": 41,
     "metadata": {},
     "output_type": "execute_result"
    }
   ],
   "source": [
    "# run the single sample t-test analysis\n",
    "stats.ttest_1samp(hybrid2013['mpg'], 40)"
   ]
  },
  {
   "cell_type": "code",
   "execution_count": 42,
   "id": "45c48f2b-2b51-4ee9-b180-9fbbe6aea87c",
   "metadata": {},
   "outputs": [
    {
     "data": {
      "text/plain": [
       "33.48837209302326"
      ]
     },
     "execution_count": 42,
     "metadata": {},
     "output_type": "execute_result"
    }
   ],
   "source": [
    "# The p-value tells us that 40 is significantly different than the average mpg\n",
    "# by how much? Is it higher or lower?\n",
    "hybrid2013.mpg.mean()"
   ]
  },
  {
   "cell_type": "code",
   "execution_count": 43,
   "id": "95a7f077-0d01-4130-9875-b6efe9a35efe",
   "metadata": {},
   "outputs": [],
   "source": [
    "# 33.49 mpg is the average for hybrids in 2013, well lower than our data point of 40"
   ]
  },
  {
   "cell_type": "code",
   "execution_count": 44,
   "id": "357e4af0-a399-4e01-9bec-e7095a6663bf",
   "metadata": {},
   "outputs": [],
   "source": [
    "#### Page 4 is the solution for activity above"
   ]
  },
  {
   "cell_type": "code",
   "execution_count": 45,
   "id": "f08d26de-05e5-413d-8d71-5745038fb159",
   "metadata": {},
   "outputs": [],
   "source": [
    "#### Page 5"
   ]
  },
  {
   "cell_type": "markdown",
   "id": "8999a7f2-773e-4ed5-9fc5-51946cfdd41b",
   "metadata": {},
   "source": [
    "bullet\n",
    "* example one"
   ]
  },
  {
   "cell_type": "markdown",
   "id": "5c0c751f-5f1b-4212-8f8d-e156d90edf30",
   "metadata": {},
   "source": [
    "bullet 2\n",
    "- example 2"
   ]
  },
  {
   "cell_type": "code",
   "execution_count": 48,
   "id": "8a4685dc-3864-496c-aa34-f981e57176df",
   "metadata": {},
   "outputs": [],
   "source": [
    "## 2 cells above show examples of markdowns with * and - to make bullets"
   ]
  },
  {
   "cell_type": "markdown",
   "id": "c00c68ae-fb39-433d-b1ac-782539793abf",
   "metadata": {},
   "source": [
    "# Testing Assumptions"
   ]
  },
  {
   "cell_type": "markdown",
   "id": "085eadcc-9e0b-4f8a-999d-0e12f475764d",
   "metadata": {},
   "source": [
    "The only assumption that independent t has is normality. You will need to test normality for each of your groups - compact and mid-sized hybrid cars.\n",
    "\n",
    "This code is very similar to before, but has an extra layer of specifying which values from the carclass you want to examine:"
   ]
  },
  {
   "cell_type": "code",
   "execution_count": 53,
   "id": "ca98b3fc-cd90-4965-84bb-a91218af36ff",
   "metadata": {},
   "outputs": [
    {
     "data": {
      "text/plain": [
       "<AxesSubplot:>"
      ]
     },
     "execution_count": 53,
     "metadata": {},
     "output_type": "execute_result"
    },
    {
     "data": {
      "image/png": "[encoded data removed]",
      "text/plain": [
       "<Figure size 432x288 with 1 Axes>"
      ]
     },
     "metadata": {
      "needs_background": "light"
     },
     "output_type": "display_data"
    }
   ],
   "source": [
    "hybrid2013.mpg[hybrid2013.carclass == 'C'].hist()\n",
    "# compact hybrid cars histogram"
   ]
  },
  {
   "cell_type": "markdown",
   "id": "26520973-22d3-478f-928c-9df07a241f66",
   "metadata": {},
   "source": [
    "Same thing for the mid-size hybrid cars:"
   ]
  },
  {
   "cell_type": "code",
   "execution_count": 54,
   "id": "c41fe4c3-18c5-46ac-8b57-7c159150f6e3",
   "metadata": {},
   "outputs": [
    {
     "data": {
      "text/plain": [
       "<AxesSubplot:>"
      ]
     },
     "execution_count": 54,
     "metadata": {},
     "output_type": "execute_result"
    },
    {
     "data": {
      "image/png": "[encoded data removed]",
      "text/plain": [
       "<Figure size 432x288 with 1 Axes>"
      ]
     },
     "metadata": {
      "needs_background": "light"
     },
     "output_type": "display_data"
    }
   ],
   "source": [
    "hybrid2013.mpg[hybrid2013.carclass == 'M'].hist()\n",
    "# mid-sized hybrid cars histogram"
   ]
  },
  {
   "cell_type": "markdown",
   "id": "a7421450-422b-40f6-bb9c-1af72fd6d131",
   "metadata": {},
   "source": [
    "It looks like neither of these are bell-shaped, and are thus not normal, but for the purposes of learning, you will continue."
   ]
  },
  {
   "cell_type": "markdown",
   "id": "4529dcd9-39fb-4f35-850f-22eb83ef1e01",
   "metadata": {},
   "source": [
    "# Running the Analysis"
   ]
  },
  {
   "cell_type": "markdown",
   "id": "668bf07b-1d95-4e52-8864-1fa776f12ada",
   "metadata": {},
   "source": [
    "You will use the function ttest_ind() to run an independent t test in Python. The arguments are two things you want to compare to each other. If you happen to have those two things in separate columns, then it would simply look like this mock code:"
   ]
  },
  {
   "cell_type": "code",
   "execution_count": 51,
   "id": "e636aa62-6e8a-4f24-b4ac-5fc66f0abdc9",
   "metadata": {},
   "outputs": [],
   "source": [
    "# ttest_ind(data[column1], data[column2]) <--- this is example code"
   ]
  },
  {
   "cell_type": "markdown",
   "id": "133236cf-6360-4ae4-a38e-aa53ed85da69",
   "metadata": {},
   "source": [
    "But since in this case, your data is all stored in the same carclass column, and you want to pull out the data for certain values, the code looks just a bit more complicated:"
   ]
  },
  {
   "cell_type": "code",
   "execution_count": 52,
   "id": "af15def7-55d0-4cfc-b19f-297d2c0aff06",
   "metadata": {},
   "outputs": [
    {
     "data": {
      "text/plain": [
       "Ttest_indResult(statistic=1.0751886097093057, pvalue=0.29216712457079796)"
      ]
     },
     "execution_count": 52,
     "metadata": {},
     "output_type": "execute_result"
    }
   ],
   "source": [
    "ttest_ind(hybrid2013.mpg[hybrid2013.carclass == 'C'], hybrid2013.mpg[hybrid2013.carclass == 'M'])"
   ]
  },
  {
   "cell_type": "code",
   "execution_count": 55,
   "id": "a13237a4-1267-4a12-a071-b98c9b1cc13b",
   "metadata": {},
   "outputs": [],
   "source": [
    "# with a p-value above 0.05 we see there is no significant difference b/t compact and mid-size in terms of mpg. small t-value also indicates little to no significance "
   ]
  },
  {
   "cell_type": "code",
   "execution_count": 56,
   "id": "45773a4e-9ce5-4b4c-99f4-9ef7095ed2ae",
   "metadata": {},
   "outputs": [],
   "source": [
    "#### Page 6"
   ]
  },
  {
   "cell_type": "markdown",
   "id": "e9b51801-7925-45d5-827d-abc77fffc3ab",
   "metadata": {},
   "source": [
    "For your Activity, you will be computing an independent t-test to see if the miles per gallon differ between compact (C) and large (L) cars.\n",
    "\n",
    "To do this, you will need to test for the assumption of normality for both groups by creating a histogram, and then run an independent ttest."
   ]
  },
  {
   "cell_type": "code",
   "execution_count": 59,
   "id": "21030ab1-8e47-476e-8c68-0190471ee856",
   "metadata": {},
   "outputs": [
    {
     "data": {
      "text/plain": [
       "<AxesSubplot:>"
      ]
     },
     "execution_count": 59,
     "metadata": {},
     "output_type": "execute_result"
    },
    {
     "data": {
      "image/png": "[encoded data removed]",
      "text/plain": [
       "<Figure size 432x288 with 1 Axes>"
      ]
     },
     "metadata": {
      "needs_background": "light"
     },
     "output_type": "display_data"
    }
   ],
   "source": [
    "# testing assumptions for both groups, compact and large\n",
    "hybrid2013.mpg[hybrid2013.carclass == 'C'].hist()\n",
    "# compact mpg histogram"
   ]
  },
  {
   "cell_type": "code",
   "execution_count": 60,
   "id": "900d7729-2128-4a48-97ed-a0e0f95ae028",
   "metadata": {},
   "outputs": [
    {
     "data": {
      "text/plain": [
       "<AxesSubplot:>"
      ]
     },
     "execution_count": 60,
     "metadata": {},
     "output_type": "execute_result"
    },
    {
     "data": {
      "image/png": "[encoded data removed]",
      "text/plain": [
       "<Figure size 432x288 with 1 Axes>"
      ]
     },
     "metadata": {
      "needs_background": "light"
     },
     "output_type": "display_data"
    }
   ],
   "source": [
    "hybrid2013.mpg[hybrid2013.carclass == 'L'].hist()\n",
    "# large mpg histogram"
   ]
  },
  {
   "cell_type": "markdown",
   "id": "072f6306-5dc2-49ba-92c3-dd8406637933",
   "metadata": {},
   "source": [
    "### not normally distributed, but still complete the activity."
   ]
  },
  {
   "cell_type": "code",
   "execution_count": 61,
   "id": "844af97a-64bd-4672-b708-bf03df30ef78",
   "metadata": {},
   "outputs": [
    {
     "data": {
      "text/plain": [
       "Ttest_indResult(statistic=2.598820461640718, pvalue=0.026545168887970098)"
      ]
     },
     "execution_count": 61,
     "metadata": {},
     "output_type": "execute_result"
    }
   ],
   "source": [
    "stats.ttest_ind(hybrid2013.mpg[hybrid2013.carclass == 'C'], hybrid2013.mpg[hybrid2013.carclass == 'L'])"
   ]
  },
  {
   "cell_type": "code",
   "execution_count": 62,
   "id": "46e2d421-0159-4b27-aa55-49c338ddeb2d",
   "metadata": {},
   "outputs": [],
   "source": [
    "# with alpha at 0.05, and a p-value of 0.02654 we discover there is a significant difference in the mpg of compact and large hybrids"
   ]
  },
  {
   "cell_type": "code",
   "execution_count": 63,
   "id": "a3776234-2196-44bf-becb-3f004e54b022",
   "metadata": {},
   "outputs": [
    {
     "data": {
      "text/plain": [
       "40.75"
      ]
     },
     "execution_count": 63,
     "metadata": {},
     "output_type": "execute_result"
    }
   ],
   "source": [
    "# time to get the average of each\n",
    "hybrid2013.mpg[hybrid2013.carclass == 'C'].mean()\n",
    "# compact"
   ]
  },
  {
   "cell_type": "code",
   "execution_count": 65,
   "id": "32908a98-862e-4d5b-b780-49b2ae7d0e22",
   "metadata": {},
   "outputs": [
    {
     "data": {
      "text/plain": [
       "28.5"
      ]
     },
     "execution_count": 65,
     "metadata": {},
     "output_type": "execute_result"
    }
   ],
   "source": [
    "hybrid2013.mpg[hybrid2013.carclass == 'L'].mean()\n",
    "# large"
   ]
  },
  {
   "cell_type": "markdown",
   "id": "937ba4db-15ee-4efc-af96-d2b4c524115d",
   "metadata": {},
   "source": [
    "#### There is over a 12 mpg differnce in these two carclasses."
   ]
  },
  {
   "cell_type": "code",
   "execution_count": 66,
   "id": "0cc69df9-aa7c-404a-be18-d7343efa3859",
   "metadata": {},
   "outputs": [],
   "source": [
    "#### Page 7 is solution to above activity"
   ]
  },
  {
   "cell_type": "code",
   "execution_count": 67,
   "id": "0632f7e9-2444-43ab-911d-bca4449317d5",
   "metadata": {},
   "outputs": [],
   "source": [
    "#### Page 8"
   ]
  },
  {
   "cell_type": "markdown",
   "id": "342c8d15-063d-4d10-bcd7-6424f7ffbcbf",
   "metadata": {},
   "source": [
    "# Dependent t-test"
   ]
  },
  {
   "cell_type": "markdown",
   "id": "4efd952b-d700-4bd9-88c4-b4a9a4740c49",
   "metadata": {},
   "source": [
    "The hybrid car data has been restructured for dependent t-tests and an additional year of data, 2012, has been added, and looks like this:"
   ]
  },
  {
   "cell_type": "code",
   "execution_count": 71,
   "id": "16b2ede8-03a5-4a2b-ad40-1c26c6803193",
   "metadata": {},
   "outputs": [
    {
     "data": {
      "text/html": [
       "<div>\n",
       "<style scoped>\n",
       "    .dataframe tbody tr th:only-of-type {\n",
       "        vertical-align: middle;\n",
       "    }\n",
       "\n",
       "    .dataframe tbody tr th {\n",
       "        vertical-align: top;\n",
       "    }\n",
       "\n",
       "    .dataframe thead th {\n",
       "        text-align: right;\n",
       "    }\n",
       "</style>\n",
       "<table border=\"1\" class=\"dataframe\">\n",
       "  <thead>\n",
       "    <tr style=\"text-align: right;\">\n",
       "      <th></th>\n",
       "      <th>vehicle</th>\n",
       "      <th>msrp2012</th>\n",
       "      <th>accelrate2012</th>\n",
       "      <th>mpg2012</th>\n",
       "      <th>mpgmpge2012</th>\n",
       "      <th>carclass2012</th>\n",
       "      <th>carclass_id2012</th>\n",
       "      <th>msrp2013</th>\n",
       "      <th>accelrate2013</th>\n",
       "      <th>mpg2013</th>\n",
       "      <th>mpgmpge2013</th>\n",
       "      <th>carclass2013</th>\n",
       "      <th>carclass_id2013</th>\n",
       "    </tr>\n",
       "  </thead>\n",
       "  <tbody>\n",
       "    <tr>\n",
       "      <th>0</th>\n",
       "      <td>ActiveHybrid 3</td>\n",
       "      <td>19006.62</td>\n",
       "      <td>9.35</td>\n",
       "      <td>50</td>\n",
       "      <td>50</td>\n",
       "      <td>C</td>\n",
       "      <td>1</td>\n",
       "      <td>19080</td>\n",
       "      <td>8.70</td>\n",
       "      <td>50</td>\n",
       "      <td>50</td>\n",
       "      <td>C</td>\n",
       "      <td>1</td>\n",
       "    </tr>\n",
       "    <tr>\n",
       "      <th>1</th>\n",
       "      <td>ActiveHybrid 5</td>\n",
       "      <td>32095.61</td>\n",
       "      <td>8.82</td>\n",
       "      <td>50</td>\n",
       "      <td>95</td>\n",
       "      <td>M</td>\n",
       "      <td>3</td>\n",
       "      <td>24995</td>\n",
       "      <td>12.66</td>\n",
       "      <td>45</td>\n",
       "      <td>45</td>\n",
       "      <td>C</td>\n",
       "      <td>1</td>\n",
       "    </tr>\n",
       "    <tr>\n",
       "      <th>2</th>\n",
       "      <td>Ampera</td>\n",
       "      <td>31739.55</td>\n",
       "      <td>11.11</td>\n",
       "      <td>37</td>\n",
       "      <td>98</td>\n",
       "      <td>C</td>\n",
       "      <td>1</td>\n",
       "      <td>24200</td>\n",
       "      <td>10.20</td>\n",
       "      <td>50</td>\n",
       "      <td>50</td>\n",
       "      <td>M</td>\n",
       "      <td>3</td>\n",
       "    </tr>\n",
       "    <tr>\n",
       "      <th>3</th>\n",
       "      <td>Camry LE</td>\n",
       "      <td>62180.23</td>\n",
       "      <td>16.67</td>\n",
       "      <td>26</td>\n",
       "      <td>26</td>\n",
       "      <td>M</td>\n",
       "      <td>3</td>\n",
       "      <td>18600</td>\n",
       "      <td>11.76</td>\n",
       "      <td>42</td>\n",
       "      <td>42</td>\n",
       "      <td>C</td>\n",
       "      <td>1</td>\n",
       "    </tr>\n",
       "    <tr>\n",
       "      <th>4</th>\n",
       "      <td>Chevrolet Volt</td>\n",
       "      <td>59126.14</td>\n",
       "      <td>16.95</td>\n",
       "      <td>31</td>\n",
       "      <td>31</td>\n",
       "      <td>M</td>\n",
       "      <td>3</td>\n",
       "      <td>69850</td>\n",
       "      <td>16.39</td>\n",
       "      <td>21</td>\n",
       "      <td>21</td>\n",
       "      <td>SUV</td>\n",
       "      <td>6</td>\n",
       "    </tr>\n",
       "  </tbody>\n",
       "</table>\n",
       "</div>"
      ],
      "text/plain": [
       "          vehicle  msrp2012  accelrate2012  mpg2012  mpgmpge2012 carclass2012  \\\n",
       "0  ActiveHybrid 3  19006.62           9.35       50           50            C   \n",
       "1  ActiveHybrid 5  32095.61           8.82       50           95            M   \n",
       "2          Ampera  31739.55          11.11       37           98            C   \n",
       "3        Camry LE  62180.23          16.67       26           26            M   \n",
       "4  Chevrolet Volt  59126.14          16.95       31           31            M   \n",
       "\n",
       "   carclass_id2012  msrp2013  accelrate2013  mpg2013  mpgmpge2013  \\\n",
       "0                1     19080           8.70       50           50   \n",
       "1                3     24995          12.66       45           45   \n",
       "2                1     24200          10.20       50           50   \n",
       "3                3     18600          11.76       42           42   \n",
       "4                3     69850          16.39       21           21   \n",
       "\n",
       "  carclass2013  carclass_id2013  \n",
       "0            C                1  \n",
       "1            C                1  \n",
       "2            M                3  \n",
       "3            C                1  \n",
       "4          SUV                6  "
      ]
     },
     "execution_count": 71,
     "metadata": {},
     "output_type": "execute_result"
    }
   ],
   "source": [
    "hybrid201213 = pd.read_excel('../datasets/hybrid2012-13.xlsx')\n",
    "hybrid201213.head()"
   ]
  },
  {
   "cell_type": "markdown",
   "id": "f5891dbe-539e-49c9-ab44-bd52f81ca85e",
   "metadata": {},
   "source": [
    "Notice that it has the same variables repeated twice, once for 2012, and once for 2013. You'll also notice that the number of rows is greatly reduced form the dataset with only hybrid cars from 2013. This is because only those cars that had an entry for both 2012 and 2013 were included.\n",
    "\n",
    "You will be testing to see if the price of hybrid cars changes from 2012 to 2013."
   ]
  },
  {
   "cell_type": "markdown",
   "id": "d4a0d9c3-3494-49b5-9258-38acf9f856a3",
   "metadata": {},
   "source": [
    "## Testing Assumptions - normality"
   ]
  },
  {
   "cell_type": "markdown",
   "id": "09911b2e-4563-4c7e-a84e-91dd2b02869b",
   "metadata": {},
   "source": [
    "As with independent t-tests, you'll need a histogram for each variable."
   ]
  },
  {
   "cell_type": "code",
   "execution_count": 73,
   "id": "4bdaef05-ae3b-43d2-aab6-bcba226e1350",
   "metadata": {},
   "outputs": [
    {
     "data": {
      "text/plain": [
       "<AxesSubplot:>"
      ]
     },
     "execution_count": 73,
     "metadata": {},
     "output_type": "execute_result"
    },
    {
     "data": {
      "image/png": "[encoded data removed]",
      "text/plain": [
       "<Figure size 432x288 with 1 Axes>"
      ]
     },
     "metadata": {
      "needs_background": "light"
     },
     "output_type": "display_data"
    }
   ],
   "source": [
    "hybrid201213['msrp2012'].hist()\n",
    "# 2012 msrp histogram"
   ]
  },
  {
   "cell_type": "code",
   "execution_count": 75,
   "id": "49693d8c-48d8-4d77-a483-19c846413a05",
   "metadata": {},
   "outputs": [
    {
     "data": {
      "text/plain": [
       "<AxesSubplot:>"
      ]
     },
     "execution_count": 75,
     "metadata": {},
     "output_type": "execute_result"
    },
    {
     "data": {
      "image/png": "[encoded data removed]",
      "text/plain": [
       "<Figure size 432x288 with 1 Axes>"
      ]
     },
     "metadata": {
      "needs_background": "light"
     },
     "output_type": "display_data"
    }
   ],
   "source": [
    "hybrid201213['msrp2013'].hist()\n",
    "# 2013 msrp histogram"
   ]
  },
  {
   "cell_type": "markdown",
   "id": "19d895a1-2d72-4f67-a274-f4d56ec43036",
   "metadata": {},
   "source": [
    "Not really normally distributed, but ignore for now for the purposes of learning."
   ]
  },
  {
   "cell_type": "markdown",
   "id": "5f71b4dc-0b0e-45c1-8e9c-c7334feecab0",
   "metadata": {},
   "source": [
    "## Analysis time"
   ]
  },
  {
   "cell_type": "markdown",
   "id": "c09bbab1-d3c1-4174-8996-5297b85cfa59",
   "metadata": {},
   "source": [
    "You can use the function stats.ttest_rel() to compute a dependent t-test in Python. Think of the _rel as standing for related, since the samples are paired. The only arguments are the two columns of data you want to use."
   ]
  },
  {
   "cell_type": "code",
   "execution_count": 78,
   "id": "d5a67d5d-e7d2-4968-b85c-e4deb9a4d07e",
   "metadata": {},
   "outputs": [
    {
     "data": {
      "text/plain": [
       "Ttest_relResult(statistic=0.23749650777597428, pvalue=0.8162780348473798)"
      ]
     },
     "execution_count": 78,
     "metadata": {},
     "output_type": "execute_result"
    }
   ],
   "source": [
    "stats.ttest_rel(hybrid201213['msrp2012'], hybrid201213['msrp2013'])"
   ]
  },
  {
   "cell_type": "code",
   "execution_count": 79,
   "id": "91ee0b83-2fa5-44cd-9f13-ba61ebec0237",
   "metadata": {},
   "outputs": [],
   "source": [
    "## This shows that there is NO significant change in hybrid car price from 2012 to 2013, since the p value is not less than .05."
   ]
  },
  {
   "cell_type": "code",
   "execution_count": 80,
   "id": "5205215a-b88b-400f-a28c-443d40aa0822",
   "metadata": {},
   "outputs": [],
   "source": [
    "#### Page 9"
   ]
  },
  {
   "cell_type": "markdown",
   "id": "c360f744-b37a-4579-b098-497055754d2d",
   "metadata": {},
   "source": [
    "For your Activity, you will be computing an dependent t-test to see if the miles per gallon changes between 2012 and 2013.\n",
    "\n",
    "Determine if the mean miles per gallon changes from 2012 to 2013. To do this, you will need to test for the assumption of normality for both groups by creating a histogram, and then run a dependent ttest."
   ]
  },
  {
   "cell_type": "markdown",
   "id": "4751570e-4afd-4ece-b591-61cfebd498b8",
   "metadata": {},
   "source": [
    "#### normality testing"
   ]
  },
  {
   "cell_type": "code",
   "execution_count": 82,
   "id": "72e9163e-c614-4b88-93eb-268abe205e31",
   "metadata": {},
   "outputs": [
    {
     "data": {
      "text/plain": [
       "<AxesSubplot:>"
      ]
     },
     "execution_count": 82,
     "metadata": {},
     "output_type": "execute_result"
    },
    {
     "data": {
      "image/png": "[encoded data removed]",
      "text/plain": [
       "<Figure size 432x288 with 1 Axes>"
      ]
     },
     "metadata": {
      "needs_background": "light"
     },
     "output_type": "display_data"
    }
   ],
   "source": [
    "hybrid201213['mpg2012'].hist()\n",
    "# 2012 mpg histogram"
   ]
  },
  {
   "cell_type": "code",
   "execution_count": 83,
   "id": "08e3e50d-3726-4874-ae8b-c341e463712b",
   "metadata": {},
   "outputs": [
    {
     "data": {
      "text/plain": [
       "<AxesSubplot:>"
      ]
     },
     "execution_count": 83,
     "metadata": {},
     "output_type": "execute_result"
    },
    {
     "data": {
      "image/png": "[encoded data removed]",
      "text/plain": [
       "<Figure size 432x288 with 1 Axes>"
      ]
     },
     "metadata": {
      "needs_background": "light"
     },
     "output_type": "display_data"
    }
   ],
   "source": [
    "hybrid201213['mpg2013'].hist()\n",
    "# 2013 mpg histogram"
   ]
  },
  {
   "cell_type": "code",
   "execution_count": 84,
   "id": "8eeb90c3-cfbd-470c-9664-ae74f3b95874",
   "metadata": {},
   "outputs": [],
   "source": [
    "#### Not normally distributed, continue the activity."
   ]
  },
  {
   "cell_type": "markdown",
   "id": "20be61fe-ef60-4a1c-8646-b2f52aa1be92",
   "metadata": {},
   "source": [
    "#### Analysis of mpg from 2012 to 2013"
   ]
  },
  {
   "cell_type": "code",
   "execution_count": 86,
   "id": "18615c48-350c-4283-a65f-dc15eea76551",
   "metadata": {},
   "outputs": [
    {
     "data": {
      "text/plain": [
       "Ttest_relResult(statistic=0.14466598084438312, pvalue=0.8873759030512348)"
      ]
     },
     "execution_count": 86,
     "metadata": {},
     "output_type": "execute_result"
    }
   ],
   "source": [
    "stats.ttest_rel(hybrid201213['mpg2012'], hybrid201213['mpg2013'])"
   ]
  },
  {
   "cell_type": "code",
   "execution_count": 88,
   "id": "901aac61-b1d9-47e8-b837-a33987cac80e",
   "metadata": {},
   "outputs": [
    {
     "data": {
      "text/plain": [
       "34.0"
      ]
     },
     "execution_count": 88,
     "metadata": {},
     "output_type": "execute_result"
    }
   ],
   "source": [
    "## p-value shows no significance, t-value very small.\n",
    "## check averages for fun\n",
    "hybrid201213['mpg2012'].mean()"
   ]
  },
  {
   "cell_type": "code",
   "execution_count": 89,
   "id": "076244df-e64c-4611-aee9-061696209309",
   "metadata": {},
   "outputs": [
    {
     "data": {
      "text/plain": [
       "33.46153846153846"
      ]
     },
     "execution_count": 89,
     "metadata": {},
     "output_type": "execute_result"
    }
   ],
   "source": [
    "hybrid201213['mpg2013'].mean()"
   ]
  },
  {
   "cell_type": "markdown",
   "id": "c7e910d2-b8db-4e8c-a09a-2e3f902a5252",
   "metadata": {},
   "source": [
    "### within half a mile of each other - 2012 having the higher of the two"
   ]
  },
  {
   "cell_type": "code",
   "execution_count": 90,
   "id": "4df45804-84b2-434a-a110-0d30dbeea0d9",
   "metadata": {},
   "outputs": [],
   "source": [
    "#### Page 10 is solution for above activity"
   ]
  },
  {
   "cell_type": "code",
   "execution_count": 91,
   "id": "1f0a5758-202f-4d53-ab64-9590705ae2ed",
   "metadata": {},
   "outputs": [],
   "source": [
    "#### Page 11"
   ]
  },
  {
   "cell_type": "markdown",
   "id": "89a40820-a066-42cf-aa43-13d78a1a65be",
   "metadata": {},
   "source": [
    "# Independent Chi-Square"
   ]
  },
  {
   "cell_type": "markdown",
   "id": "f51ed24a-5052-40de-a272-db7258c110fc",
   "metadata": {},
   "source": [
    "##### remember the code for doing Chi-Squares in Python requires a crosstab, not raw data\n",
    "\n",
    "###### An independent Chi-Square is used when you want to determine whether two categorical variables influence each other."
   ]
  },
  {
   "cell_type": "code",
   "execution_count": 94,
   "id": "556464e1-499b-434d-a242-43b2d769449f",
   "metadata": {},
   "outputs": [
    {
     "data": {
      "text/html": [
       "<div>\n",
       "<style scoped>\n",
       "    .dataframe tbody tr th:only-of-type {\n",
       "        vertical-align: middle;\n",
       "    }\n",
       "\n",
       "    .dataframe tbody tr th {\n",
       "        vertical-align: top;\n",
       "    }\n",
       "\n",
       "    .dataframe thead th {\n",
       "        text-align: right;\n",
       "    }\n",
       "</style>\n",
       "<table border=\"1\" class=\"dataframe\">\n",
       "  <thead>\n",
       "    <tr style=\"text-align: right;\">\n",
       "      <th></th>\n",
       "      <th>JRC_code</th>\n",
       "      <th>purchCntry</th>\n",
       "      <th>prodCntry</th>\n",
       "      <th>Pb</th>\n",
       "      <th>sdPb</th>\n",
       "      <th>shade</th>\n",
       "      <th>prodType</th>\n",
       "      <th>priceCatgry</th>\n",
       "    </tr>\n",
       "  </thead>\n",
       "  <tbody>\n",
       "    <tr>\n",
       "      <th>0</th>\n",
       "      <td>C135</td>\n",
       "      <td>NL</td>\n",
       "      <td>NL</td>\n",
       "      <td>3.75</td>\n",
       "      <td>0.24</td>\n",
       "      <td>Red</td>\n",
       "      <td>LP</td>\n",
       "      <td>2</td>\n",
       "    </tr>\n",
       "    <tr>\n",
       "      <th>1</th>\n",
       "      <td>C18</td>\n",
       "      <td>FI</td>\n",
       "      <td>FI</td>\n",
       "      <td>2.29</td>\n",
       "      <td>0.07</td>\n",
       "      <td>Red</td>\n",
       "      <td>LP</td>\n",
       "      <td>2</td>\n",
       "    </tr>\n",
       "    <tr>\n",
       "      <th>2</th>\n",
       "      <td>C20</td>\n",
       "      <td>FI</td>\n",
       "      <td>IT</td>\n",
       "      <td>1.27</td>\n",
       "      <td>0.06</td>\n",
       "      <td>Red</td>\n",
       "      <td>LP</td>\n",
       "      <td>2</td>\n",
       "    </tr>\n",
       "    <tr>\n",
       "      <th>3</th>\n",
       "      <td>C164</td>\n",
       "      <td>DE</td>\n",
       "      <td>FR</td>\n",
       "      <td>1.21</td>\n",
       "      <td>0.06</td>\n",
       "      <td>Red</td>\n",
       "      <td>LP</td>\n",
       "      <td>2</td>\n",
       "    </tr>\n",
       "    <tr>\n",
       "      <th>4</th>\n",
       "      <td>C71</td>\n",
       "      <td>MT</td>\n",
       "      <td>UK</td>\n",
       "      <td>0.85</td>\n",
       "      <td>0.04</td>\n",
       "      <td>Red</td>\n",
       "      <td>LP</td>\n",
       "      <td>2</td>\n",
       "    </tr>\n",
       "  </tbody>\n",
       "</table>\n",
       "</div>"
      ],
      "text/plain": [
       "  JRC_code purchCntry prodCntry    Pb  sdPb shade prodType  priceCatgry\n",
       "0     C135         NL        NL  3.75  0.24   Red       LP            2\n",
       "1      C18         FI        FI  2.29  0.07   Red       LP            2\n",
       "2      C20         FI        IT  1.27  0.06   Red       LP            2\n",
       "3     C164         DE        FR  1.21  0.06   Red       LP            2\n",
       "4      C71         MT        UK  0.85  0.04   Red       LP            2"
      ]
     },
     "execution_count": 94,
     "metadata": {},
     "output_type": "execute_result"
    }
   ],
   "source": [
    "# load the data\n",
    "lead_lipstick = pd.read_csv('../datasets/lead_lipstick.csv')\n",
    "lead_lipstick.head()"
   ]
  },
  {
   "cell_type": "markdown",
   "id": "2dda8dcf-fca0-4aad-97d8-36904ba2a745",
   "metadata": {},
   "source": [
    "The data is about the lipstick content in lead. However, it contains some great categorical fields that you'll be using. \n",
    "\n",
    "The first is product type, prodType and it has two levels: LP is lipstick, and LG is lip gloss. \n",
    "\n",
    "The second is price category, priceCatgry, and it has three levels:\n",
    "* 1: < 5 euros\n",
    "* 2: 5-15 euros\n",
    "* 3: > 15 euros\n",
    "\n",
    "You will test to see if the price of the product depends on whether it is a lip stick or a lip gloss."
   ]
  },
  {
   "cell_type": "markdown",
   "id": "ff759355-0d9c-47e6-9914-8b8292b793e4",
   "metadata": {},
   "source": [
    "## Test Assumptions and Run the Analysis\n",
    "\n",
    "There is only one assumption for Chi-Square, and it is that when you are looking at the contingency tables, the expected frequencies for each cell need to have at least 5 entries per cell. In Python, the only way to easily generate an expected frequencies table is actually to run the analysis. So, you will conduct your independent Chi-Square first, and then make sure it meets this assumption!\n",
    "\n",
    "### Create a Contingency Table\n",
    "\n",
    "The first thing that needs to be done, before you can run the independent Chi-Square analysis, is to create a contingency table, sometimes called a crosstab, which shows how each level of each variable crosses with the other variable levels. pandas saves the day with an easy to use function called crosstab():"
   ]
  },
  {
   "cell_type": "code",
   "execution_count": 97,
   "id": "cb35523d-166e-429e-be46-d9d4f116d843",
   "metadata": {},
   "outputs": [
    {
     "data": {
      "text/html": [
       "<div>\n",
       "<style scoped>\n",
       "    .dataframe tbody tr th:only-of-type {\n",
       "        vertical-align: middle;\n",
       "    }\n",
       "\n",
       "    .dataframe tbody tr th {\n",
       "        vertical-align: top;\n",
       "    }\n",
       "\n",
       "    .dataframe thead th {\n",
       "        text-align: right;\n",
       "    }\n",
       "</style>\n",
       "<table border=\"1\" class=\"dataframe\">\n",
       "  <thead>\n",
       "    <tr style=\"text-align: right;\">\n",
       "      <th>priceCatgry</th>\n",
       "      <th>1</th>\n",
       "      <th>2</th>\n",
       "      <th>3</th>\n",
       "    </tr>\n",
       "    <tr>\n",
       "      <th>prodType</th>\n",
       "      <th></th>\n",
       "      <th></th>\n",
       "      <th></th>\n",
       "    </tr>\n",
       "  </thead>\n",
       "  <tbody>\n",
       "    <tr>\n",
       "      <th>LG</th>\n",
       "      <td>19</td>\n",
       "      <td>43</td>\n",
       "      <td>12</td>\n",
       "    </tr>\n",
       "    <tr>\n",
       "      <th>LP</th>\n",
       "      <td>34</td>\n",
       "      <td>92</td>\n",
       "      <td>23</td>\n",
       "    </tr>\n",
       "  </tbody>\n",
       "</table>\n",
       "</div>"
      ],
      "text/plain": [
       "priceCatgry   1   2   3\n",
       "prodType               \n",
       "LG           19  43  12\n",
       "LP           34  92  23"
      ]
     },
     "execution_count": 97,
     "metadata": {},
     "output_type": "execute_result"
    }
   ],
   "source": [
    "lipstick_crosstab = pd.crosstab(lead_lipstick['prodType'], lead_lipstick['priceCatgry'])\n",
    "lipstick_crosstab"
   ]
  },
  {
   "cell_type": "markdown",
   "id": "b9cdfb55-6b86-414b-ba8d-9f8cb20783bc",
   "metadata": {},
   "source": [
    "The three price categories are on the top, and the two different product types are along the side. What is shown in the cells are how many products fit in both categories. For instance, there are 19 lip glosses less than 5 euros.\n",
    "\n"
   ]
  },
  {
   "cell_type": "markdown",
   "id": "5f70eeed-2c18-4de1-ba40-900ac695f515",
   "metadata": {},
   "source": [
    "### Running the Independent Chi-Square\n",
    "\n",
    "Once you have the contingency table, then you can run the function stats.chi2_contingency on the contingency table you have created:"
   ]
  },
  {
   "cell_type": "code",
   "execution_count": 98,
   "id": "71553515-1c48-4d37-bd16-0a6ff8d4c8b2",
   "metadata": {},
   "outputs": [
    {
     "data": {
      "text/plain": [
       "(0.2969891724608704,\n",
       " 0.8620046738525345,\n",
       " 2,\n",
       " array([[17.58744395, 44.79820628, 11.61434978],\n",
       "        [35.41255605, 90.20179372, 23.38565022]]))"
      ]
     },
     "execution_count": 98,
     "metadata": {},
     "output_type": "execute_result"
    }
   ],
   "source": [
    "stats.chi2_contingency(lipstick_crosstab)"
   ]
  },
  {
   "cell_type": "code",
   "execution_count": 99,
   "id": "1c51202f-82e7-4e46-8adc-dc3ed7a7cbe5",
   "metadata": {},
   "outputs": [],
   "source": [
    "## 0.297 is Chi-Square stat\n",
    "## 0.862 is our p-value (from this, we can see no significant relationship b/t product type and product price. neither lipstick nor lipgloss is pricier or cheaper than the other)"
   ]
  },
  {
   "cell_type": "markdown",
   "id": "7bec26e0-7b0a-44cc-a7d9-8eea47136ed6",
   "metadata": {},
   "source": [
    "### Test the Assumption of 5 Cases per Expected Cell\n",
    "\n",
    "The last piece of the output, labeled array, is your expected count contingency table, albeit not a very pretty one! The expected count is what you would expect to happen if there was no relationship between the two variables. Since all of these values are over 5, this means that the assumption has been met, and you are free to present and discuss these results without any limitations!"
   ]
  },
  {
   "cell_type": "code",
   "execution_count": 101,
   "id": "6420a035-377c-47a9-9dfd-9511c5d19423",
   "metadata": {},
   "outputs": [],
   "source": [
    "## the array is close to the real world data"
   ]
  },
  {
   "cell_type": "code",
   "execution_count": 102,
   "id": "ff058e35-bd38-4ffe-a0ed-fed965d04aca",
   "metadata": {},
   "outputs": [],
   "source": [
    "#### Page 12 (activity)"
   ]
  },
  {
   "cell_type": "markdown",
   "id": "0d50d493-87d1-4f28-a737-e2af7a03296f",
   "metadata": {},
   "source": [
    "For your Activity, you will be computing an independent Chi-Square to see if the shade of lipstick and the price category are related.\n",
    "\n",
    "Determine if the shade of lipstick and the price category are related. To do this, you will need to:\n",
    "* Create a contingency table\n",
    "* Test for the assumption of 5 per cell in the expected contingency table\n",
    "* Compute an independent Chi-Square"
   ]
  },
  {
   "cell_type": "code",
   "execution_count": 104,
   "id": "aee6405a-e0a9-48ef-97e0-96c80fc51939",
   "metadata": {},
   "outputs": [
    {
     "data": {
      "text/html": [
       "<div>\n",
       "<style scoped>\n",
       "    .dataframe tbody tr th:only-of-type {\n",
       "        vertical-align: middle;\n",
       "    }\n",
       "\n",
       "    .dataframe tbody tr th {\n",
       "        vertical-align: top;\n",
       "    }\n",
       "\n",
       "    .dataframe thead th {\n",
       "        text-align: right;\n",
       "    }\n",
       "</style>\n",
       "<table border=\"1\" class=\"dataframe\">\n",
       "  <thead>\n",
       "    <tr style=\"text-align: right;\">\n",
       "      <th></th>\n",
       "      <th>JRC_code</th>\n",
       "      <th>purchCntry</th>\n",
       "      <th>prodCntry</th>\n",
       "      <th>Pb</th>\n",
       "      <th>sdPb</th>\n",
       "      <th>shade</th>\n",
       "      <th>prodType</th>\n",
       "      <th>priceCatgry</th>\n",
       "    </tr>\n",
       "  </thead>\n",
       "  <tbody>\n",
       "    <tr>\n",
       "      <th>0</th>\n",
       "      <td>C135</td>\n",
       "      <td>NL</td>\n",
       "      <td>NL</td>\n",
       "      <td>3.75</td>\n",
       "      <td>0.24</td>\n",
       "      <td>Red</td>\n",
       "      <td>LP</td>\n",
       "      <td>2</td>\n",
       "    </tr>\n",
       "    <tr>\n",
       "      <th>1</th>\n",
       "      <td>C18</td>\n",
       "      <td>FI</td>\n",
       "      <td>FI</td>\n",
       "      <td>2.29</td>\n",
       "      <td>0.07</td>\n",
       "      <td>Red</td>\n",
       "      <td>LP</td>\n",
       "      <td>2</td>\n",
       "    </tr>\n",
       "    <tr>\n",
       "      <th>2</th>\n",
       "      <td>C20</td>\n",
       "      <td>FI</td>\n",
       "      <td>IT</td>\n",
       "      <td>1.27</td>\n",
       "      <td>0.06</td>\n",
       "      <td>Red</td>\n",
       "      <td>LP</td>\n",
       "      <td>2</td>\n",
       "    </tr>\n",
       "    <tr>\n",
       "      <th>3</th>\n",
       "      <td>C164</td>\n",
       "      <td>DE</td>\n",
       "      <td>FR</td>\n",
       "      <td>1.21</td>\n",
       "      <td>0.06</td>\n",
       "      <td>Red</td>\n",
       "      <td>LP</td>\n",
       "      <td>2</td>\n",
       "    </tr>\n",
       "    <tr>\n",
       "      <th>4</th>\n",
       "      <td>C71</td>\n",
       "      <td>MT</td>\n",
       "      <td>UK</td>\n",
       "      <td>0.85</td>\n",
       "      <td>0.04</td>\n",
       "      <td>Red</td>\n",
       "      <td>LP</td>\n",
       "      <td>2</td>\n",
       "    </tr>\n",
       "  </tbody>\n",
       "</table>\n",
       "</div>"
      ],
      "text/plain": [
       "  JRC_code purchCntry prodCntry    Pb  sdPb shade prodType  priceCatgry\n",
       "0     C135         NL        NL  3.75  0.24   Red       LP            2\n",
       "1      C18         FI        FI  2.29  0.07   Red       LP            2\n",
       "2      C20         FI        IT  1.27  0.06   Red       LP            2\n",
       "3     C164         DE        FR  1.21  0.06   Red       LP            2\n",
       "4      C71         MT        UK  0.85  0.04   Red       LP            2"
      ]
     },
     "execution_count": 104,
     "metadata": {},
     "output_type": "execute_result"
    }
   ],
   "source": [
    "lead_lipstick.head()"
   ]
  },
  {
   "cell_type": "code",
   "execution_count": 105,
   "id": "1e63ebd3-9838-4505-9b7a-0d2ffc7a23ae",
   "metadata": {},
   "outputs": [
    {
     "data": {
      "text/plain": [
       "Pink      81\n",
       "Brown     60\n",
       "Red       45\n",
       "Purple    37\n",
       "Name: shade, dtype: int64"
      ]
     },
     "execution_count": 105,
     "metadata": {},
     "output_type": "execute_result"
    }
   ],
   "source": [
    "lead_lipstick.shade.value_counts()"
   ]
  },
  {
   "cell_type": "markdown",
   "id": "aa8dbe7d-d5b7-4d05-8176-1cf1fecdd018",
   "metadata": {},
   "source": [
    "##### Contingency Table"
   ]
  },
  {
   "cell_type": "code",
   "execution_count": 107,
   "id": "51eb84b9-8660-45f9-9181-d8cacab2627c",
   "metadata": {},
   "outputs": [
    {
     "data": {
      "text/html": [
       "<div>\n",
       "<style scoped>\n",
       "    .dataframe tbody tr th:only-of-type {\n",
       "        vertical-align: middle;\n",
       "    }\n",
       "\n",
       "    .dataframe tbody tr th {\n",
       "        vertical-align: top;\n",
       "    }\n",
       "\n",
       "    .dataframe thead th {\n",
       "        text-align: right;\n",
       "    }\n",
       "</style>\n",
       "<table border=\"1\" class=\"dataframe\">\n",
       "  <thead>\n",
       "    <tr style=\"text-align: right;\">\n",
       "      <th>priceCatgry</th>\n",
       "      <th>1</th>\n",
       "      <th>2</th>\n",
       "      <th>3</th>\n",
       "    </tr>\n",
       "    <tr>\n",
       "      <th>shade</th>\n",
       "      <th></th>\n",
       "      <th></th>\n",
       "      <th></th>\n",
       "    </tr>\n",
       "  </thead>\n",
       "  <tbody>\n",
       "    <tr>\n",
       "      <th>Brown</th>\n",
       "      <td>20</td>\n",
       "      <td>30</td>\n",
       "      <td>10</td>\n",
       "    </tr>\n",
       "    <tr>\n",
       "      <th>Pink</th>\n",
       "      <td>20</td>\n",
       "      <td>49</td>\n",
       "      <td>12</td>\n",
       "    </tr>\n",
       "    <tr>\n",
       "      <th>Purple</th>\n",
       "      <td>8</td>\n",
       "      <td>23</td>\n",
       "      <td>6</td>\n",
       "    </tr>\n",
       "    <tr>\n",
       "      <th>Red</th>\n",
       "      <td>5</td>\n",
       "      <td>33</td>\n",
       "      <td>7</td>\n",
       "    </tr>\n",
       "  </tbody>\n",
       "</table>\n",
       "</div>"
      ],
      "text/plain": [
       "priceCatgry   1   2   3\n",
       "shade                  \n",
       "Brown        20  30  10\n",
       "Pink         20  49  12\n",
       "Purple        8  23   6\n",
       "Red           5  33   7"
      ]
     },
     "execution_count": 107,
     "metadata": {},
     "output_type": "execute_result"
    }
   ],
   "source": [
    "lipstick_crosstab2 = pd.crosstab(lead_lipstick['shade'], lead_lipstick['priceCatgry'])\n",
    "lipstick_crosstab2"
   ]
  },
  {
   "cell_type": "markdown",
   "id": "53bdf95d-8c08-4c83-a764-58bb747daec1",
   "metadata": {},
   "source": [
    "##### compute independent Chi-Square"
   ]
  },
  {
   "cell_type": "code",
   "execution_count": 109,
   "id": "4fd6e1ac-0ab5-4eac-92a0-7ff75f5f73ad",
   "metadata": {},
   "outputs": [
    {
     "data": {
      "text/plain": [
       "(7.860569553614045,\n",
       " 0.2484973879479863,\n",
       " 6,\n",
       " array([[14.26008969, 36.32286996,  9.41704036],\n",
       "        [19.25112108, 49.03587444, 12.71300448],\n",
       "        [ 8.79372197, 22.39910314,  5.80717489],\n",
       "        [10.69506726, 27.24215247,  7.06278027]]))"
      ]
     },
     "execution_count": 109,
     "metadata": {},
     "output_type": "execute_result"
    }
   ],
   "source": [
    "stats.chi2_contingency(lipstick_crosstab2)"
   ]
  },
  {
   "cell_type": "code",
   "execution_count": 111,
   "id": "4955a3ac-b9e1-4ad2-8dfb-2e467ad5c5ff",
   "metadata": {},
   "outputs": [],
   "source": [
    "## 7.8601 is out Chi-Square stat\n",
    "## 0.24 pivalue shows that there is no significant difference b/t shade and price. shade does not affect price"
   ]
  },
  {
   "cell_type": "markdown",
   "id": "91f3c067-1917-496d-959b-1613682c5e67",
   "metadata": {},
   "source": [
    "##### Test the assumption of 5 per cell"
   ]
  },
  {
   "cell_type": "code",
   "execution_count": 112,
   "id": "d2c402c1-4807-4efc-86b2-fd21626b5ec1",
   "metadata": {},
   "outputs": [],
   "source": [
    "## our array has at least 5 cases per cell - this meets the assumption"
   ]
  },
  {
   "cell_type": "code",
   "execution_count": 113,
   "id": "abc11848-ff97-44c4-80c7-05d2cfc08a53",
   "metadata": {},
   "outputs": [],
   "source": [
    "#### Page 13 (solution to above activity)"
   ]
  },
  {
   "cell_type": "code",
   "execution_count": 114,
   "id": "e55dc4e4-57c3-411d-8e95-52233cc7e79d",
   "metadata": {},
   "outputs": [],
   "source": [
    "#### Page 14"
   ]
  },
  {
   "cell_type": "code",
   "execution_count": null,
   "id": "7cafedea-ac64-4ffb-829a-a16c546856a1",
   "metadata": {},
   "outputs": [],
   "source": []
  }
 ],
 "metadata": {
  "kernelspec": {
   "display_name": "Python 3",
   "language": "python",
   "name": "python3"
  },
  "language_info": {
   "codemirror_mode": {
    "name": "ipython",
    "version": 3
   },
   "file_extension": ".py",
   "mimetype": "text/x-python",
   "name": "python",
   "nbconvert_exporter": "python",
   "pygments_lexer": "ipython3",
   "version": "3.8.8"
  }
 },
 "nbformat": 4,
 "nbformat_minor": 5
}
