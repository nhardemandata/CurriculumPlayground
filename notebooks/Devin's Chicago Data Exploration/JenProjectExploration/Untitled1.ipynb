{
 "cells": [
  {
   "cell_type": "code",
   "execution_count": 1,
   "id": "16eaa01e-8159-44df-a84a-92c7198bc198",
   "metadata": {},
   "outputs": [],
   "source": [
    "import sqlite3"
   ]
  },
  {
   "cell_type": "code",
   "execution_count": 2,
   "id": "404ecdc0-8651-46f1-ad1d-33624eaf71b4",
   "metadata": {},
   "outputs": [],
   "source": [
    "conn = sqlite3.connect('/Users/devinmoya/Downloads/chinook.db')"
   ]
  },
  {
   "cell_type": "code",
   "execution_count": 7,
   "id": "f7decc2c-4154-4d85-8abc-db2977a793a4",
   "metadata": {},
   "outputs": [
    {
     "name": "stdout",
     "output_type": "stream",
     "text": [
      "[('albums',), ('sqlite_sequence',), ('artists',), ('customers',), ('employees',), ('genres',), ('invoices',), ('invoice_items',), ('media_types',), ('playlists',), ('playlist_track',), ('tracks',), ('sqlite_stat1',), ('ProductList',), ('Customers1',)]\n"
     ]
    }
   ],
   "source": [
    "cursor = conn. cursor()\n",
    "cursor. execute(\"SELECT name FROM sqlite_master WHERE type='table';\")\n",
    "print(cursor. fetchall())"
   ]
  },
  {
   "cell_type": "code",
   "execution_count": 10,
   "id": "94c5b402-231c-4c99-9ed6-5bf41479a567",
   "metadata": {},
   "outputs": [
    {
     "name": "stdout",
     "output_type": "stream",
     "text": [
      "<sqlite3.Cursor object at 0x7f86725ed1f0>\n"
     ]
    }
   ],
   "source": [
    "conn.execute(\"Select * FROM albums\")"
   ]
  },
  {
   "cell_type": "code",
   "execution_count": null,
   "id": "4c96f7a3-5242-4973-be6e-75ae43b8f9bb",
   "metadata": {},
   "outputs": [],
   "source": []
  }
 ],
 "metadata": {
  "kernelspec": {
   "display_name": "Python 3",
   "language": "python",
   "name": "python3"
  },
  "language_info": {
   "codemirror_mode": {
    "name": "ipython",
    "version": 3
   },
   "file_extension": ".py",
   "mimetype": "text/x-python",
   "name": "python",
   "nbconvert_exporter": "python",
   "pygments_lexer": "ipython3",
   "version": "3.8.8"
  }
 },
 "nbformat": 4,
 "nbformat_minor": 5
}
