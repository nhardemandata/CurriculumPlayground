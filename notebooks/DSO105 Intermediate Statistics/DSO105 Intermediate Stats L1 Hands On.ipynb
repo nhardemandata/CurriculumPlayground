{
 "cells": [
  {
   "cell_type": "markdown",
   "id": "2d623423-8f3f-4df6-86cb-bbbfe2a60806",
   "metadata": {},
   "source": [
    "### DSO105 Intermediate Stats L1 Hands On"
   ]
  },
  {
   "cell_type": "code",
   "execution_count": 3,
   "id": "14dc38ea-c1c4-49eb-9489-4369ed817bb2",
   "metadata": {},
   "outputs": [],
   "source": [
    "## import packages"
   ]
  },
  {
   "cell_type": "code",
   "execution_count": 2,
   "id": "918d70b8-3755-45f7-95d9-623dbcf01ab2",
   "metadata": {},
   "outputs": [],
   "source": [
    "import pandas as pd\n",
    "import numpy as np\n",
    "from scipy.stats import norm\n",
    "from scipy import stats\n",
    "from scipy.stats import ttest_ind\n",
    "import matplotlib.pyplot as plt\n",
    "import seaborn as sns"
   ]
  },
  {
   "cell_type": "code",
   "execution_count": 4,
   "id": "d6607cbe-47fc-49c5-8fa8-4d7a3f923741",
   "metadata": {},
   "outputs": [],
   "source": [
    "## laod data"
   ]
  },
  {
   "cell_type": "code",
   "execution_count": 3,
   "id": "5637324d-2cb6-49b0-8f0f-63e528449967",
   "metadata": {},
   "outputs": [],
   "source": [
    "anime = pd.read_csv('../../datasets/anime.csv')"
   ]
  },
  {
   "cell_type": "code",
   "execution_count": null,
   "id": "04a3ace9-75b3-4364-b26d-1e7607a48d47",
   "metadata": {},
   "outputs": [],
   "source": [
    "## playing around with bang (!) symbol"
   ]
  },
  {
   "cell_type": "code",
   "execution_count": 4,
   "id": "3d2818f7-115b-4093-b061-c74b70fd371b",
   "metadata": {},
   "outputs": [
    {
     "name": "stdout",
     "output_type": "stream",
     "text": [
      " Volume in drive C is OS\n",
      " Volume Serial Number is 10FB-5B8D\n",
      "\n",
      " Directory of C:\\Users\\nolan\\OneDrive\\Documents\\GitHub\\CurriculumPlayground\\notebooks\\Intermediate Statistics\n",
      "\n",
      "07/27/2021  01:12 PM    <DIR>          .\n",
      "07/27/2021  01:12 PM    <DIR>          ..\n",
      "07/27/2021  01:10 PM    <DIR>          .ipynb_checkpoints\n",
      "07/27/2021  12:55 PM            80,348 DSO105 Intermediate Stats L1 Hands On.ipynb\n",
      "07/27/2021  01:04 PM           463,947 DSO105 Intermediate Stats L1.ipynb\n",
      "07/27/2021  01:06 PM           634,731 DSO105 Intermediate Stats L2 - Python (starting with page 7).ipynb\n",
      "07/27/2021  01:07 PM           367,289 DSO105 Intermediate Stats L2 - R.ipynb\n",
      "07/27/2021  01:07 PM           212,966 DSO105 Intermediate Stats L2 Hands On - Python.ipynb\n",
      "07/27/2021  01:08 PM           182,541 DSO105 Intermediate Stats L2 Hands On - R.ipynb\n",
      "07/27/2021  01:09 PM            41,849 DSO105 Intermediate Stats L3 - Python.ipynb\n",
      "07/27/2021  01:09 PM            75,333 DSO105 Intermediate Stats L3 - R.ipynb\n",
      "07/27/2021  01:10 PM            28,122 DSO105 Intermediate Stats L3 Hands On - R.ipynb\n",
      "07/27/2021  01:12 PM            72,551 DSO105 Intermediate Stats L4 - R.ipynb\n",
      "              10 File(s)      2,159,677 bytes\n",
      "               3 Dir(s)  606,663,041,024 bytes free\n"
     ]
    }
   ],
   "source": [
    "! dir\n",
    "\n",
    "## shows me which directory I am working in"
   ]
  },
  {
   "cell_type": "code",
   "execution_count": 28,
   "id": "6567edb9-0651-4e54-a5e7-5d07a5e39bf6",
   "metadata": {},
   "outputs": [
    {
     "name": "stdout",
     "output_type": "stream",
     "text": [
      "\n",
      "Pinging google.com [2607:f8b0:4000:810::200e] with 32 bytes of data:\n",
      "Reply from 2607:f8b0:4000:810::200e: time=17ms \n",
      "Reply from 2607:f8b0:4000:810::200e: time=18ms \n",
      "Reply from 2607:f8b0:4000:810::200e: time=19ms \n",
      "Reply from 2607:f8b0:4000:810::200e: time=18ms \n",
      "\n",
      "Ping statistics for 2607:f8b0:4000:810::200e:\n",
      "    Packets: Sent = 4, Received = 4, Lost = 0 (0% loss),\n",
      "Approximate round trip times in milli-seconds:\n",
      "    Minimum = 17ms, Maximum = 19ms, Average = 18ms\n"
     ]
    }
   ],
   "source": [
    "! ping google.com\n",
    "\n",
    "## just pings the outside site of google"
   ]
  },
  {
   "cell_type": "code",
   "execution_count": 29,
   "id": "79ee5535-5572-4158-8320-fb92449bc3b1",
   "metadata": {},
   "outputs": [
    {
     "name": "stdout",
     "output_type": "stream",
     "text": [
      " Volume in drive C is OS\n",
      " Volume Serial Number is 10FB-5B8D\n",
      "\n",
      " Directory of C:\\Users\\nolan\\OneDrive\\Documents\\GitHub\\CurriculumPlayground\\notebooks\n",
      "\n",
      "07/27/2021  12:37 PM    <DIR>          .\n",
      "07/27/2021  12:37 PM    <DIR>          ..\n",
      "07/26/2021  06:47 PM    <DIR>          .ipynb_checkpoints\n",
      "07/26/2021  06:11 PM             3,009 BorderCrossing.ipynb\n",
      "07/26/2021  05:25 PM    <DIR>          Devin's Chicago Data Exploration\n",
      "07/21/2021  10:48 AM            19,028 DSO102 @ L3, beginning page 2_Rplayground.ipynb\n",
      "07/22/2021  12:17 PM    <DIR>          DSO104 L1 HandsOn R + Python\n",
      "07/27/2021  12:54 PM    <DIR>          Intermediate Statistics\n",
      "07/26/2021  06:15 PM             4,044 Untitled.ipynb\n",
      "07/26/2021  06:22 PM             2,286 Untitled1.ipynb\n",
      "07/26/2021  06:46 PM             3,248 Untitled2.ipynb\n",
      "07/26/2021  06:49 PM             2,253 Untitled3.ipynb\n",
      "               6 File(s)         33,868 bytes\n",
      "               6 Dir(s)  607,044,587,520 bytes free\n"
     ]
    }
   ],
   "source": [
    "! dir ..\n",
    "\n",
    "## goes back 1 directory from the one I am working"
   ]
  },
  {
   "cell_type": "code",
   "execution_count": 30,
   "id": "7bf9d894-749f-4409-82c5-34cf24ec92e6",
   "metadata": {},
   "outputs": [
    {
     "name": "stdout",
     "output_type": "stream",
     "text": [
      " Volume in drive C is OS\n",
      " Volume Serial Number is 10FB-5B8D\n",
      "\n",
      " Directory of C:\\Users\\nolan\\OneDrive\\Documents\\GitHub\\CurriculumPlayground\n",
      "\n",
      "07/20/2021  03:06 PM    <DIR>          .\n",
      "07/20/2021  03:06 PM    <DIR>          ..\n",
      "07/19/2021  09:33 PM                30 .gitignore\n",
      "07/20/2021  03:06 PM    <DIR>          .ipynb_checkpoints\n",
      "07/19/2021  04:00 PM             6,610 1_Install_R.ipynb\n",
      "07/27/2021  11:20 AM    <DIR>          datasets\n",
      "07/26/2021  04:32 PM    <DIR>          media\n",
      "07/27/2021  12:37 PM    <DIR>          notebooks\n",
      "07/19/2021  09:20 PM                22 README.md\n",
      "               3 File(s)          6,662 bytes\n",
      "               6 Dir(s)  607,043,780,608 bytes free\n"
     ]
    }
   ],
   "source": [
    "! dir ..\\..\n",
    "\n",
    "## goes back 2 directories from where I am working"
   ]
  },
  {
   "cell_type": "code",
   "execution_count": 26,
   "id": "b6b2c1b2-10f1-432f-b3f7-085ddfd41e07",
   "metadata": {},
   "outputs": [],
   "source": [
    "## back to coursework"
   ]
  },
  {
   "cell_type": "code",
   "execution_count": 10,
   "id": "b9bbe930-9f02-4b8d-9189-dadf1729eabe",
   "metadata": {},
   "outputs": [
    {
     "data": {
      "text/html": [
       "<div>\n",
       "<style scoped>\n",
       "    .dataframe tbody tr th:only-of-type {\n",
       "        vertical-align: middle;\n",
       "    }\n",
       "\n",
       "    .dataframe tbody tr th {\n",
       "        vertical-align: top;\n",
       "    }\n",
       "\n",
       "    .dataframe thead th {\n",
       "        text-align: right;\n",
       "    }\n",
       "</style>\n",
       "<table border=\"1\" class=\"dataframe\">\n",
       "  <thead>\n",
       "    <tr style=\"text-align: right;\">\n",
       "      <th></th>\n",
       "      <th>anime_id</th>\n",
       "      <th>title</th>\n",
       "      <th>title_english</th>\n",
       "      <th>title_japanese</th>\n",
       "      <th>title_synonyms</th>\n",
       "      <th>image_url</th>\n",
       "      <th>type</th>\n",
       "      <th>source</th>\n",
       "      <th>episodes</th>\n",
       "      <th>status</th>\n",
       "      <th>...</th>\n",
       "      <th>broadcast</th>\n",
       "      <th>related</th>\n",
       "      <th>producer</th>\n",
       "      <th>licensor</th>\n",
       "      <th>studio</th>\n",
       "      <th>genre</th>\n",
       "      <th>opening_theme</th>\n",
       "      <th>ending_theme</th>\n",
       "      <th>duration_min</th>\n",
       "      <th>aired_from_year</th>\n",
       "    </tr>\n",
       "  </thead>\n",
       "  <tbody>\n",
       "    <tr>\n",
       "      <th>0</th>\n",
       "      <td>11013</td>\n",
       "      <td>Inu x Boku SS</td>\n",
       "      <td>Inu X Boku Secret Service</td>\n",
       "      <td>妖狐×僕SS</td>\n",
       "      <td>Youko x Boku SS</td>\n",
       "      <td>https://myanimelist.cdn-dena.com/images/anime/...</td>\n",
       "      <td>TV</td>\n",
       "      <td>Manga</td>\n",
       "      <td>12</td>\n",
       "      <td>Finished Airing</td>\n",
       "      <td>...</td>\n",
       "      <td>Fridays at Unknown</td>\n",
       "      <td>{'Adaptation': [{'mal_id': 17207, 'type': 'man...</td>\n",
       "      <td>Aniplex, Square Enix, Mainichi Broadcasting Sy...</td>\n",
       "      <td>Sentai Filmworks</td>\n",
       "      <td>David Production</td>\n",
       "      <td>Comedy, Supernatural, Romance, Shounen</td>\n",
       "      <td>['\"Nirvana\" by MUCC']</td>\n",
       "      <td>['#1: \"Nirvana\" by MUCC (eps 1, 11-12)', '#2: ...</td>\n",
       "      <td>24.0</td>\n",
       "      <td>2012</td>\n",
       "    </tr>\n",
       "    <tr>\n",
       "      <th>1</th>\n",
       "      <td>2104</td>\n",
       "      <td>Seto no Hanayome</td>\n",
       "      <td>My Bride is a Mermaid</td>\n",
       "      <td>瀬戸の花嫁</td>\n",
       "      <td>The Inland Sea Bride</td>\n",
       "      <td>https://myanimelist.cdn-dena.com/images/anime/...</td>\n",
       "      <td>TV</td>\n",
       "      <td>Manga</td>\n",
       "      <td>26</td>\n",
       "      <td>Finished Airing</td>\n",
       "      <td>...</td>\n",
       "      <td>Unknown</td>\n",
       "      <td>{'Adaptation': [{'mal_id': 759, 'type': 'manga...</td>\n",
       "      <td>TV Tokyo, AIC, Square Enix, Sotsu</td>\n",
       "      <td>Funimation</td>\n",
       "      <td>Gonzo</td>\n",
       "      <td>Comedy, Parody, Romance, School, Shounen</td>\n",
       "      <td>['\"Romantic summer\" by SUN&amp;LUNAR']</td>\n",
       "      <td>['#1: \"Ashita e no Hikari (明日への光)\" by Asuka Hi...</td>\n",
       "      <td>24.0</td>\n",
       "      <td>2007</td>\n",
       "    </tr>\n",
       "    <tr>\n",
       "      <th>2</th>\n",
       "      <td>5262</td>\n",
       "      <td>Shugo Chara!! Doki</td>\n",
       "      <td>Shugo Chara!! Doki</td>\n",
       "      <td>しゅごキャラ！！どきっ</td>\n",
       "      <td>Shugo Chara Ninenme, Shugo Chara! Second Year</td>\n",
       "      <td>https://myanimelist.cdn-dena.com/images/anime/...</td>\n",
       "      <td>TV</td>\n",
       "      <td>Manga</td>\n",
       "      <td>51</td>\n",
       "      <td>Finished Airing</td>\n",
       "      <td>...</td>\n",
       "      <td>Unknown</td>\n",
       "      <td>{'Adaptation': [{'mal_id': 101, 'type': 'manga...</td>\n",
       "      <td>TV Tokyo, Sotsu</td>\n",
       "      <td>NaN</td>\n",
       "      <td>Satelight</td>\n",
       "      <td>Comedy, Magic, School, Shoujo</td>\n",
       "      <td>['#1: \"Minna no Tamago (みんなのたまご)\" by Shugo Cha...</td>\n",
       "      <td>['#1: \"Rottara Rottara (ロッタラ ロッタラ)\" by Buono! ...</td>\n",
       "      <td>24.0</td>\n",
       "      <td>2008</td>\n",
       "    </tr>\n",
       "    <tr>\n",
       "      <th>3</th>\n",
       "      <td>721</td>\n",
       "      <td>Princess Tutu</td>\n",
       "      <td>Princess Tutu</td>\n",
       "      <td>プリンセスチュチュ</td>\n",
       "      <td>NaN</td>\n",
       "      <td>https://myanimelist.cdn-dena.com/images/anime/...</td>\n",
       "      <td>TV</td>\n",
       "      <td>Original</td>\n",
       "      <td>38</td>\n",
       "      <td>Finished Airing</td>\n",
       "      <td>...</td>\n",
       "      <td>Fridays at Unknown</td>\n",
       "      <td>{'Adaptation': [{'mal_id': 1581, 'type': 'mang...</td>\n",
       "      <td>Memory-Tech, GANSIS, Marvelous AQL</td>\n",
       "      <td>ADV Films</td>\n",
       "      <td>Hal Film Maker</td>\n",
       "      <td>Comedy, Drama, Magic, Romance, Fantasy</td>\n",
       "      <td>['\"Morning Grace\" by Ritsuko Okazaki']</td>\n",
       "      <td>['\"Watashi No Ai Wa Chiisaikeredo\" by Ritsuko ...</td>\n",
       "      <td>16.0</td>\n",
       "      <td>2002</td>\n",
       "    </tr>\n",
       "    <tr>\n",
       "      <th>4</th>\n",
       "      <td>12365</td>\n",
       "      <td>Bakuman. 3rd Season</td>\n",
       "      <td>Bakuman.</td>\n",
       "      <td>バクマン。</td>\n",
       "      <td>Bakuman Season 3</td>\n",
       "      <td>https://myanimelist.cdn-dena.com/images/anime/...</td>\n",
       "      <td>TV</td>\n",
       "      <td>Manga</td>\n",
       "      <td>25</td>\n",
       "      <td>Finished Airing</td>\n",
       "      <td>...</td>\n",
       "      <td>Unknown</td>\n",
       "      <td>{'Adaptation': [{'mal_id': 9711, 'type': 'mang...</td>\n",
       "      <td>NHK, Shueisha</td>\n",
       "      <td>NaN</td>\n",
       "      <td>J.C.Staff</td>\n",
       "      <td>Comedy, Drama, Romance, Shounen</td>\n",
       "      <td>['#1: \"Moshimo no Hanashi (もしもの話)\" by nano.RIP...</td>\n",
       "      <td>['#1: \"Pride on Everyday\" by Sphere (eps 1-13)...</td>\n",
       "      <td>24.0</td>\n",
       "      <td>2012</td>\n",
       "    </tr>\n",
       "  </tbody>\n",
       "</table>\n",
       "<p>5 rows × 33 columns</p>\n",
       "</div>"
      ],
      "text/plain": [
       "   anime_id                title              title_english title_japanese  \\\n",
       "0     11013        Inu x Boku SS  Inu X Boku Secret Service         妖狐×僕SS   \n",
       "1      2104     Seto no Hanayome      My Bride is a Mermaid          瀬戸の花嫁   \n",
       "2      5262   Shugo Chara!! Doki         Shugo Chara!! Doki    しゅごキャラ！！どきっ   \n",
       "3       721        Princess Tutu              Princess Tutu      プリンセスチュチュ   \n",
       "4     12365  Bakuman. 3rd Season                   Bakuman.          バクマン。   \n",
       "\n",
       "                                  title_synonyms  \\\n",
       "0                                Youko x Boku SS   \n",
       "1                           The Inland Sea Bride   \n",
       "2  Shugo Chara Ninenme, Shugo Chara! Second Year   \n",
       "3                                            NaN   \n",
       "4                               Bakuman Season 3   \n",
       "\n",
       "                                           image_url type    source  episodes  \\\n",
       "0  https://myanimelist.cdn-dena.com/images/anime/...   TV     Manga        12   \n",
       "1  https://myanimelist.cdn-dena.com/images/anime/...   TV     Manga        26   \n",
       "2  https://myanimelist.cdn-dena.com/images/anime/...   TV     Manga        51   \n",
       "3  https://myanimelist.cdn-dena.com/images/anime/...   TV  Original        38   \n",
       "4  https://myanimelist.cdn-dena.com/images/anime/...   TV     Manga        25   \n",
       "\n",
       "            status  ...           broadcast  \\\n",
       "0  Finished Airing  ...  Fridays at Unknown   \n",
       "1  Finished Airing  ...             Unknown   \n",
       "2  Finished Airing  ...             Unknown   \n",
       "3  Finished Airing  ...  Fridays at Unknown   \n",
       "4  Finished Airing  ...             Unknown   \n",
       "\n",
       "                                             related  \\\n",
       "0  {'Adaptation': [{'mal_id': 17207, 'type': 'man...   \n",
       "1  {'Adaptation': [{'mal_id': 759, 'type': 'manga...   \n",
       "2  {'Adaptation': [{'mal_id': 101, 'type': 'manga...   \n",
       "3  {'Adaptation': [{'mal_id': 1581, 'type': 'mang...   \n",
       "4  {'Adaptation': [{'mal_id': 9711, 'type': 'mang...   \n",
       "\n",
       "                                            producer          licensor  \\\n",
       "0  Aniplex, Square Enix, Mainichi Broadcasting Sy...  Sentai Filmworks   \n",
       "1                  TV Tokyo, AIC, Square Enix, Sotsu        Funimation   \n",
       "2                                    TV Tokyo, Sotsu               NaN   \n",
       "3                 Memory-Tech, GANSIS, Marvelous AQL         ADV Films   \n",
       "4                                      NHK, Shueisha               NaN   \n",
       "\n",
       "             studio                                     genre  \\\n",
       "0  David Production    Comedy, Supernatural, Romance, Shounen   \n",
       "1             Gonzo  Comedy, Parody, Romance, School, Shounen   \n",
       "2         Satelight             Comedy, Magic, School, Shoujo   \n",
       "3    Hal Film Maker    Comedy, Drama, Magic, Romance, Fantasy   \n",
       "4         J.C.Staff           Comedy, Drama, Romance, Shounen   \n",
       "\n",
       "                                       opening_theme  \\\n",
       "0                              ['\"Nirvana\" by MUCC']   \n",
       "1                 ['\"Romantic summer\" by SUN&LUNAR']   \n",
       "2  ['#1: \"Minna no Tamago (みんなのたまご)\" by Shugo Cha...   \n",
       "3             ['\"Morning Grace\" by Ritsuko Okazaki']   \n",
       "4  ['#1: \"Moshimo no Hanashi (もしもの話)\" by nano.RIP...   \n",
       "\n",
       "                                        ending_theme  duration_min  \\\n",
       "0  ['#1: \"Nirvana\" by MUCC (eps 1, 11-12)', '#2: ...          24.0   \n",
       "1  ['#1: \"Ashita e no Hikari (明日への光)\" by Asuka Hi...          24.0   \n",
       "2  ['#1: \"Rottara Rottara (ロッタラ ロッタラ)\" by Buono! ...          24.0   \n",
       "3  ['\"Watashi No Ai Wa Chiisaikeredo\" by Ritsuko ...          16.0   \n",
       "4  ['#1: \"Pride on Everyday\" by Sphere (eps 1-13)...          24.0   \n",
       "\n",
       "   aired_from_year  \n",
       "0             2012  \n",
       "1             2007  \n",
       "2             2008  \n",
       "3             2002  \n",
       "4             2012  \n",
       "\n",
       "[5 rows x 33 columns]"
      ]
     },
     "execution_count": 10,
     "metadata": {},
     "output_type": "execute_result"
    }
   ],
   "source": [
    "anime.head()"
   ]
  },
  {
   "cell_type": "markdown",
   "id": "d7105a4d-e509-4718-b0b5-34b9bab58bc5",
   "metadata": {},
   "source": [
    "### Is a Rating Score of 6.2 Different from the Mean in this Dataset?"
   ]
  },
  {
   "cell_type": "markdown",
   "id": "5117e5fc-6cc7-474b-b3a4-7be8400197cb",
   "metadata": {},
   "source": [
    "#### check for assumptions"
   ]
  },
  {
   "cell_type": "code",
   "execution_count": 12,
   "id": "af19edd5-bb7e-4f12-bb23-1692bb157ff7",
   "metadata": {},
   "outputs": [
    {
     "data": {
      "text/plain": [
       "<AxesSubplot:>"
      ]
     },
     "execution_count": 12,
     "metadata": {},
     "output_type": "execute_result"
    },
    {
     "data": {
      "image/png": "[encoded data removed]",
      "text/plain": [
       "<Figure size 432x288 with 1 Axes>"
      ]
     },
     "metadata": {
      "needs_background": "light"
     },
     "output_type": "display_data"
    }
   ],
   "source": [
    "anime.score.hist()"
   ]
  },
  {
   "cell_type": "code",
   "execution_count": 9,
   "id": "08131a06-810d-4dbd-815b-b2dca06b636e",
   "metadata": {},
   "outputs": [
    {
     "data": {
      "text/plain": [
       "6.848998200359939"
      ]
     },
     "execution_count": 9,
     "metadata": {},
     "output_type": "execute_result"
    }
   ],
   "source": [
    "anime.score.mean()"
   ]
  },
  {
   "cell_type": "markdown",
   "id": "b4513bef-356b-4ea2-895a-3c2248ba736b",
   "metadata": {},
   "source": [
    "### Does Anime that is Still Airing Differ in Popularity from Anime that is No Longer Airing?"
   ]
  },
  {
   "cell_type": "code",
   "execution_count": 13,
   "id": "995037b0-c2c0-447c-814a-d1959d67b199",
   "metadata": {},
   "outputs": [
    {
     "data": {
      "text/plain": [
       "array(['Finished Airing', 'Currently Airing'], dtype=object)"
      ]
     },
     "execution_count": 13,
     "metadata": {},
     "output_type": "execute_result"
    }
   ],
   "source": [
    "anime.status.unique()"
   ]
  },
  {
   "cell_type": "markdown",
   "id": "9d3231af-f315-48c1-95e3-14fd6bd510d8",
   "metadata": {},
   "source": [
    "#### check for assumptions for Finished Airing and Currently Airing"
   ]
  },
  {
   "cell_type": "code",
   "execution_count": 15,
   "id": "a8b723e7-5815-4e14-9f10-878ebf4eb283",
   "metadata": {},
   "outputs": [
    {
     "data": {
      "text/plain": [
       "<AxesSubplot:>"
      ]
     },
     "execution_count": 15,
     "metadata": {},
     "output_type": "execute_result"
    },
    {
     "data": {
      "image/png": "[encoded data removed]",
      "text/plain": [
       "<Figure size 432x288 with 1 Axes>"
      ]
     },
     "metadata": {
      "needs_background": "light"
     },
     "output_type": "display_data"
    }
   ],
   "source": [
    "anime.popularity[anime.status == 'Finished Airing'].hist()\n",
    "## histogram of anime popularity after if finishes its original run"
   ]
  },
  {
   "cell_type": "markdown",
   "id": "d998e397-e839-436c-82dc-38b33d859a9f",
   "metadata": {},
   "source": [
    "##### looks like popularity goes down after an anime has finished producing episodes"
   ]
  },
  {
   "cell_type": "code",
   "execution_count": 16,
   "id": "c952fa51-3c72-4986-9152-61aabf62c108",
   "metadata": {},
   "outputs": [
    {
     "data": {
      "text/plain": [
       "<AxesSubplot:>"
      ]
     },
     "execution_count": 16,
     "metadata": {},
     "output_type": "execute_result"
    },
    {
     "data": {
      "image/png": "[encoded data removed]",
      "text/plain": [
       "<Figure size 432x288 with 1 Axes>"
      ]
     },
     "metadata": {
      "needs_background": "light"
     },
     "output_type": "display_data"
    }
   ],
   "source": [
    "anime.popularity[anime.status == 'Currently Airing'].hist()\n",
    "## histogram of anime popularity that is in its original run"
   ]
  },
  {
   "cell_type": "code",
   "execution_count": 17,
   "id": "d118d7c7-fc26-48fb-8e13-58908acb15b5",
   "metadata": {},
   "outputs": [],
   "source": [
    "## looks like popularity is up and down during an anime's original air"
   ]
  },
  {
   "cell_type": "markdown",
   "id": "e53fb6b7-483e-4651-94ff-672543a8bddf",
   "metadata": {},
   "source": [
    "#### run an independent t-test"
   ]
  },
  {
   "cell_type": "code",
   "execution_count": 19,
   "id": "d5749d19-99ea-46f0-9153-21008b9ba8c4",
   "metadata": {},
   "outputs": [
    {
     "data": {
      "text/plain": [
       "Ttest_indResult(statistic=6.489071311277514, pvalue=9.256789141747445e-11)"
      ]
     },
     "execution_count": 19,
     "metadata": {},
     "output_type": "execute_result"
    }
   ],
   "source": [
    "ttest_ind(anime.popularity[anime.status == 'Currently Airing'], anime.popularity[anime.status == 'Finished Airing'])"
   ]
  },
  {
   "cell_type": "code",
   "execution_count": 20,
   "id": "069d5c1d-2209-486f-aaf9-5621da8129a9",
   "metadata": {},
   "outputs": [],
   "source": [
    "## there appears to be a significant difference"
   ]
  },
  {
   "cell_type": "markdown",
   "id": "455b35a7-6f48-4484-91e1-2afdb1c84bfe",
   "metadata": {},
   "source": [
    "#### look at the means"
   ]
  },
  {
   "cell_type": "code",
   "execution_count": 21,
   "id": "bd62da28-0c2c-4978-a73e-dfb10ba7140b",
   "metadata": {},
   "outputs": [
    {
     "data": {
      "text/plain": [
       "6108.131147540984"
      ]
     },
     "execution_count": 21,
     "metadata": {},
     "output_type": "execute_result"
    }
   ],
   "source": [
    "anime.popularity[anime.status == 'Currently Airing'].mean()"
   ]
  },
  {
   "cell_type": "code",
   "execution_count": 22,
   "id": "475d92c8-4437-4236-aad2-7b7caf5dae70",
   "metadata": {},
   "outputs": [
    {
     "data": {
      "text/plain": [
       "4433.558057054742"
      ]
     },
     "execution_count": 22,
     "metadata": {},
     "output_type": "execute_result"
    }
   ],
   "source": [
    "anime.popularity[anime.status == 'Finished Airing'].mean()"
   ]
  },
  {
   "cell_type": "code",
   "execution_count": 23,
   "id": "99c0a0e4-b9fc-4fe1-996c-0cc55e1136e2",
   "metadata": {},
   "outputs": [],
   "source": [
    "## anime that is currently airing is way more popular than anime that is finished airing"
   ]
  },
  {
   "cell_type": "markdown",
   "id": "224e430a-f549-40eb-a2c6-9f7d9ae5ad25",
   "metadata": {},
   "source": [
    "### Does the Source of the Anime Influence the Type of Anime?"
   ]
  },
  {
   "cell_type": "code",
   "execution_count": 24,
   "id": "d0eb37bc-d3b5-4ba7-8831-652527bc5d70",
   "metadata": {},
   "outputs": [
    {
     "data": {
      "text/plain": [
       "array(['Manga', 'Original', 'Light novel', '4-koma manga', 'Novel',\n",
       "       'Visual novel', 'Other', 'Game', 'Picture book', 'Card game',\n",
       "       'Web manga', 'Book', 'Music', 'Radio', 'Digital manga'],\n",
       "      dtype=object)"
      ]
     },
     "execution_count": 24,
     "metadata": {},
     "output_type": "execute_result"
    }
   ],
   "source": [
    "anime.source.unique()"
   ]
  },
  {
   "cell_type": "code",
   "execution_count": 44,
   "id": "8a88f79c-6fe1-43fc-b53c-8dbf2df6a440",
   "metadata": {},
   "outputs": [],
   "source": [
    "cleanup = {'Manga' : 'Manga', 'Original' : 'Other', 'Light novel' : 'Book', '4-koma manga' : 'Manga', 'Novel' : 'Book', 'Visual novel' : 'Book', 'Other' : 'Other', 'Game' : 'Game',\n",
    "           'Picture book' : 'Novel', 'Card game' : 'Game', 'Web manga' : 'Manga', 'Book' : 'Book', 'Music' : 'Listening', 'Radio' : 'Listening', 'Digital manga' : 'Manga'}"
   ]
  },
  {
   "cell_type": "code",
   "execution_count": 45,
   "id": "163108f3-f7e5-4103-aab9-9c7d7a5b8633",
   "metadata": {},
   "outputs": [],
   "source": [
    "anime2 = anime.replace({'source': cleanup})"
   ]
  },
  {
   "cell_type": "code",
   "execution_count": 46,
   "id": "5405616f-38d4-47ca-8fed-9ba2143f01f5",
   "metadata": {},
   "outputs": [
    {
     "data": {
      "text/plain": [
       "array(['Manga', 'Other', 'Book', 'Game', 'Novel', 'Listening'],\n",
       "      dtype=object)"
      ]
     },
     "execution_count": 46,
     "metadata": {},
     "output_type": "execute_result"
    }
   ],
   "source": [
    "anime2.source.unique()"
   ]
  },
  {
   "cell_type": "markdown",
   "id": "6eb38c68-1ce6-4c9c-8710-ffa00be15290",
   "metadata": {},
   "source": [
    "#### create contingency table"
   ]
  },
  {
   "cell_type": "code",
   "execution_count": 48,
   "id": "481302a7-42a4-4e66-8820-0bab2e364790",
   "metadata": {},
   "outputs": [],
   "source": [
    "crosstab = pd.crosstab(anime2['source'], anime['type'])"
   ]
  },
  {
   "cell_type": "code",
   "execution_count": 49,
   "id": "58d4d6cb-15d9-4476-b0ae-395d82ddcf34",
   "metadata": {},
   "outputs": [
    {
     "data": {
      "text/html": [
       "<div>\n",
       "<style scoped>\n",
       "    .dataframe tbody tr th:only-of-type {\n",
       "        vertical-align: middle;\n",
       "    }\n",
       "\n",
       "    .dataframe tbody tr th {\n",
       "        vertical-align: top;\n",
       "    }\n",
       "\n",
       "    .dataframe thead th {\n",
       "        text-align: right;\n",
       "    }\n",
       "</style>\n",
       "<table border=\"1\" class=\"dataframe\">\n",
       "  <thead>\n",
       "    <tr style=\"text-align: right;\">\n",
       "      <th>type</th>\n",
       "      <th>Movie</th>\n",
       "      <th>Music</th>\n",
       "      <th>ONA</th>\n",
       "      <th>OVA</th>\n",
       "      <th>Special</th>\n",
       "      <th>TV</th>\n",
       "    </tr>\n",
       "    <tr>\n",
       "      <th>source</th>\n",
       "      <th></th>\n",
       "      <th></th>\n",
       "      <th></th>\n",
       "      <th></th>\n",
       "      <th></th>\n",
       "      <th></th>\n",
       "    </tr>\n",
       "  </thead>\n",
       "  <tbody>\n",
       "    <tr>\n",
       "      <th>Book</th>\n",
       "      <td>151</td>\n",
       "      <td>1</td>\n",
       "      <td>57</td>\n",
       "      <td>388</td>\n",
       "      <td>172</td>\n",
       "      <td>552</td>\n",
       "    </tr>\n",
       "    <tr>\n",
       "      <th>Game</th>\n",
       "      <td>83</td>\n",
       "      <td>9</td>\n",
       "      <td>39</td>\n",
       "      <td>57</td>\n",
       "      <td>72</td>\n",
       "      <td>210</td>\n",
       "    </tr>\n",
       "    <tr>\n",
       "      <th>Listening</th>\n",
       "      <td>2</td>\n",
       "      <td>42</td>\n",
       "      <td>0</td>\n",
       "      <td>1</td>\n",
       "      <td>1</td>\n",
       "      <td>14</td>\n",
       "    </tr>\n",
       "    <tr>\n",
       "      <th>Manga</th>\n",
       "      <td>335</td>\n",
       "      <td>12</td>\n",
       "      <td>122</td>\n",
       "      <td>615</td>\n",
       "      <td>393</td>\n",
       "      <td>1328</td>\n",
       "    </tr>\n",
       "    <tr>\n",
       "      <th>Novel</th>\n",
       "      <td>12</td>\n",
       "      <td>1</td>\n",
       "      <td>5</td>\n",
       "      <td>1</td>\n",
       "      <td>2</td>\n",
       "      <td>32</td>\n",
       "    </tr>\n",
       "    <tr>\n",
       "      <th>Other</th>\n",
       "      <td>325</td>\n",
       "      <td>33</td>\n",
       "      <td>185</td>\n",
       "      <td>283</td>\n",
       "      <td>289</td>\n",
       "      <td>844</td>\n",
       "    </tr>\n",
       "  </tbody>\n",
       "</table>\n",
       "</div>"
      ],
      "text/plain": [
       "type       Movie  Music  ONA  OVA  Special    TV\n",
       "source                                          \n",
       "Book         151      1   57  388      172   552\n",
       "Game          83      9   39   57       72   210\n",
       "Listening      2     42    0    1        1    14\n",
       "Manga        335     12  122  615      393  1328\n",
       "Novel         12      1    5    1        2    32\n",
       "Other        325     33  185  283      289   844"
      ]
     },
     "execution_count": 49,
     "metadata": {},
     "output_type": "execute_result"
    }
   ],
   "source": [
    "crosstab"
   ]
  },
  {
   "cell_type": "code",
   "execution_count": 50,
   "id": "39df3acd-99ac-4f9e-ac07-0c0937ed07cc",
   "metadata": {},
   "outputs": [
    {
     "data": {
      "text/plain": [
       "(2213.892681185397,\n",
       " 0.0,\n",
       " 25,\n",
       " array([[1.79884223e+02, 1.94148170e+01, 8.08290342e+01, 2.66458458e+02,\n",
       "         1.84044541e+02, 5.90368926e+02],\n",
       "        [6.40011998e+01, 6.90761848e+00, 2.87582484e+01, 9.48035393e+01,\n",
       "         6.54814037e+01, 2.10047990e+02],\n",
       "        [8.17036593e+00, 8.81823635e-01, 3.67126575e+00, 1.21025795e+01,\n",
       "         8.35932813e+00, 2.68146371e+01],\n",
       "        [3.81964607e+02, 4.12252549e+01, 1.71631674e+02, 5.65795591e+02,\n",
       "         3.90798590e+02, 1.25358428e+03],\n",
       "        [7.21715657e+00, 7.78944211e-01, 3.24295141e+00, 1.06906119e+01,\n",
       "         7.38407319e+00, 2.36862627e+01],\n",
       "        [2.66762448e+02, 2.87915417e+01, 1.19866827e+02, 3.95149220e+02,\n",
       "         2.72932064e+02, 8.75497900e+02]]))"
      ]
     },
     "execution_count": 50,
     "metadata": {},
     "output_type": "execute_result"
    }
   ],
   "source": [
    "stats.chi2_contingency(crosstab)"
   ]
  },
  {
   "cell_type": "code",
   "execution_count": 51,
   "id": "6387f9b0-41da-4187-b0f6-a5b38ead5770",
   "metadata": {},
   "outputs": [],
   "source": [
    "## we can see that the source does influence the type"
   ]
  },
  {
   "cell_type": "markdown",
   "id": "a8613016-a945-4d9e-9f02-44a5c4ef6f27",
   "metadata": {},
   "source": [
    "### How do the Variables about Popularity / Ranking Relate to Each Other?"
   ]
  },
  {
   "cell_type": "code",
   "execution_count": 52,
   "id": "8c1ca99d-a836-4a5f-a9a7-6f62926c6321",
   "metadata": {},
   "outputs": [],
   "source": [
    "## make a df of the variables we are examing"
   ]
  },
  {
   "cell_type": "code",
   "execution_count": 53,
   "id": "46d9cb86-256a-4a98-b134-b84df2c5a6a3",
   "metadata": {},
   "outputs": [],
   "source": [
    "anime3 = anime[['score', 'scored_by', 'rank', 'popularity', 'members', 'favorites']]"
   ]
  },
  {
   "cell_type": "code",
   "execution_count": 54,
   "id": "fa46c0e5-f1fd-44d5-95dd-ba9ee21bdbaa",
   "metadata": {},
   "outputs": [
    {
     "data": {
      "text/html": [
       "<div>\n",
       "<style scoped>\n",
       "    .dataframe tbody tr th:only-of-type {\n",
       "        vertical-align: middle;\n",
       "    }\n",
       "\n",
       "    .dataframe tbody tr th {\n",
       "        vertical-align: top;\n",
       "    }\n",
       "\n",
       "    .dataframe thead th {\n",
       "        text-align: right;\n",
       "    }\n",
       "</style>\n",
       "<table border=\"1\" class=\"dataframe\">\n",
       "  <thead>\n",
       "    <tr style=\"text-align: right;\">\n",
       "      <th></th>\n",
       "      <th>score</th>\n",
       "      <th>scored_by</th>\n",
       "      <th>rank</th>\n",
       "      <th>popularity</th>\n",
       "      <th>members</th>\n",
       "      <th>favorites</th>\n",
       "    </tr>\n",
       "  </thead>\n",
       "  <tbody>\n",
       "    <tr>\n",
       "      <th>0</th>\n",
       "      <td>7.63</td>\n",
       "      <td>139250</td>\n",
       "      <td>1274.0</td>\n",
       "      <td>231</td>\n",
       "      <td>283882</td>\n",
       "      <td>2809</td>\n",
       "    </tr>\n",
       "    <tr>\n",
       "      <th>1</th>\n",
       "      <td>7.89</td>\n",
       "      <td>91206</td>\n",
       "      <td>727.0</td>\n",
       "      <td>366</td>\n",
       "      <td>204003</td>\n",
       "      <td>2579</td>\n",
       "    </tr>\n",
       "    <tr>\n",
       "      <th>2</th>\n",
       "      <td>7.55</td>\n",
       "      <td>37129</td>\n",
       "      <td>1508.0</td>\n",
       "      <td>1173</td>\n",
       "      <td>70127</td>\n",
       "      <td>802</td>\n",
       "    </tr>\n",
       "    <tr>\n",
       "      <th>3</th>\n",
       "      <td>8.21</td>\n",
       "      <td>36501</td>\n",
       "      <td>307.0</td>\n",
       "      <td>916</td>\n",
       "      <td>93312</td>\n",
       "      <td>3344</td>\n",
       "    </tr>\n",
       "    <tr>\n",
       "      <th>4</th>\n",
       "      <td>8.67</td>\n",
       "      <td>107767</td>\n",
       "      <td>50.0</td>\n",
       "      <td>426</td>\n",
       "      <td>182765</td>\n",
       "      <td>2082</td>\n",
       "    </tr>\n",
       "  </tbody>\n",
       "</table>\n",
       "</div>"
      ],
      "text/plain": [
       "   score  scored_by    rank  popularity  members  favorites\n",
       "0   7.63     139250  1274.0         231   283882       2809\n",
       "1   7.89      91206   727.0         366   204003       2579\n",
       "2   7.55      37129  1508.0        1173    70127        802\n",
       "3   8.21      36501   307.0         916    93312       3344\n",
       "4   8.67     107767    50.0         426   182765       2082"
      ]
     },
     "execution_count": 54,
     "metadata": {},
     "output_type": "execute_result"
    }
   ],
   "source": [
    "anime3.head()"
   ]
  },
  {
   "cell_type": "markdown",
   "id": "74eb3528-5940-495c-90e9-0beab7398a1c",
   "metadata": {},
   "source": [
    "#### correlation matrix"
   ]
  },
  {
   "cell_type": "code",
   "execution_count": 57,
   "id": "849f18e2-b374-4d6a-91dc-3723fc5a115e",
   "metadata": {},
   "outputs": [
    {
     "data": {
      "text/html": [
       "<div>\n",
       "<style scoped>\n",
       "    .dataframe tbody tr th:only-of-type {\n",
       "        vertical-align: middle;\n",
       "    }\n",
       "\n",
       "    .dataframe tbody tr th {\n",
       "        vertical-align: top;\n",
       "    }\n",
       "\n",
       "    .dataframe thead th {\n",
       "        text-align: right;\n",
       "    }\n",
       "</style>\n",
       "<table border=\"1\" class=\"dataframe\">\n",
       "  <thead>\n",
       "    <tr style=\"text-align: right;\">\n",
       "      <th></th>\n",
       "      <th>score</th>\n",
       "      <th>scored_by</th>\n",
       "      <th>rank</th>\n",
       "      <th>popularity</th>\n",
       "      <th>members</th>\n",
       "      <th>favorites</th>\n",
       "    </tr>\n",
       "  </thead>\n",
       "  <tbody>\n",
       "    <tr>\n",
       "      <th>score</th>\n",
       "      <td>1.000000</td>\n",
       "      <td>0.381926</td>\n",
       "      <td>-0.898747</td>\n",
       "      <td>-0.688492</td>\n",
       "      <td>0.415626</td>\n",
       "      <td>0.256094</td>\n",
       "    </tr>\n",
       "    <tr>\n",
       "      <th>scored_by</th>\n",
       "      <td>0.381926</td>\n",
       "      <td>1.000000</td>\n",
       "      <td>-0.356686</td>\n",
       "      <td>-0.425719</td>\n",
       "      <td>0.987107</td>\n",
       "      <td>0.793949</td>\n",
       "    </tr>\n",
       "    <tr>\n",
       "      <th>rank</th>\n",
       "      <td>-0.898747</td>\n",
       "      <td>-0.356686</td>\n",
       "      <td>1.000000</td>\n",
       "      <td>0.777302</td>\n",
       "      <td>-0.391524</td>\n",
       "      <td>-0.208503</td>\n",
       "    </tr>\n",
       "    <tr>\n",
       "      <th>popularity</th>\n",
       "      <td>-0.688492</td>\n",
       "      <td>-0.425719</td>\n",
       "      <td>0.777302</td>\n",
       "      <td>1.000000</td>\n",
       "      <td>-0.474798</td>\n",
       "      <td>-0.210745</td>\n",
       "    </tr>\n",
       "    <tr>\n",
       "      <th>members</th>\n",
       "      <td>0.415626</td>\n",
       "      <td>0.987107</td>\n",
       "      <td>-0.391524</td>\n",
       "      <td>-0.474798</td>\n",
       "      <td>1.000000</td>\n",
       "      <td>0.781565</td>\n",
       "    </tr>\n",
       "    <tr>\n",
       "      <th>favorites</th>\n",
       "      <td>0.256094</td>\n",
       "      <td>0.793949</td>\n",
       "      <td>-0.208503</td>\n",
       "      <td>-0.210745</td>\n",
       "      <td>0.781565</td>\n",
       "      <td>1.000000</td>\n",
       "    </tr>\n",
       "  </tbody>\n",
       "</table>\n",
       "</div>"
      ],
      "text/plain": [
       "               score  scored_by      rank  popularity   members  favorites\n",
       "score       1.000000   0.381926 -0.898747   -0.688492  0.415626   0.256094\n",
       "scored_by   0.381926   1.000000 -0.356686   -0.425719  0.987107   0.793949\n",
       "rank       -0.898747  -0.356686  1.000000    0.777302 -0.391524  -0.208503\n",
       "popularity -0.688492  -0.425719  0.777302    1.000000 -0.474798  -0.210745\n",
       "members     0.415626   0.987107 -0.391524   -0.474798  1.000000   0.781565\n",
       "favorites   0.256094   0.793949 -0.208503   -0.210745  0.781565   1.000000"
      ]
     },
     "execution_count": 57,
     "metadata": {},
     "output_type": "execute_result"
    }
   ],
   "source": [
    "anime3.corr(method='pearson')"
   ]
  },
  {
   "cell_type": "markdown",
   "id": "5f39c2c4-c8dc-4ef5-b337-6cf17c717803",
   "metadata": {},
   "source": [
    "#### enhance interpretaion and visuals"
   ]
  },
  {
   "cell_type": "code",
   "execution_count": 59,
   "id": "dd3f727e-e6f3-4743-96ef-160a737441b2",
   "metadata": {},
   "outputs": [
    {
     "data": {
      "text/html": [
       "<style  type=\"text/css\" >\n",
       "#T_e636b_row0_col0,#T_e636b_row1_col1,#T_e636b_row2_col2,#T_e636b_row3_col3,#T_e636b_row4_col4,#T_e636b_row5_col5{\n",
       "            background-color:  #b40426;\n",
       "            color:  #f1f1f1;\n",
       "        }#T_e636b_row0_col1{\n",
       "            background-color:  #f7b599;\n",
       "            color:  #000000;\n",
       "        }#T_e636b_row0_col2,#T_e636b_row1_col3,#T_e636b_row2_col0,#T_e636b_row3_col0,#T_e636b_row4_col3,#T_e636b_row5_col2,#T_e636b_row5_col3{\n",
       "            background-color:  #3b4cc0;\n",
       "            color:  #f1f1f1;\n",
       "        }#T_e636b_row0_col3{\n",
       "            background-color:  #5d7ce6;\n",
       "            color:  #000000;\n",
       "        }#T_e636b_row0_col4{\n",
       "            background-color:  #f7af91;\n",
       "            color:  #000000;\n",
       "        }#T_e636b_row0_col5{\n",
       "            background-color:  #f2c9b4;\n",
       "            color:  #000000;\n",
       "        }#T_e636b_row1_col0{\n",
       "            background-color:  #edd2c3;\n",
       "            color:  #000000;\n",
       "        }#T_e636b_row1_col2{\n",
       "            background-color:  #4961d2;\n",
       "            color:  #f1f1f1;\n",
       "        }#T_e636b_row1_col4,#T_e636b_row4_col1{\n",
       "            background-color:  #b70d28;\n",
       "            color:  #f1f1f1;\n",
       "        }#T_e636b_row1_col5{\n",
       "            background-color:  #e26952;\n",
       "            color:  #000000;\n",
       "        }#T_e636b_row2_col1{\n",
       "            background-color:  #9abbff;\n",
       "            color:  #000000;\n",
       "        }#T_e636b_row2_col3{\n",
       "            background-color:  #dc5d4a;\n",
       "            color:  #000000;\n",
       "        }#T_e636b_row2_col4{\n",
       "            background-color:  #93b5fe;\n",
       "            color:  #000000;\n",
       "        }#T_e636b_row2_col5{\n",
       "            background-color:  #b5cdfa;\n",
       "            color:  #000000;\n",
       "        }#T_e636b_row3_col1{\n",
       "            background-color:  #6b8df0;\n",
       "            color:  #000000;\n",
       "        }#T_e636b_row3_col2{\n",
       "            background-color:  #df634e;\n",
       "            color:  #000000;\n",
       "        }#T_e636b_row3_col4{\n",
       "            background-color:  #6282ea;\n",
       "            color:  #000000;\n",
       "        }#T_e636b_row3_col5{\n",
       "            background-color:  #98b9ff;\n",
       "            color:  #000000;\n",
       "        }#T_e636b_row4_col0{\n",
       "            background-color:  #f2cab5;\n",
       "            color:  #000000;\n",
       "        }#T_e636b_row4_col2{\n",
       "            background-color:  #4b64d5;\n",
       "            color:  #f1f1f1;\n",
       "        }#T_e636b_row4_col5{\n",
       "            background-color:  #e36b54;\n",
       "            color:  #000000;\n",
       "        }#T_e636b_row5_col0{\n",
       "            background-color:  #bbd1f8;\n",
       "            color:  #000000;\n",
       "        }#T_e636b_row5_col1{\n",
       "            background-color:  #e8765c;\n",
       "            color:  #000000;\n",
       "        }#T_e636b_row5_col4{\n",
       "            background-color:  #ea7b60;\n",
       "            color:  #000000;\n",
       "        }</style><table id=\"T_e636b_\" ><thead>    <tr>        <th class=\"blank level0\" ></th>        <th class=\"col_heading level0 col0\" >score</th>        <th class=\"col_heading level0 col1\" >scored_by</th>        <th class=\"col_heading level0 col2\" >rank</th>        <th class=\"col_heading level0 col3\" >popularity</th>        <th class=\"col_heading level0 col4\" >members</th>        <th class=\"col_heading level0 col5\" >favorites</th>    </tr></thead><tbody>\n",
       "                <tr>\n",
       "                        <th id=\"T_e636b_level0_row0\" class=\"row_heading level0 row0\" >score</th>\n",
       "                        <td id=\"T_e636b_row0_col0\" class=\"data row0 col0\" >1.0</td>\n",
       "                        <td id=\"T_e636b_row0_col1\" class=\"data row0 col1\" >0.38</td>\n",
       "                        <td id=\"T_e636b_row0_col2\" class=\"data row0 col2\" >-0.9</td>\n",
       "                        <td id=\"T_e636b_row0_col3\" class=\"data row0 col3\" >-0.69</td>\n",
       "                        <td id=\"T_e636b_row0_col4\" class=\"data row0 col4\" >0.42</td>\n",
       "                        <td id=\"T_e636b_row0_col5\" class=\"data row0 col5\" >0.26</td>\n",
       "            </tr>\n",
       "            <tr>\n",
       "                        <th id=\"T_e636b_level0_row1\" class=\"row_heading level0 row1\" >scored_by</th>\n",
       "                        <td id=\"T_e636b_row1_col0\" class=\"data row1 col0\" >0.38</td>\n",
       "                        <td id=\"T_e636b_row1_col1\" class=\"data row1 col1\" >1.0</td>\n",
       "                        <td id=\"T_e636b_row1_col2\" class=\"data row1 col2\" >-0.36</td>\n",
       "                        <td id=\"T_e636b_row1_col3\" class=\"data row1 col3\" >-0.43</td>\n",
       "                        <td id=\"T_e636b_row1_col4\" class=\"data row1 col4\" >0.99</td>\n",
       "                        <td id=\"T_e636b_row1_col5\" class=\"data row1 col5\" >0.79</td>\n",
       "            </tr>\n",
       "            <tr>\n",
       "                        <th id=\"T_e636b_level0_row2\" class=\"row_heading level0 row2\" >rank</th>\n",
       "                        <td id=\"T_e636b_row2_col0\" class=\"data row2 col0\" >-0.9</td>\n",
       "                        <td id=\"T_e636b_row2_col1\" class=\"data row2 col1\" >-0.36</td>\n",
       "                        <td id=\"T_e636b_row2_col2\" class=\"data row2 col2\" >1.0</td>\n",
       "                        <td id=\"T_e636b_row2_col3\" class=\"data row2 col3\" >0.78</td>\n",
       "                        <td id=\"T_e636b_row2_col4\" class=\"data row2 col4\" >-0.39</td>\n",
       "                        <td id=\"T_e636b_row2_col5\" class=\"data row2 col5\" >-0.21</td>\n",
       "            </tr>\n",
       "            <tr>\n",
       "                        <th id=\"T_e636b_level0_row3\" class=\"row_heading level0 row3\" >popularity</th>\n",
       "                        <td id=\"T_e636b_row3_col0\" class=\"data row3 col0\" >-0.69</td>\n",
       "                        <td id=\"T_e636b_row3_col1\" class=\"data row3 col1\" >-0.43</td>\n",
       "                        <td id=\"T_e636b_row3_col2\" class=\"data row3 col2\" >0.78</td>\n",
       "                        <td id=\"T_e636b_row3_col3\" class=\"data row3 col3\" >1.0</td>\n",
       "                        <td id=\"T_e636b_row3_col4\" class=\"data row3 col4\" >-0.47</td>\n",
       "                        <td id=\"T_e636b_row3_col5\" class=\"data row3 col5\" >-0.21</td>\n",
       "            </tr>\n",
       "            <tr>\n",
       "                        <th id=\"T_e636b_level0_row4\" class=\"row_heading level0 row4\" >members</th>\n",
       "                        <td id=\"T_e636b_row4_col0\" class=\"data row4 col0\" >0.42</td>\n",
       "                        <td id=\"T_e636b_row4_col1\" class=\"data row4 col1\" >0.99</td>\n",
       "                        <td id=\"T_e636b_row4_col2\" class=\"data row4 col2\" >-0.39</td>\n",
       "                        <td id=\"T_e636b_row4_col3\" class=\"data row4 col3\" >-0.47</td>\n",
       "                        <td id=\"T_e636b_row4_col4\" class=\"data row4 col4\" >1.0</td>\n",
       "                        <td id=\"T_e636b_row4_col5\" class=\"data row4 col5\" >0.78</td>\n",
       "            </tr>\n",
       "            <tr>\n",
       "                        <th id=\"T_e636b_level0_row5\" class=\"row_heading level0 row5\" >favorites</th>\n",
       "                        <td id=\"T_e636b_row5_col0\" class=\"data row5 col0\" >0.26</td>\n",
       "                        <td id=\"T_e636b_row5_col1\" class=\"data row5 col1\" >0.79</td>\n",
       "                        <td id=\"T_e636b_row5_col2\" class=\"data row5 col2\" >-0.21</td>\n",
       "                        <td id=\"T_e636b_row5_col3\" class=\"data row5 col3\" >-0.21</td>\n",
       "                        <td id=\"T_e636b_row5_col4\" class=\"data row5 col4\" >0.78</td>\n",
       "                        <td id=\"T_e636b_row5_col5\" class=\"data row5 col5\" >1.0</td>\n",
       "            </tr>\n",
       "    </tbody></table>"
      ],
      "text/plain": [
       "<pandas.io.formats.style.Styler at 0x2bc7a3a0610>"
      ]
     },
     "execution_count": 59,
     "metadata": {},
     "output_type": "execute_result"
    }
   ],
   "source": [
    "anime3.corr(method='pearson').style.format(\"{:.2}\").background_gradient(cmap=plt.get_cmap('coolwarm'), axis=1)\n",
    "## coolwarm palette"
   ]
  },
  {
   "cell_type": "code",
   "execution_count": 61,
   "id": "2f582991-f02f-4f98-9b47-4d97a2995540",
   "metadata": {},
   "outputs": [
    {
     "data": {
      "text/html": [
       "<style  type=\"text/css\" >\n",
       "#T_fa060_row0_col0,#T_fa060_row1_col1,#T_fa060_row2_col2,#T_fa060_row3_col3,#T_fa060_row4_col4,#T_fa060_row5_col5{\n",
       "            background-color:  #fde725;\n",
       "            color:  #000000;\n",
       "        }#T_fa060_row0_col1{\n",
       "            background-color:  #38b977;\n",
       "            color:  #000000;\n",
       "        }#T_fa060_row0_col2,#T_fa060_row1_col3,#T_fa060_row2_col0,#T_fa060_row3_col0,#T_fa060_row4_col3,#T_fa060_row5_col2,#T_fa060_row5_col3{\n",
       "            background-color:  #440154;\n",
       "            color:  #f1f1f1;\n",
       "        }#T_fa060_row0_col3{\n",
       "            background-color:  #482878;\n",
       "            color:  #f1f1f1;\n",
       "        }#T_fa060_row0_col4{\n",
       "            background-color:  #40bd72;\n",
       "            color:  #000000;\n",
       "        }#T_fa060_row0_col5{\n",
       "            background-color:  #24aa83;\n",
       "            color:  #000000;\n",
       "        }#T_fa060_row1_col0{\n",
       "            background-color:  #1fa188;\n",
       "            color:  #000000;\n",
       "        }#T_fa060_row1_col2{\n",
       "            background-color:  #471365;\n",
       "            color:  #f1f1f1;\n",
       "        }#T_fa060_row1_col4,#T_fa060_row4_col1{\n",
       "            background-color:  #f8e621;\n",
       "            color:  #000000;\n",
       "        }#T_fa060_row1_col5{\n",
       "            background-color:  #a0da39;\n",
       "            color:  #000000;\n",
       "        }#T_fa060_row2_col1{\n",
       "            background-color:  #365c8d;\n",
       "            color:  #f1f1f1;\n",
       "        }#T_fa060_row2_col3{\n",
       "            background-color:  #b0dd2f;\n",
       "            color:  #000000;\n",
       "        }#T_fa060_row2_col4{\n",
       "            background-color:  #39568c;\n",
       "            color:  #f1f1f1;\n",
       "        }#T_fa060_row2_col5{\n",
       "            background-color:  #2d708e;\n",
       "            color:  #f1f1f1;\n",
       "        }#T_fa060_row3_col1{\n",
       "            background-color:  #453581;\n",
       "            color:  #f1f1f1;\n",
       "        }#T_fa060_row3_col2{\n",
       "            background-color:  #a8db34;\n",
       "            color:  #000000;\n",
       "        }#T_fa060_row3_col4{\n",
       "            background-color:  #472d7b;\n",
       "            color:  #f1f1f1;\n",
       "        }#T_fa060_row3_col5{\n",
       "            background-color:  #375b8d;\n",
       "            color:  #f1f1f1;\n",
       "        }#T_fa060_row4_col0{\n",
       "            background-color:  #23a983;\n",
       "            color:  #000000;\n",
       "        }#T_fa060_row4_col2{\n",
       "            background-color:  #481668;\n",
       "            color:  #f1f1f1;\n",
       "        }#T_fa060_row4_col5{\n",
       "            background-color:  #9dd93b;\n",
       "            color:  #000000;\n",
       "        }#T_fa060_row5_col0{\n",
       "            background-color:  #2b748e;\n",
       "            color:  #f1f1f1;\n",
       "        }#T_fa060_row5_col1{\n",
       "            background-color:  #8ed645;\n",
       "            color:  #000000;\n",
       "        }#T_fa060_row5_col4{\n",
       "            background-color:  #86d549;\n",
       "            color:  #000000;\n",
       "        }</style><table id=\"T_fa060_\" ><thead>    <tr>        <th class=\"blank level0\" ></th>        <th class=\"col_heading level0 col0\" >score</th>        <th class=\"col_heading level0 col1\" >scored_by</th>        <th class=\"col_heading level0 col2\" >rank</th>        <th class=\"col_heading level0 col3\" >popularity</th>        <th class=\"col_heading level0 col4\" >members</th>        <th class=\"col_heading level0 col5\" >favorites</th>    </tr></thead><tbody>\n",
       "                <tr>\n",
       "                        <th id=\"T_fa060_level0_row0\" class=\"row_heading level0 row0\" >score</th>\n",
       "                        <td id=\"T_fa060_row0_col0\" class=\"data row0 col0\" >1.0</td>\n",
       "                        <td id=\"T_fa060_row0_col1\" class=\"data row0 col1\" >0.38</td>\n",
       "                        <td id=\"T_fa060_row0_col2\" class=\"data row0 col2\" >-0.9</td>\n",
       "                        <td id=\"T_fa060_row0_col3\" class=\"data row0 col3\" >-0.69</td>\n",
       "                        <td id=\"T_fa060_row0_col4\" class=\"data row0 col4\" >0.42</td>\n",
       "                        <td id=\"T_fa060_row0_col5\" class=\"data row0 col5\" >0.26</td>\n",
       "            </tr>\n",
       "            <tr>\n",
       "                        <th id=\"T_fa060_level0_row1\" class=\"row_heading level0 row1\" >scored_by</th>\n",
       "                        <td id=\"T_fa060_row1_col0\" class=\"data row1 col0\" >0.38</td>\n",
       "                        <td id=\"T_fa060_row1_col1\" class=\"data row1 col1\" >1.0</td>\n",
       "                        <td id=\"T_fa060_row1_col2\" class=\"data row1 col2\" >-0.36</td>\n",
       "                        <td id=\"T_fa060_row1_col3\" class=\"data row1 col3\" >-0.43</td>\n",
       "                        <td id=\"T_fa060_row1_col4\" class=\"data row1 col4\" >0.99</td>\n",
       "                        <td id=\"T_fa060_row1_col5\" class=\"data row1 col5\" >0.79</td>\n",
       "            </tr>\n",
       "            <tr>\n",
       "                        <th id=\"T_fa060_level0_row2\" class=\"row_heading level0 row2\" >rank</th>\n",
       "                        <td id=\"T_fa060_row2_col0\" class=\"data row2 col0\" >-0.9</td>\n",
       "                        <td id=\"T_fa060_row2_col1\" class=\"data row2 col1\" >-0.36</td>\n",
       "                        <td id=\"T_fa060_row2_col2\" class=\"data row2 col2\" >1.0</td>\n",
       "                        <td id=\"T_fa060_row2_col3\" class=\"data row2 col3\" >0.78</td>\n",
       "                        <td id=\"T_fa060_row2_col4\" class=\"data row2 col4\" >-0.39</td>\n",
       "                        <td id=\"T_fa060_row2_col5\" class=\"data row2 col5\" >-0.21</td>\n",
       "            </tr>\n",
       "            <tr>\n",
       "                        <th id=\"T_fa060_level0_row3\" class=\"row_heading level0 row3\" >popularity</th>\n",
       "                        <td id=\"T_fa060_row3_col0\" class=\"data row3 col0\" >-0.69</td>\n",
       "                        <td id=\"T_fa060_row3_col1\" class=\"data row3 col1\" >-0.43</td>\n",
       "                        <td id=\"T_fa060_row3_col2\" class=\"data row3 col2\" >0.78</td>\n",
       "                        <td id=\"T_fa060_row3_col3\" class=\"data row3 col3\" >1.0</td>\n",
       "                        <td id=\"T_fa060_row3_col4\" class=\"data row3 col4\" >-0.47</td>\n",
       "                        <td id=\"T_fa060_row3_col5\" class=\"data row3 col5\" >-0.21</td>\n",
       "            </tr>\n",
       "            <tr>\n",
       "                        <th id=\"T_fa060_level0_row4\" class=\"row_heading level0 row4\" >members</th>\n",
       "                        <td id=\"T_fa060_row4_col0\" class=\"data row4 col0\" >0.42</td>\n",
       "                        <td id=\"T_fa060_row4_col1\" class=\"data row4 col1\" >0.99</td>\n",
       "                        <td id=\"T_fa060_row4_col2\" class=\"data row4 col2\" >-0.39</td>\n",
       "                        <td id=\"T_fa060_row4_col3\" class=\"data row4 col3\" >-0.47</td>\n",
       "                        <td id=\"T_fa060_row4_col4\" class=\"data row4 col4\" >1.0</td>\n",
       "                        <td id=\"T_fa060_row4_col5\" class=\"data row4 col5\" >0.78</td>\n",
       "            </tr>\n",
       "            <tr>\n",
       "                        <th id=\"T_fa060_level0_row5\" class=\"row_heading level0 row5\" >favorites</th>\n",
       "                        <td id=\"T_fa060_row5_col0\" class=\"data row5 col0\" >0.26</td>\n",
       "                        <td id=\"T_fa060_row5_col1\" class=\"data row5 col1\" >0.79</td>\n",
       "                        <td id=\"T_fa060_row5_col2\" class=\"data row5 col2\" >-0.21</td>\n",
       "                        <td id=\"T_fa060_row5_col3\" class=\"data row5 col3\" >-0.21</td>\n",
       "                        <td id=\"T_fa060_row5_col4\" class=\"data row5 col4\" >0.78</td>\n",
       "                        <td id=\"T_fa060_row5_col5\" class=\"data row5 col5\" >1.0</td>\n",
       "            </tr>\n",
       "    </tbody></table>"
      ],
      "text/plain": [
       "<pandas.io.formats.style.Styler at 0x2bc7a5974f0>"
      ]
     },
     "execution_count": 61,
     "metadata": {},
     "output_type": "execute_result"
    }
   ],
   "source": [
    "anime3.corr(method='pearson').style.format(\"{:.2}\").background_gradient(cmap=plt.get_cmap('viridis'), axis=1)\n",
    "## viridis palette"
   ]
  },
  {
   "cell_type": "code",
   "execution_count": null,
   "id": "e37b6c13-4fce-4136-94d3-acd171d6cd14",
   "metadata": {},
   "outputs": [],
   "source": [
    "## members and scored_by are positively correlated\n",
    "## favorites and scored_by are positively correlated\n",
    "## favorites and members are positively correlated\n",
    "## these 3 variables seem to be all related\n",
    "## interesting note popularity and scored_by are not correlated"
   ]
  }
 ],
 "metadata": {
  "kernelspec": {
   "display_name": "Python 3 (ipykernel)",
   "language": "python",
   "name": "python3"
  },
  "language_info": {
   "codemirror_mode": {
    "name": "ipython",
    "version": 3
   },
   "file_extension": ".py",
   "mimetype": "text/x-python",
   "name": "python",
   "nbconvert_exporter": "python",
   "pygments_lexer": "ipython3",
   "version": "3.9.5"
  }
 },
 "nbformat": 4,
 "nbformat_minor": 5
}
