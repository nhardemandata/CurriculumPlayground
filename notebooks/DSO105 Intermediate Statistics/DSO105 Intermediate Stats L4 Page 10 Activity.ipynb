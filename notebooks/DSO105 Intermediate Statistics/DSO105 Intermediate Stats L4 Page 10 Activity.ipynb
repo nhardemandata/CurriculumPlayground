{
 "cells": [
  {
   "cell_type": "markdown",
   "id": "c8b14436-ed4b-4593-9bc8-8dc006241da5",
   "metadata": {},
   "source": [
    "# DSO105 Intermediate Stats L4 Page 10 Activity"
   ]
  },
  {
   "cell_type": "code",
   "execution_count": 1,
   "id": "fe63480f-52fa-4862-b169-b4b80bcd5bbf",
   "metadata": {},
   "outputs": [],
   "source": [
    "## load packages\n",
    "import pandas as pd\n",
    "import numpy as np\n",
    "import scipy\n",
    "import seaborn as sns\n",
    "from scipy import stats\n",
    "from statsmodels.stats.multicomp import pairwise_tukeyhsd\n",
    "from statsmodels.stats.multicomp import MultiComparison"
   ]
  },
  {
   "cell_type": "code",
   "execution_count": 2,
   "id": "e1f72141-750e-41a4-8ba2-ad24f5e144ff",
   "metadata": {},
   "outputs": [],
   "source": [
    "data = pd.read_csv('../../datasets/YouTubeChannels_Python.csv')"
   ]
  },
  {
   "cell_type": "code",
   "execution_count": 3,
   "id": "379dd3c3-ba2b-47db-8035-bbccf4085406",
   "metadata": {},
   "outputs": [
    {
     "data": {
      "text/html": [
       "<div>\n",
       "<style scoped>\n",
       "    .dataframe tbody tr th:only-of-type {\n",
       "        vertical-align: middle;\n",
       "    }\n",
       "\n",
       "    .dataframe tbody tr th {\n",
       "        vertical-align: top;\n",
       "    }\n",
       "\n",
       "    .dataframe thead th {\n",
       "        text-align: right;\n",
       "    }\n",
       "</style>\n",
       "<table border=\"1\" class=\"dataframe\">\n",
       "  <thead>\n",
       "    <tr style=\"text-align: right;\">\n",
       "      <th></th>\n",
       "      <th>Rank</th>\n",
       "      <th>Gr2de</th>\n",
       "      <th>Channel name</th>\n",
       "      <th>Video Uploads</th>\n",
       "      <th>Subscribers</th>\n",
       "      <th>Video views</th>\n",
       "    </tr>\n",
       "  </thead>\n",
       "  <tbody>\n",
       "    <tr>\n",
       "      <th>0</th>\n",
       "      <td>1st</td>\n",
       "      <td>0</td>\n",
       "      <td>Zee TV</td>\n",
       "      <td>82757</td>\n",
       "      <td>18752951</td>\n",
       "      <td>20869786591</td>\n",
       "    </tr>\n",
       "    <tr>\n",
       "      <th>1</th>\n",
       "      <td>2nd</td>\n",
       "      <td>0</td>\n",
       "      <td>T-Series</td>\n",
       "      <td>12661</td>\n",
       "      <td>61196302</td>\n",
       "      <td>47548839843</td>\n",
       "    </tr>\n",
       "    <tr>\n",
       "      <th>2</th>\n",
       "      <td>3rd</td>\n",
       "      <td>0</td>\n",
       "      <td>Cocomelon - Nursery Rhymes</td>\n",
       "      <td>373</td>\n",
       "      <td>19238251</td>\n",
       "      <td>9793305082</td>\n",
       "    </tr>\n",
       "    <tr>\n",
       "      <th>3</th>\n",
       "      <td>4th</td>\n",
       "      <td>0</td>\n",
       "      <td>SET India</td>\n",
       "      <td>27323</td>\n",
       "      <td>31180559</td>\n",
       "      <td>22675948293</td>\n",
       "    </tr>\n",
       "    <tr>\n",
       "      <th>4</th>\n",
       "      <td>5th</td>\n",
       "      <td>0</td>\n",
       "      <td>WWE</td>\n",
       "      <td>36756</td>\n",
       "      <td>32852346</td>\n",
       "      <td>26273668433</td>\n",
       "    </tr>\n",
       "  </tbody>\n",
       "</table>\n",
       "</div>"
      ],
      "text/plain": [
       "  Rank  Gr2de                Channel name Video Uploads Subscribers  \\\n",
       "0  1st      0                      Zee TV         82757    18752951   \n",
       "1  2nd      0                    T-Series         12661    61196302   \n",
       "2  3rd      0  Cocomelon - Nursery Rhymes           373    19238251   \n",
       "3  4th      0                   SET India         27323    31180559   \n",
       "4  5th      0                         WWE         36756    32852346   \n",
       "\n",
       "   Video views  \n",
       "0  20869786591  \n",
       "1  47548839843  \n",
       "2   9793305082  \n",
       "3  22675948293  \n",
       "4  26273668433  "
      ]
     },
     "execution_count": 3,
     "metadata": {},
     "output_type": "execute_result"
    }
   ],
   "source": [
    "data.head()"
   ]
  },
  {
   "cell_type": "code",
   "execution_count": 4,
   "id": "4dead20b-15bb-4c26-a97b-7193a11314da",
   "metadata": {},
   "outputs": [],
   "source": [
    "## determine if there is a difference in the number of views (Video views) differs between all the different grade categories (Grade)."
   ]
  },
  {
   "cell_type": "markdown",
   "id": "a528a15f-2db7-44d7-837e-6f0528e33d39",
   "metadata": {},
   "source": [
    "#### only keep the two variables we will be looking at"
   ]
  },
  {
   "cell_type": "code",
   "execution_count": 6,
   "id": "5966aafa-fc19-4b33-8b47-5a55a308d12c",
   "metadata": {},
   "outputs": [],
   "source": [
    "data1 = data[['Gr2de', 'Video views']]"
   ]
  },
  {
   "cell_type": "code",
   "execution_count": 11,
   "id": "079a9f9c-ba28-4fc4-af8a-f62ff5c395a2",
   "metadata": {},
   "outputs": [
    {
     "data": {
      "text/html": [
       "<div>\n",
       "<style scoped>\n",
       "    .dataframe tbody tr th:only-of-type {\n",
       "        vertical-align: middle;\n",
       "    }\n",
       "\n",
       "    .dataframe tbody tr th {\n",
       "        vertical-align: top;\n",
       "    }\n",
       "\n",
       "    .dataframe thead th {\n",
       "        text-align: right;\n",
       "    }\n",
       "</style>\n",
       "<table border=\"1\" class=\"dataframe\">\n",
       "  <thead>\n",
       "    <tr style=\"text-align: right;\">\n",
       "      <th></th>\n",
       "      <th>Gr2de</th>\n",
       "      <th>Video views</th>\n",
       "    </tr>\n",
       "  </thead>\n",
       "  <tbody>\n",
       "    <tr>\n",
       "      <th>0</th>\n",
       "      <td>0</td>\n",
       "      <td>20869786591</td>\n",
       "    </tr>\n",
       "    <tr>\n",
       "      <th>1</th>\n",
       "      <td>0</td>\n",
       "      <td>47548839843</td>\n",
       "    </tr>\n",
       "    <tr>\n",
       "      <th>2</th>\n",
       "      <td>0</td>\n",
       "      <td>9793305082</td>\n",
       "    </tr>\n",
       "    <tr>\n",
       "      <th>3</th>\n",
       "      <td>0</td>\n",
       "      <td>22675948293</td>\n",
       "    </tr>\n",
       "    <tr>\n",
       "      <th>4</th>\n",
       "      <td>0</td>\n",
       "      <td>26273668433</td>\n",
       "    </tr>\n",
       "  </tbody>\n",
       "</table>\n",
       "</div>"
      ],
      "text/plain": [
       "   Gr2de  Video views\n",
       "0      0  20869786591\n",
       "1      0  47548839843\n",
       "2      0   9793305082\n",
       "3      0  22675948293\n",
       "4      0  26273668433"
      ]
     },
     "execution_count": 11,
     "metadata": {},
     "output_type": "execute_result"
    }
   ],
   "source": [
    "data1.head()"
   ]
  },
  {
   "cell_type": "code",
   "execution_count": 8,
   "id": "b47a5e59-df49-4407-bb8a-1ce740e80b94",
   "metadata": {},
   "outputs": [
    {
     "name": "stdout",
     "output_type": "stream",
     "text": [
      "<class 'pandas.core.frame.DataFrame'>\n",
      "RangeIndex: 5000 entries, 0 to 4999\n",
      "Data columns (total 2 columns):\n",
      " #   Column       Non-Null Count  Dtype\n",
      "---  ------       --------------  -----\n",
      " 0   Gr2de        5000 non-null   int64\n",
      " 1   Video views  5000 non-null   int64\n",
      "dtypes: int64(2)\n",
      "memory usage: 78.2 KB\n"
     ]
    }
   ],
   "source": [
    "data1.info()"
   ]
  },
  {
   "cell_type": "markdown",
   "id": "9cf57c5c-e1c6-4f8c-9b10-bae766dbfbe8",
   "metadata": {},
   "source": [
    "#### ensure that Grade is categorical with levels"
   ]
  },
  {
   "cell_type": "code",
   "execution_count": 9,
   "id": "352d4218-662d-4595-9679-4691121e281c",
   "metadata": {},
   "outputs": [
    {
     "data": {
      "text/plain": [
       "3    2956\n",
       "2    1993\n",
       "1      41\n",
       "0      10\n",
       "Name: Gr2de, dtype: int64"
      ]
     },
     "execution_count": 9,
     "metadata": {},
     "output_type": "execute_result"
    }
   ],
   "source": [
    "data1.Gr2de.value_counts()"
   ]
  },
  {
   "cell_type": "code",
   "execution_count": 12,
   "id": "23679cf4-0250-4ad0-9cff-03dceddc10e9",
   "metadata": {},
   "outputs": [
    {
     "name": "stderr",
     "output_type": "stream",
     "text": [
      "C:\\Users\\nolan\\AppData\\Local\\Temp/ipykernel_12856/2869744998.py:3: SettingWithCopyWarning: \n",
      "A value is trying to be set on a copy of a slice from a DataFrame.\n",
      "Try using .loc[row_indexer,col_indexer] = value instead\n",
      "\n",
      "See the caveats in the documentation: https://pandas.pydata.org/pandas-docs/stable/user_guide/indexing.html#returning-a-view-versus-a-copy\n",
      "  data1['Gr2deR'] = data1['Gr2de'].replace(dict)\n"
     ]
    }
   ],
   "source": [
    "dict = {0 : 'A', 1 : 'B', 2 : 'C', 3 : 'D'}\n",
    "\n",
    "data1['Gr2deR'] = data1['Gr2de'].replace(dict)"
   ]
  },
  {
   "cell_type": "code",
   "execution_count": 13,
   "id": "7492bddc-823c-411a-a04f-b1f4a944a04f",
   "metadata": {},
   "outputs": [
    {
     "data": {
      "text/html": [
       "<div>\n",
       "<style scoped>\n",
       "    .dataframe tbody tr th:only-of-type {\n",
       "        vertical-align: middle;\n",
       "    }\n",
       "\n",
       "    .dataframe tbody tr th {\n",
       "        vertical-align: top;\n",
       "    }\n",
       "\n",
       "    .dataframe thead th {\n",
       "        text-align: right;\n",
       "    }\n",
       "</style>\n",
       "<table border=\"1\" class=\"dataframe\">\n",
       "  <thead>\n",
       "    <tr style=\"text-align: right;\">\n",
       "      <th></th>\n",
       "      <th>Gr2de</th>\n",
       "      <th>Video views</th>\n",
       "      <th>Gr2deR</th>\n",
       "    </tr>\n",
       "  </thead>\n",
       "  <tbody>\n",
       "    <tr>\n",
       "      <th>0</th>\n",
       "      <td>0</td>\n",
       "      <td>20869786591</td>\n",
       "      <td>A</td>\n",
       "    </tr>\n",
       "    <tr>\n",
       "      <th>1</th>\n",
       "      <td>0</td>\n",
       "      <td>47548839843</td>\n",
       "      <td>A</td>\n",
       "    </tr>\n",
       "    <tr>\n",
       "      <th>2</th>\n",
       "      <td>0</td>\n",
       "      <td>9793305082</td>\n",
       "      <td>A</td>\n",
       "    </tr>\n",
       "    <tr>\n",
       "      <th>3</th>\n",
       "      <td>0</td>\n",
       "      <td>22675948293</td>\n",
       "      <td>A</td>\n",
       "    </tr>\n",
       "    <tr>\n",
       "      <th>4</th>\n",
       "      <td>0</td>\n",
       "      <td>26273668433</td>\n",
       "      <td>A</td>\n",
       "    </tr>\n",
       "  </tbody>\n",
       "</table>\n",
       "</div>"
      ],
      "text/plain": [
       "   Gr2de  Video views Gr2deR\n",
       "0      0  20869786591      A\n",
       "1      0  47548839843      A\n",
       "2      0   9793305082      A\n",
       "3      0  22675948293      A\n",
       "4      0  26273668433      A"
      ]
     },
     "execution_count": 13,
     "metadata": {},
     "output_type": "execute_result"
    }
   ],
   "source": [
    "data1.head()"
   ]
  },
  {
   "cell_type": "markdown",
   "id": "14fbaad9-a8fa-4470-940d-64d02babf9cc",
   "metadata": {},
   "source": [
    "### Test assumptions\n",
    "#### Normality"
   ]
  },
  {
   "cell_type": "code",
   "execution_count": 14,
   "id": "935272f6-0236-4137-a09c-5fc11b8e3edc",
   "metadata": {},
   "outputs": [
    {
     "data": {
      "text/plain": [
       "<seaborn.axisgrid.FacetGrid at 0x20226094670>"
      ]
     },
     "execution_count": 14,
     "metadata": {},
     "output_type": "execute_result"
    },
    {
     "data": {
      "image/png": "[encoded data removed]",
      "text/plain": [
       "<Figure size 360x360 with 1 Axes>"
      ]
     },
     "metadata": {
      "needs_background": "light"
     },
     "output_type": "display_data"
    }
   ],
   "source": [
    "sns.displot(data = data1, x = \"Video views\", kde = True)\n",
    "## positively skewed, adjust with a sqrt first"
   ]
  },
  {
   "cell_type": "code",
   "execution_count": 15,
   "id": "546c6396-aef2-4412-b9d7-0650010da3c6",
   "metadata": {},
   "outputs": [
    {
     "name": "stderr",
     "output_type": "stream",
     "text": [
      "C:\\Users\\nolan\\AppData\\Local\\Temp/ipykernel_12856/1344265979.py:1: SettingWithCopyWarning: \n",
      "A value is trying to be set on a copy of a slice from a DataFrame.\n",
      "Try using .loc[row_indexer,col_indexer] = value instead\n",
      "\n",
      "See the caveats in the documentation: https://pandas.pydata.org/pandas-docs/stable/user_guide/indexing.html#returning-a-view-versus-a-copy\n",
      "  data1['VideoviewsSQRT'] = np.sqrt(data1['Video views'])\n"
     ]
    }
   ],
   "source": [
    "data1['VideoviewsSQRT'] = np.sqrt(data1['Video views'])"
   ]
  },
  {
   "cell_type": "code",
   "execution_count": 16,
   "id": "f2130f03-90e8-49b0-a996-8ba146081f10",
   "metadata": {},
   "outputs": [
    {
     "data": {
      "text/html": [
       "<div>\n",
       "<style scoped>\n",
       "    .dataframe tbody tr th:only-of-type {\n",
       "        vertical-align: middle;\n",
       "    }\n",
       "\n",
       "    .dataframe tbody tr th {\n",
       "        vertical-align: top;\n",
       "    }\n",
       "\n",
       "    .dataframe thead th {\n",
       "        text-align: right;\n",
       "    }\n",
       "</style>\n",
       "<table border=\"1\" class=\"dataframe\">\n",
       "  <thead>\n",
       "    <tr style=\"text-align: right;\">\n",
       "      <th></th>\n",
       "      <th>Gr2de</th>\n",
       "      <th>Video views</th>\n",
       "      <th>Gr2deR</th>\n",
       "      <th>VideoviewsSQRT</th>\n",
       "    </tr>\n",
       "  </thead>\n",
       "  <tbody>\n",
       "    <tr>\n",
       "      <th>0</th>\n",
       "      <td>0</td>\n",
       "      <td>20869786591</td>\n",
       "      <td>A</td>\n",
       "      <td>144463.789896</td>\n",
       "    </tr>\n",
       "    <tr>\n",
       "      <th>1</th>\n",
       "      <td>0</td>\n",
       "      <td>47548839843</td>\n",
       "      <td>A</td>\n",
       "      <td>218056.964674</td>\n",
       "    </tr>\n",
       "    <tr>\n",
       "      <th>2</th>\n",
       "      <td>0</td>\n",
       "      <td>9793305082</td>\n",
       "      <td>A</td>\n",
       "      <td>98961.129147</td>\n",
       "    </tr>\n",
       "    <tr>\n",
       "      <th>3</th>\n",
       "      <td>0</td>\n",
       "      <td>22675948293</td>\n",
       "      <td>A</td>\n",
       "      <td>150585.352186</td>\n",
       "    </tr>\n",
       "    <tr>\n",
       "      <th>4</th>\n",
       "      <td>0</td>\n",
       "      <td>26273668433</td>\n",
       "      <td>A</td>\n",
       "      <td>162091.543373</td>\n",
       "    </tr>\n",
       "  </tbody>\n",
       "</table>\n",
       "</div>"
      ],
      "text/plain": [
       "   Gr2de  Video views Gr2deR  VideoviewsSQRT\n",
       "0      0  20869786591      A   144463.789896\n",
       "1      0  47548839843      A   218056.964674\n",
       "2      0   9793305082      A    98961.129147\n",
       "3      0  22675948293      A   150585.352186\n",
       "4      0  26273668433      A   162091.543373"
      ]
     },
     "execution_count": 16,
     "metadata": {},
     "output_type": "execute_result"
    }
   ],
   "source": [
    "data1.head()"
   ]
  },
  {
   "cell_type": "code",
   "execution_count": 18,
   "id": "b0af32fd-9525-421c-a2f7-7b21bb746fef",
   "metadata": {},
   "outputs": [
    {
     "data": {
      "text/plain": [
       "<seaborn.axisgrid.FacetGrid at 0x202273ac490>"
      ]
     },
     "execution_count": 18,
     "metadata": {},
     "output_type": "execute_result"
    },
    {
     "data": {
      "image/png": "[encoded data removed]",
      "text/plain": [
       "<Figure size 360x360 with 1 Axes>"
      ]
     },
     "metadata": {
      "needs_background": "light"
     },
     "output_type": "display_data"
    }
   ],
   "source": [
    "sns.displot(data = data1, x = \"VideoviewsSQRT\", kde = True)\n",
    "## a little better, let's try taking the log"
   ]
  },
  {
   "cell_type": "code",
   "execution_count": 19,
   "id": "3cfc3a94-535b-4a6b-aaa3-e1b1af335442",
   "metadata": {},
   "outputs": [
    {
     "name": "stderr",
     "output_type": "stream",
     "text": [
      "C:\\Users\\nolan\\AppData\\Local\\Temp/ipykernel_12856/1114610461.py:1: SettingWithCopyWarning: \n",
      "A value is trying to be set on a copy of a slice from a DataFrame.\n",
      "Try using .loc[row_indexer,col_indexer] = value instead\n",
      "\n",
      "See the caveats in the documentation: https://pandas.pydata.org/pandas-docs/stable/user_guide/indexing.html#returning-a-view-versus-a-copy\n",
      "  data1['VideoviewsLOG'] = np.log(data1['Video views'])\n"
     ]
    }
   ],
   "source": [
    "data1['VideoviewsLOG'] = np.log(data1['Video views'])"
   ]
  },
  {
   "cell_type": "code",
   "execution_count": 21,
   "id": "561dd116-e6a8-40e4-aabb-ed2acaba31d1",
   "metadata": {},
   "outputs": [
    {
     "data": {
      "text/plain": [
       "<seaborn.axisgrid.FacetGrid at 0x2022bae98b0>"
      ]
     },
     "execution_count": 21,
     "metadata": {},
     "output_type": "execute_result"
    },
    {
     "data": {
      "image/png": "[encoded data removed]",
      "text/plain": [
       "<Figure size 360x360 with 1 Axes>"
      ]
     },
     "metadata": {
      "needs_background": "light"
     },
     "output_type": "display_data"
    }
   ],
   "source": [
    "sns.displot(data = data1, x = \"VideoviewsLOG\", kde = True)\n",
    "## this looks the closest to being approx. normally distributed"
   ]
  },
  {
   "cell_type": "markdown",
   "id": "d32ab7d6-937d-4bee-a9f6-8a25252c0d44",
   "metadata": {},
   "source": [
    "#### Homogeneity of Variance"
   ]
  },
  {
   "cell_type": "code",
   "execution_count": 22,
   "id": "6cb2ee8f-c3c9-4177-8020-3e0739018ae0",
   "metadata": {},
   "outputs": [
    {
     "data": {
      "text/plain": [
       "BartlettResult(statistic=4642.606911455518, pvalue=0.0)"
      ]
     },
     "execution_count": 22,
     "metadata": {},
     "output_type": "execute_result"
    }
   ],
   "source": [
    "scipy.stats.bartlett(data1['VideoviewsLOG'], data1['Gr2de'])\n",
    "## violates the assumption of homogeneity of variance"
   ]
  },
  {
   "cell_type": "markdown",
   "id": "22a203bb-99d0-493f-917b-7c7e34227243",
   "metadata": {},
   "source": [
    "#### Analysis"
   ]
  },
  {
   "cell_type": "code",
   "execution_count": 23,
   "id": "ef8ef952-1252-4666-b506-2805da0a4827",
   "metadata": {},
   "outputs": [],
   "source": [
    "data.dropna(inplace = True)"
   ]
  },
  {
   "cell_type": "code",
   "execution_count": 24,
   "id": "936bceda-255e-4438-8b46-0741c7f254cb",
   "metadata": {},
   "outputs": [
    {
     "data": {
      "text/plain": [
       "F_onewayResult(statistic=283.85148674568444, pvalue=3.895240835935201e-170)"
      ]
     },
     "execution_count": 24,
     "metadata": {},
     "output_type": "execute_result"
    }
   ],
   "source": [
    "stats.f_oneway(data1['VideoviewsLOG'][data1['Gr2deR']=='A'],\n",
    "                   data1['VideoviewsLOG'][data1['Gr2deR']=='B'],\n",
    "               data1['VideoviewsLOG'][data1['Gr2deR']=='C'],\n",
    "               data1['VideoviewsLOG'][data1['Gr2deR']=='D'])"
   ]
  },
  {
   "cell_type": "markdown",
   "id": "a87bf915-9a17-448c-82a0-1934661a9800",
   "metadata": {},
   "source": [
    "#### Post Hocs"
   ]
  },
  {
   "cell_type": "code",
   "execution_count": 26,
   "id": "d5a7cd4b-34fa-4f90-83b9-634552fc3580",
   "metadata": {},
   "outputs": [
    {
     "name": "stdout",
     "output_type": "stream",
     "text": [
      "Multiple Comparison of Means - Tukey HSD, FWER=0.05 \n",
      "====================================================\n",
      "group1 group2 meandiff p-adj   lower   upper  reject\n",
      "----------------------------------------------------\n",
      "     0      1  -1.5233 0.0085   -2.76 -0.2865   True\n",
      "     0      2   -3.103  0.001 -4.2146 -1.9913   True\n",
      "     0      3  -4.1291  0.001 -5.2399 -3.0184   True\n",
      "     1      2  -1.5797  0.001  -2.133 -1.0264   True\n",
      "     1      3  -2.6059  0.001 -3.1573 -2.0544   True\n",
      "     2      3  -1.0262  0.001 -1.1278 -0.9245   True\n",
      "----------------------------------------------------\n"
     ]
    }
   ],
   "source": [
    "postHoc = MultiComparison(data1['VideoviewsLOG'], data1['Gr2de'])\n",
    "postHocResults = postHoc.tukeyhsd()\n",
    "print(postHocResults)"
   ]
  },
  {
   "cell_type": "code",
   "execution_count": 28,
   "id": "3a51c168-896e-4eeb-b9df-0cbe2742f3a6",
   "metadata": {},
   "outputs": [
    {
     "data": {
      "text/html": [
       "<div>\n",
       "<style scoped>\n",
       "    .dataframe tbody tr th:only-of-type {\n",
       "        vertical-align: middle;\n",
       "    }\n",
       "\n",
       "    .dataframe tbody tr th {\n",
       "        vertical-align: top;\n",
       "    }\n",
       "\n",
       "    .dataframe thead th {\n",
       "        text-align: right;\n",
       "    }\n",
       "</style>\n",
       "<table border=\"1\" class=\"dataframe\">\n",
       "  <thead>\n",
       "    <tr style=\"text-align: right;\">\n",
       "      <th></th>\n",
       "      <th>Gr2de</th>\n",
       "      <th>Video views</th>\n",
       "      <th>VideoviewsSQRT</th>\n",
       "      <th>VideoviewsLOG</th>\n",
       "    </tr>\n",
       "    <tr>\n",
       "      <th>Gr2deR</th>\n",
       "      <th></th>\n",
       "      <th></th>\n",
       "      <th></th>\n",
       "      <th></th>\n",
       "    </tr>\n",
       "  </thead>\n",
       "  <tbody>\n",
       "    <tr>\n",
       "      <th>A</th>\n",
       "      <td>0.0</td>\n",
       "      <td>2.119909e+10</td>\n",
       "      <td>139631.341341</td>\n",
       "      <td>23.578544</td>\n",
       "    </tr>\n",
       "    <tr>\n",
       "      <th>B</th>\n",
       "      <td>1.0</td>\n",
       "      <td>6.053121e+09</td>\n",
       "      <td>70951.341638</td>\n",
       "      <td>22.055279</td>\n",
       "    </tr>\n",
       "    <tr>\n",
       "      <th>C</th>\n",
       "      <td>2.0</td>\n",
       "      <td>1.676207e+09</td>\n",
       "      <td>34678.089608</td>\n",
       "      <td>20.475580</td>\n",
       "    </tr>\n",
       "    <tr>\n",
       "      <th>D</th>\n",
       "      <td>3.0</td>\n",
       "      <td>5.265217e+08</td>\n",
       "      <td>19943.101566</td>\n",
       "      <td>19.449400</td>\n",
       "    </tr>\n",
       "  </tbody>\n",
       "</table>\n",
       "</div>"
      ],
      "text/plain": [
       "        Gr2de   Video views  VideoviewsSQRT  VideoviewsLOG\n",
       "Gr2deR                                                    \n",
       "A         0.0  2.119909e+10   139631.341341      23.578544\n",
       "B         1.0  6.053121e+09    70951.341638      22.055279\n",
       "C         2.0  1.676207e+09    34678.089608      20.475580\n",
       "D         3.0  5.265217e+08    19943.101566      19.449400"
      ]
     },
     "execution_count": 28,
     "metadata": {},
     "output_type": "execute_result"
    }
   ],
   "source": [
    "data1.groupby('Gr2deR').mean()"
   ]
  },
  {
   "cell_type": "markdown",
   "id": "e84fc27b-7082-4c21-9424-12d80492b001",
   "metadata": {},
   "source": [
    "## Videos with higher ratings seem to get higher veiw counts"
   ]
  },
  {
   "cell_type": "code",
   "execution_count": null,
   "id": "778544f6-43c5-40a9-b421-73b63a661709",
   "metadata": {},
   "outputs": [],
   "source": []
  }
 ],
 "metadata": {
  "kernelspec": {
   "display_name": "Python 3 (ipykernel)",
   "language": "python",
   "name": "python3"
  },
  "language_info": {
   "codemirror_mode": {
    "name": "ipython",
    "version": 3
   },
   "file_extension": ".py",
   "mimetype": "text/x-python",
   "name": "python",
   "nbconvert_exporter": "python",
   "pygments_lexer": "ipython3",
   "version": "3.9.5"
  }
 },
 "nbformat": 4,
 "nbformat_minor": 5
}
