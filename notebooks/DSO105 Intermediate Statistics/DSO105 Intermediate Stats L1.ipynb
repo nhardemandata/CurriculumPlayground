{
 "cells": [
  {
   "cell_type": "markdown",
   "id": "48c7606f-e01d-4856-91da-82065e765539",
   "metadata": {},
   "source": [
    "# DSO105 Intermediate Stats L1 - Basic Stats in Python (olympic Events video follow along)"
   ]
  },
  {
   "cell_type": "code",
   "execution_count": null,
   "id": "b2c9aa21-52d2-4fd4-aced-e8d8f34f8e50",
   "metadata": {},
   "outputs": [],
   "source": [
    "#### Page 1"
   ]
  },
  {
   "cell_type": "markdown",
   "id": "2d2c48af-7da5-40a3-82b2-459359aa8b0b",
   "metadata": {},
   "source": [
    "(olympic Events video follow along)"
   ]
  },
  {
   "cell_type": "markdown",
   "id": "6523110a-fde1-4bf9-bacc-e3255c17dd1b",
   "metadata": {},
   "source": [
    "## Import Packages"
   ]
  },
  {
   "cell_type": "code",
   "execution_count": 46,
   "id": "bd528c11-a336-477d-b710-d3f7421e9556",
   "metadata": {},
   "outputs": [],
   "source": [
    "## add all new packages in up here, then run cell again"
   ]
  },
  {
   "cell_type": "code",
   "execution_count": 1,
   "id": "5e7423e5-8fe4-43cc-9164-445b26433c36",
   "metadata": {},
   "outputs": [],
   "source": [
    "import pandas as pd\n",
    "import numpy as np\n",
    "from scipy.stats import norm\n",
    "from scipy import stats\n",
    "from scipy.stats import ttest_ind\n",
    "import matplotlib.pyplot as plt\n",
    "import seaborn as sns"
   ]
  },
  {
   "cell_type": "markdown",
   "id": "1f5696c4-b074-44ec-9c49-5071b28655f8",
   "metadata": {},
   "source": [
    "## Load in Data"
   ]
  },
  {
   "cell_type": "code",
   "execution_count": 2,
   "id": "4dbcd3cd-8515-4dd1-b99d-a384a116bd4e",
   "metadata": {},
   "outputs": [],
   "source": [
    "olympicEvents = pd.read_excel('../../datasets/olympicEvents.xlsx')"
   ]
  },
  {
   "cell_type": "code",
   "execution_count": 3,
   "id": "7f13ce11-2087-4d5e-853c-b8db7a55f2bd",
   "metadata": {},
   "outputs": [
    {
     "data": {
      "text/html": [
       "<div>\n",
       "<style scoped>\n",
       "    .dataframe tbody tr th:only-of-type {\n",
       "        vertical-align: middle;\n",
       "    }\n",
       "\n",
       "    .dataframe tbody tr th {\n",
       "        vertical-align: top;\n",
       "    }\n",
       "\n",
       "    .dataframe thead th {\n",
       "        text-align: right;\n",
       "    }\n",
       "</style>\n",
       "<table border=\"1\" class=\"dataframe\">\n",
       "  <thead>\n",
       "    <tr style=\"text-align: right;\">\n",
       "      <th></th>\n",
       "      <th>ID</th>\n",
       "      <th>Name</th>\n",
       "      <th>Sex</th>\n",
       "      <th>Age</th>\n",
       "      <th>Height</th>\n",
       "      <th>Weight</th>\n",
       "      <th>Team</th>\n",
       "      <th>NOC</th>\n",
       "      <th>Games</th>\n",
       "      <th>Year</th>\n",
       "      <th>Season</th>\n",
       "      <th>City</th>\n",
       "      <th>Sport</th>\n",
       "      <th>Event</th>\n",
       "      <th>Medal</th>\n",
       "    </tr>\n",
       "  </thead>\n",
       "  <tbody>\n",
       "    <tr>\n",
       "      <th>0</th>\n",
       "      <td>1</td>\n",
       "      <td>A Dijiang</td>\n",
       "      <td>M</td>\n",
       "      <td>24.0</td>\n",
       "      <td>180.0</td>\n",
       "      <td>80.0</td>\n",
       "      <td>China</td>\n",
       "      <td>CHN</td>\n",
       "      <td>1992 Summer</td>\n",
       "      <td>1992</td>\n",
       "      <td>Summer</td>\n",
       "      <td>Barcelona</td>\n",
       "      <td>Basketball</td>\n",
       "      <td>Basketball Men's Basketball</td>\n",
       "      <td>NaN</td>\n",
       "    </tr>\n",
       "    <tr>\n",
       "      <th>1</th>\n",
       "      <td>2</td>\n",
       "      <td>A Lamusi</td>\n",
       "      <td>M</td>\n",
       "      <td>23.0</td>\n",
       "      <td>170.0</td>\n",
       "      <td>60.0</td>\n",
       "      <td>China</td>\n",
       "      <td>CHN</td>\n",
       "      <td>2012 Summer</td>\n",
       "      <td>2012</td>\n",
       "      <td>Summer</td>\n",
       "      <td>London</td>\n",
       "      <td>Judo</td>\n",
       "      <td>Judo Men's Extra-Lightweight</td>\n",
       "      <td>NaN</td>\n",
       "    </tr>\n",
       "    <tr>\n",
       "      <th>2</th>\n",
       "      <td>3</td>\n",
       "      <td>Gunnar Nielsen Aaby</td>\n",
       "      <td>M</td>\n",
       "      <td>24.0</td>\n",
       "      <td>NaN</td>\n",
       "      <td>NaN</td>\n",
       "      <td>Denmark</td>\n",
       "      <td>DEN</td>\n",
       "      <td>1920 Summer</td>\n",
       "      <td>1920</td>\n",
       "      <td>Summer</td>\n",
       "      <td>Antwerpen</td>\n",
       "      <td>Football</td>\n",
       "      <td>Football Men's Football</td>\n",
       "      <td>NaN</td>\n",
       "    </tr>\n",
       "    <tr>\n",
       "      <th>3</th>\n",
       "      <td>4</td>\n",
       "      <td>Edgar Lindenau Aabye</td>\n",
       "      <td>M</td>\n",
       "      <td>34.0</td>\n",
       "      <td>NaN</td>\n",
       "      <td>NaN</td>\n",
       "      <td>Denmark/Sweden</td>\n",
       "      <td>DEN</td>\n",
       "      <td>1900 Summer</td>\n",
       "      <td>1900</td>\n",
       "      <td>Summer</td>\n",
       "      <td>Paris</td>\n",
       "      <td>Tug-Of-War</td>\n",
       "      <td>Tug-Of-War Men's Tug-Of-War</td>\n",
       "      <td>Gold</td>\n",
       "    </tr>\n",
       "    <tr>\n",
       "      <th>4</th>\n",
       "      <td>5</td>\n",
       "      <td>Christine Jacoba Aaftink</td>\n",
       "      <td>F</td>\n",
       "      <td>21.0</td>\n",
       "      <td>185.0</td>\n",
       "      <td>82.0</td>\n",
       "      <td>Netherlands</td>\n",
       "      <td>NED</td>\n",
       "      <td>1988 Winter</td>\n",
       "      <td>1988</td>\n",
       "      <td>Winter</td>\n",
       "      <td>Calgary</td>\n",
       "      <td>Speed Skating</td>\n",
       "      <td>Speed Skating Women's 500 metres</td>\n",
       "      <td>NaN</td>\n",
       "    </tr>\n",
       "  </tbody>\n",
       "</table>\n",
       "</div>"
      ],
      "text/plain": [
       "   ID                      Name Sex   Age  Height  Weight            Team  \\\n",
       "0   1                 A Dijiang   M  24.0   180.0    80.0           China   \n",
       "1   2                  A Lamusi   M  23.0   170.0    60.0           China   \n",
       "2   3       Gunnar Nielsen Aaby   M  24.0     NaN     NaN         Denmark   \n",
       "3   4      Edgar Lindenau Aabye   M  34.0     NaN     NaN  Denmark/Sweden   \n",
       "4   5  Christine Jacoba Aaftink   F  21.0   185.0    82.0     Netherlands   \n",
       "\n",
       "   NOC        Games  Year  Season       City          Sport  \\\n",
       "0  CHN  1992 Summer  1992  Summer  Barcelona     Basketball   \n",
       "1  CHN  2012 Summer  2012  Summer     London           Judo   \n",
       "2  DEN  1920 Summer  1920  Summer  Antwerpen       Football   \n",
       "3  DEN  1900 Summer  1900  Summer      Paris     Tug-Of-War   \n",
       "4  NED  1988 Winter  1988  Winter    Calgary  Speed Skating   \n",
       "\n",
       "                              Event Medal  \n",
       "0       Basketball Men's Basketball   NaN  \n",
       "1      Judo Men's Extra-Lightweight   NaN  \n",
       "2           Football Men's Football   NaN  \n",
       "3       Tug-Of-War Men's Tug-Of-War  Gold  \n",
       "4  Speed Skating Women's 500 metres   NaN  "
      ]
     },
     "execution_count": 3,
     "metadata": {},
     "output_type": "execute_result"
    }
   ],
   "source": [
    "olympicEvents.head()"
   ]
  },
  {
   "cell_type": "markdown",
   "id": "e3c262b0-5ea5-4c5a-801b-36dff2aa5da8",
   "metadata": {},
   "source": [
    "## Data Wrangling"
   ]
  },
  {
   "cell_type": "markdown",
   "id": "dc31c6d5-c0b5-435e-9a2b-a18afad34150",
   "metadata": {},
   "source": [
    "### Drop the NAs"
   ]
  },
  {
   "cell_type": "code",
   "execution_count": 6,
   "id": "7da2f4e0-773b-456b-a3e0-6755d4230167",
   "metadata": {},
   "outputs": [],
   "source": [
    "olympicEvents.dropna(inplace=True)"
   ]
  },
  {
   "cell_type": "markdown",
   "id": "f5b19a99-be86-4e54-9b16-63be38920fef",
   "metadata": {},
   "source": [
    "## Single Sample t-test"
   ]
  },
  {
   "cell_type": "markdown",
   "id": "96ed073c-13e9-4975-b6fb-861ddc724256",
   "metadata": {},
   "source": [
    "### Question: Is the average age different from 22?"
   ]
  },
  {
   "cell_type": "markdown",
   "id": "9450f4ab-375c-49c4-b76a-dd1e6b81e0cc",
   "metadata": {},
   "source": [
    "### test for assumptions first - is it Normally Distributed"
   ]
  },
  {
   "cell_type": "code",
   "execution_count": 7,
   "id": "b930df3f-442e-4d24-8992-de3c7f2fbed1",
   "metadata": {},
   "outputs": [
    {
     "data": {
      "text/plain": [
       "<AxesSubplot:>"
      ]
     },
     "execution_count": 7,
     "metadata": {},
     "output_type": "execute_result"
    },
    {
     "data": {
      "image/png": "[encoded data removed]",
      "text/plain": [
       "<Figure size 432x288 with 1 Axes>"
      ]
     },
     "metadata": {
      "needs_background": "light"
     },
     "output_type": "display_data"
    }
   ],
   "source": [
    "olympicEvents['Age'].hist()"
   ]
  },
  {
   "cell_type": "markdown",
   "id": "279bd709-4ad1-4305-bb02-3cf95a42f4d4",
   "metadata": {},
   "source": [
    "### looks like it could maybe be normally distributed"
   ]
  },
  {
   "cell_type": "markdown",
   "id": "f58a5f7b-5391-4509-9e22-adeb91284b5e",
   "metadata": {},
   "source": [
    "## Run the Analysis"
   ]
  },
  {
   "cell_type": "code",
   "execution_count": 8,
   "id": "956bba39-1300-4f38-b75d-b938558e6c96",
   "metadata": {},
   "outputs": [
    {
     "data": {
      "text/plain": [
       "Ttest_1sampResult(statistic=117.96999514411488, pvalue=0.0)"
      ]
     },
     "execution_count": 8,
     "metadata": {},
     "output_type": "execute_result"
    }
   ],
   "source": [
    "stats.ttest_1samp(olympicEvents['Age'], 22)"
   ]
  },
  {
   "cell_type": "markdown",
   "id": "88c73e03-ce16-4466-9669-3bb1774c9734",
   "metadata": {},
   "source": [
    "### We can tell the average age is differnt from 22 - is it higher? is it lower?"
   ]
  },
  {
   "cell_type": "code",
   "execution_count": 9,
   "id": "6ba2712c-7aa0-476f-a82e-0ce553c6f624",
   "metadata": {},
   "outputs": [
    {
     "data": {
      "text/plain": [
       "25.42901162983334"
      ]
     },
     "execution_count": 9,
     "metadata": {},
     "output_type": "execute_result"
    }
   ],
   "source": [
    "olympicEvents.Age.mean()"
   ]
  },
  {
   "cell_type": "markdown",
   "id": "d3deeb04-5074-45e0-b018-ed1a2e220564",
   "metadata": {},
   "source": [
    "## Independent t-test"
   ]
  },
  {
   "cell_type": "markdown",
   "id": "a4026bed-3093-4e54-bcc0-94f748831fcf",
   "metadata": {},
   "source": [
    "### Does the average age differ between men and women?"
   ]
  },
  {
   "cell_type": "markdown",
   "id": "ad040f7c-7133-4a63-a4d5-e53b28c2723b",
   "metadata": {},
   "source": [
    "### test for assumptions first - is it Normally Distributed"
   ]
  },
  {
   "cell_type": "code",
   "execution_count": 10,
   "id": "0c214fe3-1aee-405c-b76b-5079153776d1",
   "metadata": {},
   "outputs": [
    {
     "data": {
      "text/plain": [
       "<AxesSubplot:>"
      ]
     },
     "execution_count": 10,
     "metadata": {},
     "output_type": "execute_result"
    },
    {
     "data": {
      "image/png": "[encoded data removed]",
      "text/plain": [
       "<Figure size 432x288 with 1 Axes>"
      ]
     },
     "metadata": {
      "needs_background": "light"
     },
     "output_type": "display_data"
    }
   ],
   "source": [
    "olympicEvents.Age[olympicEvents.Sex == 'M'].hist()\n",
    "## distribution of male age"
   ]
  },
  {
   "cell_type": "code",
   "execution_count": 11,
   "id": "fe85e160-3ee4-4e5d-8f4c-ad04636d90cd",
   "metadata": {},
   "outputs": [
    {
     "data": {
      "text/plain": [
       "<AxesSubplot:>"
      ]
     },
     "execution_count": 11,
     "metadata": {},
     "output_type": "execute_result"
    },
    {
     "data": {
      "image/png": "[encoded data removed]",
      "text/plain": [
       "<Figure size 432x288 with 1 Axes>"
      ]
     },
     "metadata": {
      "needs_background": "light"
     },
     "output_type": "display_data"
    }
   ],
   "source": [
    "olympicEvents.Age[olympicEvents.Sex == 'F'].hist()\n",
    "## distribution of female age"
   ]
  },
  {
   "cell_type": "markdown",
   "id": "c828ba13-e2a8-4016-a599-96e74b603107",
   "metadata": {},
   "source": [
    "# moving forward like they are normally distributed"
   ]
  },
  {
   "cell_type": "code",
   "execution_count": 12,
   "id": "54f429d4-e27d-4b4e-88fa-83ce8f7cbbb3",
   "metadata": {},
   "outputs": [
    {
     "data": {
      "text/plain": [
       "Ttest_indResult(statistic=20.811905071131516, pvalue=1.5853311644818236e-95)"
      ]
     },
     "execution_count": 12,
     "metadata": {},
     "output_type": "execute_result"
    }
   ],
   "source": [
    "ttest_ind(olympicEvents.Age[olympicEvents.Sex == 'M'], olympicEvents.Age[olympicEvents.Sex == 'F'])"
   ]
  },
  {
   "cell_type": "code",
   "execution_count": 13,
   "id": "d1598416-2998-4109-a9f1-e758d70deb3f",
   "metadata": {},
   "outputs": [
    {
     "data": {
      "text/plain": [
       "Sex\n",
       "F    24.597585\n",
       "M    25.862942\n",
       "Name: Age, dtype: float64"
      ]
     },
     "execution_count": 13,
     "metadata": {},
     "output_type": "execute_result"
    }
   ],
   "source": [
    "olympicEvents.groupby('Sex')['Age'].mean()"
   ]
  },
  {
   "cell_type": "markdown",
   "id": "a42e9a85-258c-421a-bd8a-1e3c6dce256b",
   "metadata": {},
   "source": [
    "# Independent Chi-Square"
   ]
  },
  {
   "cell_type": "markdown",
   "id": "c540f5f1-5092-4cd2-923e-3ee0a2eac041",
   "metadata": {},
   "source": [
    "## Trying to see if the season influences the type of medal earned"
   ]
  },
  {
   "cell_type": "markdown",
   "id": "12007c0d-7f4b-4b7b-a45e-dc5ddb167502",
   "metadata": {},
   "source": [
    "### start with crosstab"
   ]
  },
  {
   "cell_type": "code",
   "execution_count": 15,
   "id": "12e6ff73-844d-466e-a746-f08851886148",
   "metadata": {},
   "outputs": [],
   "source": [
    "crosstab = pd.crosstab(olympicEvents['Season'], olympicEvents['Medal'])"
   ]
  },
  {
   "cell_type": "code",
   "execution_count": 16,
   "id": "28b3d456-6cae-471c-98c9-b43573238d77",
   "metadata": {},
   "outputs": [
    {
     "data": {
      "text/html": [
       "<div>\n",
       "<style scoped>\n",
       "    .dataframe tbody tr th:only-of-type {\n",
       "        vertical-align: middle;\n",
       "    }\n",
       "\n",
       "    .dataframe tbody tr th {\n",
       "        vertical-align: top;\n",
       "    }\n",
       "\n",
       "    .dataframe thead th {\n",
       "        text-align: right;\n",
       "    }\n",
       "</style>\n",
       "<table border=\"1\" class=\"dataframe\">\n",
       "  <thead>\n",
       "    <tr style=\"text-align: right;\">\n",
       "      <th>Medal</th>\n",
       "      <th>Bronze</th>\n",
       "      <th>Gold</th>\n",
       "      <th>Silver</th>\n",
       "    </tr>\n",
       "    <tr>\n",
       "      <th>Season</th>\n",
       "      <th></th>\n",
       "      <th></th>\n",
       "      <th></th>\n",
       "    </tr>\n",
       "  </thead>\n",
       "  <tbody>\n",
       "    <tr>\n",
       "      <th>Summer</th>\n",
       "      <td>8566</td>\n",
       "      <td>8542</td>\n",
       "      <td>8233</td>\n",
       "    </tr>\n",
       "    <tr>\n",
       "      <th>Winter</th>\n",
       "      <td>1582</td>\n",
       "      <td>1625</td>\n",
       "      <td>1633</td>\n",
       "    </tr>\n",
       "  </tbody>\n",
       "</table>\n",
       "</div>"
      ],
      "text/plain": [
       "Medal   Bronze  Gold  Silver\n",
       "Season                      \n",
       "Summer    8566  8542    8233\n",
       "Winter    1582  1625    1633"
      ]
     },
     "execution_count": 16,
     "metadata": {},
     "output_type": "execute_result"
    }
   ],
   "source": [
    "crosstab"
   ]
  },
  {
   "cell_type": "markdown",
   "id": "ed733008-85e3-4baf-a306-a06e58465e2c",
   "metadata": {},
   "source": [
    "### both season and medal are categorical "
   ]
  },
  {
   "cell_type": "code",
   "execution_count": 17,
   "id": "90cfd80b-14c0-4e8b-bd91-3451cf9c0694",
   "metadata": {},
   "outputs": [
    {
     "data": {
      "text/plain": [
       "(3.4745101681496746,\n",
       " 0.17600285120006448,\n",
       " 2,\n",
       " array([[8520.60793214, 8536.56098207, 8283.83108578],\n",
       "        [1627.39206786, 1630.43901793, 1582.16891422]]))"
      ]
     },
     "execution_count": 17,
     "metadata": {},
     "output_type": "execute_result"
    }
   ],
   "source": [
    "stats.chi2_contingency(crosstab)"
   ]
  },
  {
   "cell_type": "markdown",
   "id": "d05d3673-77d3-41df-90c0-163e0aee0c14",
   "metadata": {},
   "source": [
    "### - Chi-square value\n",
    "### - p-value\n",
    "### - number of seasons(??)\n",
    "### - array of medal counts if things were equal"
   ]
  },
  {
   "cell_type": "code",
   "execution_count": 20,
   "id": "a4f12852-b935-46a0-9f84-678d9bf9fdf7",
   "metadata": {},
   "outputs": [],
   "source": [
    "## p-value of .176 is not significant - makes sense because the Chi-square array is close to the real life medal counts"
   ]
  },
  {
   "cell_type": "markdown",
   "id": "468ad295-9117-4a92-b997-1ba52e2bd8e7",
   "metadata": {},
   "source": [
    "# Correlation"
   ]
  },
  {
   "cell_type": "code",
   "execution_count": 21,
   "id": "bf9976d5-96ac-4f99-9b16-35c497b2cd21",
   "metadata": {},
   "outputs": [
    {
     "data": {
      "text/plain": [
       "0.8018308248560182"
      ]
     },
     "execution_count": 21,
     "metadata": {},
     "output_type": "execute_result"
    }
   ],
   "source": [
    "olympicEvents['Height'].corr(olympicEvents['Weight'])"
   ]
  },
  {
   "cell_type": "code",
   "execution_count": 23,
   "id": "3285c157-63ce-4c01-9d54-e7ec76bd8bca",
   "metadata": {},
   "outputs": [],
   "source": [
    "## .8 out of 1 is pretty strong\n",
    "## it is positively correlated (as one goes up so does the other)"
   ]
  },
  {
   "cell_type": "code",
   "execution_count": 25,
   "id": "95172671-a977-430a-919c-67115acd332f",
   "metadata": {},
   "outputs": [
    {
     "data": {
      "text/plain": [
       "<AxesSubplot:>"
      ]
     },
     "execution_count": 25,
     "metadata": {},
     "output_type": "execute_result"
    },
    {
     "data": {
      "image/png": "[encoded data removed]",
      "text/plain": [
       "<Figure size 432x288 with 2 Axes>"
      ]
     },
     "metadata": {
      "needs_background": "light"
     },
     "output_type": "display_data"
    }
   ],
   "source": [
    "sns.heatmap(olympicEvents.corr(), annot = True)\n",
    "## to get a visual representation of all the variables we call sns.heatmap(dataset.corr())\n",
    "## annot = True is the show the actual correlation values"
   ]
  },
  {
   "cell_type": "markdown",
   "id": "9c7d3cc8-eba7-45d7-9396-55e51f201b55",
   "metadata": {},
   "source": [
    "Introduction\n",
    "\n",
    "This lesson will cover the basic statistics you already know how to do in MS Excel and R in Python.\n",
    "\n",
    "By the end of this lesson, you should be able to complete the following tasks in Python:\n",
    "\n",
    "Single sample, independent, and dependent t tests\n",
    "\n",
    "Chi-Squares\n",
    "\n",
    "Correlation"
   ]
  },
  {
   "cell_type": "code",
   "execution_count": 26,
   "id": "f3d24aa8-e7b0-4c87-85ea-7e79db2ea100",
   "metadata": {},
   "outputs": [],
   "source": [
    "#### Page 2"
   ]
  },
  {
   "cell_type": "markdown",
   "id": "fa948eba-f780-40c4-8b26-ff097f5b5124",
   "metadata": {},
   "source": [
    "# Single Sample t-test"
   ]
  },
  {
   "cell_type": "markdown",
   "id": "49670896-423e-4ba3-a17d-75d56b549a39",
   "metadata": {},
   "source": [
    "Remember that a single-sample t-test is meant to examine whether a particular value is different than the population mean. You've already performed single sample t-tests by hand and using R. Now it's time to learn how to complete them in Python!"
   ]
  },
  {
   "cell_type": "code",
   "execution_count": 28,
   "id": "33b0961f-2bca-48e8-a722-1fa4138b83fa",
   "metadata": {},
   "outputs": [],
   "source": [
    "## packages already imported above"
   ]
  },
  {
   "cell_type": "code",
   "execution_count": 29,
   "id": "3e80aa46-0a87-40e2-aca6-c256d58d5e18",
   "metadata": {},
   "outputs": [],
   "source": [
    "## load in data"
   ]
  },
  {
   "cell_type": "code",
   "execution_count": 4,
   "id": "e11de952-9b83-4557-9fe3-a1e687f67b47",
   "metadata": {},
   "outputs": [],
   "source": [
    "hybrid2013 = pd.read_excel('../../datasets/hybrid2013.xlsx')"
   ]
  },
  {
   "cell_type": "code",
   "execution_count": 5,
   "id": "8fe52781-25df-40dd-9eeb-d5f83027ebdc",
   "metadata": {},
   "outputs": [
    {
     "data": {
      "text/html": [
       "<div>\n",
       "<style scoped>\n",
       "    .dataframe tbody tr th:only-of-type {\n",
       "        vertical-align: middle;\n",
       "    }\n",
       "\n",
       "    .dataframe tbody tr th {\n",
       "        vertical-align: top;\n",
       "    }\n",
       "\n",
       "    .dataframe thead th {\n",
       "        text-align: right;\n",
       "    }\n",
       "</style>\n",
       "<table border=\"1\" class=\"dataframe\">\n",
       "  <thead>\n",
       "    <tr style=\"text-align: right;\">\n",
       "      <th></th>\n",
       "      <th>carid</th>\n",
       "      <th>vehicle</th>\n",
       "      <th>year</th>\n",
       "      <th>msrp</th>\n",
       "      <th>accelrate</th>\n",
       "      <th>mpg</th>\n",
       "      <th>mpgmpge</th>\n",
       "      <th>carclass</th>\n",
       "      <th>carclass_id</th>\n",
       "    </tr>\n",
       "  </thead>\n",
       "  <tbody>\n",
       "    <tr>\n",
       "      <th>0</th>\n",
       "      <td>111</td>\n",
       "      <td>Prius C</td>\n",
       "      <td>2013</td>\n",
       "      <td>19080</td>\n",
       "      <td>8.70</td>\n",
       "      <td>50</td>\n",
       "      <td>50</td>\n",
       "      <td>C</td>\n",
       "      <td>1</td>\n",
       "    </tr>\n",
       "    <tr>\n",
       "      <th>1</th>\n",
       "      <td>112</td>\n",
       "      <td>Jetta</td>\n",
       "      <td>2013</td>\n",
       "      <td>24995</td>\n",
       "      <td>12.66</td>\n",
       "      <td>45</td>\n",
       "      <td>45</td>\n",
       "      <td>C</td>\n",
       "      <td>1</td>\n",
       "    </tr>\n",
       "    <tr>\n",
       "      <th>2</th>\n",
       "      <td>113</td>\n",
       "      <td>Civic</td>\n",
       "      <td>2013</td>\n",
       "      <td>24360</td>\n",
       "      <td>10.20</td>\n",
       "      <td>44</td>\n",
       "      <td>44</td>\n",
       "      <td>C</td>\n",
       "      <td>1</td>\n",
       "    </tr>\n",
       "    <tr>\n",
       "      <th>3</th>\n",
       "      <td>114</td>\n",
       "      <td>Prius</td>\n",
       "      <td>2013</td>\n",
       "      <td>24200</td>\n",
       "      <td>10.20</td>\n",
       "      <td>50</td>\n",
       "      <td>50</td>\n",
       "      <td>M</td>\n",
       "      <td>3</td>\n",
       "    </tr>\n",
       "    <tr>\n",
       "      <th>4</th>\n",
       "      <td>115</td>\n",
       "      <td>Fusion FWD</td>\n",
       "      <td>2013</td>\n",
       "      <td>27200</td>\n",
       "      <td>11.72</td>\n",
       "      <td>47</td>\n",
       "      <td>47</td>\n",
       "      <td>M</td>\n",
       "      <td>3</td>\n",
       "    </tr>\n",
       "  </tbody>\n",
       "</table>\n",
       "</div>"
      ],
      "text/plain": [
       "   carid     vehicle  year   msrp  accelrate  mpg  mpgmpge carclass  \\\n",
       "0    111     Prius C  2013  19080       8.70   50       50        C   \n",
       "1    112       Jetta  2013  24995      12.66   45       45        C   \n",
       "2    113       Civic  2013  24360      10.20   44       44        C   \n",
       "3    114       Prius  2013  24200      10.20   50       50        M   \n",
       "4    115  Fusion FWD  2013  27200      11.72   47       47        M   \n",
       "\n",
       "   carclass_id  \n",
       "0            1  \n",
       "1            1  \n",
       "2            1  \n",
       "3            3  \n",
       "4            3  "
      ]
     },
     "execution_count": 5,
     "metadata": {},
     "output_type": "execute_result"
    }
   ],
   "source": [
    "hybrid2013.head()"
   ]
  },
  {
   "cell_type": "markdown",
   "id": "5bcd2ccd-5822-4579-8274-fe8a949c25ba",
   "metadata": {},
   "source": [
    "## Question: is a cost of $25,000 for a hybrid in 2013 different than the mean cost?"
   ]
  },
  {
   "cell_type": "markdown",
   "id": "63243733-65c0-4b96-aaaf-ae5ae264d92b",
   "metadata": {},
   "source": [
    "## testing asumptions - is this normally distributed? "
   ]
  },
  {
   "cell_type": "code",
   "execution_count": 32,
   "id": "cc624d02-30d5-4193-b984-d1cf22469230",
   "metadata": {},
   "outputs": [
    {
     "data": {
      "text/plain": [
       "<AxesSubplot:>"
      ]
     },
     "execution_count": 32,
     "metadata": {},
     "output_type": "execute_result"
    },
    {
     "data": {
      "image/png": "[encoded data removed]",
      "text/plain": [
       "<Figure size 432x288 with 1 Axes>"
      ]
     },
     "metadata": {
      "needs_background": "light"
     },
     "output_type": "display_data"
    }
   ],
   "source": [
    "hybrid2013['msrp'].hist()"
   ]
  },
  {
   "cell_type": "code",
   "execution_count": 33,
   "id": "9a0cb200-0ded-4826-9f6c-3d8f9b593420",
   "metadata": {},
   "outputs": [],
   "source": [
    "# Looks like things aren't quite normally distributed, but you'll let it slide for now for learning purposes."
   ]
  },
  {
   "cell_type": "markdown",
   "id": "d6b4c16b-2bdc-4b43-862f-4fa8be7bbafa",
   "metadata": {},
   "source": [
    "## Run the analysis"
   ]
  },
  {
   "cell_type": "markdown",
   "id": "1a9fbdd6-ad87-4617-a7ce-d6ec26dc654a",
   "metadata": {},
   "source": [
    "There is only one line of code needed to run a single sample t-test in Python. The function stats.ttest_1samp() performs the function, and takes the argument of the data column that contains your population values, and then the x value that you are trying to test against, which is $25,000."
   ]
  },
  {
   "cell_type": "code",
   "execution_count": 34,
   "id": "c2bb1839-3309-40f1-b598-638ed0380ce8",
   "metadata": {},
   "outputs": [
    {
     "data": {
      "text/plain": [
       "Ttest_1sampResult(statistic=6.003733172775179, pvalue=3.9231807518835515e-07)"
      ]
     },
     "execution_count": 34,
     "metadata": {},
     "output_type": "execute_result"
    }
   ],
   "source": [
    "stats.ttest_1samp(hybrid2013['msrp'], 25000)"
   ]
  },
  {
   "cell_type": "markdown",
   "id": "dac8e46a-5fbc-4f8f-b0dd-9c16d30f66a6",
   "metadata": {},
   "source": [
    "The statistic is your t value, and the p value is the one associated with that t-test. Remember that the p value is written in scientific notation, so this is significant at p < .05. That means that buying a hybrid car for $25,000 in 2013 is different than the population mean. Is it higher or lower? To answer that question, you will need to examine the population mean:"
   ]
  },
  {
   "cell_type": "code",
   "execution_count": 35,
   "id": "96982800-3ae8-4d3a-9787-2a7f6a406b02",
   "metadata": {},
   "outputs": [
    {
     "data": {
      "text/plain": [
       "42943.48837209302"
      ]
     },
     "execution_count": 35,
     "metadata": {},
     "output_type": "execute_result"
    }
   ],
   "source": [
    "hybrid2013.msrp.mean()"
   ]
  },
  {
   "cell_type": "code",
   "execution_count": 36,
   "id": "697f4110-7c39-478e-908b-f51365575366",
   "metadata": {},
   "outputs": [],
   "source": [
    "## the average hybrid msrp in 2013 was $42943.49 cents - well above the point of $25000 we were testing"
   ]
  },
  {
   "cell_type": "code",
   "execution_count": 37,
   "id": "4e43645a-d87a-4152-93dc-e3b91bf194fc",
   "metadata": {},
   "outputs": [],
   "source": [
    "#### Page 3"
   ]
  },
  {
   "cell_type": "markdown",
   "id": "e5bed99b-1ffb-4213-87a2-7c42db09572a",
   "metadata": {},
   "source": [
    "Using the hybrid2013 dataset you worked with in the lesson, determine whether a miles per gallon (mpg) rating of 40 is unusual for a hybrid car on the market in 2013. To do this, you will need to test for the assumption of normality by creating a histogram, and then run a single sample ttest."
   ]
  },
  {
   "cell_type": "code",
   "execution_count": 39,
   "id": "5997141b-7b71-459b-9213-0c51fc853c6c",
   "metadata": {},
   "outputs": [
    {
     "data": {
      "text/plain": [
       "<AxesSubplot:>"
      ]
     },
     "execution_count": 39,
     "metadata": {},
     "output_type": "execute_result"
    },
    {
     "data": {
      "image/png": "[encoded data removed]",
      "text/plain": [
       "<Figure size 432x288 with 1 Axes>"
      ]
     },
     "metadata": {
      "needs_background": "light"
     },
     "output_type": "display_data"
    }
   ],
   "source": [
    "# test the assumptions - is it normally distributed?\n",
    "hybrid2013.mpg.hist()"
   ]
  },
  {
   "cell_type": "code",
   "execution_count": 40,
   "id": "b8eb9ed1-ec9b-489f-ba87-fd131d1ba5a8",
   "metadata": {},
   "outputs": [],
   "source": [
    "# not normally distributed, but continue to answer the question"
   ]
  },
  {
   "cell_type": "code",
   "execution_count": 41,
   "id": "48f97772-d25f-4aee-bce6-543f3e13f815",
   "metadata": {},
   "outputs": [
    {
     "data": {
      "text/plain": [
       "Ttest_1sampResult(statistic=-4.427320491687408, pvalue=6.67005084670698e-05)"
      ]
     },
     "execution_count": 41,
     "metadata": {},
     "output_type": "execute_result"
    }
   ],
   "source": [
    "# run the single sample t-test analysis\n",
    "stats.ttest_1samp(hybrid2013['mpg'], 40)"
   ]
  },
  {
   "cell_type": "code",
   "execution_count": 42,
   "id": "45c48f2b-2b51-4ee9-b180-9fbbe6aea87c",
   "metadata": {},
   "outputs": [
    {
     "data": {
      "text/plain": [
       "33.48837209302326"
      ]
     },
     "execution_count": 42,
     "metadata": {},
     "output_type": "execute_result"
    }
   ],
   "source": [
    "# The p-value tells us that 40 is significantly different than the average mpg\n",
    "# by how much? Is it higher or lower?\n",
    "hybrid2013.mpg.mean()"
   ]
  },
  {
   "cell_type": "code",
   "execution_count": 43,
   "id": "95a7f077-0d01-4130-9875-b6efe9a35efe",
   "metadata": {},
   "outputs": [],
   "source": [
    "# 33.49 mpg is the average for hybrids in 2013, well lower than our data point of 40"
   ]
  },
  {
   "cell_type": "code",
   "execution_count": 44,
   "id": "357e4af0-a399-4e01-9bec-e7095a6663bf",
   "metadata": {},
   "outputs": [],
   "source": [
    "#### Page 4 is the solution for activity above"
   ]
  },
  {
   "cell_type": "code",
   "execution_count": 45,
   "id": "f08d26de-05e5-413d-8d71-5745038fb159",
   "metadata": {},
   "outputs": [],
   "source": [
    "#### Page 5"
   ]
  },
  {
   "cell_type": "markdown",
   "id": "8999a7f2-773e-4ed5-9fc5-51946cfdd41b",
   "metadata": {},
   "source": [
    "bullet\n",
    "* example one"
   ]
  },
  {
   "cell_type": "markdown",
   "id": "5c0c751f-5f1b-4212-8f8d-e156d90edf30",
   "metadata": {},
   "source": [
    "bullet 2\n",
    "- example 2"
   ]
  },
  {
   "cell_type": "code",
   "execution_count": 48,
   "id": "8a4685dc-3864-496c-aa34-f981e57176df",
   "metadata": {},
   "outputs": [],
   "source": [
    "## 2 cells above show examples of markdowns with * and - to make bullets"
   ]
  },
  {
   "cell_type": "markdown",
   "id": "c00c68ae-fb39-433d-b1ac-782539793abf",
   "metadata": {},
   "source": [
    "# Testing Assumptions"
   ]
  },
  {
   "cell_type": "markdown",
   "id": "085eadcc-9e0b-4f8a-999d-0e12f475764d",
   "metadata": {},
   "source": [
    "The only assumption that independent t has is normality. You will need to test normality for each of your groups - compact and mid-sized hybrid cars.\n",
    "\n",
    "This code is very similar to before, but has an extra layer of specifying which values from the carclass you want to examine:"
   ]
  },
  {
   "cell_type": "code",
   "execution_count": 53,
   "id": "ca98b3fc-cd90-4965-84bb-a91218af36ff",
   "metadata": {},
   "outputs": [
    {
     "data": {
      "text/plain": [
       "<AxesSubplot:>"
      ]
     },
     "execution_count": 53,
     "metadata": {},
     "output_type": "execute_result"
    },
    {
     "data": {
      "image/png": "[encoded data removed]",
      "text/plain": [
       "<Figure size 432x288 with 1 Axes>"
      ]
     },
     "metadata": {
      "needs_background": "light"
     },
     "output_type": "display_data"
    }
   ],
   "source": [
    "hybrid2013.mpg[hybrid2013.carclass == 'C'].hist()\n",
    "# compact hybrid cars histogram"
   ]
  },
  {
   "cell_type": "markdown",
   "id": "26520973-22d3-478f-928c-9df07a241f66",
   "metadata": {},
   "source": [
    "Same thing for the mid-size hybrid cars:"
   ]
  },
  {
   "cell_type": "code",
   "execution_count": 54,
   "id": "c41fe4c3-18c5-46ac-8b57-7c159150f6e3",
   "metadata": {},
   "outputs": [
    {
     "data": {
      "text/plain": [
       "<AxesSubplot:>"
      ]
     },
     "execution_count": 54,
     "metadata": {},
     "output_type": "execute_result"
    },
    {
     "data": {
      "image/png": "[encoded data removed]",
      "text/plain": [
       "<Figure size 432x288 with 1 Axes>"
      ]
     },
     "metadata": {
      "needs_background": "light"
     },
     "output_type": "display_data"
    }
   ],
   "source": [
    "hybrid2013.mpg[hybrid2013.carclass == 'M'].hist()\n",
    "# mid-sized hybrid cars histogram"
   ]
  },
  {
   "cell_type": "markdown",
   "id": "a7421450-422b-40f6-bb9c-1af72fd6d131",
   "metadata": {},
   "source": [
    "It looks like neither of these are bell-shaped, and are thus not normal, but for the purposes of learning, you will continue."
   ]
  },
  {
   "cell_type": "markdown",
   "id": "4529dcd9-39fb-4f35-850f-22eb83ef1e01",
   "metadata": {},
   "source": [
    "# Running the Analysis"
   ]
  },
  {
   "cell_type": "markdown",
   "id": "668bf07b-1d95-4e52-8864-1fa776f12ada",
   "metadata": {},
   "source": [
    "You will use the function ttest_ind() to run an independent t test in Python. The arguments are two things you want to compare to each other. If you happen to have those two things in separate columns, then it would simply look like this mock code:"
   ]
  },
  {
   "cell_type": "code",
   "execution_count": 51,
   "id": "e636aa62-6e8a-4f24-b4ac-5fc66f0abdc9",
   "metadata": {},
   "outputs": [],
   "source": [
    "# ttest_ind(data[column1], data[column2]) <--- this is example code"
   ]
  },
  {
   "cell_type": "markdown",
   "id": "133236cf-6360-4ae4-a38e-aa53ed85da69",
   "metadata": {},
   "source": [
    "But since in this case, your data is all stored in the same carclass column, and you want to pull out the data for certain values, the code looks just a bit more complicated:"
   ]
  },
  {
   "cell_type": "code",
   "execution_count": 52,
   "id": "af15def7-55d0-4cfc-b19f-297d2c0aff06",
   "metadata": {},
   "outputs": [
    {
     "data": {
      "text/plain": [
       "Ttest_indResult(statistic=1.0751886097093057, pvalue=0.29216712457079796)"
      ]
     },
     "execution_count": 52,
     "metadata": {},
     "output_type": "execute_result"
    }
   ],
   "source": [
    "ttest_ind(hybrid2013.mpg[hybrid2013.carclass == 'C'], hybrid2013.mpg[hybrid2013.carclass == 'M'])"
   ]
  },
  {
   "cell_type": "code",
   "execution_count": 55,
   "id": "a13237a4-1267-4a12-a071-b98c9b1cc13b",
   "metadata": {},
   "outputs": [],
   "source": [
    "# with a p-value above 0.05 we see there is no significant difference b/t compact and mid-size in terms of mpg. small t-value also indicates little to no significance "
   ]
  },
  {
   "cell_type": "code",
   "execution_count": 56,
   "id": "45773a4e-9ce5-4b4c-99f4-9ef7095ed2ae",
   "metadata": {},
   "outputs": [],
   "source": [
    "#### Page 6"
   ]
  },
  {
   "cell_type": "markdown",
   "id": "e9b51801-7925-45d5-827d-abc77fffc3ab",
   "metadata": {},
   "source": [
    "For your Activity, you will be computing an independent t-test to see if the miles per gallon differ between compact (C) and large (L) cars.\n",
    "\n",
    "To do this, you will need to test for the assumption of normality for both groups by creating a histogram, and then run an independent ttest."
   ]
  },
  {
   "cell_type": "code",
   "execution_count": 59,
   "id": "21030ab1-8e47-476e-8c68-0190471ee856",
   "metadata": {},
   "outputs": [
    {
     "data": {
      "text/plain": [
       "<AxesSubplot:>"
      ]
     },
     "execution_count": 59,
     "metadata": {},
     "output_type": "execute_result"
    },
    {
     "data": {
      "image/png": "[encoded data removed]",
      "text/plain": [
       "<Figure size 432x288 with 1 Axes>"
      ]
     },
     "metadata": {
      "needs_background": "light"
     },
     "output_type": "display_data"
    }
   ],
   "source": [
    "# testing assumptions for both groups, compact and large\n",
    "hybrid2013.mpg[hybrid2013.carclass == 'C'].hist()\n",
    "# compact mpg histogram"
   ]
  },
  {
   "cell_type": "code",
   "execution_count": 60,
   "id": "900d7729-2128-4a48-97ed-a0e0f95ae028",
   "metadata": {},
   "outputs": [
    {
     "data": {
      "text/plain": [
       "<AxesSubplot:>"
      ]
     },
     "execution_count": 60,
     "metadata": {},
     "output_type": "execute_result"
    },
    {
     "data": {
      "image/png": "[encoded data removed]",
      "text/plain": [
       "<Figure size 432x288 with 1 Axes>"
      ]
     },
     "metadata": {
      "needs_background": "light"
     },
     "output_type": "display_data"
    }
   ],
   "source": [
    "hybrid2013.mpg[hybrid2013.carclass == 'L'].hist()\n",
    "# large mpg histogram"
   ]
  },
  {
   "cell_type": "markdown",
   "id": "072f6306-5dc2-49ba-92c3-dd8406637933",
   "metadata": {},
   "source": [
    "### not normally distributed, but still complete the activity."
   ]
  },
  {
   "cell_type": "code",
   "execution_count": 61,
   "id": "844af97a-64bd-4672-b708-bf03df30ef78",
   "metadata": {},
   "outputs": [
    {
     "data": {
      "text/plain": [
       "Ttest_indResult(statistic=2.598820461640718, pvalue=0.026545168887970098)"
      ]
     },
     "execution_count": 61,
     "metadata": {},
     "output_type": "execute_result"
    }
   ],
   "source": [
    "stats.ttest_ind(hybrid2013.mpg[hybrid2013.carclass == 'C'], hybrid2013.mpg[hybrid2013.carclass == 'L'])"
   ]
  },
  {
   "cell_type": "code",
   "execution_count": 62,
   "id": "46e2d421-0159-4b27-aa55-49c338ddeb2d",
   "metadata": {},
   "outputs": [],
   "source": [
    "# with alpha at 0.05, and a p-value of 0.02654 we discover there is a significant difference in the mpg of compact and large hybrids"
   ]
  },
  {
   "cell_type": "code",
   "execution_count": 63,
   "id": "a3776234-2196-44bf-becb-3f004e54b022",
   "metadata": {},
   "outputs": [
    {
     "data": {
      "text/plain": [
       "40.75"
      ]
     },
     "execution_count": 63,
     "metadata": {},
     "output_type": "execute_result"
    }
   ],
   "source": [
    "# time to get the average of each\n",
    "hybrid2013.mpg[hybrid2013.carclass == 'C'].mean()\n",
    "# compact"
   ]
  },
  {
   "cell_type": "code",
   "execution_count": 65,
   "id": "32908a98-862e-4d5b-b780-49b2ae7d0e22",
   "metadata": {},
   "outputs": [
    {
     "data": {
      "text/plain": [
       "28.5"
      ]
     },
     "execution_count": 65,
     "metadata": {},
     "output_type": "execute_result"
    }
   ],
   "source": [
    "hybrid2013.mpg[hybrid2013.carclass == 'L'].mean()\n",
    "# large"
   ]
  },
  {
   "cell_type": "markdown",
   "id": "937ba4db-15ee-4efc-af96-d2b4c524115d",
   "metadata": {},
   "source": [
    "#### There is over a 12 mpg differnce in these two carclasses."
   ]
  },
  {
   "cell_type": "code",
   "execution_count": 66,
   "id": "0cc69df9-aa7c-404a-be18-d7343efa3859",
   "metadata": {},
   "outputs": [],
   "source": [
    "#### Page 7 is solution to above activity"
   ]
  },
  {
   "cell_type": "code",
   "execution_count": 67,
   "id": "0632f7e9-2444-43ab-911d-bca4449317d5",
   "metadata": {},
   "outputs": [],
   "source": [
    "#### Page 8"
   ]
  },
  {
   "cell_type": "markdown",
   "id": "342c8d15-063d-4d10-bcd7-6424f7ffbcbf",
   "metadata": {},
   "source": [
    "# Dependent t-test"
   ]
  },
  {
   "cell_type": "markdown",
   "id": "4efd952b-d700-4bd9-88c4-b4a9a4740c49",
   "metadata": {},
   "source": [
    "The hybrid car data has been restructured for dependent t-tests and an additional year of data, 2012, has been added, and looks like this:"
   ]
  },
  {
   "cell_type": "code",
   "execution_count": 6,
   "id": "16b2ede8-03a5-4a2b-ad40-1c26c6803193",
   "metadata": {},
   "outputs": [
    {
     "data": {
      "text/html": [
       "<div>\n",
       "<style scoped>\n",
       "    .dataframe tbody tr th:only-of-type {\n",
       "        vertical-align: middle;\n",
       "    }\n",
       "\n",
       "    .dataframe tbody tr th {\n",
       "        vertical-align: top;\n",
       "    }\n",
       "\n",
       "    .dataframe thead th {\n",
       "        text-align: right;\n",
       "    }\n",
       "</style>\n",
       "<table border=\"1\" class=\"dataframe\">\n",
       "  <thead>\n",
       "    <tr style=\"text-align: right;\">\n",
       "      <th></th>\n",
       "      <th>vehicle</th>\n",
       "      <th>msrp2012</th>\n",
       "      <th>accelrate2012</th>\n",
       "      <th>mpg2012</th>\n",
       "      <th>mpgmpge2012</th>\n",
       "      <th>carclass2012</th>\n",
       "      <th>carclass_id2012</th>\n",
       "      <th>msrp2013</th>\n",
       "      <th>accelrate2013</th>\n",
       "      <th>mpg2013</th>\n",
       "      <th>mpgmpge2013</th>\n",
       "      <th>carclass2013</th>\n",
       "      <th>carclass_id2013</th>\n",
       "    </tr>\n",
       "  </thead>\n",
       "  <tbody>\n",
       "    <tr>\n",
       "      <th>0</th>\n",
       "      <td>ActiveHybrid 3</td>\n",
       "      <td>19006.62</td>\n",
       "      <td>9.35</td>\n",
       "      <td>50</td>\n",
       "      <td>50</td>\n",
       "      <td>C</td>\n",
       "      <td>1</td>\n",
       "      <td>19080</td>\n",
       "      <td>8.70</td>\n",
       "      <td>50</td>\n",
       "      <td>50</td>\n",
       "      <td>C</td>\n",
       "      <td>1</td>\n",
       "    </tr>\n",
       "    <tr>\n",
       "      <th>1</th>\n",
       "      <td>ActiveHybrid 5</td>\n",
       "      <td>32095.61</td>\n",
       "      <td>8.82</td>\n",
       "      <td>50</td>\n",
       "      <td>95</td>\n",
       "      <td>M</td>\n",
       "      <td>3</td>\n",
       "      <td>24995</td>\n",
       "      <td>12.66</td>\n",
       "      <td>45</td>\n",
       "      <td>45</td>\n",
       "      <td>C</td>\n",
       "      <td>1</td>\n",
       "    </tr>\n",
       "    <tr>\n",
       "      <th>2</th>\n",
       "      <td>Ampera</td>\n",
       "      <td>31739.55</td>\n",
       "      <td>11.11</td>\n",
       "      <td>37</td>\n",
       "      <td>98</td>\n",
       "      <td>C</td>\n",
       "      <td>1</td>\n",
       "      <td>24200</td>\n",
       "      <td>10.20</td>\n",
       "      <td>50</td>\n",
       "      <td>50</td>\n",
       "      <td>M</td>\n",
       "      <td>3</td>\n",
       "    </tr>\n",
       "    <tr>\n",
       "      <th>3</th>\n",
       "      <td>Camry LE</td>\n",
       "      <td>62180.23</td>\n",
       "      <td>16.67</td>\n",
       "      <td>26</td>\n",
       "      <td>26</td>\n",
       "      <td>M</td>\n",
       "      <td>3</td>\n",
       "      <td>18600</td>\n",
       "      <td>11.76</td>\n",
       "      <td>42</td>\n",
       "      <td>42</td>\n",
       "      <td>C</td>\n",
       "      <td>1</td>\n",
       "    </tr>\n",
       "    <tr>\n",
       "      <th>4</th>\n",
       "      <td>Chevrolet Volt</td>\n",
       "      <td>59126.14</td>\n",
       "      <td>16.95</td>\n",
       "      <td>31</td>\n",
       "      <td>31</td>\n",
       "      <td>M</td>\n",
       "      <td>3</td>\n",
       "      <td>69850</td>\n",
       "      <td>16.39</td>\n",
       "      <td>21</td>\n",
       "      <td>21</td>\n",
       "      <td>SUV</td>\n",
       "      <td>6</td>\n",
       "    </tr>\n",
       "  </tbody>\n",
       "</table>\n",
       "</div>"
      ],
      "text/plain": [
       "          vehicle  msrp2012  accelrate2012  mpg2012  mpgmpge2012 carclass2012  \\\n",
       "0  ActiveHybrid 3  19006.62           9.35       50           50            C   \n",
       "1  ActiveHybrid 5  32095.61           8.82       50           95            M   \n",
       "2          Ampera  31739.55          11.11       37           98            C   \n",
       "3        Camry LE  62180.23          16.67       26           26            M   \n",
       "4  Chevrolet Volt  59126.14          16.95       31           31            M   \n",
       "\n",
       "   carclass_id2012  msrp2013  accelrate2013  mpg2013  mpgmpge2013  \\\n",
       "0                1     19080           8.70       50           50   \n",
       "1                3     24995          12.66       45           45   \n",
       "2                1     24200          10.20       50           50   \n",
       "3                3     18600          11.76       42           42   \n",
       "4                3     69850          16.39       21           21   \n",
       "\n",
       "  carclass2013  carclass_id2013  \n",
       "0            C                1  \n",
       "1            C                1  \n",
       "2            M                3  \n",
       "3            C                1  \n",
       "4          SUV                6  "
      ]
     },
     "execution_count": 6,
     "metadata": {},
     "output_type": "execute_result"
    }
   ],
   "source": [
    "hybrid201213 = pd.read_excel('../../datasets/hybrid2012-13.xlsx')\n",
    "hybrid201213.head()"
   ]
  },
  {
   "cell_type": "markdown",
   "id": "f5891dbe-539e-49c9-ab44-bd52f81ca85e",
   "metadata": {},
   "source": [
    "Notice that it has the same variables repeated twice, once for 2012, and once for 2013. You'll also notice that the number of rows is greatly reduced form the dataset with only hybrid cars from 2013. This is because only those cars that had an entry for both 2012 and 2013 were included.\n",
    "\n",
    "You will be testing to see if the price of hybrid cars changes from 2012 to 2013."
   ]
  },
  {
   "cell_type": "markdown",
   "id": "d4a0d9c3-3494-49b5-9258-38acf9f856a3",
   "metadata": {},
   "source": [
    "## Testing Assumptions - normality"
   ]
  },
  {
   "cell_type": "markdown",
   "id": "09911b2e-4563-4c7e-a84e-91dd2b02869b",
   "metadata": {},
   "source": [
    "As with independent t-tests, you'll need a histogram for each variable."
   ]
  },
  {
   "cell_type": "code",
   "execution_count": 73,
   "id": "4bdaef05-ae3b-43d2-aab6-bcba226e1350",
   "metadata": {},
   "outputs": [
    {
     "data": {
      "text/plain": [
       "<AxesSubplot:>"
      ]
     },
     "execution_count": 73,
     "metadata": {},
     "output_type": "execute_result"
    },
    {
     "data": {
      "image/png": "[encoded data removed]",
      "text/plain": [
       "<Figure size 432x288 with 1 Axes>"
      ]
     },
     "metadata": {
      "needs_background": "light"
     },
     "output_type": "display_data"
    }
   ],
   "source": [
    "hybrid201213['msrp2012'].hist()\n",
    "# 2012 msrp histogram"
   ]
  },
  {
   "cell_type": "code",
   "execution_count": 75,
   "id": "49693d8c-48d8-4d77-a483-19c846413a05",
   "metadata": {},
   "outputs": [
    {
     "data": {
      "text/plain": [
       "<AxesSubplot:>"
      ]
     },
     "execution_count": 75,
     "metadata": {},
     "output_type": "execute_result"
    },
    {
     "data": {
      "image/png": "[encoded data removed]",
      "text/plain": [
       "<Figure size 432x288 with 1 Axes>"
      ]
     },
     "metadata": {
      "needs_background": "light"
     },
     "output_type": "display_data"
    }
   ],
   "source": [
    "hybrid201213['msrp2013'].hist()\n",
    "# 2013 msrp histogram"
   ]
  },
  {
   "cell_type": "markdown",
   "id": "19d895a1-2d72-4f67-a274-f4d56ec43036",
   "metadata": {},
   "source": [
    "Not really normally distributed, but ignore for now for the purposes of learning."
   ]
  },
  {
   "cell_type": "markdown",
   "id": "5f71b4dc-0b0e-45c1-8e9c-c7334feecab0",
   "metadata": {},
   "source": [
    "## Analysis time"
   ]
  },
  {
   "cell_type": "markdown",
   "id": "c09bbab1-d3c1-4174-8996-5297b85cfa59",
   "metadata": {},
   "source": [
    "You can use the function stats.ttest_rel() to compute a dependent t-test in Python. Think of the _rel as standing for related, since the samples are paired. The only arguments are the two columns of data you want to use."
   ]
  },
  {
   "cell_type": "code",
   "execution_count": 78,
   "id": "d5a67d5d-e7d2-4968-b85c-e4deb9a4d07e",
   "metadata": {},
   "outputs": [
    {
     "data": {
      "text/plain": [
       "Ttest_relResult(statistic=0.23749650777597428, pvalue=0.8162780348473798)"
      ]
     },
     "execution_count": 78,
     "metadata": {},
     "output_type": "execute_result"
    }
   ],
   "source": [
    "stats.ttest_rel(hybrid201213['msrp2012'], hybrid201213['msrp2013'])"
   ]
  },
  {
   "cell_type": "code",
   "execution_count": 79,
   "id": "91ee0b83-2fa5-44cd-9f13-ba61ebec0237",
   "metadata": {},
   "outputs": [],
   "source": [
    "## This shows that there is NO significant change in hybrid car price from 2012 to 2013, since the p value is not less than .05."
   ]
  },
  {
   "cell_type": "code",
   "execution_count": 80,
   "id": "5205215a-b88b-400f-a28c-443d40aa0822",
   "metadata": {},
   "outputs": [],
   "source": [
    "#### Page 9"
   ]
  },
  {
   "cell_type": "markdown",
   "id": "c360f744-b37a-4579-b098-497055754d2d",
   "metadata": {},
   "source": [
    "For your Activity, you will be computing an dependent t-test to see if the miles per gallon changes between 2012 and 2013.\n",
    "\n",
    "Determine if the mean miles per gallon changes from 2012 to 2013. To do this, you will need to test for the assumption of normality for both groups by creating a histogram, and then run a dependent ttest."
   ]
  },
  {
   "cell_type": "markdown",
   "id": "4751570e-4afd-4ece-b591-61cfebd498b8",
   "metadata": {},
   "source": [
    "#### normality testing"
   ]
  },
  {
   "cell_type": "code",
   "execution_count": 82,
   "id": "72e9163e-c614-4b88-93eb-268abe205e31",
   "metadata": {},
   "outputs": [
    {
     "data": {
      "text/plain": [
       "<AxesSubplot:>"
      ]
     },
     "execution_count": 82,
     "metadata": {},
     "output_type": "execute_result"
    },
    {
     "data": {
      "image/png": "[encoded data removed]",
      "text/plain": [
       "<Figure size 432x288 with 1 Axes>"
      ]
     },
     "metadata": {
      "needs_background": "light"
     },
     "output_type": "display_data"
    }
   ],
   "source": [
    "hybrid201213['mpg2012'].hist()\n",
    "# 2012 mpg histogram"
   ]
  },
  {
   "cell_type": "code",
   "execution_count": 83,
   "id": "08e3e50d-3726-4874-ae8b-c341e463712b",
   "metadata": {},
   "outputs": [
    {
     "data": {
      "text/plain": [
       "<AxesSubplot:>"
      ]
     },
     "execution_count": 83,
     "metadata": {},
     "output_type": "execute_result"
    },
    {
     "data": {
      "image/png": "[encoded data removed]",
      "text/plain": [
       "<Figure size 432x288 with 1 Axes>"
      ]
     },
     "metadata": {
      "needs_background": "light"
     },
     "output_type": "display_data"
    }
   ],
   "source": [
    "hybrid201213['mpg2013'].hist()\n",
    "# 2013 mpg histogram"
   ]
  },
  {
   "cell_type": "code",
   "execution_count": 84,
   "id": "8eeb90c3-cfbd-470c-9664-ae74f3b95874",
   "metadata": {},
   "outputs": [],
   "source": [
    "#### Not normally distributed, continue the activity."
   ]
  },
  {
   "cell_type": "markdown",
   "id": "20be61fe-ef60-4a1c-8646-b2f52aa1be92",
   "metadata": {},
   "source": [
    "#### Analysis of mpg from 2012 to 2013"
   ]
  },
  {
   "cell_type": "code",
   "execution_count": 86,
   "id": "18615c48-350c-4283-a65f-dc15eea76551",
   "metadata": {},
   "outputs": [
    {
     "data": {
      "text/plain": [
       "Ttest_relResult(statistic=0.14466598084438312, pvalue=0.8873759030512348)"
      ]
     },
     "execution_count": 86,
     "metadata": {},
     "output_type": "execute_result"
    }
   ],
   "source": [
    "stats.ttest_rel(hybrid201213['mpg2012'], hybrid201213['mpg2013'])"
   ]
  },
  {
   "cell_type": "code",
   "execution_count": 88,
   "id": "901aac61-b1d9-47e8-b837-a33987cac80e",
   "metadata": {},
   "outputs": [
    {
     "data": {
      "text/plain": [
       "34.0"
      ]
     },
     "execution_count": 88,
     "metadata": {},
     "output_type": "execute_result"
    }
   ],
   "source": [
    "## p-value shows no significance, t-value very small.\n",
    "## check averages for fun\n",
    "hybrid201213['mpg2012'].mean()"
   ]
  },
  {
   "cell_type": "code",
   "execution_count": 89,
   "id": "076244df-e64c-4611-aee9-061696209309",
   "metadata": {},
   "outputs": [
    {
     "data": {
      "text/plain": [
       "33.46153846153846"
      ]
     },
     "execution_count": 89,
     "metadata": {},
     "output_type": "execute_result"
    }
   ],
   "source": [
    "hybrid201213['mpg2013'].mean()"
   ]
  },
  {
   "cell_type": "markdown",
   "id": "c7e910d2-b8db-4e8c-a09a-2e3f902a5252",
   "metadata": {},
   "source": [
    "### within half a mile of each other - 2012 having the higher of the two"
   ]
  },
  {
   "cell_type": "code",
   "execution_count": 90,
   "id": "4df45804-84b2-434a-a110-0d30dbeea0d9",
   "metadata": {},
   "outputs": [],
   "source": [
    "#### Page 10 is solution for above activity"
   ]
  },
  {
   "cell_type": "code",
   "execution_count": 91,
   "id": "1f0a5758-202f-4d53-ab64-9590705ae2ed",
   "metadata": {},
   "outputs": [],
   "source": [
    "#### Page 11"
   ]
  },
  {
   "cell_type": "markdown",
   "id": "89a40820-a066-42cf-aa43-13d78a1a65be",
   "metadata": {},
   "source": [
    "# Independent Chi-Square"
   ]
  },
  {
   "cell_type": "markdown",
   "id": "f51ed24a-5052-40de-a272-db7258c110fc",
   "metadata": {},
   "source": [
    "##### remember the code for doing Chi-Squares in Python requires a crosstab, not raw data\n",
    "\n",
    "###### An independent Chi-Square is used when you want to determine whether two categorical variables influence each other."
   ]
  },
  {
   "cell_type": "code",
   "execution_count": 7,
   "id": "556464e1-499b-434d-a242-43b2d769449f",
   "metadata": {},
   "outputs": [
    {
     "data": {
      "text/html": [
       "<div>\n",
       "<style scoped>\n",
       "    .dataframe tbody tr th:only-of-type {\n",
       "        vertical-align: middle;\n",
       "    }\n",
       "\n",
       "    .dataframe tbody tr th {\n",
       "        vertical-align: top;\n",
       "    }\n",
       "\n",
       "    .dataframe thead th {\n",
       "        text-align: right;\n",
       "    }\n",
       "</style>\n",
       "<table border=\"1\" class=\"dataframe\">\n",
       "  <thead>\n",
       "    <tr style=\"text-align: right;\">\n",
       "      <th></th>\n",
       "      <th>JRC_code</th>\n",
       "      <th>purchCntry</th>\n",
       "      <th>prodCntry</th>\n",
       "      <th>Pb</th>\n",
       "      <th>sdPb</th>\n",
       "      <th>shade</th>\n",
       "      <th>prodType</th>\n",
       "      <th>priceCatgry</th>\n",
       "    </tr>\n",
       "  </thead>\n",
       "  <tbody>\n",
       "    <tr>\n",
       "      <th>0</th>\n",
       "      <td>C135</td>\n",
       "      <td>NL</td>\n",
       "      <td>NL</td>\n",
       "      <td>3.75</td>\n",
       "      <td>0.24</td>\n",
       "      <td>Red</td>\n",
       "      <td>LP</td>\n",
       "      <td>2</td>\n",
       "    </tr>\n",
       "    <tr>\n",
       "      <th>1</th>\n",
       "      <td>C18</td>\n",
       "      <td>FI</td>\n",
       "      <td>FI</td>\n",
       "      <td>2.29</td>\n",
       "      <td>0.07</td>\n",
       "      <td>Red</td>\n",
       "      <td>LP</td>\n",
       "      <td>2</td>\n",
       "    </tr>\n",
       "    <tr>\n",
       "      <th>2</th>\n",
       "      <td>C20</td>\n",
       "      <td>FI</td>\n",
       "      <td>IT</td>\n",
       "      <td>1.27</td>\n",
       "      <td>0.06</td>\n",
       "      <td>Red</td>\n",
       "      <td>LP</td>\n",
       "      <td>2</td>\n",
       "    </tr>\n",
       "    <tr>\n",
       "      <th>3</th>\n",
       "      <td>C164</td>\n",
       "      <td>DE</td>\n",
       "      <td>FR</td>\n",
       "      <td>1.21</td>\n",
       "      <td>0.06</td>\n",
       "      <td>Red</td>\n",
       "      <td>LP</td>\n",
       "      <td>2</td>\n",
       "    </tr>\n",
       "    <tr>\n",
       "      <th>4</th>\n",
       "      <td>C71</td>\n",
       "      <td>MT</td>\n",
       "      <td>UK</td>\n",
       "      <td>0.85</td>\n",
       "      <td>0.04</td>\n",
       "      <td>Red</td>\n",
       "      <td>LP</td>\n",
       "      <td>2</td>\n",
       "    </tr>\n",
       "  </tbody>\n",
       "</table>\n",
       "</div>"
      ],
      "text/plain": [
       "  JRC_code purchCntry prodCntry    Pb  sdPb shade prodType  priceCatgry\n",
       "0     C135         NL        NL  3.75  0.24   Red       LP            2\n",
       "1      C18         FI        FI  2.29  0.07   Red       LP            2\n",
       "2      C20         FI        IT  1.27  0.06   Red       LP            2\n",
       "3     C164         DE        FR  1.21  0.06   Red       LP            2\n",
       "4      C71         MT        UK  0.85  0.04   Red       LP            2"
      ]
     },
     "execution_count": 7,
     "metadata": {},
     "output_type": "execute_result"
    }
   ],
   "source": [
    "# load the data\n",
    "lead_lipstick = pd.read_csv('../../datasets/lead_lipstick.csv')\n",
    "lead_lipstick.head()"
   ]
  },
  {
   "cell_type": "markdown",
   "id": "2dda8dcf-fca0-4aad-97d8-36904ba2a745",
   "metadata": {},
   "source": [
    "The data is about the lipstick content in lead. However, it contains some great categorical fields that you'll be using. \n",
    "\n",
    "The first is product type, prodType and it has two levels: LP is lipstick, and LG is lip gloss. \n",
    "\n",
    "The second is price category, priceCatgry, and it has three levels:\n",
    "* 1: < 5 euros\n",
    "* 2: 5-15 euros\n",
    "* 3: > 15 euros\n",
    "\n",
    "You will test to see if the price of the product depends on whether it is a lip stick or a lip gloss."
   ]
  },
  {
   "cell_type": "markdown",
   "id": "ff759355-0d9c-47e6-9914-8b8292b793e4",
   "metadata": {},
   "source": [
    "## Test Assumptions and Run the Analysis\n",
    "\n",
    "There is only one assumption for Chi-Square, and it is that when you are looking at the contingency tables, the expected frequencies for each cell need to have at least 5 entries per cell. In Python, the only way to easily generate an expected frequencies table is actually to run the analysis. So, you will conduct your independent Chi-Square first, and then make sure it meets this assumption!\n",
    "\n",
    "### Create a Contingency Table\n",
    "\n",
    "The first thing that needs to be done, before you can run the independent Chi-Square analysis, is to create a contingency table, sometimes called a crosstab, which shows how each level of each variable crosses with the other variable levels. pandas saves the day with an easy to use function called crosstab():"
   ]
  },
  {
   "cell_type": "code",
   "execution_count": 97,
   "id": "cb35523d-166e-429e-be46-d9d4f116d843",
   "metadata": {},
   "outputs": [
    {
     "data": {
      "text/html": [
       "<div>\n",
       "<style scoped>\n",
       "    .dataframe tbody tr th:only-of-type {\n",
       "        vertical-align: middle;\n",
       "    }\n",
       "\n",
       "    .dataframe tbody tr th {\n",
       "        vertical-align: top;\n",
       "    }\n",
       "\n",
       "    .dataframe thead th {\n",
       "        text-align: right;\n",
       "    }\n",
       "</style>\n",
       "<table border=\"1\" class=\"dataframe\">\n",
       "  <thead>\n",
       "    <tr style=\"text-align: right;\">\n",
       "      <th>priceCatgry</th>\n",
       "      <th>1</th>\n",
       "      <th>2</th>\n",
       "      <th>3</th>\n",
       "    </tr>\n",
       "    <tr>\n",
       "      <th>prodType</th>\n",
       "      <th></th>\n",
       "      <th></th>\n",
       "      <th></th>\n",
       "    </tr>\n",
       "  </thead>\n",
       "  <tbody>\n",
       "    <tr>\n",
       "      <th>LG</th>\n",
       "      <td>19</td>\n",
       "      <td>43</td>\n",
       "      <td>12</td>\n",
       "    </tr>\n",
       "    <tr>\n",
       "      <th>LP</th>\n",
       "      <td>34</td>\n",
       "      <td>92</td>\n",
       "      <td>23</td>\n",
       "    </tr>\n",
       "  </tbody>\n",
       "</table>\n",
       "</div>"
      ],
      "text/plain": [
       "priceCatgry   1   2   3\n",
       "prodType               \n",
       "LG           19  43  12\n",
       "LP           34  92  23"
      ]
     },
     "execution_count": 97,
     "metadata": {},
     "output_type": "execute_result"
    }
   ],
   "source": [
    "lipstick_crosstab = pd.crosstab(lead_lipstick['prodType'], lead_lipstick['priceCatgry'])\n",
    "lipstick_crosstab"
   ]
  },
  {
   "cell_type": "markdown",
   "id": "b9cdfb55-6b86-414b-ba8d-9f8cb20783bc",
   "metadata": {},
   "source": [
    "The three price categories are on the top, and the two different product types are along the side. What is shown in the cells are how many products fit in both categories. For instance, there are 19 lip glosses less than 5 euros.\n",
    "\n"
   ]
  },
  {
   "cell_type": "markdown",
   "id": "5f70eeed-2c18-4de1-ba40-900ac695f515",
   "metadata": {},
   "source": [
    "### Running the Independent Chi-Square\n",
    "\n",
    "Once you have the contingency table, then you can run the function stats.chi2_contingency on the contingency table you have created:"
   ]
  },
  {
   "cell_type": "code",
   "execution_count": 98,
   "id": "71553515-1c48-4d37-bd16-0a6ff8d4c8b2",
   "metadata": {},
   "outputs": [
    {
     "data": {
      "text/plain": [
       "(0.2969891724608704,\n",
       " 0.8620046738525345,\n",
       " 2,\n",
       " array([[17.58744395, 44.79820628, 11.61434978],\n",
       "        [35.41255605, 90.20179372, 23.38565022]]))"
      ]
     },
     "execution_count": 98,
     "metadata": {},
     "output_type": "execute_result"
    }
   ],
   "source": [
    "stats.chi2_contingency(lipstick_crosstab)"
   ]
  },
  {
   "cell_type": "code",
   "execution_count": 99,
   "id": "1c51202f-82e7-4e46-8adc-dc3ed7a7cbe5",
   "metadata": {},
   "outputs": [],
   "source": [
    "## 0.297 is Chi-Square stat\n",
    "## 0.862 is our p-value (from this, we can see no significant relationship b/t product type and product price. neither lipstick nor lipgloss is pricier or cheaper than the other)"
   ]
  },
  {
   "cell_type": "markdown",
   "id": "7bec26e0-7b0a-44cc-a7d9-8eea47136ed6",
   "metadata": {},
   "source": [
    "### Test the Assumption of 5 Cases per Expected Cell\n",
    "\n",
    "The last piece of the output, labeled array, is your expected count contingency table, albeit not a very pretty one! The expected count is what you would expect to happen if there was no relationship between the two variables. Since all of these values are over 5, this means that the assumption has been met, and you are free to present and discuss these results without any limitations!"
   ]
  },
  {
   "cell_type": "code",
   "execution_count": 101,
   "id": "6420a035-377c-47a9-9dfd-9511c5d19423",
   "metadata": {},
   "outputs": [],
   "source": [
    "## the array is close to the real world data"
   ]
  },
  {
   "cell_type": "code",
   "execution_count": 102,
   "id": "ff058e35-bd38-4ffe-a0ed-fed965d04aca",
   "metadata": {},
   "outputs": [],
   "source": [
    "#### Page 12 (activity)"
   ]
  },
  {
   "cell_type": "markdown",
   "id": "0d50d493-87d1-4f28-a737-e2af7a03296f",
   "metadata": {},
   "source": [
    "For your Activity, you will be computing an independent Chi-Square to see if the shade of lipstick and the price category are related.\n",
    "\n",
    "Determine if the shade of lipstick and the price category are related. To do this, you will need to:\n",
    "* Create a contingency table\n",
    "* Test for the assumption of 5 per cell in the expected contingency table\n",
    "* Compute an independent Chi-Square"
   ]
  },
  {
   "cell_type": "code",
   "execution_count": 104,
   "id": "aee6405a-e0a9-48ef-97e0-96c80fc51939",
   "metadata": {},
   "outputs": [
    {
     "data": {
      "text/html": [
       "<div>\n",
       "<style scoped>\n",
       "    .dataframe tbody tr th:only-of-type {\n",
       "        vertical-align: middle;\n",
       "    }\n",
       "\n",
       "    .dataframe tbody tr th {\n",
       "        vertical-align: top;\n",
       "    }\n",
       "\n",
       "    .dataframe thead th {\n",
       "        text-align: right;\n",
       "    }\n",
       "</style>\n",
       "<table border=\"1\" class=\"dataframe\">\n",
       "  <thead>\n",
       "    <tr style=\"text-align: right;\">\n",
       "      <th></th>\n",
       "      <th>JRC_code</th>\n",
       "      <th>purchCntry</th>\n",
       "      <th>prodCntry</th>\n",
       "      <th>Pb</th>\n",
       "      <th>sdPb</th>\n",
       "      <th>shade</th>\n",
       "      <th>prodType</th>\n",
       "      <th>priceCatgry</th>\n",
       "    </tr>\n",
       "  </thead>\n",
       "  <tbody>\n",
       "    <tr>\n",
       "      <th>0</th>\n",
       "      <td>C135</td>\n",
       "      <td>NL</td>\n",
       "      <td>NL</td>\n",
       "      <td>3.75</td>\n",
       "      <td>0.24</td>\n",
       "      <td>Red</td>\n",
       "      <td>LP</td>\n",
       "      <td>2</td>\n",
       "    </tr>\n",
       "    <tr>\n",
       "      <th>1</th>\n",
       "      <td>C18</td>\n",
       "      <td>FI</td>\n",
       "      <td>FI</td>\n",
       "      <td>2.29</td>\n",
       "      <td>0.07</td>\n",
       "      <td>Red</td>\n",
       "      <td>LP</td>\n",
       "      <td>2</td>\n",
       "    </tr>\n",
       "    <tr>\n",
       "      <th>2</th>\n",
       "      <td>C20</td>\n",
       "      <td>FI</td>\n",
       "      <td>IT</td>\n",
       "      <td>1.27</td>\n",
       "      <td>0.06</td>\n",
       "      <td>Red</td>\n",
       "      <td>LP</td>\n",
       "      <td>2</td>\n",
       "    </tr>\n",
       "    <tr>\n",
       "      <th>3</th>\n",
       "      <td>C164</td>\n",
       "      <td>DE</td>\n",
       "      <td>FR</td>\n",
       "      <td>1.21</td>\n",
       "      <td>0.06</td>\n",
       "      <td>Red</td>\n",
       "      <td>LP</td>\n",
       "      <td>2</td>\n",
       "    </tr>\n",
       "    <tr>\n",
       "      <th>4</th>\n",
       "      <td>C71</td>\n",
       "      <td>MT</td>\n",
       "      <td>UK</td>\n",
       "      <td>0.85</td>\n",
       "      <td>0.04</td>\n",
       "      <td>Red</td>\n",
       "      <td>LP</td>\n",
       "      <td>2</td>\n",
       "    </tr>\n",
       "  </tbody>\n",
       "</table>\n",
       "</div>"
      ],
      "text/plain": [
       "  JRC_code purchCntry prodCntry    Pb  sdPb shade prodType  priceCatgry\n",
       "0     C135         NL        NL  3.75  0.24   Red       LP            2\n",
       "1      C18         FI        FI  2.29  0.07   Red       LP            2\n",
       "2      C20         FI        IT  1.27  0.06   Red       LP            2\n",
       "3     C164         DE        FR  1.21  0.06   Red       LP            2\n",
       "4      C71         MT        UK  0.85  0.04   Red       LP            2"
      ]
     },
     "execution_count": 104,
     "metadata": {},
     "output_type": "execute_result"
    }
   ],
   "source": [
    "lead_lipstick.head()"
   ]
  },
  {
   "cell_type": "code",
   "execution_count": 105,
   "id": "1e63ebd3-9838-4505-9b7a-0d2ffc7a23ae",
   "metadata": {},
   "outputs": [
    {
     "data": {
      "text/plain": [
       "Pink      81\n",
       "Brown     60\n",
       "Red       45\n",
       "Purple    37\n",
       "Name: shade, dtype: int64"
      ]
     },
     "execution_count": 105,
     "metadata": {},
     "output_type": "execute_result"
    }
   ],
   "source": [
    "lead_lipstick.shade.value_counts()"
   ]
  },
  {
   "cell_type": "markdown",
   "id": "aa8dbe7d-d5b7-4d05-8176-1cf1fecdd018",
   "metadata": {},
   "source": [
    "##### Contingency Table"
   ]
  },
  {
   "cell_type": "code",
   "execution_count": 107,
   "id": "51eb84b9-8660-45f9-9181-d8cacab2627c",
   "metadata": {},
   "outputs": [
    {
     "data": {
      "text/html": [
       "<div>\n",
       "<style scoped>\n",
       "    .dataframe tbody tr th:only-of-type {\n",
       "        vertical-align: middle;\n",
       "    }\n",
       "\n",
       "    .dataframe tbody tr th {\n",
       "        vertical-align: top;\n",
       "    }\n",
       "\n",
       "    .dataframe thead th {\n",
       "        text-align: right;\n",
       "    }\n",
       "</style>\n",
       "<table border=\"1\" class=\"dataframe\">\n",
       "  <thead>\n",
       "    <tr style=\"text-align: right;\">\n",
       "      <th>priceCatgry</th>\n",
       "      <th>1</th>\n",
       "      <th>2</th>\n",
       "      <th>3</th>\n",
       "    </tr>\n",
       "    <tr>\n",
       "      <th>shade</th>\n",
       "      <th></th>\n",
       "      <th></th>\n",
       "      <th></th>\n",
       "    </tr>\n",
       "  </thead>\n",
       "  <tbody>\n",
       "    <tr>\n",
       "      <th>Brown</th>\n",
       "      <td>20</td>\n",
       "      <td>30</td>\n",
       "      <td>10</td>\n",
       "    </tr>\n",
       "    <tr>\n",
       "      <th>Pink</th>\n",
       "      <td>20</td>\n",
       "      <td>49</td>\n",
       "      <td>12</td>\n",
       "    </tr>\n",
       "    <tr>\n",
       "      <th>Purple</th>\n",
       "      <td>8</td>\n",
       "      <td>23</td>\n",
       "      <td>6</td>\n",
       "    </tr>\n",
       "    <tr>\n",
       "      <th>Red</th>\n",
       "      <td>5</td>\n",
       "      <td>33</td>\n",
       "      <td>7</td>\n",
       "    </tr>\n",
       "  </tbody>\n",
       "</table>\n",
       "</div>"
      ],
      "text/plain": [
       "priceCatgry   1   2   3\n",
       "shade                  \n",
       "Brown        20  30  10\n",
       "Pink         20  49  12\n",
       "Purple        8  23   6\n",
       "Red           5  33   7"
      ]
     },
     "execution_count": 107,
     "metadata": {},
     "output_type": "execute_result"
    }
   ],
   "source": [
    "lipstick_crosstab2 = pd.crosstab(lead_lipstick['shade'], lead_lipstick['priceCatgry'])\n",
    "lipstick_crosstab2"
   ]
  },
  {
   "cell_type": "markdown",
   "id": "53bdf95d-8c08-4c83-a764-58bb747daec1",
   "metadata": {},
   "source": [
    "##### compute independent Chi-Square"
   ]
  },
  {
   "cell_type": "code",
   "execution_count": 109,
   "id": "4fd6e1ac-0ab5-4eac-92a0-7ff75f5f73ad",
   "metadata": {},
   "outputs": [
    {
     "data": {
      "text/plain": [
       "(7.860569553614045,\n",
       " 0.2484973879479863,\n",
       " 6,\n",
       " array([[14.26008969, 36.32286996,  9.41704036],\n",
       "        [19.25112108, 49.03587444, 12.71300448],\n",
       "        [ 8.79372197, 22.39910314,  5.80717489],\n",
       "        [10.69506726, 27.24215247,  7.06278027]]))"
      ]
     },
     "execution_count": 109,
     "metadata": {},
     "output_type": "execute_result"
    }
   ],
   "source": [
    "stats.chi2_contingency(lipstick_crosstab2)"
   ]
  },
  {
   "cell_type": "code",
   "execution_count": 111,
   "id": "4955a3ac-b9e1-4ad2-8dfb-2e467ad5c5ff",
   "metadata": {},
   "outputs": [],
   "source": [
    "## 7.8601 is out Chi-Square stat\n",
    "## 0.24 pivalue shows that there is no significant difference b/t shade and price. shade does not affect price"
   ]
  },
  {
   "cell_type": "markdown",
   "id": "91f3c067-1917-496d-959b-1613682c5e67",
   "metadata": {},
   "source": [
    "##### Test the assumption of 5 per cell"
   ]
  },
  {
   "cell_type": "code",
   "execution_count": 112,
   "id": "d2c402c1-4807-4efc-86b2-fd21626b5ec1",
   "metadata": {},
   "outputs": [],
   "source": [
    "## our array has at least 5 cases per cell - this meets the assumption"
   ]
  },
  {
   "cell_type": "code",
   "execution_count": 113,
   "id": "abc11848-ff97-44c4-80c7-05d2cfc08a53",
   "metadata": {},
   "outputs": [],
   "source": [
    "#### Page 13 (solution to above activity)"
   ]
  },
  {
   "cell_type": "code",
   "execution_count": 114,
   "id": "e55dc4e4-57c3-411d-8e95-52233cc7e79d",
   "metadata": {},
   "outputs": [],
   "source": [
    "#### Page 14"
   ]
  },
  {
   "cell_type": "code",
   "execution_count": 1,
   "id": "7cafedea-ac64-4ffb-829a-a16c546856a1",
   "metadata": {},
   "outputs": [],
   "source": [
    "### random trying to insert a website hyperlink"
   ]
  },
  {
   "cell_type": "markdown",
   "id": "01bf4be5-ae45-463b-afa6-ec7c91f46aed",
   "metadata": {},
   "source": [
    "[myGitHub](https://github.com/nhardemandata)"
   ]
  },
  {
   "cell_type": "markdown",
   "id": "db3071f0-18d5-4d87-a21c-b3e0d8f6fbce",
   "metadata": {},
   "source": [
    "# Correlation"
   ]
  },
  {
   "cell_type": "markdown",
   "id": "e9e0d3ce-6fe5-43a9-a8bf-9a8b61847c0b",
   "metadata": {},
   "source": [
    "Correlations can be done on two continuous variables, to determine the relationship between them. As a reminder, a correlation can be between zero and one, and either positive or negative. The larger it is, the more closely related the two variables are."
   ]
  },
  {
   "cell_type": "code",
   "execution_count": 8,
   "id": "ed67f31b-5253-44ee-bbca-8906141b2598",
   "metadata": {},
   "outputs": [],
   "source": [
    "cruise_ship = pd.read_excel('../../datasets/cruise_ship.xlsx')"
   ]
  },
  {
   "cell_type": "code",
   "execution_count": 9,
   "id": "c0f05609-953a-4478-a33d-72fb9aeeb44d",
   "metadata": {},
   "outputs": [
    {
     "data": {
      "text/html": [
       "<div>\n",
       "<style scoped>\n",
       "    .dataframe tbody tr th:only-of-type {\n",
       "        vertical-align: middle;\n",
       "    }\n",
       "\n",
       "    .dataframe tbody tr th {\n",
       "        vertical-align: top;\n",
       "    }\n",
       "\n",
       "    .dataframe thead th {\n",
       "        text-align: right;\n",
       "    }\n",
       "</style>\n",
       "<table border=\"1\" class=\"dataframe\">\n",
       "  <thead>\n",
       "    <tr style=\"text-align: right;\">\n",
       "      <th></th>\n",
       "      <th>Ship</th>\n",
       "      <th>Line</th>\n",
       "      <th>YearBlt</th>\n",
       "      <th>Tonnage</th>\n",
       "      <th>passngrs</th>\n",
       "      <th>Length</th>\n",
       "      <th>Cabins</th>\n",
       "      <th>Crew</th>\n",
       "      <th>PassSpcR</th>\n",
       "      <th>outcab</th>\n",
       "    </tr>\n",
       "  </thead>\n",
       "  <tbody>\n",
       "    <tr>\n",
       "      <th>0</th>\n",
       "      <td>Journey</td>\n",
       "      <td>Azamara</td>\n",
       "      <td>2007</td>\n",
       "      <td>30277</td>\n",
       "      <td>694</td>\n",
       "      <td>594</td>\n",
       "      <td>355</td>\n",
       "      <td>355</td>\n",
       "      <td>42.64</td>\n",
       "      <td>329</td>\n",
       "    </tr>\n",
       "    <tr>\n",
       "      <th>1</th>\n",
       "      <td>Quest</td>\n",
       "      <td>Azamara</td>\n",
       "      <td>2007</td>\n",
       "      <td>30277</td>\n",
       "      <td>694</td>\n",
       "      <td>594</td>\n",
       "      <td>355</td>\n",
       "      <td>355</td>\n",
       "      <td>42.64</td>\n",
       "      <td>329</td>\n",
       "    </tr>\n",
       "    <tr>\n",
       "      <th>2</th>\n",
       "      <td>Celebration</td>\n",
       "      <td>Carnival</td>\n",
       "      <td>1987</td>\n",
       "      <td>47262</td>\n",
       "      <td>1486</td>\n",
       "      <td>722</td>\n",
       "      <td>743</td>\n",
       "      <td>670</td>\n",
       "      <td>31.80</td>\n",
       "      <td>453</td>\n",
       "    </tr>\n",
       "    <tr>\n",
       "      <th>3</th>\n",
       "      <td>Conquest</td>\n",
       "      <td>Carnival</td>\n",
       "      <td>2002</td>\n",
       "      <td>110000</td>\n",
       "      <td>2974</td>\n",
       "      <td>953</td>\n",
       "      <td>1488</td>\n",
       "      <td>1910</td>\n",
       "      <td>36.99</td>\n",
       "      <td>892</td>\n",
       "    </tr>\n",
       "    <tr>\n",
       "      <th>4</th>\n",
       "      <td>Destiny</td>\n",
       "      <td>Carnival</td>\n",
       "      <td>1996</td>\n",
       "      <td>101353</td>\n",
       "      <td>2642</td>\n",
       "      <td>892</td>\n",
       "      <td>1321</td>\n",
       "      <td>1000</td>\n",
       "      <td>38.36</td>\n",
       "      <td>740</td>\n",
       "    </tr>\n",
       "  </tbody>\n",
       "</table>\n",
       "</div>"
      ],
      "text/plain": [
       "          Ship      Line  YearBlt  Tonnage  passngrs  Length  Cabins  Crew  \\\n",
       "0      Journey   Azamara     2007    30277       694     594     355   355   \n",
       "1        Quest   Azamara     2007    30277       694     594     355   355   \n",
       "2  Celebration  Carnival     1987    47262      1486     722     743   670   \n",
       "3     Conquest  Carnival     2002   110000      2974     953    1488  1910   \n",
       "4      Destiny  Carnival     1996   101353      2642     892    1321  1000   \n",
       "\n",
       "   PassSpcR  outcab  \n",
       "0     42.64     329  \n",
       "1     42.64     329  \n",
       "2     31.80     453  \n",
       "3     36.99     892  \n",
       "4     38.36     740  "
      ]
     },
     "execution_count": 9,
     "metadata": {},
     "output_type": "execute_result"
    }
   ],
   "source": [
    "cruise_ship.head()"
   ]
  },
  {
   "cell_type": "markdown",
   "id": "c36d4a42-75c7-487e-9043-d9bd1c1a6e59",
   "metadata": {},
   "source": [
    "### Run One Correlation\n",
    "\n",
    "Using the function .corr(), it's easy to run a correlation on a selected two variables. For instance, do you think that the number of passengers and the number of cabins on a cruise ship would relate to each other?"
   ]
  },
  {
   "cell_type": "code",
   "execution_count": 7,
   "id": "43de6db0-d7b5-454e-84b9-4761a7cc0232",
   "metadata": {},
   "outputs": [
    {
     "data": {
      "text/plain": [
       "0.9763413679845939"
      ]
     },
     "execution_count": 7,
     "metadata": {},
     "output_type": "execute_result"
    }
   ],
   "source": [
    "cruise_ship['passngrs'].corr(cruise_ship['Cabins'])\n",
    "# The first thing you type is one of your variables, then you call .cor() and list the second variable."
   ]
  },
  {
   "cell_type": "markdown",
   "id": "7edbbc5d-d84f-4b00-985e-7929cf3cd7ce",
   "metadata": {},
   "source": [
    "It should not come as a surprise to you that the number of passengers and the number of cabins are very related. .97 is about as strong as a correlation gets! This correlation is also positive, which means that as the number of passengers increase, so does the number of cabins, and vice versa."
   ]
  },
  {
   "cell_type": "markdown",
   "id": "7e6e8e91-b6be-4999-ac0c-52e1a4cfccdd",
   "metadata": {},
   "source": [
    "### Create a Correlation Matrix\n",
    "\n",
    "Running one correlation can be nice, but sometimes you'd like to know how all your data relates to each other! In that case, call in the big guns, and go for a correlation matrix!"
   ]
  },
  {
   "cell_type": "markdown",
   "id": "3f25c281-6217-45b3-b9fa-3d6fa44f2245",
   "metadata": {},
   "source": [
    "Drop Non-Continuous Variables\n",
    "\n",
    "When you are creating a correlation matrix, you are feeding the code your entire data set. But you can only run Pearson's correlations on continuous variables! So it's important to drop anything that is categorical or a string first."
   ]
  },
  {
   "cell_type": "code",
   "execution_count": 8,
   "id": "0fadde52-5800-4fd6-9a94-c3fb97a8235a",
   "metadata": {},
   "outputs": [],
   "source": [
    "cruise_ship1 = cruise_ship.drop(['Ship', 'Line'], axis=1)"
   ]
  },
  {
   "cell_type": "markdown",
   "id": "8e8e37d0-7610-4efe-907e-407c6a4de6ec",
   "metadata": {},
   "source": [
    "As you'll recall, the .drop() function will remove any columns specified in the square brackets, and the axis=1 arguments tells Python that these are the names of columns (not rows). So you are getting rid of the Ship and Line columns here."
   ]
  },
  {
   "cell_type": "code",
   "execution_count": 9,
   "id": "d914315c-8edb-4ce4-a58c-7a50518f5dd6",
   "metadata": {},
   "outputs": [
    {
     "data": {
      "text/html": [
       "<div>\n",
       "<style scoped>\n",
       "    .dataframe tbody tr th:only-of-type {\n",
       "        vertical-align: middle;\n",
       "    }\n",
       "\n",
       "    .dataframe tbody tr th {\n",
       "        vertical-align: top;\n",
       "    }\n",
       "\n",
       "    .dataframe thead th {\n",
       "        text-align: right;\n",
       "    }\n",
       "</style>\n",
       "<table border=\"1\" class=\"dataframe\">\n",
       "  <thead>\n",
       "    <tr style=\"text-align: right;\">\n",
       "      <th></th>\n",
       "      <th>YearBlt</th>\n",
       "      <th>Tonnage</th>\n",
       "      <th>passngrs</th>\n",
       "      <th>Length</th>\n",
       "      <th>Cabins</th>\n",
       "      <th>Crew</th>\n",
       "      <th>PassSpcR</th>\n",
       "      <th>outcab</th>\n",
       "    </tr>\n",
       "  </thead>\n",
       "  <tbody>\n",
       "    <tr>\n",
       "      <th>0</th>\n",
       "      <td>2007</td>\n",
       "      <td>30277</td>\n",
       "      <td>694</td>\n",
       "      <td>594</td>\n",
       "      <td>355</td>\n",
       "      <td>355</td>\n",
       "      <td>42.64</td>\n",
       "      <td>329</td>\n",
       "    </tr>\n",
       "    <tr>\n",
       "      <th>1</th>\n",
       "      <td>2007</td>\n",
       "      <td>30277</td>\n",
       "      <td>694</td>\n",
       "      <td>594</td>\n",
       "      <td>355</td>\n",
       "      <td>355</td>\n",
       "      <td>42.64</td>\n",
       "      <td>329</td>\n",
       "    </tr>\n",
       "    <tr>\n",
       "      <th>2</th>\n",
       "      <td>1987</td>\n",
       "      <td>47262</td>\n",
       "      <td>1486</td>\n",
       "      <td>722</td>\n",
       "      <td>743</td>\n",
       "      <td>670</td>\n",
       "      <td>31.80</td>\n",
       "      <td>453</td>\n",
       "    </tr>\n",
       "    <tr>\n",
       "      <th>3</th>\n",
       "      <td>2002</td>\n",
       "      <td>110000</td>\n",
       "      <td>2974</td>\n",
       "      <td>953</td>\n",
       "      <td>1488</td>\n",
       "      <td>1910</td>\n",
       "      <td>36.99</td>\n",
       "      <td>892</td>\n",
       "    </tr>\n",
       "    <tr>\n",
       "      <th>4</th>\n",
       "      <td>1996</td>\n",
       "      <td>101353</td>\n",
       "      <td>2642</td>\n",
       "      <td>892</td>\n",
       "      <td>1321</td>\n",
       "      <td>1000</td>\n",
       "      <td>38.36</td>\n",
       "      <td>740</td>\n",
       "    </tr>\n",
       "  </tbody>\n",
       "</table>\n",
       "</div>"
      ],
      "text/plain": [
       "   YearBlt  Tonnage  passngrs  Length  Cabins  Crew  PassSpcR  outcab\n",
       "0     2007    30277       694     594     355   355     42.64     329\n",
       "1     2007    30277       694     594     355   355     42.64     329\n",
       "2     1987    47262      1486     722     743   670     31.80     453\n",
       "3     2002   110000      2974     953    1488  1910     36.99     892\n",
       "4     1996   101353      2642     892    1321  1000     38.36     740"
      ]
     },
     "execution_count": 9,
     "metadata": {},
     "output_type": "execute_result"
    }
   ],
   "source": [
    "cruise_ship1.head()"
   ]
  },
  {
   "cell_type": "markdown",
   "id": "97a877b4-860d-46ea-98b0-e7aeb7b0bc59",
   "metadata": {},
   "source": [
    "### Using .corr() on An Entire Dataset"
   ]
  },
  {
   "cell_type": "code",
   "execution_count": 10,
   "id": "eb3d5a37-3b48-4bd1-a8e0-baa5bd38fe97",
   "metadata": {},
   "outputs": [
    {
     "data": {
      "text/html": [
       "<div>\n",
       "<style scoped>\n",
       "    .dataframe tbody tr th:only-of-type {\n",
       "        vertical-align: middle;\n",
       "    }\n",
       "\n",
       "    .dataframe tbody tr th {\n",
       "        vertical-align: top;\n",
       "    }\n",
       "\n",
       "    .dataframe thead th {\n",
       "        text-align: right;\n",
       "    }\n",
       "</style>\n",
       "<table border=\"1\" class=\"dataframe\">\n",
       "  <thead>\n",
       "    <tr style=\"text-align: right;\">\n",
       "      <th></th>\n",
       "      <th>YearBlt</th>\n",
       "      <th>Tonnage</th>\n",
       "      <th>passngrs</th>\n",
       "      <th>Length</th>\n",
       "      <th>Cabins</th>\n",
       "      <th>Crew</th>\n",
       "      <th>PassSpcR</th>\n",
       "      <th>outcab</th>\n",
       "    </tr>\n",
       "  </thead>\n",
       "  <tbody>\n",
       "    <tr>\n",
       "      <th>YearBlt</th>\n",
       "      <td>1.000000</td>\n",
       "      <td>0.606646</td>\n",
       "      <td>0.515542</td>\n",
       "      <td>0.532286</td>\n",
       "      <td>0.510019</td>\n",
       "      <td>0.530657</td>\n",
       "      <td>0.278830</td>\n",
       "      <td>0.547203</td>\n",
       "    </tr>\n",
       "    <tr>\n",
       "      <th>Tonnage</th>\n",
       "      <td>0.606646</td>\n",
       "      <td>1.000000</td>\n",
       "      <td>0.945061</td>\n",
       "      <td>0.922368</td>\n",
       "      <td>0.948764</td>\n",
       "      <td>0.927569</td>\n",
       "      <td>-0.040846</td>\n",
       "      <td>0.921931</td>\n",
       "    </tr>\n",
       "    <tr>\n",
       "      <th>passngrs</th>\n",
       "      <td>0.515542</td>\n",
       "      <td>0.945061</td>\n",
       "      <td>1.000000</td>\n",
       "      <td>0.883535</td>\n",
       "      <td>0.976341</td>\n",
       "      <td>0.915234</td>\n",
       "      <td>-0.294867</td>\n",
       "      <td>0.914551</td>\n",
       "    </tr>\n",
       "    <tr>\n",
       "      <th>Length</th>\n",
       "      <td>0.532286</td>\n",
       "      <td>0.922368</td>\n",
       "      <td>0.883535</td>\n",
       "      <td>1.000000</td>\n",
       "      <td>0.889798</td>\n",
       "      <td>0.895857</td>\n",
       "      <td>-0.090488</td>\n",
       "      <td>0.901047</td>\n",
       "    </tr>\n",
       "    <tr>\n",
       "      <th>Cabins</th>\n",
       "      <td>0.510019</td>\n",
       "      <td>0.948764</td>\n",
       "      <td>0.976341</td>\n",
       "      <td>0.889798</td>\n",
       "      <td>1.000000</td>\n",
       "      <td>0.950823</td>\n",
       "      <td>-0.253181</td>\n",
       "      <td>0.934136</td>\n",
       "    </tr>\n",
       "    <tr>\n",
       "      <th>Crew</th>\n",
       "      <td>0.530657</td>\n",
       "      <td>0.927569</td>\n",
       "      <td>0.915234</td>\n",
       "      <td>0.895857</td>\n",
       "      <td>0.950823</td>\n",
       "      <td>1.000000</td>\n",
       "      <td>-0.155509</td>\n",
       "      <td>0.900466</td>\n",
       "    </tr>\n",
       "    <tr>\n",
       "      <th>PassSpcR</th>\n",
       "      <td>0.278830</td>\n",
       "      <td>-0.040846</td>\n",
       "      <td>-0.294867</td>\n",
       "      <td>-0.090488</td>\n",
       "      <td>-0.253181</td>\n",
       "      <td>-0.155509</td>\n",
       "      <td>1.000000</td>\n",
       "      <td>-0.145602</td>\n",
       "    </tr>\n",
       "    <tr>\n",
       "      <th>outcab</th>\n",
       "      <td>0.547203</td>\n",
       "      <td>0.921931</td>\n",
       "      <td>0.914551</td>\n",
       "      <td>0.901047</td>\n",
       "      <td>0.934136</td>\n",
       "      <td>0.900466</td>\n",
       "      <td>-0.145602</td>\n",
       "      <td>1.000000</td>\n",
       "    </tr>\n",
       "  </tbody>\n",
       "</table>\n",
       "</div>"
      ],
      "text/plain": [
       "           YearBlt   Tonnage  passngrs    Length    Cabins      Crew  \\\n",
       "YearBlt   1.000000  0.606646  0.515542  0.532286  0.510019  0.530657   \n",
       "Tonnage   0.606646  1.000000  0.945061  0.922368  0.948764  0.927569   \n",
       "passngrs  0.515542  0.945061  1.000000  0.883535  0.976341  0.915234   \n",
       "Length    0.532286  0.922368  0.883535  1.000000  0.889798  0.895857   \n",
       "Cabins    0.510019  0.948764  0.976341  0.889798  1.000000  0.950823   \n",
       "Crew      0.530657  0.927569  0.915234  0.895857  0.950823  1.000000   \n",
       "PassSpcR  0.278830 -0.040846 -0.294867 -0.090488 -0.253181 -0.155509   \n",
       "outcab    0.547203  0.921931  0.914551  0.901047  0.934136  0.900466   \n",
       "\n",
       "          PassSpcR    outcab  \n",
       "YearBlt   0.278830  0.547203  \n",
       "Tonnage  -0.040846  0.921931  \n",
       "passngrs -0.294867  0.914551  \n",
       "Length   -0.090488  0.901047  \n",
       "Cabins   -0.253181  0.934136  \n",
       "Crew     -0.155509  0.900466  \n",
       "PassSpcR  1.000000 -0.145602  \n",
       "outcab   -0.145602  1.000000  "
      ]
     },
     "execution_count": 10,
     "metadata": {},
     "output_type": "execute_result"
    }
   ],
   "source": [
    "cruise_ship1.corr(method='pearson')"
   ]
  },
  {
   "cell_type": "markdown",
   "id": "f303d7a6-7698-4df0-bc75-af1713dee5a3",
   "metadata": {},
   "source": [
    "Make .corr() Pretty!\n",
    "\n",
    "Not pretty enough for you? Difficult to make sense of rows and rows of numbers? Well, you're in luck. Adding a couple arguments can help you interpret things and add a little visual interest."
   ]
  },
  {
   "cell_type": "code",
   "execution_count": 11,
   "id": "9ebb9a75-8aba-48e9-951e-bb48231c4d53",
   "metadata": {},
   "outputs": [
    {
     "data": {
      "text/html": [
       "<style  type=\"text/css\" >\n",
       "#T_7a3de_row0_col0,#T_7a3de_row1_col1,#T_7a3de_row2_col2,#T_7a3de_row3_col3,#T_7a3de_row4_col4,#T_7a3de_row5_col5,#T_7a3de_row6_col6,#T_7a3de_row7_col7{\n",
       "            background-color:  #b40426;\n",
       "            color:  #f1f1f1;\n",
       "        }#T_7a3de_row0_col1{\n",
       "            background-color:  #d1dae9;\n",
       "            color:  #000000;\n",
       "        }#T_7a3de_row0_col2{\n",
       "            background-color:  #a9c6fd;\n",
       "            color:  #000000;\n",
       "        }#T_7a3de_row0_col3,#T_7a3de_row0_col5{\n",
       "            background-color:  #afcafc;\n",
       "            color:  #000000;\n",
       "        }#T_7a3de_row0_col4{\n",
       "            background-color:  #a6c4fe;\n",
       "            color:  #000000;\n",
       "        }#T_7a3de_row0_col6,#T_7a3de_row1_col6,#T_7a3de_row2_col6,#T_7a3de_row3_col6,#T_7a3de_row4_col6,#T_7a3de_row5_col6,#T_7a3de_row6_col2,#T_7a3de_row7_col6{\n",
       "            background-color:  #3b4cc0;\n",
       "            color:  #f1f1f1;\n",
       "        }#T_7a3de_row0_col7{\n",
       "            background-color:  #b7cff9;\n",
       "            color:  #000000;\n",
       "        }#T_7a3de_row1_col0{\n",
       "            background-color:  #f4c5ad;\n",
       "            color:  #000000;\n",
       "        }#T_7a3de_row1_col2,#T_7a3de_row4_col7{\n",
       "            background-color:  #c73635;\n",
       "            color:  #f1f1f1;\n",
       "        }#T_7a3de_row1_col3,#T_7a3de_row1_col7,#T_7a3de_row7_col2{\n",
       "            background-color:  #cf453c;\n",
       "            color:  #f1f1f1;\n",
       "        }#T_7a3de_row1_col4{\n",
       "            background-color:  #c53334;\n",
       "            color:  #f1f1f1;\n",
       "        }#T_7a3de_row1_col5,#T_7a3de_row7_col1{\n",
       "            background-color:  #cc403a;\n",
       "            color:  #f1f1f1;\n",
       "        }#T_7a3de_row2_col0{\n",
       "            background-color:  #f5c4ac;\n",
       "            color:  #000000;\n",
       "        }#T_7a3de_row2_col1,#T_7a3de_row4_col1,#T_7a3de_row4_col5,#T_7a3de_row5_col4{\n",
       "            background-color:  #c32e31;\n",
       "            color:  #f1f1f1;\n",
       "        }#T_7a3de_row2_col3,#T_7a3de_row3_col7,#T_7a3de_row5_col3{\n",
       "            background-color:  #d44e41;\n",
       "            color:  #000000;\n",
       "        }#T_7a3de_row2_col4,#T_7a3de_row4_col2{\n",
       "            background-color:  #ba162b;\n",
       "            color:  #f1f1f1;\n",
       "        }#T_7a3de_row2_col5,#T_7a3de_row2_col7,#T_7a3de_row5_col1{\n",
       "            background-color:  #cb3e38;\n",
       "            color:  #f1f1f1;\n",
       "        }#T_7a3de_row3_col0{\n",
       "            background-color:  #edd1c2;\n",
       "            color:  #000000;\n",
       "        }#T_7a3de_row3_col1,#T_7a3de_row5_col2{\n",
       "            background-color:  #cd423b;\n",
       "            color:  #f1f1f1;\n",
       "        }#T_7a3de_row3_col2{\n",
       "            background-color:  #d85646;\n",
       "            color:  #000000;\n",
       "        }#T_7a3de_row3_col4{\n",
       "            background-color:  #d65244;\n",
       "            color:  #000000;\n",
       "        }#T_7a3de_row3_col5{\n",
       "            background-color:  #d55042;\n",
       "            color:  #000000;\n",
       "        }#T_7a3de_row4_col0{\n",
       "            background-color:  #f2c9b4;\n",
       "            color:  #000000;\n",
       "        }#T_7a3de_row4_col3,#T_7a3de_row5_col7,#T_7a3de_row7_col3,#T_7a3de_row7_col5{\n",
       "            background-color:  #d24b40;\n",
       "            color:  #f1f1f1;\n",
       "        }#T_7a3de_row5_col0{\n",
       "            background-color:  #f1ccb8;\n",
       "            color:  #000000;\n",
       "        }#T_7a3de_row6_col0{\n",
       "            background-color:  #cdd9ec;\n",
       "            color:  #000000;\n",
       "        }#T_7a3de_row6_col1{\n",
       "            background-color:  #7a9df8;\n",
       "            color:  #000000;\n",
       "        }#T_7a3de_row6_col3{\n",
       "            background-color:  #6c8ff1;\n",
       "            color:  #000000;\n",
       "        }#T_7a3de_row6_col4{\n",
       "            background-color:  #445acc;\n",
       "            color:  #f1f1f1;\n",
       "        }#T_7a3de_row6_col5{\n",
       "            background-color:  #5b7ae5;\n",
       "            color:  #000000;\n",
       "        }#T_7a3de_row6_col7{\n",
       "            background-color:  #5e7de7;\n",
       "            color:  #000000;\n",
       "        }#T_7a3de_row7_col0{\n",
       "            background-color:  #f2cab5;\n",
       "            color:  #000000;\n",
       "        }#T_7a3de_row7_col4{\n",
       "            background-color:  #c83836;\n",
       "            color:  #f1f1f1;\n",
       "        }</style><table id=\"T_7a3de_\" ><thead>    <tr>        <th class=\"blank level0\" ></th>        <th class=\"col_heading level0 col0\" >YearBlt</th>        <th class=\"col_heading level0 col1\" >Tonnage</th>        <th class=\"col_heading level0 col2\" >passngrs</th>        <th class=\"col_heading level0 col3\" >Length</th>        <th class=\"col_heading level0 col4\" >Cabins</th>        <th class=\"col_heading level0 col5\" >Crew</th>        <th class=\"col_heading level0 col6\" >PassSpcR</th>        <th class=\"col_heading level0 col7\" >outcab</th>    </tr></thead><tbody>\n",
       "                <tr>\n",
       "                        <th id=\"T_7a3de_level0_row0\" class=\"row_heading level0 row0\" >YearBlt</th>\n",
       "                        <td id=\"T_7a3de_row0_col0\" class=\"data row0 col0\" >1.0</td>\n",
       "                        <td id=\"T_7a3de_row0_col1\" class=\"data row0 col1\" >0.61</td>\n",
       "                        <td id=\"T_7a3de_row0_col2\" class=\"data row0 col2\" >0.52</td>\n",
       "                        <td id=\"T_7a3de_row0_col3\" class=\"data row0 col3\" >0.53</td>\n",
       "                        <td id=\"T_7a3de_row0_col4\" class=\"data row0 col4\" >0.51</td>\n",
       "                        <td id=\"T_7a3de_row0_col5\" class=\"data row0 col5\" >0.53</td>\n",
       "                        <td id=\"T_7a3de_row0_col6\" class=\"data row0 col6\" >0.28</td>\n",
       "                        <td id=\"T_7a3de_row0_col7\" class=\"data row0 col7\" >0.55</td>\n",
       "            </tr>\n",
       "            <tr>\n",
       "                        <th id=\"T_7a3de_level0_row1\" class=\"row_heading level0 row1\" >Tonnage</th>\n",
       "                        <td id=\"T_7a3de_row1_col0\" class=\"data row1 col0\" >0.61</td>\n",
       "                        <td id=\"T_7a3de_row1_col1\" class=\"data row1 col1\" >1.0</td>\n",
       "                        <td id=\"T_7a3de_row1_col2\" class=\"data row1 col2\" >0.95</td>\n",
       "                        <td id=\"T_7a3de_row1_col3\" class=\"data row1 col3\" >0.92</td>\n",
       "                        <td id=\"T_7a3de_row1_col4\" class=\"data row1 col4\" >0.95</td>\n",
       "                        <td id=\"T_7a3de_row1_col5\" class=\"data row1 col5\" >0.93</td>\n",
       "                        <td id=\"T_7a3de_row1_col6\" class=\"data row1 col6\" >-0.041</td>\n",
       "                        <td id=\"T_7a3de_row1_col7\" class=\"data row1 col7\" >0.92</td>\n",
       "            </tr>\n",
       "            <tr>\n",
       "                        <th id=\"T_7a3de_level0_row2\" class=\"row_heading level0 row2\" >passngrs</th>\n",
       "                        <td id=\"T_7a3de_row2_col0\" class=\"data row2 col0\" >0.52</td>\n",
       "                        <td id=\"T_7a3de_row2_col1\" class=\"data row2 col1\" >0.95</td>\n",
       "                        <td id=\"T_7a3de_row2_col2\" class=\"data row2 col2\" >1.0</td>\n",
       "                        <td id=\"T_7a3de_row2_col3\" class=\"data row2 col3\" >0.88</td>\n",
       "                        <td id=\"T_7a3de_row2_col4\" class=\"data row2 col4\" >0.98</td>\n",
       "                        <td id=\"T_7a3de_row2_col5\" class=\"data row2 col5\" >0.92</td>\n",
       "                        <td id=\"T_7a3de_row2_col6\" class=\"data row2 col6\" >-0.29</td>\n",
       "                        <td id=\"T_7a3de_row2_col7\" class=\"data row2 col7\" >0.91</td>\n",
       "            </tr>\n",
       "            <tr>\n",
       "                        <th id=\"T_7a3de_level0_row3\" class=\"row_heading level0 row3\" >Length</th>\n",
       "                        <td id=\"T_7a3de_row3_col0\" class=\"data row3 col0\" >0.53</td>\n",
       "                        <td id=\"T_7a3de_row3_col1\" class=\"data row3 col1\" >0.92</td>\n",
       "                        <td id=\"T_7a3de_row3_col2\" class=\"data row3 col2\" >0.88</td>\n",
       "                        <td id=\"T_7a3de_row3_col3\" class=\"data row3 col3\" >1.0</td>\n",
       "                        <td id=\"T_7a3de_row3_col4\" class=\"data row3 col4\" >0.89</td>\n",
       "                        <td id=\"T_7a3de_row3_col5\" class=\"data row3 col5\" >0.9</td>\n",
       "                        <td id=\"T_7a3de_row3_col6\" class=\"data row3 col6\" >-0.09</td>\n",
       "                        <td id=\"T_7a3de_row3_col7\" class=\"data row3 col7\" >0.9</td>\n",
       "            </tr>\n",
       "            <tr>\n",
       "                        <th id=\"T_7a3de_level0_row4\" class=\"row_heading level0 row4\" >Cabins</th>\n",
       "                        <td id=\"T_7a3de_row4_col0\" class=\"data row4 col0\" >0.51</td>\n",
       "                        <td id=\"T_7a3de_row4_col1\" class=\"data row4 col1\" >0.95</td>\n",
       "                        <td id=\"T_7a3de_row4_col2\" class=\"data row4 col2\" >0.98</td>\n",
       "                        <td id=\"T_7a3de_row4_col3\" class=\"data row4 col3\" >0.89</td>\n",
       "                        <td id=\"T_7a3de_row4_col4\" class=\"data row4 col4\" >1.0</td>\n",
       "                        <td id=\"T_7a3de_row4_col5\" class=\"data row4 col5\" >0.95</td>\n",
       "                        <td id=\"T_7a3de_row4_col6\" class=\"data row4 col6\" >-0.25</td>\n",
       "                        <td id=\"T_7a3de_row4_col7\" class=\"data row4 col7\" >0.93</td>\n",
       "            </tr>\n",
       "            <tr>\n",
       "                        <th id=\"T_7a3de_level0_row5\" class=\"row_heading level0 row5\" >Crew</th>\n",
       "                        <td id=\"T_7a3de_row5_col0\" class=\"data row5 col0\" >0.53</td>\n",
       "                        <td id=\"T_7a3de_row5_col1\" class=\"data row5 col1\" >0.93</td>\n",
       "                        <td id=\"T_7a3de_row5_col2\" class=\"data row5 col2\" >0.92</td>\n",
       "                        <td id=\"T_7a3de_row5_col3\" class=\"data row5 col3\" >0.9</td>\n",
       "                        <td id=\"T_7a3de_row5_col4\" class=\"data row5 col4\" >0.95</td>\n",
       "                        <td id=\"T_7a3de_row5_col5\" class=\"data row5 col5\" >1.0</td>\n",
       "                        <td id=\"T_7a3de_row5_col6\" class=\"data row5 col6\" >-0.16</td>\n",
       "                        <td id=\"T_7a3de_row5_col7\" class=\"data row5 col7\" >0.9</td>\n",
       "            </tr>\n",
       "            <tr>\n",
       "                        <th id=\"T_7a3de_level0_row6\" class=\"row_heading level0 row6\" >PassSpcR</th>\n",
       "                        <td id=\"T_7a3de_row6_col0\" class=\"data row6 col0\" >0.28</td>\n",
       "                        <td id=\"T_7a3de_row6_col1\" class=\"data row6 col1\" >-0.041</td>\n",
       "                        <td id=\"T_7a3de_row6_col2\" class=\"data row6 col2\" >-0.29</td>\n",
       "                        <td id=\"T_7a3de_row6_col3\" class=\"data row6 col3\" >-0.09</td>\n",
       "                        <td id=\"T_7a3de_row6_col4\" class=\"data row6 col4\" >-0.25</td>\n",
       "                        <td id=\"T_7a3de_row6_col5\" class=\"data row6 col5\" >-0.16</td>\n",
       "                        <td id=\"T_7a3de_row6_col6\" class=\"data row6 col6\" >1.0</td>\n",
       "                        <td id=\"T_7a3de_row6_col7\" class=\"data row6 col7\" >-0.15</td>\n",
       "            </tr>\n",
       "            <tr>\n",
       "                        <th id=\"T_7a3de_level0_row7\" class=\"row_heading level0 row7\" >outcab</th>\n",
       "                        <td id=\"T_7a3de_row7_col0\" class=\"data row7 col0\" >0.55</td>\n",
       "                        <td id=\"T_7a3de_row7_col1\" class=\"data row7 col1\" >0.92</td>\n",
       "                        <td id=\"T_7a3de_row7_col2\" class=\"data row7 col2\" >0.91</td>\n",
       "                        <td id=\"T_7a3de_row7_col3\" class=\"data row7 col3\" >0.9</td>\n",
       "                        <td id=\"T_7a3de_row7_col4\" class=\"data row7 col4\" >0.93</td>\n",
       "                        <td id=\"T_7a3de_row7_col5\" class=\"data row7 col5\" >0.9</td>\n",
       "                        <td id=\"T_7a3de_row7_col6\" class=\"data row7 col6\" >-0.15</td>\n",
       "                        <td id=\"T_7a3de_row7_col7\" class=\"data row7 col7\" >1.0</td>\n",
       "            </tr>\n",
       "    </tbody></table>"
      ],
      "text/plain": [
       "<pandas.io.formats.style.Styler at 0x1e926682eb0>"
      ]
     },
     "execution_count": 11,
     "metadata": {},
     "output_type": "execute_result"
    }
   ],
   "source": [
    "cruise_ship1.corr(method='pearson').style.format(\"{:.2}\").background_gradient(cmap=plt.get_cmap('coolwarm'), axis=1)\n",
    "# Start by using the .style.format() function. In it, you will place {:.2} to specify the gradients. Then you can use background_gradient() to specify the colors. \n",
    "# This pulls the coolwarm palette from matplotlib pyplot. cmap= stands for color map. Then lastly, you need the argument axis=1 so that Python knows you are focused on columns."
   ]
  },
  {
   "cell_type": "code",
   "execution_count": 12,
   "id": "8895c821-3ba6-4a21-a4ce-63516a54fc4f",
   "metadata": {},
   "outputs": [],
   "source": [
    "## different colors"
   ]
  },
  {
   "cell_type": "code",
   "execution_count": 14,
   "id": "eacb496c-1a27-4c40-b200-aecb0f38fd43",
   "metadata": {},
   "outputs": [
    {
     "data": {
      "text/html": [
       "<style  type=\"text/css\" >\n",
       "#T_3b7f9_row0_col0,#T_3b7f9_row1_col1,#T_3b7f9_row2_col2,#T_3b7f9_row3_col3,#T_3b7f9_row4_col4,#T_3b7f9_row5_col5,#T_3b7f9_row6_col6,#T_3b7f9_row7_col7{\n",
       "            background-color:  #fde725;\n",
       "            color:  #000000;\n",
       "        }#T_3b7f9_row0_col1{\n",
       "            background-color:  #25858e;\n",
       "            color:  #000000;\n",
       "        }#T_3b7f9_row0_col2{\n",
       "            background-color:  #31678e;\n",
       "            color:  #f1f1f1;\n",
       "        }#T_3b7f9_row0_col3,#T_3b7f9_row0_col5{\n",
       "            background-color:  #2f6c8e;\n",
       "            color:  #f1f1f1;\n",
       "        }#T_3b7f9_row0_col4{\n",
       "            background-color:  #32658e;\n",
       "            color:  #f1f1f1;\n",
       "        }#T_3b7f9_row0_col6,#T_3b7f9_row1_col6,#T_3b7f9_row2_col6,#T_3b7f9_row3_col6,#T_3b7f9_row4_col6,#T_3b7f9_row5_col6,#T_3b7f9_row6_col2,#T_3b7f9_row7_col6{\n",
       "            background-color:  #440154;\n",
       "            color:  #f1f1f1;\n",
       "        }#T_3b7f9_row0_col7{\n",
       "            background-color:  #2c718e;\n",
       "            color:  #f1f1f1;\n",
       "        }#T_3b7f9_row1_col0{\n",
       "            background-color:  #27ad81;\n",
       "            color:  #000000;\n",
       "        }#T_3b7f9_row1_col2,#T_3b7f9_row4_col7{\n",
       "            background-color:  #dde318;\n",
       "            color:  #000000;\n",
       "        }#T_3b7f9_row1_col3,#T_3b7f9_row1_col7,#T_3b7f9_row7_col2{\n",
       "            background-color:  #cde11d;\n",
       "            color:  #000000;\n",
       "        }#T_3b7f9_row1_col4{\n",
       "            background-color:  #dfe318;\n",
       "            color:  #000000;\n",
       "        }#T_3b7f9_row1_col5,#T_3b7f9_row7_col1{\n",
       "            background-color:  #d2e21b;\n",
       "            color:  #000000;\n",
       "        }#T_3b7f9_row2_col0{\n",
       "            background-color:  #28ae80;\n",
       "            color:  #000000;\n",
       "        }#T_3b7f9_row2_col1,#T_3b7f9_row4_col1,#T_3b7f9_row4_col5,#T_3b7f9_row5_col4{\n",
       "            background-color:  #e5e419;\n",
       "            color:  #000000;\n",
       "        }#T_3b7f9_row2_col3,#T_3b7f9_row3_col7,#T_3b7f9_row5_col3{\n",
       "            background-color:  #c2df23;\n",
       "            color:  #000000;\n",
       "        }#T_3b7f9_row2_col4,#T_3b7f9_row4_col2{\n",
       "            background-color:  #f4e61e;\n",
       "            color:  #000000;\n",
       "        }#T_3b7f9_row2_col5,#T_3b7f9_row2_col7,#T_3b7f9_row5_col1{\n",
       "            background-color:  #d5e21a;\n",
       "            color:  #000000;\n",
       "        }#T_3b7f9_row3_col0{\n",
       "            background-color:  #1fa187;\n",
       "            color:  #000000;\n",
       "        }#T_3b7f9_row3_col1,#T_3b7f9_row5_col2{\n",
       "            background-color:  #d0e11c;\n",
       "            color:  #000000;\n",
       "        }#T_3b7f9_row3_col2{\n",
       "            background-color:  #b8de29;\n",
       "            color:  #000000;\n",
       "        }#T_3b7f9_row3_col4{\n",
       "            background-color:  #bddf26;\n",
       "            color:  #000000;\n",
       "        }#T_3b7f9_row3_col5{\n",
       "            background-color:  #c0df25;\n",
       "            color:  #000000;\n",
       "        }#T_3b7f9_row4_col0{\n",
       "            background-color:  #24aa83;\n",
       "            color:  #000000;\n",
       "        }#T_3b7f9_row4_col3,#T_3b7f9_row5_col7,#T_3b7f9_row7_col3,#T_3b7f9_row7_col5{\n",
       "            background-color:  #c5e021;\n",
       "            color:  #000000;\n",
       "        }#T_3b7f9_row5_col0{\n",
       "            background-color:  #22a785;\n",
       "            color:  #000000;\n",
       "        }#T_3b7f9_row6_col0{\n",
       "            background-color:  #26828e;\n",
       "            color:  #000000;\n",
       "        }#T_3b7f9_row6_col1{\n",
       "            background-color:  #414287;\n",
       "            color:  #f1f1f1;\n",
       "        }#T_3b7f9_row6_col3{\n",
       "            background-color:  #453781;\n",
       "            color:  #f1f1f1;\n",
       "        }#T_3b7f9_row6_col4{\n",
       "            background-color:  #470d60;\n",
       "            color:  #f1f1f1;\n",
       "        }#T_3b7f9_row6_col5{\n",
       "            background-color:  #482677;\n",
       "            color:  #f1f1f1;\n",
       "        }#T_3b7f9_row6_col7{\n",
       "            background-color:  #482979;\n",
       "            color:  #f1f1f1;\n",
       "        }#T_3b7f9_row7_col0{\n",
       "            background-color:  #23a983;\n",
       "            color:  #000000;\n",
       "        }#T_3b7f9_row7_col4{\n",
       "            background-color:  #dae319;\n",
       "            color:  #000000;\n",
       "        }</style><table id=\"T_3b7f9_\" ><thead>    <tr>        <th class=\"blank level0\" ></th>        <th class=\"col_heading level0 col0\" >YearBlt</th>        <th class=\"col_heading level0 col1\" >Tonnage</th>        <th class=\"col_heading level0 col2\" >passngrs</th>        <th class=\"col_heading level0 col3\" >Length</th>        <th class=\"col_heading level0 col4\" >Cabins</th>        <th class=\"col_heading level0 col5\" >Crew</th>        <th class=\"col_heading level0 col6\" >PassSpcR</th>        <th class=\"col_heading level0 col7\" >outcab</th>    </tr></thead><tbody>\n",
       "                <tr>\n",
       "                        <th id=\"T_3b7f9_level0_row0\" class=\"row_heading level0 row0\" >YearBlt</th>\n",
       "                        <td id=\"T_3b7f9_row0_col0\" class=\"data row0 col0\" >1.0</td>\n",
       "                        <td id=\"T_3b7f9_row0_col1\" class=\"data row0 col1\" >0.61</td>\n",
       "                        <td id=\"T_3b7f9_row0_col2\" class=\"data row0 col2\" >0.52</td>\n",
       "                        <td id=\"T_3b7f9_row0_col3\" class=\"data row0 col3\" >0.53</td>\n",
       "                        <td id=\"T_3b7f9_row0_col4\" class=\"data row0 col4\" >0.51</td>\n",
       "                        <td id=\"T_3b7f9_row0_col5\" class=\"data row0 col5\" >0.53</td>\n",
       "                        <td id=\"T_3b7f9_row0_col6\" class=\"data row0 col6\" >0.28</td>\n",
       "                        <td id=\"T_3b7f9_row0_col7\" class=\"data row0 col7\" >0.55</td>\n",
       "            </tr>\n",
       "            <tr>\n",
       "                        <th id=\"T_3b7f9_level0_row1\" class=\"row_heading level0 row1\" >Tonnage</th>\n",
       "                        <td id=\"T_3b7f9_row1_col0\" class=\"data row1 col0\" >0.61</td>\n",
       "                        <td id=\"T_3b7f9_row1_col1\" class=\"data row1 col1\" >1.0</td>\n",
       "                        <td id=\"T_3b7f9_row1_col2\" class=\"data row1 col2\" >0.95</td>\n",
       "                        <td id=\"T_3b7f9_row1_col3\" class=\"data row1 col3\" >0.92</td>\n",
       "                        <td id=\"T_3b7f9_row1_col4\" class=\"data row1 col4\" >0.95</td>\n",
       "                        <td id=\"T_3b7f9_row1_col5\" class=\"data row1 col5\" >0.93</td>\n",
       "                        <td id=\"T_3b7f9_row1_col6\" class=\"data row1 col6\" >-0.041</td>\n",
       "                        <td id=\"T_3b7f9_row1_col7\" class=\"data row1 col7\" >0.92</td>\n",
       "            </tr>\n",
       "            <tr>\n",
       "                        <th id=\"T_3b7f9_level0_row2\" class=\"row_heading level0 row2\" >passngrs</th>\n",
       "                        <td id=\"T_3b7f9_row2_col0\" class=\"data row2 col0\" >0.52</td>\n",
       "                        <td id=\"T_3b7f9_row2_col1\" class=\"data row2 col1\" >0.95</td>\n",
       "                        <td id=\"T_3b7f9_row2_col2\" class=\"data row2 col2\" >1.0</td>\n",
       "                        <td id=\"T_3b7f9_row2_col3\" class=\"data row2 col3\" >0.88</td>\n",
       "                        <td id=\"T_3b7f9_row2_col4\" class=\"data row2 col4\" >0.98</td>\n",
       "                        <td id=\"T_3b7f9_row2_col5\" class=\"data row2 col5\" >0.92</td>\n",
       "                        <td id=\"T_3b7f9_row2_col6\" class=\"data row2 col6\" >-0.29</td>\n",
       "                        <td id=\"T_3b7f9_row2_col7\" class=\"data row2 col7\" >0.91</td>\n",
       "            </tr>\n",
       "            <tr>\n",
       "                        <th id=\"T_3b7f9_level0_row3\" class=\"row_heading level0 row3\" >Length</th>\n",
       "                        <td id=\"T_3b7f9_row3_col0\" class=\"data row3 col0\" >0.53</td>\n",
       "                        <td id=\"T_3b7f9_row3_col1\" class=\"data row3 col1\" >0.92</td>\n",
       "                        <td id=\"T_3b7f9_row3_col2\" class=\"data row3 col2\" >0.88</td>\n",
       "                        <td id=\"T_3b7f9_row3_col3\" class=\"data row3 col3\" >1.0</td>\n",
       "                        <td id=\"T_3b7f9_row3_col4\" class=\"data row3 col4\" >0.89</td>\n",
       "                        <td id=\"T_3b7f9_row3_col5\" class=\"data row3 col5\" >0.9</td>\n",
       "                        <td id=\"T_3b7f9_row3_col6\" class=\"data row3 col6\" >-0.09</td>\n",
       "                        <td id=\"T_3b7f9_row3_col7\" class=\"data row3 col7\" >0.9</td>\n",
       "            </tr>\n",
       "            <tr>\n",
       "                        <th id=\"T_3b7f9_level0_row4\" class=\"row_heading level0 row4\" >Cabins</th>\n",
       "                        <td id=\"T_3b7f9_row4_col0\" class=\"data row4 col0\" >0.51</td>\n",
       "                        <td id=\"T_3b7f9_row4_col1\" class=\"data row4 col1\" >0.95</td>\n",
       "                        <td id=\"T_3b7f9_row4_col2\" class=\"data row4 col2\" >0.98</td>\n",
       "                        <td id=\"T_3b7f9_row4_col3\" class=\"data row4 col3\" >0.89</td>\n",
       "                        <td id=\"T_3b7f9_row4_col4\" class=\"data row4 col4\" >1.0</td>\n",
       "                        <td id=\"T_3b7f9_row4_col5\" class=\"data row4 col5\" >0.95</td>\n",
       "                        <td id=\"T_3b7f9_row4_col6\" class=\"data row4 col6\" >-0.25</td>\n",
       "                        <td id=\"T_3b7f9_row4_col7\" class=\"data row4 col7\" >0.93</td>\n",
       "            </tr>\n",
       "            <tr>\n",
       "                        <th id=\"T_3b7f9_level0_row5\" class=\"row_heading level0 row5\" >Crew</th>\n",
       "                        <td id=\"T_3b7f9_row5_col0\" class=\"data row5 col0\" >0.53</td>\n",
       "                        <td id=\"T_3b7f9_row5_col1\" class=\"data row5 col1\" >0.93</td>\n",
       "                        <td id=\"T_3b7f9_row5_col2\" class=\"data row5 col2\" >0.92</td>\n",
       "                        <td id=\"T_3b7f9_row5_col3\" class=\"data row5 col3\" >0.9</td>\n",
       "                        <td id=\"T_3b7f9_row5_col4\" class=\"data row5 col4\" >0.95</td>\n",
       "                        <td id=\"T_3b7f9_row5_col5\" class=\"data row5 col5\" >1.0</td>\n",
       "                        <td id=\"T_3b7f9_row5_col6\" class=\"data row5 col6\" >-0.16</td>\n",
       "                        <td id=\"T_3b7f9_row5_col7\" class=\"data row5 col7\" >0.9</td>\n",
       "            </tr>\n",
       "            <tr>\n",
       "                        <th id=\"T_3b7f9_level0_row6\" class=\"row_heading level0 row6\" >PassSpcR</th>\n",
       "                        <td id=\"T_3b7f9_row6_col0\" class=\"data row6 col0\" >0.28</td>\n",
       "                        <td id=\"T_3b7f9_row6_col1\" class=\"data row6 col1\" >-0.041</td>\n",
       "                        <td id=\"T_3b7f9_row6_col2\" class=\"data row6 col2\" >-0.29</td>\n",
       "                        <td id=\"T_3b7f9_row6_col3\" class=\"data row6 col3\" >-0.09</td>\n",
       "                        <td id=\"T_3b7f9_row6_col4\" class=\"data row6 col4\" >-0.25</td>\n",
       "                        <td id=\"T_3b7f9_row6_col5\" class=\"data row6 col5\" >-0.16</td>\n",
       "                        <td id=\"T_3b7f9_row6_col6\" class=\"data row6 col6\" >1.0</td>\n",
       "                        <td id=\"T_3b7f9_row6_col7\" class=\"data row6 col7\" >-0.15</td>\n",
       "            </tr>\n",
       "            <tr>\n",
       "                        <th id=\"T_3b7f9_level0_row7\" class=\"row_heading level0 row7\" >outcab</th>\n",
       "                        <td id=\"T_3b7f9_row7_col0\" class=\"data row7 col0\" >0.55</td>\n",
       "                        <td id=\"T_3b7f9_row7_col1\" class=\"data row7 col1\" >0.92</td>\n",
       "                        <td id=\"T_3b7f9_row7_col2\" class=\"data row7 col2\" >0.91</td>\n",
       "                        <td id=\"T_3b7f9_row7_col3\" class=\"data row7 col3\" >0.9</td>\n",
       "                        <td id=\"T_3b7f9_row7_col4\" class=\"data row7 col4\" >0.93</td>\n",
       "                        <td id=\"T_3b7f9_row7_col5\" class=\"data row7 col5\" >0.9</td>\n",
       "                        <td id=\"T_3b7f9_row7_col6\" class=\"data row7 col6\" >-0.15</td>\n",
       "                        <td id=\"T_3b7f9_row7_col7\" class=\"data row7 col7\" >1.0</td>\n",
       "            </tr>\n",
       "    </tbody></table>"
      ],
      "text/plain": [
       "<pandas.io.formats.style.Styler at 0x1e926682b50>"
      ]
     },
     "execution_count": 14,
     "metadata": {},
     "output_type": "execute_result"
    }
   ],
   "source": [
    "cruise_ship1.corr(method='pearson').style.format(\"{:.2}\").background_gradient(cmap=plt.get_cmap('viridis'), axis=1)"
   ]
  },
  {
   "cell_type": "code",
   "execution_count": 15,
   "id": "00888bf1-e71b-4036-89d3-886a434b2de1",
   "metadata": {},
   "outputs": [
    {
     "data": {
      "text/html": [
       "<style  type=\"text/css\" >\n",
       "#T_d8645_row0_col0,#T_d8645_row1_col1,#T_d8645_row2_col2,#T_d8645_row3_col3,#T_d8645_row4_col4,#T_d8645_row5_col5,#T_d8645_row6_col6,#T_d8645_row7_col7{\n",
       "            background-color:  #f0f921;\n",
       "            color:  #000000;\n",
       "        }#T_d8645_row0_col1{\n",
       "            background-color:  #c03a83;\n",
       "            color:  #f1f1f1;\n",
       "        }#T_d8645_row0_col2{\n",
       "            background-color:  #9a169f;\n",
       "            color:  #f1f1f1;\n",
       "        }#T_d8645_row0_col3,#T_d8645_row0_col5{\n",
       "            background-color:  #a11b9b;\n",
       "            color:  #f1f1f1;\n",
       "        }#T_d8645_row0_col4{\n",
       "            background-color:  #9814a0;\n",
       "            color:  #f1f1f1;\n",
       "        }#T_d8645_row0_col6,#T_d8645_row1_col6,#T_d8645_row2_col6,#T_d8645_row3_col6,#T_d8645_row4_col6,#T_d8645_row5_col6,#T_d8645_row6_col2,#T_d8645_row7_col6{\n",
       "            background-color:  #0d0887;\n",
       "            color:  #f1f1f1;\n",
       "        }#T_d8645_row0_col7{\n",
       "            background-color:  #a82296;\n",
       "            color:  #f1f1f1;\n",
       "        }#T_d8645_row1_col0{\n",
       "            background-color:  #e56b5d;\n",
       "            color:  #000000;\n",
       "        }#T_d8645_row1_col2,#T_d8645_row4_col7{\n",
       "            background-color:  #f7e225;\n",
       "            color:  #000000;\n",
       "        }#T_d8645_row1_col3,#T_d8645_row1_col7,#T_d8645_row7_col2{\n",
       "            background-color:  #fad824;\n",
       "            color:  #000000;\n",
       "        }#T_d8645_row1_col4{\n",
       "            background-color:  #f7e425;\n",
       "            color:  #000000;\n",
       "        }#T_d8645_row1_col5,#T_d8645_row7_col1{\n",
       "            background-color:  #f9dc24;\n",
       "            color:  #000000;\n",
       "        }#T_d8645_row2_col0{\n",
       "            background-color:  #e66c5c;\n",
       "            color:  #000000;\n",
       "        }#T_d8645_row2_col1,#T_d8645_row4_col1,#T_d8645_row4_col5,#T_d8645_row5_col4{\n",
       "            background-color:  #f6e826;\n",
       "            color:  #000000;\n",
       "        }#T_d8645_row2_col3,#T_d8645_row3_col7,#T_d8645_row5_col3{\n",
       "            background-color:  #fcd225;\n",
       "            color:  #000000;\n",
       "        }#T_d8645_row2_col4,#T_d8645_row4_col2{\n",
       "            background-color:  #f2f227;\n",
       "            color:  #000000;\n",
       "        }#T_d8645_row2_col5,#T_d8645_row2_col7,#T_d8645_row5_col1{\n",
       "            background-color:  #f9dd25;\n",
       "            color:  #000000;\n",
       "        }#T_d8645_row3_col0{\n",
       "            background-color:  #db5c68;\n",
       "            color:  #000000;\n",
       "        }#T_d8645_row3_col1,#T_d8645_row5_col2{\n",
       "            background-color:  #fada24;\n",
       "            color:  #000000;\n",
       "        }#T_d8645_row3_col2{\n",
       "            background-color:  #fdcb26;\n",
       "            color:  #000000;\n",
       "        }#T_d8645_row3_col4{\n",
       "            background-color:  #fcce25;\n",
       "            color:  #000000;\n",
       "        }#T_d8645_row3_col5{\n",
       "            background-color:  #fcd025;\n",
       "            color:  #000000;\n",
       "        }#T_d8645_row4_col0{\n",
       "            background-color:  #e26660;\n",
       "            color:  #000000;\n",
       "        }#T_d8645_row4_col3,#T_d8645_row5_col7,#T_d8645_row7_col3,#T_d8645_row7_col5{\n",
       "            background-color:  #fbd324;\n",
       "            color:  #000000;\n",
       "        }#T_d8645_row5_col0{\n",
       "            background-color:  #e06363;\n",
       "            color:  #000000;\n",
       "        }#T_d8645_row6_col0{\n",
       "            background-color:  #bd3786;\n",
       "            color:  #f1f1f1;\n",
       "        }#T_d8645_row6_col1{\n",
       "            background-color:  #6900a8;\n",
       "            color:  #f1f1f1;\n",
       "        }#T_d8645_row6_col3{\n",
       "            background-color:  #5901a5;\n",
       "            color:  #f1f1f1;\n",
       "        }#T_d8645_row6_col4{\n",
       "            background-color:  #220690;\n",
       "            color:  #f1f1f1;\n",
       "        }#T_d8645_row6_col5{\n",
       "            background-color:  #44039e;\n",
       "            color:  #f1f1f1;\n",
       "        }#T_d8645_row6_col7{\n",
       "            background-color:  #48039f;\n",
       "            color:  #f1f1f1;\n",
       "        }#T_d8645_row7_col0{\n",
       "            background-color:  #e26561;\n",
       "            color:  #000000;\n",
       "        }#T_d8645_row7_col4{\n",
       "            background-color:  #f8e125;\n",
       "            color:  #000000;\n",
       "        }</style><table id=\"T_d8645_\" ><thead>    <tr>        <th class=\"blank level0\" ></th>        <th class=\"col_heading level0 col0\" >YearBlt</th>        <th class=\"col_heading level0 col1\" >Tonnage</th>        <th class=\"col_heading level0 col2\" >passngrs</th>        <th class=\"col_heading level0 col3\" >Length</th>        <th class=\"col_heading level0 col4\" >Cabins</th>        <th class=\"col_heading level0 col5\" >Crew</th>        <th class=\"col_heading level0 col6\" >PassSpcR</th>        <th class=\"col_heading level0 col7\" >outcab</th>    </tr></thead><tbody>\n",
       "                <tr>\n",
       "                        <th id=\"T_d8645_level0_row0\" class=\"row_heading level0 row0\" >YearBlt</th>\n",
       "                        <td id=\"T_d8645_row0_col0\" class=\"data row0 col0\" >1.0</td>\n",
       "                        <td id=\"T_d8645_row0_col1\" class=\"data row0 col1\" >0.61</td>\n",
       "                        <td id=\"T_d8645_row0_col2\" class=\"data row0 col2\" >0.52</td>\n",
       "                        <td id=\"T_d8645_row0_col3\" class=\"data row0 col3\" >0.53</td>\n",
       "                        <td id=\"T_d8645_row0_col4\" class=\"data row0 col4\" >0.51</td>\n",
       "                        <td id=\"T_d8645_row0_col5\" class=\"data row0 col5\" >0.53</td>\n",
       "                        <td id=\"T_d8645_row0_col6\" class=\"data row0 col6\" >0.28</td>\n",
       "                        <td id=\"T_d8645_row0_col7\" class=\"data row0 col7\" >0.55</td>\n",
       "            </tr>\n",
       "            <tr>\n",
       "                        <th id=\"T_d8645_level0_row1\" class=\"row_heading level0 row1\" >Tonnage</th>\n",
       "                        <td id=\"T_d8645_row1_col0\" class=\"data row1 col0\" >0.61</td>\n",
       "                        <td id=\"T_d8645_row1_col1\" class=\"data row1 col1\" >1.0</td>\n",
       "                        <td id=\"T_d8645_row1_col2\" class=\"data row1 col2\" >0.95</td>\n",
       "                        <td id=\"T_d8645_row1_col3\" class=\"data row1 col3\" >0.92</td>\n",
       "                        <td id=\"T_d8645_row1_col4\" class=\"data row1 col4\" >0.95</td>\n",
       "                        <td id=\"T_d8645_row1_col5\" class=\"data row1 col5\" >0.93</td>\n",
       "                        <td id=\"T_d8645_row1_col6\" class=\"data row1 col6\" >-0.041</td>\n",
       "                        <td id=\"T_d8645_row1_col7\" class=\"data row1 col7\" >0.92</td>\n",
       "            </tr>\n",
       "            <tr>\n",
       "                        <th id=\"T_d8645_level0_row2\" class=\"row_heading level0 row2\" >passngrs</th>\n",
       "                        <td id=\"T_d8645_row2_col0\" class=\"data row2 col0\" >0.52</td>\n",
       "                        <td id=\"T_d8645_row2_col1\" class=\"data row2 col1\" >0.95</td>\n",
       "                        <td id=\"T_d8645_row2_col2\" class=\"data row2 col2\" >1.0</td>\n",
       "                        <td id=\"T_d8645_row2_col3\" class=\"data row2 col3\" >0.88</td>\n",
       "                        <td id=\"T_d8645_row2_col4\" class=\"data row2 col4\" >0.98</td>\n",
       "                        <td id=\"T_d8645_row2_col5\" class=\"data row2 col5\" >0.92</td>\n",
       "                        <td id=\"T_d8645_row2_col6\" class=\"data row2 col6\" >-0.29</td>\n",
       "                        <td id=\"T_d8645_row2_col7\" class=\"data row2 col7\" >0.91</td>\n",
       "            </tr>\n",
       "            <tr>\n",
       "                        <th id=\"T_d8645_level0_row3\" class=\"row_heading level0 row3\" >Length</th>\n",
       "                        <td id=\"T_d8645_row3_col0\" class=\"data row3 col0\" >0.53</td>\n",
       "                        <td id=\"T_d8645_row3_col1\" class=\"data row3 col1\" >0.92</td>\n",
       "                        <td id=\"T_d8645_row3_col2\" class=\"data row3 col2\" >0.88</td>\n",
       "                        <td id=\"T_d8645_row3_col3\" class=\"data row3 col3\" >1.0</td>\n",
       "                        <td id=\"T_d8645_row3_col4\" class=\"data row3 col4\" >0.89</td>\n",
       "                        <td id=\"T_d8645_row3_col5\" class=\"data row3 col5\" >0.9</td>\n",
       "                        <td id=\"T_d8645_row3_col6\" class=\"data row3 col6\" >-0.09</td>\n",
       "                        <td id=\"T_d8645_row3_col7\" class=\"data row3 col7\" >0.9</td>\n",
       "            </tr>\n",
       "            <tr>\n",
       "                        <th id=\"T_d8645_level0_row4\" class=\"row_heading level0 row4\" >Cabins</th>\n",
       "                        <td id=\"T_d8645_row4_col0\" class=\"data row4 col0\" >0.51</td>\n",
       "                        <td id=\"T_d8645_row4_col1\" class=\"data row4 col1\" >0.95</td>\n",
       "                        <td id=\"T_d8645_row4_col2\" class=\"data row4 col2\" >0.98</td>\n",
       "                        <td id=\"T_d8645_row4_col3\" class=\"data row4 col3\" >0.89</td>\n",
       "                        <td id=\"T_d8645_row4_col4\" class=\"data row4 col4\" >1.0</td>\n",
       "                        <td id=\"T_d8645_row4_col5\" class=\"data row4 col5\" >0.95</td>\n",
       "                        <td id=\"T_d8645_row4_col6\" class=\"data row4 col6\" >-0.25</td>\n",
       "                        <td id=\"T_d8645_row4_col7\" class=\"data row4 col7\" >0.93</td>\n",
       "            </tr>\n",
       "            <tr>\n",
       "                        <th id=\"T_d8645_level0_row5\" class=\"row_heading level0 row5\" >Crew</th>\n",
       "                        <td id=\"T_d8645_row5_col0\" class=\"data row5 col0\" >0.53</td>\n",
       "                        <td id=\"T_d8645_row5_col1\" class=\"data row5 col1\" >0.93</td>\n",
       "                        <td id=\"T_d8645_row5_col2\" class=\"data row5 col2\" >0.92</td>\n",
       "                        <td id=\"T_d8645_row5_col3\" class=\"data row5 col3\" >0.9</td>\n",
       "                        <td id=\"T_d8645_row5_col4\" class=\"data row5 col4\" >0.95</td>\n",
       "                        <td id=\"T_d8645_row5_col5\" class=\"data row5 col5\" >1.0</td>\n",
       "                        <td id=\"T_d8645_row5_col6\" class=\"data row5 col6\" >-0.16</td>\n",
       "                        <td id=\"T_d8645_row5_col7\" class=\"data row5 col7\" >0.9</td>\n",
       "            </tr>\n",
       "            <tr>\n",
       "                        <th id=\"T_d8645_level0_row6\" class=\"row_heading level0 row6\" >PassSpcR</th>\n",
       "                        <td id=\"T_d8645_row6_col0\" class=\"data row6 col0\" >0.28</td>\n",
       "                        <td id=\"T_d8645_row6_col1\" class=\"data row6 col1\" >-0.041</td>\n",
       "                        <td id=\"T_d8645_row6_col2\" class=\"data row6 col2\" >-0.29</td>\n",
       "                        <td id=\"T_d8645_row6_col3\" class=\"data row6 col3\" >-0.09</td>\n",
       "                        <td id=\"T_d8645_row6_col4\" class=\"data row6 col4\" >-0.25</td>\n",
       "                        <td id=\"T_d8645_row6_col5\" class=\"data row6 col5\" >-0.16</td>\n",
       "                        <td id=\"T_d8645_row6_col6\" class=\"data row6 col6\" >1.0</td>\n",
       "                        <td id=\"T_d8645_row6_col7\" class=\"data row6 col7\" >-0.15</td>\n",
       "            </tr>\n",
       "            <tr>\n",
       "                        <th id=\"T_d8645_level0_row7\" class=\"row_heading level0 row7\" >outcab</th>\n",
       "                        <td id=\"T_d8645_row7_col0\" class=\"data row7 col0\" >0.55</td>\n",
       "                        <td id=\"T_d8645_row7_col1\" class=\"data row7 col1\" >0.92</td>\n",
       "                        <td id=\"T_d8645_row7_col2\" class=\"data row7 col2\" >0.91</td>\n",
       "                        <td id=\"T_d8645_row7_col3\" class=\"data row7 col3\" >0.9</td>\n",
       "                        <td id=\"T_d8645_row7_col4\" class=\"data row7 col4\" >0.93</td>\n",
       "                        <td id=\"T_d8645_row7_col5\" class=\"data row7 col5\" >0.9</td>\n",
       "                        <td id=\"T_d8645_row7_col6\" class=\"data row7 col6\" >-0.15</td>\n",
       "                        <td id=\"T_d8645_row7_col7\" class=\"data row7 col7\" >1.0</td>\n",
       "            </tr>\n",
       "    </tbody></table>"
      ],
      "text/plain": [
       "<pandas.io.formats.style.Styler at 0x1e9241c9580>"
      ]
     },
     "execution_count": 15,
     "metadata": {},
     "output_type": "execute_result"
    }
   ],
   "source": [
    "cruise_ship1.corr(method='pearson').style.format(\"{:.2}\").background_gradient(cmap=plt.get_cmap('plasma'), axis=1)"
   ]
  },
  {
   "cell_type": "code",
   "execution_count": 16,
   "id": "16360c76-311d-4e34-b0fb-1bd8255bbb7a",
   "metadata": {},
   "outputs": [
    {
     "data": {
      "text/html": [
       "<style  type=\"text/css\" >\n",
       "#T_c0cfd_row0_col0,#T_c0cfd_row1_col1,#T_c0cfd_row2_col2,#T_c0cfd_row3_col3,#T_c0cfd_row4_col4,#T_c0cfd_row5_col5,#T_c0cfd_row6_col6,#T_c0cfd_row7_col7{\n",
       "            background-color:  #fcfdbf;\n",
       "            color:  #000000;\n",
       "        }#T_c0cfd_row0_col1{\n",
       "            background-color:  #a3307e;\n",
       "            color:  #f1f1f1;\n",
       "        }#T_c0cfd_row0_col2{\n",
       "            background-color:  #701f81;\n",
       "            color:  #f1f1f1;\n",
       "        }#T_c0cfd_row0_col3,#T_c0cfd_row0_col5{\n",
       "            background-color:  #782281;\n",
       "            color:  #f1f1f1;\n",
       "        }#T_c0cfd_row0_col4{\n",
       "            background-color:  #6d1d81;\n",
       "            color:  #f1f1f1;\n",
       "        }#T_c0cfd_row0_col6,#T_c0cfd_row1_col6,#T_c0cfd_row2_col6,#T_c0cfd_row3_col6,#T_c0cfd_row4_col6,#T_c0cfd_row5_col6,#T_c0cfd_row6_col2,#T_c0cfd_row7_col6{\n",
       "            background-color:  #000004;\n",
       "            color:  #f1f1f1;\n",
       "        }#T_c0cfd_row0_col7{\n",
       "            background-color:  #812581;\n",
       "            color:  #f1f1f1;\n",
       "        }#T_c0cfd_row1_col0{\n",
       "            background-color:  #e55064;\n",
       "            color:  #000000;\n",
       "        }#T_c0cfd_row1_col2,#T_c0cfd_row4_col7{\n",
       "            background-color:  #fde5a7;\n",
       "            color:  #000000;\n",
       "        }#T_c0cfd_row1_col3,#T_c0cfd_row1_col7,#T_c0cfd_row7_col2{\n",
       "            background-color:  #fdda9c;\n",
       "            color:  #000000;\n",
       "        }#T_c0cfd_row1_col4{\n",
       "            background-color:  #fde7a9;\n",
       "            color:  #000000;\n",
       "        }#T_c0cfd_row1_col5,#T_c0cfd_row7_col1{\n",
       "            background-color:  #fddea0;\n",
       "            color:  #000000;\n",
       "        }#T_c0cfd_row2_col0{\n",
       "            background-color:  #e75263;\n",
       "            color:  #000000;\n",
       "        }#T_c0cfd_row2_col1,#T_c0cfd_row4_col1,#T_c0cfd_row4_col5,#T_c0cfd_row5_col4{\n",
       "            background-color:  #fdebac;\n",
       "            color:  #000000;\n",
       "        }#T_c0cfd_row2_col3,#T_c0cfd_row3_col7,#T_c0cfd_row5_col3{\n",
       "            background-color:  #fed395;\n",
       "            color:  #000000;\n",
       "        }#T_c0cfd_row2_col4,#T_c0cfd_row4_col2{\n",
       "            background-color:  #fcf6b8;\n",
       "            color:  #000000;\n",
       "        }#T_c0cfd_row2_col5,#T_c0cfd_row2_col7,#T_c0cfd_row5_col1{\n",
       "            background-color:  #fde0a1;\n",
       "            color:  #000000;\n",
       "        }#T_c0cfd_row3_col0{\n",
       "            background-color:  #d3436e;\n",
       "            color:  #f1f1f1;\n",
       "        }#T_c0cfd_row3_col1,#T_c0cfd_row5_col2{\n",
       "            background-color:  #fddc9e;\n",
       "            color:  #000000;\n",
       "        }#T_c0cfd_row3_col2{\n",
       "            background-color:  #fecc8f;\n",
       "            color:  #000000;\n",
       "        }#T_c0cfd_row3_col4{\n",
       "            background-color:  #fecf92;\n",
       "            color:  #000000;\n",
       "        }#T_c0cfd_row3_col5{\n",
       "            background-color:  #fed194;\n",
       "            color:  #000000;\n",
       "        }#T_c0cfd_row4_col0{\n",
       "            background-color:  #e04c67;\n",
       "            color:  #000000;\n",
       "        }#T_c0cfd_row4_col3,#T_c0cfd_row5_col7,#T_c0cfd_row7_col3,#T_c0cfd_row7_col5{\n",
       "            background-color:  #fed597;\n",
       "            color:  #000000;\n",
       "        }#T_c0cfd_row5_col0{\n",
       "            background-color:  #dc4869;\n",
       "            color:  #000000;\n",
       "        }#T_c0cfd_row6_col0{\n",
       "            background-color:  #9e2f7f;\n",
       "            color:  #f1f1f1;\n",
       "        }#T_c0cfd_row6_col1{\n",
       "            background-color:  #390f6e;\n",
       "            color:  #f1f1f1;\n",
       "        }#T_c0cfd_row6_col3{\n",
       "            background-color:  #29115a;\n",
       "            color:  #f1f1f1;\n",
       "        }#T_c0cfd_row6_col4{\n",
       "            background-color:  #030312;\n",
       "            color:  #f1f1f1;\n",
       "        }#T_c0cfd_row6_col5{\n",
       "            background-color:  #160f3b;\n",
       "            color:  #f1f1f1;\n",
       "        }#T_c0cfd_row6_col7{\n",
       "            background-color:  #19103f;\n",
       "            color:  #f1f1f1;\n",
       "        }#T_c0cfd_row7_col0{\n",
       "            background-color:  #df4a68;\n",
       "            color:  #000000;\n",
       "        }#T_c0cfd_row7_col4{\n",
       "            background-color:  #fde3a5;\n",
       "            color:  #000000;\n",
       "        }</style><table id=\"T_c0cfd_\" ><thead>    <tr>        <th class=\"blank level0\" ></th>        <th class=\"col_heading level0 col0\" >YearBlt</th>        <th class=\"col_heading level0 col1\" >Tonnage</th>        <th class=\"col_heading level0 col2\" >passngrs</th>        <th class=\"col_heading level0 col3\" >Length</th>        <th class=\"col_heading level0 col4\" >Cabins</th>        <th class=\"col_heading level0 col5\" >Crew</th>        <th class=\"col_heading level0 col6\" >PassSpcR</th>        <th class=\"col_heading level0 col7\" >outcab</th>    </tr></thead><tbody>\n",
       "                <tr>\n",
       "                        <th id=\"T_c0cfd_level0_row0\" class=\"row_heading level0 row0\" >YearBlt</th>\n",
       "                        <td id=\"T_c0cfd_row0_col0\" class=\"data row0 col0\" >1.0</td>\n",
       "                        <td id=\"T_c0cfd_row0_col1\" class=\"data row0 col1\" >0.61</td>\n",
       "                        <td id=\"T_c0cfd_row0_col2\" class=\"data row0 col2\" >0.52</td>\n",
       "                        <td id=\"T_c0cfd_row0_col3\" class=\"data row0 col3\" >0.53</td>\n",
       "                        <td id=\"T_c0cfd_row0_col4\" class=\"data row0 col4\" >0.51</td>\n",
       "                        <td id=\"T_c0cfd_row0_col5\" class=\"data row0 col5\" >0.53</td>\n",
       "                        <td id=\"T_c0cfd_row0_col6\" class=\"data row0 col6\" >0.28</td>\n",
       "                        <td id=\"T_c0cfd_row0_col7\" class=\"data row0 col7\" >0.55</td>\n",
       "            </tr>\n",
       "            <tr>\n",
       "                        <th id=\"T_c0cfd_level0_row1\" class=\"row_heading level0 row1\" >Tonnage</th>\n",
       "                        <td id=\"T_c0cfd_row1_col0\" class=\"data row1 col0\" >0.61</td>\n",
       "                        <td id=\"T_c0cfd_row1_col1\" class=\"data row1 col1\" >1.0</td>\n",
       "                        <td id=\"T_c0cfd_row1_col2\" class=\"data row1 col2\" >0.95</td>\n",
       "                        <td id=\"T_c0cfd_row1_col3\" class=\"data row1 col3\" >0.92</td>\n",
       "                        <td id=\"T_c0cfd_row1_col4\" class=\"data row1 col4\" >0.95</td>\n",
       "                        <td id=\"T_c0cfd_row1_col5\" class=\"data row1 col5\" >0.93</td>\n",
       "                        <td id=\"T_c0cfd_row1_col6\" class=\"data row1 col6\" >-0.041</td>\n",
       "                        <td id=\"T_c0cfd_row1_col7\" class=\"data row1 col7\" >0.92</td>\n",
       "            </tr>\n",
       "            <tr>\n",
       "                        <th id=\"T_c0cfd_level0_row2\" class=\"row_heading level0 row2\" >passngrs</th>\n",
       "                        <td id=\"T_c0cfd_row2_col0\" class=\"data row2 col0\" >0.52</td>\n",
       "                        <td id=\"T_c0cfd_row2_col1\" class=\"data row2 col1\" >0.95</td>\n",
       "                        <td id=\"T_c0cfd_row2_col2\" class=\"data row2 col2\" >1.0</td>\n",
       "                        <td id=\"T_c0cfd_row2_col3\" class=\"data row2 col3\" >0.88</td>\n",
       "                        <td id=\"T_c0cfd_row2_col4\" class=\"data row2 col4\" >0.98</td>\n",
       "                        <td id=\"T_c0cfd_row2_col5\" class=\"data row2 col5\" >0.92</td>\n",
       "                        <td id=\"T_c0cfd_row2_col6\" class=\"data row2 col6\" >-0.29</td>\n",
       "                        <td id=\"T_c0cfd_row2_col7\" class=\"data row2 col7\" >0.91</td>\n",
       "            </tr>\n",
       "            <tr>\n",
       "                        <th id=\"T_c0cfd_level0_row3\" class=\"row_heading level0 row3\" >Length</th>\n",
       "                        <td id=\"T_c0cfd_row3_col0\" class=\"data row3 col0\" >0.53</td>\n",
       "                        <td id=\"T_c0cfd_row3_col1\" class=\"data row3 col1\" >0.92</td>\n",
       "                        <td id=\"T_c0cfd_row3_col2\" class=\"data row3 col2\" >0.88</td>\n",
       "                        <td id=\"T_c0cfd_row3_col3\" class=\"data row3 col3\" >1.0</td>\n",
       "                        <td id=\"T_c0cfd_row3_col4\" class=\"data row3 col4\" >0.89</td>\n",
       "                        <td id=\"T_c0cfd_row3_col5\" class=\"data row3 col5\" >0.9</td>\n",
       "                        <td id=\"T_c0cfd_row3_col6\" class=\"data row3 col6\" >-0.09</td>\n",
       "                        <td id=\"T_c0cfd_row3_col7\" class=\"data row3 col7\" >0.9</td>\n",
       "            </tr>\n",
       "            <tr>\n",
       "                        <th id=\"T_c0cfd_level0_row4\" class=\"row_heading level0 row4\" >Cabins</th>\n",
       "                        <td id=\"T_c0cfd_row4_col0\" class=\"data row4 col0\" >0.51</td>\n",
       "                        <td id=\"T_c0cfd_row4_col1\" class=\"data row4 col1\" >0.95</td>\n",
       "                        <td id=\"T_c0cfd_row4_col2\" class=\"data row4 col2\" >0.98</td>\n",
       "                        <td id=\"T_c0cfd_row4_col3\" class=\"data row4 col3\" >0.89</td>\n",
       "                        <td id=\"T_c0cfd_row4_col4\" class=\"data row4 col4\" >1.0</td>\n",
       "                        <td id=\"T_c0cfd_row4_col5\" class=\"data row4 col5\" >0.95</td>\n",
       "                        <td id=\"T_c0cfd_row4_col6\" class=\"data row4 col6\" >-0.25</td>\n",
       "                        <td id=\"T_c0cfd_row4_col7\" class=\"data row4 col7\" >0.93</td>\n",
       "            </tr>\n",
       "            <tr>\n",
       "                        <th id=\"T_c0cfd_level0_row5\" class=\"row_heading level0 row5\" >Crew</th>\n",
       "                        <td id=\"T_c0cfd_row5_col0\" class=\"data row5 col0\" >0.53</td>\n",
       "                        <td id=\"T_c0cfd_row5_col1\" class=\"data row5 col1\" >0.93</td>\n",
       "                        <td id=\"T_c0cfd_row5_col2\" class=\"data row5 col2\" >0.92</td>\n",
       "                        <td id=\"T_c0cfd_row5_col3\" class=\"data row5 col3\" >0.9</td>\n",
       "                        <td id=\"T_c0cfd_row5_col4\" class=\"data row5 col4\" >0.95</td>\n",
       "                        <td id=\"T_c0cfd_row5_col5\" class=\"data row5 col5\" >1.0</td>\n",
       "                        <td id=\"T_c0cfd_row5_col6\" class=\"data row5 col6\" >-0.16</td>\n",
       "                        <td id=\"T_c0cfd_row5_col7\" class=\"data row5 col7\" >0.9</td>\n",
       "            </tr>\n",
       "            <tr>\n",
       "                        <th id=\"T_c0cfd_level0_row6\" class=\"row_heading level0 row6\" >PassSpcR</th>\n",
       "                        <td id=\"T_c0cfd_row6_col0\" class=\"data row6 col0\" >0.28</td>\n",
       "                        <td id=\"T_c0cfd_row6_col1\" class=\"data row6 col1\" >-0.041</td>\n",
       "                        <td id=\"T_c0cfd_row6_col2\" class=\"data row6 col2\" >-0.29</td>\n",
       "                        <td id=\"T_c0cfd_row6_col3\" class=\"data row6 col3\" >-0.09</td>\n",
       "                        <td id=\"T_c0cfd_row6_col4\" class=\"data row6 col4\" >-0.25</td>\n",
       "                        <td id=\"T_c0cfd_row6_col5\" class=\"data row6 col5\" >-0.16</td>\n",
       "                        <td id=\"T_c0cfd_row6_col6\" class=\"data row6 col6\" >1.0</td>\n",
       "                        <td id=\"T_c0cfd_row6_col7\" class=\"data row6 col7\" >-0.15</td>\n",
       "            </tr>\n",
       "            <tr>\n",
       "                        <th id=\"T_c0cfd_level0_row7\" class=\"row_heading level0 row7\" >outcab</th>\n",
       "                        <td id=\"T_c0cfd_row7_col0\" class=\"data row7 col0\" >0.55</td>\n",
       "                        <td id=\"T_c0cfd_row7_col1\" class=\"data row7 col1\" >0.92</td>\n",
       "                        <td id=\"T_c0cfd_row7_col2\" class=\"data row7 col2\" >0.91</td>\n",
       "                        <td id=\"T_c0cfd_row7_col3\" class=\"data row7 col3\" >0.9</td>\n",
       "                        <td id=\"T_c0cfd_row7_col4\" class=\"data row7 col4\" >0.93</td>\n",
       "                        <td id=\"T_c0cfd_row7_col5\" class=\"data row7 col5\" >0.9</td>\n",
       "                        <td id=\"T_c0cfd_row7_col6\" class=\"data row7 col6\" >-0.15</td>\n",
       "                        <td id=\"T_c0cfd_row7_col7\" class=\"data row7 col7\" >1.0</td>\n",
       "            </tr>\n",
       "    </tbody></table>"
      ],
      "text/plain": [
       "<pandas.io.formats.style.Styler at 0x1e926682a90>"
      ]
     },
     "execution_count": 16,
     "metadata": {},
     "output_type": "execute_result"
    }
   ],
   "source": [
    "cruise_ship1.corr(method='pearson').style.format(\"{:.2}\").background_gradient(cmap=plt.get_cmap('magma'), axis=1)"
   ]
  },
  {
   "cell_type": "code",
   "execution_count": 17,
   "id": "c73c3878-aa90-4bca-95fb-df3803dd2313",
   "metadata": {},
   "outputs": [
    {
     "data": {
      "text/html": [
       "<style  type=\"text/css\" >\n",
       "#T_e70f3_row0_col0,#T_e70f3_row1_col1,#T_e70f3_row2_col2,#T_e70f3_row3_col3,#T_e70f3_row4_col4,#T_e70f3_row5_col5,#T_e70f3_row6_col6,#T_e70f3_row7_col7{\n",
       "            background-color:  #fcffa4;\n",
       "            color:  #000000;\n",
       "        }#T_e70f3_row0_col1{\n",
       "            background-color:  #a92e5e;\n",
       "            color:  #f1f1f1;\n",
       "        }#T_e70f3_row0_col2{\n",
       "            background-color:  #771c6d;\n",
       "            color:  #f1f1f1;\n",
       "        }#T_e70f3_row0_col3,#T_e70f3_row0_col5{\n",
       "            background-color:  #7f1e6c;\n",
       "            color:  #f1f1f1;\n",
       "        }#T_e70f3_row0_col4{\n",
       "            background-color:  #741a6e;\n",
       "            color:  #f1f1f1;\n",
       "        }#T_e70f3_row0_col6,#T_e70f3_row1_col6,#T_e70f3_row2_col6,#T_e70f3_row3_col6,#T_e70f3_row4_col6,#T_e70f3_row5_col6,#T_e70f3_row6_col2,#T_e70f3_row7_col6{\n",
       "            background-color:  #000004;\n",
       "            color:  #f1f1f1;\n",
       "        }#T_e70f3_row0_col7{\n",
       "            background-color:  #88226a;\n",
       "            color:  #f1f1f1;\n",
       "        }#T_e70f3_row1_col0{\n",
       "            background-color:  #e35933;\n",
       "            color:  #000000;\n",
       "        }#T_e70f3_row1_col2,#T_e70f3_row4_col7{\n",
       "            background-color:  #f1ed71;\n",
       "            color:  #000000;\n",
       "        }#T_e70f3_row1_col3,#T_e70f3_row1_col7,#T_e70f3_row7_col2{\n",
       "            background-color:  #f3e35a;\n",
       "            color:  #000000;\n",
       "        }#T_e70f3_row1_col4{\n",
       "            background-color:  #f1ef75;\n",
       "            color:  #000000;\n",
       "        }#T_e70f3_row1_col5,#T_e70f3_row7_col1{\n",
       "            background-color:  #f2e661;\n",
       "            color:  #000000;\n",
       "        }#T_e70f3_row2_col0{\n",
       "            background-color:  #e45a31;\n",
       "            color:  #000000;\n",
       "        }#T_e70f3_row2_col1,#T_e70f3_row4_col1,#T_e70f3_row4_col5,#T_e70f3_row5_col4{\n",
       "            background-color:  #f2f27d;\n",
       "            color:  #000000;\n",
       "        }#T_e70f3_row2_col3,#T_e70f3_row3_col7,#T_e70f3_row5_col3{\n",
       "            background-color:  #f5db4c;\n",
       "            color:  #000000;\n",
       "        }#T_e70f3_row2_col4,#T_e70f3_row4_col2{\n",
       "            background-color:  #f6fa96;\n",
       "            color:  #000000;\n",
       "        }#T_e70f3_row2_col5,#T_e70f3_row2_col7,#T_e70f3_row5_col1{\n",
       "            background-color:  #f2e865;\n",
       "            color:  #000000;\n",
       "        }#T_e70f3_row3_col0{\n",
       "            background-color:  #d44842;\n",
       "            color:  #f1f1f1;\n",
       "        }#T_e70f3_row3_col1,#T_e70f3_row5_col2{\n",
       "            background-color:  #f3e55d;\n",
       "            color:  #000000;\n",
       "        }#T_e70f3_row3_col2{\n",
       "            background-color:  #f7d340;\n",
       "            color:  #000000;\n",
       "        }#T_e70f3_row3_col4{\n",
       "            background-color:  #f6d746;\n",
       "            color:  #000000;\n",
       "        }#T_e70f3_row3_col5{\n",
       "            background-color:  #f5d949;\n",
       "            color:  #000000;\n",
       "        }#T_e70f3_row4_col0{\n",
       "            background-color:  #df5337;\n",
       "            color:  #000000;\n",
       "        }#T_e70f3_row4_col3,#T_e70f3_row5_col7,#T_e70f3_row7_col3,#T_e70f3_row7_col5{\n",
       "            background-color:  #f4dd4f;\n",
       "            color:  #000000;\n",
       "        }#T_e70f3_row5_col0{\n",
       "            background-color:  #db503b;\n",
       "            color:  #000000;\n",
       "        }#T_e70f3_row6_col0{\n",
       "            background-color:  #a52c60;\n",
       "            color:  #f1f1f1;\n",
       "        }#T_e70f3_row6_col1{\n",
       "            background-color:  #400a67;\n",
       "            color:  #f1f1f1;\n",
       "        }#T_e70f3_row6_col3{\n",
       "            background-color:  #2f0a5b;\n",
       "            color:  #f1f1f1;\n",
       "        }#T_e70f3_row6_col4{\n",
       "            background-color:  #040312;\n",
       "            color:  #f1f1f1;\n",
       "        }#T_e70f3_row6_col5{\n",
       "            background-color:  #190c3e;\n",
       "            color:  #f1f1f1;\n",
       "        }#T_e70f3_row6_col7{\n",
       "            background-color:  #1c0c43;\n",
       "            color:  #f1f1f1;\n",
       "        }#T_e70f3_row7_col0{\n",
       "            background-color:  #de5238;\n",
       "            color:  #000000;\n",
       "        }#T_e70f3_row7_col4{\n",
       "            background-color:  #f1ec6d;\n",
       "            color:  #000000;\n",
       "        }</style><table id=\"T_e70f3_\" ><thead>    <tr>        <th class=\"blank level0\" ></th>        <th class=\"col_heading level0 col0\" >YearBlt</th>        <th class=\"col_heading level0 col1\" >Tonnage</th>        <th class=\"col_heading level0 col2\" >passngrs</th>        <th class=\"col_heading level0 col3\" >Length</th>        <th class=\"col_heading level0 col4\" >Cabins</th>        <th class=\"col_heading level0 col5\" >Crew</th>        <th class=\"col_heading level0 col6\" >PassSpcR</th>        <th class=\"col_heading level0 col7\" >outcab</th>    </tr></thead><tbody>\n",
       "                <tr>\n",
       "                        <th id=\"T_e70f3_level0_row0\" class=\"row_heading level0 row0\" >YearBlt</th>\n",
       "                        <td id=\"T_e70f3_row0_col0\" class=\"data row0 col0\" >1.0</td>\n",
       "                        <td id=\"T_e70f3_row0_col1\" class=\"data row0 col1\" >0.61</td>\n",
       "                        <td id=\"T_e70f3_row0_col2\" class=\"data row0 col2\" >0.52</td>\n",
       "                        <td id=\"T_e70f3_row0_col3\" class=\"data row0 col3\" >0.53</td>\n",
       "                        <td id=\"T_e70f3_row0_col4\" class=\"data row0 col4\" >0.51</td>\n",
       "                        <td id=\"T_e70f3_row0_col5\" class=\"data row0 col5\" >0.53</td>\n",
       "                        <td id=\"T_e70f3_row0_col6\" class=\"data row0 col6\" >0.28</td>\n",
       "                        <td id=\"T_e70f3_row0_col7\" class=\"data row0 col7\" >0.55</td>\n",
       "            </tr>\n",
       "            <tr>\n",
       "                        <th id=\"T_e70f3_level0_row1\" class=\"row_heading level0 row1\" >Tonnage</th>\n",
       "                        <td id=\"T_e70f3_row1_col0\" class=\"data row1 col0\" >0.61</td>\n",
       "                        <td id=\"T_e70f3_row1_col1\" class=\"data row1 col1\" >1.0</td>\n",
       "                        <td id=\"T_e70f3_row1_col2\" class=\"data row1 col2\" >0.95</td>\n",
       "                        <td id=\"T_e70f3_row1_col3\" class=\"data row1 col3\" >0.92</td>\n",
       "                        <td id=\"T_e70f3_row1_col4\" class=\"data row1 col4\" >0.95</td>\n",
       "                        <td id=\"T_e70f3_row1_col5\" class=\"data row1 col5\" >0.93</td>\n",
       "                        <td id=\"T_e70f3_row1_col6\" class=\"data row1 col6\" >-0.041</td>\n",
       "                        <td id=\"T_e70f3_row1_col7\" class=\"data row1 col7\" >0.92</td>\n",
       "            </tr>\n",
       "            <tr>\n",
       "                        <th id=\"T_e70f3_level0_row2\" class=\"row_heading level0 row2\" >passngrs</th>\n",
       "                        <td id=\"T_e70f3_row2_col0\" class=\"data row2 col0\" >0.52</td>\n",
       "                        <td id=\"T_e70f3_row2_col1\" class=\"data row2 col1\" >0.95</td>\n",
       "                        <td id=\"T_e70f3_row2_col2\" class=\"data row2 col2\" >1.0</td>\n",
       "                        <td id=\"T_e70f3_row2_col3\" class=\"data row2 col3\" >0.88</td>\n",
       "                        <td id=\"T_e70f3_row2_col4\" class=\"data row2 col4\" >0.98</td>\n",
       "                        <td id=\"T_e70f3_row2_col5\" class=\"data row2 col5\" >0.92</td>\n",
       "                        <td id=\"T_e70f3_row2_col6\" class=\"data row2 col6\" >-0.29</td>\n",
       "                        <td id=\"T_e70f3_row2_col7\" class=\"data row2 col7\" >0.91</td>\n",
       "            </tr>\n",
       "            <tr>\n",
       "                        <th id=\"T_e70f3_level0_row3\" class=\"row_heading level0 row3\" >Length</th>\n",
       "                        <td id=\"T_e70f3_row3_col0\" class=\"data row3 col0\" >0.53</td>\n",
       "                        <td id=\"T_e70f3_row3_col1\" class=\"data row3 col1\" >0.92</td>\n",
       "                        <td id=\"T_e70f3_row3_col2\" class=\"data row3 col2\" >0.88</td>\n",
       "                        <td id=\"T_e70f3_row3_col3\" class=\"data row3 col3\" >1.0</td>\n",
       "                        <td id=\"T_e70f3_row3_col4\" class=\"data row3 col4\" >0.89</td>\n",
       "                        <td id=\"T_e70f3_row3_col5\" class=\"data row3 col5\" >0.9</td>\n",
       "                        <td id=\"T_e70f3_row3_col6\" class=\"data row3 col6\" >-0.09</td>\n",
       "                        <td id=\"T_e70f3_row3_col7\" class=\"data row3 col7\" >0.9</td>\n",
       "            </tr>\n",
       "            <tr>\n",
       "                        <th id=\"T_e70f3_level0_row4\" class=\"row_heading level0 row4\" >Cabins</th>\n",
       "                        <td id=\"T_e70f3_row4_col0\" class=\"data row4 col0\" >0.51</td>\n",
       "                        <td id=\"T_e70f3_row4_col1\" class=\"data row4 col1\" >0.95</td>\n",
       "                        <td id=\"T_e70f3_row4_col2\" class=\"data row4 col2\" >0.98</td>\n",
       "                        <td id=\"T_e70f3_row4_col3\" class=\"data row4 col3\" >0.89</td>\n",
       "                        <td id=\"T_e70f3_row4_col4\" class=\"data row4 col4\" >1.0</td>\n",
       "                        <td id=\"T_e70f3_row4_col5\" class=\"data row4 col5\" >0.95</td>\n",
       "                        <td id=\"T_e70f3_row4_col6\" class=\"data row4 col6\" >-0.25</td>\n",
       "                        <td id=\"T_e70f3_row4_col7\" class=\"data row4 col7\" >0.93</td>\n",
       "            </tr>\n",
       "            <tr>\n",
       "                        <th id=\"T_e70f3_level0_row5\" class=\"row_heading level0 row5\" >Crew</th>\n",
       "                        <td id=\"T_e70f3_row5_col0\" class=\"data row5 col0\" >0.53</td>\n",
       "                        <td id=\"T_e70f3_row5_col1\" class=\"data row5 col1\" >0.93</td>\n",
       "                        <td id=\"T_e70f3_row5_col2\" class=\"data row5 col2\" >0.92</td>\n",
       "                        <td id=\"T_e70f3_row5_col3\" class=\"data row5 col3\" >0.9</td>\n",
       "                        <td id=\"T_e70f3_row5_col4\" class=\"data row5 col4\" >0.95</td>\n",
       "                        <td id=\"T_e70f3_row5_col5\" class=\"data row5 col5\" >1.0</td>\n",
       "                        <td id=\"T_e70f3_row5_col6\" class=\"data row5 col6\" >-0.16</td>\n",
       "                        <td id=\"T_e70f3_row5_col7\" class=\"data row5 col7\" >0.9</td>\n",
       "            </tr>\n",
       "            <tr>\n",
       "                        <th id=\"T_e70f3_level0_row6\" class=\"row_heading level0 row6\" >PassSpcR</th>\n",
       "                        <td id=\"T_e70f3_row6_col0\" class=\"data row6 col0\" >0.28</td>\n",
       "                        <td id=\"T_e70f3_row6_col1\" class=\"data row6 col1\" >-0.041</td>\n",
       "                        <td id=\"T_e70f3_row6_col2\" class=\"data row6 col2\" >-0.29</td>\n",
       "                        <td id=\"T_e70f3_row6_col3\" class=\"data row6 col3\" >-0.09</td>\n",
       "                        <td id=\"T_e70f3_row6_col4\" class=\"data row6 col4\" >-0.25</td>\n",
       "                        <td id=\"T_e70f3_row6_col5\" class=\"data row6 col5\" >-0.16</td>\n",
       "                        <td id=\"T_e70f3_row6_col6\" class=\"data row6 col6\" >1.0</td>\n",
       "                        <td id=\"T_e70f3_row6_col7\" class=\"data row6 col7\" >-0.15</td>\n",
       "            </tr>\n",
       "            <tr>\n",
       "                        <th id=\"T_e70f3_level0_row7\" class=\"row_heading level0 row7\" >outcab</th>\n",
       "                        <td id=\"T_e70f3_row7_col0\" class=\"data row7 col0\" >0.55</td>\n",
       "                        <td id=\"T_e70f3_row7_col1\" class=\"data row7 col1\" >0.92</td>\n",
       "                        <td id=\"T_e70f3_row7_col2\" class=\"data row7 col2\" >0.91</td>\n",
       "                        <td id=\"T_e70f3_row7_col3\" class=\"data row7 col3\" >0.9</td>\n",
       "                        <td id=\"T_e70f3_row7_col4\" class=\"data row7 col4\" >0.93</td>\n",
       "                        <td id=\"T_e70f3_row7_col5\" class=\"data row7 col5\" >0.9</td>\n",
       "                        <td id=\"T_e70f3_row7_col6\" class=\"data row7 col6\" >-0.15</td>\n",
       "                        <td id=\"T_e70f3_row7_col7\" class=\"data row7 col7\" >1.0</td>\n",
       "            </tr>\n",
       "    </tbody></table>"
      ],
      "text/plain": [
       "<pandas.io.formats.style.Styler at 0x1e926682d30>"
      ]
     },
     "execution_count": 17,
     "metadata": {},
     "output_type": "execute_result"
    }
   ],
   "source": [
    "cruise_ship1.corr(method='pearson').style.format(\"{:.2}\").background_gradient(cmap=plt.get_cmap('inferno'), axis=1)"
   ]
  },
  {
   "cell_type": "code",
   "execution_count": 18,
   "id": "9b3a3ffc-c442-4145-a1dd-5112768d4a34",
   "metadata": {},
   "outputs": [
    {
     "data": {
      "text/html": [
       "<style  type=\"text/css\" >\n",
       "#T_2bcb3_row0_col0,#T_2bcb3_row1_col1,#T_2bcb3_row2_col2,#T_2bcb3_row3_col3,#T_2bcb3_row4_col4,#T_2bcb3_row5_col5,#T_2bcb3_row6_col6,#T_2bcb3_row7_col7{\n",
       "            background-color:  #fee838;\n",
       "            color:  #000000;\n",
       "        }#T_2bcb3_row0_col1{\n",
       "            background-color:  #727374;\n",
       "            color:  #000000;\n",
       "        }#T_2bcb3_row0_col2{\n",
       "            background-color:  #565c6d;\n",
       "            color:  #f1f1f1;\n",
       "        }#T_2bcb3_row0_col3,#T_2bcb3_row0_col5{\n",
       "            background-color:  #5b606e;\n",
       "            color:  #f1f1f1;\n",
       "        }#T_2bcb3_row0_col4{\n",
       "            background-color:  #555b6d;\n",
       "            color:  #f1f1f1;\n",
       "        }#T_2bcb3_row0_col6,#T_2bcb3_row1_col6,#T_2bcb3_row2_col6,#T_2bcb3_row3_col6,#T_2bcb3_row4_col6,#T_2bcb3_row5_col6,#T_2bcb3_row6_col2,#T_2bcb3_row7_col6{\n",
       "            background-color:  #00224e;\n",
       "            color:  #f1f1f1;\n",
       "        }#T_2bcb3_row0_col7{\n",
       "            background-color:  #60646f;\n",
       "            color:  #f1f1f1;\n",
       "        }#T_2bcb3_row1_col0{\n",
       "            background-color:  #9a9376;\n",
       "            color:  #000000;\n",
       "        }#T_2bcb3_row1_col2,#T_2bcb3_row4_col7{\n",
       "            background-color:  #f2da44;\n",
       "            color:  #000000;\n",
       "        }#T_2bcb3_row1_col3,#T_2bcb3_row1_col7,#T_2bcb3_row7_col2{\n",
       "            background-color:  #ebd44b;\n",
       "            color:  #000000;\n",
       "        }#T_2bcb3_row1_col4{\n",
       "            background-color:  #f3db42;\n",
       "            color:  #000000;\n",
       "        }#T_2bcb3_row1_col5,#T_2bcb3_row7_col1{\n",
       "            background-color:  #eed649;\n",
       "            color:  #000000;\n",
       "        }#T_2bcb3_row2_col0{\n",
       "            background-color:  #9b9476;\n",
       "            color:  #000000;\n",
       "        }#T_2bcb3_row2_col1,#T_2bcb3_row4_col1,#T_2bcb3_row4_col5,#T_2bcb3_row5_col4{\n",
       "            background-color:  #f6dd3f;\n",
       "            color:  #000000;\n",
       "        }#T_2bcb3_row2_col3,#T_2bcb3_row3_col7,#T_2bcb3_row5_col3{\n",
       "            background-color:  #e7d150;\n",
       "            color:  #000000;\n",
       "        }#T_2bcb3_row2_col4,#T_2bcb3_row4_col2{\n",
       "            background-color:  #fde334;\n",
       "            color:  #000000;\n",
       "        }#T_2bcb3_row2_col5,#T_2bcb3_row2_col7,#T_2bcb3_row5_col1{\n",
       "            background-color:  #efd748;\n",
       "            color:  #000000;\n",
       "        }#T_2bcb3_row3_col0{\n",
       "            background-color:  #8e8978;\n",
       "            color:  #000000;\n",
       "        }#T_2bcb3_row3_col1,#T_2bcb3_row5_col2{\n",
       "            background-color:  #edd54a;\n",
       "            color:  #000000;\n",
       "        }#T_2bcb3_row3_col2{\n",
       "            background-color:  #e2cd54;\n",
       "            color:  #000000;\n",
       "        }#T_2bcb3_row3_col4{\n",
       "            background-color:  #e5cf52;\n",
       "            color:  #000000;\n",
       "        }#T_2bcb3_row3_col5{\n",
       "            background-color:  #e6d051;\n",
       "            color:  #000000;\n",
       "        }#T_2bcb3_row4_col0{\n",
       "            background-color:  #969077;\n",
       "            color:  #000000;\n",
       "        }#T_2bcb3_row4_col3,#T_2bcb3_row5_col7,#T_2bcb3_row7_col3,#T_2bcb3_row7_col5{\n",
       "            background-color:  #e8d24f;\n",
       "            color:  #000000;\n",
       "        }#T_2bcb3_row5_col0{\n",
       "            background-color:  #938e78;\n",
       "            color:  #000000;\n",
       "        }#T_2bcb3_row6_col0{\n",
       "            background-color:  #707173;\n",
       "            color:  #000000;\n",
       "        }#T_2bcb3_row6_col1{\n",
       "            background-color:  #34456c;\n",
       "            color:  #f1f1f1;\n",
       "        }#T_2bcb3_row6_col3{\n",
       "            background-color:  #273e6e;\n",
       "            color:  #f1f1f1;\n",
       "        }#T_2bcb3_row6_col4{\n",
       "            background-color:  #00285b;\n",
       "            color:  #f1f1f1;\n",
       "        }#T_2bcb3_row6_col5{\n",
       "            background-color:  #0f3570;\n",
       "            color:  #f1f1f1;\n",
       "        }#T_2bcb3_row6_col7{\n",
       "            background-color:  #143670;\n",
       "            color:  #f1f1f1;\n",
       "        }#T_2bcb3_row7_col0{\n",
       "            background-color:  #958f77;\n",
       "            color:  #000000;\n",
       "        }#T_2bcb3_row7_col4{\n",
       "            background-color:  #f1d945;\n",
       "            color:  #000000;\n",
       "        }</style><table id=\"T_2bcb3_\" ><thead>    <tr>        <th class=\"blank level0\" ></th>        <th class=\"col_heading level0 col0\" >YearBlt</th>        <th class=\"col_heading level0 col1\" >Tonnage</th>        <th class=\"col_heading level0 col2\" >passngrs</th>        <th class=\"col_heading level0 col3\" >Length</th>        <th class=\"col_heading level0 col4\" >Cabins</th>        <th class=\"col_heading level0 col5\" >Crew</th>        <th class=\"col_heading level0 col6\" >PassSpcR</th>        <th class=\"col_heading level0 col7\" >outcab</th>    </tr></thead><tbody>\n",
       "                <tr>\n",
       "                        <th id=\"T_2bcb3_level0_row0\" class=\"row_heading level0 row0\" >YearBlt</th>\n",
       "                        <td id=\"T_2bcb3_row0_col0\" class=\"data row0 col0\" >1.0</td>\n",
       "                        <td id=\"T_2bcb3_row0_col1\" class=\"data row0 col1\" >0.61</td>\n",
       "                        <td id=\"T_2bcb3_row0_col2\" class=\"data row0 col2\" >0.52</td>\n",
       "                        <td id=\"T_2bcb3_row0_col3\" class=\"data row0 col3\" >0.53</td>\n",
       "                        <td id=\"T_2bcb3_row0_col4\" class=\"data row0 col4\" >0.51</td>\n",
       "                        <td id=\"T_2bcb3_row0_col5\" class=\"data row0 col5\" >0.53</td>\n",
       "                        <td id=\"T_2bcb3_row0_col6\" class=\"data row0 col6\" >0.28</td>\n",
       "                        <td id=\"T_2bcb3_row0_col7\" class=\"data row0 col7\" >0.55</td>\n",
       "            </tr>\n",
       "            <tr>\n",
       "                        <th id=\"T_2bcb3_level0_row1\" class=\"row_heading level0 row1\" >Tonnage</th>\n",
       "                        <td id=\"T_2bcb3_row1_col0\" class=\"data row1 col0\" >0.61</td>\n",
       "                        <td id=\"T_2bcb3_row1_col1\" class=\"data row1 col1\" >1.0</td>\n",
       "                        <td id=\"T_2bcb3_row1_col2\" class=\"data row1 col2\" >0.95</td>\n",
       "                        <td id=\"T_2bcb3_row1_col3\" class=\"data row1 col3\" >0.92</td>\n",
       "                        <td id=\"T_2bcb3_row1_col4\" class=\"data row1 col4\" >0.95</td>\n",
       "                        <td id=\"T_2bcb3_row1_col5\" class=\"data row1 col5\" >0.93</td>\n",
       "                        <td id=\"T_2bcb3_row1_col6\" class=\"data row1 col6\" >-0.041</td>\n",
       "                        <td id=\"T_2bcb3_row1_col7\" class=\"data row1 col7\" >0.92</td>\n",
       "            </tr>\n",
       "            <tr>\n",
       "                        <th id=\"T_2bcb3_level0_row2\" class=\"row_heading level0 row2\" >passngrs</th>\n",
       "                        <td id=\"T_2bcb3_row2_col0\" class=\"data row2 col0\" >0.52</td>\n",
       "                        <td id=\"T_2bcb3_row2_col1\" class=\"data row2 col1\" >0.95</td>\n",
       "                        <td id=\"T_2bcb3_row2_col2\" class=\"data row2 col2\" >1.0</td>\n",
       "                        <td id=\"T_2bcb3_row2_col3\" class=\"data row2 col3\" >0.88</td>\n",
       "                        <td id=\"T_2bcb3_row2_col4\" class=\"data row2 col4\" >0.98</td>\n",
       "                        <td id=\"T_2bcb3_row2_col5\" class=\"data row2 col5\" >0.92</td>\n",
       "                        <td id=\"T_2bcb3_row2_col6\" class=\"data row2 col6\" >-0.29</td>\n",
       "                        <td id=\"T_2bcb3_row2_col7\" class=\"data row2 col7\" >0.91</td>\n",
       "            </tr>\n",
       "            <tr>\n",
       "                        <th id=\"T_2bcb3_level0_row3\" class=\"row_heading level0 row3\" >Length</th>\n",
       "                        <td id=\"T_2bcb3_row3_col0\" class=\"data row3 col0\" >0.53</td>\n",
       "                        <td id=\"T_2bcb3_row3_col1\" class=\"data row3 col1\" >0.92</td>\n",
       "                        <td id=\"T_2bcb3_row3_col2\" class=\"data row3 col2\" >0.88</td>\n",
       "                        <td id=\"T_2bcb3_row3_col3\" class=\"data row3 col3\" >1.0</td>\n",
       "                        <td id=\"T_2bcb3_row3_col4\" class=\"data row3 col4\" >0.89</td>\n",
       "                        <td id=\"T_2bcb3_row3_col5\" class=\"data row3 col5\" >0.9</td>\n",
       "                        <td id=\"T_2bcb3_row3_col6\" class=\"data row3 col6\" >-0.09</td>\n",
       "                        <td id=\"T_2bcb3_row3_col7\" class=\"data row3 col7\" >0.9</td>\n",
       "            </tr>\n",
       "            <tr>\n",
       "                        <th id=\"T_2bcb3_level0_row4\" class=\"row_heading level0 row4\" >Cabins</th>\n",
       "                        <td id=\"T_2bcb3_row4_col0\" class=\"data row4 col0\" >0.51</td>\n",
       "                        <td id=\"T_2bcb3_row4_col1\" class=\"data row4 col1\" >0.95</td>\n",
       "                        <td id=\"T_2bcb3_row4_col2\" class=\"data row4 col2\" >0.98</td>\n",
       "                        <td id=\"T_2bcb3_row4_col3\" class=\"data row4 col3\" >0.89</td>\n",
       "                        <td id=\"T_2bcb3_row4_col4\" class=\"data row4 col4\" >1.0</td>\n",
       "                        <td id=\"T_2bcb3_row4_col5\" class=\"data row4 col5\" >0.95</td>\n",
       "                        <td id=\"T_2bcb3_row4_col6\" class=\"data row4 col6\" >-0.25</td>\n",
       "                        <td id=\"T_2bcb3_row4_col7\" class=\"data row4 col7\" >0.93</td>\n",
       "            </tr>\n",
       "            <tr>\n",
       "                        <th id=\"T_2bcb3_level0_row5\" class=\"row_heading level0 row5\" >Crew</th>\n",
       "                        <td id=\"T_2bcb3_row5_col0\" class=\"data row5 col0\" >0.53</td>\n",
       "                        <td id=\"T_2bcb3_row5_col1\" class=\"data row5 col1\" >0.93</td>\n",
       "                        <td id=\"T_2bcb3_row5_col2\" class=\"data row5 col2\" >0.92</td>\n",
       "                        <td id=\"T_2bcb3_row5_col3\" class=\"data row5 col3\" >0.9</td>\n",
       "                        <td id=\"T_2bcb3_row5_col4\" class=\"data row5 col4\" >0.95</td>\n",
       "                        <td id=\"T_2bcb3_row5_col5\" class=\"data row5 col5\" >1.0</td>\n",
       "                        <td id=\"T_2bcb3_row5_col6\" class=\"data row5 col6\" >-0.16</td>\n",
       "                        <td id=\"T_2bcb3_row5_col7\" class=\"data row5 col7\" >0.9</td>\n",
       "            </tr>\n",
       "            <tr>\n",
       "                        <th id=\"T_2bcb3_level0_row6\" class=\"row_heading level0 row6\" >PassSpcR</th>\n",
       "                        <td id=\"T_2bcb3_row6_col0\" class=\"data row6 col0\" >0.28</td>\n",
       "                        <td id=\"T_2bcb3_row6_col1\" class=\"data row6 col1\" >-0.041</td>\n",
       "                        <td id=\"T_2bcb3_row6_col2\" class=\"data row6 col2\" >-0.29</td>\n",
       "                        <td id=\"T_2bcb3_row6_col3\" class=\"data row6 col3\" >-0.09</td>\n",
       "                        <td id=\"T_2bcb3_row6_col4\" class=\"data row6 col4\" >-0.25</td>\n",
       "                        <td id=\"T_2bcb3_row6_col5\" class=\"data row6 col5\" >-0.16</td>\n",
       "                        <td id=\"T_2bcb3_row6_col6\" class=\"data row6 col6\" >1.0</td>\n",
       "                        <td id=\"T_2bcb3_row6_col7\" class=\"data row6 col7\" >-0.15</td>\n",
       "            </tr>\n",
       "            <tr>\n",
       "                        <th id=\"T_2bcb3_level0_row7\" class=\"row_heading level0 row7\" >outcab</th>\n",
       "                        <td id=\"T_2bcb3_row7_col0\" class=\"data row7 col0\" >0.55</td>\n",
       "                        <td id=\"T_2bcb3_row7_col1\" class=\"data row7 col1\" >0.92</td>\n",
       "                        <td id=\"T_2bcb3_row7_col2\" class=\"data row7 col2\" >0.91</td>\n",
       "                        <td id=\"T_2bcb3_row7_col3\" class=\"data row7 col3\" >0.9</td>\n",
       "                        <td id=\"T_2bcb3_row7_col4\" class=\"data row7 col4\" >0.93</td>\n",
       "                        <td id=\"T_2bcb3_row7_col5\" class=\"data row7 col5\" >0.9</td>\n",
       "                        <td id=\"T_2bcb3_row7_col6\" class=\"data row7 col6\" >-0.15</td>\n",
       "                        <td id=\"T_2bcb3_row7_col7\" class=\"data row7 col7\" >1.0</td>\n",
       "            </tr>\n",
       "    </tbody></table>"
      ],
      "text/plain": [
       "<pandas.io.formats.style.Styler at 0x1e9276a7eb0>"
      ]
     },
     "execution_count": 18,
     "metadata": {},
     "output_type": "execute_result"
    }
   ],
   "source": [
    "cruise_ship1.corr(method='pearson').style.format(\"{:.2}\").background_gradient(cmap=plt.get_cmap('cividis'), axis=1)"
   ]
  },
  {
   "cell_type": "markdown",
   "id": "6b37715e-1a62-4a4f-9187-2e4b9afeeb28",
   "metadata": {},
   "source": [
    "### Use sns.heatmap()\n",
    "\n",
    "You can also do a correlation matrix easily using the seaborn package:"
   ]
  },
  {
   "cell_type": "code",
   "execution_count": 19,
   "id": "292aa64e-f2a7-4320-bf57-c176d1c2d772",
   "metadata": {},
   "outputs": [
    {
     "data": {
      "text/plain": [
       "<AxesSubplot:>"
      ]
     },
     "execution_count": 19,
     "metadata": {},
     "output_type": "execute_result"
    },
    {
     "data": {
      "image/png": "[encoded data removed]",
      "text/plain": [
       "<Figure size 432x288 with 2 Axes>"
      ]
     },
     "metadata": {
      "needs_background": "light"
     },
     "output_type": "display_data"
    }
   ],
   "source": [
    "sns.heatmap(cruise_ship1.corr(), annot=True)\n",
    "# Just put in your dataset name as an argument, then call the .corr() function again, and use the argument annot=True to have the values printed on the plot. \n",
    "# There's a little less customization here, but it's also a little simpler, with fewer arguments."
   ]
  },
  {
   "cell_type": "markdown",
   "id": "985f939f-0216-498b-82f3-c27084054290",
   "metadata": {},
   "source": [
    "## Summary\n",
    "\n",
    "In this lesson, you learned how to perform all the basic statistics you have learned in MS Excel and R, including t-tests, Chi-Squares, and correlations. It is important that you become proficient with the basics in all three languages!\n",
    "\n"
   ]
  },
  {
   "cell_type": "code",
   "execution_count": 21,
   "id": "a32accab-e153-4a3f-94f4-5bd812e1962d",
   "metadata": {},
   "outputs": [],
   "source": [
    "#### Page 15 (activity)"
   ]
  },
  {
   "cell_type": "code",
   "execution_count": 10,
   "id": "9298807c-a3a2-41e9-b24c-03fe02222ad6",
   "metadata": {},
   "outputs": [],
   "source": [
    "power_lifting = pd.read_csv('../../datasets/power_lifting.csv')"
   ]
  },
  {
   "cell_type": "code",
   "execution_count": 11,
   "id": "56f14e86-dc15-4a64-a3e0-ebe27d21936d",
   "metadata": {},
   "outputs": [
    {
     "data": {
      "text/html": [
       "<div>\n",
       "<style scoped>\n",
       "    .dataframe tbody tr th:only-of-type {\n",
       "        vertical-align: middle;\n",
       "    }\n",
       "\n",
       "    .dataframe tbody tr th {\n",
       "        vertical-align: top;\n",
       "    }\n",
       "\n",
       "    .dataframe thead th {\n",
       "        text-align: right;\n",
       "    }\n",
       "</style>\n",
       "<table border=\"1\" class=\"dataframe\">\n",
       "  <thead>\n",
       "    <tr style=\"text-align: right;\">\n",
       "      <th></th>\n",
       "      <th>MeetID</th>\n",
       "      <th>Name</th>\n",
       "      <th>Sex</th>\n",
       "      <th>Equipment</th>\n",
       "      <th>Age</th>\n",
       "      <th>Division</th>\n",
       "      <th>BodyweightKg</th>\n",
       "      <th>WeightClassKg</th>\n",
       "      <th>Squat4Kg</th>\n",
       "      <th>BestSquatKg</th>\n",
       "      <th>Bench4Kg</th>\n",
       "      <th>BestBenchKg</th>\n",
       "      <th>Deadlift4Kg</th>\n",
       "      <th>BestDeadliftKg</th>\n",
       "      <th>TotalKg</th>\n",
       "      <th>Place</th>\n",
       "      <th>Wilks</th>\n",
       "    </tr>\n",
       "  </thead>\n",
       "  <tbody>\n",
       "    <tr>\n",
       "      <th>0</th>\n",
       "      <td>0</td>\n",
       "      <td>Angie Belk Terry</td>\n",
       "      <td>F</td>\n",
       "      <td>Wraps</td>\n",
       "      <td>47.0</td>\n",
       "      <td>Mst 45-49</td>\n",
       "      <td>59.60</td>\n",
       "      <td>60</td>\n",
       "      <td>NaN</td>\n",
       "      <td>47.63</td>\n",
       "      <td>NaN</td>\n",
       "      <td>20.41</td>\n",
       "      <td>NaN</td>\n",
       "      <td>70.31</td>\n",
       "      <td>138.35</td>\n",
       "      <td>1</td>\n",
       "      <td>155.05</td>\n",
       "    </tr>\n",
       "    <tr>\n",
       "      <th>1</th>\n",
       "      <td>0</td>\n",
       "      <td>Dawn Bogart</td>\n",
       "      <td>F</td>\n",
       "      <td>Single-ply</td>\n",
       "      <td>42.0</td>\n",
       "      <td>Mst 40-44</td>\n",
       "      <td>58.51</td>\n",
       "      <td>60</td>\n",
       "      <td>NaN</td>\n",
       "      <td>142.88</td>\n",
       "      <td>NaN</td>\n",
       "      <td>95.25</td>\n",
       "      <td>NaN</td>\n",
       "      <td>163.29</td>\n",
       "      <td>401.42</td>\n",
       "      <td>1</td>\n",
       "      <td>456.38</td>\n",
       "    </tr>\n",
       "    <tr>\n",
       "      <th>2</th>\n",
       "      <td>0</td>\n",
       "      <td>Dawn Bogart</td>\n",
       "      <td>F</td>\n",
       "      <td>Single-ply</td>\n",
       "      <td>42.0</td>\n",
       "      <td>Open Senior</td>\n",
       "      <td>58.51</td>\n",
       "      <td>60</td>\n",
       "      <td>NaN</td>\n",
       "      <td>142.88</td>\n",
       "      <td>NaN</td>\n",
       "      <td>95.25</td>\n",
       "      <td>NaN</td>\n",
       "      <td>163.29</td>\n",
       "      <td>401.42</td>\n",
       "      <td>1</td>\n",
       "      <td>456.38</td>\n",
       "    </tr>\n",
       "    <tr>\n",
       "      <th>3</th>\n",
       "      <td>0</td>\n",
       "      <td>Dawn Bogart</td>\n",
       "      <td>F</td>\n",
       "      <td>Raw</td>\n",
       "      <td>42.0</td>\n",
       "      <td>Open Senior</td>\n",
       "      <td>58.51</td>\n",
       "      <td>60</td>\n",
       "      <td>NaN</td>\n",
       "      <td>NaN</td>\n",
       "      <td>NaN</td>\n",
       "      <td>95.25</td>\n",
       "      <td>NaN</td>\n",
       "      <td>NaN</td>\n",
       "      <td>95.25</td>\n",
       "      <td>1</td>\n",
       "      <td>108.29</td>\n",
       "    </tr>\n",
       "    <tr>\n",
       "      <th>4</th>\n",
       "      <td>0</td>\n",
       "      <td>Destiny Dula</td>\n",
       "      <td>F</td>\n",
       "      <td>Raw</td>\n",
       "      <td>18.0</td>\n",
       "      <td>Teen 18-19</td>\n",
       "      <td>63.68</td>\n",
       "      <td>67.5</td>\n",
       "      <td>NaN</td>\n",
       "      <td>NaN</td>\n",
       "      <td>NaN</td>\n",
       "      <td>31.75</td>\n",
       "      <td>NaN</td>\n",
       "      <td>90.72</td>\n",
       "      <td>122.47</td>\n",
       "      <td>1</td>\n",
       "      <td>130.47</td>\n",
       "    </tr>\n",
       "  </tbody>\n",
       "</table>\n",
       "</div>"
      ],
      "text/plain": [
       "   MeetID              Name Sex   Equipment   Age     Division  BodyweightKg  \\\n",
       "0       0  Angie Belk Terry   F       Wraps  47.0    Mst 45-49         59.60   \n",
       "1       0       Dawn Bogart   F  Single-ply  42.0    Mst 40-44         58.51   \n",
       "2       0       Dawn Bogart   F  Single-ply  42.0  Open Senior         58.51   \n",
       "3       0       Dawn Bogart   F         Raw  42.0  Open Senior         58.51   \n",
       "4       0      Destiny Dula   F         Raw  18.0   Teen 18-19         63.68   \n",
       "\n",
       "  WeightClassKg  Squat4Kg  BestSquatKg  Bench4Kg  BestBenchKg  Deadlift4Kg  \\\n",
       "0            60       NaN        47.63       NaN        20.41          NaN   \n",
       "1            60       NaN       142.88       NaN        95.25          NaN   \n",
       "2            60       NaN       142.88       NaN        95.25          NaN   \n",
       "3            60       NaN          NaN       NaN        95.25          NaN   \n",
       "4          67.5       NaN          NaN       NaN        31.75          NaN   \n",
       "\n",
       "   BestDeadliftKg  TotalKg Place   Wilks  \n",
       "0           70.31   138.35     1  155.05  \n",
       "1          163.29   401.42     1  456.38  \n",
       "2          163.29   401.42     1  456.38  \n",
       "3             NaN    95.25     1  108.29  \n",
       "4           90.72   122.47     1  130.47  "
      ]
     },
     "execution_count": 11,
     "metadata": {},
     "output_type": "execute_result"
    }
   ],
   "source": [
    "power_lifting.head()"
   ]
  },
  {
   "cell_type": "code",
   "execution_count": 24,
   "id": "19a65bce-fe39-43f5-90e6-5e9310ee84c7",
   "metadata": {},
   "outputs": [],
   "source": [
    "### Run single correlations"
   ]
  },
  {
   "cell_type": "code",
   "execution_count": 28,
   "id": "41a484c6-4c29-4693-aa71-be25fda6d996",
   "metadata": {},
   "outputs": [
    {
     "data": {
      "text/plain": [
       "0.5844312818128141"
      ]
     },
     "execution_count": 28,
     "metadata": {},
     "output_type": "execute_result"
    }
   ],
   "source": [
    "power_lifting['BodyweightKg'].corr(power_lifting['BestBenchKg'])"
   ]
  },
  {
   "cell_type": "code",
   "execution_count": 29,
   "id": "3a694154-b65c-4219-a79a-72ba779ea29f",
   "metadata": {},
   "outputs": [],
   "source": [
    "## Body weight and a weight lifter's best bench are positively correlated"
   ]
  },
  {
   "cell_type": "markdown",
   "id": "c1c247a4-e202-473d-8c9f-4e0e12b8e659",
   "metadata": {},
   "source": [
    "#### Drop non-continuous variables"
   ]
  },
  {
   "cell_type": "code",
   "execution_count": 31,
   "id": "ef10761f-bec6-419e-a174-9e8af7f7e260",
   "metadata": {},
   "outputs": [],
   "source": [
    "power_lifting1 = power_lifting.drop(['Name', 'Equipment', 'Division', 'Sex'], axis = 1)"
   ]
  },
  {
   "cell_type": "code",
   "execution_count": 32,
   "id": "a20e8d19-1744-470f-9f25-5f0e01fb26b9",
   "metadata": {},
   "outputs": [
    {
     "data": {
      "text/html": [
       "<div>\n",
       "<style scoped>\n",
       "    .dataframe tbody tr th:only-of-type {\n",
       "        vertical-align: middle;\n",
       "    }\n",
       "\n",
       "    .dataframe tbody tr th {\n",
       "        vertical-align: top;\n",
       "    }\n",
       "\n",
       "    .dataframe thead th {\n",
       "        text-align: right;\n",
       "    }\n",
       "</style>\n",
       "<table border=\"1\" class=\"dataframe\">\n",
       "  <thead>\n",
       "    <tr style=\"text-align: right;\">\n",
       "      <th></th>\n",
       "      <th>MeetID</th>\n",
       "      <th>Age</th>\n",
       "      <th>BodyweightKg</th>\n",
       "      <th>WeightClassKg</th>\n",
       "      <th>Squat4Kg</th>\n",
       "      <th>BestSquatKg</th>\n",
       "      <th>Bench4Kg</th>\n",
       "      <th>BestBenchKg</th>\n",
       "      <th>Deadlift4Kg</th>\n",
       "      <th>BestDeadliftKg</th>\n",
       "      <th>TotalKg</th>\n",
       "      <th>Place</th>\n",
       "      <th>Wilks</th>\n",
       "    </tr>\n",
       "  </thead>\n",
       "  <tbody>\n",
       "    <tr>\n",
       "      <th>0</th>\n",
       "      <td>0</td>\n",
       "      <td>47.0</td>\n",
       "      <td>59.60</td>\n",
       "      <td>60</td>\n",
       "      <td>NaN</td>\n",
       "      <td>47.63</td>\n",
       "      <td>NaN</td>\n",
       "      <td>20.41</td>\n",
       "      <td>NaN</td>\n",
       "      <td>70.31</td>\n",
       "      <td>138.35</td>\n",
       "      <td>1</td>\n",
       "      <td>155.05</td>\n",
       "    </tr>\n",
       "    <tr>\n",
       "      <th>1</th>\n",
       "      <td>0</td>\n",
       "      <td>42.0</td>\n",
       "      <td>58.51</td>\n",
       "      <td>60</td>\n",
       "      <td>NaN</td>\n",
       "      <td>142.88</td>\n",
       "      <td>NaN</td>\n",
       "      <td>95.25</td>\n",
       "      <td>NaN</td>\n",
       "      <td>163.29</td>\n",
       "      <td>401.42</td>\n",
       "      <td>1</td>\n",
       "      <td>456.38</td>\n",
       "    </tr>\n",
       "    <tr>\n",
       "      <th>2</th>\n",
       "      <td>0</td>\n",
       "      <td>42.0</td>\n",
       "      <td>58.51</td>\n",
       "      <td>60</td>\n",
       "      <td>NaN</td>\n",
       "      <td>142.88</td>\n",
       "      <td>NaN</td>\n",
       "      <td>95.25</td>\n",
       "      <td>NaN</td>\n",
       "      <td>163.29</td>\n",
       "      <td>401.42</td>\n",
       "      <td>1</td>\n",
       "      <td>456.38</td>\n",
       "    </tr>\n",
       "    <tr>\n",
       "      <th>3</th>\n",
       "      <td>0</td>\n",
       "      <td>42.0</td>\n",
       "      <td>58.51</td>\n",
       "      <td>60</td>\n",
       "      <td>NaN</td>\n",
       "      <td>NaN</td>\n",
       "      <td>NaN</td>\n",
       "      <td>95.25</td>\n",
       "      <td>NaN</td>\n",
       "      <td>NaN</td>\n",
       "      <td>95.25</td>\n",
       "      <td>1</td>\n",
       "      <td>108.29</td>\n",
       "    </tr>\n",
       "    <tr>\n",
       "      <th>4</th>\n",
       "      <td>0</td>\n",
       "      <td>18.0</td>\n",
       "      <td>63.68</td>\n",
       "      <td>67.5</td>\n",
       "      <td>NaN</td>\n",
       "      <td>NaN</td>\n",
       "      <td>NaN</td>\n",
       "      <td>31.75</td>\n",
       "      <td>NaN</td>\n",
       "      <td>90.72</td>\n",
       "      <td>122.47</td>\n",
       "      <td>1</td>\n",
       "      <td>130.47</td>\n",
       "    </tr>\n",
       "  </tbody>\n",
       "</table>\n",
       "</div>"
      ],
      "text/plain": [
       "   MeetID   Age  BodyweightKg WeightClassKg  Squat4Kg  BestSquatKg  Bench4Kg  \\\n",
       "0       0  47.0         59.60            60       NaN        47.63       NaN   \n",
       "1       0  42.0         58.51            60       NaN       142.88       NaN   \n",
       "2       0  42.0         58.51            60       NaN       142.88       NaN   \n",
       "3       0  42.0         58.51            60       NaN          NaN       NaN   \n",
       "4       0  18.0         63.68          67.5       NaN          NaN       NaN   \n",
       "\n",
       "   BestBenchKg  Deadlift4Kg  BestDeadliftKg  TotalKg Place   Wilks  \n",
       "0        20.41          NaN           70.31   138.35     1  155.05  \n",
       "1        95.25          NaN          163.29   401.42     1  456.38  \n",
       "2        95.25          NaN          163.29   401.42     1  456.38  \n",
       "3        95.25          NaN             NaN    95.25     1  108.29  \n",
       "4        31.75          NaN           90.72   122.47     1  130.47  "
      ]
     },
     "execution_count": 32,
     "metadata": {},
     "output_type": "execute_result"
    }
   ],
   "source": [
    "power_lifting1.head()"
   ]
  },
  {
   "cell_type": "markdown",
   "id": "ec365da1-7c41-4230-9263-cc1b3e0c6d2d",
   "metadata": {},
   "source": [
    "#### .corr() on the entire data set"
   ]
  },
  {
   "cell_type": "code",
   "execution_count": 33,
   "id": "020ed9c0-fc32-4b08-946f-b7ef3d711b73",
   "metadata": {},
   "outputs": [
    {
     "data": {
      "text/html": [
       "<style  type=\"text/css\" >\n",
       "#T_4c383_row0_col0,#T_4c383_row1_col1,#T_4c383_row2_col2,#T_4c383_row3_col3,#T_4c383_row4_col4,#T_4c383_row5_col5,#T_4c383_row6_col6,#T_4c383_row7_col7,#T_4c383_row8_col8,#T_4c383_row9_col9,#T_4c383_row10_col10{\n",
       "            background-color:  #fde725;\n",
       "            color:  #000000;\n",
       "        }#T_4c383_row0_col1,#T_4c383_row7_col1{\n",
       "            background-color:  #460a5d;\n",
       "            color:  #f1f1f1;\n",
       "        }#T_4c383_row0_col2{\n",
       "            background-color:  #481b6d;\n",
       "            color:  #f1f1f1;\n",
       "        }#T_4c383_row0_col3,#T_4c383_row1_col2,#T_4c383_row5_col0,#T_4c383_row6_col10{\n",
       "            background-color:  #34618d;\n",
       "            color:  #f1f1f1;\n",
       "        }#T_4c383_row0_col4,#T_4c383_row0_col6,#T_4c383_row1_col10,#T_4c383_row2_col0,#T_4c383_row3_col1,#T_4c383_row4_col0,#T_4c383_row5_col10,#T_4c383_row6_col0,#T_4c383_row7_col8,#T_4c383_row8_col0,#T_4c383_row9_col1,#T_4c383_row10_col1{\n",
       "            background-color:  #440154;\n",
       "            color:  #f1f1f1;\n",
       "        }#T_4c383_row0_col5{\n",
       "            background-color:  #2e6e8e;\n",
       "            color:  #f1f1f1;\n",
       "        }#T_4c383_row0_col7,#T_4c383_row7_col3{\n",
       "            background-color:  #34608d;\n",
       "            color:  #f1f1f1;\n",
       "        }#T_4c383_row0_col8{\n",
       "            background-color:  #46075a;\n",
       "            color:  #f1f1f1;\n",
       "        }#T_4c383_row0_col9,#T_4c383_row2_col5,#T_4c383_row5_col2{\n",
       "            background-color:  #481c6e;\n",
       "            color:  #f1f1f1;\n",
       "        }#T_4c383_row0_col10{\n",
       "            background-color:  #481d6f;\n",
       "            color:  #f1f1f1;\n",
       "        }#T_4c383_row1_col0,#T_4c383_row4_col5,#T_4c383_row6_col7{\n",
       "            background-color:  #453781;\n",
       "            color:  #f1f1f1;\n",
       "        }#T_4c383_row1_col3,#T_4c383_row3_col5,#T_4c383_row10_col0{\n",
       "            background-color:  #404688;\n",
       "            color:  #f1f1f1;\n",
       "        }#T_4c383_row1_col4,#T_4c383_row3_col8,#T_4c383_row8_col5{\n",
       "            background-color:  #443b84;\n",
       "            color:  #f1f1f1;\n",
       "        }#T_4c383_row1_col5{\n",
       "            background-color:  #39558c;\n",
       "            color:  #f1f1f1;\n",
       "        }#T_4c383_row1_col6,#T_4c383_row6_col3{\n",
       "            background-color:  #3c4f8a;\n",
       "            color:  #f1f1f1;\n",
       "        }#T_4c383_row1_col7,#T_4c383_row5_col3{\n",
       "            background-color:  #3e4989;\n",
       "            color:  #f1f1f1;\n",
       "        }#T_4c383_row1_col8{\n",
       "            background-color:  #443983;\n",
       "            color:  #f1f1f1;\n",
       "        }#T_4c383_row1_col9,#T_4c383_row3_col10,#T_4c383_row8_col7{\n",
       "            background-color:  #481668;\n",
       "            color:  #f1f1f1;\n",
       "        }#T_4c383_row2_col1,#T_4c383_row3_col2{\n",
       "            background-color:  #472f7d;\n",
       "            color:  #f1f1f1;\n",
       "        }#T_4c383_row2_col3,#T_4c383_row6_col5{\n",
       "            background-color:  #46337f;\n",
       "            color:  #f1f1f1;\n",
       "        }#T_4c383_row2_col4{\n",
       "            background-color:  #21a685;\n",
       "            color:  #000000;\n",
       "        }#T_4c383_row2_col6,#T_4c383_row6_col9{\n",
       "            background-color:  #20a486;\n",
       "            color:  #000000;\n",
       "        }#T_4c383_row2_col7{\n",
       "            background-color:  #471063;\n",
       "            color:  #f1f1f1;\n",
       "        }#T_4c383_row2_col8{\n",
       "            background-color:  #1fa187;\n",
       "            color:  #000000;\n",
       "        }#T_4c383_row2_col9{\n",
       "            background-color:  #297a8e;\n",
       "            color:  #000000;\n",
       "        }#T_4c383_row2_col10{\n",
       "            background-color:  #470d60;\n",
       "            color:  #f1f1f1;\n",
       "        }#T_4c383_row3_col0{\n",
       "            background-color:  #3c508b;\n",
       "            color:  #f1f1f1;\n",
       "        }#T_4c383_row3_col4,#T_4c383_row6_col1{\n",
       "            background-color:  #472a7a;\n",
       "            color:  #f1f1f1;\n",
       "        }#T_4c383_row3_col6{\n",
       "            background-color:  #443a83;\n",
       "            color:  #f1f1f1;\n",
       "        }#T_4c383_row3_col7{\n",
       "            background-color:  #355e8d;\n",
       "            color:  #f1f1f1;\n",
       "        }#T_4c383_row3_col9,#T_4c383_row9_col0{\n",
       "            background-color:  #453581;\n",
       "            color:  #f1f1f1;\n",
       "        }#T_4c383_row4_col1,#T_4c383_row7_col2{\n",
       "            background-color:  #470e61;\n",
       "            color:  #f1f1f1;\n",
       "        }#T_4c383_row4_col2,#T_4c383_row9_col6{\n",
       "            background-color:  #26ad81;\n",
       "            color:  #000000;\n",
       "        }#T_4c383_row4_col3{\n",
       "            background-color:  #424086;\n",
       "            color:  #f1f1f1;\n",
       "        }#T_4c383_row4_col6,#T_4c383_row6_col4{\n",
       "            background-color:  #98d83e;\n",
       "            color:  #000000;\n",
       "        }#T_4c383_row4_col7{\n",
       "            background-color:  #482878;\n",
       "            color:  #f1f1f1;\n",
       "        }#T_4c383_row4_col8{\n",
       "            background-color:  #9dd93b;\n",
       "            color:  #000000;\n",
       "        }#T_4c383_row4_col9{\n",
       "            background-color:  #eae51a;\n",
       "            color:  #000000;\n",
       "        }#T_4c383_row4_col10{\n",
       "            background-color:  #73d056;\n",
       "            color:  #000000;\n",
       "        }#T_4c383_row5_col1,#T_4c383_row5_col6{\n",
       "            background-color:  #481f70;\n",
       "            color:  #f1f1f1;\n",
       "        }#T_4c383_row5_col4{\n",
       "            background-color:  #482475;\n",
       "            color:  #f1f1f1;\n",
       "        }#T_4c383_row5_col7,#T_4c383_row7_col5{\n",
       "            background-color:  #2b758e;\n",
       "            color:  #f1f1f1;\n",
       "        }#T_4c383_row5_col8{\n",
       "            background-color:  #472d7b;\n",
       "            color:  #f1f1f1;\n",
       "        }#T_4c383_row5_col9{\n",
       "            background-color:  #481467;\n",
       "            color:  #f1f1f1;\n",
       "        }#T_4c383_row6_col2{\n",
       "            background-color:  #25ac82;\n",
       "            color:  #000000;\n",
       "        }#T_4c383_row6_col8{\n",
       "            background-color:  #8bd646;\n",
       "            color:  #000000;\n",
       "        }#T_4c383_row7_col0{\n",
       "            background-color:  #3b518b;\n",
       "            color:  #f1f1f1;\n",
       "        }#T_4c383_row7_col4{\n",
       "            background-color:  #471164;\n",
       "            color:  #f1f1f1;\n",
       "        }#T_4c383_row7_col6{\n",
       "            background-color:  #482173;\n",
       "            color:  #f1f1f1;\n",
       "        }#T_4c383_row7_col9{\n",
       "            background-color:  #481769;\n",
       "            color:  #f1f1f1;\n",
       "        }#T_4c383_row7_col10,#T_4c383_row8_col1{\n",
       "            background-color:  #450559;\n",
       "            color:  #f1f1f1;\n",
       "        }#T_4c383_row8_col2{\n",
       "            background-color:  #22a785;\n",
       "            color:  #000000;\n",
       "        }#T_4c383_row8_col3,#T_4c383_row10_col2{\n",
       "            background-color:  #3e4a89;\n",
       "            color:  #f1f1f1;\n",
       "        }#T_4c383_row8_col4{\n",
       "            background-color:  #9bd93c;\n",
       "            color:  #000000;\n",
       "        }#T_4c383_row8_col6{\n",
       "            background-color:  #89d548;\n",
       "            color:  #000000;\n",
       "        }#T_4c383_row8_col9{\n",
       "            background-color:  #aadc32;\n",
       "            color:  #000000;\n",
       "        }#T_4c383_row8_col10{\n",
       "            background-color:  #2cb17e;\n",
       "            color:  #000000;\n",
       "        }#T_4c383_row9_col2{\n",
       "            background-color:  #218f8d;\n",
       "            color:  #000000;\n",
       "        }#T_4c383_row9_col3{\n",
       "            background-color:  #365d8d;\n",
       "            color:  #f1f1f1;\n",
       "        }#T_4c383_row9_col4{\n",
       "            background-color:  #ece51b;\n",
       "            color:  #000000;\n",
       "        }#T_4c383_row9_col5{\n",
       "            background-color:  #424186;\n",
       "            color:  #f1f1f1;\n",
       "        }#T_4c383_row9_col7{\n",
       "            background-color:  #414487;\n",
       "            color:  #f1f1f1;\n",
       "        }#T_4c383_row9_col8{\n",
       "            background-color:  #b2dd2d;\n",
       "            color:  #000000;\n",
       "        }#T_4c383_row9_col10{\n",
       "            background-color:  #bade28;\n",
       "            color:  #000000;\n",
       "        }#T_4c383_row10_col3{\n",
       "            background-color:  #3a538b;\n",
       "            color:  #f1f1f1;\n",
       "        }#T_4c383_row10_col4{\n",
       "            background-color:  #86d549;\n",
       "            color:  #000000;\n",
       "        }#T_4c383_row10_col5{\n",
       "            background-color:  #414287;\n",
       "            color:  #f1f1f1;\n",
       "        }#T_4c383_row10_col6{\n",
       "            background-color:  #29798e;\n",
       "            color:  #000000;\n",
       "        }#T_4c383_row10_col7{\n",
       "            background-color:  #3f4788;\n",
       "            color:  #f1f1f1;\n",
       "        }#T_4c383_row10_col8{\n",
       "            background-color:  #40bd72;\n",
       "            color:  #000000;\n",
       "        }#T_4c383_row10_col9{\n",
       "            background-color:  #c0df25;\n",
       "            color:  #000000;\n",
       "        }</style><table id=\"T_4c383_\" ><thead>    <tr>        <th class=\"blank level0\" ></th>        <th class=\"col_heading level0 col0\" >MeetID</th>        <th class=\"col_heading level0 col1\" >Age</th>        <th class=\"col_heading level0 col2\" >BodyweightKg</th>        <th class=\"col_heading level0 col3\" >Squat4Kg</th>        <th class=\"col_heading level0 col4\" >BestSquatKg</th>        <th class=\"col_heading level0 col5\" >Bench4Kg</th>        <th class=\"col_heading level0 col6\" >BestBenchKg</th>        <th class=\"col_heading level0 col7\" >Deadlift4Kg</th>        <th class=\"col_heading level0 col8\" >BestDeadliftKg</th>        <th class=\"col_heading level0 col9\" >TotalKg</th>        <th class=\"col_heading level0 col10\" >Wilks</th>    </tr></thead><tbody>\n",
       "                <tr>\n",
       "                        <th id=\"T_4c383_level0_row0\" class=\"row_heading level0 row0\" >MeetID</th>\n",
       "                        <td id=\"T_4c383_row0_col0\" class=\"data row0 col0\" >1.0</td>\n",
       "                        <td id=\"T_4c383_row0_col1\" class=\"data row0 col1\" >-0.049</td>\n",
       "                        <td id=\"T_4c383_row0_col2\" class=\"data row0 col2\" >-0.0015</td>\n",
       "                        <td id=\"T_4c383_row0_col3\" class=\"data row0 col3\" >0.25</td>\n",
       "                        <td id=\"T_4c383_row0_col4\" class=\"data row0 col4\" >-0.074</td>\n",
       "                        <td id=\"T_4c383_row0_col5\" class=\"data row0 col5\" >0.31</td>\n",
       "                        <td id=\"T_4c383_row0_col6\" class=\"data row0 col6\" >-0.077</td>\n",
       "                        <td id=\"T_4c383_row0_col7\" class=\"data row0 col7\" >0.25</td>\n",
       "                        <td id=\"T_4c383_row0_col8\" class=\"data row0 col8\" >-0.057</td>\n",
       "                        <td id=\"T_4c383_row0_col9\" class=\"data row0 col9\" >0.0064</td>\n",
       "                        <td id=\"T_4c383_row0_col10\" class=\"data row0 col10\" >0.011</td>\n",
       "            </tr>\n",
       "            <tr>\n",
       "                        <th id=\"T_4c383_level0_row1\" class=\"row_heading level0 row1\" >Age</th>\n",
       "                        <td id=\"T_4c383_row1_col0\" class=\"data row1 col0\" >-0.049</td>\n",
       "                        <td id=\"T_4c383_row1_col1\" class=\"data row1 col1\" >1.0</td>\n",
       "                        <td id=\"T_4c383_row1_col2\" class=\"data row1 col2\" >0.14</td>\n",
       "                        <td id=\"T_4c383_row1_col3\" class=\"data row1 col3\" >0.011</td>\n",
       "                        <td id=\"T_4c383_row1_col4\" class=\"data row1 col4\" >-0.033</td>\n",
       "                        <td id=\"T_4c383_row1_col5\" class=\"data row1 col5\" >0.082</td>\n",
       "                        <td id=\"T_4c383_row1_col6\" class=\"data row1 col6\" >0.049</td>\n",
       "                        <td id=\"T_4c383_row1_col7\" class=\"data row1 col7\" >0.026</td>\n",
       "                        <td id=\"T_4c383_row1_col8\" class=\"data row1 col8\" >-0.041</td>\n",
       "                        <td id=\"T_4c383_row1_col9\" class=\"data row1 col9\" >-0.18</td>\n",
       "                        <td id=\"T_4c383_row1_col10\" class=\"data row1 col10\" >-0.25</td>\n",
       "            </tr>\n",
       "            <tr>\n",
       "                        <th id=\"T_4c383_level0_row2\" class=\"row_heading level0 row2\" >BodyweightKg</th>\n",
       "                        <td id=\"T_4c383_row2_col0\" class=\"data row2 col0\" >-0.0015</td>\n",
       "                        <td id=\"T_4c383_row2_col1\" class=\"data row2 col1\" >0.14</td>\n",
       "                        <td id=\"T_4c383_row2_col2\" class=\"data row2 col2\" >1.0</td>\n",
       "                        <td id=\"T_4c383_row2_col3\" class=\"data row2 col3\" >0.15</td>\n",
       "                        <td id=\"T_4c383_row2_col4\" class=\"data row2 col4\" >0.59</td>\n",
       "                        <td id=\"T_4c383_row2_col5\" class=\"data row2 col5\" >0.075</td>\n",
       "                        <td id=\"T_4c383_row2_col6\" class=\"data row2 col6\" >0.58</td>\n",
       "                        <td id=\"T_4c383_row2_col7\" class=\"data row2 col7\" >0.038</td>\n",
       "                        <td id=\"T_4c383_row2_col8\" class=\"data row2 col8\" >0.57</td>\n",
       "                        <td id=\"T_4c383_row2_col9\" class=\"data row2 col9\" >0.41</td>\n",
       "                        <td id=\"T_4c383_row2_col10\" class=\"data row2 col10\" >0.033</td>\n",
       "            </tr>\n",
       "            <tr>\n",
       "                        <th id=\"T_4c383_level0_row3\" class=\"row_heading level0 row3\" >Squat4Kg</th>\n",
       "                        <td id=\"T_4c383_row3_col0\" class=\"data row3 col0\" >0.25</td>\n",
       "                        <td id=\"T_4c383_row3_col1\" class=\"data row3 col1\" >0.011</td>\n",
       "                        <td id=\"T_4c383_row3_col2\" class=\"data row3 col2\" >0.15</td>\n",
       "                        <td id=\"T_4c383_row3_col3\" class=\"data row3 col3\" >1.0</td>\n",
       "                        <td id=\"T_4c383_row3_col4\" class=\"data row3 col4\" >0.13</td>\n",
       "                        <td id=\"T_4c383_row3_col5\" class=\"data row3 col5\" >0.22</td>\n",
       "                        <td id=\"T_4c383_row3_col6\" class=\"data row3 col6\" >0.18</td>\n",
       "                        <td id=\"T_4c383_row3_col7\" class=\"data row3 col7\" >0.3</td>\n",
       "                        <td id=\"T_4c383_row3_col8\" class=\"data row3 col8\" >0.18</td>\n",
       "                        <td id=\"T_4c383_row3_col9\" class=\"data row3 col9\" >0.16</td>\n",
       "                        <td id=\"T_4c383_row3_col10\" class=\"data row3 col10\" >0.069</td>\n",
       "            </tr>\n",
       "            <tr>\n",
       "                        <th id=\"T_4c383_level0_row4\" class=\"row_heading level0 row4\" >BestSquatKg</th>\n",
       "                        <td id=\"T_4c383_row4_col0\" class=\"data row4 col0\" >-0.074</td>\n",
       "                        <td id=\"T_4c383_row4_col1\" class=\"data row4 col1\" >-0.033</td>\n",
       "                        <td id=\"T_4c383_row4_col2\" class=\"data row4 col2\" >0.59</td>\n",
       "                        <td id=\"T_4c383_row4_col3\" class=\"data row4 col3\" >0.13</td>\n",
       "                        <td id=\"T_4c383_row4_col4\" class=\"data row4 col4\" >1.0</td>\n",
       "                        <td id=\"T_4c383_row4_col5\" class=\"data row4 col5\" >0.096</td>\n",
       "                        <td id=\"T_4c383_row4_col6\" class=\"data row4 col6\" >0.83</td>\n",
       "                        <td id=\"T_4c383_row4_col7\" class=\"data row4 col7\" >0.047</td>\n",
       "                        <td id=\"T_4c383_row4_col8\" class=\"data row4 col8\" >0.84</td>\n",
       "                        <td id=\"T_4c383_row4_col9\" class=\"data row4 col9\" >0.96</td>\n",
       "                        <td id=\"T_4c383_row4_col10\" class=\"data row4 col10\" >0.77</td>\n",
       "            </tr>\n",
       "            <tr>\n",
       "                        <th id=\"T_4c383_level0_row5\" class=\"row_heading level0 row5\" >Bench4Kg</th>\n",
       "                        <td id=\"T_4c383_row5_col0\" class=\"data row5 col0\" >0.31</td>\n",
       "                        <td id=\"T_4c383_row5_col1\" class=\"data row5 col1\" >0.082</td>\n",
       "                        <td id=\"T_4c383_row5_col2\" class=\"data row5 col2\" >0.075</td>\n",
       "                        <td id=\"T_4c383_row5_col3\" class=\"data row5 col3\" >0.22</td>\n",
       "                        <td id=\"T_4c383_row5_col4\" class=\"data row5 col4\" >0.096</td>\n",
       "                        <td id=\"T_4c383_row5_col5\" class=\"data row5 col5\" >1.0</td>\n",
       "                        <td id=\"T_4c383_row5_col6\" class=\"data row5 col6\" >0.081</td>\n",
       "                        <td id=\"T_4c383_row5_col7\" class=\"data row5 col7\" >0.39</td>\n",
       "                        <td id=\"T_4c383_row5_col8\" class=\"data row5 col8\" >0.12</td>\n",
       "                        <td id=\"T_4c383_row5_col9\" class=\"data row5 col9\" >0.051</td>\n",
       "                        <td id=\"T_4c383_row5_col10\" class=\"data row5 col10\" >-0.0027</td>\n",
       "            </tr>\n",
       "            <tr>\n",
       "                        <th id=\"T_4c383_level0_row6\" class=\"row_heading level0 row6\" >BestBenchKg</th>\n",
       "                        <td id=\"T_4c383_row6_col0\" class=\"data row6 col0\" >-0.077</td>\n",
       "                        <td id=\"T_4c383_row6_col1\" class=\"data row6 col1\" >0.049</td>\n",
       "                        <td id=\"T_4c383_row6_col2\" class=\"data row6 col2\" >0.58</td>\n",
       "                        <td id=\"T_4c383_row6_col3\" class=\"data row6 col3\" >0.18</td>\n",
       "                        <td id=\"T_4c383_row6_col4\" class=\"data row6 col4\" >0.83</td>\n",
       "                        <td id=\"T_4c383_row6_col5\" class=\"data row6 col5\" >0.081</td>\n",
       "                        <td id=\"T_4c383_row6_col6\" class=\"data row6 col6\" >1.0</td>\n",
       "                        <td id=\"T_4c383_row6_col7\" class=\"data row6 col7\" >0.091</td>\n",
       "                        <td id=\"T_4c383_row6_col8\" class=\"data row6 col8\" >0.81</td>\n",
       "                        <td id=\"T_4c383_row6_col9\" class=\"data row6 col9\" >0.55</td>\n",
       "                        <td id=\"T_4c383_row6_col10\" class=\"data row6 col10\" >0.26</td>\n",
       "            </tr>\n",
       "            <tr>\n",
       "                        <th id=\"T_4c383_level0_row7\" class=\"row_heading level0 row7\" >Deadlift4Kg</th>\n",
       "                        <td id=\"T_4c383_row7_col0\" class=\"data row7 col0\" >0.25</td>\n",
       "                        <td id=\"T_4c383_row7_col1\" class=\"data row7 col1\" >0.026</td>\n",
       "                        <td id=\"T_4c383_row7_col2\" class=\"data row7 col2\" >0.038</td>\n",
       "                        <td id=\"T_4c383_row7_col3\" class=\"data row7 col3\" >0.3</td>\n",
       "                        <td id=\"T_4c383_row7_col4\" class=\"data row7 col4\" >0.047</td>\n",
       "                        <td id=\"T_4c383_row7_col5\" class=\"data row7 col5\" >0.39</td>\n",
       "                        <td id=\"T_4c383_row7_col6\" class=\"data row7 col6\" >0.091</td>\n",
       "                        <td id=\"T_4c383_row7_col7\" class=\"data row7 col7\" >1.0</td>\n",
       "                        <td id=\"T_4c383_row7_col8\" class=\"data row7 col8\" >0.00085</td>\n",
       "                        <td id=\"T_4c383_row7_col9\" class=\"data row7 col9\" >0.062</td>\n",
       "                        <td id=\"T_4c383_row7_col10\" class=\"data row7 col10\" >0.015</td>\n",
       "            </tr>\n",
       "            <tr>\n",
       "                        <th id=\"T_4c383_level0_row8\" class=\"row_heading level0 row8\" >BestDeadliftKg</th>\n",
       "                        <td id=\"T_4c383_row8_col0\" class=\"data row8 col0\" >-0.057</td>\n",
       "                        <td id=\"T_4c383_row8_col1\" class=\"data row8 col1\" >-0.041</td>\n",
       "                        <td id=\"T_4c383_row8_col2\" class=\"data row8 col2\" >0.57</td>\n",
       "                        <td id=\"T_4c383_row8_col3\" class=\"data row8 col3\" >0.18</td>\n",
       "                        <td id=\"T_4c383_row8_col4\" class=\"data row8 col4\" >0.84</td>\n",
       "                        <td id=\"T_4c383_row8_col5\" class=\"data row8 col5\" >0.12</td>\n",
       "                        <td id=\"T_4c383_row8_col6\" class=\"data row8 col6\" >0.81</td>\n",
       "                        <td id=\"T_4c383_row8_col7\" class=\"data row8 col7\" >0.00085</td>\n",
       "                        <td id=\"T_4c383_row8_col8\" class=\"data row8 col8\" >1.0</td>\n",
       "                        <td id=\"T_4c383_row8_col9\" class=\"data row8 col9\" >0.86</td>\n",
       "                        <td id=\"T_4c383_row8_col10\" class=\"data row8 col10\" >0.62</td>\n",
       "            </tr>\n",
       "            <tr>\n",
       "                        <th id=\"T_4c383_level0_row9\" class=\"row_heading level0 row9\" >TotalKg</th>\n",
       "                        <td id=\"T_4c383_row9_col0\" class=\"data row9 col0\" >0.0064</td>\n",
       "                        <td id=\"T_4c383_row9_col1\" class=\"data row9 col1\" >-0.18</td>\n",
       "                        <td id=\"T_4c383_row9_col2\" class=\"data row9 col2\" >0.41</td>\n",
       "                        <td id=\"T_4c383_row9_col3\" class=\"data row9 col3\" >0.16</td>\n",
       "                        <td id=\"T_4c383_row9_col4\" class=\"data row9 col4\" >0.96</td>\n",
       "                        <td id=\"T_4c383_row9_col5\" class=\"data row9 col5\" >0.051</td>\n",
       "                        <td id=\"T_4c383_row9_col6\" class=\"data row9 col6\" >0.55</td>\n",
       "                        <td id=\"T_4c383_row9_col7\" class=\"data row9 col7\" >0.062</td>\n",
       "                        <td id=\"T_4c383_row9_col8\" class=\"data row9 col8\" >0.86</td>\n",
       "                        <td id=\"T_4c383_row9_col9\" class=\"data row9 col9\" >1.0</td>\n",
       "                        <td id=\"T_4c383_row9_col10\" class=\"data row9 col10\" >0.88</td>\n",
       "            </tr>\n",
       "            <tr>\n",
       "                        <th id=\"T_4c383_level0_row10\" class=\"row_heading level0 row10\" >Wilks</th>\n",
       "                        <td id=\"T_4c383_row10_col0\" class=\"data row10 col0\" >0.011</td>\n",
       "                        <td id=\"T_4c383_row10_col1\" class=\"data row10 col1\" >-0.25</td>\n",
       "                        <td id=\"T_4c383_row10_col2\" class=\"data row10 col2\" >0.033</td>\n",
       "                        <td id=\"T_4c383_row10_col3\" class=\"data row10 col3\" >0.069</td>\n",
       "                        <td id=\"T_4c383_row10_col4\" class=\"data row10 col4\" >0.77</td>\n",
       "                        <td id=\"T_4c383_row10_col5\" class=\"data row10 col5\" >-0.0027</td>\n",
       "                        <td id=\"T_4c383_row10_col6\" class=\"data row10 col6\" >0.26</td>\n",
       "                        <td id=\"T_4c383_row10_col7\" class=\"data row10 col7\" >0.015</td>\n",
       "                        <td id=\"T_4c383_row10_col8\" class=\"data row10 col8\" >0.62</td>\n",
       "                        <td id=\"T_4c383_row10_col9\" class=\"data row10 col9\" >0.88</td>\n",
       "                        <td id=\"T_4c383_row10_col10\" class=\"data row10 col10\" >1.0</td>\n",
       "            </tr>\n",
       "    </tbody></table>"
      ],
      "text/plain": [
       "<pandas.io.formats.style.Styler at 0x1e927849fd0>"
      ]
     },
     "execution_count": 33,
     "metadata": {},
     "output_type": "execute_result"
    }
   ],
   "source": [
    "power_lifting1.corr(method='pearson').style.format(\"{:.2}\").background_gradient(cmap=plt.get_cmap('viridis'), axis=1)"
   ]
  },
  {
   "cell_type": "code",
   "execution_count": 34,
   "id": "c40ab71f-0ae1-48f7-9e48-63ba26d6b462",
   "metadata": {},
   "outputs": [],
   "source": [
    "## best dead lift and best squat are positively correlated. While total kg and best squat are th closest to 1."
   ]
  },
  {
   "cell_type": "markdown",
   "id": "1eb1ffba-0e48-4380-afee-4b02500739a9",
   "metadata": {},
   "source": [
    "#### seaborn heatmap"
   ]
  },
  {
   "cell_type": "code",
   "execution_count": 37,
   "id": "5e889e55-d520-4817-ba04-764f7611ee6a",
   "metadata": {},
   "outputs": [
    {
     "data": {
      "text/plain": [
       "<AxesSubplot:>"
      ]
     },
     "execution_count": 37,
     "metadata": {},
     "output_type": "execute_result"
    },
    {
     "data": {
      "image/png": "[encoded data removed]",
      "text/plain": [
       "<Figure size 432x288 with 2 Axes>"
      ]
     },
     "metadata": {
      "needs_background": "light"
     },
     "output_type": "display_data"
    }
   ],
   "source": [
    "sns.heatmap(power_lifting.corr(), annot = True)"
   ]
  },
  {
   "cell_type": "markdown",
   "id": "2d781ca5-3411-4d03-b4e3-3c1e3228f546",
   "metadata": {},
   "source": [
    "#### Overall\n",
    "\n",
    "###### Bodyweight is corelated with best squat, bench, and deadlift\n",
    "###### Best dead lift is correlated with best squat, bench, total Kg, and wilks."
   ]
  },
  {
   "cell_type": "code",
   "execution_count": null,
   "id": "f814032e-7950-43e7-b942-3991118529ba",
   "metadata": {},
   "outputs": [],
   "source": [
    "#### Page 16 (activity solution)"
   ]
  },
  {
   "cell_type": "code",
   "execution_count": null,
   "id": "21f4f6d7-52b0-468d-90de-4f22d7ff62c4",
   "metadata": {},
   "outputs": [],
   "source": [
    "#### Page 17"
   ]
  },
  {
   "cell_type": "markdown",
   "id": "1500f35a-aff3-4fe7-9ac3-15f629d26cf2",
   "metadata": {},
   "source": [
    "### Key Terms\n",
    "\n",
    "Below is a list and short description of the important keywords learned in this lesson. Please read through and go back and review any concepts you do not fully understand. Great Work!"
   ]
  },
  {
   "cell_type": "markdown",
   "id": "c9f93fd5-1be3-4ba9-8ab0-df4a1e8acf7e",
   "metadata": {},
   "source": [
    "#### Key Python Code"
   ]
  },
  {
   "cell_type": "markdown",
   "id": "8f0f7fee-3426-4579-934a-e44217d1695f",
   "metadata": {},
   "source": [
    "* .hist() - An argument in pandas that allows you to create a histogram even when data is missing\n",
    "* stats.ttest_1samp() - Computes a single sample t-test\n",
    "* ttest_ind() - Computes an independent t-test.\n",
    "* stats.ttest_rel() - Computes a dependent t-test.\n",
    "* pd.crosstab() - Creates a contingency table in Python.\n",
    "* stats.chi2_contingency() - Calculates an independent Chi-Square using a contingency table.\n",
    "* .corr() - Creates a correlation, either on a particular variable or a whole dataset that is numeric. Takes the argument method= to specify the type of correlation.\n",
    "* sns.heatmap() - Creates a heatmap of the relationship between variables in an all-numeric set. An additional argument of annot=True will allow you to see the correlation values."
   ]
  },
  {
   "cell_type": "markdown",
   "id": "a4a082e3-66a6-4dc7-9af3-dece11186518",
   "metadata": {},
   "source": [
    "#### Key Python Packages"
   ]
  },
  {
   "cell_type": "markdown",
   "id": "571c7ab5-bbdd-4df9-8386-47f3fe369678",
   "metadata": {},
   "source": [
    "* scipy - A package often used for machine learning and statistics.\n",
    "* stats - A package within scipy that will conduct many different statistical tests, including t-tests\n",
    "* seaborn - A data visualization package usually abbreviated as sns.\n",
    "* pyplot - A package within matplotlib that does stastical graphing. Often abbreviated as plt."
   ]
  },
  {
   "cell_type": "code",
   "execution_count": 44,
   "id": "6903d199-4ab7-4f66-9ffa-cd37ac4de78c",
   "metadata": {},
   "outputs": [],
   "source": [
    "#### Page 18 is hands on"
   ]
  },
  {
   "cell_type": "code",
   "execution_count": null,
   "id": "6a7057d9-ef78-4025-a25f-983eab484e57",
   "metadata": {},
   "outputs": [],
   "source": []
  }
 ],
 "metadata": {
  "kernelspec": {
   "display_name": "Python 3 (ipykernel)",
   "language": "python",
   "name": "python3"
  },
  "language_info": {
   "codemirror_mode": {
    "name": "ipython",
    "version": 3
   },
   "file_extension": ".py",
   "mimetype": "text/x-python",
   "name": "python",
   "nbconvert_exporter": "python",
   "pygments_lexer": "ipython3",
   "version": "3.9.5"
  }
 },
 "nbformat": 4,
 "nbformat_minor": 5
}
