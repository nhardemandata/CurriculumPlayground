{
 "cells": [
  {
   "cell_type": "code",
   "execution_count": 1,
   "id": "d2486e7e-2513-4494-a452-13a7b451e35e",
   "metadata": {},
   "outputs": [
    {
     "name": "stderr",
     "output_type": "stream",
     "text": [
      "Installing package into 'C:/Users/nolan/OneDrive/Documents/R/win-library/4.1'\n",
      "(as 'lib' is unspecified)\n",
      "\n"
     ]
    },
    {
     "name": "stdout",
     "output_type": "stream",
     "text": [
      "package 'effects' successfully unpacked and MD5 sums checked\n",
      "\n",
      "The downloaded binary packages are in\n",
      "\tC:\\Users\\nolan\\AppData\\Local\\Temp\\RtmpOkwi5P\\downloaded_packages\n"
     ]
    }
   ],
   "source": [
    "install.packages('effects')"
   ]
  },
  {
   "cell_type": "code",
   "execution_count": null,
   "id": "faff9f26-4c6a-42d8-84f6-03fb894794d8",
   "metadata": {},
   "outputs": [],
   "source": []
  },
  {
   "cell_type": "code",
   "execution_count": null,
   "id": "2fd40eec-a028-4905-a00b-5f8d45f3b520",
   "metadata": {},
   "outputs": [],
   "source": []
  },
  {
   "cell_type": "code",
   "execution_count": 2,
   "id": "82bb7981-11b3-4fbf-96dc-73cb2aba4ea5",
   "metadata": {},
   "outputs": [
    {
     "name": "stderr",
     "output_type": "stream",
     "text": [
      "Installing package into 'C:/Users/nolan/OneDrive/Documents/R/win-library/4.1'\n",
      "(as 'lib' is unspecified)\n",
      "\n"
     ]
    },
    {
     "name": "stdout",
     "output_type": "stream",
     "text": [
      "package 'multcomp' successfully unpacked and MD5 sums checked\n",
      "\n",
      "The downloaded binary packages are in\n",
      "\tC:\\Users\\nolan\\AppData\\Local\\Temp\\RtmpOkwi5P\\downloaded_packages\n"
     ]
    }
   ],
   "source": [
    "install.packages('multcomp')"
   ]
  },
  {
   "cell_type": "code",
   "execution_count": 3,
   "id": "47c3978c-9354-48fc-ae05-b363adfc4cd5",
   "metadata": {},
   "outputs": [
    {
     "name": "stderr",
     "output_type": "stream",
     "text": [
      "Loading required package: carData\n",
      "\n",
      "lattice theme set by effectsTheme()\n",
      "See ?effectsTheme for details.\n",
      "\n",
      "Loading required package: mvtnorm\n",
      "\n",
      "Loading required package: survival\n",
      "\n",
      "Loading required package: TH.data\n",
      "\n",
      "Loading required package: MASS\n",
      "\n",
      "\n",
      "Attaching package: 'TH.data'\n",
      "\n",
      "\n",
      "The following object is masked from 'package:MASS':\n",
      "\n",
      "    geyser\n",
      "\n",
      "\n"
     ]
    }
   ],
   "source": [
    "library(\"rcompanion\")\n",
    "library(\"car\")\n",
    "library(\"effects\")\n",
    "library(\"multcomp\")\n"
   ]
  },
  {
   "cell_type": "code",
   "execution_count": 4,
   "id": "6aa8ebe9-a3ed-4bdb-930f-5f89f5745483",
   "metadata": {},
   "outputs": [],
   "source": [
    "data = read.csv('../../datasets/cellPhone.csv')"
   ]
  },
  {
   "cell_type": "code",
   "execution_count": 5,
   "id": "66397ff6-ca22-4c8b-a01a-1cc9ba60bcd0",
   "metadata": {},
   "outputs": [
    {
     "data": {
      "text/html": [
       "<table class=\"dataframe\">\n",
       "<caption>A data.frame: 6 × 21</caption>\n",
       "<thead>\n",
       "\t<tr><th></th><th scope=col>State</th><th scope=col>Account.Length</th><th scope=col>Area.Code</th><th scope=col>Phone</th><th scope=col>International.Plan</th><th scope=col>vMail.Plan</th><th scope=col>vMail.Message</th><th scope=col>Day.Mins</th><th scope=col>Day.Calls</th><th scope=col>Day.Charge</th><th scope=col>...</th><th scope=col>Eve.Calls</th><th scope=col>Eve.Charge</th><th scope=col>Night.Mins</th><th scope=col>Night.Calls</th><th scope=col>Night.Charge</th><th scope=col>International.Mins</th><th scope=col>International.Calls</th><th scope=col>International.Charge</th><th scope=col>CustServ.Calls</th><th scope=col>Churn</th></tr>\n",
       "\t<tr><th></th><th scope=col>&lt;chr&gt;</th><th scope=col>&lt;int&gt;</th><th scope=col>&lt;int&gt;</th><th scope=col>&lt;chr&gt;</th><th scope=col>&lt;chr&gt;</th><th scope=col>&lt;chr&gt;</th><th scope=col>&lt;int&gt;</th><th scope=col>&lt;dbl&gt;</th><th scope=col>&lt;int&gt;</th><th scope=col>&lt;dbl&gt;</th><th scope=col>...</th><th scope=col>&lt;int&gt;</th><th scope=col>&lt;dbl&gt;</th><th scope=col>&lt;dbl&gt;</th><th scope=col>&lt;int&gt;</th><th scope=col>&lt;dbl&gt;</th><th scope=col>&lt;dbl&gt;</th><th scope=col>&lt;int&gt;</th><th scope=col>&lt;dbl&gt;</th><th scope=col>&lt;int&gt;</th><th scope=col>&lt;int&gt;</th></tr>\n",
       "</thead>\n",
       "<tbody>\n",
       "\t<tr><th scope=row>1</th><td>KS</td><td>128</td><td>415</td><td> 382-4657</td><td> no </td><td> yes</td><td>25</td><td>265.1</td><td>110</td><td>45.07</td><td>...</td><td> 99</td><td>16.78</td><td>244.7</td><td> 91</td><td>11.01</td><td>10.0</td><td>3</td><td>2.70</td><td>1</td><td>0</td></tr>\n",
       "\t<tr><th scope=row>2</th><td>OH</td><td>107</td><td>415</td><td> 371-7191</td><td> no </td><td> yes</td><td>26</td><td>161.6</td><td>123</td><td>27.47</td><td>...</td><td>103</td><td>16.62</td><td>254.4</td><td>103</td><td>11.45</td><td>13.7</td><td>3</td><td>3.70</td><td>1</td><td>0</td></tr>\n",
       "\t<tr><th scope=row>3</th><td>NJ</td><td>137</td><td>415</td><td> 358-1921</td><td> no </td><td> no </td><td> 0</td><td>243.4</td><td>114</td><td>41.38</td><td>...</td><td>110</td><td>10.30</td><td>162.6</td><td>104</td><td> 7.32</td><td>12.2</td><td>5</td><td>3.29</td><td>0</td><td>0</td></tr>\n",
       "\t<tr><th scope=row>4</th><td>OH</td><td> 84</td><td>408</td><td> 375-9999</td><td> yes</td><td> no </td><td> 0</td><td>299.4</td><td> 71</td><td>50.90</td><td>...</td><td> 88</td><td> 5.26</td><td>196.9</td><td> 89</td><td> 8.86</td><td> 6.6</td><td>7</td><td>1.78</td><td>2</td><td>0</td></tr>\n",
       "\t<tr><th scope=row>5</th><td>OK</td><td> 75</td><td>415</td><td> 330-6626</td><td> yes</td><td> no </td><td> 0</td><td>166.7</td><td>113</td><td>28.34</td><td>...</td><td>122</td><td>12.61</td><td>186.9</td><td>121</td><td> 8.41</td><td>10.1</td><td>3</td><td>2.73</td><td>3</td><td>0</td></tr>\n",
       "\t<tr><th scope=row>6</th><td>AL</td><td>118</td><td>510</td><td> 391-8027</td><td> yes</td><td> no </td><td> 0</td><td>223.4</td><td> 98</td><td>37.98</td><td>...</td><td>101</td><td>18.75</td><td>203.9</td><td>118</td><td> 9.18</td><td> 6.3</td><td>6</td><td>1.70</td><td>0</td><td>0</td></tr>\n",
       "</tbody>\n",
       "</table>\n"
      ],
      "text/latex": [
       "A data.frame: 6 × 21\n",
       "\\begin{tabular}{r|lllllllllllllllllllll}\n",
       "  & State & Account.Length & Area.Code & Phone & International.Plan & vMail.Plan & vMail.Message & Day.Mins & Day.Calls & Day.Charge & ... & Eve.Calls & Eve.Charge & Night.Mins & Night.Calls & Night.Charge & International.Mins & International.Calls & International.Charge & CustServ.Calls & Churn\\\\\n",
       "  & <chr> & <int> & <int> & <chr> & <chr> & <chr> & <int> & <dbl> & <int> & <dbl> & ... & <int> & <dbl> & <dbl> & <int> & <dbl> & <dbl> & <int> & <dbl> & <int> & <int>\\\\\n",
       "\\hline\n",
       "\t1 & KS & 128 & 415 &  382-4657 &  no  &  yes & 25 & 265.1 & 110 & 45.07 & ... &  99 & 16.78 & 244.7 &  91 & 11.01 & 10.0 & 3 & 2.70 & 1 & 0\\\\\n",
       "\t2 & OH & 107 & 415 &  371-7191 &  no  &  yes & 26 & 161.6 & 123 & 27.47 & ... & 103 & 16.62 & 254.4 & 103 & 11.45 & 13.7 & 3 & 3.70 & 1 & 0\\\\\n",
       "\t3 & NJ & 137 & 415 &  358-1921 &  no  &  no  &  0 & 243.4 & 114 & 41.38 & ... & 110 & 10.30 & 162.6 & 104 &  7.32 & 12.2 & 5 & 3.29 & 0 & 0\\\\\n",
       "\t4 & OH &  84 & 408 &  375-9999 &  yes &  no  &  0 & 299.4 &  71 & 50.90 & ... &  88 &  5.26 & 196.9 &  89 &  8.86 &  6.6 & 7 & 1.78 & 2 & 0\\\\\n",
       "\t5 & OK &  75 & 415 &  330-6626 &  yes &  no  &  0 & 166.7 & 113 & 28.34 & ... & 122 & 12.61 & 186.9 & 121 &  8.41 & 10.1 & 3 & 2.73 & 3 & 0\\\\\n",
       "\t6 & AL & 118 & 510 &  391-8027 &  yes &  no  &  0 & 223.4 &  98 & 37.98 & ... & 101 & 18.75 & 203.9 & 118 &  9.18 &  6.3 & 6 & 1.70 & 0 & 0\\\\\n",
       "\\end{tabular}\n"
      ],
      "text/markdown": [
       "\n",
       "A data.frame: 6 × 21\n",
       "\n",
       "| <!--/--> | State &lt;chr&gt; | Account.Length &lt;int&gt; | Area.Code &lt;int&gt; | Phone &lt;chr&gt; | International.Plan &lt;chr&gt; | vMail.Plan &lt;chr&gt; | vMail.Message &lt;int&gt; | Day.Mins &lt;dbl&gt; | Day.Calls &lt;int&gt; | Day.Charge &lt;dbl&gt; | ... ... | Eve.Calls &lt;int&gt; | Eve.Charge &lt;dbl&gt; | Night.Mins &lt;dbl&gt; | Night.Calls &lt;int&gt; | Night.Charge &lt;dbl&gt; | International.Mins &lt;dbl&gt; | International.Calls &lt;int&gt; | International.Charge &lt;dbl&gt; | CustServ.Calls &lt;int&gt; | Churn &lt;int&gt; |\n",
       "|---|---|---|---|---|---|---|---|---|---|---|---|---|---|---|---|---|---|---|---|---|---|\n",
       "| 1 | KS | 128 | 415 |  382-4657 |  no  |  yes | 25 | 265.1 | 110 | 45.07 | ... |  99 | 16.78 | 244.7 |  91 | 11.01 | 10.0 | 3 | 2.70 | 1 | 0 |\n",
       "| 2 | OH | 107 | 415 |  371-7191 |  no  |  yes | 26 | 161.6 | 123 | 27.47 | ... | 103 | 16.62 | 254.4 | 103 | 11.45 | 13.7 | 3 | 3.70 | 1 | 0 |\n",
       "| 3 | NJ | 137 | 415 |  358-1921 |  no  |  no  |  0 | 243.4 | 114 | 41.38 | ... | 110 | 10.30 | 162.6 | 104 |  7.32 | 12.2 | 5 | 3.29 | 0 | 0 |\n",
       "| 4 | OH |  84 | 408 |  375-9999 |  yes |  no  |  0 | 299.4 |  71 | 50.90 | ... |  88 |  5.26 | 196.9 |  89 |  8.86 |  6.6 | 7 | 1.78 | 2 | 0 |\n",
       "| 5 | OK |  75 | 415 |  330-6626 |  yes |  no  |  0 | 166.7 | 113 | 28.34 | ... | 122 | 12.61 | 186.9 | 121 |  8.41 | 10.1 | 3 | 2.73 | 3 | 0 |\n",
       "| 6 | AL | 118 | 510 |  391-8027 |  yes |  no  |  0 | 223.4 |  98 | 37.98 | ... | 101 | 18.75 | 203.9 | 118 |  9.18 |  6.3 | 6 | 1.70 | 0 | 0 |\n",
       "\n"
      ],
      "text/plain": [
       "  State Account.Length Area.Code Phone     International.Plan vMail.Plan\n",
       "1 KS    128            415        382-4657  no                 yes      \n",
       "2 OH    107            415        371-7191  no                 yes      \n",
       "3 NJ    137            415        358-1921  no                 no       \n",
       "4 OH     84            408        375-9999  yes                no       \n",
       "5 OK     75            415        330-6626  yes                no       \n",
       "6 AL    118            510        391-8027  yes                no       \n",
       "  vMail.Message Day.Mins Day.Calls Day.Charge ... Eve.Calls Eve.Charge\n",
       "1 25            265.1    110       45.07      ...  99       16.78     \n",
       "2 26            161.6    123       27.47      ... 103       16.62     \n",
       "3  0            243.4    114       41.38      ... 110       10.30     \n",
       "4  0            299.4     71       50.90      ...  88        5.26     \n",
       "5  0            166.7    113       28.34      ... 122       12.61     \n",
       "6  0            223.4     98       37.98      ... 101       18.75     \n",
       "  Night.Mins Night.Calls Night.Charge International.Mins International.Calls\n",
       "1 244.7       91         11.01        10.0               3                  \n",
       "2 254.4      103         11.45        13.7               3                  \n",
       "3 162.6      104          7.32        12.2               5                  \n",
       "4 196.9       89          8.86         6.6               7                  \n",
       "5 186.9      121          8.41        10.1               3                  \n",
       "6 203.9      118          9.18         6.3               6                  \n",
       "  International.Charge CustServ.Calls Churn\n",
       "1 2.70                 1              0    \n",
       "2 3.70                 1              0    \n",
       "3 3.29                 0              0    \n",
       "4 1.78                 2              0    \n",
       "5 2.73                 3              0    \n",
       "6 1.70                 0              0    "
      ]
     },
     "metadata": {},
     "output_type": "display_data"
    }
   ],
   "source": [
    "head(data)"
   ]
  },
  {
   "cell_type": "code",
   "execution_count": 6,
   "id": "59dd416d-3cc7-4278-9726-51a6d17f7812",
   "metadata": {},
   "outputs": [
    {
     "data": {
      "image/png": "[encoded data removed]",
      "text/plain": [
       "Plot with title \"\""
      ]
     },
     "metadata": {
      "image/png": {
       "height": 420,
       "width": 420
      }
     },
     "output_type": "display_data"
    }
   ],
   "source": [
    "plotNormalHistogram(data$Night.Mins)"
   ]
  },
  {
   "cell_type": "code",
   "execution_count": 7,
   "id": "87110f94-a8f3-4477-b75e-2b2aaed3213c",
   "metadata": {},
   "outputs": [],
   "source": [
    "## looks approx normally distributed"
   ]
  },
  {
   "cell_type": "code",
   "execution_count": 8,
   "id": "d1343466-7055-4254-bc8a-9042af96e3c9",
   "metadata": {},
   "outputs": [
    {
     "name": "stderr",
     "output_type": "stream",
     "text": [
      "Warning message in leveneTest.default(y = y, group = group, ...):\n",
      "\"group coerced to factor.\"\n"
     ]
    },
    {
     "data": {
      "text/html": [
       "<table class=\"dataframe\">\n",
       "<caption>A anova: 2 × 3</caption>\n",
       "<thead>\n",
       "\t<tr><th></th><th scope=col>Df</th><th scope=col>F value</th><th scope=col>Pr(&gt;F)</th></tr>\n",
       "\t<tr><th></th><th scope=col>&lt;int&gt;</th><th scope=col>&lt;dbl&gt;</th><th scope=col>&lt;dbl&gt;</th></tr>\n",
       "</thead>\n",
       "<tbody>\n",
       "\t<tr><th scope=row>group</th><td>   1</td><td>0.8645784</td><td>0.3525092</td></tr>\n",
       "\t<tr><th scope=row> </th><td>4615</td><td>       NA</td><td>       NA</td></tr>\n",
       "</tbody>\n",
       "</table>\n"
      ],
      "text/latex": [
       "A anova: 2 × 3\n",
       "\\begin{tabular}{r|lll}\n",
       "  & Df & F value & Pr(>F)\\\\\n",
       "  & <int> & <dbl> & <dbl>\\\\\n",
       "\\hline\n",
       "\tgroup &    1 & 0.8645784 & 0.3525092\\\\\n",
       "\t  & 4615 &        NA &        NA\\\\\n",
       "\\end{tabular}\n"
      ],
      "text/markdown": [
       "\n",
       "A anova: 2 × 3\n",
       "\n",
       "| <!--/--> | Df &lt;int&gt; | F value &lt;dbl&gt; | Pr(&gt;F) &lt;dbl&gt; |\n",
       "|---|---|---|---|\n",
       "| group |    1 | 0.8645784 | 0.3525092 |\n",
       "| <!----> | 4615 |        NA |        NA |\n",
       "\n"
      ],
      "text/plain": [
       "      Df   F value   Pr(>F)   \n",
       "group    1 0.8645784 0.3525092\n",
       "      4615        NA        NA"
      ]
     },
     "metadata": {},
     "output_type": "display_data"
    }
   ],
   "source": [
    "leveneTest(Night.Mins ~ International.Plan, data = data)"
   ]
  },
  {
   "cell_type": "code",
   "execution_count": 9,
   "id": "afab9796-7b79-47bb-bd5c-5e127d118fed",
   "metadata": {},
   "outputs": [],
   "source": [
    "## test shows no significance aka assumption of homogeneity of variance has been met"
   ]
  },
  {
   "cell_type": "code",
   "execution_count": 10,
   "id": "f3e8f17b-4113-4e2f-8600-8f70c2c30390",
   "metadata": {},
   "outputs": [],
   "source": [
    "lin = lm(Night.Mins ~ vMail.Plan, data = data)"
   ]
  },
  {
   "cell_type": "code",
   "execution_count": 11,
   "id": "6aa0149f-f848-49aa-80cb-904b59d03d1e",
   "metadata": {},
   "outputs": [
    {
     "data": {
      "text/html": [
       "<table class=\"dataframe\">\n",
       "<caption>A anova: 2 × 5</caption>\n",
       "<thead>\n",
       "\t<tr><th></th><th scope=col>Df</th><th scope=col>Sum Sq</th><th scope=col>Mean Sq</th><th scope=col>F value</th><th scope=col>Pr(&gt;F)</th></tr>\n",
       "\t<tr><th></th><th scope=col>&lt;int&gt;</th><th scope=col>&lt;dbl&gt;</th><th scope=col>&lt;dbl&gt;</th><th scope=col>&lt;dbl&gt;</th><th scope=col>&lt;dbl&gt;</th></tr>\n",
       "</thead>\n",
       "<tbody>\n",
       "\t<tr><th scope=row>vMail.Plan</th><td>   1</td><td>4.877302e+02</td><td> 487.7302</td><td>0.1908846</td><td>0.6622018</td></tr>\n",
       "\t<tr><th scope=row>Residuals</th><td>4615</td><td>1.179181e+07</td><td>2555.1049</td><td>       NA</td><td>       NA</td></tr>\n",
       "</tbody>\n",
       "</table>\n"
      ],
      "text/latex": [
       "A anova: 2 × 5\n",
       "\\begin{tabular}{r|lllll}\n",
       "  & Df & Sum Sq & Mean Sq & F value & Pr(>F)\\\\\n",
       "  & <int> & <dbl> & <dbl> & <dbl> & <dbl>\\\\\n",
       "\\hline\n",
       "\tvMail.Plan &    1 & 4.877302e+02 &  487.7302 & 0.1908846 & 0.6622018\\\\\n",
       "\tResiduals & 4615 & 1.179181e+07 & 2555.1049 &        NA &        NA\\\\\n",
       "\\end{tabular}\n"
      ],
      "text/markdown": [
       "\n",
       "A anova: 2 × 5\n",
       "\n",
       "| <!--/--> | Df &lt;int&gt; | Sum Sq &lt;dbl&gt; | Mean Sq &lt;dbl&gt; | F value &lt;dbl&gt; | Pr(&gt;F) &lt;dbl&gt; |\n",
       "|---|---|---|---|---|---|\n",
       "| vMail.Plan |    1 | 4.877302e+02 |  487.7302 | 0.1908846 | 0.6622018 |\n",
       "| Residuals | 4615 | 1.179181e+07 | 2555.1049 |        NA |        NA |\n",
       "\n"
      ],
      "text/plain": [
       "           Df   Sum Sq       Mean Sq   F value   Pr(>F)   \n",
       "vMail.Plan    1 4.877302e+02  487.7302 0.1908846 0.6622018\n",
       "Residuals  4615 1.179181e+07 2555.1049        NA        NA"
      ]
     },
     "metadata": {},
     "output_type": "display_data"
    }
   ],
   "source": [
    "anova(lin)"
   ]
  },
  {
   "cell_type": "code",
   "execution_count": 12,
   "id": "f0513b65-d441-4aff-af7f-5712aca07951",
   "metadata": {},
   "outputs": [],
   "source": [
    "## test shows no significance aka assumption of homogeneity of regression slops has been met"
   ]
  },
  {
   "cell_type": "code",
   "execution_count": 13,
   "id": "afac06cf-f547-4edc-baec-e4469290be59",
   "metadata": {},
   "outputs": [
    {
     "data": {
      "text/html": [
       "<table class=\"dataframe\">\n",
       "<caption>A anova: 4 × 5</caption>\n",
       "<thead>\n",
       "\t<tr><th></th><th scope=col>Df</th><th scope=col>Sum Sq</th><th scope=col>Mean Sq</th><th scope=col>F value</th><th scope=col>Pr(&gt;F)</th></tr>\n",
       "\t<tr><th></th><th scope=col>&lt;int&gt;</th><th scope=col>&lt;dbl&gt;</th><th scope=col>&lt;dbl&gt;</th><th scope=col>&lt;dbl&gt;</th><th scope=col>&lt;dbl&gt;</th></tr>\n",
       "</thead>\n",
       "<tbody>\n",
       "\t<tr><th scope=row>vMail.Plan</th><td>   1</td><td>4.877302e+02</td><td> 487.7302</td><td>0.1909381</td><td>0.66215744</td></tr>\n",
       "\t<tr><th scope=row>International.Plan</th><td>   1</td><td>7.978627e+03</td><td>7978.6270</td><td>3.1234975</td><td>0.07723709</td></tr>\n",
       "\t<tr><th scope=row>vMail.Plan:International.Plan</th><td>   1</td><td>4.349520e+02</td><td> 434.9520</td><td>0.1702763</td><td>0.67988552</td></tr>\n",
       "\t<tr><th scope=row>Residuals</th><td>4613</td><td>1.178340e+07</td><td>2554.3888</td><td>       NA</td><td>        NA</td></tr>\n",
       "</tbody>\n",
       "</table>\n"
      ],
      "text/latex": [
       "A anova: 4 × 5\n",
       "\\begin{tabular}{r|lllll}\n",
       "  & Df & Sum Sq & Mean Sq & F value & Pr(>F)\\\\\n",
       "  & <int> & <dbl> & <dbl> & <dbl> & <dbl>\\\\\n",
       "\\hline\n",
       "\tvMail.Plan &    1 & 4.877302e+02 &  487.7302 & 0.1909381 & 0.66215744\\\\\n",
       "\tInternational.Plan &    1 & 7.978627e+03 & 7978.6270 & 3.1234975 & 0.07723709\\\\\n",
       "\tvMail.Plan:International.Plan &    1 & 4.349520e+02 &  434.9520 & 0.1702763 & 0.67988552\\\\\n",
       "\tResiduals & 4613 & 1.178340e+07 & 2554.3888 &        NA &         NA\\\\\n",
       "\\end{tabular}\n"
      ],
      "text/markdown": [
       "\n",
       "A anova: 4 × 5\n",
       "\n",
       "| <!--/--> | Df &lt;int&gt; | Sum Sq &lt;dbl&gt; | Mean Sq &lt;dbl&gt; | F value &lt;dbl&gt; | Pr(&gt;F) &lt;dbl&gt; |\n",
       "|---|---|---|---|---|---|\n",
       "| vMail.Plan |    1 | 4.877302e+02 |  487.7302 | 0.1909381 | 0.66215744 |\n",
       "| International.Plan |    1 | 7.978627e+03 | 7978.6270 | 3.1234975 | 0.07723709 |\n",
       "| vMail.Plan:International.Plan |    1 | 4.349520e+02 |  434.9520 | 0.1702763 | 0.67988552 |\n",
       "| Residuals | 4613 | 1.178340e+07 | 2554.3888 |        NA |         NA |\n",
       "\n"
      ],
      "text/plain": [
       "                              Df   Sum Sq       Mean Sq   F value   Pr(>F)    \n",
       "vMail.Plan                       1 4.877302e+02  487.7302 0.1909381 0.66215744\n",
       "International.Plan               1 7.978627e+03 7978.6270 3.1234975 0.07723709\n",
       "vMail.Plan:International.Plan    1 4.349520e+02  434.9520 0.1702763 0.67988552\n",
       "Residuals                     4613 1.178340e+07 2554.3888        NA         NA"
      ]
     },
     "metadata": {},
     "output_type": "display_data"
    }
   ],
   "source": [
    "ANCOVA = lm(Night.Mins~vMail.Plan + International.Plan*vMail.Plan, data= data)\n",
    "anova(ANCOVA)"
   ]
  },
  {
   "cell_type": "code",
   "execution_count": null,
   "id": "d55becf0-eb04-4164-88e6-018e59069305",
   "metadata": {},
   "outputs": [],
   "source": []
  }
 ],
 "metadata": {
  "kernelspec": {
   "display_name": "R",
   "language": "R",
   "name": "ir"
  },
  "language_info": {
   "codemirror_mode": "r",
   "file_extension": ".r",
   "mimetype": "text/x-r-source",
   "name": "R",
   "pygments_lexer": "r",
   "version": "4.1.0"
  }
 },
 "nbformat": 4,
 "nbformat_minor": 5
}
