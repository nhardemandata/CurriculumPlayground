{
 "cells": [
  {
   "cell_type": "markdown",
   "id": "6c75e841-50d4-40e3-9f86-71cad3afadbd",
   "metadata": {},
   "source": [
    "# DSO105 Intermediate Stats L6.ipynb"
   ]
  },
  {
   "cell_type": "markdown",
   "id": "0d4b5fc8-9fe9-41ee-be71-f59223f9efda",
   "metadata": {},
   "source": [
    "## Mixed Measures ANOVAs"
   ]
  },
  {
   "cell_type": "code",
   "execution_count": 1,
   "id": "1e2e6c79-2e2d-4db3-b954-aea14a32fc53",
   "metadata": {},
   "outputs": [],
   "source": [
    "#### Page 1 intro video"
   ]
  },
  {
   "cell_type": "code",
   "execution_count": 3,
   "id": "ed7d9d70-5a93-446b-934d-0bf1f915fb67",
   "metadata": {},
   "outputs": [],
   "source": [
    "## measure differences in categories and changes over time\n",
    "## utilizes between subjects, and within subjects design in a single analysis"
   ]
  },
  {
   "cell_type": "code",
   "execution_count": 4,
   "id": "b29afa17-6b12-48bb-95b3-887461c75f6b",
   "metadata": {},
   "outputs": [],
   "source": [
    "#### Page 2\n",
    "### begins with video"
   ]
  },
  {
   "cell_type": "code",
   "execution_count": 6,
   "id": "69fbde99-7c4f-4677-9ea2-86cd38c329bc",
   "metadata": {},
   "outputs": [
    {
     "name": "stderr",
     "output_type": "stream",
     "text": [
      "-- \u001b[1mAttaching packages\u001b[22m ------------------------------------------------------------------------------- tidyverse 1.3.1 --\n",
      "\n",
      "\u001b[32mv\u001b[39m \u001b[34mggplot2\u001b[39m 3.3.5     \u001b[32mv\u001b[39m \u001b[34mpurrr  \u001b[39m 0.3.4\n",
      "\u001b[32mv\u001b[39m \u001b[34mtibble \u001b[39m 3.1.2     \u001b[32mv\u001b[39m \u001b[34mdplyr  \u001b[39m 1.0.6\n",
      "\u001b[32mv\u001b[39m \u001b[34mtidyr  \u001b[39m 1.1.3     \u001b[32mv\u001b[39m \u001b[34mstringr\u001b[39m 1.4.0\n",
      "\u001b[32mv\u001b[39m \u001b[34mreadr  \u001b[39m 1.4.0     \u001b[32mv\u001b[39m \u001b[34mforcats\u001b[39m 0.5.1\n",
      "\n",
      "-- \u001b[1mConflicts\u001b[22m ---------------------------------------------------------------------------------- tidyverse_conflicts() --\n",
      "\u001b[31mx\u001b[39m \u001b[34mdplyr\u001b[39m::\u001b[32mfilter()\u001b[39m masks \u001b[34mstats\u001b[39m::filter()\n",
      "\u001b[31mx\u001b[39m \u001b[34mdplyr\u001b[39m::\u001b[32mlag()\u001b[39m    masks \u001b[34mstats\u001b[39m::lag()\n",
      "\n",
      "Loading required package: carData\n",
      "\n",
      "\n",
      "Attaching package: 'car'\n",
      "\n",
      "\n",
      "The following object is masked from 'package:dplyr':\n",
      "\n",
      "    recode\n",
      "\n",
      "\n",
      "The following object is masked from 'package:purrr':\n",
      "\n",
      "    some\n",
      "\n",
      "\n"
     ]
    }
   ],
   "source": [
    "## libraries\n",
    "library(tidyverse)\n",
    "library(rcompanion)\n",
    "library(car)"
   ]
  },
  {
   "cell_type": "code",
   "execution_count": null,
   "id": "4b91f3b3-8985-4ae4-9cb5-9de2283c019a",
   "metadata": {},
   "outputs": [],
   "source": []
  },
  {
   "cell_type": "code",
   "execution_count": null,
   "id": "d9af927c-3677-4d7a-bc2f-49d69ba53b34",
   "metadata": {},
   "outputs": [],
   "source": []
  },
  {
   "cell_type": "code",
   "execution_count": null,
   "id": "8dcc3c7d-ca21-474a-82cc-337e85cda2ac",
   "metadata": {},
   "outputs": [],
   "source": []
  },
  {
   "cell_type": "code",
   "execution_count": null,
   "id": "5ab91b4c-7a10-4d8e-9df0-0a0b2116e491",
   "metadata": {},
   "outputs": [],
   "source": []
  },
  {
   "cell_type": "code",
   "execution_count": null,
   "id": "b1ea06d5-3945-4e56-8c48-40657d123eb7",
   "metadata": {},
   "outputs": [],
   "source": []
  },
  {
   "cell_type": "code",
   "execution_count": 7,
   "id": "35f8c40c-fc0e-476e-b269-553bdb78490e",
   "metadata": {},
   "outputs": [],
   "source": [
    "## data\n",
    "data = read.csv('../../datasets/breakfast.csv')"
   ]
  },
  {
   "cell_type": "code",
   "execution_count": 9,
   "id": "6b4490c3-cda6-4603-bcb8-d8a9a309b3b0",
   "metadata": {},
   "outputs": [
    {
     "data": {
      "text/html": [
       "<table class=\"dataframe\">\n",
       "<caption>A data.frame: 6 × 141</caption>\n",
       "<thead>\n",
       "\t<tr><th></th><th scope=col>Participant.Code</th><th scope=col>Treatment.Group</th><th scope=col>Age..y.</th><th scope=col>Sex</th><th scope=col>Height..m.</th><th scope=col>Baseline.Body.Mass..kg.</th><th scope=col>Follow.Up.Body.Mass..kg.</th><th scope=col>Baseline.Lean.Tissue.Mass..kg.</th><th scope=col>Follow.Up.Lean.Tissue.Mass..kg.</th><th scope=col>Baseline.Adipose.Tissue.Mass..kg.</th><th scope=col>...</th><th scope=col>Week.1.Mean.Afternoon.Evening.Interstitial.Glucose..mmol.l.</th><th scope=col>Week.6.Mean.Afternoon.Evening.Interstitial.Glucose..mmol.l.</th><th scope=col>Week.1.CV.Afternoon.Evening.Interstitial.Glucose....</th><th scope=col>Week.6.CV.Afternoon.Evening.Interstitial.Glucose....</th><th scope=col>Week.1.Peak.Sleeping.Interstitial.Glucose..mmol.l.</th><th scope=col>Week.6.Peak.Sleeping.Interstitial.Glucose..mmol.l.</th><th scope=col>Week.1.Mean.Sleeping.Interstitial.Glucose..mmol.l.</th><th scope=col>Week.6.Mean.Sleeping.Interstitial.Glucose..mmol.l.</th><th scope=col>Week.1.CV.Sleeping.Interstitial.Glucose....</th><th scope=col>Week.6.CV.Sleeping.Interstitial.Glucose....</th></tr>\n",
       "\t<tr><th></th><th scope=col>&lt;int&gt;</th><th scope=col>&lt;chr&gt;</th><th scope=col>&lt;int&gt;</th><th scope=col>&lt;chr&gt;</th><th scope=col>&lt;dbl&gt;</th><th scope=col>&lt;dbl&gt;</th><th scope=col>&lt;dbl&gt;</th><th scope=col>&lt;dbl&gt;</th><th scope=col>&lt;dbl&gt;</th><th scope=col>&lt;dbl&gt;</th><th scope=col>...</th><th scope=col>&lt;dbl&gt;</th><th scope=col>&lt;dbl&gt;</th><th scope=col>&lt;dbl&gt;</th><th scope=col>&lt;dbl&gt;</th><th scope=col>&lt;dbl&gt;</th><th scope=col>&lt;dbl&gt;</th><th scope=col>&lt;dbl&gt;</th><th scope=col>&lt;dbl&gt;</th><th scope=col>&lt;dbl&gt;</th><th scope=col>&lt;dbl&gt;</th></tr>\n",
       "</thead>\n",
       "<tbody>\n",
       "\t<tr><th scope=row>1</th><td> 2</td><td>Fasting</td><td>27</td><td>Female</td><td>1.75</td><td>71.5</td><td>71.1</td><td>51.8</td><td>52.4</td><td>15.1</td><td>...</td><td>5.5</td><td>5.2</td><td>13.8</td><td>14.7</td><td>6.5</td><td>7.8</td><td>5.2</td><td>5.6</td><td> 9.0</td><td>15.7</td></tr>\n",
       "\t<tr><th scope=row>2</th><td> 4</td><td>Fasting</td><td>25</td><td>Female</td><td>1.72</td><td>74.6</td><td>73.8</td><td>50.4</td><td>51.7</td><td>21.0</td><td>...</td><td>5.7</td><td>5.8</td><td> 9.0</td><td>11.0</td><td>6.3</td><td>6.8</td><td>5.6</td><td>5.6</td><td> 6.9</td><td> 9.1</td></tr>\n",
       "\t<tr><th scope=row>3</th><td>11</td><td>Fasting</td><td>44</td><td>Male  </td><td>1.64</td><td>68.0</td><td>68.1</td><td>46.7</td><td>47.0</td><td>17.9</td><td>...</td><td>5.7</td><td>5.4</td><td>17.4</td><td>12.6</td><td>7.1</td><td>7.5</td><td>5.6</td><td>5.5</td><td>11.6</td><td>13.1</td></tr>\n",
       "\t<tr><th scope=row>4</th><td>14</td><td>Fasting</td><td>36</td><td>Female</td><td>1.68</td><td>57.0</td><td>57.3</td><td>41.0</td><td>41.9</td><td>13.6</td><td>...</td><td>5.2</td><td>5.2</td><td>16.7</td><td>16.4</td><td>7.3</td><td>7.7</td><td>5.2</td><td>5.5</td><td>11.0</td><td>10.1</td></tr>\n",
       "\t<tr><th scope=row>5</th><td>16</td><td>Fasting</td><td>28</td><td>Female</td><td>1.64</td><td>49.4</td><td>49.0</td><td>36.4</td><td>35.9</td><td>10.1</td><td>...</td><td>4.7</td><td>5.1</td><td>12.7</td><td>15.6</td><td>6.2</td><td>9.4</td><td>4.9</td><td>5.3</td><td> 9.2</td><td>17.7</td></tr>\n",
       "\t<tr><th scope=row>6</th><td>19</td><td>Fasting</td><td>38</td><td>Male  </td><td>1.74</td><td>64.3</td><td>64.0</td><td>50.0</td><td>49.3</td><td>11.1</td><td>...</td><td>5.3</td><td>5.5</td><td>19.8</td><td>14.7</td><td>6.8</td><td>6.9</td><td>4.9</td><td>5.4</td><td>15.8</td><td> 8.7</td></tr>\n",
       "</tbody>\n",
       "</table>\n"
      ],
      "text/latex": [
       "A data.frame: 6 × 141\n",
       "\\begin{tabular}{r|lllllllllllllllllllll}\n",
       "  & Participant.Code & Treatment.Group & Age..y. & Sex & Height..m. & Baseline.Body.Mass..kg. & Follow.Up.Body.Mass..kg. & Baseline.Lean.Tissue.Mass..kg. & Follow.Up.Lean.Tissue.Mass..kg. & Baseline.Adipose.Tissue.Mass..kg. & ... & Week.1.Mean.Afternoon.Evening.Interstitial.Glucose..mmol.l. & Week.6.Mean.Afternoon.Evening.Interstitial.Glucose..mmol.l. & Week.1.CV.Afternoon.Evening.Interstitial.Glucose.... & Week.6.CV.Afternoon.Evening.Interstitial.Glucose.... & Week.1.Peak.Sleeping.Interstitial.Glucose..mmol.l. & Week.6.Peak.Sleeping.Interstitial.Glucose..mmol.l. & Week.1.Mean.Sleeping.Interstitial.Glucose..mmol.l. & Week.6.Mean.Sleeping.Interstitial.Glucose..mmol.l. & Week.1.CV.Sleeping.Interstitial.Glucose.... & Week.6.CV.Sleeping.Interstitial.Glucose....\\\\\n",
       "  & <int> & <chr> & <int> & <chr> & <dbl> & <dbl> & <dbl> & <dbl> & <dbl> & <dbl> & ... & <dbl> & <dbl> & <dbl> & <dbl> & <dbl> & <dbl> & <dbl> & <dbl> & <dbl> & <dbl>\\\\\n",
       "\\hline\n",
       "\t1 &  2 & Fasting & 27 & Female & 1.75 & 71.5 & 71.1 & 51.8 & 52.4 & 15.1 & ... & 5.5 & 5.2 & 13.8 & 14.7 & 6.5 & 7.8 & 5.2 & 5.6 &  9.0 & 15.7\\\\\n",
       "\t2 &  4 & Fasting & 25 & Female & 1.72 & 74.6 & 73.8 & 50.4 & 51.7 & 21.0 & ... & 5.7 & 5.8 &  9.0 & 11.0 & 6.3 & 6.8 & 5.6 & 5.6 &  6.9 &  9.1\\\\\n",
       "\t3 & 11 & Fasting & 44 & Male   & 1.64 & 68.0 & 68.1 & 46.7 & 47.0 & 17.9 & ... & 5.7 & 5.4 & 17.4 & 12.6 & 7.1 & 7.5 & 5.6 & 5.5 & 11.6 & 13.1\\\\\n",
       "\t4 & 14 & Fasting & 36 & Female & 1.68 & 57.0 & 57.3 & 41.0 & 41.9 & 13.6 & ... & 5.2 & 5.2 & 16.7 & 16.4 & 7.3 & 7.7 & 5.2 & 5.5 & 11.0 & 10.1\\\\\n",
       "\t5 & 16 & Fasting & 28 & Female & 1.64 & 49.4 & 49.0 & 36.4 & 35.9 & 10.1 & ... & 4.7 & 5.1 & 12.7 & 15.6 & 6.2 & 9.4 & 4.9 & 5.3 &  9.2 & 17.7\\\\\n",
       "\t6 & 19 & Fasting & 38 & Male   & 1.74 & 64.3 & 64.0 & 50.0 & 49.3 & 11.1 & ... & 5.3 & 5.5 & 19.8 & 14.7 & 6.8 & 6.9 & 4.9 & 5.4 & 15.8 &  8.7\\\\\n",
       "\\end{tabular}\n"
      ],
      "text/markdown": [
       "\n",
       "A data.frame: 6 × 141\n",
       "\n",
       "| <!--/--> | Participant.Code &lt;int&gt; | Treatment.Group &lt;chr&gt; | Age..y. &lt;int&gt; | Sex &lt;chr&gt; | Height..m. &lt;dbl&gt; | Baseline.Body.Mass..kg. &lt;dbl&gt; | Follow.Up.Body.Mass..kg. &lt;dbl&gt; | Baseline.Lean.Tissue.Mass..kg. &lt;dbl&gt; | Follow.Up.Lean.Tissue.Mass..kg. &lt;dbl&gt; | Baseline.Adipose.Tissue.Mass..kg. &lt;dbl&gt; | ... ... | Week.1.Mean.Afternoon.Evening.Interstitial.Glucose..mmol.l. &lt;dbl&gt; | Week.6.Mean.Afternoon.Evening.Interstitial.Glucose..mmol.l. &lt;dbl&gt; | Week.1.CV.Afternoon.Evening.Interstitial.Glucose.... &lt;dbl&gt; | Week.6.CV.Afternoon.Evening.Interstitial.Glucose.... &lt;dbl&gt; | Week.1.Peak.Sleeping.Interstitial.Glucose..mmol.l. &lt;dbl&gt; | Week.6.Peak.Sleeping.Interstitial.Glucose..mmol.l. &lt;dbl&gt; | Week.1.Mean.Sleeping.Interstitial.Glucose..mmol.l. &lt;dbl&gt; | Week.6.Mean.Sleeping.Interstitial.Glucose..mmol.l. &lt;dbl&gt; | Week.1.CV.Sleeping.Interstitial.Glucose.... &lt;dbl&gt; | Week.6.CV.Sleeping.Interstitial.Glucose.... &lt;dbl&gt; |\n",
       "|---|---|---|---|---|---|---|---|---|---|---|---|---|---|---|---|---|---|---|---|---|---|\n",
       "| 1 |  2 | Fasting | 27 | Female | 1.75 | 71.5 | 71.1 | 51.8 | 52.4 | 15.1 | ... | 5.5 | 5.2 | 13.8 | 14.7 | 6.5 | 7.8 | 5.2 | 5.6 |  9.0 | 15.7 |\n",
       "| 2 |  4 | Fasting | 25 | Female | 1.72 | 74.6 | 73.8 | 50.4 | 51.7 | 21.0 | ... | 5.7 | 5.8 |  9.0 | 11.0 | 6.3 | 6.8 | 5.6 | 5.6 |  6.9 |  9.1 |\n",
       "| 3 | 11 | Fasting | 44 | Male   | 1.64 | 68.0 | 68.1 | 46.7 | 47.0 | 17.9 | ... | 5.7 | 5.4 | 17.4 | 12.6 | 7.1 | 7.5 | 5.6 | 5.5 | 11.6 | 13.1 |\n",
       "| 4 | 14 | Fasting | 36 | Female | 1.68 | 57.0 | 57.3 | 41.0 | 41.9 | 13.6 | ... | 5.2 | 5.2 | 16.7 | 16.4 | 7.3 | 7.7 | 5.2 | 5.5 | 11.0 | 10.1 |\n",
       "| 5 | 16 | Fasting | 28 | Female | 1.64 | 49.4 | 49.0 | 36.4 | 35.9 | 10.1 | ... | 4.7 | 5.1 | 12.7 | 15.6 | 6.2 | 9.4 | 4.9 | 5.3 |  9.2 | 17.7 |\n",
       "| 6 | 19 | Fasting | 38 | Male   | 1.74 | 64.3 | 64.0 | 50.0 | 49.3 | 11.1 | ... | 5.3 | 5.5 | 19.8 | 14.7 | 6.8 | 6.9 | 4.9 | 5.4 | 15.8 |  8.7 |\n",
       "\n"
      ],
      "text/plain": [
       "  Participant.Code Treatment.Group Age..y. Sex    Height..m.\n",
       "1  2               Fasting         27      Female 1.75      \n",
       "2  4               Fasting         25      Female 1.72      \n",
       "3 11               Fasting         44      Male   1.64      \n",
       "4 14               Fasting         36      Female 1.68      \n",
       "5 16               Fasting         28      Female 1.64      \n",
       "6 19               Fasting         38      Male   1.74      \n",
       "  Baseline.Body.Mass..kg. Follow.Up.Body.Mass..kg.\n",
       "1 71.5                    71.1                    \n",
       "2 74.6                    73.8                    \n",
       "3 68.0                    68.1                    \n",
       "4 57.0                    57.3                    \n",
       "5 49.4                    49.0                    \n",
       "6 64.3                    64.0                    \n",
       "  Baseline.Lean.Tissue.Mass..kg. Follow.Up.Lean.Tissue.Mass..kg.\n",
       "1 51.8                           52.4                           \n",
       "2 50.4                           51.7                           \n",
       "3 46.7                           47.0                           \n",
       "4 41.0                           41.9                           \n",
       "5 36.4                           35.9                           \n",
       "6 50.0                           49.3                           \n",
       "  Baseline.Adipose.Tissue.Mass..kg. ...\n",
       "1 15.1                              ...\n",
       "2 21.0                              ...\n",
       "3 17.9                              ...\n",
       "4 13.6                              ...\n",
       "5 10.1                              ...\n",
       "6 11.1                              ...\n",
       "  Week.1.Mean.Afternoon.Evening.Interstitial.Glucose..mmol.l.\n",
       "1 5.5                                                        \n",
       "2 5.7                                                        \n",
       "3 5.7                                                        \n",
       "4 5.2                                                        \n",
       "5 4.7                                                        \n",
       "6 5.3                                                        \n",
       "  Week.6.Mean.Afternoon.Evening.Interstitial.Glucose..mmol.l.\n",
       "1 5.2                                                        \n",
       "2 5.8                                                        \n",
       "3 5.4                                                        \n",
       "4 5.2                                                        \n",
       "5 5.1                                                        \n",
       "6 5.5                                                        \n",
       "  Week.1.CV.Afternoon.Evening.Interstitial.Glucose....\n",
       "1 13.8                                                \n",
       "2  9.0                                                \n",
       "3 17.4                                                \n",
       "4 16.7                                                \n",
       "5 12.7                                                \n",
       "6 19.8                                                \n",
       "  Week.6.CV.Afternoon.Evening.Interstitial.Glucose....\n",
       "1 14.7                                                \n",
       "2 11.0                                                \n",
       "3 12.6                                                \n",
       "4 16.4                                                \n",
       "5 15.6                                                \n",
       "6 14.7                                                \n",
       "  Week.1.Peak.Sleeping.Interstitial.Glucose..mmol.l.\n",
       "1 6.5                                               \n",
       "2 6.3                                               \n",
       "3 7.1                                               \n",
       "4 7.3                                               \n",
       "5 6.2                                               \n",
       "6 6.8                                               \n",
       "  Week.6.Peak.Sleeping.Interstitial.Glucose..mmol.l.\n",
       "1 7.8                                               \n",
       "2 6.8                                               \n",
       "3 7.5                                               \n",
       "4 7.7                                               \n",
       "5 9.4                                               \n",
       "6 6.9                                               \n",
       "  Week.1.Mean.Sleeping.Interstitial.Glucose..mmol.l.\n",
       "1 5.2                                               \n",
       "2 5.6                                               \n",
       "3 5.6                                               \n",
       "4 5.2                                               \n",
       "5 4.9                                               \n",
       "6 4.9                                               \n",
       "  Week.6.Mean.Sleeping.Interstitial.Glucose..mmol.l.\n",
       "1 5.6                                               \n",
       "2 5.6                                               \n",
       "3 5.5                                               \n",
       "4 5.5                                               \n",
       "5 5.3                                               \n",
       "6 5.4                                               \n",
       "  Week.1.CV.Sleeping.Interstitial.Glucose....\n",
       "1  9.0                                       \n",
       "2  6.9                                       \n",
       "3 11.6                                       \n",
       "4 11.0                                       \n",
       "5  9.2                                       \n",
       "6 15.8                                       \n",
       "  Week.6.CV.Sleeping.Interstitial.Glucose....\n",
       "1 15.7                                       \n",
       "2  9.1                                       \n",
       "3 13.1                                       \n",
       "4 10.1                                       \n",
       "5 17.7                                       \n",
       "6  8.7                                       "
      ]
     },
     "metadata": {},
     "output_type": "display_data"
    }
   ],
   "source": [
    "head(data)"
   ]
  },
  {
   "cell_type": "code",
   "execution_count": null,
   "id": "09a83281-2497-4667-8c49-2cb7743e9499",
   "metadata": {},
   "outputs": [],
   "source": []
  }
 ],
 "metadata": {
  "kernelspec": {
   "display_name": "R",
   "language": "R",
   "name": "ir"
  },
  "language_info": {
   "codemirror_mode": "r",
   "file_extension": ".r",
   "mimetype": "text/x-r-source",
   "name": "R",
   "pygments_lexer": "r",
   "version": "4.1.0"
  }
 },
 "nbformat": 4,
 "nbformat_minor": 5
}
