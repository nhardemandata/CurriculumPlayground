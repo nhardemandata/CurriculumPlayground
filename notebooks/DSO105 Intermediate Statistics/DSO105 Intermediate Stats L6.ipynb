{
 "cells": [
  {
   "cell_type": "markdown",
   "id": "6c75e841-50d4-40e3-9f86-71cad3afadbd",
   "metadata": {},
   "source": [
    "# DSO105 Intermediate Stats L6.ipynb"
   ]
  },
  {
   "cell_type": "markdown",
   "id": "0d4b5fc8-9fe9-41ee-be71-f59223f9efda",
   "metadata": {},
   "source": [
    "## Mixed Measures ANOVAs"
   ]
  },
  {
   "cell_type": "code",
   "execution_count": 2,
   "id": "1e2e6c79-2e2d-4db3-b954-aea14a32fc53",
   "metadata": {},
   "outputs": [],
   "source": [
    "#### Page 1 intro video"
   ]
  },
  {
   "cell_type": "code",
   "execution_count": 3,
   "id": "ed7d9d70-5a93-446b-934d-0bf1f915fb67",
   "metadata": {},
   "outputs": [],
   "source": [
    "## measure differences in categories and changes over time\n",
    "## utilizes between subjects, and within subjects design in a single analysis"
   ]
  },
  {
   "cell_type": "code",
   "execution_count": 4,
   "id": "b29afa17-6b12-48bb-95b3-887461c75f6b",
   "metadata": {},
   "outputs": [],
   "source": [
    "#### Page 2\n",
    "### begins with video"
   ]
  },
  {
   "cell_type": "code",
   "execution_count": 5,
   "id": "69fbde99-7c4f-4677-9ea2-86cd38c329bc",
   "metadata": {},
   "outputs": [
    {
     "name": "stderr",
     "output_type": "stream",
     "text": [
      "-- \u001b[1mAttaching packages\u001b[22m ------------------------------------------------------------------------------- tidyverse 1.3.1 --\n",
      "\n",
      "\u001b[32mv\u001b[39m \u001b[34mggplot2\u001b[39m 3.3.5     \u001b[32mv\u001b[39m \u001b[34mpurrr  \u001b[39m 0.3.4\n",
      "\u001b[32mv\u001b[39m \u001b[34mtibble \u001b[39m 3.1.2     \u001b[32mv\u001b[39m \u001b[34mdplyr  \u001b[39m 1.0.6\n",
      "\u001b[32mv\u001b[39m \u001b[34mtidyr  \u001b[39m 1.1.3     \u001b[32mv\u001b[39m \u001b[34mstringr\u001b[39m 1.4.0\n",
      "\u001b[32mv\u001b[39m \u001b[34mreadr  \u001b[39m 1.4.0     \u001b[32mv\u001b[39m \u001b[34mforcats\u001b[39m 0.5.1\n",
      "\n",
      "-- \u001b[1mConflicts\u001b[22m ---------------------------------------------------------------------------------- tidyverse_conflicts() --\n",
      "\u001b[31mx\u001b[39m \u001b[34mdplyr\u001b[39m::\u001b[32mfilter()\u001b[39m masks \u001b[34mstats\u001b[39m::filter()\n",
      "\u001b[31mx\u001b[39m \u001b[34mdplyr\u001b[39m::\u001b[32mlag()\u001b[39m    masks \u001b[34mstats\u001b[39m::lag()\n",
      "\n",
      "Loading required package: carData\n",
      "\n",
      "\n",
      "Attaching package: 'car'\n",
      "\n",
      "\n",
      "The following object is masked from 'package:dplyr':\n",
      "\n",
      "    recode\n",
      "\n",
      "\n",
      "The following object is masked from 'package:purrr':\n",
      "\n",
      "    some\n",
      "\n",
      "\n"
     ]
    }
   ],
   "source": [
    "## libraries\n",
    "library(tidyverse)\n",
    "library(rcompanion)\n",
    "library(car)"
   ]
  },
  {
   "cell_type": "code",
   "execution_count": 6,
   "id": "4b91f3b3-8985-4ae4-9cb5-9de2283c019a",
   "metadata": {},
   "outputs": [],
   "source": [
    "### cannot locate this coup data to folow along with the video"
   ]
  },
  {
   "cell_type": "code",
   "execution_count": 7,
   "id": "35f8c40c-fc0e-476e-b269-553bdb78490e",
   "metadata": {},
   "outputs": [],
   "source": [
    "## data\n",
    "data = read.csv('../../datasets/breakfast.csv')"
   ]
  },
  {
   "cell_type": "code",
   "execution_count": 8,
   "id": "6b4490c3-cda6-4603-bcb8-d8a9a309b3b0",
   "metadata": {},
   "outputs": [
    {
     "data": {
      "text/html": [
       "<table class=\"dataframe\">\n",
       "<caption>A data.frame: 6 × 141</caption>\n",
       "<thead>\n",
       "\t<tr><th></th><th scope=col>Participant.Code</th><th scope=col>Treatment.Group</th><th scope=col>Age..y.</th><th scope=col>Sex</th><th scope=col>Height..m.</th><th scope=col>Baseline.Body.Mass..kg.</th><th scope=col>Follow.Up.Body.Mass..kg.</th><th scope=col>Baseline.Lean.Tissue.Mass..kg.</th><th scope=col>Follow.Up.Lean.Tissue.Mass..kg.</th><th scope=col>Baseline.Adipose.Tissue.Mass..kg.</th><th scope=col>...</th><th scope=col>Week.1.Mean.Afternoon.Evening.Interstitial.Glucose..mmol.l.</th><th scope=col>Week.6.Mean.Afternoon.Evening.Interstitial.Glucose..mmol.l.</th><th scope=col>Week.1.CV.Afternoon.Evening.Interstitial.Glucose....</th><th scope=col>Week.6.CV.Afternoon.Evening.Interstitial.Glucose....</th><th scope=col>Week.1.Peak.Sleeping.Interstitial.Glucose..mmol.l.</th><th scope=col>Week.6.Peak.Sleeping.Interstitial.Glucose..mmol.l.</th><th scope=col>Week.1.Mean.Sleeping.Interstitial.Glucose..mmol.l.</th><th scope=col>Week.6.Mean.Sleeping.Interstitial.Glucose..mmol.l.</th><th scope=col>Week.1.CV.Sleeping.Interstitial.Glucose....</th><th scope=col>Week.6.CV.Sleeping.Interstitial.Glucose....</th></tr>\n",
       "\t<tr><th></th><th scope=col>&lt;int&gt;</th><th scope=col>&lt;chr&gt;</th><th scope=col>&lt;int&gt;</th><th scope=col>&lt;chr&gt;</th><th scope=col>&lt;dbl&gt;</th><th scope=col>&lt;dbl&gt;</th><th scope=col>&lt;dbl&gt;</th><th scope=col>&lt;dbl&gt;</th><th scope=col>&lt;dbl&gt;</th><th scope=col>&lt;dbl&gt;</th><th scope=col>...</th><th scope=col>&lt;dbl&gt;</th><th scope=col>&lt;dbl&gt;</th><th scope=col>&lt;dbl&gt;</th><th scope=col>&lt;dbl&gt;</th><th scope=col>&lt;dbl&gt;</th><th scope=col>&lt;dbl&gt;</th><th scope=col>&lt;dbl&gt;</th><th scope=col>&lt;dbl&gt;</th><th scope=col>&lt;dbl&gt;</th><th scope=col>&lt;dbl&gt;</th></tr>\n",
       "</thead>\n",
       "<tbody>\n",
       "\t<tr><th scope=row>1</th><td> 2</td><td>Fasting</td><td>27</td><td>Female</td><td>1.75</td><td>71.5</td><td>71.1</td><td>51.8</td><td>52.4</td><td>15.1</td><td>...</td><td>5.5</td><td>5.2</td><td>13.8</td><td>14.7</td><td>6.5</td><td>7.8</td><td>5.2</td><td>5.6</td><td> 9.0</td><td>15.7</td></tr>\n",
       "\t<tr><th scope=row>2</th><td> 4</td><td>Fasting</td><td>25</td><td>Female</td><td>1.72</td><td>74.6</td><td>73.8</td><td>50.4</td><td>51.7</td><td>21.0</td><td>...</td><td>5.7</td><td>5.8</td><td> 9.0</td><td>11.0</td><td>6.3</td><td>6.8</td><td>5.6</td><td>5.6</td><td> 6.9</td><td> 9.1</td></tr>\n",
       "\t<tr><th scope=row>3</th><td>11</td><td>Fasting</td><td>44</td><td>Male  </td><td>1.64</td><td>68.0</td><td>68.1</td><td>46.7</td><td>47.0</td><td>17.9</td><td>...</td><td>5.7</td><td>5.4</td><td>17.4</td><td>12.6</td><td>7.1</td><td>7.5</td><td>5.6</td><td>5.5</td><td>11.6</td><td>13.1</td></tr>\n",
       "\t<tr><th scope=row>4</th><td>14</td><td>Fasting</td><td>36</td><td>Female</td><td>1.68</td><td>57.0</td><td>57.3</td><td>41.0</td><td>41.9</td><td>13.6</td><td>...</td><td>5.2</td><td>5.2</td><td>16.7</td><td>16.4</td><td>7.3</td><td>7.7</td><td>5.2</td><td>5.5</td><td>11.0</td><td>10.1</td></tr>\n",
       "\t<tr><th scope=row>5</th><td>16</td><td>Fasting</td><td>28</td><td>Female</td><td>1.64</td><td>49.4</td><td>49.0</td><td>36.4</td><td>35.9</td><td>10.1</td><td>...</td><td>4.7</td><td>5.1</td><td>12.7</td><td>15.6</td><td>6.2</td><td>9.4</td><td>4.9</td><td>5.3</td><td> 9.2</td><td>17.7</td></tr>\n",
       "\t<tr><th scope=row>6</th><td>19</td><td>Fasting</td><td>38</td><td>Male  </td><td>1.74</td><td>64.3</td><td>64.0</td><td>50.0</td><td>49.3</td><td>11.1</td><td>...</td><td>5.3</td><td>5.5</td><td>19.8</td><td>14.7</td><td>6.8</td><td>6.9</td><td>4.9</td><td>5.4</td><td>15.8</td><td> 8.7</td></tr>\n",
       "</tbody>\n",
       "</table>\n"
      ],
      "text/latex": [
       "A data.frame: 6 × 141\n",
       "\\begin{tabular}{r|lllllllllllllllllllll}\n",
       "  & Participant.Code & Treatment.Group & Age..y. & Sex & Height..m. & Baseline.Body.Mass..kg. & Follow.Up.Body.Mass..kg. & Baseline.Lean.Tissue.Mass..kg. & Follow.Up.Lean.Tissue.Mass..kg. & Baseline.Adipose.Tissue.Mass..kg. & ... & Week.1.Mean.Afternoon.Evening.Interstitial.Glucose..mmol.l. & Week.6.Mean.Afternoon.Evening.Interstitial.Glucose..mmol.l. & Week.1.CV.Afternoon.Evening.Interstitial.Glucose.... & Week.6.CV.Afternoon.Evening.Interstitial.Glucose.... & Week.1.Peak.Sleeping.Interstitial.Glucose..mmol.l. & Week.6.Peak.Sleeping.Interstitial.Glucose..mmol.l. & Week.1.Mean.Sleeping.Interstitial.Glucose..mmol.l. & Week.6.Mean.Sleeping.Interstitial.Glucose..mmol.l. & Week.1.CV.Sleeping.Interstitial.Glucose.... & Week.6.CV.Sleeping.Interstitial.Glucose....\\\\\n",
       "  & <int> & <chr> & <int> & <chr> & <dbl> & <dbl> & <dbl> & <dbl> & <dbl> & <dbl> & ... & <dbl> & <dbl> & <dbl> & <dbl> & <dbl> & <dbl> & <dbl> & <dbl> & <dbl> & <dbl>\\\\\n",
       "\\hline\n",
       "\t1 &  2 & Fasting & 27 & Female & 1.75 & 71.5 & 71.1 & 51.8 & 52.4 & 15.1 & ... & 5.5 & 5.2 & 13.8 & 14.7 & 6.5 & 7.8 & 5.2 & 5.6 &  9.0 & 15.7\\\\\n",
       "\t2 &  4 & Fasting & 25 & Female & 1.72 & 74.6 & 73.8 & 50.4 & 51.7 & 21.0 & ... & 5.7 & 5.8 &  9.0 & 11.0 & 6.3 & 6.8 & 5.6 & 5.6 &  6.9 &  9.1\\\\\n",
       "\t3 & 11 & Fasting & 44 & Male   & 1.64 & 68.0 & 68.1 & 46.7 & 47.0 & 17.9 & ... & 5.7 & 5.4 & 17.4 & 12.6 & 7.1 & 7.5 & 5.6 & 5.5 & 11.6 & 13.1\\\\\n",
       "\t4 & 14 & Fasting & 36 & Female & 1.68 & 57.0 & 57.3 & 41.0 & 41.9 & 13.6 & ... & 5.2 & 5.2 & 16.7 & 16.4 & 7.3 & 7.7 & 5.2 & 5.5 & 11.0 & 10.1\\\\\n",
       "\t5 & 16 & Fasting & 28 & Female & 1.64 & 49.4 & 49.0 & 36.4 & 35.9 & 10.1 & ... & 4.7 & 5.1 & 12.7 & 15.6 & 6.2 & 9.4 & 4.9 & 5.3 &  9.2 & 17.7\\\\\n",
       "\t6 & 19 & Fasting & 38 & Male   & 1.74 & 64.3 & 64.0 & 50.0 & 49.3 & 11.1 & ... & 5.3 & 5.5 & 19.8 & 14.7 & 6.8 & 6.9 & 4.9 & 5.4 & 15.8 &  8.7\\\\\n",
       "\\end{tabular}\n"
      ],
      "text/markdown": [
       "\n",
       "A data.frame: 6 × 141\n",
       "\n",
       "| <!--/--> | Participant.Code &lt;int&gt; | Treatment.Group &lt;chr&gt; | Age..y. &lt;int&gt; | Sex &lt;chr&gt; | Height..m. &lt;dbl&gt; | Baseline.Body.Mass..kg. &lt;dbl&gt; | Follow.Up.Body.Mass..kg. &lt;dbl&gt; | Baseline.Lean.Tissue.Mass..kg. &lt;dbl&gt; | Follow.Up.Lean.Tissue.Mass..kg. &lt;dbl&gt; | Baseline.Adipose.Tissue.Mass..kg. &lt;dbl&gt; | ... ... | Week.1.Mean.Afternoon.Evening.Interstitial.Glucose..mmol.l. &lt;dbl&gt; | Week.6.Mean.Afternoon.Evening.Interstitial.Glucose..mmol.l. &lt;dbl&gt; | Week.1.CV.Afternoon.Evening.Interstitial.Glucose.... &lt;dbl&gt; | Week.6.CV.Afternoon.Evening.Interstitial.Glucose.... &lt;dbl&gt; | Week.1.Peak.Sleeping.Interstitial.Glucose..mmol.l. &lt;dbl&gt; | Week.6.Peak.Sleeping.Interstitial.Glucose..mmol.l. &lt;dbl&gt; | Week.1.Mean.Sleeping.Interstitial.Glucose..mmol.l. &lt;dbl&gt; | Week.6.Mean.Sleeping.Interstitial.Glucose..mmol.l. &lt;dbl&gt; | Week.1.CV.Sleeping.Interstitial.Glucose.... &lt;dbl&gt; | Week.6.CV.Sleeping.Interstitial.Glucose.... &lt;dbl&gt; |\n",
       "|---|---|---|---|---|---|---|---|---|---|---|---|---|---|---|---|---|---|---|---|---|---|\n",
       "| 1 |  2 | Fasting | 27 | Female | 1.75 | 71.5 | 71.1 | 51.8 | 52.4 | 15.1 | ... | 5.5 | 5.2 | 13.8 | 14.7 | 6.5 | 7.8 | 5.2 | 5.6 |  9.0 | 15.7 |\n",
       "| 2 |  4 | Fasting | 25 | Female | 1.72 | 74.6 | 73.8 | 50.4 | 51.7 | 21.0 | ... | 5.7 | 5.8 |  9.0 | 11.0 | 6.3 | 6.8 | 5.6 | 5.6 |  6.9 |  9.1 |\n",
       "| 3 | 11 | Fasting | 44 | Male   | 1.64 | 68.0 | 68.1 | 46.7 | 47.0 | 17.9 | ... | 5.7 | 5.4 | 17.4 | 12.6 | 7.1 | 7.5 | 5.6 | 5.5 | 11.6 | 13.1 |\n",
       "| 4 | 14 | Fasting | 36 | Female | 1.68 | 57.0 | 57.3 | 41.0 | 41.9 | 13.6 | ... | 5.2 | 5.2 | 16.7 | 16.4 | 7.3 | 7.7 | 5.2 | 5.5 | 11.0 | 10.1 |\n",
       "| 5 | 16 | Fasting | 28 | Female | 1.64 | 49.4 | 49.0 | 36.4 | 35.9 | 10.1 | ... | 4.7 | 5.1 | 12.7 | 15.6 | 6.2 | 9.4 | 4.9 | 5.3 |  9.2 | 17.7 |\n",
       "| 6 | 19 | Fasting | 38 | Male   | 1.74 | 64.3 | 64.0 | 50.0 | 49.3 | 11.1 | ... | 5.3 | 5.5 | 19.8 | 14.7 | 6.8 | 6.9 | 4.9 | 5.4 | 15.8 |  8.7 |\n",
       "\n"
      ],
      "text/plain": [
       "  Participant.Code Treatment.Group Age..y. Sex    Height..m.\n",
       "1  2               Fasting         27      Female 1.75      \n",
       "2  4               Fasting         25      Female 1.72      \n",
       "3 11               Fasting         44      Male   1.64      \n",
       "4 14               Fasting         36      Female 1.68      \n",
       "5 16               Fasting         28      Female 1.64      \n",
       "6 19               Fasting         38      Male   1.74      \n",
       "  Baseline.Body.Mass..kg. Follow.Up.Body.Mass..kg.\n",
       "1 71.5                    71.1                    \n",
       "2 74.6                    73.8                    \n",
       "3 68.0                    68.1                    \n",
       "4 57.0                    57.3                    \n",
       "5 49.4                    49.0                    \n",
       "6 64.3                    64.0                    \n",
       "  Baseline.Lean.Tissue.Mass..kg. Follow.Up.Lean.Tissue.Mass..kg.\n",
       "1 51.8                           52.4                           \n",
       "2 50.4                           51.7                           \n",
       "3 46.7                           47.0                           \n",
       "4 41.0                           41.9                           \n",
       "5 36.4                           35.9                           \n",
       "6 50.0                           49.3                           \n",
       "  Baseline.Adipose.Tissue.Mass..kg. ...\n",
       "1 15.1                              ...\n",
       "2 21.0                              ...\n",
       "3 17.9                              ...\n",
       "4 13.6                              ...\n",
       "5 10.1                              ...\n",
       "6 11.1                              ...\n",
       "  Week.1.Mean.Afternoon.Evening.Interstitial.Glucose..mmol.l.\n",
       "1 5.5                                                        \n",
       "2 5.7                                                        \n",
       "3 5.7                                                        \n",
       "4 5.2                                                        \n",
       "5 4.7                                                        \n",
       "6 5.3                                                        \n",
       "  Week.6.Mean.Afternoon.Evening.Interstitial.Glucose..mmol.l.\n",
       "1 5.2                                                        \n",
       "2 5.8                                                        \n",
       "3 5.4                                                        \n",
       "4 5.2                                                        \n",
       "5 5.1                                                        \n",
       "6 5.5                                                        \n",
       "  Week.1.CV.Afternoon.Evening.Interstitial.Glucose....\n",
       "1 13.8                                                \n",
       "2  9.0                                                \n",
       "3 17.4                                                \n",
       "4 16.7                                                \n",
       "5 12.7                                                \n",
       "6 19.8                                                \n",
       "  Week.6.CV.Afternoon.Evening.Interstitial.Glucose....\n",
       "1 14.7                                                \n",
       "2 11.0                                                \n",
       "3 12.6                                                \n",
       "4 16.4                                                \n",
       "5 15.6                                                \n",
       "6 14.7                                                \n",
       "  Week.1.Peak.Sleeping.Interstitial.Glucose..mmol.l.\n",
       "1 6.5                                               \n",
       "2 6.3                                               \n",
       "3 7.1                                               \n",
       "4 7.3                                               \n",
       "5 6.2                                               \n",
       "6 6.8                                               \n",
       "  Week.6.Peak.Sleeping.Interstitial.Glucose..mmol.l.\n",
       "1 7.8                                               \n",
       "2 6.8                                               \n",
       "3 7.5                                               \n",
       "4 7.7                                               \n",
       "5 9.4                                               \n",
       "6 6.9                                               \n",
       "  Week.1.Mean.Sleeping.Interstitial.Glucose..mmol.l.\n",
       "1 5.2                                               \n",
       "2 5.6                                               \n",
       "3 5.6                                               \n",
       "4 5.2                                               \n",
       "5 4.9                                               \n",
       "6 4.9                                               \n",
       "  Week.6.Mean.Sleeping.Interstitial.Glucose..mmol.l.\n",
       "1 5.6                                               \n",
       "2 5.6                                               \n",
       "3 5.5                                               \n",
       "4 5.5                                               \n",
       "5 5.3                                               \n",
       "6 5.4                                               \n",
       "  Week.1.CV.Sleeping.Interstitial.Glucose....\n",
       "1  9.0                                       \n",
       "2  6.9                                       \n",
       "3 11.6                                       \n",
       "4 11.0                                       \n",
       "5  9.2                                       \n",
       "6 15.8                                       \n",
       "  Week.6.CV.Sleeping.Interstitial.Glucose....\n",
       "1 15.7                                       \n",
       "2  9.1                                       \n",
       "3 13.1                                       \n",
       "4 10.1                                       \n",
       "5 17.7                                       \n",
       "6  8.7                                       "
      ]
     },
     "metadata": {},
     "output_type": "display_data"
    }
   ],
   "source": [
    "head(data)"
   ]
  },
  {
   "cell_type": "markdown",
   "id": "125d90ad-b6bc-42e3-98a3-4d43ebcd7a43",
   "metadata": {},
   "source": [
    "## Mixed Measures ANOVAs Setup in R\n",
    "\n",
    "Recall that a mixed measure ANOVA includes both a within and a between subject variable. You'll follow a very similar process to do a mixed measures ANOVA as you would to do a repeated measures or within subjects ANOVA, but you will add in an additional factor of treatment group (whether participants ate breakfast or not).\n",
    "\n",
    "## Question Setup\n",
    "\n",
    "With this data, you will answer the question:\n",
    "\n",
    "__Did those who ate breakfast in the morning improve their resting metabolic rate from baseline to follow up compared to those who skipped breakfast?__\n",
    "\n",
    "## Data Wrangling\n",
    "\n",
    "Data wrangling for the mixed measures ANOVA is done exactly the same as it was for the repeated measures ANOVA.\n",
    "\n",
    "## Testing Assumptions\n",
    "\n",
    "The assumptions for a mixed measure ANOVA are the same as the ones you learned for a repeated measures ANOVA. The only thing that differs is the sample size, because you now have two IVs.\n",
    "\n",
    "## Sample Size\n",
    "\n",
    "A mixed measures ANOVA requires a sample size of at least 20 per independent variable or time factor. In this case, you only have one independent variable, and you also have a factor of time. So, you need 40 cases. You are a few cases short of this requirement, clocking in at only n = 33, but for learning purposes, you will proceed. However, typically if you did not have a large enough sample size, you would either want to simplify your model (remove either the IV or the time variable), choose a different analysis, or run a procedure called bootstrapping which would re-sample your data until you had a larger n."
   ]
  },
  {
   "cell_type": "code",
   "execution_count": 9,
   "id": "c87fa0cc-39cd-4535-9978-83857ffcaf47",
   "metadata": {},
   "outputs": [],
   "source": [
    "### Page 3"
   ]
  },
  {
   "cell_type": "markdown",
   "id": "0ae4876d-8652-4483-a728-278b8e9f168e",
   "metadata": {},
   "source": [
    "## Mixed Measures ANOVAs Analysis in R\n",
    "\n",
    "Alright! You've done all the prep work, now it's time for the fun!\n",
    "\n",
    "## Analysis\n",
    "\n",
    "You will continue to use the aov() function, but add some additional arguments to it to make it mixed measures."
   ]
  },
  {
   "cell_type": "code",
   "execution_count": 10,
   "id": "1e3ec42a-27bc-4686-94a2-e5f06fd6c671",
   "metadata": {},
   "outputs": [],
   "source": [
    "data1 = data[1:33,]"
   ]
  },
  {
   "cell_type": "code",
   "execution_count": 11,
   "id": "9318532d-cf7c-4e87-8649-2de3cbc617ea",
   "metadata": {},
   "outputs": [],
   "source": [
    "keep = c(\"Participant.Code\", \"Treatment.Group\", \"Age..y.\", \"Sex\", \"Height..m.\", \"Baseline.Resting.Metabolic.Rate..kcal.d.\", \"Follow.Up.Resting.Metabolic.Rate..kcal.d.\")"
   ]
  },
  {
   "cell_type": "code",
   "execution_count": 12,
   "id": "2f99559e-9f08-4e2a-819f-e13a582536ef",
   "metadata": {},
   "outputs": [],
   "source": [
    "data2 = data1[keep]"
   ]
  },
  {
   "cell_type": "code",
   "execution_count": 14,
   "id": "2e3e0aeb-06f2-4439-a73f-a15dd544966e",
   "metadata": {},
   "outputs": [
    {
     "data": {
      "text/html": [
       "<table class=\"dataframe\">\n",
       "<caption>A data.frame: 6 × 7</caption>\n",
       "<thead>\n",
       "\t<tr><th></th><th scope=col>Participant.Code</th><th scope=col>Treatment.Group</th><th scope=col>Age..y.</th><th scope=col>Sex</th><th scope=col>Height..m.</th><th scope=col>Baseline.Resting.Metabolic.Rate..kcal.d.</th><th scope=col>Follow.Up.Resting.Metabolic.Rate..kcal.d.</th></tr>\n",
       "\t<tr><th></th><th scope=col>&lt;int&gt;</th><th scope=col>&lt;chr&gt;</th><th scope=col>&lt;int&gt;</th><th scope=col>&lt;chr&gt;</th><th scope=col>&lt;dbl&gt;</th><th scope=col>&lt;int&gt;</th><th scope=col>&lt;int&gt;</th></tr>\n",
       "</thead>\n",
       "<tbody>\n",
       "\t<tr><th scope=row>1</th><td> 2</td><td>Fasting</td><td>27</td><td>Female</td><td>1.75</td><td>1418</td><td>1509</td></tr>\n",
       "\t<tr><th scope=row>2</th><td> 4</td><td>Fasting</td><td>25</td><td>Female</td><td>1.72</td><td>1332</td><td>1517</td></tr>\n",
       "\t<tr><th scope=row>3</th><td>11</td><td>Fasting</td><td>44</td><td>Male  </td><td>1.64</td><td>1521</td><td>1444</td></tr>\n",
       "\t<tr><th scope=row>4</th><td>14</td><td>Fasting</td><td>36</td><td>Female</td><td>1.68</td><td>1399</td><td>1383</td></tr>\n",
       "\t<tr><th scope=row>5</th><td>16</td><td>Fasting</td><td>28</td><td>Female</td><td>1.64</td><td>1457</td><td>1412</td></tr>\n",
       "\t<tr><th scope=row>6</th><td>19</td><td>Fasting</td><td>38</td><td>Male  </td><td>1.74</td><td>1357</td><td>1465</td></tr>\n",
       "</tbody>\n",
       "</table>\n"
      ],
      "text/latex": [
       "A data.frame: 6 × 7\n",
       "\\begin{tabular}{r|lllllll}\n",
       "  & Participant.Code & Treatment.Group & Age..y. & Sex & Height..m. & Baseline.Resting.Metabolic.Rate..kcal.d. & Follow.Up.Resting.Metabolic.Rate..kcal.d.\\\\\n",
       "  & <int> & <chr> & <int> & <chr> & <dbl> & <int> & <int>\\\\\n",
       "\\hline\n",
       "\t1 &  2 & Fasting & 27 & Female & 1.75 & 1418 & 1509\\\\\n",
       "\t2 &  4 & Fasting & 25 & Female & 1.72 & 1332 & 1517\\\\\n",
       "\t3 & 11 & Fasting & 44 & Male   & 1.64 & 1521 & 1444\\\\\n",
       "\t4 & 14 & Fasting & 36 & Female & 1.68 & 1399 & 1383\\\\\n",
       "\t5 & 16 & Fasting & 28 & Female & 1.64 & 1457 & 1412\\\\\n",
       "\t6 & 19 & Fasting & 38 & Male   & 1.74 & 1357 & 1465\\\\\n",
       "\\end{tabular}\n"
      ],
      "text/markdown": [
       "\n",
       "A data.frame: 6 × 7\n",
       "\n",
       "| <!--/--> | Participant.Code &lt;int&gt; | Treatment.Group &lt;chr&gt; | Age..y. &lt;int&gt; | Sex &lt;chr&gt; | Height..m. &lt;dbl&gt; | Baseline.Resting.Metabolic.Rate..kcal.d. &lt;int&gt; | Follow.Up.Resting.Metabolic.Rate..kcal.d. &lt;int&gt; |\n",
       "|---|---|---|---|---|---|---|---|\n",
       "| 1 |  2 | Fasting | 27 | Female | 1.75 | 1418 | 1509 |\n",
       "| 2 |  4 | Fasting | 25 | Female | 1.72 | 1332 | 1517 |\n",
       "| 3 | 11 | Fasting | 44 | Male   | 1.64 | 1521 | 1444 |\n",
       "| 4 | 14 | Fasting | 36 | Female | 1.68 | 1399 | 1383 |\n",
       "| 5 | 16 | Fasting | 28 | Female | 1.64 | 1457 | 1412 |\n",
       "| 6 | 19 | Fasting | 38 | Male   | 1.74 | 1357 | 1465 |\n",
       "\n"
      ],
      "text/plain": [
       "  Participant.Code Treatment.Group Age..y. Sex    Height..m.\n",
       "1  2               Fasting         27      Female 1.75      \n",
       "2  4               Fasting         25      Female 1.72      \n",
       "3 11               Fasting         44      Male   1.64      \n",
       "4 14               Fasting         36      Female 1.68      \n",
       "5 16               Fasting         28      Female 1.64      \n",
       "6 19               Fasting         38      Male   1.74      \n",
       "  Baseline.Resting.Metabolic.Rate..kcal.d.\n",
       "1 1418                                    \n",
       "2 1332                                    \n",
       "3 1521                                    \n",
       "4 1399                                    \n",
       "5 1457                                    \n",
       "6 1357                                    \n",
       "  Follow.Up.Resting.Metabolic.Rate..kcal.d.\n",
       "1 1509                                     \n",
       "2 1517                                     \n",
       "3 1444                                     \n",
       "4 1383                                     \n",
       "5 1412                                     \n",
       "6 1465                                     "
      ]
     },
     "metadata": {},
     "output_type": "display_data"
    }
   ],
   "source": [
    "head(data2)"
   ]
  },
  {
   "cell_type": "code",
   "execution_count": 15,
   "id": "2a1ca2d4-9fa5-46c8-9f17-6e81d8812a30",
   "metadata": {},
   "outputs": [],
   "source": [
    "data2 = data1[keep]"
   ]
  },
  {
   "cell_type": "code",
   "execution_count": 17,
   "id": "58b82730-0f5e-4b81-acc5-f3d8965415f1",
   "metadata": {},
   "outputs": [],
   "source": [
    "data3 <- data2[,1:5]"
   ]
  },
  {
   "cell_type": "code",
   "execution_count": 18,
   "id": "87de2a71-07db-4d9b-bbd8-e7d97b8d63ab",
   "metadata": {},
   "outputs": [],
   "source": [
    "data3$repdat <- data2$Baseline.Resting.Metabolic.Rate..kcal.d."
   ]
  },
  {
   "cell_type": "code",
   "execution_count": 19,
   "id": "b834ae4d-15fa-48c8-9d44-47d81f20e76f",
   "metadata": {},
   "outputs": [],
   "source": [
    "data3$contrasts <- \"T1\""
   ]
  },
  {
   "cell_type": "code",
   "execution_count": 20,
   "id": "89cad558-2b44-462f-9c46-3d29340adc12",
   "metadata": {},
   "outputs": [],
   "source": [
    "data4 = data2[,1:5]"
   ]
  },
  {
   "cell_type": "code",
   "execution_count": 21,
   "id": "5cefc31e-9c8e-457d-b990-fcae6bb19e46",
   "metadata": {},
   "outputs": [],
   "source": [
    "data4$repdat = data2$Follow.Up.Resting.Metabolic.Rate..kcal.d."
   ]
  },
  {
   "cell_type": "code",
   "execution_count": 22,
   "id": "13286575-f4d0-4191-bf19-89f7ec075262",
   "metadata": {},
   "outputs": [],
   "source": [
    "data4$contrasts = \"T2\""
   ]
  },
  {
   "cell_type": "code",
   "execution_count": 23,
   "id": "6cbe6d27-fe5f-441f-aa48-026a0e81087d",
   "metadata": {},
   "outputs": [],
   "source": [
    "data5 <- rbind(data3, data4)"
   ]
  },
  {
   "cell_type": "code",
   "execution_count": 24,
   "id": "e7681d78-ad14-47fd-8c05-c89a07944fcd",
   "metadata": {},
   "outputs": [
    {
     "data": {
      "text/html": [
       "<table class=\"dataframe\">\n",
       "<caption>A data.frame: 6 × 7</caption>\n",
       "<thead>\n",
       "\t<tr><th></th><th scope=col>Participant.Code</th><th scope=col>Treatment.Group</th><th scope=col>Age..y.</th><th scope=col>Sex</th><th scope=col>Height..m.</th><th scope=col>repdat</th><th scope=col>contrasts</th></tr>\n",
       "\t<tr><th></th><th scope=col>&lt;int&gt;</th><th scope=col>&lt;chr&gt;</th><th scope=col>&lt;int&gt;</th><th scope=col>&lt;chr&gt;</th><th scope=col>&lt;dbl&gt;</th><th scope=col>&lt;int&gt;</th><th scope=col>&lt;chr&gt;</th></tr>\n",
       "</thead>\n",
       "<tbody>\n",
       "\t<tr><th scope=row>1</th><td> 2</td><td>Fasting</td><td>27</td><td>Female</td><td>1.75</td><td>1418</td><td>T1</td></tr>\n",
       "\t<tr><th scope=row>2</th><td> 4</td><td>Fasting</td><td>25</td><td>Female</td><td>1.72</td><td>1332</td><td>T1</td></tr>\n",
       "\t<tr><th scope=row>3</th><td>11</td><td>Fasting</td><td>44</td><td>Male  </td><td>1.64</td><td>1521</td><td>T1</td></tr>\n",
       "\t<tr><th scope=row>4</th><td>14</td><td>Fasting</td><td>36</td><td>Female</td><td>1.68</td><td>1399</td><td>T1</td></tr>\n",
       "\t<tr><th scope=row>5</th><td>16</td><td>Fasting</td><td>28</td><td>Female</td><td>1.64</td><td>1457</td><td>T1</td></tr>\n",
       "\t<tr><th scope=row>6</th><td>19</td><td>Fasting</td><td>38</td><td>Male  </td><td>1.74</td><td>1357</td><td>T1</td></tr>\n",
       "</tbody>\n",
       "</table>\n"
      ],
      "text/latex": [
       "A data.frame: 6 × 7\n",
       "\\begin{tabular}{r|lllllll}\n",
       "  & Participant.Code & Treatment.Group & Age..y. & Sex & Height..m. & repdat & contrasts\\\\\n",
       "  & <int> & <chr> & <int> & <chr> & <dbl> & <int> & <chr>\\\\\n",
       "\\hline\n",
       "\t1 &  2 & Fasting & 27 & Female & 1.75 & 1418 & T1\\\\\n",
       "\t2 &  4 & Fasting & 25 & Female & 1.72 & 1332 & T1\\\\\n",
       "\t3 & 11 & Fasting & 44 & Male   & 1.64 & 1521 & T1\\\\\n",
       "\t4 & 14 & Fasting & 36 & Female & 1.68 & 1399 & T1\\\\\n",
       "\t5 & 16 & Fasting & 28 & Female & 1.64 & 1457 & T1\\\\\n",
       "\t6 & 19 & Fasting & 38 & Male   & 1.74 & 1357 & T1\\\\\n",
       "\\end{tabular}\n"
      ],
      "text/markdown": [
       "\n",
       "A data.frame: 6 × 7\n",
       "\n",
       "| <!--/--> | Participant.Code &lt;int&gt; | Treatment.Group &lt;chr&gt; | Age..y. &lt;int&gt; | Sex &lt;chr&gt; | Height..m. &lt;dbl&gt; | repdat &lt;int&gt; | contrasts &lt;chr&gt; |\n",
       "|---|---|---|---|---|---|---|---|\n",
       "| 1 |  2 | Fasting | 27 | Female | 1.75 | 1418 | T1 |\n",
       "| 2 |  4 | Fasting | 25 | Female | 1.72 | 1332 | T1 |\n",
       "| 3 | 11 | Fasting | 44 | Male   | 1.64 | 1521 | T1 |\n",
       "| 4 | 14 | Fasting | 36 | Female | 1.68 | 1399 | T1 |\n",
       "| 5 | 16 | Fasting | 28 | Female | 1.64 | 1457 | T1 |\n",
       "| 6 | 19 | Fasting | 38 | Male   | 1.74 | 1357 | T1 |\n",
       "\n"
      ],
      "text/plain": [
       "  Participant.Code Treatment.Group Age..y. Sex    Height..m. repdat contrasts\n",
       "1  2               Fasting         27      Female 1.75       1418   T1       \n",
       "2  4               Fasting         25      Female 1.72       1332   T1       \n",
       "3 11               Fasting         44      Male   1.64       1521   T1       \n",
       "4 14               Fasting         36      Female 1.68       1399   T1       \n",
       "5 16               Fasting         28      Female 1.64       1457   T1       \n",
       "6 19               Fasting         38      Male   1.74       1357   T1       "
      ]
     },
     "metadata": {},
     "output_type": "display_data"
    }
   ],
   "source": [
    "head(data5)"
   ]
  },
  {
   "cell_type": "markdown",
   "id": "008c625a-f0df-412a-aaee-4c1ac7675fdb",
   "metadata": {},
   "source": [
    "So what's happening here is that you are calling the aov() function on the interaction between all of your data factors. First, you are saying that you want to see the repeated data of resting metabolic rate by your time factor (from baseline to follow-up). That's this part: repdat~(Treatment.Group*contrasts. Next, you are adding in your error term, which is specified in this model by the command Error(). In the error term, you are placing your subject identifier (which matches the pre and the post data together), and you also note that it needs to be done for both time factor groups as well. That's what this part of the code is doing: +Error(Participant.Code/(contrasts). Finish it all off by specifying the dataset at the end and you are good to go. Call summary() on the results:"
   ]
  },
  {
   "cell_type": "code",
   "execution_count": 26,
   "id": "fdc4c432-b45a-40fc-b6ff-b6937fb7b521",
   "metadata": {},
   "outputs": [
    {
     "data": {
      "text/plain": [
       "\n",
       "Error: Participant.Code\n",
       "                Df Sum Sq Mean Sq\n",
       "Treatment.Group  1 154931  154931\n",
       "\n",
       "Error: Participant.Code:contrasts\n",
       "          Df Sum Sq Mean Sq\n",
       "contrasts  1  717.2   717.2\n",
       "\n",
       "Error: Within\n",
       "                          Df  Sum Sq Mean Sq F value Pr(>F)\n",
       "Treatment.Group            1      75      75   0.002  0.962\n",
       "contrasts                  1    5208    5208   0.154  0.696\n",
       "Treatment.Group:contrasts  1     921     921   0.027  0.869\n",
       "Residuals                 58 1956447   33732               "
      ]
     },
     "metadata": {},
     "output_type": "display_data"
    }
   ],
   "source": [
    "RManova1 <- aov(repdat~(Treatment.Group*contrasts)+Error(Participant.Code/(contrasts)), data5)\n",
    "summary(RManova1)"
   ]
  },
  {
   "cell_type": "markdown",
   "id": "7c68fa27-c5e6-46f6-8e77-b0f480f6925f",
   "metadata": {},
   "source": [
    "This output is looking a little crazypants, compared to some of the previous output, so let's break it down! First of all, the only information you really need to pay attention to is in the last two columns: the F value and the associated p value.\n",
    "\n",
    "The first row is the treatment group (skipping breakfast or eating breakfast) and looks at changes in resting metabolic rate by treatment group, regardless of the time point. It's basically a one-way ANOVA.\n",
    "\n",
    "Same thing with the second row! But instead of treatment group, you have time as your one-way factor. This row is just looking at change in resting metabolic rate from time point one to time point 2, regardless of what treatment group the subjects were in.\n",
    "\n",
    "The third row, however, focuses on the interaction between those two things. This is where the two-way design part comes in. This line is called the interaction effect. It looks at change in the resting metabolic rate over time by treatment group.\n",
    "\n",
    "Unfortunately, absolutely nothing is significant here. There was no significant difference in resting metabolic rate between those who ate breakfast and those who didn't, there was no significant difference in resting metabolic rate between baseline and follow up, and there was no significant interaction between these factors.\n",
    "\n",
    "## Post Hocs\n",
    "\n",
    "After finding such a load of bupkis above, so no need to worry about post hocs here!"
   ]
  },
  {
   "cell_type": "code",
   "execution_count": 27,
   "id": "b14621f6-79be-4a6e-ad06-da64ab8660a9",
   "metadata": {},
   "outputs": [],
   "source": [
    "#### Page 4 (Activity)"
   ]
  },
  {
   "cell_type": "code",
   "execution_count": null,
   "id": "830d236c-e4bf-48b7-96e6-96e91db6412c",
   "metadata": {},
   "outputs": [],
   "source": []
  }
 ],
 "metadata": {
  "kernelspec": {
   "display_name": "R",
   "language": "R",
   "name": "ir"
  },
  "language_info": {
   "codemirror_mode": "r",
   "file_extension": ".r",
   "mimetype": "text/x-r-source",
   "name": "R",
   "pygments_lexer": "r",
   "version": "4.1.0"
  }
 },
 "nbformat": 4,
 "nbformat_minor": 5
}
