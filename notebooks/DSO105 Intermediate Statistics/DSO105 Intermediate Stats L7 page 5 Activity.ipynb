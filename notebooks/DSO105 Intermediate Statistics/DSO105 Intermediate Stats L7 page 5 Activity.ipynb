{
 "cells": [
  {
   "cell_type": "markdown",
   "id": "e8d98bdb-fe4e-417a-894f-3d0ac5588186",
   "metadata": {},
   "source": [
    "# DSO105 Intermediate Stats L7 page 5 Activity"
   ]
  },
  {
   "cell_type": "code",
   "execution_count": 8,
   "id": "e02c19ae-90fc-4482-8489-415c5809b29a",
   "metadata": {},
   "outputs": [],
   "source": [
    "library(rcompanion)\n",
    "library(car)\n",
    "library(effects)\n",
    "library(multcomp)\n",
    "library(tidyverse)\n",
    "library(IDPmisc)"
   ]
  },
  {
   "cell_type": "code",
   "execution_count": 13,
   "id": "1127ee32-ea41-4fff-ae7a-4d5cc1b84276",
   "metadata": {},
   "outputs": [],
   "source": [
    "data = read.csv('../../datasets/graduate_admissions.csv')"
   ]
  },
  {
   "cell_type": "code",
   "execution_count": 4,
   "id": "88fecd68-f16e-49ca-9d27-8e9c35863634",
   "metadata": {},
   "outputs": [
    {
     "data": {
      "text/html": [
       "<table class=\"dataframe\">\n",
       "<caption>A data.frame: 6 × 9</caption>\n",
       "<thead>\n",
       "\t<tr><th></th><th scope=col>Serial.No.</th><th scope=col>GRE.Score</th><th scope=col>TOEFL.Score</th><th scope=col>University.Rating</th><th scope=col>SOP</th><th scope=col>LOR</th><th scope=col>CGPA</th><th scope=col>Research</th><th scope=col>Chance.of.Admit</th></tr>\n",
       "\t<tr><th></th><th scope=col>&lt;int&gt;</th><th scope=col>&lt;int&gt;</th><th scope=col>&lt;int&gt;</th><th scope=col>&lt;int&gt;</th><th scope=col>&lt;dbl&gt;</th><th scope=col>&lt;dbl&gt;</th><th scope=col>&lt;dbl&gt;</th><th scope=col>&lt;int&gt;</th><th scope=col>&lt;dbl&gt;</th></tr>\n",
       "</thead>\n",
       "<tbody>\n",
       "\t<tr><th scope=row>1</th><td>1</td><td>337</td><td>118</td><td>4</td><td>4.5</td><td>4.5</td><td>9.65</td><td>1</td><td>0.92</td></tr>\n",
       "\t<tr><th scope=row>2</th><td>2</td><td>324</td><td>107</td><td>4</td><td>4.0</td><td>4.5</td><td>8.87</td><td>1</td><td>0.76</td></tr>\n",
       "\t<tr><th scope=row>3</th><td>3</td><td>316</td><td>104</td><td>3</td><td>3.0</td><td>3.5</td><td>8.00</td><td>1</td><td>0.72</td></tr>\n",
       "\t<tr><th scope=row>4</th><td>4</td><td>322</td><td>110</td><td>3</td><td>3.5</td><td>2.5</td><td>8.67</td><td>1</td><td>0.80</td></tr>\n",
       "\t<tr><th scope=row>5</th><td>5</td><td>314</td><td>103</td><td>2</td><td>2.0</td><td>3.0</td><td>8.21</td><td>0</td><td>0.65</td></tr>\n",
       "\t<tr><th scope=row>6</th><td>6</td><td>330</td><td>115</td><td>5</td><td>4.5</td><td>3.0</td><td>9.34</td><td>1</td><td>0.90</td></tr>\n",
       "</tbody>\n",
       "</table>\n"
      ],
      "text/latex": [
       "A data.frame: 6 × 9\n",
       "\\begin{tabular}{r|lllllllll}\n",
       "  & Serial.No. & GRE.Score & TOEFL.Score & University.Rating & SOP & LOR & CGPA & Research & Chance.of.Admit\\\\\n",
       "  & <int> & <int> & <int> & <int> & <dbl> & <dbl> & <dbl> & <int> & <dbl>\\\\\n",
       "\\hline\n",
       "\t1 & 1 & 337 & 118 & 4 & 4.5 & 4.5 & 9.65 & 1 & 0.92\\\\\n",
       "\t2 & 2 & 324 & 107 & 4 & 4.0 & 4.5 & 8.87 & 1 & 0.76\\\\\n",
       "\t3 & 3 & 316 & 104 & 3 & 3.0 & 3.5 & 8.00 & 1 & 0.72\\\\\n",
       "\t4 & 4 & 322 & 110 & 3 & 3.5 & 2.5 & 8.67 & 1 & 0.80\\\\\n",
       "\t5 & 5 & 314 & 103 & 2 & 2.0 & 3.0 & 8.21 & 0 & 0.65\\\\\n",
       "\t6 & 6 & 330 & 115 & 5 & 4.5 & 3.0 & 9.34 & 1 & 0.90\\\\\n",
       "\\end{tabular}\n"
      ],
      "text/markdown": [
       "\n",
       "A data.frame: 6 × 9\n",
       "\n",
       "| <!--/--> | Serial.No. &lt;int&gt; | GRE.Score &lt;int&gt; | TOEFL.Score &lt;int&gt; | University.Rating &lt;int&gt; | SOP &lt;dbl&gt; | LOR &lt;dbl&gt; | CGPA &lt;dbl&gt; | Research &lt;int&gt; | Chance.of.Admit &lt;dbl&gt; |\n",
       "|---|---|---|---|---|---|---|---|---|---|\n",
       "| 1 | 1 | 337 | 118 | 4 | 4.5 | 4.5 | 9.65 | 1 | 0.92 |\n",
       "| 2 | 2 | 324 | 107 | 4 | 4.0 | 4.5 | 8.87 | 1 | 0.76 |\n",
       "| 3 | 3 | 316 | 104 | 3 | 3.0 | 3.5 | 8.00 | 1 | 0.72 |\n",
       "| 4 | 4 | 322 | 110 | 3 | 3.5 | 2.5 | 8.67 | 1 | 0.80 |\n",
       "| 5 | 5 | 314 | 103 | 2 | 2.0 | 3.0 | 8.21 | 0 | 0.65 |\n",
       "| 6 | 6 | 330 | 115 | 5 | 4.5 | 3.0 | 9.34 | 1 | 0.90 |\n",
       "\n"
      ],
      "text/plain": [
       "  Serial.No. GRE.Score TOEFL.Score University.Rating SOP LOR CGPA Research\n",
       "1 1          337       118         4                 4.5 4.5 9.65 1       \n",
       "2 2          324       107         4                 4.0 4.5 8.87 1       \n",
       "3 3          316       104         3                 3.0 3.5 8.00 1       \n",
       "4 4          322       110         3                 3.5 2.5 8.67 1       \n",
       "5 5          314       103         2                 2.0 3.0 8.21 0       \n",
       "6 6          330       115         5                 4.5 3.0 9.34 1       \n",
       "  Chance.of.Admit\n",
       "1 0.92           \n",
       "2 0.76           \n",
       "3 0.72           \n",
       "4 0.80           \n",
       "5 0.65           \n",
       "6 0.90           "
      ]
     },
     "metadata": {},
     "output_type": "display_data"
    }
   ],
   "source": [
    "head(data)"
   ]
  },
  {
   "cell_type": "code",
   "execution_count": 5,
   "id": "ccd38d03-5a5f-443f-99d1-07b2132161dd",
   "metadata": {},
   "outputs": [
    {
     "data": {
      "image/png": "[encoded data removed]",
      "text/plain": [
       "Plot with title \"\""
      ]
     },
     "metadata": {
      "image/png": {
       "height": 420,
       "width": 420
      }
     },
     "output_type": "display_data"
    }
   ],
   "source": [
    "plotNormalHistogram(data$CGPA)"
   ]
  },
  {
   "cell_type": "code",
   "execution_count": 11,
   "id": "c4413710-edac-41e1-a426-525b414602ac",
   "metadata": {},
   "outputs": [
    {
     "data": {
      "text/html": [
       "<table class=\"dataframe\">\n",
       "<caption>A data.frame: 400 × 9</caption>\n",
       "<thead>\n",
       "\t<tr><th></th><th scope=col>Serial.No.</th><th scope=col>GRE.Score</th><th scope=col>TOEFL.Score</th><th scope=col>University.Rating</th><th scope=col>SOP</th><th scope=col>LOR</th><th scope=col>CGPA</th><th scope=col>Research</th><th scope=col>Chance.of.Admit</th></tr>\n",
       "\t<tr><th></th><th scope=col>&lt;int&gt;</th><th scope=col>&lt;int&gt;</th><th scope=col>&lt;int&gt;</th><th scope=col>&lt;int&gt;</th><th scope=col>&lt;dbl&gt;</th><th scope=col>&lt;dbl&gt;</th><th scope=col>&lt;dbl&gt;</th><th scope=col>&lt;int&gt;</th><th scope=col>&lt;dbl&gt;</th></tr>\n",
       "</thead>\n",
       "<tbody>\n",
       "\t<tr><th scope=row>1</th><td> 1</td><td>337</td><td>118</td><td>4</td><td>4.5</td><td>4.5</td><td>9.65</td><td>1</td><td>0.92</td></tr>\n",
       "\t<tr><th scope=row>2</th><td> 2</td><td>324</td><td>107</td><td>4</td><td>4.0</td><td>4.5</td><td>8.87</td><td>1</td><td>0.76</td></tr>\n",
       "\t<tr><th scope=row>3</th><td> 3</td><td>316</td><td>104</td><td>3</td><td>3.0</td><td>3.5</td><td>8.00</td><td>1</td><td>0.72</td></tr>\n",
       "\t<tr><th scope=row>4</th><td> 4</td><td>322</td><td>110</td><td>3</td><td>3.5</td><td>2.5</td><td>8.67</td><td>1</td><td>0.80</td></tr>\n",
       "\t<tr><th scope=row>5</th><td> 5</td><td>314</td><td>103</td><td>2</td><td>2.0</td><td>3.0</td><td>8.21</td><td>0</td><td>0.65</td></tr>\n",
       "\t<tr><th scope=row>6</th><td> 6</td><td>330</td><td>115</td><td>5</td><td>4.5</td><td>3.0</td><td>9.34</td><td>1</td><td>0.90</td></tr>\n",
       "\t<tr><th scope=row>7</th><td> 7</td><td>321</td><td>109</td><td>3</td><td>3.0</td><td>4.0</td><td>8.20</td><td>1</td><td>0.75</td></tr>\n",
       "\t<tr><th scope=row>8</th><td> 8</td><td>308</td><td>101</td><td>2</td><td>3.0</td><td>4.0</td><td>7.90</td><td>0</td><td>0.68</td></tr>\n",
       "\t<tr><th scope=row>9</th><td> 9</td><td>302</td><td>102</td><td>1</td><td>2.0</td><td>1.5</td><td>8.00</td><td>0</td><td>0.50</td></tr>\n",
       "\t<tr><th scope=row>10</th><td>10</td><td>323</td><td>108</td><td>3</td><td>3.5</td><td>3.0</td><td>8.60</td><td>0</td><td>0.45</td></tr>\n",
       "\t<tr><th scope=row>11</th><td>11</td><td>325</td><td>106</td><td>3</td><td>3.5</td><td>4.0</td><td>8.40</td><td>1</td><td>0.52</td></tr>\n",
       "\t<tr><th scope=row>12</th><td>12</td><td>327</td><td>111</td><td>4</td><td>4.0</td><td>4.5</td><td>9.00</td><td>1</td><td>0.84</td></tr>\n",
       "\t<tr><th scope=row>13</th><td>13</td><td>328</td><td>112</td><td>4</td><td>4.0</td><td>4.5</td><td>9.10</td><td>1</td><td>0.78</td></tr>\n",
       "\t<tr><th scope=row>14</th><td>14</td><td>307</td><td>109</td><td>3</td><td>4.0</td><td>3.0</td><td>8.00</td><td>1</td><td>0.62</td></tr>\n",
       "\t<tr><th scope=row>15</th><td>15</td><td>311</td><td>104</td><td>3</td><td>3.5</td><td>2.0</td><td>8.20</td><td>1</td><td>0.61</td></tr>\n",
       "\t<tr><th scope=row>16</th><td>16</td><td>314</td><td>105</td><td>3</td><td>3.5</td><td>2.5</td><td>8.30</td><td>0</td><td>0.54</td></tr>\n",
       "\t<tr><th scope=row>17</th><td>17</td><td>317</td><td>107</td><td>3</td><td>4.0</td><td>3.0</td><td>8.70</td><td>0</td><td>0.66</td></tr>\n",
       "\t<tr><th scope=row>18</th><td>18</td><td>319</td><td>106</td><td>3</td><td>4.0</td><td>3.0</td><td>8.00</td><td>1</td><td>0.65</td></tr>\n",
       "\t<tr><th scope=row>19</th><td>19</td><td>318</td><td>110</td><td>3</td><td>4.0</td><td>3.0</td><td>8.80</td><td>0</td><td>0.63</td></tr>\n",
       "\t<tr><th scope=row>20</th><td>20</td><td>303</td><td>102</td><td>3</td><td>3.5</td><td>3.0</td><td>8.50</td><td>0</td><td>0.62</td></tr>\n",
       "\t<tr><th scope=row>21</th><td>21</td><td>312</td><td>107</td><td>3</td><td>3.0</td><td>2.0</td><td>7.90</td><td>1</td><td>0.64</td></tr>\n",
       "\t<tr><th scope=row>22</th><td>22</td><td>325</td><td>114</td><td>4</td><td>3.0</td><td>2.0</td><td>8.40</td><td>0</td><td>0.70</td></tr>\n",
       "\t<tr><th scope=row>23</th><td>23</td><td>328</td><td>116</td><td>5</td><td>5.0</td><td>5.0</td><td>9.50</td><td>1</td><td>0.94</td></tr>\n",
       "\t<tr><th scope=row>24</th><td>24</td><td>334</td><td>119</td><td>5</td><td>5.0</td><td>4.5</td><td>9.70</td><td>1</td><td>0.95</td></tr>\n",
       "\t<tr><th scope=row>25</th><td>25</td><td>336</td><td>119</td><td>5</td><td>4.0</td><td>3.5</td><td>9.80</td><td>1</td><td>0.97</td></tr>\n",
       "\t<tr><th scope=row>26</th><td>26</td><td>340</td><td>120</td><td>5</td><td>4.5</td><td>4.5</td><td>9.60</td><td>1</td><td>0.94</td></tr>\n",
       "\t<tr><th scope=row>27</th><td>27</td><td>322</td><td>109</td><td>5</td><td>4.5</td><td>3.5</td><td>8.80</td><td>0</td><td>0.76</td></tr>\n",
       "\t<tr><th scope=row>28</th><td>28</td><td>298</td><td> 98</td><td>2</td><td>1.5</td><td>2.5</td><td>7.50</td><td>1</td><td>0.44</td></tr>\n",
       "\t<tr><th scope=row>29</th><td>29</td><td>295</td><td> 93</td><td>1</td><td>2.0</td><td>2.0</td><td>7.20</td><td>0</td><td>0.46</td></tr>\n",
       "\t<tr><th scope=row>30</th><td>30</td><td>310</td><td> 99</td><td>2</td><td>1.5</td><td>2.0</td><td>7.30</td><td>0</td><td>0.54</td></tr>\n",
       "\t<tr><th scope=row>...</th><td>...</td><td>...</td><td>...</td><td>...</td><td>...</td><td>...</td><td>...</td><td>...</td><td>...</td></tr>\n",
       "\t<tr><th scope=row>371</th><td>371</td><td>310</td><td>103</td><td>2</td><td>2.5</td><td>2.5</td><td>8.24</td><td>0</td><td>0.72</td></tr>\n",
       "\t<tr><th scope=row>372</th><td>372</td><td>324</td><td>110</td><td>3</td><td>3.5</td><td>3.0</td><td>9.22</td><td>1</td><td>0.89</td></tr>\n",
       "\t<tr><th scope=row>373</th><td>373</td><td>336</td><td>119</td><td>4</td><td>4.5</td><td>4.0</td><td>9.62</td><td>1</td><td>0.95</td></tr>\n",
       "\t<tr><th scope=row>374</th><td>374</td><td>321</td><td>109</td><td>3</td><td>3.0</td><td>3.0</td><td>8.54</td><td>1</td><td>0.79</td></tr>\n",
       "\t<tr><th scope=row>375</th><td>375</td><td>315</td><td>105</td><td>2</td><td>2.0</td><td>2.5</td><td>7.65</td><td>0</td><td>0.39</td></tr>\n",
       "\t<tr><th scope=row>376</th><td>376</td><td>304</td><td>101</td><td>2</td><td>2.0</td><td>2.5</td><td>7.66</td><td>0</td><td>0.38</td></tr>\n",
       "\t<tr><th scope=row>377</th><td>377</td><td>297</td><td> 96</td><td>2</td><td>2.5</td><td>2.0</td><td>7.43</td><td>0</td><td>0.34</td></tr>\n",
       "\t<tr><th scope=row>378</th><td>378</td><td>290</td><td>100</td><td>1</td><td>1.5</td><td>2.0</td><td>7.56</td><td>0</td><td>0.47</td></tr>\n",
       "\t<tr><th scope=row>379</th><td>379</td><td>303</td><td> 98</td><td>1</td><td>2.0</td><td>2.5</td><td>7.65</td><td>0</td><td>0.56</td></tr>\n",
       "\t<tr><th scope=row>380</th><td>380</td><td>311</td><td> 99</td><td>1</td><td>2.5</td><td>3.0</td><td>8.43</td><td>1</td><td>0.71</td></tr>\n",
       "\t<tr><th scope=row>381</th><td>381</td><td>322</td><td>104</td><td>3</td><td>3.5</td><td>4.0</td><td>8.84</td><td>1</td><td>0.78</td></tr>\n",
       "\t<tr><th scope=row>382</th><td>382</td><td>319</td><td>105</td><td>3</td><td>3.0</td><td>3.5</td><td>8.67</td><td>1</td><td>0.73</td></tr>\n",
       "\t<tr><th scope=row>383</th><td>383</td><td>324</td><td>110</td><td>4</td><td>4.5</td><td>4.0</td><td>9.15</td><td>1</td><td>0.82</td></tr>\n",
       "\t<tr><th scope=row>384</th><td>384</td><td>300</td><td>100</td><td>3</td><td>3.0</td><td>3.5</td><td>8.26</td><td>0</td><td>0.62</td></tr>\n",
       "\t<tr><th scope=row>385</th><td>385</td><td>340</td><td>113</td><td>4</td><td>5.0</td><td>5.0</td><td>9.74</td><td>1</td><td>0.96</td></tr>\n",
       "\t<tr><th scope=row>386</th><td>386</td><td>335</td><td>117</td><td>5</td><td>5.0</td><td>5.0</td><td>9.82</td><td>1</td><td>0.96</td></tr>\n",
       "\t<tr><th scope=row>387</th><td>387</td><td>302</td><td>101</td><td>2</td><td>2.5</td><td>3.5</td><td>7.96</td><td>0</td><td>0.46</td></tr>\n",
       "\t<tr><th scope=row>388</th><td>388</td><td>307</td><td>105</td><td>2</td><td>2.0</td><td>3.5</td><td>8.10</td><td>0</td><td>0.53</td></tr>\n",
       "\t<tr><th scope=row>389</th><td>389</td><td>296</td><td> 97</td><td>2</td><td>1.5</td><td>2.0</td><td>7.80</td><td>0</td><td>0.49</td></tr>\n",
       "\t<tr><th scope=row>390</th><td>390</td><td>320</td><td>108</td><td>3</td><td>3.5</td><td>4.0</td><td>8.44</td><td>1</td><td>0.76</td></tr>\n",
       "\t<tr><th scope=row>391</th><td>391</td><td>314</td><td>102</td><td>2</td><td>2.0</td><td>2.5</td><td>8.24</td><td>0</td><td>0.64</td></tr>\n",
       "\t<tr><th scope=row>392</th><td>392</td><td>318</td><td>106</td><td>3</td><td>2.0</td><td>3.0</td><td>8.65</td><td>0</td><td>0.71</td></tr>\n",
       "\t<tr><th scope=row>393</th><td>393</td><td>326</td><td>112</td><td>4</td><td>4.0</td><td>3.5</td><td>9.12</td><td>1</td><td>0.84</td></tr>\n",
       "\t<tr><th scope=row>394</th><td>394</td><td>317</td><td>104</td><td>2</td><td>3.0</td><td>3.0</td><td>8.76</td><td>0</td><td>0.77</td></tr>\n",
       "\t<tr><th scope=row>395</th><td>395</td><td>329</td><td>111</td><td>4</td><td>4.5</td><td>4.0</td><td>9.23</td><td>1</td><td>0.89</td></tr>\n",
       "\t<tr><th scope=row>396</th><td>396</td><td>324</td><td>110</td><td>3</td><td>3.5</td><td>3.5</td><td>9.04</td><td>1</td><td>0.82</td></tr>\n",
       "\t<tr><th scope=row>397</th><td>397</td><td>325</td><td>107</td><td>3</td><td>3.0</td><td>3.5</td><td>9.11</td><td>1</td><td>0.84</td></tr>\n",
       "\t<tr><th scope=row>398</th><td>398</td><td>330</td><td>116</td><td>4</td><td>5.0</td><td>4.5</td><td>9.45</td><td>1</td><td>0.91</td></tr>\n",
       "\t<tr><th scope=row>399</th><td>399</td><td>312</td><td>103</td><td>3</td><td>3.5</td><td>4.0</td><td>8.78</td><td>0</td><td>0.67</td></tr>\n",
       "\t<tr><th scope=row>400</th><td>400</td><td>333</td><td>117</td><td>4</td><td>5.0</td><td>4.0</td><td>9.66</td><td>1</td><td>0.95</td></tr>\n",
       "</tbody>\n",
       "</table>\n"
      ],
      "text/latex": [
       "A data.frame: 400 × 9\n",
       "\\begin{tabular}{r|lllllllll}\n",
       "  & Serial.No. & GRE.Score & TOEFL.Score & University.Rating & SOP & LOR & CGPA & Research & Chance.of.Admit\\\\\n",
       "  & <int> & <int> & <int> & <int> & <dbl> & <dbl> & <dbl> & <int> & <dbl>\\\\\n",
       "\\hline\n",
       "\t1 &  1 & 337 & 118 & 4 & 4.5 & 4.5 & 9.65 & 1 & 0.92\\\\\n",
       "\t2 &  2 & 324 & 107 & 4 & 4.0 & 4.5 & 8.87 & 1 & 0.76\\\\\n",
       "\t3 &  3 & 316 & 104 & 3 & 3.0 & 3.5 & 8.00 & 1 & 0.72\\\\\n",
       "\t4 &  4 & 322 & 110 & 3 & 3.5 & 2.5 & 8.67 & 1 & 0.80\\\\\n",
       "\t5 &  5 & 314 & 103 & 2 & 2.0 & 3.0 & 8.21 & 0 & 0.65\\\\\n",
       "\t6 &  6 & 330 & 115 & 5 & 4.5 & 3.0 & 9.34 & 1 & 0.90\\\\\n",
       "\t7 &  7 & 321 & 109 & 3 & 3.0 & 4.0 & 8.20 & 1 & 0.75\\\\\n",
       "\t8 &  8 & 308 & 101 & 2 & 3.0 & 4.0 & 7.90 & 0 & 0.68\\\\\n",
       "\t9 &  9 & 302 & 102 & 1 & 2.0 & 1.5 & 8.00 & 0 & 0.50\\\\\n",
       "\t10 & 10 & 323 & 108 & 3 & 3.5 & 3.0 & 8.60 & 0 & 0.45\\\\\n",
       "\t11 & 11 & 325 & 106 & 3 & 3.5 & 4.0 & 8.40 & 1 & 0.52\\\\\n",
       "\t12 & 12 & 327 & 111 & 4 & 4.0 & 4.5 & 9.00 & 1 & 0.84\\\\\n",
       "\t13 & 13 & 328 & 112 & 4 & 4.0 & 4.5 & 9.10 & 1 & 0.78\\\\\n",
       "\t14 & 14 & 307 & 109 & 3 & 4.0 & 3.0 & 8.00 & 1 & 0.62\\\\\n",
       "\t15 & 15 & 311 & 104 & 3 & 3.5 & 2.0 & 8.20 & 1 & 0.61\\\\\n",
       "\t16 & 16 & 314 & 105 & 3 & 3.5 & 2.5 & 8.30 & 0 & 0.54\\\\\n",
       "\t17 & 17 & 317 & 107 & 3 & 4.0 & 3.0 & 8.70 & 0 & 0.66\\\\\n",
       "\t18 & 18 & 319 & 106 & 3 & 4.0 & 3.0 & 8.00 & 1 & 0.65\\\\\n",
       "\t19 & 19 & 318 & 110 & 3 & 4.0 & 3.0 & 8.80 & 0 & 0.63\\\\\n",
       "\t20 & 20 & 303 & 102 & 3 & 3.5 & 3.0 & 8.50 & 0 & 0.62\\\\\n",
       "\t21 & 21 & 312 & 107 & 3 & 3.0 & 2.0 & 7.90 & 1 & 0.64\\\\\n",
       "\t22 & 22 & 325 & 114 & 4 & 3.0 & 2.0 & 8.40 & 0 & 0.70\\\\\n",
       "\t23 & 23 & 328 & 116 & 5 & 5.0 & 5.0 & 9.50 & 1 & 0.94\\\\\n",
       "\t24 & 24 & 334 & 119 & 5 & 5.0 & 4.5 & 9.70 & 1 & 0.95\\\\\n",
       "\t25 & 25 & 336 & 119 & 5 & 4.0 & 3.5 & 9.80 & 1 & 0.97\\\\\n",
       "\t26 & 26 & 340 & 120 & 5 & 4.5 & 4.5 & 9.60 & 1 & 0.94\\\\\n",
       "\t27 & 27 & 322 & 109 & 5 & 4.5 & 3.5 & 8.80 & 0 & 0.76\\\\\n",
       "\t28 & 28 & 298 &  98 & 2 & 1.5 & 2.5 & 7.50 & 1 & 0.44\\\\\n",
       "\t29 & 29 & 295 &  93 & 1 & 2.0 & 2.0 & 7.20 & 0 & 0.46\\\\\n",
       "\t30 & 30 & 310 &  99 & 2 & 1.5 & 2.0 & 7.30 & 0 & 0.54\\\\\n",
       "\t... & ... & ... & ... & ... & ... & ... & ... & ... & ...\\\\\n",
       "\t371 & 371 & 310 & 103 & 2 & 2.5 & 2.5 & 8.24 & 0 & 0.72\\\\\n",
       "\t372 & 372 & 324 & 110 & 3 & 3.5 & 3.0 & 9.22 & 1 & 0.89\\\\\n",
       "\t373 & 373 & 336 & 119 & 4 & 4.5 & 4.0 & 9.62 & 1 & 0.95\\\\\n",
       "\t374 & 374 & 321 & 109 & 3 & 3.0 & 3.0 & 8.54 & 1 & 0.79\\\\\n",
       "\t375 & 375 & 315 & 105 & 2 & 2.0 & 2.5 & 7.65 & 0 & 0.39\\\\\n",
       "\t376 & 376 & 304 & 101 & 2 & 2.0 & 2.5 & 7.66 & 0 & 0.38\\\\\n",
       "\t377 & 377 & 297 &  96 & 2 & 2.5 & 2.0 & 7.43 & 0 & 0.34\\\\\n",
       "\t378 & 378 & 290 & 100 & 1 & 1.5 & 2.0 & 7.56 & 0 & 0.47\\\\\n",
       "\t379 & 379 & 303 &  98 & 1 & 2.0 & 2.5 & 7.65 & 0 & 0.56\\\\\n",
       "\t380 & 380 & 311 &  99 & 1 & 2.5 & 3.0 & 8.43 & 1 & 0.71\\\\\n",
       "\t381 & 381 & 322 & 104 & 3 & 3.5 & 4.0 & 8.84 & 1 & 0.78\\\\\n",
       "\t382 & 382 & 319 & 105 & 3 & 3.0 & 3.5 & 8.67 & 1 & 0.73\\\\\n",
       "\t383 & 383 & 324 & 110 & 4 & 4.5 & 4.0 & 9.15 & 1 & 0.82\\\\\n",
       "\t384 & 384 & 300 & 100 & 3 & 3.0 & 3.5 & 8.26 & 0 & 0.62\\\\\n",
       "\t385 & 385 & 340 & 113 & 4 & 5.0 & 5.0 & 9.74 & 1 & 0.96\\\\\n",
       "\t386 & 386 & 335 & 117 & 5 & 5.0 & 5.0 & 9.82 & 1 & 0.96\\\\\n",
       "\t387 & 387 & 302 & 101 & 2 & 2.5 & 3.5 & 7.96 & 0 & 0.46\\\\\n",
       "\t388 & 388 & 307 & 105 & 2 & 2.0 & 3.5 & 8.10 & 0 & 0.53\\\\\n",
       "\t389 & 389 & 296 &  97 & 2 & 1.5 & 2.0 & 7.80 & 0 & 0.49\\\\\n",
       "\t390 & 390 & 320 & 108 & 3 & 3.5 & 4.0 & 8.44 & 1 & 0.76\\\\\n",
       "\t391 & 391 & 314 & 102 & 2 & 2.0 & 2.5 & 8.24 & 0 & 0.64\\\\\n",
       "\t392 & 392 & 318 & 106 & 3 & 2.0 & 3.0 & 8.65 & 0 & 0.71\\\\\n",
       "\t393 & 393 & 326 & 112 & 4 & 4.0 & 3.5 & 9.12 & 1 & 0.84\\\\\n",
       "\t394 & 394 & 317 & 104 & 2 & 3.0 & 3.0 & 8.76 & 0 & 0.77\\\\\n",
       "\t395 & 395 & 329 & 111 & 4 & 4.5 & 4.0 & 9.23 & 1 & 0.89\\\\\n",
       "\t396 & 396 & 324 & 110 & 3 & 3.5 & 3.5 & 9.04 & 1 & 0.82\\\\\n",
       "\t397 & 397 & 325 & 107 & 3 & 3.0 & 3.5 & 9.11 & 1 & 0.84\\\\\n",
       "\t398 & 398 & 330 & 116 & 4 & 5.0 & 4.5 & 9.45 & 1 & 0.91\\\\\n",
       "\t399 & 399 & 312 & 103 & 3 & 3.5 & 4.0 & 8.78 & 0 & 0.67\\\\\n",
       "\t400 & 400 & 333 & 117 & 4 & 5.0 & 4.0 & 9.66 & 1 & 0.95\\\\\n",
       "\\end{tabular}\n"
      ],
      "text/markdown": [
       "\n",
       "A data.frame: 400 × 9\n",
       "\n",
       "| <!--/--> | Serial.No. &lt;int&gt; | GRE.Score &lt;int&gt; | TOEFL.Score &lt;int&gt; | University.Rating &lt;int&gt; | SOP &lt;dbl&gt; | LOR &lt;dbl&gt; | CGPA &lt;dbl&gt; | Research &lt;int&gt; | Chance.of.Admit &lt;dbl&gt; |\n",
       "|---|---|---|---|---|---|---|---|---|---|\n",
       "| 1 |  1 | 337 | 118 | 4 | 4.5 | 4.5 | 9.65 | 1 | 0.92 |\n",
       "| 2 |  2 | 324 | 107 | 4 | 4.0 | 4.5 | 8.87 | 1 | 0.76 |\n",
       "| 3 |  3 | 316 | 104 | 3 | 3.0 | 3.5 | 8.00 | 1 | 0.72 |\n",
       "| 4 |  4 | 322 | 110 | 3 | 3.5 | 2.5 | 8.67 | 1 | 0.80 |\n",
       "| 5 |  5 | 314 | 103 | 2 | 2.0 | 3.0 | 8.21 | 0 | 0.65 |\n",
       "| 6 |  6 | 330 | 115 | 5 | 4.5 | 3.0 | 9.34 | 1 | 0.90 |\n",
       "| 7 |  7 | 321 | 109 | 3 | 3.0 | 4.0 | 8.20 | 1 | 0.75 |\n",
       "| 8 |  8 | 308 | 101 | 2 | 3.0 | 4.0 | 7.90 | 0 | 0.68 |\n",
       "| 9 |  9 | 302 | 102 | 1 | 2.0 | 1.5 | 8.00 | 0 | 0.50 |\n",
       "| 10 | 10 | 323 | 108 | 3 | 3.5 | 3.0 | 8.60 | 0 | 0.45 |\n",
       "| 11 | 11 | 325 | 106 | 3 | 3.5 | 4.0 | 8.40 | 1 | 0.52 |\n",
       "| 12 | 12 | 327 | 111 | 4 | 4.0 | 4.5 | 9.00 | 1 | 0.84 |\n",
       "| 13 | 13 | 328 | 112 | 4 | 4.0 | 4.5 | 9.10 | 1 | 0.78 |\n",
       "| 14 | 14 | 307 | 109 | 3 | 4.0 | 3.0 | 8.00 | 1 | 0.62 |\n",
       "| 15 | 15 | 311 | 104 | 3 | 3.5 | 2.0 | 8.20 | 1 | 0.61 |\n",
       "| 16 | 16 | 314 | 105 | 3 | 3.5 | 2.5 | 8.30 | 0 | 0.54 |\n",
       "| 17 | 17 | 317 | 107 | 3 | 4.0 | 3.0 | 8.70 | 0 | 0.66 |\n",
       "| 18 | 18 | 319 | 106 | 3 | 4.0 | 3.0 | 8.00 | 1 | 0.65 |\n",
       "| 19 | 19 | 318 | 110 | 3 | 4.0 | 3.0 | 8.80 | 0 | 0.63 |\n",
       "| 20 | 20 | 303 | 102 | 3 | 3.5 | 3.0 | 8.50 | 0 | 0.62 |\n",
       "| 21 | 21 | 312 | 107 | 3 | 3.0 | 2.0 | 7.90 | 1 | 0.64 |\n",
       "| 22 | 22 | 325 | 114 | 4 | 3.0 | 2.0 | 8.40 | 0 | 0.70 |\n",
       "| 23 | 23 | 328 | 116 | 5 | 5.0 | 5.0 | 9.50 | 1 | 0.94 |\n",
       "| 24 | 24 | 334 | 119 | 5 | 5.0 | 4.5 | 9.70 | 1 | 0.95 |\n",
       "| 25 | 25 | 336 | 119 | 5 | 4.0 | 3.5 | 9.80 | 1 | 0.97 |\n",
       "| 26 | 26 | 340 | 120 | 5 | 4.5 | 4.5 | 9.60 | 1 | 0.94 |\n",
       "| 27 | 27 | 322 | 109 | 5 | 4.5 | 3.5 | 8.80 | 0 | 0.76 |\n",
       "| 28 | 28 | 298 |  98 | 2 | 1.5 | 2.5 | 7.50 | 1 | 0.44 |\n",
       "| 29 | 29 | 295 |  93 | 1 | 2.0 | 2.0 | 7.20 | 0 | 0.46 |\n",
       "| 30 | 30 | 310 |  99 | 2 | 1.5 | 2.0 | 7.30 | 0 | 0.54 |\n",
       "| ... | ... | ... | ... | ... | ... | ... | ... | ... | ... |\n",
       "| 371 | 371 | 310 | 103 | 2 | 2.5 | 2.5 | 8.24 | 0 | 0.72 |\n",
       "| 372 | 372 | 324 | 110 | 3 | 3.5 | 3.0 | 9.22 | 1 | 0.89 |\n",
       "| 373 | 373 | 336 | 119 | 4 | 4.5 | 4.0 | 9.62 | 1 | 0.95 |\n",
       "| 374 | 374 | 321 | 109 | 3 | 3.0 | 3.0 | 8.54 | 1 | 0.79 |\n",
       "| 375 | 375 | 315 | 105 | 2 | 2.0 | 2.5 | 7.65 | 0 | 0.39 |\n",
       "| 376 | 376 | 304 | 101 | 2 | 2.0 | 2.5 | 7.66 | 0 | 0.38 |\n",
       "| 377 | 377 | 297 |  96 | 2 | 2.5 | 2.0 | 7.43 | 0 | 0.34 |\n",
       "| 378 | 378 | 290 | 100 | 1 | 1.5 | 2.0 | 7.56 | 0 | 0.47 |\n",
       "| 379 | 379 | 303 |  98 | 1 | 2.0 | 2.5 | 7.65 | 0 | 0.56 |\n",
       "| 380 | 380 | 311 |  99 | 1 | 2.5 | 3.0 | 8.43 | 1 | 0.71 |\n",
       "| 381 | 381 | 322 | 104 | 3 | 3.5 | 4.0 | 8.84 | 1 | 0.78 |\n",
       "| 382 | 382 | 319 | 105 | 3 | 3.0 | 3.5 | 8.67 | 1 | 0.73 |\n",
       "| 383 | 383 | 324 | 110 | 4 | 4.5 | 4.0 | 9.15 | 1 | 0.82 |\n",
       "| 384 | 384 | 300 | 100 | 3 | 3.0 | 3.5 | 8.26 | 0 | 0.62 |\n",
       "| 385 | 385 | 340 | 113 | 4 | 5.0 | 5.0 | 9.74 | 1 | 0.96 |\n",
       "| 386 | 386 | 335 | 117 | 5 | 5.0 | 5.0 | 9.82 | 1 | 0.96 |\n",
       "| 387 | 387 | 302 | 101 | 2 | 2.5 | 3.5 | 7.96 | 0 | 0.46 |\n",
       "| 388 | 388 | 307 | 105 | 2 | 2.0 | 3.5 | 8.10 | 0 | 0.53 |\n",
       "| 389 | 389 | 296 |  97 | 2 | 1.5 | 2.0 | 7.80 | 0 | 0.49 |\n",
       "| 390 | 390 | 320 | 108 | 3 | 3.5 | 4.0 | 8.44 | 1 | 0.76 |\n",
       "| 391 | 391 | 314 | 102 | 2 | 2.0 | 2.5 | 8.24 | 0 | 0.64 |\n",
       "| 392 | 392 | 318 | 106 | 3 | 2.0 | 3.0 | 8.65 | 0 | 0.71 |\n",
       "| 393 | 393 | 326 | 112 | 4 | 4.0 | 3.5 | 9.12 | 1 | 0.84 |\n",
       "| 394 | 394 | 317 | 104 | 2 | 3.0 | 3.0 | 8.76 | 0 | 0.77 |\n",
       "| 395 | 395 | 329 | 111 | 4 | 4.5 | 4.0 | 9.23 | 1 | 0.89 |\n",
       "| 396 | 396 | 324 | 110 | 3 | 3.5 | 3.5 | 9.04 | 1 | 0.82 |\n",
       "| 397 | 397 | 325 | 107 | 3 | 3.0 | 3.5 | 9.11 | 1 | 0.84 |\n",
       "| 398 | 398 | 330 | 116 | 4 | 5.0 | 4.5 | 9.45 | 1 | 0.91 |\n",
       "| 399 | 399 | 312 | 103 | 3 | 3.5 | 4.0 | 8.78 | 0 | 0.67 |\n",
       "| 400 | 400 | 333 | 117 | 4 | 5.0 | 4.0 | 9.66 | 1 | 0.95 |\n",
       "\n"
      ],
      "text/plain": [
       "    Serial.No. GRE.Score TOEFL.Score University.Rating SOP LOR CGPA Research\n",
       "1    1         337       118         4                 4.5 4.5 9.65 1       \n",
       "2    2         324       107         4                 4.0 4.5 8.87 1       \n",
       "3    3         316       104         3                 3.0 3.5 8.00 1       \n",
       "4    4         322       110         3                 3.5 2.5 8.67 1       \n",
       "5    5         314       103         2                 2.0 3.0 8.21 0       \n",
       "6    6         330       115         5                 4.5 3.0 9.34 1       \n",
       "7    7         321       109         3                 3.0 4.0 8.20 1       \n",
       "8    8         308       101         2                 3.0 4.0 7.90 0       \n",
       "9    9         302       102         1                 2.0 1.5 8.00 0       \n",
       "10  10         323       108         3                 3.5 3.0 8.60 0       \n",
       "11  11         325       106         3                 3.5 4.0 8.40 1       \n",
       "12  12         327       111         4                 4.0 4.5 9.00 1       \n",
       "13  13         328       112         4                 4.0 4.5 9.10 1       \n",
       "14  14         307       109         3                 4.0 3.0 8.00 1       \n",
       "15  15         311       104         3                 3.5 2.0 8.20 1       \n",
       "16  16         314       105         3                 3.5 2.5 8.30 0       \n",
       "17  17         317       107         3                 4.0 3.0 8.70 0       \n",
       "18  18         319       106         3                 4.0 3.0 8.00 1       \n",
       "19  19         318       110         3                 4.0 3.0 8.80 0       \n",
       "20  20         303       102         3                 3.5 3.0 8.50 0       \n",
       "21  21         312       107         3                 3.0 2.0 7.90 1       \n",
       "22  22         325       114         4                 3.0 2.0 8.40 0       \n",
       "23  23         328       116         5                 5.0 5.0 9.50 1       \n",
       "24  24         334       119         5                 5.0 4.5 9.70 1       \n",
       "25  25         336       119         5                 4.0 3.5 9.80 1       \n",
       "26  26         340       120         5                 4.5 4.5 9.60 1       \n",
       "27  27         322       109         5                 4.5 3.5 8.80 0       \n",
       "28  28         298        98         2                 1.5 2.5 7.50 1       \n",
       "29  29         295        93         1                 2.0 2.0 7.20 0       \n",
       "30  30         310        99         2                 1.5 2.0 7.30 0       \n",
       "... ...        ...       ...         ...               ... ... ...  ...     \n",
       "371 371        310       103         2                 2.5 2.5 8.24 0       \n",
       "372 372        324       110         3                 3.5 3.0 9.22 1       \n",
       "373 373        336       119         4                 4.5 4.0 9.62 1       \n",
       "374 374        321       109         3                 3.0 3.0 8.54 1       \n",
       "375 375        315       105         2                 2.0 2.5 7.65 0       \n",
       "376 376        304       101         2                 2.0 2.5 7.66 0       \n",
       "377 377        297        96         2                 2.5 2.0 7.43 0       \n",
       "378 378        290       100         1                 1.5 2.0 7.56 0       \n",
       "379 379        303        98         1                 2.0 2.5 7.65 0       \n",
       "380 380        311        99         1                 2.5 3.0 8.43 1       \n",
       "381 381        322       104         3                 3.5 4.0 8.84 1       \n",
       "382 382        319       105         3                 3.0 3.5 8.67 1       \n",
       "383 383        324       110         4                 4.5 4.0 9.15 1       \n",
       "384 384        300       100         3                 3.0 3.5 8.26 0       \n",
       "385 385        340       113         4                 5.0 5.0 9.74 1       \n",
       "386 386        335       117         5                 5.0 5.0 9.82 1       \n",
       "387 387        302       101         2                 2.5 3.5 7.96 0       \n",
       "388 388        307       105         2                 2.0 3.5 8.10 0       \n",
       "389 389        296        97         2                 1.5 2.0 7.80 0       \n",
       "390 390        320       108         3                 3.5 4.0 8.44 1       \n",
       "391 391        314       102         2                 2.0 2.5 8.24 0       \n",
       "392 392        318       106         3                 2.0 3.0 8.65 0       \n",
       "393 393        326       112         4                 4.0 3.5 9.12 1       \n",
       "394 394        317       104         2                 3.0 3.0 8.76 0       \n",
       "395 395        329       111         4                 4.5 4.0 9.23 1       \n",
       "396 396        324       110         3                 3.5 3.5 9.04 1       \n",
       "397 397        325       107         3                 3.0 3.5 9.11 1       \n",
       "398 398        330       116         4                 5.0 4.5 9.45 1       \n",
       "399 399        312       103         3                 3.5 4.0 8.78 0       \n",
       "400 400        333       117         4                 5.0 4.0 9.66 1       \n",
       "    Chance.of.Admit\n",
       "1   0.92           \n",
       "2   0.76           \n",
       "3   0.72           \n",
       "4   0.80           \n",
       "5   0.65           \n",
       "6   0.90           \n",
       "7   0.75           \n",
       "8   0.68           \n",
       "9   0.50           \n",
       "10  0.45           \n",
       "11  0.52           \n",
       "12  0.84           \n",
       "13  0.78           \n",
       "14  0.62           \n",
       "15  0.61           \n",
       "16  0.54           \n",
       "17  0.66           \n",
       "18  0.65           \n",
       "19  0.63           \n",
       "20  0.62           \n",
       "21  0.64           \n",
       "22  0.70           \n",
       "23  0.94           \n",
       "24  0.95           \n",
       "25  0.97           \n",
       "26  0.94           \n",
       "27  0.76           \n",
       "28  0.44           \n",
       "29  0.46           \n",
       "30  0.54           \n",
       "... ...            \n",
       "371 0.72           \n",
       "372 0.89           \n",
       "373 0.95           \n",
       "374 0.79           \n",
       "375 0.39           \n",
       "376 0.38           \n",
       "377 0.34           \n",
       "378 0.47           \n",
       "379 0.56           \n",
       "380 0.71           \n",
       "381 0.78           \n",
       "382 0.73           \n",
       "383 0.82           \n",
       "384 0.62           \n",
       "385 0.96           \n",
       "386 0.96           \n",
       "387 0.46           \n",
       "388 0.53           \n",
       "389 0.49           \n",
       "390 0.76           \n",
       "391 0.64           \n",
       "392 0.71           \n",
       "393 0.84           \n",
       "394 0.77           \n",
       "395 0.89           \n",
       "396 0.82           \n",
       "397 0.84           \n",
       "398 0.91           \n",
       "399 0.67           \n",
       "400 0.95           "
      ]
     },
     "metadata": {},
     "output_type": "display_data"
    }
   ],
   "source": [
    "NaRV.omit(data)"
   ]
  },
  {
   "cell_type": "code",
   "execution_count": 12,
   "id": "bccc6596-f628-428f-83a8-163da1c87ca5",
   "metadata": {},
   "outputs": [
    {
     "name": "stderr",
     "output_type": "stream",
     "text": [
      "Warning message in min(x):\n",
      "\"no non-missing arguments to min; returning Inf\"\n",
      "Warning message in max(x):\n",
      "\"no non-missing arguments to max; returning -Inf\"\n"
     ]
    },
    {
     "ename": "ERROR",
     "evalue": "Error in seq.default(min(x), max(x), length = length): 'from' must be a finite number\n",
     "output_type": "error",
     "traceback": [
      "Error in seq.default(min(x), max(x), length = length): 'from' must be a finite number\nTraceback:\n",
      "1. plotNormalHistogram(data$TOEFEL.Score)",
      "2. seq(min(x), max(x), length = length)",
      "3. seq.default(min(x), max(x), length = length)",
      "4. stop(\"'from' must be a finite number\")"
     ]
    }
   ],
   "source": [
    "plotNormalHistogram(data$TOEFEL.Score)"
   ]
  },
  {
   "cell_type": "code",
   "execution_count": 17,
   "id": "bdc9ff77-6232-4dc6-a8b6-2395aa5acac8",
   "metadata": {},
   "outputs": [],
   "source": [
    "data$CGPASQ = data$CGPA^2"
   ]
  },
  {
   "cell_type": "code",
   "execution_count": 15,
   "id": "558ec260-ad07-4f3e-ba33-fded752cb19a",
   "metadata": {},
   "outputs": [
    {
     "name": "stderr",
     "output_type": "stream",
     "text": [
      "Warning message in min(x):\n",
      "\"no non-missing arguments to min; returning Inf\"\n",
      "Warning message in max(x):\n",
      "\"no non-missing arguments to max; returning -Inf\"\n"
     ]
    },
    {
     "ename": "ERROR",
     "evalue": "Error in seq.default(min(x), max(x), length = length): 'from' must be a finite number\n",
     "output_type": "error",
     "traceback": [
      "Error in seq.default(min(x), max(x), length = length): 'from' must be a finite number\nTraceback:\n",
      "1. plotNormalHistogram(data$TOEFEL.ScoreSQ)",
      "2. seq(min(x), max(x), length = length)",
      "3. seq.default(min(x), max(x), length = length)",
      "4. stop(\"'from' must be a finite number\")"
     ]
    }
   ],
   "source": [
    "plotNormalHistogram(data$TOEFEL.ScoreSQ)"
   ]
  },
  {
   "cell_type": "code",
   "execution_count": 16,
   "id": "05a4de12-2c7e-4fb1-bbad-35906fc9d9e2",
   "metadata": {},
   "outputs": [
    {
     "name": "stdout",
     "output_type": "stream",
     "text": [
      "'data.frame':\t400 obs. of  10 variables:\n",
      " $ Serial.No.       : int  1 2 3 4 5 6 7 8 9 10 ...\n",
      " $ GRE.Score        : int  337 324 316 322 314 330 321 308 302 323 ...\n",
      " $ TOEFL.Score      : int  118 107 104 110 103 115 109 101 102 108 ...\n",
      " $ University.Rating: int  4 4 3 3 2 5 3 2 1 3 ...\n",
      " $ SOP              : num  4.5 4 3 3.5 2 4.5 3 3 2 3.5 ...\n",
      " $ LOR              : num  4.5 4.5 3.5 2.5 3 3 4 4 1.5 3 ...\n",
      " $ CGPA             : num  9.65 8.87 8 8.67 8.21 9.34 8.2 7.9 8 8.6 ...\n",
      " $ Research         : int  1 1 1 1 0 1 1 0 0 0 ...\n",
      " $ Chance.of.Admit  : num  0.92 0.76 0.72 0.8 0.65 0.9 0.75 0.68 0.5 0.45 ...\n",
      " $ TOEFL.ScoreSQ    : num  13924 11449 10816 12100 10609 ...\n"
     ]
    }
   ],
   "source": [
    "str(data)"
   ]
  },
  {
   "cell_type": "code",
   "execution_count": 18,
   "id": "21230e55-75fa-4b21-9614-082fccab7788",
   "metadata": {},
   "outputs": [
    {
     "ename": "ERROR",
     "evalue": "Error in leveneTest.formula(CGPASQ ~ University.Rating, data = data): Levene's test is not appropriate with quantitative explanatory variables.\n",
     "output_type": "error",
     "traceback": [
      "Error in leveneTest.formula(CGPASQ ~ University.Rating, data = data): Levene's test is not appropriate with quantitative explanatory variables.\nTraceback:\n",
      "1. leveneTest(CGPASQ ~ University.Rating, data = data)",
      "2. leveneTest.formula(CGPASQ ~ University.Rating, data = data)",
      "3. stop(\"Levene's test is not appropriate with quantitative explanatory variables.\")"
     ]
    }
   ],
   "source": [
    "leveneTest(CGPASQ ~ University.Rating, data = data)"
   ]
  },
  {
   "cell_type": "code",
   "execution_count": null,
   "id": "18378e5a-2268-497a-8ad9-263b59da4715",
   "metadata": {},
   "outputs": [],
   "source": []
  }
 ],
 "metadata": {
  "kernelspec": {
   "display_name": "R",
   "language": "R",
   "name": "ir"
  },
  "language_info": {
   "codemirror_mode": "r",
   "file_extension": ".r",
   "mimetype": "text/x-r-source",
   "name": "R",
   "pygments_lexer": "r",
   "version": "4.1.0"
  }
 },
 "nbformat": 4,
 "nbformat_minor": 5
}
