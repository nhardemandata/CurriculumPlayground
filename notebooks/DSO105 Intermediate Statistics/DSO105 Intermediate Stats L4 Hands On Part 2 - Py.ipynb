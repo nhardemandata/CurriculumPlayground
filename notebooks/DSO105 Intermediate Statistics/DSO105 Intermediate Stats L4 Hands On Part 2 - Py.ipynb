{
 "cells": [
  {
   "cell_type": "markdown",
   "id": "00d409ae-c119-4eb5-90bd-4d4c37c9fa48",
   "metadata": {},
   "source": [
    "# DSO105 Intermediate Statistics L4 Hands On Part 2 - Py"
   ]
  },
  {
   "cell_type": "code",
   "execution_count": 1,
   "id": "207004b4-8946-40d9-9b66-a532dde87e90",
   "metadata": {},
   "outputs": [],
   "source": [
    "## packages\n",
    "import pandas as pd\n",
    "import numpy as np\n",
    "import scipy\n",
    "from scipy import stats\n",
    "from statsmodels.stats.multicomp import pairwise_tukeyhsd\n",
    "from statsmodels.stats.multicomp import MultiComparison\n",
    "import seaborn as sns"
   ]
  },
  {
   "cell_type": "code",
   "execution_count": 2,
   "id": "de4f07bc-4261-4bd3-8b33-c1886f986340",
   "metadata": {},
   "outputs": [],
   "source": [
    "## data\n",
    "data = pd.read_csv('../../datasets/avocados.csv')"
   ]
  },
  {
   "cell_type": "code",
   "execution_count": 3,
   "id": "b17de0ac-e79b-449c-8806-83e85c3f9fb7",
   "metadata": {},
   "outputs": [
    {
     "data": {
      "text/html": [
       "<div>\n",
       "<style scoped>\n",
       "    .dataframe tbody tr th:only-of-type {\n",
       "        vertical-align: middle;\n",
       "    }\n",
       "\n",
       "    .dataframe tbody tr th {\n",
       "        vertical-align: top;\n",
       "    }\n",
       "\n",
       "    .dataframe thead th {\n",
       "        text-align: right;\n",
       "    }\n",
       "</style>\n",
       "<table border=\"1\" class=\"dataframe\">\n",
       "  <thead>\n",
       "    <tr style=\"text-align: right;\">\n",
       "      <th></th>\n",
       "      <th>Unnamed: 0</th>\n",
       "      <th>Date</th>\n",
       "      <th>AveragePrice</th>\n",
       "      <th>Total Volume</th>\n",
       "      <th>4046</th>\n",
       "      <th>4225</th>\n",
       "      <th>4770</th>\n",
       "      <th>Total Bags</th>\n",
       "      <th>Small Bags</th>\n",
       "      <th>Large Bags</th>\n",
       "      <th>XLarge Bags</th>\n",
       "      <th>type</th>\n",
       "      <th>year</th>\n",
       "      <th>region</th>\n",
       "    </tr>\n",
       "  </thead>\n",
       "  <tbody>\n",
       "    <tr>\n",
       "      <th>0</th>\n",
       "      <td>0</td>\n",
       "      <td>12/27/2015</td>\n",
       "      <td>1.33</td>\n",
       "      <td>64236.62</td>\n",
       "      <td>1036.74</td>\n",
       "      <td>54454.85</td>\n",
       "      <td>48.16</td>\n",
       "      <td>8696.87</td>\n",
       "      <td>8603.62</td>\n",
       "      <td>93.25</td>\n",
       "      <td>0.0</td>\n",
       "      <td>conventional</td>\n",
       "      <td>2015</td>\n",
       "      <td>Albany</td>\n",
       "    </tr>\n",
       "    <tr>\n",
       "      <th>1</th>\n",
       "      <td>1</td>\n",
       "      <td>12/20/2015</td>\n",
       "      <td>1.35</td>\n",
       "      <td>54876.98</td>\n",
       "      <td>674.28</td>\n",
       "      <td>44638.81</td>\n",
       "      <td>58.33</td>\n",
       "      <td>9505.56</td>\n",
       "      <td>9408.07</td>\n",
       "      <td>97.49</td>\n",
       "      <td>0.0</td>\n",
       "      <td>conventional</td>\n",
       "      <td>2015</td>\n",
       "      <td>Albany</td>\n",
       "    </tr>\n",
       "    <tr>\n",
       "      <th>2</th>\n",
       "      <td>2</td>\n",
       "      <td>12/13/2015</td>\n",
       "      <td>0.93</td>\n",
       "      <td>118220.22</td>\n",
       "      <td>794.70</td>\n",
       "      <td>109149.67</td>\n",
       "      <td>130.50</td>\n",
       "      <td>8145.35</td>\n",
       "      <td>8042.21</td>\n",
       "      <td>103.14</td>\n",
       "      <td>0.0</td>\n",
       "      <td>conventional</td>\n",
       "      <td>2015</td>\n",
       "      <td>Albany</td>\n",
       "    </tr>\n",
       "    <tr>\n",
       "      <th>3</th>\n",
       "      <td>3</td>\n",
       "      <td>12/6/2015</td>\n",
       "      <td>1.08</td>\n",
       "      <td>78992.15</td>\n",
       "      <td>1132.00</td>\n",
       "      <td>71976.41</td>\n",
       "      <td>72.58</td>\n",
       "      <td>5811.16</td>\n",
       "      <td>5677.40</td>\n",
       "      <td>133.76</td>\n",
       "      <td>0.0</td>\n",
       "      <td>conventional</td>\n",
       "      <td>2015</td>\n",
       "      <td>Albany</td>\n",
       "    </tr>\n",
       "    <tr>\n",
       "      <th>4</th>\n",
       "      <td>4</td>\n",
       "      <td>11/29/2015</td>\n",
       "      <td>1.28</td>\n",
       "      <td>51039.60</td>\n",
       "      <td>941.48</td>\n",
       "      <td>43838.39</td>\n",
       "      <td>75.78</td>\n",
       "      <td>6183.95</td>\n",
       "      <td>5986.26</td>\n",
       "      <td>197.69</td>\n",
       "      <td>0.0</td>\n",
       "      <td>conventional</td>\n",
       "      <td>2015</td>\n",
       "      <td>Albany</td>\n",
       "    </tr>\n",
       "  </tbody>\n",
       "</table>\n",
       "</div>"
      ],
      "text/plain": [
       "   Unnamed: 0        Date  AveragePrice  Total Volume     4046       4225  \\\n",
       "0           0  12/27/2015          1.33      64236.62  1036.74   54454.85   \n",
       "1           1  12/20/2015          1.35      54876.98   674.28   44638.81   \n",
       "2           2  12/13/2015          0.93     118220.22   794.70  109149.67   \n",
       "3           3   12/6/2015          1.08      78992.15  1132.00   71976.41   \n",
       "4           4  11/29/2015          1.28      51039.60   941.48   43838.39   \n",
       "\n",
       "     4770  Total Bags  Small Bags  Large Bags  XLarge Bags          type  \\\n",
       "0   48.16     8696.87     8603.62       93.25          0.0  conventional   \n",
       "1   58.33     9505.56     9408.07       97.49          0.0  conventional   \n",
       "2  130.50     8145.35     8042.21      103.14          0.0  conventional   \n",
       "3   72.58     5811.16     5677.40      133.76          0.0  conventional   \n",
       "4   75.78     6183.95     5986.26      197.69          0.0  conventional   \n",
       "\n",
       "   year  region  \n",
       "0  2015  Albany  \n",
       "1  2015  Albany  \n",
       "2  2015  Albany  \n",
       "3  2015  Albany  \n",
       "4  2015  Albany  "
      ]
     },
     "execution_count": 3,
     "metadata": {},
     "output_type": "execute_result"
    }
   ],
   "source": [
    "data.head()"
   ]
  },
  {
   "cell_type": "markdown",
   "id": "d12fc8d2-634a-4ff6-987c-7057b22e900f",
   "metadata": {},
   "source": [
    "## Question: Does the total volume of avocados sold differ between Indianapolis, Orlando, and PhoenixTuscon?"
   ]
  },
  {
   "cell_type": "code",
   "execution_count": 4,
   "id": "5c3a0506-6622-4165-9580-bb12ad088862",
   "metadata": {},
   "outputs": [],
   "source": [
    "regions = [\"Indianapolis\", \"Orlando\", \"PhoenixTucson\"]"
   ]
  },
  {
   "cell_type": "code",
   "execution_count": 5,
   "id": "0caaf515-8d5f-47a4-9a77-4da8f1a52a2c",
   "metadata": {},
   "outputs": [],
   "source": [
    "data1 = data[\"region\"].isin(regions)"
   ]
  },
  {
   "cell_type": "code",
   "execution_count": 6,
   "id": "3f32ef62-64c1-40ee-9e55-03b3dbc441af",
   "metadata": {},
   "outputs": [],
   "source": [
    "data2 = data[data1].copy()"
   ]
  },
  {
   "cell_type": "code",
   "execution_count": 7,
   "id": "9e8178d4-23af-47ec-8e79-a8f0a6527188",
   "metadata": {},
   "outputs": [
    {
     "data": {
      "text/html": [
       "<div>\n",
       "<style scoped>\n",
       "    .dataframe tbody tr th:only-of-type {\n",
       "        vertical-align: middle;\n",
       "    }\n",
       "\n",
       "    .dataframe tbody tr th {\n",
       "        vertical-align: top;\n",
       "    }\n",
       "\n",
       "    .dataframe thead th {\n",
       "        text-align: right;\n",
       "    }\n",
       "</style>\n",
       "<table border=\"1\" class=\"dataframe\">\n",
       "  <thead>\n",
       "    <tr style=\"text-align: right;\">\n",
       "      <th></th>\n",
       "      <th>Unnamed: 0</th>\n",
       "      <th>Date</th>\n",
       "      <th>AveragePrice</th>\n",
       "      <th>Total Volume</th>\n",
       "      <th>4046</th>\n",
       "      <th>4225</th>\n",
       "      <th>4770</th>\n",
       "      <th>Total Bags</th>\n",
       "      <th>Small Bags</th>\n",
       "      <th>Large Bags</th>\n",
       "      <th>XLarge Bags</th>\n",
       "      <th>type</th>\n",
       "      <th>year</th>\n",
       "      <th>region</th>\n",
       "    </tr>\n",
       "  </thead>\n",
       "  <tbody>\n",
       "    <tr>\n",
       "      <th>988</th>\n",
       "      <td>0</td>\n",
       "      <td>12/27/2015</td>\n",
       "      <td>1.04</td>\n",
       "      <td>123096.09</td>\n",
       "      <td>4647.28</td>\n",
       "      <td>69384.73</td>\n",
       "      <td>11206.40</td>\n",
       "      <td>37857.68</td>\n",
       "      <td>20644.64</td>\n",
       "      <td>11524.06</td>\n",
       "      <td>5688.98</td>\n",
       "      <td>conventional</td>\n",
       "      <td>2015</td>\n",
       "      <td>Indianapolis</td>\n",
       "    </tr>\n",
       "    <tr>\n",
       "      <th>989</th>\n",
       "      <td>1</td>\n",
       "      <td>12/20/2015</td>\n",
       "      <td>1.10</td>\n",
       "      <td>116353.68</td>\n",
       "      <td>3702.20</td>\n",
       "      <td>67983.94</td>\n",
       "      <td>9327.71</td>\n",
       "      <td>35339.83</td>\n",
       "      <td>18144.63</td>\n",
       "      <td>12133.67</td>\n",
       "      <td>5061.53</td>\n",
       "      <td>conventional</td>\n",
       "      <td>2015</td>\n",
       "      <td>Indianapolis</td>\n",
       "    </tr>\n",
       "    <tr>\n",
       "      <th>990</th>\n",
       "      <td>2</td>\n",
       "      <td>12/13/2015</td>\n",
       "      <td>1.03</td>\n",
       "      <td>125342.89</td>\n",
       "      <td>4904.51</td>\n",
       "      <td>69984.32</td>\n",
       "      <td>11398.44</td>\n",
       "      <td>39055.62</td>\n",
       "      <td>21259.82</td>\n",
       "      <td>15580.08</td>\n",
       "      <td>2215.72</td>\n",
       "      <td>conventional</td>\n",
       "      <td>2015</td>\n",
       "      <td>Indianapolis</td>\n",
       "    </tr>\n",
       "    <tr>\n",
       "      <th>991</th>\n",
       "      <td>3</td>\n",
       "      <td>12/6/2015</td>\n",
       "      <td>0.92</td>\n",
       "      <td>145740.44</td>\n",
       "      <td>4067.00</td>\n",
       "      <td>89452.99</td>\n",
       "      <td>13570.12</td>\n",
       "      <td>38650.33</td>\n",
       "      <td>19365.92</td>\n",
       "      <td>17733.68</td>\n",
       "      <td>1550.73</td>\n",
       "      <td>conventional</td>\n",
       "      <td>2015</td>\n",
       "      <td>Indianapolis</td>\n",
       "    </tr>\n",
       "    <tr>\n",
       "      <th>992</th>\n",
       "      <td>4</td>\n",
       "      <td>11/29/2015</td>\n",
       "      <td>1.08</td>\n",
       "      <td>108444.41</td>\n",
       "      <td>3079.44</td>\n",
       "      <td>65254.08</td>\n",
       "      <td>10854.59</td>\n",
       "      <td>29256.30</td>\n",
       "      <td>17455.74</td>\n",
       "      <td>9975.21</td>\n",
       "      <td>1825.35</td>\n",
       "      <td>conventional</td>\n",
       "      <td>2015</td>\n",
       "      <td>Indianapolis</td>\n",
       "    </tr>\n",
       "  </tbody>\n",
       "</table>\n",
       "</div>"
      ],
      "text/plain": [
       "     Unnamed: 0        Date  AveragePrice  Total Volume     4046      4225  \\\n",
       "988           0  12/27/2015          1.04     123096.09  4647.28  69384.73   \n",
       "989           1  12/20/2015          1.10     116353.68  3702.20  67983.94   \n",
       "990           2  12/13/2015          1.03     125342.89  4904.51  69984.32   \n",
       "991           3   12/6/2015          0.92     145740.44  4067.00  89452.99   \n",
       "992           4  11/29/2015          1.08     108444.41  3079.44  65254.08   \n",
       "\n",
       "         4770  Total Bags  Small Bags  Large Bags  XLarge Bags          type  \\\n",
       "988  11206.40    37857.68    20644.64    11524.06      5688.98  conventional   \n",
       "989   9327.71    35339.83    18144.63    12133.67      5061.53  conventional   \n",
       "990  11398.44    39055.62    21259.82    15580.08      2215.72  conventional   \n",
       "991  13570.12    38650.33    19365.92    17733.68      1550.73  conventional   \n",
       "992  10854.59    29256.30    17455.74     9975.21      1825.35  conventional   \n",
       "\n",
       "     year        region  \n",
       "988  2015  Indianapolis  \n",
       "989  2015  Indianapolis  \n",
       "990  2015  Indianapolis  \n",
       "991  2015  Indianapolis  \n",
       "992  2015  Indianapolis  "
      ]
     },
     "execution_count": 7,
     "metadata": {},
     "output_type": "execute_result"
    }
   ],
   "source": [
    "data2.head()"
   ]
  },
  {
   "cell_type": "code",
   "execution_count": 8,
   "id": "fdbb5a12-bbc4-4521-9a1b-c3a90b2c9aa3",
   "metadata": {},
   "outputs": [
    {
     "data": {
      "text/plain": [
       "Indianapolis     338\n",
       "Orlando          338\n",
       "PhoenixTucson    338\n",
       "Name: region, dtype: int64"
      ]
     },
     "execution_count": 8,
     "metadata": {},
     "output_type": "execute_result"
    }
   ],
   "source": [
    "data2.region.value_counts()"
   ]
  },
  {
   "cell_type": "markdown",
   "id": "89895f8a-51d6-41a3-a2ba-05fee7adb25e",
   "metadata": {},
   "source": [
    "### recode categorical variable"
   ]
  },
  {
   "cell_type": "code",
   "execution_count": 9,
   "id": "92b476d8-4135-4a6c-bb8f-d4a049ca7f41",
   "metadata": {},
   "outputs": [],
   "source": [
    "dict = {'Indianapolis' : 0, 'Orlando' : 1, 'PhoenixTucson' : 2}"
   ]
  },
  {
   "cell_type": "code",
   "execution_count": 10,
   "id": "993f21aa-8533-4046-b517-11100965fa29",
   "metadata": {},
   "outputs": [],
   "source": [
    "data2['region'] = data2.region.replace(dict)"
   ]
  },
  {
   "cell_type": "code",
   "execution_count": 11,
   "id": "f9224190-63a9-474a-97f3-b3bcec23825f",
   "metadata": {},
   "outputs": [
    {
     "data": {
      "text/html": [
       "<div>\n",
       "<style scoped>\n",
       "    .dataframe tbody tr th:only-of-type {\n",
       "        vertical-align: middle;\n",
       "    }\n",
       "\n",
       "    .dataframe tbody tr th {\n",
       "        vertical-align: top;\n",
       "    }\n",
       "\n",
       "    .dataframe thead th {\n",
       "        text-align: right;\n",
       "    }\n",
       "</style>\n",
       "<table border=\"1\" class=\"dataframe\">\n",
       "  <thead>\n",
       "    <tr style=\"text-align: right;\">\n",
       "      <th></th>\n",
       "      <th>Unnamed: 0</th>\n",
       "      <th>Date</th>\n",
       "      <th>AveragePrice</th>\n",
       "      <th>Total Volume</th>\n",
       "      <th>4046</th>\n",
       "      <th>4225</th>\n",
       "      <th>4770</th>\n",
       "      <th>Total Bags</th>\n",
       "      <th>Small Bags</th>\n",
       "      <th>Large Bags</th>\n",
       "      <th>XLarge Bags</th>\n",
       "      <th>type</th>\n",
       "      <th>year</th>\n",
       "      <th>region</th>\n",
       "    </tr>\n",
       "  </thead>\n",
       "  <tbody>\n",
       "    <tr>\n",
       "      <th>988</th>\n",
       "      <td>0</td>\n",
       "      <td>12/27/2015</td>\n",
       "      <td>1.04</td>\n",
       "      <td>123096.09</td>\n",
       "      <td>4647.28</td>\n",
       "      <td>69384.73</td>\n",
       "      <td>11206.40</td>\n",
       "      <td>37857.68</td>\n",
       "      <td>20644.64</td>\n",
       "      <td>11524.06</td>\n",
       "      <td>5688.98</td>\n",
       "      <td>conventional</td>\n",
       "      <td>2015</td>\n",
       "      <td>0</td>\n",
       "    </tr>\n",
       "    <tr>\n",
       "      <th>989</th>\n",
       "      <td>1</td>\n",
       "      <td>12/20/2015</td>\n",
       "      <td>1.10</td>\n",
       "      <td>116353.68</td>\n",
       "      <td>3702.20</td>\n",
       "      <td>67983.94</td>\n",
       "      <td>9327.71</td>\n",
       "      <td>35339.83</td>\n",
       "      <td>18144.63</td>\n",
       "      <td>12133.67</td>\n",
       "      <td>5061.53</td>\n",
       "      <td>conventional</td>\n",
       "      <td>2015</td>\n",
       "      <td>0</td>\n",
       "    </tr>\n",
       "    <tr>\n",
       "      <th>990</th>\n",
       "      <td>2</td>\n",
       "      <td>12/13/2015</td>\n",
       "      <td>1.03</td>\n",
       "      <td>125342.89</td>\n",
       "      <td>4904.51</td>\n",
       "      <td>69984.32</td>\n",
       "      <td>11398.44</td>\n",
       "      <td>39055.62</td>\n",
       "      <td>21259.82</td>\n",
       "      <td>15580.08</td>\n",
       "      <td>2215.72</td>\n",
       "      <td>conventional</td>\n",
       "      <td>2015</td>\n",
       "      <td>0</td>\n",
       "    </tr>\n",
       "    <tr>\n",
       "      <th>991</th>\n",
       "      <td>3</td>\n",
       "      <td>12/6/2015</td>\n",
       "      <td>0.92</td>\n",
       "      <td>145740.44</td>\n",
       "      <td>4067.00</td>\n",
       "      <td>89452.99</td>\n",
       "      <td>13570.12</td>\n",
       "      <td>38650.33</td>\n",
       "      <td>19365.92</td>\n",
       "      <td>17733.68</td>\n",
       "      <td>1550.73</td>\n",
       "      <td>conventional</td>\n",
       "      <td>2015</td>\n",
       "      <td>0</td>\n",
       "    </tr>\n",
       "    <tr>\n",
       "      <th>992</th>\n",
       "      <td>4</td>\n",
       "      <td>11/29/2015</td>\n",
       "      <td>1.08</td>\n",
       "      <td>108444.41</td>\n",
       "      <td>3079.44</td>\n",
       "      <td>65254.08</td>\n",
       "      <td>10854.59</td>\n",
       "      <td>29256.30</td>\n",
       "      <td>17455.74</td>\n",
       "      <td>9975.21</td>\n",
       "      <td>1825.35</td>\n",
       "      <td>conventional</td>\n",
       "      <td>2015</td>\n",
       "      <td>0</td>\n",
       "    </tr>\n",
       "  </tbody>\n",
       "</table>\n",
       "</div>"
      ],
      "text/plain": [
       "     Unnamed: 0        Date  AveragePrice  Total Volume     4046      4225  \\\n",
       "988           0  12/27/2015          1.04     123096.09  4647.28  69384.73   \n",
       "989           1  12/20/2015          1.10     116353.68  3702.20  67983.94   \n",
       "990           2  12/13/2015          1.03     125342.89  4904.51  69984.32   \n",
       "991           3   12/6/2015          0.92     145740.44  4067.00  89452.99   \n",
       "992           4  11/29/2015          1.08     108444.41  3079.44  65254.08   \n",
       "\n",
       "         4770  Total Bags  Small Bags  Large Bags  XLarge Bags          type  \\\n",
       "988  11206.40    37857.68    20644.64    11524.06      5688.98  conventional   \n",
       "989   9327.71    35339.83    18144.63    12133.67      5061.53  conventional   \n",
       "990  11398.44    39055.62    21259.82    15580.08      2215.72  conventional   \n",
       "991  13570.12    38650.33    19365.92    17733.68      1550.73  conventional   \n",
       "992  10854.59    29256.30    17455.74     9975.21      1825.35  conventional   \n",
       "\n",
       "     year  region  \n",
       "988  2015       0  \n",
       "989  2015       0  \n",
       "990  2015       0  \n",
       "991  2015       0  \n",
       "992  2015       0  "
      ]
     },
     "execution_count": 11,
     "metadata": {},
     "output_type": "execute_result"
    }
   ],
   "source": [
    "data2.head()"
   ]
  },
  {
   "cell_type": "code",
   "execution_count": 12,
   "id": "fd2b4871-4aab-42fa-ac29-a8f1e8599c4f",
   "metadata": {},
   "outputs": [
    {
     "data": {
      "text/plain": [
       "0    338\n",
       "1    338\n",
       "2    338\n",
       "Name: region, dtype: int64"
      ]
     },
     "execution_count": 12,
     "metadata": {},
     "output_type": "execute_result"
    }
   ],
   "source": [
    "data2.region.value_counts()"
   ]
  },
  {
   "cell_type": "markdown",
   "id": "8b0791c2-792a-412f-bc9f-3e165b57c8df",
   "metadata": {},
   "source": [
    "### Assumptions\n",
    "#### Normality"
   ]
  },
  {
   "cell_type": "code",
   "execution_count": 13,
   "id": "681b87d3-3f0e-43e3-a58c-c025010dc7a2",
   "metadata": {},
   "outputs": [
    {
     "data": {
      "text/plain": [
       "<seaborn.axisgrid.FacetGrid at 0x22c7bc0c280>"
      ]
     },
     "execution_count": 13,
     "metadata": {},
     "output_type": "execute_result"
    },
    {
     "data": {
      "image/png": "[encoded data removed]",
      "text/plain": [
       "<Figure size 360x360 with 1 Axes>"
      ]
     },
     "metadata": {
      "needs_background": "light"
     },
     "output_type": "display_data"
    }
   ],
   "source": [
    "sns.displot(data2['Total Volume'], kde = True)\n",
    "## positively skewed"
   ]
  },
  {
   "cell_type": "code",
   "execution_count": 14,
   "id": "8d7774ba-7ed8-4503-88e3-1cca86cf4cf2",
   "metadata": {},
   "outputs": [],
   "source": [
    "data2['TVsqrt'] = np.sqrt(data2['Total Volume'])\n",
    "## take square root to transform for a possible correction"
   ]
  },
  {
   "cell_type": "code",
   "execution_count": 17,
   "id": "4f566eb2-9e10-4fe6-82d2-3516073614e6",
   "metadata": {},
   "outputs": [
    {
     "data": {
      "text/plain": [
       "<seaborn.axisgrid.FacetGrid at 0x22c7bc0cfd0>"
      ]
     },
     "execution_count": 17,
     "metadata": {},
     "output_type": "execute_result"
    },
    {
     "data": {
      "image/png": "[encoded data removed]",
      "text/plain": [
       "<Figure size 360x360 with 1 Axes>"
      ]
     },
     "metadata": {
      "needs_background": "light"
     },
     "output_type": "display_data"
    }
   ],
   "source": [
    "sns.displot(data2['TVsqrt'], kde = True)\n",
    "## does not really make the total volume more approx. normally distributed - try log"
   ]
  },
  {
   "cell_type": "code",
   "execution_count": 18,
   "id": "d8fe8309-1a11-455d-bb7f-c9b21a43ea80",
   "metadata": {},
   "outputs": [],
   "source": [
    "data2['TVlog'] = np.log(data2['Total Volume'])\n",
    "## take log to transform for a possible correction"
   ]
  },
  {
   "cell_type": "code",
   "execution_count": 20,
   "id": "3d350bdc-6038-4015-a5fe-78f30a07d71f",
   "metadata": {},
   "outputs": [
    {
     "data": {
      "text/plain": [
       "<seaborn.axisgrid.FacetGrid at 0x22c7fe04760>"
      ]
     },
     "execution_count": 20,
     "metadata": {},
     "output_type": "execute_result"
    },
    {
     "data": {
      "image/png": "[encoded data removed]",
      "text/plain": [
       "<Figure size 360x360 with 1 Axes>"
      ]
     },
     "metadata": {
      "needs_background": "light"
     },
     "output_type": "display_data"
    }
   ],
   "source": [
    "sns.displot(data2['TVlog'], kde = True)\n",
    "## The is perhaps best - though it does not really look approx normal"
   ]
  },
  {
   "cell_type": "markdown",
   "id": "3d6af722-2b23-4144-b28a-9271eff62b99",
   "metadata": {},
   "source": [
    "#### Homogeneity of Variance"
   ]
  },
  {
   "cell_type": "code",
   "execution_count": 22,
   "id": "50059a57-5360-43f9-b525-6ea2fc9d25c7",
   "metadata": {},
   "outputs": [
    {
     "data": {
      "text/plain": [
       "BartlettResult(statistic=883.7919675933721, pvalue=3.2755760094735546e-194)"
      ]
     },
     "execution_count": 22,
     "metadata": {},
     "output_type": "execute_result"
    }
   ],
   "source": [
    "scipy.stats.bartlett(data2[\"TVlog\"], data2[\"region\"])"
   ]
  },
  {
   "cell_type": "markdown",
   "id": "f39783ef-b71a-4432-9676-58bb364d671e",
   "metadata": {},
   "source": [
    "#### ANOVA"
   ]
  },
  {
   "cell_type": "code",
   "execution_count": 24,
   "id": "38764d61-0bfb-43d7-ae5a-98ef3f29b8c4",
   "metadata": {},
   "outputs": [
    {
     "data": {
      "text/plain": [
       "F_onewayResult(statistic=174.05378837225294, pvalue=1.101276256457687e-65)"
      ]
     },
     "execution_count": 24,
     "metadata": {},
     "output_type": "execute_result"
    }
   ],
   "source": [
    "stats.f_oneway(data[\"Total Volume\"][data[\"region\"]=='Indianapolis'],\n",
    "                    data[\"Total Volume\"][data[\"region\"]=='Orlando'],\n",
    "                    data[\"Total Volume\"][data[\"region\"]=='PhoenixTucson'])\n",
    "## appears to be significant difference with that p-value"
   ]
  },
  {
   "cell_type": "markdown",
   "id": "a4144787-cf06-4b98-88c2-63fc0156d0e5",
   "metadata": {},
   "source": [
    "#### Interpret Results"
   ]
  },
  {
   "cell_type": "code",
   "execution_count": 27,
   "id": "b4b670e4-a576-4184-b41a-77011ba7a1c2",
   "metadata": {},
   "outputs": [
    {
     "name": "stdout",
     "output_type": "stream",
     "text": [
      "Multiple Comparison of Means - Tukey HSD, FWER=0.05\n",
      "==================================================\n",
      "group1 group2 meandiff p-adj  lower  upper  reject\n",
      "--------------------------------------------------\n",
      "     0      1   0.4292 0.0253 0.0424  0.816   True\n",
      "     0      2   1.4766  0.001 1.0898 1.8634   True\n",
      "     1      2   1.0474  0.001 0.6606 1.4342   True\n",
      "--------------------------------------------------\n"
     ]
    }
   ],
   "source": [
    "postHoc = MultiComparison(data2[\"TVlog\"], data2[\"region\"])\n",
    "postHocResults = postHoc.tukeyhsd()\n",
    "print(postHocResults)\n",
    "## reject the null hypothesis for all"
   ]
  },
  {
   "cell_type": "code",
   "execution_count": 29,
   "id": "c9453e5a-f861-4924-ad7e-0b6ecfac13b9",
   "metadata": {},
   "outputs": [],
   "source": [
    "data3 = data2[['region', 'Total Volume']]"
   ]
  },
  {
   "cell_type": "code",
   "execution_count": 30,
   "id": "e274f8f8-0398-4220-a6df-a9cdc07dd518",
   "metadata": {},
   "outputs": [
    {
     "data": {
      "text/html": [
       "<div>\n",
       "<style scoped>\n",
       "    .dataframe tbody tr th:only-of-type {\n",
       "        vertical-align: middle;\n",
       "    }\n",
       "\n",
       "    .dataframe tbody tr th {\n",
       "        vertical-align: top;\n",
       "    }\n",
       "\n",
       "    .dataframe thead th {\n",
       "        text-align: right;\n",
       "    }\n",
       "</style>\n",
       "<table border=\"1\" class=\"dataframe\">\n",
       "  <thead>\n",
       "    <tr style=\"text-align: right;\">\n",
       "      <th></th>\n",
       "      <th>Total Volume</th>\n",
       "    </tr>\n",
       "    <tr>\n",
       "      <th>region</th>\n",
       "      <th></th>\n",
       "    </tr>\n",
       "  </thead>\n",
       "  <tbody>\n",
       "    <tr>\n",
       "      <th>0</th>\n",
       "      <td>89536.661036</td>\n",
       "    </tr>\n",
       "    <tr>\n",
       "      <th>1</th>\n",
       "      <td>173552.378373</td>\n",
       "    </tr>\n",
       "    <tr>\n",
       "      <th>2</th>\n",
       "      <td>578826.368343</td>\n",
       "    </tr>\n",
       "  </tbody>\n",
       "</table>\n",
       "</div>"
      ],
      "text/plain": [
       "         Total Volume\n",
       "region               \n",
       "0        89536.661036\n",
       "1       173552.378373\n",
       "2       578826.368343"
      ]
     },
     "execution_count": 30,
     "metadata": {},
     "output_type": "execute_result"
    }
   ],
   "source": [
    "data3.groupby(\"region\").mean()"
   ]
  },
  {
   "cell_type": "markdown",
   "id": "18b10870-b58d-4712-8db4-b837f7a635b7",
   "metadata": {},
   "source": [
    "## __PhoenixTucson has the highest total volume, with Indianapolis having the least total volume of the three.__"
   ]
  },
  {
   "cell_type": "code",
   "execution_count": null,
   "id": "402df678-03b6-4594-9bb6-7ec83fa0c5ed",
   "metadata": {},
   "outputs": [],
   "source": []
  }
 ],
 "metadata": {
  "kernelspec": {
   "display_name": "Python 3 (ipykernel)",
   "language": "python",
   "name": "python3"
  },
  "language_info": {
   "codemirror_mode": {
    "name": "ipython",
    "version": 3
   },
   "file_extension": ".py",
   "mimetype": "text/x-python",
   "name": "python",
   "nbconvert_exporter": "python",
   "pygments_lexer": "ipython3",
   "version": "3.9.5"
  }
 },
 "nbformat": 4,
 "nbformat_minor": 5
}
