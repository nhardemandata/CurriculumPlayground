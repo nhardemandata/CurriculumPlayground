{
 "cells": [
  {
   "cell_type": "markdown",
   "id": "e129cd02-be30-43a2-9251-7c2a232ad7d3",
   "metadata": {},
   "source": [
    "# DSO 105 Intermediate Stats L3 - Python"
   ]
  },
  {
   "cell_type": "code",
   "execution_count": 1,
   "id": "b54304a7-6dd4-490e-9de1-20152d9ad5cc",
   "metadata": {},
   "outputs": [],
   "source": [
    "## When you have 1 or more categorical varialbe you can either do: proportion testing or Chi-Square"
   ]
  },
  {
   "cell_type": "code",
   "execution_count": 2,
   "id": "dbae78ff-6ec3-4c7b-a2cf-b7987cff7985",
   "metadata": {},
   "outputs": [],
   "source": [
    "#### Page 3"
   ]
  },
  {
   "cell_type": "markdown",
   "id": "899e5658-0bc8-4cdb-84b1-446abf46fd7a",
   "metadata": {},
   "source": [
    "By the end of the lesson, you should be able to conduct the following in both Python and R:\n",
    "\n",
    "* One proportion tests\n",
    "\n",
    "* Two proportion tests\n",
    "\n",
    "* Independent Chi-Squares\n",
    "\n",
    "* Goodness of fit Chi-Squares\n",
    "\n",
    "* McNemar Chi-Squares\n",
    "\n",
    "In addition, you should also be able to:\n",
    "\n",
    "* Differentiate between the different types of categorical tests\n",
    "\n",
    "* Test assumptions and perform post hoc analysis for Chi-Squares in R"
   ]
  },
  {
   "cell_type": "code",
   "execution_count": 1,
   "id": "8f4bcbc5-c787-4b5d-bf28-b990985e093d",
   "metadata": {},
   "outputs": [],
   "source": [
    "## import packages\n",
    "\n",
    "import pandas as pd\n",
    "import scipy, scipy.stats\n",
    "import numpy as np\n",
    "from statsmodels.stats.proportion import proportions_ztest\n",
    "import statsmodels as sm\n",
    "from statsmodels.stats.contingency_tables import mcnemar"
   ]
  },
  {
   "cell_type": "markdown",
   "id": "78b78912-935b-42b2-98aa-1244072df8e8",
   "metadata": {},
   "source": [
    "## One Proportion Testing in Python\n",
    "\n",
    "Now that you know how to do one proportion testing in R, you will try the exact same problem in Python, \n",
    "\n",
    "examining the proportion of jelly beans to chocolate eggs in your Easter basket when you have 15 jelly beans out of a total 43 pieces of candy.\n",
    "\n",
    "You'll start by importing a few packages. You'll need numpy as well as some specifics from statsmodels to do your one proportion z test."
   ]
  },
  {
   "cell_type": "markdown",
   "id": "ced5284b-0d4b-48c2-81f8-75dc02b94cfd",
   "metadata": {},
   "source": [
    "Then you can define your count as the number of jelly beans, 15, and your nobs, standing for the number of observations, as the total number of pieces of candy, which is 43. \n",
    "\n",
    "You will also define the proportion value to which you want to compare. \n",
    "\n",
    "Since you are trying to test whether the number of jelly beans is equal to the number of chocolate eggs, you will use a proportion of .5, which would be half and each would be equal. \n",
    "\n",
    "Lastly you will define the output of your function proportions_ztest() as stat and pval, and will feed into the proportions_ztest() function the arguments you just defined above: count, nobs, and value."
   ]
  },
  {
   "cell_type": "code",
   "execution_count": 4,
   "id": "904e43f0-799b-4955-80aa-69436c50be50",
   "metadata": {},
   "outputs": [],
   "source": [
    "count = 15\n",
    "nobs = 43\n",
    "value = .5"
   ]
  },
  {
   "cell_type": "code",
   "execution_count": 5,
   "id": "44adcfad-96f0-4aac-9c3c-83cecced7ed6",
   "metadata": {},
   "outputs": [],
   "source": [
    "stat, pval = proportions_ztest(count, nobs, value)"
   ]
  },
  {
   "cell_type": "code",
   "execution_count": 6,
   "id": "3022de87-51a0-475c-aa02-5cc6e5304638",
   "metadata": {},
   "outputs": [
    {
     "name": "stdout",
     "output_type": "stream",
     "text": [
      "-2.079806538622099 0.03754328113448803\n"
     ]
    }
   ],
   "source": [
    "print(stat, pval)"
   ]
  },
  {
   "cell_type": "markdown",
   "id": "06a63297-929e-4348-949b-ced9c46996d0",
   "metadata": {},
   "source": [
    "Finally, go ahead and print your results out so you can revel in their glory! What a surprise - you have come up with the exact same answer in both R and Python!"
   ]
  },
  {
   "cell_type": "code",
   "execution_count": 7,
   "id": "b111c559-ee7a-4c1f-9ec2-a217b540c7ef",
   "metadata": {},
   "outputs": [],
   "source": [
    "## but it is NOT the same, this p-value is a little higher"
   ]
  },
  {
   "cell_type": "code",
   "execution_count": 8,
   "id": "fe3bbe94-87ba-455c-ac1b-f41d33dedf80",
   "metadata": {},
   "outputs": [],
   "source": [
    "## the 2nd question in the quiz is also contradictory to what the curriculum says. what is nobs?"
   ]
  },
  {
   "cell_type": "code",
   "execution_count": 9,
   "id": "7bc656b9-6ec6-4972-8fa8-bafc5375ddc4",
   "metadata": {},
   "outputs": [],
   "source": [
    "#### Page 5"
   ]
  },
  {
   "cell_type": "markdown",
   "id": "5faf2216-d378-4226-892b-83f303b0868d",
   "metadata": {},
   "source": [
    "## Two Proportion Testing\n",
    "\n",
    "You will use a two proportion z test when you want to compare the proportions of two different categories to the whole."
   ]
  },
  {
   "cell_type": "markdown",
   "id": "41407062-428a-4227-835c-70110de495b1",
   "metadata": {},
   "source": [
    "## Two Proportion Testing in Python\n",
    "\n",
    "In order to complete two proportion testing in Python, you will use the same function, but will need to handle it a bit differently.\n",
    "\n",
    "For the Easter basket scenario from the last page, in which there are 15 jelly beans and 28 chocolate eggs, with 7 pink jelly beans and 12 pink chocolate eggs, here's what the Python code would look like:"
   ]
  },
  {
   "cell_type": "code",
   "execution_count": 10,
   "id": "b321f9aa-fc42-4cd3-b044-ab9ecec26dc8",
   "metadata": {},
   "outputs": [
    {
     "name": "stdout",
     "output_type": "stream",
     "text": [
      "0.23974366706563624 0.810528980523634\n"
     ]
    }
   ],
   "source": [
    "stat, pval = proportions_ztest([7, 12], [15, 28])\n",
    "print(stat,pval)"
   ]
  },
  {
   "cell_type": "markdown",
   "id": "41728a3b-2b57-4816-8d35-4e1ca3e68aef",
   "metadata": {},
   "source": [
    "Just like with R, you have found that this is not a significant difference in the proportions of pink in either type of candy."
   ]
  },
  {
   "cell_type": "code",
   "execution_count": 11,
   "id": "b609d210-8b44-4e44-918d-c6ad49465be4",
   "metadata": {},
   "outputs": [],
   "source": [
    "## ??"
   ]
  },
  {
   "cell_type": "code",
   "execution_count": 12,
   "id": "a27687b2-2f06-4589-8a12-976117b42006",
   "metadata": {},
   "outputs": [],
   "source": [
    "#### Page 8"
   ]
  },
  {
   "cell_type": "markdown",
   "id": "fae54b4d-2aa7-442a-a42f-391d05381764",
   "metadata": {},
   "source": [
    "## Goodness of Fit Chi-Squares in Python\n",
    "\n",
    "Running a goodness of fit Chi-Square in Python is very similar to running a goodness of fit Chi-Square in R."
   ]
  },
  {
   "cell_type": "markdown",
   "id": "1653a01b-c2d2-42ba-817c-8d0767362f92",
   "metadata": {},
   "source": [
    "## Load in Data\n",
    "\n",
    "You'll work on the same Star Wars survey as you did in R."
   ]
  },
  {
   "cell_type": "code",
   "execution_count": 2,
   "id": "fae4cb5c-9af2-4f10-9ea1-47110e32dd7e",
   "metadata": {},
   "outputs": [],
   "source": [
    "SW = pd.read_csv('../../datasets/SW_survey_renamed.csv')"
   ]
  },
  {
   "cell_type": "code",
   "execution_count": 3,
   "id": "2937a0f9-57a4-40c7-a7ed-e6ddcc621a06",
   "metadata": {},
   "outputs": [
    {
     "data": {
      "text/html": [
       "<div>\n",
       "<style scoped>\n",
       "    .dataframe tbody tr th:only-of-type {\n",
       "        vertical-align: middle;\n",
       "    }\n",
       "\n",
       "    .dataframe tbody tr th {\n",
       "        vertical-align: top;\n",
       "    }\n",
       "\n",
       "    .dataframe thead th {\n",
       "        text-align: right;\n",
       "    }\n",
       "</style>\n",
       "<table border=\"1\" class=\"dataframe\">\n",
       "  <thead>\n",
       "    <tr style=\"text-align: right;\">\n",
       "      <th></th>\n",
       "      <th>RespondentID</th>\n",
       "      <th>SeenYN</th>\n",
       "      <th>FanYN</th>\n",
       "      <th>SeenIYN</th>\n",
       "      <th>SeenIIYN</th>\n",
       "      <th>SeenIIIYN</th>\n",
       "      <th>SeenIVYN</th>\n",
       "      <th>SeenVYN</th>\n",
       "      <th>SeenVIYN</th>\n",
       "      <th>RankI</th>\n",
       "      <th>...</th>\n",
       "      <th>Favorable_Yoda</th>\n",
       "      <th>ShotFirst</th>\n",
       "      <th>ExpandedUniverseYN</th>\n",
       "      <th>FanExpandedUniverseYN</th>\n",
       "      <th>StarTrekFanYN</th>\n",
       "      <th>Gender</th>\n",
       "      <th>Age</th>\n",
       "      <th>Household Income</th>\n",
       "      <th>Education</th>\n",
       "      <th>Location</th>\n",
       "    </tr>\n",
       "  </thead>\n",
       "  <tbody>\n",
       "    <tr>\n",
       "      <th>0</th>\n",
       "      <td>3292879998</td>\n",
       "      <td>Yes</td>\n",
       "      <td>Yes</td>\n",
       "      <td>Star Wars: Episode I  The Phantom Menace</td>\n",
       "      <td>Star Wars: Episode II  Attack of the Clones</td>\n",
       "      <td>Star Wars: Episode III  Revenge of the Sith</td>\n",
       "      <td>Star Wars: Episode IV  A New Hope</td>\n",
       "      <td>Star Wars: Episode V The Empire Strikes Back</td>\n",
       "      <td>Star Wars: Episode VI Return of the Jedi</td>\n",
       "      <td>3.0</td>\n",
       "      <td>...</td>\n",
       "      <td>Very favorably</td>\n",
       "      <td>I don't understand this question</td>\n",
       "      <td>Yes</td>\n",
       "      <td>No</td>\n",
       "      <td>No</td>\n",
       "      <td>Male</td>\n",
       "      <td>18-29</td>\n",
       "      <td>NaN</td>\n",
       "      <td>High school degree</td>\n",
       "      <td>South Atlantic</td>\n",
       "    </tr>\n",
       "    <tr>\n",
       "      <th>1</th>\n",
       "      <td>3292879538</td>\n",
       "      <td>No</td>\n",
       "      <td>NaN</td>\n",
       "      <td>NaN</td>\n",
       "      <td>NaN</td>\n",
       "      <td>NaN</td>\n",
       "      <td>NaN</td>\n",
       "      <td>NaN</td>\n",
       "      <td>NaN</td>\n",
       "      <td>NaN</td>\n",
       "      <td>...</td>\n",
       "      <td>NaN</td>\n",
       "      <td>NaN</td>\n",
       "      <td>NaN</td>\n",
       "      <td>NaN</td>\n",
       "      <td>Yes</td>\n",
       "      <td>Male</td>\n",
       "      <td>18-29</td>\n",
       "      <td>$0 - $24,999</td>\n",
       "      <td>Bachelor degree</td>\n",
       "      <td>West South Central</td>\n",
       "    </tr>\n",
       "    <tr>\n",
       "      <th>2</th>\n",
       "      <td>3292765271</td>\n",
       "      <td>Yes</td>\n",
       "      <td>No</td>\n",
       "      <td>Star Wars: Episode I  The Phantom Menace</td>\n",
       "      <td>Star Wars: Episode II  Attack of the Clones</td>\n",
       "      <td>Star Wars: Episode III  Revenge of the Sith</td>\n",
       "      <td>NaN</td>\n",
       "      <td>NaN</td>\n",
       "      <td>NaN</td>\n",
       "      <td>1.0</td>\n",
       "      <td>...</td>\n",
       "      <td>Unfamiliar (N/A)</td>\n",
       "      <td>I don't understand this question</td>\n",
       "      <td>No</td>\n",
       "      <td>NaN</td>\n",
       "      <td>No</td>\n",
       "      <td>Male</td>\n",
       "      <td>18-29</td>\n",
       "      <td>$0 - $24,999</td>\n",
       "      <td>High school degree</td>\n",
       "      <td>West North Central</td>\n",
       "    </tr>\n",
       "    <tr>\n",
       "      <th>3</th>\n",
       "      <td>3292763116</td>\n",
       "      <td>Yes</td>\n",
       "      <td>Yes</td>\n",
       "      <td>Star Wars: Episode I  The Phantom Menace</td>\n",
       "      <td>Star Wars: Episode II  Attack of the Clones</td>\n",
       "      <td>Star Wars: Episode III  Revenge of the Sith</td>\n",
       "      <td>Star Wars: Episode IV  A New Hope</td>\n",
       "      <td>Star Wars: Episode V The Empire Strikes Back</td>\n",
       "      <td>Star Wars: Episode VI Return of the Jedi</td>\n",
       "      <td>5.0</td>\n",
       "      <td>...</td>\n",
       "      <td>Very favorably</td>\n",
       "      <td>I don't understand this question</td>\n",
       "      <td>No</td>\n",
       "      <td>NaN</td>\n",
       "      <td>Yes</td>\n",
       "      <td>Male</td>\n",
       "      <td>18-29</td>\n",
       "      <td>$100,000 - $149,999</td>\n",
       "      <td>Some college or Associate degree</td>\n",
       "      <td>West North Central</td>\n",
       "    </tr>\n",
       "    <tr>\n",
       "      <th>4</th>\n",
       "      <td>3292731220</td>\n",
       "      <td>Yes</td>\n",
       "      <td>Yes</td>\n",
       "      <td>Star Wars: Episode I  The Phantom Menace</td>\n",
       "      <td>Star Wars: Episode II  Attack of the Clones</td>\n",
       "      <td>Star Wars: Episode III  Revenge of the Sith</td>\n",
       "      <td>Star Wars: Episode IV  A New Hope</td>\n",
       "      <td>Star Wars: Episode V The Empire Strikes Back</td>\n",
       "      <td>Star Wars: Episode VI Return of the Jedi</td>\n",
       "      <td>5.0</td>\n",
       "      <td>...</td>\n",
       "      <td>Somewhat favorably</td>\n",
       "      <td>Greedo</td>\n",
       "      <td>Yes</td>\n",
       "      <td>No</td>\n",
       "      <td>No</td>\n",
       "      <td>Male</td>\n",
       "      <td>18-29</td>\n",
       "      <td>$100,000 - $149,999</td>\n",
       "      <td>Some college or Associate degree</td>\n",
       "      <td>West North Central</td>\n",
       "    </tr>\n",
       "  </tbody>\n",
       "</table>\n",
       "<p>5 rows × 38 columns</p>\n",
       "</div>"
      ],
      "text/plain": [
       "   RespondentID SeenYN FanYN                                   SeenIYN  \\\n",
       "0    3292879998    Yes   Yes  Star Wars: Episode I  The Phantom Menace   \n",
       "1    3292879538     No   NaN                                       NaN   \n",
       "2    3292765271    Yes    No  Star Wars: Episode I  The Phantom Menace   \n",
       "3    3292763116    Yes   Yes  Star Wars: Episode I  The Phantom Menace   \n",
       "4    3292731220    Yes   Yes  Star Wars: Episode I  The Phantom Menace   \n",
       "\n",
       "                                      SeenIIYN  \\\n",
       "0  Star Wars: Episode II  Attack of the Clones   \n",
       "1                                          NaN   \n",
       "2  Star Wars: Episode II  Attack of the Clones   \n",
       "3  Star Wars: Episode II  Attack of the Clones   \n",
       "4  Star Wars: Episode II  Attack of the Clones   \n",
       "\n",
       "                                     SeenIIIYN  \\\n",
       "0  Star Wars: Episode III  Revenge of the Sith   \n",
       "1                                          NaN   \n",
       "2  Star Wars: Episode III  Revenge of the Sith   \n",
       "3  Star Wars: Episode III  Revenge of the Sith   \n",
       "4  Star Wars: Episode III  Revenge of the Sith   \n",
       "\n",
       "                            SeenIVYN  \\\n",
       "0  Star Wars: Episode IV  A New Hope   \n",
       "1                                NaN   \n",
       "2                                NaN   \n",
       "3  Star Wars: Episode IV  A New Hope   \n",
       "4  Star Wars: Episode IV  A New Hope   \n",
       "\n",
       "                                        SeenVYN  \\\n",
       "0  Star Wars: Episode V The Empire Strikes Back   \n",
       "1                                           NaN   \n",
       "2                                           NaN   \n",
       "3  Star Wars: Episode V The Empire Strikes Back   \n",
       "4  Star Wars: Episode V The Empire Strikes Back   \n",
       "\n",
       "                                   SeenVIYN  RankI  ...      Favorable_Yoda  \\\n",
       "0  Star Wars: Episode VI Return of the Jedi    3.0  ...      Very favorably   \n",
       "1                                       NaN    NaN  ...                 NaN   \n",
       "2                                       NaN    1.0  ...    Unfamiliar (N/A)   \n",
       "3  Star Wars: Episode VI Return of the Jedi    5.0  ...      Very favorably   \n",
       "4  Star Wars: Episode VI Return of the Jedi    5.0  ...  Somewhat favorably   \n",
       "\n",
       "                          ShotFirst  ExpandedUniverseYN  \\\n",
       "0  I don't understand this question                 Yes   \n",
       "1                               NaN                 NaN   \n",
       "2  I don't understand this question                  No   \n",
       "3  I don't understand this question                  No   \n",
       "4                            Greedo                 Yes   \n",
       "\n",
       "   FanExpandedUniverseYN  StarTrekFanYN Gender    Age     Household Income  \\\n",
       "0                     No             No   Male  18-29                  NaN   \n",
       "1                    NaN            Yes   Male  18-29         $0 - $24,999   \n",
       "2                    NaN             No   Male  18-29         $0 - $24,999   \n",
       "3                    NaN            Yes   Male  18-29  $100,000 - $149,999   \n",
       "4                     No             No   Male  18-29  $100,000 - $149,999   \n",
       "\n",
       "                          Education            Location  \n",
       "0                High school degree      South Atlantic  \n",
       "1                   Bachelor degree  West South Central  \n",
       "2                High school degree  West North Central  \n",
       "3  Some college or Associate degree  West North Central  \n",
       "4  Some college or Associate degree  West North Central  \n",
       "\n",
       "[5 rows x 38 columns]"
      ]
     },
     "execution_count": 3,
     "metadata": {},
     "output_type": "execute_result"
    }
   ],
   "source": [
    "SW.head()"
   ]
  },
  {
   "cell_type": "markdown",
   "id": "d0b89c87-4ad7-4d52-a864-c6822845cf4a",
   "metadata": {},
   "source": [
    "## Question Set Up\n",
    "\n",
    "You will be testing the same premise as when you did a goodness of fit Chi-Square in R: You found something online that mentioned that 90% of people are Star Wars fans, and you want to see if that holds true in your own survey. \n",
    "    \n",
    "In this way, you are comparing your sample (the survey) to the population at large (what you read online)."
   ]
  },
  {
   "cell_type": "markdown",
   "id": "45b3fe4c-b3c4-41f2-893f-184039ff5787",
   "metadata": {},
   "source": [
    "## Data Wrangling\n",
    "\n",
    "You will need to get the number of people who were and were not fans of Star Wars. Luckily, this is relatively easy to do with the pandas function value_counts():"
   ]
  },
  {
   "cell_type": "code",
   "execution_count": 15,
   "id": "6d9c3a91-a501-4c77-9639-b16c8cf93fce",
   "metadata": {},
   "outputs": [
    {
     "data": {
      "text/plain": [
       "Yes    552\n",
       "No     284\n",
       "Name: FanYN, dtype: int64"
      ]
     },
     "execution_count": 15,
     "metadata": {},
     "output_type": "execute_result"
    }
   ],
   "source": [
    "SW.FanYN.value_counts()"
   ]
  },
  {
   "cell_type": "markdown",
   "id": "ec01f4d7-3222-4ca6-aa1c-755564e9704e",
   "metadata": {},
   "source": [
    "## Run the Analysis\n",
    "\n",
    "Now you are ready to run your analysis! You will first create a variable that houses the observed values:"
   ]
  },
  {
   "cell_type": "code",
   "execution_count": 16,
   "id": "c2f2eebd-944e-49cd-83ff-823c914c9b00",
   "metadata": {},
   "outputs": [],
   "source": [
    "observed_values = np.array([552, 284])"
   ]
  },
  {
   "cell_type": "markdown",
   "id": "d87a7c99-56b3-4649-bfb5-f243d679a0b2",
   "metadata": {},
   "source": [
    "Then you will create a variable that houses the expected values. Unlike R, Python requires you to have raw numbers, not percentages here, so you will ned to calculate the values yourself. First, add up your expected values to get the total: 552 + 284 = 836. Then, multiply that number by .9 to get what percentage would be 90%. The number is 752 - this becomes your first expected value. Then subtract hat number, 752, from the total, and you will get your other value: 836-752 = 84."
   ]
  },
  {
   "cell_type": "code",
   "execution_count": 17,
   "id": "cc401522-7518-4201-9213-5907b3828b98",
   "metadata": {},
   "outputs": [],
   "source": [
    "expected_values = np.array([752, 84])"
   ]
  },
  {
   "cell_type": "markdown",
   "id": "e40e992f-5649-4553-95af-1dcfb00a35bc",
   "metadata": {},
   "source": [
    "Once you have those two variables, it is simply a matter of plugging them into your chisquare() function that comes in scipy.stats:"
   ]
  },
  {
   "cell_type": "code",
   "execution_count": 18,
   "id": "20bb4579-1997-4a5b-b326-c8ee16e1cf01",
   "metadata": {},
   "outputs": [
    {
     "data": {
      "text/plain": [
       "Power_divergenceResult(statistic=529.3819655521784, pvalue=3.849512370977756e-117)"
      ]
     },
     "execution_count": 18,
     "metadata": {},
     "output_type": "execute_result"
    }
   ],
   "source": [
    "scipy.stats.chisquare(observed_values, f_exp=expected_values)"
   ]
  },
  {
   "cell_type": "markdown",
   "id": "f4c0ecb5-4f55-4390-a5d5-5bd2e0296874",
   "metadata": {},
   "source": [
    "And the output is provided below. The one labeled statistic is your Chi-Square value, and the one labeled pvalue is - suprise, surprise~ - your p value!"
   ]
  },
  {
   "cell_type": "markdown",
   "id": "88a39608-9935-4551-b60e-272f656020cf",
   "metadata": {},
   "source": [
    "It will most likely be written in scientific notation. It is in this case, and so this means that this value is extremely significant - you are moving the decimal over to the left 117 times, which means that there are 116 zeros in front of that 3! And remember that a significant goodness of fit Chi-Square means that your sample significantly differs from the population in some way."
   ]
  },
  {
   "cell_type": "code",
   "execution_count": 19,
   "id": "9bf3883b-4a3f-45ca-9356-1afd1704d300",
   "metadata": {},
   "outputs": [],
   "source": [
    "## the population was the internet survery of 90/100 percent Star Wars fans"
   ]
  },
  {
   "cell_type": "code",
   "execution_count": 20,
   "id": "909a5add-2851-4e78-9473-42d8e3fc8a01",
   "metadata": {},
   "outputs": [],
   "source": [
    "#### Page 10"
   ]
  },
  {
   "cell_type": "markdown",
   "id": "4b67c5a6-50fa-4f03-9d59-387ceedad7cc",
   "metadata": {},
   "source": [
    "## McNemar Chi-Square Python\n",
    "\n",
    "You will now learn how to conduct McNemar Chi-Squares in Python. The process is much the same, but the output leaves something to be desired."
   ]
  },
  {
   "cell_type": "markdown",
   "id": "c6e5de86-18a0-4ca4-861e-f7625530b922",
   "metadata": {},
   "source": [
    "## Load in Data\n",
    "\n",
    "You will be using the same bakery data as you did with R. It has the date and time of each bakery item sold."
   ]
  },
  {
   "cell_type": "code",
   "execution_count": 4,
   "id": "5e08cfd2-7e67-46a4-bb71-72abd42465d4",
   "metadata": {},
   "outputs": [],
   "source": [
    "bakerySales = pd.read_csv('../../datasets/bakery_sales.csv')"
   ]
  },
  {
   "cell_type": "code",
   "execution_count": 5,
   "id": "38cdf859-7323-4c54-b714-02c5c2531a7e",
   "metadata": {},
   "outputs": [
    {
     "data": {
      "text/html": [
       "<div>\n",
       "<style scoped>\n",
       "    .dataframe tbody tr th:only-of-type {\n",
       "        vertical-align: middle;\n",
       "    }\n",
       "\n",
       "    .dataframe tbody tr th {\n",
       "        vertical-align: top;\n",
       "    }\n",
       "\n",
       "    .dataframe thead th {\n",
       "        text-align: right;\n",
       "    }\n",
       "</style>\n",
       "<table border=\"1\" class=\"dataframe\">\n",
       "  <thead>\n",
       "    <tr style=\"text-align: right;\">\n",
       "      <th></th>\n",
       "      <th>Date</th>\n",
       "      <th>Time</th>\n",
       "      <th>Transaction</th>\n",
       "      <th>Item</th>\n",
       "    </tr>\n",
       "  </thead>\n",
       "  <tbody>\n",
       "    <tr>\n",
       "      <th>0</th>\n",
       "      <td>10/30/2016</td>\n",
       "      <td>9:58:11 AM</td>\n",
       "      <td>1</td>\n",
       "      <td>Bread</td>\n",
       "    </tr>\n",
       "    <tr>\n",
       "      <th>1</th>\n",
       "      <td>10/30/2016</td>\n",
       "      <td>10:05:34 AM</td>\n",
       "      <td>2</td>\n",
       "      <td>Scandinavian</td>\n",
       "    </tr>\n",
       "    <tr>\n",
       "      <th>2</th>\n",
       "      <td>10/30/2016</td>\n",
       "      <td>10:05:34 AM</td>\n",
       "      <td>2</td>\n",
       "      <td>Scandinavian</td>\n",
       "    </tr>\n",
       "    <tr>\n",
       "      <th>3</th>\n",
       "      <td>10/30/2016</td>\n",
       "      <td>10:07:57 AM</td>\n",
       "      <td>3</td>\n",
       "      <td>Hot chocolate</td>\n",
       "    </tr>\n",
       "    <tr>\n",
       "      <th>4</th>\n",
       "      <td>10/30/2016</td>\n",
       "      <td>10:07:57 AM</td>\n",
       "      <td>3</td>\n",
       "      <td>Jam</td>\n",
       "    </tr>\n",
       "  </tbody>\n",
       "</table>\n",
       "</div>"
      ],
      "text/plain": [
       "         Date         Time  Transaction           Item\n",
       "0  10/30/2016   9:58:11 AM            1          Bread\n",
       "1  10/30/2016  10:05:34 AM            2   Scandinavian\n",
       "2  10/30/2016  10:05:34 AM            2   Scandinavian\n",
       "3  10/30/2016  10:07:57 AM            3  Hot chocolate\n",
       "4  10/30/2016  10:07:57 AM            3            Jam"
      ]
     },
     "execution_count": 5,
     "metadata": {},
     "output_type": "execute_result"
    }
   ],
   "source": [
    "bakerySales.head()"
   ]
  },
  {
   "cell_type": "markdown",
   "id": "8e89fbb1-f879-4b18-893f-0b6821208f56",
   "metadata": {},
   "source": [
    "## Question Set Up\n",
    "\n",
    "You will be answering the following question:\n",
    "\n",
    "Do the sales of coffee change from the beginning of the month to the end of the month?"
   ]
  },
  {
   "cell_type": "markdown",
   "id": "9876a3f4-a7f5-480c-8f57-c5bbd5f7c85d",
   "metadata": {},
   "source": [
    "## Data Wrangling\n",
    "\n",
    "Just like with R, you will need to do some data wrangling."
   ]
  },
  {
   "cell_type": "markdown",
   "id": "daf4e54b-6b08-4a7a-bff6-e6ddf5435f38",
   "metadata": {},
   "source": [
    "## Separating the Pieces of the Date Variable\n",
    "\n",
    "The first order of business is to separate out your Date column. You can do this with the function str.split():"
   ]
  },
  {
   "cell_type": "code",
   "execution_count": 23,
   "id": "304657d7-faed-4f2d-a308-7de0af45ad6a",
   "metadata": {},
   "outputs": [],
   "source": [
    "bakerySales1 = bakerySales['Date'].str.split('/', expand=True).rename(columns = lambda x: \"Date\" + str(x +1))"
   ]
  },
  {
   "cell_type": "markdown",
   "id": "41da9065-d98d-4873-a816-895896b646b8",
   "metadata": {},
   "source": [
    "And then of course you'll need to put your data back together again:"
   ]
  },
  {
   "cell_type": "code",
   "execution_count": 24,
   "id": "cdf29dc9-29a9-4504-832c-95f4977d2ff3",
   "metadata": {},
   "outputs": [],
   "source": [
    "bakerySales2 = pd.concat([bakerySales, bakerySales1], axis=1)"
   ]
  },
  {
   "cell_type": "code",
   "execution_count": 25,
   "id": "c0dc17ae-83be-4a6d-987c-1855eb6a5e6b",
   "metadata": {},
   "outputs": [
    {
     "data": {
      "text/html": [
       "<div>\n",
       "<style scoped>\n",
       "    .dataframe tbody tr th:only-of-type {\n",
       "        vertical-align: middle;\n",
       "    }\n",
       "\n",
       "    .dataframe tbody tr th {\n",
       "        vertical-align: top;\n",
       "    }\n",
       "\n",
       "    .dataframe thead th {\n",
       "        text-align: right;\n",
       "    }\n",
       "</style>\n",
       "<table border=\"1\" class=\"dataframe\">\n",
       "  <thead>\n",
       "    <tr style=\"text-align: right;\">\n",
       "      <th></th>\n",
       "      <th>Date</th>\n",
       "      <th>Time</th>\n",
       "      <th>Transaction</th>\n",
       "      <th>Item</th>\n",
       "      <th>Date1</th>\n",
       "      <th>Date2</th>\n",
       "      <th>Date3</th>\n",
       "    </tr>\n",
       "  </thead>\n",
       "  <tbody>\n",
       "    <tr>\n",
       "      <th>0</th>\n",
       "      <td>10/30/2016</td>\n",
       "      <td>9:58:11 AM</td>\n",
       "      <td>1</td>\n",
       "      <td>Bread</td>\n",
       "      <td>10</td>\n",
       "      <td>30</td>\n",
       "      <td>2016</td>\n",
       "    </tr>\n",
       "    <tr>\n",
       "      <th>1</th>\n",
       "      <td>10/30/2016</td>\n",
       "      <td>10:05:34 AM</td>\n",
       "      <td>2</td>\n",
       "      <td>Scandinavian</td>\n",
       "      <td>10</td>\n",
       "      <td>30</td>\n",
       "      <td>2016</td>\n",
       "    </tr>\n",
       "    <tr>\n",
       "      <th>2</th>\n",
       "      <td>10/30/2016</td>\n",
       "      <td>10:05:34 AM</td>\n",
       "      <td>2</td>\n",
       "      <td>Scandinavian</td>\n",
       "      <td>10</td>\n",
       "      <td>30</td>\n",
       "      <td>2016</td>\n",
       "    </tr>\n",
       "    <tr>\n",
       "      <th>3</th>\n",
       "      <td>10/30/2016</td>\n",
       "      <td>10:07:57 AM</td>\n",
       "      <td>3</td>\n",
       "      <td>Hot chocolate</td>\n",
       "      <td>10</td>\n",
       "      <td>30</td>\n",
       "      <td>2016</td>\n",
       "    </tr>\n",
       "    <tr>\n",
       "      <th>4</th>\n",
       "      <td>10/30/2016</td>\n",
       "      <td>10:07:57 AM</td>\n",
       "      <td>3</td>\n",
       "      <td>Jam</td>\n",
       "      <td>10</td>\n",
       "      <td>30</td>\n",
       "      <td>2016</td>\n",
       "    </tr>\n",
       "  </tbody>\n",
       "</table>\n",
       "</div>"
      ],
      "text/plain": [
       "         Date         Time  Transaction           Item Date1 Date2 Date3\n",
       "0  10/30/2016   9:58:11 AM            1          Bread    10    30  2016\n",
       "1  10/30/2016  10:05:34 AM            2   Scandinavian    10    30  2016\n",
       "2  10/30/2016  10:05:34 AM            2   Scandinavian    10    30  2016\n",
       "3  10/30/2016  10:07:57 AM            3  Hot chocolate    10    30  2016\n",
       "4  10/30/2016  10:07:57 AM            3            Jam    10    30  2016"
      ]
     },
     "execution_count": 25,
     "metadata": {},
     "output_type": "execute_result"
    }
   ],
   "source": [
    "bakerySales2.head()"
   ]
  },
  {
   "cell_type": "markdown",
   "id": "96c4f521-8c38-4590-9678-7a692016b9ef",
   "metadata": {},
   "source": [
    "## Changing Day to an Integer\n",
    "\n",
    "Next you'll need to recode the Date2 variable so that it provides information about beginning or ending of the month. To do this, your Date2 variable will need to be an integer. \n",
    "\n",
    "You can double check that it is with the function info():"
   ]
  },
  {
   "cell_type": "code",
   "execution_count": 26,
   "id": "3a47ee78-903d-44ca-9822-e0e4864962d6",
   "metadata": {},
   "outputs": [
    {
     "name": "stdout",
     "output_type": "stream",
     "text": [
      "<class 'pandas.core.frame.DataFrame'>\n",
      "RangeIndex: 21293 entries, 0 to 21292\n",
      "Data columns (total 7 columns):\n",
      " #   Column       Non-Null Count  Dtype \n",
      "---  ------       --------------  ----- \n",
      " 0   Date         21293 non-null  object\n",
      " 1   Time         21293 non-null  object\n",
      " 2   Transaction  21293 non-null  int64 \n",
      " 3   Item         21293 non-null  object\n",
      " 4   Date1        21293 non-null  object\n",
      " 5   Date2        21293 non-null  object\n",
      " 6   Date3        21293 non-null  object\n",
      "dtypes: int64(1), object(6)\n",
      "memory usage: 1.1+ MB\n"
     ]
    }
   ],
   "source": [
    "bakerySales2.info()"
   ]
  },
  {
   "cell_type": "markdown",
   "id": "ff35237f-410c-4dc0-b7c0-fe113b5caa42",
   "metadata": {},
   "source": [
    "So it looks like Date2 is currently string data, which is common after doing the str.split() function - after all, it literally translates into \"string split!\" However, this is an easy fix - you can use the astype(int) function:"
   ]
  },
  {
   "cell_type": "code",
   "execution_count": 27,
   "id": "44cc9a9a-e5b1-4fc9-acf8-0cc9c828e51c",
   "metadata": {},
   "outputs": [],
   "source": [
    "bakerySales2.Date2 = bakerySales2.Date2.astype(int)"
   ]
  },
  {
   "cell_type": "markdown",
   "id": "7134282a-c17e-4b6f-842c-76132d5f16e4",
   "metadata": {},
   "source": [
    "And now if you run info() again, you will find that Date2 is now an integer!"
   ]
  },
  {
   "cell_type": "code",
   "execution_count": 28,
   "id": "67e1c5d2-eeb0-4836-9879-0934eb11b46e",
   "metadata": {},
   "outputs": [
    {
     "name": "stdout",
     "output_type": "stream",
     "text": [
      "<class 'pandas.core.frame.DataFrame'>\n",
      "RangeIndex: 21293 entries, 0 to 21292\n",
      "Data columns (total 7 columns):\n",
      " #   Column       Non-Null Count  Dtype \n",
      "---  ------       --------------  ----- \n",
      " 0   Date         21293 non-null  object\n",
      " 1   Time         21293 non-null  object\n",
      " 2   Transaction  21293 non-null  int64 \n",
      " 3   Item         21293 non-null  object\n",
      " 4   Date1        21293 non-null  object\n",
      " 5   Date2        21293 non-null  int32 \n",
      " 6   Date3        21293 non-null  object\n",
      "dtypes: int32(1), int64(1), object(5)\n",
      "memory usage: 1.1+ MB\n"
     ]
    }
   ],
   "source": [
    "bakerySales2.info()"
   ]
  },
  {
   "cell_type": "markdown",
   "id": "6faa39bb-e081-4a95-be26-82a0771b75f4",
   "metadata": {},
   "source": [
    "## Recoding to Beginning or End of Month\n",
    "\n",
    "Now that your variable is numeric, you are good to do a recode using the greater than and less than operands. \n",
    "\n",
    "You can recode using a function with some if statements, and then apply that function to your data:"
   ]
  },
  {
   "cell_type": "code",
   "execution_count": 29,
   "id": "bb959df6-f8f5-4720-a545-b4cc94f9edec",
   "metadata": {},
   "outputs": [],
   "source": [
    "def month (series): \n",
    "    if series <= 15: \n",
    "        return 0\n",
    "    if series > 16: \n",
    "        return 1\n",
    "bakerySales2['DayR'] = bakerySales2[\"Date2\"].apply(month)"
   ]
  },
  {
   "cell_type": "markdown",
   "id": "7c5f795a-69f3-493b-8862-a24b03fb4540",
   "metadata": {},
   "source": [
    "## Recoding to Coffee or Other\n",
    "\n",
    "Next, you will recode the Item variable into something that is Coffee or Not Coffee. You will use the same format as the recode above:"
   ]
  },
  {
   "cell_type": "code",
   "execution_count": 30,
   "id": "c2c0d34b-3fbe-4494-a43f-ad072ccc1f51",
   "metadata": {},
   "outputs": [],
   "source": [
    "def coff (series):\n",
    "    if series == \"Coffee\":\n",
    "        return 1\n",
    "    if series != \"Coffee\":\n",
    "        return 2\n",
    "bakerySales2['CoffeeYN'] = bakerySales2['Item'].apply(coff)"
   ]
  },
  {
   "cell_type": "markdown",
   "id": "2b7ac809-a421-4ff2-bcb8-91a361f7d81b",
   "metadata": {},
   "source": [
    "## Make a Contingency Table\n",
    "\n",
    "\n",
    "Next, you will need to make a contingency table, since the function for McNemar Chi-Squares in Python will not accept raw data. \n",
    "\n",
    "Happily, the pd.crosstab() function you learned earlier will do this job easily for you:"
   ]
  },
  {
   "cell_type": "code",
   "execution_count": 31,
   "id": "e9c02fbe-2d01-4c00-9617-5b3ccf99c6b5",
   "metadata": {},
   "outputs": [
    {
     "data": {
      "text/html": [
       "<div>\n",
       "<style scoped>\n",
       "    .dataframe tbody tr th:only-of-type {\n",
       "        vertical-align: middle;\n",
       "    }\n",
       "\n",
       "    .dataframe tbody tr th {\n",
       "        vertical-align: top;\n",
       "    }\n",
       "\n",
       "    .dataframe thead th {\n",
       "        text-align: right;\n",
       "    }\n",
       "</style>\n",
       "<table border=\"1\" class=\"dataframe\">\n",
       "  <thead>\n",
       "    <tr style=\"text-align: right;\">\n",
       "      <th>CoffeeYN</th>\n",
       "      <th>1</th>\n",
       "      <th>2</th>\n",
       "    </tr>\n",
       "    <tr>\n",
       "      <th>DayR</th>\n",
       "      <th></th>\n",
       "      <th></th>\n",
       "    </tr>\n",
       "  </thead>\n",
       "  <tbody>\n",
       "    <tr>\n",
       "      <th>0.0</th>\n",
       "      <td>2841</td>\n",
       "      <td>8238</td>\n",
       "    </tr>\n",
       "    <tr>\n",
       "      <th>1.0</th>\n",
       "      <td>2491</td>\n",
       "      <td>7126</td>\n",
       "    </tr>\n",
       "  </tbody>\n",
       "</table>\n",
       "</div>"
      ],
      "text/plain": [
       "CoffeeYN     1     2\n",
       "DayR                \n",
       "0.0       2841  8238\n",
       "1.0       2491  7126"
      ]
     },
     "execution_count": 31,
     "metadata": {},
     "output_type": "execute_result"
    }
   ],
   "source": [
    "bakery_crosstab = pd.crosstab(bakerySales2['DayR'], bakerySales2['CoffeeYN'])\n",
    "bakery_crosstab"
   ]
  },
  {
   "cell_type": "markdown",
   "id": "064d35eb-b9b0-439e-8c13-d64e0c07e9ea",
   "metadata": {},
   "source": [
    "## Test Assumptions and Run Analyses\n",
    "\n",
    "In Python, there is no way to test the assumption of at least five expected per cell, which means that if you are analyzing high stakes data, \n",
    "\n",
    "where accuracy really matters, Python is NOT the program for you to run a McNemar Chi-Square in.\n",
    "\n",
    "You will use the function sm.stats.contingency_tables.mcnemar() to run your McNemar Chi-Square. \n",
    "\n",
    "It takes the arguments of the crosstab you just created, exact=, which you can set to False, and correction=, which will be set to True."
   ]
  },
  {
   "cell_type": "code",
   "execution_count": 32,
   "id": "5ab0658c-ffbd-455a-8f92-e70d3d3c4d43",
   "metadata": {},
   "outputs": [],
   "source": [
    "result = sm.stats.contingency_tables.mcnemar(bakery_crosstab, exact=False, correction=True)"
   ]
  },
  {
   "cell_type": "markdown",
   "id": "5f7b1555-9012-47a5-a92a-01ed55edd302",
   "metadata": {},
   "source": [
    "If you just run the code above, you may end up confused - nothing happened! That's because this particular function requires you to actually print your results out yourself:"
   ]
  },
  {
   "cell_type": "code",
   "execution_count": 33,
   "id": "82bfe4ad-559a-4200-9675-a51d1647b789",
   "metadata": {},
   "outputs": [
    {
     "name": "stdout",
     "output_type": "stream",
     "text": [
      "pvalue      0.0\n",
      "statistic   2839.0003519887364\n"
     ]
    }
   ],
   "source": [
    "print(result)"
   ]
  },
  {
   "cell_type": "markdown",
   "id": "d02222e6-e4fc-48a9-a00e-0f7dcce0480d",
   "metadata": {},
   "source": [
    "## Interpret Results\n",
    "\n",
    "Alright! You now have results, and they are significant - the p value is less than .05, so it looks like different amounts of coffee is sold in the morning and afternoon! \n",
    "\n",
    "How does it differ? With Python, you'll NEVER KNOW! It does not provide the ability to look at standardized residuals, so you can't look at post hocs."
   ]
  },
  {
   "cell_type": "markdown",
   "id": "426a6a78-7a37-4c9b-9c61-bdb40e3b2749",
   "metadata": {},
   "source": [
    "## Summary\n",
    "\n",
    "Although continuous data is usually easier to work with and you can extract more data from it, \n",
    "\n",
    "there will be times when you come up against a large pile of categorical data (especially if your company collected it themselves!) \n",
    "\n",
    "and you will need some advanced categorical analysis tools in your arsenal! \n",
    "\n",
    "You will use one proportion testing when you are comparing the rate of one item to a gold standard rate. \n",
    "\n",
    "Two proportion testing will be used to compare rates between items to a gold standard rate. \n",
    "\n",
    "Goodness of fit Chi-Squares are used to test whether your sample data could feasibly come from the population as a whole, \n",
    "\n",
    "and you can use a McNemar Chi-Square to look at anything that is repeatedly measured that has two categorical variables."
   ]
  },
  {
   "cell_type": "code",
   "execution_count": null,
   "id": "ba24fa1d-9871-42d6-96e8-d43a3dc70fcd",
   "metadata": {},
   "outputs": [],
   "source": [
    "#### Page 11 (Key Terms)"
   ]
  }
 ],
 "metadata": {
  "kernelspec": {
   "display_name": "Python 3",
   "language": "python",
   "name": "python3"
  },
  "language_info": {
   "codemirror_mode": {
    "name": "ipython",
    "version": 3
   },
   "file_extension": ".py",
   "mimetype": "text/x-python",
   "name": "python",
   "nbconvert_exporter": "python",
   "pygments_lexer": "ipython3",
   "version": "3.8.8"
  }
 },
 "nbformat": 4,
 "nbformat_minor": 5
}
