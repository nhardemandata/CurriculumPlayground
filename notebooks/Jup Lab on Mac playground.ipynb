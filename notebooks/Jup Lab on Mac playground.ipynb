{
 "cells": [
  {
   "cell_type": "code",
   "execution_count": 1,
   "id": "926f3319-b637-489c-9cf8-e83f14263f6e",
   "metadata": {},
   "outputs": [
    {
     "ename": "ModuleNotFoundError",
     "evalue": "No module named 'pandas'",
     "output_type": "error",
     "traceback": [
      "\u001b[0;31m---------------------------------------------------------------------------\u001b[0m",
      "\u001b[0;31mModuleNotFoundError\u001b[0m                       Traceback (most recent call last)",
      "\u001b[0;32m/var/folders/mh/w6tg21bn1054b9f92x9w60cc0000gn/T/ipykernel_12578/4080736814.py\u001b[0m in \u001b[0;36m<module>\u001b[0;34m\u001b[0m\n\u001b[0;32m----> 1\u001b[0;31m \u001b[0;32mimport\u001b[0m \u001b[0mpandas\u001b[0m \u001b[0;32mas\u001b[0m \u001b[0mpd\u001b[0m\u001b[0;34m\u001b[0m\u001b[0;34m\u001b[0m\u001b[0m\n\u001b[0m",
      "\u001b[0;31mModuleNotFoundError\u001b[0m: No module named 'pandas'"
     ]
    }
   ],
   "source": [
    "import pandas as pd"
   ]
  },
  {
   "cell_type": "code",
   "execution_count": 2,
   "id": "fc9ba021-0f66-45d8-914f-25fda63326ad",
   "metadata": {},
   "outputs": [
    {
     "ename": "NameError",
     "evalue": "name 'python' is not defined",
     "output_type": "error",
     "traceback": [
      "\u001b[0;31m---------------------------------------------------------------------------\u001b[0m",
      "\u001b[0;31mNameError\u001b[0m                                 Traceback (most recent call last)",
      "\u001b[0;32m/var/folders/mh/w6tg21bn1054b9f92x9w60cc0000gn/T/ipykernel_12578/388333897.py\u001b[0m in \u001b[0;36m<module>\u001b[0;34m\u001b[0m\n\u001b[0;32m----> 1\u001b[0;31m \u001b[0mpython\u001b[0m\u001b[0;34m\u001b[0m\u001b[0;34m\u001b[0m\u001b[0m\n\u001b[0m",
      "\u001b[0;31mNameError\u001b[0m: name 'python' is not defined"
     ]
    }
   ],
   "source": [
    "python"
   ]
  },
  {
   "cell_type": "code",
   "execution_count": 3,
   "id": "a2747c98-e314-4a12-ad9f-7293ad75fb54",
   "metadata": {},
   "outputs": [
    {
     "ename": "ModuleNotFoundError",
     "evalue": "No module named 'numpy'",
     "output_type": "error",
     "traceback": [
      "\u001b[0;31m---------------------------------------------------------------------------\u001b[0m",
      "\u001b[0;31mModuleNotFoundError\u001b[0m                       Traceback (most recent call last)",
      "\u001b[0;32m/var/folders/mh/w6tg21bn1054b9f92x9w60cc0000gn/T/ipykernel_12578/3593848235.py\u001b[0m in \u001b[0;36m<module>\u001b[0;34m\u001b[0m\n\u001b[0;32m----> 1\u001b[0;31m \u001b[0;32mimport\u001b[0m \u001b[0mnumpy\u001b[0m \u001b[0;32mas\u001b[0m \u001b[0mnp\u001b[0m\u001b[0;34m\u001b[0m\u001b[0;34m\u001b[0m\u001b[0m\n\u001b[0m",
      "\u001b[0;31mModuleNotFoundError\u001b[0m: No module named 'numpy'"
     ]
    }
   ],
   "source": [
    "import numpy as np"
   ]
  },
  {
   "cell_type": "code",
   "execution_count": 4,
   "id": "26b3f429-fec4-471d-b0c6-6e1570b833fe",
   "metadata": {},
   "outputs": [
    {
     "name": "stdout",
     "output_type": "stream",
     "text": [
      "zsh:1: command not found: pip\n"
     ]
    }
   ],
   "source": [
    "! pip install pandas"
   ]
  },
  {
   "cell_type": "code",
   "execution_count": 5,
   "id": "40ea38cb-c051-4d33-a98f-4327c0f5a389",
   "metadata": {},
   "outputs": [],
   "source": [
    "!"
   ]
  },
  {
   "cell_type": "code",
   "execution_count": 6,
   "id": "797f8acf-9edd-4b7c-aba4-6d5bdf3e165b",
   "metadata": {},
   "outputs": [
    {
     "name": "stdout",
     "output_type": "stream",
     "text": [
      "Collecting pandas\n",
      "  Downloading pandas-1.3.1-cp39-cp39-macosx_10_9_x86_64.whl (11.3 MB)\n",
      "\u001b[K     |████████████████████████████████| 11.3 MB 2.8 MB/s eta 0:00:01\n",
      "\u001b[?25hRequirement already satisfied: python-dateutil>=2.7.3 in /usr/local/Cellar/jupyterlab/3.1.0/libexec/lib/python3.9/site-packages (from pandas) (2.8.2)\n",
      "Requirement already satisfied: pytz>=2017.3 in /usr/local/Cellar/jupyterlab/3.1.0/libexec/lib/python3.9/site-packages (from pandas) (2021.1)\n",
      "Collecting numpy>=1.17.3\n",
      "  Downloading numpy-1.21.1-cp39-cp39-macosx_10_9_x86_64.whl (17.0 MB)\n",
      "\u001b[K     |████████████████████████████████| 17.0 MB 12.4 MB/s eta 0:00:01\n",
      "\u001b[?25hRequirement already satisfied: six>=1.5 in /usr/local/Cellar/jupyterlab/3.1.0/libexec/lib/python3.9/site-packages (from python-dateutil>=2.7.3->pandas) (1.16.0)\n",
      "Installing collected packages: numpy, pandas\n",
      "Successfully installed numpy-1.21.1 pandas-1.3.1\n",
      "\u001b[33mWARNING: You are using pip version 21.1.3; however, version 21.2.1 is available.\n",
      "You should consider upgrading via the '/usr/local/Cellar/jupyterlab/3.1.0/libexec/bin/python3.9 -m pip install --upgrade pip' command.\u001b[0m\n",
      "Note: you may need to restart the kernel to use updated packages.\n"
     ]
    }
   ],
   "source": [
    "pip install pandas"
   ]
  },
  {
   "cell_type": "code",
   "execution_count": 7,
   "id": "82147d34-2200-4e28-91e7-93072b609600",
   "metadata": {},
   "outputs": [],
   "source": [
    "import pandas as pd"
   ]
  },
  {
   "cell_type": "code",
   "execution_count": 18,
   "id": "2154d94f-b2a7-49b4-b872-a9c8c3342c09",
   "metadata": {},
   "outputs": [],
   "source": [
    "data = pd.read_excel('../../datasets/hybrid2012-13.xlsx')"
   ]
  },
  {
   "cell_type": "code",
   "execution_count": 9,
   "id": "38ca161e-e4ef-449f-9d53-2449d77da20d",
   "metadata": {},
   "outputs": [
    {
     "data": {
      "text/plain": [
       "<function dir>"
      ]
     },
     "execution_count": 9,
     "metadata": {},
     "output_type": "execute_result"
    }
   ],
   "source": [
    "dir"
   ]
  },
  {
   "cell_type": "code",
   "execution_count": 10,
   "id": "a2696b01-2a01-4f2a-a623-ef2fb301c72d",
   "metadata": {},
   "outputs": [
    {
     "name": "stdout",
     "output_type": "stream",
     "text": [
      "DSO104 L1 Python - Hands On.ipynb  Untitled.ipynb\n",
      "DSO104 L1 R - Hands On.ipynb\n"
     ]
    }
   ],
   "source": [
    "ls"
   ]
  },
  {
   "cell_type": "code",
   "execution_count": 11,
   "id": "433bda04-2404-4608-a11d-620e381f12c6",
   "metadata": {},
   "outputs": [
    {
     "name": "stdout",
     "output_type": "stream",
     "text": [
      "BorderCrossing.ipynb\n",
      "DSO102 @ L3, beginning page 2_Rplayground.ipynb\n",
      "\u001b[34mDSO104 L1 HandsOn R + Python\u001b[m\u001b[m/\n",
      "\u001b[34mDevin's Chicago Data Exploration\u001b[m\u001b[m/\n",
      "\u001b[34mIntermediate Statistics\u001b[m\u001b[m/\n",
      "Untitled.ipynb\n",
      "Untitled1.ipynb\n",
      "Untitled2.ipynb\n",
      "Untitled3.ipynb\n"
     ]
    }
   ],
   "source": [
    "ls .."
   ]
  },
  {
   "cell_type": "code",
   "execution_count": 12,
   "id": "8ba9bdd7-b9b0-48d1-8ae2-6f0fbd89fa99",
   "metadata": {},
   "outputs": [
    {
     "name": "stdout",
     "output_type": "stream",
     "text": [
      "1_Install_R.ipynb  \u001b[34mdatasets\u001b[m\u001b[m/          \u001b[34mnotebooks\u001b[m\u001b[m/\n",
      "README.md          \u001b[34mmedia\u001b[m\u001b[m/\n"
     ]
    }
   ],
   "source": [
    "ls ../.."
   ]
  },
  {
   "cell_type": "code",
   "execution_count": 15,
   "id": "65182d85-06e9-461e-99c1-a4e736e6c208",
   "metadata": {},
   "outputs": [
    {
     "name": "stdout",
     "output_type": "stream",
     "text": [
      "Collecting openpyxl\n",
      "  Downloading openpyxl-3.0.7-py2.py3-none-any.whl (243 kB)\n",
      "\u001b[K     |████████████████████████████████| 243 kB 4.6 MB/s eta 0:00:01\n",
      "\u001b[?25hCollecting et-xmlfile\n",
      "  Downloading et_xmlfile-1.1.0-py3-none-any.whl (4.7 kB)\n",
      "Installing collected packages: et-xmlfile, openpyxl\n",
      "Successfully installed et-xmlfile-1.1.0 openpyxl-3.0.7\n",
      "\u001b[33mWARNING: You are using pip version 21.1.3; however, version 21.2.1 is available.\n",
      "You should consider upgrading via the '/usr/local/Cellar/jupyterlab/3.1.0/libexec/bin/python3.9 -m pip install --upgrade pip' command.\u001b[0m\n",
      "Note: you may need to restart the kernel to use updated packages.\n"
     ]
    }
   ],
   "source": [
    "pip install openpyxl"
   ]
  },
  {
   "cell_type": "code",
   "execution_count": 17,
   "id": "e471749c-80b1-4deb-bafb-799d099fa0c1",
   "metadata": {},
   "outputs": [
    {
     "data": {
      "text/html": [
       "<div>\n",
       "<style scoped>\n",
       "    .dataframe tbody tr th:only-of-type {\n",
       "        vertical-align: middle;\n",
       "    }\n",
       "\n",
       "    .dataframe tbody tr th {\n",
       "        vertical-align: top;\n",
       "    }\n",
       "\n",
       "    .dataframe thead th {\n",
       "        text-align: right;\n",
       "    }\n",
       "</style>\n",
       "<table border=\"1\" class=\"dataframe\">\n",
       "  <thead>\n",
       "    <tr style=\"text-align: right;\">\n",
       "      <th></th>\n",
       "      <th>vehicle</th>\n",
       "      <th>msrp2012</th>\n",
       "      <th>accelrate2012</th>\n",
       "      <th>mpg2012</th>\n",
       "      <th>mpgmpge2012</th>\n",
       "      <th>carclass2012</th>\n",
       "      <th>carclass_id2012</th>\n",
       "      <th>msrp2013</th>\n",
       "      <th>accelrate2013</th>\n",
       "      <th>mpg2013</th>\n",
       "      <th>mpgmpge2013</th>\n",
       "      <th>carclass2013</th>\n",
       "      <th>carclass_id2013</th>\n",
       "    </tr>\n",
       "  </thead>\n",
       "  <tbody>\n",
       "    <tr>\n",
       "      <th>0</th>\n",
       "      <td>ActiveHybrid 3</td>\n",
       "      <td>19006.62</td>\n",
       "      <td>9.35</td>\n",
       "      <td>50</td>\n",
       "      <td>50</td>\n",
       "      <td>C</td>\n",
       "      <td>1</td>\n",
       "      <td>19080</td>\n",
       "      <td>8.70</td>\n",
       "      <td>50</td>\n",
       "      <td>50</td>\n",
       "      <td>C</td>\n",
       "      <td>1</td>\n",
       "    </tr>\n",
       "    <tr>\n",
       "      <th>1</th>\n",
       "      <td>ActiveHybrid 5</td>\n",
       "      <td>32095.61</td>\n",
       "      <td>8.82</td>\n",
       "      <td>50</td>\n",
       "      <td>95</td>\n",
       "      <td>M</td>\n",
       "      <td>3</td>\n",
       "      <td>24995</td>\n",
       "      <td>12.66</td>\n",
       "      <td>45</td>\n",
       "      <td>45</td>\n",
       "      <td>C</td>\n",
       "      <td>1</td>\n",
       "    </tr>\n",
       "    <tr>\n",
       "      <th>2</th>\n",
       "      <td>Ampera</td>\n",
       "      <td>31739.55</td>\n",
       "      <td>11.11</td>\n",
       "      <td>37</td>\n",
       "      <td>98</td>\n",
       "      <td>C</td>\n",
       "      <td>1</td>\n",
       "      <td>24200</td>\n",
       "      <td>10.20</td>\n",
       "      <td>50</td>\n",
       "      <td>50</td>\n",
       "      <td>M</td>\n",
       "      <td>3</td>\n",
       "    </tr>\n",
       "    <tr>\n",
       "      <th>3</th>\n",
       "      <td>Camry LE</td>\n",
       "      <td>62180.23</td>\n",
       "      <td>16.67</td>\n",
       "      <td>26</td>\n",
       "      <td>26</td>\n",
       "      <td>M</td>\n",
       "      <td>3</td>\n",
       "      <td>18600</td>\n",
       "      <td>11.76</td>\n",
       "      <td>42</td>\n",
       "      <td>42</td>\n",
       "      <td>C</td>\n",
       "      <td>1</td>\n",
       "    </tr>\n",
       "    <tr>\n",
       "      <th>4</th>\n",
       "      <td>Chevrolet Volt</td>\n",
       "      <td>59126.14</td>\n",
       "      <td>16.95</td>\n",
       "      <td>31</td>\n",
       "      <td>31</td>\n",
       "      <td>M</td>\n",
       "      <td>3</td>\n",
       "      <td>69850</td>\n",
       "      <td>16.39</td>\n",
       "      <td>21</td>\n",
       "      <td>21</td>\n",
       "      <td>SUV</td>\n",
       "      <td>6</td>\n",
       "    </tr>\n",
       "    <tr>\n",
       "      <th>5</th>\n",
       "      <td>Insight</td>\n",
       "      <td>18555.28</td>\n",
       "      <td>9.42</td>\n",
       "      <td>42</td>\n",
       "      <td>42</td>\n",
       "      <td>C</td>\n",
       "      <td>1</td>\n",
       "      <td>62575</td>\n",
       "      <td>16.13</td>\n",
       "      <td>21</td>\n",
       "      <td>21</td>\n",
       "      <td>SUV</td>\n",
       "      <td>6</td>\n",
       "    </tr>\n",
       "    <tr>\n",
       "      <th>6</th>\n",
       "      <td>LaCrosse</td>\n",
       "      <td>39261.96</td>\n",
       "      <td>11.11</td>\n",
       "      <td>37</td>\n",
       "      <td>94</td>\n",
       "      <td>C</td>\n",
       "      <td>1</td>\n",
       "      <td>74425</td>\n",
       "      <td>11.63</td>\n",
       "      <td>21</td>\n",
       "      <td>21</td>\n",
       "      <td>SUV</td>\n",
       "      <td>6</td>\n",
       "    </tr>\n",
       "    <tr>\n",
       "      <th>7</th>\n",
       "      <td>M35h</td>\n",
       "      <td>34858.84</td>\n",
       "      <td>11.49</td>\n",
       "      <td>39</td>\n",
       "      <td>39</td>\n",
       "      <td>M</td>\n",
       "      <td>3</td>\n",
       "      <td>53620</td>\n",
       "      <td>11.90</td>\n",
       "      <td>21</td>\n",
       "      <td>21</td>\n",
       "      <td>SUV</td>\n",
       "      <td>6</td>\n",
       "    </tr>\n",
       "    <tr>\n",
       "      <th>8</th>\n",
       "      <td>MKZ FWD</td>\n",
       "      <td>53860.45</td>\n",
       "      <td>19.23</td>\n",
       "      <td>29</td>\n",
       "      <td>29</td>\n",
       "      <td>M</td>\n",
       "      <td>3</td>\n",
       "      <td>61960</td>\n",
       "      <td>13.33</td>\n",
       "      <td>21</td>\n",
       "      <td>21</td>\n",
       "      <td>SUV</td>\n",
       "      <td>6</td>\n",
       "    </tr>\n",
       "    <tr>\n",
       "      <th>9</th>\n",
       "      <td>Panamera S</td>\n",
       "      <td>30049.52</td>\n",
       "      <td>11.36</td>\n",
       "      <td>29</td>\n",
       "      <td>29</td>\n",
       "      <td>M</td>\n",
       "      <td>3</td>\n",
       "      <td>39250</td>\n",
       "      <td>12.35</td>\n",
       "      <td>40</td>\n",
       "      <td>40</td>\n",
       "      <td>M</td>\n",
       "      <td>3</td>\n",
       "    </tr>\n",
       "    <tr>\n",
       "      <th>10</th>\n",
       "      <td>Prius C</td>\n",
       "      <td>61132.11</td>\n",
       "      <td>17.54</td>\n",
       "      <td>26</td>\n",
       "      <td>26</td>\n",
       "      <td>M</td>\n",
       "      <td>3</td>\n",
       "      <td>28900</td>\n",
       "      <td>9.26</td>\n",
       "      <td>38</td>\n",
       "      <td>38</td>\n",
       "      <td>C</td>\n",
       "      <td>1</td>\n",
       "    </tr>\n",
       "    <tr>\n",
       "      <th>11</th>\n",
       "      <td>Prius PHV</td>\n",
       "      <td>95283.85</td>\n",
       "      <td>17.54</td>\n",
       "      <td>25</td>\n",
       "      <td>25</td>\n",
       "      <td>L</td>\n",
       "      <td>2</td>\n",
       "      <td>49650</td>\n",
       "      <td>14.93</td>\n",
       "      <td>28</td>\n",
       "      <td>28</td>\n",
       "      <td>C</td>\n",
       "      <td>1</td>\n",
       "    </tr>\n",
       "    <tr>\n",
       "      <th>12</th>\n",
       "      <td>Yukon 1500</td>\n",
       "      <td>52626.77</td>\n",
       "      <td>13.50</td>\n",
       "      <td>21</td>\n",
       "      <td>21</td>\n",
       "      <td>SUV</td>\n",
       "      <td>6</td>\n",
       "      <td>39145</td>\n",
       "      <td>11.11</td>\n",
       "      <td>37</td>\n",
       "      <td>98</td>\n",
       "      <td>C</td>\n",
       "      <td>1</td>\n",
       "    </tr>\n",
       "  </tbody>\n",
       "</table>\n",
       "</div>"
      ],
      "text/plain": [
       "           vehicle  msrp2012  accelrate2012  mpg2012  mpgmpge2012  \\\n",
       "0   ActiveHybrid 3  19006.62           9.35       50           50   \n",
       "1   ActiveHybrid 5  32095.61           8.82       50           95   \n",
       "2           Ampera  31739.55          11.11       37           98   \n",
       "3         Camry LE  62180.23          16.67       26           26   \n",
       "4   Chevrolet Volt  59126.14          16.95       31           31   \n",
       "5          Insight  18555.28           9.42       42           42   \n",
       "6         LaCrosse  39261.96          11.11       37           94   \n",
       "7             M35h  34858.84          11.49       39           39   \n",
       "8          MKZ FWD  53860.45          19.23       29           29   \n",
       "9       Panamera S  30049.52          11.36       29           29   \n",
       "10         Prius C  61132.11          17.54       26           26   \n",
       "11       Prius PHV  95283.85          17.54       25           25   \n",
       "12      Yukon 1500  52626.77          13.50       21           21   \n",
       "\n",
       "   carclass2012  carclass_id2012  msrp2013  accelrate2013  mpg2013  \\\n",
       "0             C                1     19080           8.70       50   \n",
       "1             M                3     24995          12.66       45   \n",
       "2             C                1     24200          10.20       50   \n",
       "3             M                3     18600          11.76       42   \n",
       "4             M                3     69850          16.39       21   \n",
       "5             C                1     62575          16.13       21   \n",
       "6             C                1     74425          11.63       21   \n",
       "7             M                3     53620          11.90       21   \n",
       "8             M                3     61960          13.33       21   \n",
       "9             M                3     39250          12.35       40   \n",
       "10            M                3     28900           9.26       38   \n",
       "11            L                2     49650          14.93       28   \n",
       "12          SUV                6     39145          11.11       37   \n",
       "\n",
       "    mpgmpge2013 carclass2013  carclass_id2013  \n",
       "0            50            C                1  \n",
       "1            45            C                1  \n",
       "2            50            M                3  \n",
       "3            42            C                1  \n",
       "4            21          SUV                6  \n",
       "5            21          SUV                6  \n",
       "6            21          SUV                6  \n",
       "7            21          SUV                6  \n",
       "8            21          SUV                6  \n",
       "9            40            M                3  \n",
       "10           38            C                1  \n",
       "11           28            C                1  \n",
       "12           98            C                1  "
      ]
     },
     "execution_count": 17,
     "metadata": {},
     "output_type": "execute_result"
    }
   ],
   "source": [
    "data"
   ]
  },
  {
   "cell_type": "code",
   "execution_count": null,
   "id": "dd87cc6a-a0fc-4c12-b8e9-6d032eb4c9c7",
   "metadata": {},
   "outputs": [],
   "source": []
  }
 ],
 "metadata": {
  "kernelspec": {
   "display_name": "Python 3 (ipykernel)",
   "language": "python",
   "name": "python3"
  },
  "language_info": {
   "codemirror_mode": {
    "name": "ipython",
    "version": 3
   },
   "file_extension": ".py",
   "mimetype": "text/x-python",
   "name": "python",
   "nbconvert_exporter": "python",
   "pygments_lexer": "ipython3",
   "version": "3.9.6"
  }
 },
 "nbformat": 4,
 "nbformat_minor": 5
}
