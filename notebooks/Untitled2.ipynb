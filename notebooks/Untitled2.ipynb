{
 "cells": [
  {
   "cell_type": "code",
   "execution_count": 2,
   "id": "edcd4374-9904-426b-8df8-579bbb42a8f1",
   "metadata": {},
   "outputs": [
    {
     "name": "stderr",
     "output_type": "stream",
     "text": [
      "Installing package into 'C:/Users/nolan/OneDrive/Documents/R/win-library/4.1'\n",
      "(as 'lib' is unspecified)\n",
      "\n"
     ]
    },
    {
     "name": "stdout",
     "output_type": "stream",
     "text": [
      "package 'xlsx' successfully unpacked and MD5 sums checked\n",
      "\n",
      "The downloaded binary packages are in\n",
      "\tC:\\Users\\nolan\\AppData\\Local\\Temp\\Rtmpey1LAG\\downloaded_packages\n"
     ]
    },
    {
     "ename": "ERROR",
     "evalue": "Error: package or namespace load failed for 'xlsx':\n .onLoad failed in loadNamespace() for 'rJava', details:\n  call: fun(libname, pkgname)\n  error: JAVA_HOME cannot be determined from the Registry\n",
     "output_type": "error",
     "traceback": [
      "Error: package or namespace load failed for 'xlsx':\n .onLoad failed in loadNamespace() for 'rJava', details:\n  call: fun(libname, pkgname)\n  error: JAVA_HOME cannot be determined from the Registry\nTraceback:\n",
      "1. library(\"xlsx\")",
      "2. tryCatch({\n .     attr(package, \"LibPath\") <- which.lib.loc\n .     ns <- loadNamespace(package, lib.loc)\n .     env <- attachNamespace(ns, pos = pos, deps, exclude, include.only)\n . }, error = function(e) {\n .     P <- if (!is.null(cc <- conditionCall(e))) \n .         paste(\" in\", deparse(cc)[1L])\n .     else \"\"\n .     msg <- gettextf(\"package or namespace load failed for %s%s:\\n %s\", \n .         sQuote(package), P, conditionMessage(e))\n .     if (logical.return) \n .         message(paste(\"Error:\", msg), domain = NA)\n .     else stop(msg, call. = FALSE, domain = NA)\n . })",
      "3. tryCatchList(expr, classes, parentenv, handlers)",
      "4. tryCatchOne(expr, names, parentenv, handlers[[1L]])",
      "5. value[[3L]](cond)",
      "6. stop(msg, call. = FALSE, domain = NA)"
     ]
    }
   ],
   "source": [
    "install.packages(\"xlsx\")\n",
    "\n",
    "library('xlsx')"
   ]
  },
  {
   "cell_type": "code",
   "execution_count": 3,
   "id": "3efdeea4-b634-4eb9-bdd7-89dbb9fe20e0",
   "metadata": {},
   "outputs": [
    {
     "ename": "ERROR",
     "evalue": "Error in read.xlsx(\"../datasets/BorderCrossing.xlsx\", 1, header = TRUE): could not find function \"read.xlsx\"\n",
     "output_type": "error",
     "traceback": [
      "Error in read.xlsx(\"../datasets/BorderCrossing.xlsx\", 1, header = TRUE): could not find function \"read.xlsx\"\nTraceback:\n"
     ]
    }
   ],
   "source": [
    "testlol = read.xlsx('../datasets/BorderCrossing.xlsx', 1, header=TRUE)"
   ]
  },
  {
   "cell_type": "code",
   "execution_count": null,
   "id": "dbd6e44f-feb1-4449-a6bf-9417304ec45e",
   "metadata": {},
   "outputs": [],
   "source": []
  }
 ],
 "metadata": {
  "kernelspec": {
   "display_name": "R",
   "language": "R",
   "name": "ir"
  },
  "language_info": {
   "codemirror_mode": "r",
   "file_extension": ".r",
   "mimetype": "text/x-r-source",
   "name": "R",
   "pygments_lexer": "r",
   "version": "4.1.0"
  }
 },
 "nbformat": 4,
 "nbformat_minor": 5
}
