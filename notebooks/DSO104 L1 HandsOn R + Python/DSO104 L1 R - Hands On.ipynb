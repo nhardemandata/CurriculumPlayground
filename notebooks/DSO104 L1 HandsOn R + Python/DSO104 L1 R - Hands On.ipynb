{
 "cells": [
  {
   "cell_type": "markdown",
   "id": "d13bed9a-c7df-4abf-90c8-94ee667d7cae",
   "metadata": {},
   "source": [
    "# DSO104 L1 R - Hands On\n",
    "## Fake News dataset hands on"
   ]
  },
  {
   "cell_type": "code",
   "execution_count": 3,
   "id": "96830dde-8b53-4273-8e0d-0c155e229d20",
   "metadata": {},
   "outputs": [],
   "source": [
    "## import packages"
   ]
  },
  {
   "cell_type": "code",
   "execution_count": 2,
   "id": "b0997fee-7958-4518-9811-d358b61fba75",
   "metadata": {},
   "outputs": [
    {
     "name": "stderr",
     "output_type": "stream",
     "text": [
      "Installing package into 'C:/Users/nolan/OneDrive/Documents/R/win-library/4.1'\n",
      "(as 'lib' is unspecified)\n",
      "\n"
     ]
    },
    {
     "name": "stdout",
     "output_type": "stream",
     "text": [
      "package 'tidyr' successfully unpacked and MD5 sums checked\n",
      "\n",
      "The downloaded binary packages are in\n",
      "\tC:\\Users\\nolan\\AppData\\Local\\Temp\\RtmpeweEc2\\downloaded_packages\n"
     ]
    }
   ],
   "source": [
    "install.packages('tidyr')\n",
    "\n",
    "library(tidyr)"
   ]
  },
  {
   "cell_type": "code",
   "execution_count": 2,
   "id": "9c36108d-bcdd-486b-a942-69a1e7e88ef7",
   "metadata": {},
   "outputs": [],
   "source": [
    "## Load in data"
   ]
  },
  {
   "cell_type": "code",
   "execution_count": 13,
   "id": "1cd3a7c5-7567-4f2c-9360-f0e8bec44a8b",
   "metadata": {},
   "outputs": [
    {
     "data": {
      "text/html": [
       "<pre class=language-r><code>function (path = \".\", pattern = NULL, all.files = FALSE, full.names = FALSE, \n",
       "<span style=white-space:pre-wrap>    recursive = FALSE, ignore.case = FALSE, include.dirs = FALSE, </span>\n",
       "<span style=white-space:pre-wrap>    no.. = FALSE) </span>\n",
       ".Internal(list.files(path, pattern, all.files, full.names, recursive, \n",
       "<span style=white-space:pre-wrap>    ignore.case, include.dirs, no..))</span></code></pre>"
      ],
      "text/latex": [
       "\\begin{minted}{r}\n",
       "function (path = \".\", pattern = NULL, all.files = FALSE, full.names = FALSE, \n",
       "    recursive = FALSE, ignore.case = FALSE, include.dirs = FALSE, \n",
       "    no.. = FALSE) \n",
       ".Internal(list.files(path, pattern, all.files, full.names, recursive, \n",
       "    ignore.case, include.dirs, no..))\n",
       "\\end{minted}"
      ],
      "text/markdown": [
       "```r\n",
       "function (path = \".\", pattern = NULL, all.files = FALSE, full.names = FALSE, \n",
       "    recursive = FALSE, ignore.case = FALSE, include.dirs = FALSE, \n",
       "    no.. = FALSE) \n",
       ".Internal(list.files(path, pattern, all.files, full.names, recursive, \n",
       "    ignore.case, include.dirs, no..))\n",
       "```"
      ],
      "text/plain": [
       "function (path = \".\", pattern = NULL, all.files = FALSE, full.names = FALSE, \n",
       "    recursive = FALSE, ignore.case = FALSE, include.dirs = FALSE, \n",
       "    no.. = FALSE) \n",
       ".Internal(list.files(path, pattern, all.files, full.names, recursive, \n",
       "    ignore.case, include.dirs, no..))\n",
       "<bytecode: 0x000000001fe68700>\n",
       "<environment: namespace:base>"
      ]
     },
     "metadata": {},
     "output_type": "display_data"
    }
   ],
   "source": [
    "dir"
   ]
  },
  {
   "cell_type": "code",
   "execution_count": 14,
   "id": "585e41ef-4a4f-41a6-b9bf-4637c66b2624",
   "metadata": {},
   "outputs": [],
   "source": [
    "fakenews <- read.csv('C:/Users/nolan/OneDrive/Documents/GitHub/CurriculumPlayground/datasets/observed-trackers.csv')"
   ]
  },
  {
   "cell_type": "code",
   "execution_count": 15,
   "id": "b8554048-0d20-4523-a60a-90a13a1959fc",
   "metadata": {},
   "outputs": [
    {
     "data": {
      "text/html": [
       "<table class=\"dataframe\">\n",
       "<caption>A data.frame: 6 × 4</caption>\n",
       "<thead>\n",
       "\t<tr><th></th><th scope=col>when</th><th scope=col>domain</th><th scope=col>url</th><th scope=col>tracker</th></tr>\n",
       "\t<tr><th></th><th scope=col>&lt;chr&gt;</th><th scope=col>&lt;chr&gt;</th><th scope=col>&lt;chr&gt;</th><th scope=col>&lt;chr&gt;</th></tr>\n",
       "</thead>\n",
       "<tbody>\n",
       "\t<tr><th scope=row>1</th><td>before-nov-2016</td><td>alertchild.com</td><td>http://wayback.archive.org/web/20161004072420id_/http://alertchild.com/</td><td>DoubleClick                   </td></tr>\n",
       "\t<tr><th scope=row>2</th><td>before-nov-2016</td><td>alertchild.com</td><td>http://wayback.archive.org/web/20161004072420id_/http://alertchild.com/</td><td>RevContent                    </td></tr>\n",
       "\t<tr><th scope=row>3</th><td>before-nov-2016</td><td>alertchild.com</td><td>http://wayback.archive.org/web/20161004072420id_/http://alertchild.com/</td><td>DoubleClick                   </td></tr>\n",
       "\t<tr><th scope=row>4</th><td>before-nov-2016</td><td>alertchild.com</td><td>http://wayback.archive.org/web/20161004072420id_/http://alertchild.com/</td><td>Google Syndication            </td></tr>\n",
       "\t<tr><th scope=row>5</th><td>before-nov-2016</td><td>alertchild.com</td><td>http://wayback.archive.org/web/20161004072420id_/http://alertchild.com/</td><td>DoubleClick Ad Exchange-Seller</td></tr>\n",
       "\t<tr><th scope=row>6</th><td>before-nov-2016</td><td>alertchild.com</td><td>http://wayback.archive.org/web/20161004072420id_/http://alertchild.com/</td><td>Kixer                         </td></tr>\n",
       "</tbody>\n",
       "</table>\n"
      ],
      "text/latex": [
       "A data.frame: 6 × 4\n",
       "\\begin{tabular}{r|llll}\n",
       "  & when & domain & url & tracker\\\\\n",
       "  & <chr> & <chr> & <chr> & <chr>\\\\\n",
       "\\hline\n",
       "\t1 & before-nov-2016 & alertchild.com & http://wayback.archive.org/web/20161004072420id\\_/http://alertchild.com/ & DoubleClick                   \\\\\n",
       "\t2 & before-nov-2016 & alertchild.com & http://wayback.archive.org/web/20161004072420id\\_/http://alertchild.com/ & RevContent                    \\\\\n",
       "\t3 & before-nov-2016 & alertchild.com & http://wayback.archive.org/web/20161004072420id\\_/http://alertchild.com/ & DoubleClick                   \\\\\n",
       "\t4 & before-nov-2016 & alertchild.com & http://wayback.archive.org/web/20161004072420id\\_/http://alertchild.com/ & Google Syndication            \\\\\n",
       "\t5 & before-nov-2016 & alertchild.com & http://wayback.archive.org/web/20161004072420id\\_/http://alertchild.com/ & DoubleClick Ad Exchange-Seller\\\\\n",
       "\t6 & before-nov-2016 & alertchild.com & http://wayback.archive.org/web/20161004072420id\\_/http://alertchild.com/ & Kixer                         \\\\\n",
       "\\end{tabular}\n"
      ],
      "text/markdown": [
       "\n",
       "A data.frame: 6 × 4\n",
       "\n",
       "| <!--/--> | when &lt;chr&gt; | domain &lt;chr&gt; | url &lt;chr&gt; | tracker &lt;chr&gt; |\n",
       "|---|---|---|---|---|\n",
       "| 1 | before-nov-2016 | alertchild.com | http://wayback.archive.org/web/20161004072420id_/http://alertchild.com/ | DoubleClick                    |\n",
       "| 2 | before-nov-2016 | alertchild.com | http://wayback.archive.org/web/20161004072420id_/http://alertchild.com/ | RevContent                     |\n",
       "| 3 | before-nov-2016 | alertchild.com | http://wayback.archive.org/web/20161004072420id_/http://alertchild.com/ | DoubleClick                    |\n",
       "| 4 | before-nov-2016 | alertchild.com | http://wayback.archive.org/web/20161004072420id_/http://alertchild.com/ | Google Syndication             |\n",
       "| 5 | before-nov-2016 | alertchild.com | http://wayback.archive.org/web/20161004072420id_/http://alertchild.com/ | DoubleClick Ad Exchange-Seller |\n",
       "| 6 | before-nov-2016 | alertchild.com | http://wayback.archive.org/web/20161004072420id_/http://alertchild.com/ | Kixer                          |\n",
       "\n"
      ],
      "text/plain": [
       "  when            domain        \n",
       "1 before-nov-2016 alertchild.com\n",
       "2 before-nov-2016 alertchild.com\n",
       "3 before-nov-2016 alertchild.com\n",
       "4 before-nov-2016 alertchild.com\n",
       "5 before-nov-2016 alertchild.com\n",
       "6 before-nov-2016 alertchild.com\n",
       "  url                                                                    \n",
       "1 http://wayback.archive.org/web/20161004072420id_/http://alertchild.com/\n",
       "2 http://wayback.archive.org/web/20161004072420id_/http://alertchild.com/\n",
       "3 http://wayback.archive.org/web/20161004072420id_/http://alertchild.com/\n",
       "4 http://wayback.archive.org/web/20161004072420id_/http://alertchild.com/\n",
       "5 http://wayback.archive.org/web/20161004072420id_/http://alertchild.com/\n",
       "6 http://wayback.archive.org/web/20161004072420id_/http://alertchild.com/\n",
       "  tracker                       \n",
       "1 DoubleClick                   \n",
       "2 RevContent                    \n",
       "3 DoubleClick                   \n",
       "4 Google Syndication            \n",
       "5 DoubleClick Ad Exchange-Seller\n",
       "6 Kixer                         "
      ]
     },
     "metadata": {},
     "output_type": "display_data"
    }
   ],
   "source": [
    "head(fakenews)"
   ]
  },
  {
   "cell_type": "markdown",
   "id": "d7ddb80b-67b2-4a4f-b142-03a5d51dd754",
   "metadata": {},
   "source": [
    "### Add a column labeled StoryType and fill it with Fake."
   ]
  },
  {
   "cell_type": "code",
   "execution_count": 1,
   "id": "1e4e5c21-64ff-4ec6-86d1-de8b45a6534e",
   "metadata": {},
   "outputs": [
    {
     "ename": "ERROR",
     "evalue": "Error in fakenews$StoryType = \"Fake\": object 'fakenews' not found\n",
     "output_type": "error",
     "traceback": [
      "Error in fakenews$StoryType = \"Fake\": object 'fakenews' not found\nTraceback:\n"
     ]
    }
   ],
   "source": [
    "fakenews$StoryType = \"Fake\""
   ]
  },
  {
   "cell_type": "code",
   "execution_count": 25,
   "id": "1bdb4d6c-6908-4cf8-80d7-1c7be3989805",
   "metadata": {},
   "outputs": [
    {
     "data": {
      "text/html": [
       "<table class=\"dataframe\">\n",
       "<caption>A data.frame: 6 × 5</caption>\n",
       "<thead>\n",
       "\t<tr><th></th><th scope=col>when</th><th scope=col>domain</th><th scope=col>url</th><th scope=col>tracker</th><th scope=col>StoryType</th></tr>\n",
       "\t<tr><th></th><th scope=col>&lt;chr&gt;</th><th scope=col>&lt;chr&gt;</th><th scope=col>&lt;chr&gt;</th><th scope=col>&lt;chr&gt;</th><th scope=col>&lt;chr&gt;</th></tr>\n",
       "</thead>\n",
       "<tbody>\n",
       "\t<tr><th scope=row>1</th><td>before-nov-2016</td><td>alertchild.com</td><td>http://wayback.archive.org/web/20161004072420id_/http://alertchild.com/</td><td>DoubleClick                   </td><td>Fake</td></tr>\n",
       "\t<tr><th scope=row>2</th><td>before-nov-2016</td><td>alertchild.com</td><td>http://wayback.archive.org/web/20161004072420id_/http://alertchild.com/</td><td>RevContent                    </td><td>Fake</td></tr>\n",
       "\t<tr><th scope=row>3</th><td>before-nov-2016</td><td>alertchild.com</td><td>http://wayback.archive.org/web/20161004072420id_/http://alertchild.com/</td><td>DoubleClick                   </td><td>Fake</td></tr>\n",
       "\t<tr><th scope=row>4</th><td>before-nov-2016</td><td>alertchild.com</td><td>http://wayback.archive.org/web/20161004072420id_/http://alertchild.com/</td><td>Google Syndication            </td><td>Fake</td></tr>\n",
       "\t<tr><th scope=row>5</th><td>before-nov-2016</td><td>alertchild.com</td><td>http://wayback.archive.org/web/20161004072420id_/http://alertchild.com/</td><td>DoubleClick Ad Exchange-Seller</td><td>Fake</td></tr>\n",
       "\t<tr><th scope=row>6</th><td>before-nov-2016</td><td>alertchild.com</td><td>http://wayback.archive.org/web/20161004072420id_/http://alertchild.com/</td><td>Kixer                         </td><td>Fake</td></tr>\n",
       "</tbody>\n",
       "</table>\n"
      ],
      "text/latex": [
       "A data.frame: 6 × 5\n",
       "\\begin{tabular}{r|lllll}\n",
       "  & when & domain & url & tracker & StoryType\\\\\n",
       "  & <chr> & <chr> & <chr> & <chr> & <chr>\\\\\n",
       "\\hline\n",
       "\t1 & before-nov-2016 & alertchild.com & http://wayback.archive.org/web/20161004072420id\\_/http://alertchild.com/ & DoubleClick                    & Fake\\\\\n",
       "\t2 & before-nov-2016 & alertchild.com & http://wayback.archive.org/web/20161004072420id\\_/http://alertchild.com/ & RevContent                     & Fake\\\\\n",
       "\t3 & before-nov-2016 & alertchild.com & http://wayback.archive.org/web/20161004072420id\\_/http://alertchild.com/ & DoubleClick                    & Fake\\\\\n",
       "\t4 & before-nov-2016 & alertchild.com & http://wayback.archive.org/web/20161004072420id\\_/http://alertchild.com/ & Google Syndication             & Fake\\\\\n",
       "\t5 & before-nov-2016 & alertchild.com & http://wayback.archive.org/web/20161004072420id\\_/http://alertchild.com/ & DoubleClick Ad Exchange-Seller & Fake\\\\\n",
       "\t6 & before-nov-2016 & alertchild.com & http://wayback.archive.org/web/20161004072420id\\_/http://alertchild.com/ & Kixer                          & Fake\\\\\n",
       "\\end{tabular}\n"
      ],
      "text/markdown": [
       "\n",
       "A data.frame: 6 × 5\n",
       "\n",
       "| <!--/--> | when &lt;chr&gt; | domain &lt;chr&gt; | url &lt;chr&gt; | tracker &lt;chr&gt; | StoryType &lt;chr&gt; |\n",
       "|---|---|---|---|---|---|\n",
       "| 1 | before-nov-2016 | alertchild.com | http://wayback.archive.org/web/20161004072420id_/http://alertchild.com/ | DoubleClick                    | Fake |\n",
       "| 2 | before-nov-2016 | alertchild.com | http://wayback.archive.org/web/20161004072420id_/http://alertchild.com/ | RevContent                     | Fake |\n",
       "| 3 | before-nov-2016 | alertchild.com | http://wayback.archive.org/web/20161004072420id_/http://alertchild.com/ | DoubleClick                    | Fake |\n",
       "| 4 | before-nov-2016 | alertchild.com | http://wayback.archive.org/web/20161004072420id_/http://alertchild.com/ | Google Syndication             | Fake |\n",
       "| 5 | before-nov-2016 | alertchild.com | http://wayback.archive.org/web/20161004072420id_/http://alertchild.com/ | DoubleClick Ad Exchange-Seller | Fake |\n",
       "| 6 | before-nov-2016 | alertchild.com | http://wayback.archive.org/web/20161004072420id_/http://alertchild.com/ | Kixer                          | Fake |\n",
       "\n"
      ],
      "text/plain": [
       "  when            domain        \n",
       "1 before-nov-2016 alertchild.com\n",
       "2 before-nov-2016 alertchild.com\n",
       "3 before-nov-2016 alertchild.com\n",
       "4 before-nov-2016 alertchild.com\n",
       "5 before-nov-2016 alertchild.com\n",
       "6 before-nov-2016 alertchild.com\n",
       "  url                                                                    \n",
       "1 http://wayback.archive.org/web/20161004072420id_/http://alertchild.com/\n",
       "2 http://wayback.archive.org/web/20161004072420id_/http://alertchild.com/\n",
       "3 http://wayback.archive.org/web/20161004072420id_/http://alertchild.com/\n",
       "4 http://wayback.archive.org/web/20161004072420id_/http://alertchild.com/\n",
       "5 http://wayback.archive.org/web/20161004072420id_/http://alertchild.com/\n",
       "6 http://wayback.archive.org/web/20161004072420id_/http://alertchild.com/\n",
       "  tracker                        StoryType\n",
       "1 DoubleClick                    Fake     \n",
       "2 RevContent                     Fake     \n",
       "3 DoubleClick                    Fake     \n",
       "4 Google Syndication             Fake     \n",
       "5 DoubleClick Ad Exchange-Seller Fake     \n",
       "6 Kixer                          Fake     "
      ]
     },
     "metadata": {},
     "output_type": "display_data"
    }
   ],
   "source": [
    "head(fakenews)"
   ]
  },
  {
   "cell_type": "markdown",
   "id": "64976b00-610d-492b-b9fe-e6441c618cf2",
   "metadata": {},
   "source": [
    "### Remove the when column."
   ]
  },
  {
   "cell_type": "code",
   "execution_count": 26,
   "id": "6ec7054e-e171-44c0-a944-cceb1ca18797",
   "metadata": {},
   "outputs": [],
   "source": [
    "fakenews1 <- fakenews[, 2:4]"
   ]
  },
  {
   "cell_type": "code",
   "execution_count": 27,
   "id": "46fb3768-060f-44b1-81d9-81ab5d7a8d74",
   "metadata": {},
   "outputs": [
    {
     "data": {
      "text/html": [
       "<table class=\"dataframe\">\n",
       "<caption>A data.frame: 6 × 3</caption>\n",
       "<thead>\n",
       "\t<tr><th></th><th scope=col>domain</th><th scope=col>url</th><th scope=col>tracker</th></tr>\n",
       "\t<tr><th></th><th scope=col>&lt;chr&gt;</th><th scope=col>&lt;chr&gt;</th><th scope=col>&lt;chr&gt;</th></tr>\n",
       "</thead>\n",
       "<tbody>\n",
       "\t<tr><th scope=row>1</th><td>alertchild.com</td><td>http://wayback.archive.org/web/20161004072420id_/http://alertchild.com/</td><td>DoubleClick                   </td></tr>\n",
       "\t<tr><th scope=row>2</th><td>alertchild.com</td><td>http://wayback.archive.org/web/20161004072420id_/http://alertchild.com/</td><td>RevContent                    </td></tr>\n",
       "\t<tr><th scope=row>3</th><td>alertchild.com</td><td>http://wayback.archive.org/web/20161004072420id_/http://alertchild.com/</td><td>DoubleClick                   </td></tr>\n",
       "\t<tr><th scope=row>4</th><td>alertchild.com</td><td>http://wayback.archive.org/web/20161004072420id_/http://alertchild.com/</td><td>Google Syndication            </td></tr>\n",
       "\t<tr><th scope=row>5</th><td>alertchild.com</td><td>http://wayback.archive.org/web/20161004072420id_/http://alertchild.com/</td><td>DoubleClick Ad Exchange-Seller</td></tr>\n",
       "\t<tr><th scope=row>6</th><td>alertchild.com</td><td>http://wayback.archive.org/web/20161004072420id_/http://alertchild.com/</td><td>Kixer                         </td></tr>\n",
       "</tbody>\n",
       "</table>\n"
      ],
      "text/latex": [
       "A data.frame: 6 × 3\n",
       "\\begin{tabular}{r|lll}\n",
       "  & domain & url & tracker\\\\\n",
       "  & <chr> & <chr> & <chr>\\\\\n",
       "\\hline\n",
       "\t1 & alertchild.com & http://wayback.archive.org/web/20161004072420id\\_/http://alertchild.com/ & DoubleClick                   \\\\\n",
       "\t2 & alertchild.com & http://wayback.archive.org/web/20161004072420id\\_/http://alertchild.com/ & RevContent                    \\\\\n",
       "\t3 & alertchild.com & http://wayback.archive.org/web/20161004072420id\\_/http://alertchild.com/ & DoubleClick                   \\\\\n",
       "\t4 & alertchild.com & http://wayback.archive.org/web/20161004072420id\\_/http://alertchild.com/ & Google Syndication            \\\\\n",
       "\t5 & alertchild.com & http://wayback.archive.org/web/20161004072420id\\_/http://alertchild.com/ & DoubleClick Ad Exchange-Seller\\\\\n",
       "\t6 & alertchild.com & http://wayback.archive.org/web/20161004072420id\\_/http://alertchild.com/ & Kixer                         \\\\\n",
       "\\end{tabular}\n"
      ],
      "text/markdown": [
       "\n",
       "A data.frame: 6 × 3\n",
       "\n",
       "| <!--/--> | domain &lt;chr&gt; | url &lt;chr&gt; | tracker &lt;chr&gt; |\n",
       "|---|---|---|---|\n",
       "| 1 | alertchild.com | http://wayback.archive.org/web/20161004072420id_/http://alertchild.com/ | DoubleClick                    |\n",
       "| 2 | alertchild.com | http://wayback.archive.org/web/20161004072420id_/http://alertchild.com/ | RevContent                     |\n",
       "| 3 | alertchild.com | http://wayback.archive.org/web/20161004072420id_/http://alertchild.com/ | DoubleClick                    |\n",
       "| 4 | alertchild.com | http://wayback.archive.org/web/20161004072420id_/http://alertchild.com/ | Google Syndication             |\n",
       "| 5 | alertchild.com | http://wayback.archive.org/web/20161004072420id_/http://alertchild.com/ | DoubleClick Ad Exchange-Seller |\n",
       "| 6 | alertchild.com | http://wayback.archive.org/web/20161004072420id_/http://alertchild.com/ | Kixer                          |\n",
       "\n"
      ],
      "text/plain": [
       "  domain        \n",
       "1 alertchild.com\n",
       "2 alertchild.com\n",
       "3 alertchild.com\n",
       "4 alertchild.com\n",
       "5 alertchild.com\n",
       "6 alertchild.com\n",
       "  url                                                                    \n",
       "1 http://wayback.archive.org/web/20161004072420id_/http://alertchild.com/\n",
       "2 http://wayback.archive.org/web/20161004072420id_/http://alertchild.com/\n",
       "3 http://wayback.archive.org/web/20161004072420id_/http://alertchild.com/\n",
       "4 http://wayback.archive.org/web/20161004072420id_/http://alertchild.com/\n",
       "5 http://wayback.archive.org/web/20161004072420id_/http://alertchild.com/\n",
       "6 http://wayback.archive.org/web/20161004072420id_/http://alertchild.com/\n",
       "  tracker                       \n",
       "1 DoubleClick                   \n",
       "2 RevContent                    \n",
       "3 DoubleClick                   \n",
       "4 Google Syndication            \n",
       "5 DoubleClick Ad Exchange-Seller\n",
       "6 Kixer                         "
      ]
     },
     "metadata": {},
     "output_type": "display_data"
    }
   ],
   "source": [
    "head(fakenews1)"
   ]
  },
  {
   "cell_type": "markdown",
   "id": "3dfa39ca-813a-4c75-8715-a2aa6143e41c",
   "metadata": {},
   "source": [
    "### Separate the url column out so that you can see in one column the website and in the second column the domain."
   ]
  },
  {
   "cell_type": "code",
   "execution_count": null,
   "id": "5332478d-4cf4-4e93-90eb-997289ba292e",
   "metadata": {},
   "outputs": [],
   "source": [
    "### Joseph this could cause an issue - there is already a column named 'domain'"
   ]
  },
  {
   "cell_type": "code",
   "execution_count": 36,
   "id": "af9101f2-6ca3-4194-b279-e00c7406fa8e",
   "metadata": {},
   "outputs": [
    {
     "name": "stderr",
     "output_type": "stream",
     "text": [
      "Warning message:\n",
      "\"Expected 2 pieces. Missing pieces filled with `NA` in 1845 rows [988, 989, 990, 991, 992, 993, 994, 995, 996, 997, 998, 999, 1000, 1001, 1002, 1003, 1004, 1005, 1006, 1007, ...].\"\n"
     ]
    }
   ],
   "source": [
    "fakenews2 <- separate(fakenews1, url, c(\"Website\", \"Domain\"), sep = \"_\")"
   ]
  },
  {
   "cell_type": "code",
   "execution_count": 37,
   "id": "5332c665-8a86-42f2-8b6d-27da2528c403",
   "metadata": {},
   "outputs": [
    {
     "data": {
      "text/html": [
       "<table class=\"dataframe\">\n",
       "<caption>A data.frame: 6 × 4</caption>\n",
       "<thead>\n",
       "\t<tr><th></th><th scope=col>domain</th><th scope=col>Website</th><th scope=col>Domain</th><th scope=col>tracker</th></tr>\n",
       "\t<tr><th></th><th scope=col>&lt;chr&gt;</th><th scope=col>&lt;chr&gt;</th><th scope=col>&lt;chr&gt;</th><th scope=col>&lt;chr&gt;</th></tr>\n",
       "</thead>\n",
       "<tbody>\n",
       "\t<tr><th scope=row>1</th><td>alertchild.com</td><td>http://wayback.archive.org/web/20161004072420id</td><td>/http://alertchild.com/</td><td>DoubleClick                   </td></tr>\n",
       "\t<tr><th scope=row>2</th><td>alertchild.com</td><td>http://wayback.archive.org/web/20161004072420id</td><td>/http://alertchild.com/</td><td>RevContent                    </td></tr>\n",
       "\t<tr><th scope=row>3</th><td>alertchild.com</td><td>http://wayback.archive.org/web/20161004072420id</td><td>/http://alertchild.com/</td><td>DoubleClick                   </td></tr>\n",
       "\t<tr><th scope=row>4</th><td>alertchild.com</td><td>http://wayback.archive.org/web/20161004072420id</td><td>/http://alertchild.com/</td><td>Google Syndication            </td></tr>\n",
       "\t<tr><th scope=row>5</th><td>alertchild.com</td><td>http://wayback.archive.org/web/20161004072420id</td><td>/http://alertchild.com/</td><td>DoubleClick Ad Exchange-Seller</td></tr>\n",
       "\t<tr><th scope=row>6</th><td>alertchild.com</td><td>http://wayback.archive.org/web/20161004072420id</td><td>/http://alertchild.com/</td><td>Kixer                         </td></tr>\n",
       "</tbody>\n",
       "</table>\n"
      ],
      "text/latex": [
       "A data.frame: 6 × 4\n",
       "\\begin{tabular}{r|llll}\n",
       "  & domain & Website & Domain & tracker\\\\\n",
       "  & <chr> & <chr> & <chr> & <chr>\\\\\n",
       "\\hline\n",
       "\t1 & alertchild.com & http://wayback.archive.org/web/20161004072420id & /http://alertchild.com/ & DoubleClick                   \\\\\n",
       "\t2 & alertchild.com & http://wayback.archive.org/web/20161004072420id & /http://alertchild.com/ & RevContent                    \\\\\n",
       "\t3 & alertchild.com & http://wayback.archive.org/web/20161004072420id & /http://alertchild.com/ & DoubleClick                   \\\\\n",
       "\t4 & alertchild.com & http://wayback.archive.org/web/20161004072420id & /http://alertchild.com/ & Google Syndication            \\\\\n",
       "\t5 & alertchild.com & http://wayback.archive.org/web/20161004072420id & /http://alertchild.com/ & DoubleClick Ad Exchange-Seller\\\\\n",
       "\t6 & alertchild.com & http://wayback.archive.org/web/20161004072420id & /http://alertchild.com/ & Kixer                         \\\\\n",
       "\\end{tabular}\n"
      ],
      "text/markdown": [
       "\n",
       "A data.frame: 6 × 4\n",
       "\n",
       "| <!--/--> | domain &lt;chr&gt; | Website &lt;chr&gt; | Domain &lt;chr&gt; | tracker &lt;chr&gt; |\n",
       "|---|---|---|---|---|\n",
       "| 1 | alertchild.com | http://wayback.archive.org/web/20161004072420id | /http://alertchild.com/ | DoubleClick                    |\n",
       "| 2 | alertchild.com | http://wayback.archive.org/web/20161004072420id | /http://alertchild.com/ | RevContent                     |\n",
       "| 3 | alertchild.com | http://wayback.archive.org/web/20161004072420id | /http://alertchild.com/ | DoubleClick                    |\n",
       "| 4 | alertchild.com | http://wayback.archive.org/web/20161004072420id | /http://alertchild.com/ | Google Syndication             |\n",
       "| 5 | alertchild.com | http://wayback.archive.org/web/20161004072420id | /http://alertchild.com/ | DoubleClick Ad Exchange-Seller |\n",
       "| 6 | alertchild.com | http://wayback.archive.org/web/20161004072420id | /http://alertchild.com/ | Kixer                          |\n",
       "\n"
      ],
      "text/plain": [
       "  domain         Website                                        \n",
       "1 alertchild.com http://wayback.archive.org/web/20161004072420id\n",
       "2 alertchild.com http://wayback.archive.org/web/20161004072420id\n",
       "3 alertchild.com http://wayback.archive.org/web/20161004072420id\n",
       "4 alertchild.com http://wayback.archive.org/web/20161004072420id\n",
       "5 alertchild.com http://wayback.archive.org/web/20161004072420id\n",
       "6 alertchild.com http://wayback.archive.org/web/20161004072420id\n",
       "  Domain                  tracker                       \n",
       "1 /http://alertchild.com/ DoubleClick                   \n",
       "2 /http://alertchild.com/ RevContent                    \n",
       "3 /http://alertchild.com/ DoubleClick                   \n",
       "4 /http://alertchild.com/ Google Syndication            \n",
       "5 /http://alertchild.com/ DoubleClick Ad Exchange-Seller\n",
       "6 /http://alertchild.com/ Kixer                         "
      ]
     },
     "metadata": {},
     "output_type": "display_data"
    }
   ],
   "source": [
    "head(fakenews2)"
   ]
  },
  {
   "cell_type": "markdown",
   "id": "aa51cd03-0d70-4b0e-8422-17721ef1aada",
   "metadata": {},
   "source": [
    "### Put back together the domain column."
   ]
  },
  {
   "cell_type": "code",
   "execution_count": 38,
   "id": "c5d74e5f-f61d-4982-a7da-879568b7ca35",
   "metadata": {},
   "outputs": [],
   "source": [
    "fakenews3 <- unite(fakenews2, Site, Website, Domain, sep = '_')"
   ]
  },
  {
   "cell_type": "code",
   "execution_count": 39,
   "id": "3240bb19-7a13-4ea3-a801-f23b387107e4",
   "metadata": {},
   "outputs": [
    {
     "data": {
      "text/html": [
       "<table class=\"dataframe\">\n",
       "<caption>A data.frame: 6 × 3</caption>\n",
       "<thead>\n",
       "\t<tr><th></th><th scope=col>domain</th><th scope=col>Site</th><th scope=col>tracker</th></tr>\n",
       "\t<tr><th></th><th scope=col>&lt;chr&gt;</th><th scope=col>&lt;chr&gt;</th><th scope=col>&lt;chr&gt;</th></tr>\n",
       "</thead>\n",
       "<tbody>\n",
       "\t<tr><th scope=row>1</th><td>alertchild.com</td><td>http://wayback.archive.org/web/20161004072420id_/http://alertchild.com/</td><td>DoubleClick                   </td></tr>\n",
       "\t<tr><th scope=row>2</th><td>alertchild.com</td><td>http://wayback.archive.org/web/20161004072420id_/http://alertchild.com/</td><td>RevContent                    </td></tr>\n",
       "\t<tr><th scope=row>3</th><td>alertchild.com</td><td>http://wayback.archive.org/web/20161004072420id_/http://alertchild.com/</td><td>DoubleClick                   </td></tr>\n",
       "\t<tr><th scope=row>4</th><td>alertchild.com</td><td>http://wayback.archive.org/web/20161004072420id_/http://alertchild.com/</td><td>Google Syndication            </td></tr>\n",
       "\t<tr><th scope=row>5</th><td>alertchild.com</td><td>http://wayback.archive.org/web/20161004072420id_/http://alertchild.com/</td><td>DoubleClick Ad Exchange-Seller</td></tr>\n",
       "\t<tr><th scope=row>6</th><td>alertchild.com</td><td>http://wayback.archive.org/web/20161004072420id_/http://alertchild.com/</td><td>Kixer                         </td></tr>\n",
       "</tbody>\n",
       "</table>\n"
      ],
      "text/latex": [
       "A data.frame: 6 × 3\n",
       "\\begin{tabular}{r|lll}\n",
       "  & domain & Site & tracker\\\\\n",
       "  & <chr> & <chr> & <chr>\\\\\n",
       "\\hline\n",
       "\t1 & alertchild.com & http://wayback.archive.org/web/20161004072420id\\_/http://alertchild.com/ & DoubleClick                   \\\\\n",
       "\t2 & alertchild.com & http://wayback.archive.org/web/20161004072420id\\_/http://alertchild.com/ & RevContent                    \\\\\n",
       "\t3 & alertchild.com & http://wayback.archive.org/web/20161004072420id\\_/http://alertchild.com/ & DoubleClick                   \\\\\n",
       "\t4 & alertchild.com & http://wayback.archive.org/web/20161004072420id\\_/http://alertchild.com/ & Google Syndication            \\\\\n",
       "\t5 & alertchild.com & http://wayback.archive.org/web/20161004072420id\\_/http://alertchild.com/ & DoubleClick Ad Exchange-Seller\\\\\n",
       "\t6 & alertchild.com & http://wayback.archive.org/web/20161004072420id\\_/http://alertchild.com/ & Kixer                         \\\\\n",
       "\\end{tabular}\n"
      ],
      "text/markdown": [
       "\n",
       "A data.frame: 6 × 3\n",
       "\n",
       "| <!--/--> | domain &lt;chr&gt; | Site &lt;chr&gt; | tracker &lt;chr&gt; |\n",
       "|---|---|---|---|\n",
       "| 1 | alertchild.com | http://wayback.archive.org/web/20161004072420id_/http://alertchild.com/ | DoubleClick                    |\n",
       "| 2 | alertchild.com | http://wayback.archive.org/web/20161004072420id_/http://alertchild.com/ | RevContent                     |\n",
       "| 3 | alertchild.com | http://wayback.archive.org/web/20161004072420id_/http://alertchild.com/ | DoubleClick                    |\n",
       "| 4 | alertchild.com | http://wayback.archive.org/web/20161004072420id_/http://alertchild.com/ | Google Syndication             |\n",
       "| 5 | alertchild.com | http://wayback.archive.org/web/20161004072420id_/http://alertchild.com/ | DoubleClick Ad Exchange-Seller |\n",
       "| 6 | alertchild.com | http://wayback.archive.org/web/20161004072420id_/http://alertchild.com/ | Kixer                          |\n",
       "\n"
      ],
      "text/plain": [
       "  domain        \n",
       "1 alertchild.com\n",
       "2 alertchild.com\n",
       "3 alertchild.com\n",
       "4 alertchild.com\n",
       "5 alertchild.com\n",
       "6 alertchild.com\n",
       "  Site                                                                   \n",
       "1 http://wayback.archive.org/web/20161004072420id_/http://alertchild.com/\n",
       "2 http://wayback.archive.org/web/20161004072420id_/http://alertchild.com/\n",
       "3 http://wayback.archive.org/web/20161004072420id_/http://alertchild.com/\n",
       "4 http://wayback.archive.org/web/20161004072420id_/http://alertchild.com/\n",
       "5 http://wayback.archive.org/web/20161004072420id_/http://alertchild.com/\n",
       "6 http://wayback.archive.org/web/20161004072420id_/http://alertchild.com/\n",
       "  tracker                       \n",
       "1 DoubleClick                   \n",
       "2 RevContent                    \n",
       "3 DoubleClick                   \n",
       "4 Google Syndication            \n",
       "5 DoubleClick Ad Exchange-Seller\n",
       "6 Kixer                         "
      ]
     },
     "metadata": {},
     "output_type": "display_data"
    }
   ],
   "source": [
    "head(fakenews3)"
   ]
  },
  {
   "cell_type": "markdown",
   "id": "9a545049-0d15-468b-9af1-dd234a9137cd",
   "metadata": {},
   "source": [
    "### Keep only the first ten rows of the data."
   ]
  },
  {
   "cell_type": "code",
   "execution_count": 40,
   "id": "192f34a4-65fd-42c1-93ad-3c88968c5e5d",
   "metadata": {},
   "outputs": [],
   "source": [
    "fakenews4 <- fakenews3[1:10,]"
   ]
  },
  {
   "cell_type": "code",
   "execution_count": 41,
   "id": "92cfdd33-da33-490a-a1c3-4c814cd7bed1",
   "metadata": {},
   "outputs": [
    {
     "data": {
      "text/html": [
       "<table class=\"dataframe\">\n",
       "<caption>A data.frame: 10 × 3</caption>\n",
       "<thead>\n",
       "\t<tr><th></th><th scope=col>domain</th><th scope=col>Site</th><th scope=col>tracker</th></tr>\n",
       "\t<tr><th></th><th scope=col>&lt;chr&gt;</th><th scope=col>&lt;chr&gt;</th><th scope=col>&lt;chr&gt;</th></tr>\n",
       "</thead>\n",
       "<tbody>\n",
       "\t<tr><th scope=row>1</th><td>alertchild.com </td><td>http://wayback.archive.org/web/20161004072420id_/http://alertchild.com/ </td><td>DoubleClick                   </td></tr>\n",
       "\t<tr><th scope=row>2</th><td>alertchild.com </td><td>http://wayback.archive.org/web/20161004072420id_/http://alertchild.com/ </td><td>RevContent                    </td></tr>\n",
       "\t<tr><th scope=row>3</th><td>alertchild.com </td><td>http://wayback.archive.org/web/20161004072420id_/http://alertchild.com/ </td><td>DoubleClick                   </td></tr>\n",
       "\t<tr><th scope=row>4</th><td>alertchild.com </td><td>http://wayback.archive.org/web/20161004072420id_/http://alertchild.com/ </td><td>Google Syndication            </td></tr>\n",
       "\t<tr><th scope=row>5</th><td>alertchild.com </td><td>http://wayback.archive.org/web/20161004072420id_/http://alertchild.com/ </td><td>DoubleClick Ad Exchange-Seller</td></tr>\n",
       "\t<tr><th scope=row>6</th><td>alertchild.com </td><td>http://wayback.archive.org/web/20161004072420id_/http://alertchild.com/ </td><td>Kixer                         </td></tr>\n",
       "\t<tr><th scope=row>7</th><td>alertchild.com </td><td>http://wayback.archive.org/web/20161004072420id_/http://alertchild.com/ </td><td>Google Adsense                </td></tr>\n",
       "\t<tr><th scope=row>8</th><td>areyousleep.com</td><td>http://wayback.archive.org/web/20161001155200id_/http://areyousleep.com/</td><td>DoubleClick                   </td></tr>\n",
       "\t<tr><th scope=row>9</th><td>areyousleep.com</td><td>http://wayback.archive.org/web/20161001155200id_/http://areyousleep.com/</td><td>DoubleClick                   </td></tr>\n",
       "\t<tr><th scope=row>10</th><td>areyousleep.com</td><td>http://wayback.archive.org/web/20161001155200id_/http://areyousleep.com/</td><td>Google Syndication            </td></tr>\n",
       "</tbody>\n",
       "</table>\n"
      ],
      "text/latex": [
       "A data.frame: 10 × 3\n",
       "\\begin{tabular}{r|lll}\n",
       "  & domain & Site & tracker\\\\\n",
       "  & <chr> & <chr> & <chr>\\\\\n",
       "\\hline\n",
       "\t1 & alertchild.com  & http://wayback.archive.org/web/20161004072420id\\_/http://alertchild.com/  & DoubleClick                   \\\\\n",
       "\t2 & alertchild.com  & http://wayback.archive.org/web/20161004072420id\\_/http://alertchild.com/  & RevContent                    \\\\\n",
       "\t3 & alertchild.com  & http://wayback.archive.org/web/20161004072420id\\_/http://alertchild.com/  & DoubleClick                   \\\\\n",
       "\t4 & alertchild.com  & http://wayback.archive.org/web/20161004072420id\\_/http://alertchild.com/  & Google Syndication            \\\\\n",
       "\t5 & alertchild.com  & http://wayback.archive.org/web/20161004072420id\\_/http://alertchild.com/  & DoubleClick Ad Exchange-Seller\\\\\n",
       "\t6 & alertchild.com  & http://wayback.archive.org/web/20161004072420id\\_/http://alertchild.com/  & Kixer                         \\\\\n",
       "\t7 & alertchild.com  & http://wayback.archive.org/web/20161004072420id\\_/http://alertchild.com/  & Google Adsense                \\\\\n",
       "\t8 & areyousleep.com & http://wayback.archive.org/web/20161001155200id\\_/http://areyousleep.com/ & DoubleClick                   \\\\\n",
       "\t9 & areyousleep.com & http://wayback.archive.org/web/20161001155200id\\_/http://areyousleep.com/ & DoubleClick                   \\\\\n",
       "\t10 & areyousleep.com & http://wayback.archive.org/web/20161001155200id\\_/http://areyousleep.com/ & Google Syndication            \\\\\n",
       "\\end{tabular}\n"
      ],
      "text/markdown": [
       "\n",
       "A data.frame: 10 × 3\n",
       "\n",
       "| <!--/--> | domain &lt;chr&gt; | Site &lt;chr&gt; | tracker &lt;chr&gt; |\n",
       "|---|---|---|---|\n",
       "| 1 | alertchild.com  | http://wayback.archive.org/web/20161004072420id_/http://alertchild.com/  | DoubleClick                    |\n",
       "| 2 | alertchild.com  | http://wayback.archive.org/web/20161004072420id_/http://alertchild.com/  | RevContent                     |\n",
       "| 3 | alertchild.com  | http://wayback.archive.org/web/20161004072420id_/http://alertchild.com/  | DoubleClick                    |\n",
       "| 4 | alertchild.com  | http://wayback.archive.org/web/20161004072420id_/http://alertchild.com/  | Google Syndication             |\n",
       "| 5 | alertchild.com  | http://wayback.archive.org/web/20161004072420id_/http://alertchild.com/  | DoubleClick Ad Exchange-Seller |\n",
       "| 6 | alertchild.com  | http://wayback.archive.org/web/20161004072420id_/http://alertchild.com/  | Kixer                          |\n",
       "| 7 | alertchild.com  | http://wayback.archive.org/web/20161004072420id_/http://alertchild.com/  | Google Adsense                 |\n",
       "| 8 | areyousleep.com | http://wayback.archive.org/web/20161001155200id_/http://areyousleep.com/ | DoubleClick                    |\n",
       "| 9 | areyousleep.com | http://wayback.archive.org/web/20161001155200id_/http://areyousleep.com/ | DoubleClick                    |\n",
       "| 10 | areyousleep.com | http://wayback.archive.org/web/20161001155200id_/http://areyousleep.com/ | Google Syndication             |\n",
       "\n"
      ],
      "text/plain": [
       "   domain         \n",
       "1  alertchild.com \n",
       "2  alertchild.com \n",
       "3  alertchild.com \n",
       "4  alertchild.com \n",
       "5  alertchild.com \n",
       "6  alertchild.com \n",
       "7  alertchild.com \n",
       "8  areyousleep.com\n",
       "9  areyousleep.com\n",
       "10 areyousleep.com\n",
       "   Site                                                                    \n",
       "1  http://wayback.archive.org/web/20161004072420id_/http://alertchild.com/ \n",
       "2  http://wayback.archive.org/web/20161004072420id_/http://alertchild.com/ \n",
       "3  http://wayback.archive.org/web/20161004072420id_/http://alertchild.com/ \n",
       "4  http://wayback.archive.org/web/20161004072420id_/http://alertchild.com/ \n",
       "5  http://wayback.archive.org/web/20161004072420id_/http://alertchild.com/ \n",
       "6  http://wayback.archive.org/web/20161004072420id_/http://alertchild.com/ \n",
       "7  http://wayback.archive.org/web/20161004072420id_/http://alertchild.com/ \n",
       "8  http://wayback.archive.org/web/20161001155200id_/http://areyousleep.com/\n",
       "9  http://wayback.archive.org/web/20161001155200id_/http://areyousleep.com/\n",
       "10 http://wayback.archive.org/web/20161001155200id_/http://areyousleep.com/\n",
       "   tracker                       \n",
       "1  DoubleClick                   \n",
       "2  RevContent                    \n",
       "3  DoubleClick                   \n",
       "4  Google Syndication            \n",
       "5  DoubleClick Ad Exchange-Seller\n",
       "6  Kixer                         \n",
       "7  Google Adsense                \n",
       "8  DoubleClick                   \n",
       "9  DoubleClick                   \n",
       "10 Google Syndication            "
      ]
     },
     "metadata": {},
     "output_type": "display_data"
    }
   ],
   "source": [
    "fakenews4"
   ]
  },
  {
   "cell_type": "code",
   "execution_count": null,
   "id": "448b5977-a5b5-4fcc-b1b4-6e2c8ab59dfb",
   "metadata": {},
   "outputs": [],
   "source": []
  }
 ],
 "metadata": {
  "kernelspec": {
   "display_name": "R",
   "language": "R",
   "name": "ir"
  },
  "language_info": {
   "codemirror_mode": "r",
   "file_extension": ".r",
   "mimetype": "text/x-r-source",
   "name": "R",
   "pygments_lexer": "r",
   "version": "4.1.0"
  }
 },
 "nbformat": 4,
 "nbformat_minor": 5
}
