{
 "cells": [
  {
   "cell_type": "code",
   "execution_count": 1,
   "id": "6a1d1e89-d390-4ae7-92b2-44110e3af4b5",
   "metadata": {},
   "outputs": [
    {
     "name": "stderr",
     "output_type": "stream",
     "text": [
      "Installing package into 'C:/Users/nolan/OneDrive/Documents/R/win-library/4.1'\n",
      "(as 'lib' is unspecified)\n",
      "\n"
     ]
    },
    {
     "name": "stdout",
     "output_type": "stream",
     "text": [
      "package 'readxl' successfully unpacked and MD5 sums checked\n"
     ]
    },
    {
     "name": "stderr",
     "output_type": "stream",
     "text": [
      "Warning message:\n",
      "\"cannot remove prior installation of package 'readxl'\"\n",
      "Warning message in file.copy(savedcopy, lib, recursive = TRUE):\n",
      "\"problem copying C:\\Users\\nolan\\OneDrive\\Documents\\R\\win-library\\4.1\\00LOCK\\readxl\\libs\\x64\\readxl.dll to C:\\Users\\nolan\\OneDrive\\Documents\\R\\win-library\\4.1\\readxl\\libs\\x64\\readxl.dll: Permission denied\"\n",
      "Warning message:\n",
      "\"restored 'readxl'\"\n"
     ]
    },
    {
     "name": "stdout",
     "output_type": "stream",
     "text": [
      "\n",
      "The downloaded binary packages are in\n",
      "\tC:\\Users\\nolan\\AppData\\Local\\Temp\\RtmpUt1VuY\\downloaded_packages\n"
     ]
    }
   ],
   "source": [
    "install.packages('readxl')"
   ]
  },
  {
   "cell_type": "code",
   "execution_count": 2,
   "id": "03824a2e-97c4-4336-9c10-29aa709a10be",
   "metadata": {},
   "outputs": [],
   "source": [
    "library(readxl)"
   ]
  },
  {
   "cell_type": "code",
   "execution_count": null,
   "id": "5fd41e52-f8d3-4ae4-ac27-379b6fd02478",
   "metadata": {},
   "outputs": [],
   "source": [
    "data = read_excel('../datasets/BorderCrossing.xlsx')"
   ]
  },
  {
   "cell_type": "code",
   "execution_count": null,
   "id": "2034c07c-b457-48dd-8378-b73656a45ac0",
   "metadata": {},
   "outputs": [],
   "source": []
  }
 ],
 "metadata": {
  "kernelspec": {
   "display_name": "R",
   "language": "R",
   "name": "ir"
  },
  "language_info": {
   "codemirror_mode": "r",
   "file_extension": ".r",
   "mimetype": "text/x-r-source",
   "name": "R",
   "pygments_lexer": "r",
   "version": "4.1.0"
  }
 },
 "nbformat": 4,
 "nbformat_minor": 5
}
