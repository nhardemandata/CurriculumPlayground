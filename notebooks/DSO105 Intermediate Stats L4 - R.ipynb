{
 "cells": [
  {
   "cell_type": "markdown",
   "id": "eaf7fe0c-7b59-4827-bc0f-95e739e7727b",
   "metadata": {},
   "source": [
    "# DSO105 Intermediate Stats L4 - R"
   ]
  },
  {
   "cell_type": "markdown",
   "id": "5cfe7fd0-4681-4906-b7ed-a3cb1b4fd364",
   "metadata": {},
   "source": [
    "## Basic ANOVAs"
   ]
  },
  {
   "cell_type": "code",
   "execution_count": 1,
   "id": "73fa2c5f-1f59-4da9-a45e-7bed5e8da5f9",
   "metadata": {},
   "outputs": [],
   "source": [
    "#### Page 1"
   ]
  },
  {
   "cell_type": "code",
   "execution_count": 2,
   "id": "bff010b2-2d59-456a-918f-b898671ac92c",
   "metadata": {},
   "outputs": [
    {
     "name": "stderr",
     "output_type": "stream",
     "text": [
      "Installing package into 'C:/Users/nolan/OneDrive/Documents/R/win-library/4.1'\n",
      "(as 'lib' is unspecified)\n",
      "\n"
     ]
    },
    {
     "name": "stdout",
     "output_type": "stream",
     "text": [
      "package 'rcompanion' successfully unpacked and MD5 sums checked\n",
      "\n",
      "The downloaded binary packages are in\n",
      "\tC:\\Users\\nolan\\AppData\\Local\\Temp\\Rtmp2BHKpw\\downloaded_packages\n"
     ]
    },
    {
     "name": "stderr",
     "output_type": "stream",
     "text": [
      "Installing package into 'C:/Users/nolan/OneDrive/Documents/R/win-library/4.1'\n",
      "(as 'lib' is unspecified)\n",
      "\n"
     ]
    },
    {
     "name": "stdout",
     "output_type": "stream",
     "text": [
      "package 'car' successfully unpacked and MD5 sums checked\n",
      "\n",
      "The downloaded binary packages are in\n",
      "\tC:\\Users\\nolan\\AppData\\Local\\Temp\\Rtmp2BHKpw\\downloaded_packages\n"
     ]
    },
    {
     "name": "stderr",
     "output_type": "stream",
     "text": [
      "-- \u001b[1mAttaching packages\u001b[22m ------------------------------------------------------------------------------- tidyverse 1.3.1 --\n",
      "\n",
      "\u001b[32mv\u001b[39m \u001b[34mggplot2\u001b[39m 3.3.3     \u001b[32mv\u001b[39m \u001b[34mpurrr  \u001b[39m 0.3.4\n",
      "\u001b[32mv\u001b[39m \u001b[34mtibble \u001b[39m 3.1.2     \u001b[32mv\u001b[39m \u001b[34mdplyr  \u001b[39m 1.0.6\n",
      "\u001b[32mv\u001b[39m \u001b[34mtidyr  \u001b[39m 1.1.3     \u001b[32mv\u001b[39m \u001b[34mstringr\u001b[39m 1.4.0\n",
      "\u001b[32mv\u001b[39m \u001b[34mreadr  \u001b[39m 1.4.0     \u001b[32mv\u001b[39m \u001b[34mforcats\u001b[39m 0.5.1\n",
      "\n",
      "-- \u001b[1mConflicts\u001b[22m ---------------------------------------------------------------------------------- tidyverse_conflicts() --\n",
      "\u001b[31mx\u001b[39m \u001b[34mdplyr\u001b[39m::\u001b[32mfilter()\u001b[39m masks \u001b[34mstats\u001b[39m::filter()\n",
      "\u001b[31mx\u001b[39m \u001b[34mdplyr\u001b[39m::\u001b[32mlag()\u001b[39m    masks \u001b[34mstats\u001b[39m::lag()\n",
      "\n",
      "Loading required package: carData\n",
      "\n",
      "\n",
      "Attaching package: 'car'\n",
      "\n",
      "\n",
      "The following object is masked from 'package:dplyr':\n",
      "\n",
      "    recode\n",
      "\n",
      "\n",
      "The following object is masked from 'package:purrr':\n",
      "\n",
      "    some\n",
      "\n",
      "\n"
     ]
    }
   ],
   "source": [
    "## load libraries\n",
    "\n",
    "install.packages('rcompanion')\n",
    "install.packages('car')\n",
    "\n",
    "library(tidyverse)\n",
    "library(IDPmisc)\n",
    "library(rcompanion)\n",
    "library(car)\n",
    "library(readxl)"
   ]
  },
  {
   "cell_type": "markdown",
   "id": "d181bb30-a8c8-4e0b-9067-8851c641e3fa",
   "metadata": {},
   "source": [
    "## Introduction\n",
    "\n",
    "Through this course, thus far you have only dealt with statistical tests with one x variable and one y variable. Now, you'll begin working with statistics that can handle more than one x! \n",
    "\n",
    "This branch of statistics is called multivariate statistics, since it deals with multiple variables. The first multivariate statistic you will encounter is the ANOVA, which stands for analysis of variance."
   ]
  },
  {
   "cell_type": "markdown",
   "id": "9d141c9c-644d-441f-a155-5c5a4f853e16",
   "metadata": {},
   "source": [
    "### What is an Anova?\n",
    "\n",
    "* ANalysis Of VAriance\n",
    "\n",
    "* Compare 2 or more means: -- IV = 1+categorical w/2+ levels. -- DV = 1 continuous\n",
    "\n",
    "* One-Way = 1 IV (most simple)"
   ]
  },
  {
   "cell_type": "markdown",
   "id": "8a7d3bf6-586c-4178-8ca2-e7fe121999cf",
   "metadata": {},
   "source": [
    "### Assumptions for ANOVAs\n",
    "\n",
    "* Normality (bell-curve)\n",
    "\n",
    "* Homogeneity of Variance - equal amount of change among the groups\n",
    "\n",
    "* Sample Size - 20 rows per IV\n",
    "\n",
    "* Independence - groups are unrelated"
   ]
  },
  {
   "cell_type": "markdown",
   "id": "00f33878-0fd0-4671-a9fe-a9be1481eb6d",
   "metadata": {},
   "source": [
    "#### To Test Homogeneity of Variance:\n",
    "\n",
    "* Bartlett's or Fligner's test -- bartlett.test(DV ~ IV, data=df), fligner.test(DV ~ IV, data=df)\n",
    "\n",
    "* you want a p value > .05 to pass the assumption\n",
    "\n",
    "* if you don't pass, use the Welch's One-Way Test\n",
    "\n"
   ]
  },
  {
   "cell_type": "markdown",
   "id": "e14211f9-727d-4d27-8dee-ea1767e62b10",
   "metadata": {},
   "source": [
    "### ANOVA\n",
    "\n",
    "* with homogeneity of variance -- modelName = aov(DV ~ IV)\n",
    "\n",
    "* w/o homogeneity of variance -- modelName = lm(DV ~ IV, data=df) -> Anova(modelName, Type='II', white.adjust = TRUE)"
   ]
  },
  {
   "cell_type": "markdown",
   "id": "18c5a575-bffc-4209-ab16-2684a1785ca2",
   "metadata": {},
   "source": [
    "#### What are Post Hocs\n",
    "\n",
    "* post hoc literally means \"after this\" in latin\n",
    "\n",
    "* What you do AFTER an analysis to make sense of it\n",
    "\n",
    "* pairwise.t.test(DV, IV, p.adjust='bonferroni')\n",
    "\n",
    "* then use dplyr aggregation to get means for each category\n",
    "\n"
   ]
  },
  {
   "cell_type": "code",
   "execution_count": 3,
   "id": "53613f49-5442-4143-8e65-3050dc0e3310",
   "metadata": {},
   "outputs": [],
   "source": [
    "## load data from video\n",
    "\n",
    "BorderCrossing = read.csv('../datasets/BorderCrossing.csv')"
   ]
  },
  {
   "cell_type": "code",
   "execution_count": 5,
   "id": "c4083e1e-b7f3-47b9-ae7c-da018dfda537",
   "metadata": {},
   "outputs": [
    {
     "data": {
      "text/html": [
       "<table class=\"dataframe\">\n",
       "<caption>A data.frame: 6 × 7</caption>\n",
       "<thead>\n",
       "\t<tr><th></th><th scope=col>Port.Name</th><th scope=col>State</th><th scope=col>Port.Code</th><th scope=col>Border</th><th scope=col>Date</th><th scope=col>Measure</th><th scope=col>Value</th></tr>\n",
       "\t<tr><th></th><th scope=col>&lt;chr&gt;</th><th scope=col>&lt;chr&gt;</th><th scope=col>&lt;int&gt;</th><th scope=col>&lt;chr&gt;</th><th scope=col>&lt;chr&gt;</th><th scope=col>&lt;chr&gt;</th><th scope=col>&lt;int&gt;</th></tr>\n",
       "</thead>\n",
       "<tbody>\n",
       "\t<tr><th scope=row>1</th><td>Alcan         </td><td>AK</td><td>3104</td><td>US-Canada Border</td><td>2/1/2020 0:00</td><td>Personal Vehicle Passengers</td><td>1414</td></tr>\n",
       "\t<tr><th scope=row>2</th><td>Alcan         </td><td>AK</td><td>3104</td><td>US-Canada Border</td><td>2/1/2020 0:00</td><td>Personal Vehicles          </td><td> 763</td></tr>\n",
       "\t<tr><th scope=row>3</th><td>Alcan         </td><td>AK</td><td>3104</td><td>US-Canada Border</td><td>2/1/2020 0:00</td><td>Truck Containers Empty     </td><td> 412</td></tr>\n",
       "\t<tr><th scope=row>4</th><td>Alcan         </td><td>AK</td><td>3104</td><td>US-Canada Border</td><td>2/1/2020 0:00</td><td>Truck Containers Full      </td><td> 122</td></tr>\n",
       "\t<tr><th scope=row>5</th><td>Alcan         </td><td>AK</td><td>3104</td><td>US-Canada Border</td><td>2/1/2020 0:00</td><td>Trucks                     </td><td> 545</td></tr>\n",
       "\t<tr><th scope=row>6</th><td>Alexandria Bay</td><td>NY</td><td> 708</td><td>US-Canada Border</td><td>2/1/2020 0:00</td><td>Bus Passengers             </td><td>1174</td></tr>\n",
       "</tbody>\n",
       "</table>\n"
      ],
      "text/latex": [
       "A data.frame: 6 × 7\n",
       "\\begin{tabular}{r|lllllll}\n",
       "  & Port.Name & State & Port.Code & Border & Date & Measure & Value\\\\\n",
       "  & <chr> & <chr> & <int> & <chr> & <chr> & <chr> & <int>\\\\\n",
       "\\hline\n",
       "\t1 & Alcan          & AK & 3104 & US-Canada Border & 2/1/2020 0:00 & Personal Vehicle Passengers & 1414\\\\\n",
       "\t2 & Alcan          & AK & 3104 & US-Canada Border & 2/1/2020 0:00 & Personal Vehicles           &  763\\\\\n",
       "\t3 & Alcan          & AK & 3104 & US-Canada Border & 2/1/2020 0:00 & Truck Containers Empty      &  412\\\\\n",
       "\t4 & Alcan          & AK & 3104 & US-Canada Border & 2/1/2020 0:00 & Truck Containers Full       &  122\\\\\n",
       "\t5 & Alcan          & AK & 3104 & US-Canada Border & 2/1/2020 0:00 & Trucks                      &  545\\\\\n",
       "\t6 & Alexandria Bay & NY &  708 & US-Canada Border & 2/1/2020 0:00 & Bus Passengers              & 1174\\\\\n",
       "\\end{tabular}\n"
      ],
      "text/markdown": [
       "\n",
       "A data.frame: 6 × 7\n",
       "\n",
       "| <!--/--> | Port.Name &lt;chr&gt; | State &lt;chr&gt; | Port.Code &lt;int&gt; | Border &lt;chr&gt; | Date &lt;chr&gt; | Measure &lt;chr&gt; | Value &lt;int&gt; |\n",
       "|---|---|---|---|---|---|---|---|\n",
       "| 1 | Alcan          | AK | 3104 | US-Canada Border | 2/1/2020 0:00 | Personal Vehicle Passengers | 1414 |\n",
       "| 2 | Alcan          | AK | 3104 | US-Canada Border | 2/1/2020 0:00 | Personal Vehicles           |  763 |\n",
       "| 3 | Alcan          | AK | 3104 | US-Canada Border | 2/1/2020 0:00 | Truck Containers Empty      |  412 |\n",
       "| 4 | Alcan          | AK | 3104 | US-Canada Border | 2/1/2020 0:00 | Truck Containers Full       |  122 |\n",
       "| 5 | Alcan          | AK | 3104 | US-Canada Border | 2/1/2020 0:00 | Trucks                      |  545 |\n",
       "| 6 | Alexandria Bay | NY |  708 | US-Canada Border | 2/1/2020 0:00 | Bus Passengers              | 1174 |\n",
       "\n"
      ],
      "text/plain": [
       "  Port.Name      State Port.Code Border           Date         \n",
       "1 Alcan          AK    3104      US-Canada Border 2/1/2020 0:00\n",
       "2 Alcan          AK    3104      US-Canada Border 2/1/2020 0:00\n",
       "3 Alcan          AK    3104      US-Canada Border 2/1/2020 0:00\n",
       "4 Alcan          AK    3104      US-Canada Border 2/1/2020 0:00\n",
       "5 Alcan          AK    3104      US-Canada Border 2/1/2020 0:00\n",
       "6 Alexandria Bay NY     708      US-Canada Border 2/1/2020 0:00\n",
       "  Measure                     Value\n",
       "1 Personal Vehicle Passengers 1414 \n",
       "2 Personal Vehicles            763 \n",
       "3 Truck Containers Empty       412 \n",
       "4 Truck Containers Full        122 \n",
       "5 Trucks                       545 \n",
       "6 Bus Passengers              1174 "
      ]
     },
     "metadata": {},
     "output_type": "display_data"
    }
   ],
   "source": [
    "head(BorderCrossing)"
   ]
  },
  {
   "cell_type": "code",
   "execution_count": 4,
   "id": "078e92bc-faa7-4d4d-bd29-5a089108ee05",
   "metadata": {},
   "outputs": [
    {
     "ename": "ERROR",
     "evalue": "Error in system.file(\"extdata\", path, package = \"readxl\", mustWork = TRUE): no file found\n",
     "output_type": "error",
     "traceback": [
      "Error in system.file(\"extdata\", path, package = \"readxl\", mustWork = TRUE): no file found\nTraceback:\n",
      "1. readxl_example(\"/BorderCrossing.xlsx\")",
      "2. system.file(\"extdata\", path, package = \"readxl\", mustWork = TRUE)",
      "3. stop(\"no file found\")"
     ]
    }
   ],
   "source": [
    "xlsx_example <- readxl_example(\"/BorderCrossing.xlsx\")"
   ]
  },
  {
   "cell_type": "code",
   "execution_count": 6,
   "id": "ca883511-22f2-4495-8b6b-b83e8e02d1b7",
   "metadata": {},
   "outputs": [],
   "source": [
    "example1 = 'C:/Users/nolan/OneDrive/Documents/GitHub/CurriculumPlayground/datasets/BorderCrossing.xlsx'"
   ]
  },
  {
   "cell_type": "code",
   "execution_count": 7,
   "id": "d8924e9a-3da8-4a3f-a15c-780fe6ac0226",
   "metadata": {},
   "outputs": [
    {
     "ename": "ERROR",
     "evalue": "Error in read_fun(path = enc2native(normalizePath(path)), sheet_i = sheet, : function 'Rcpp_precious_remove' not provided by package 'Rcpp'\n",
     "output_type": "error",
     "traceback": [
      "Error in read_fun(path = enc2native(normalizePath(path)), sheet_i = sheet, : function 'Rcpp_precious_remove' not provided by package 'Rcpp'\nTraceback:\n",
      "1. read_excel(example1)",
      "2. read_excel_(path = path, sheet = sheet, range = range, col_names = col_names, \n .     col_types = col_types, na = na, trim_ws = trim_ws, skip = skip, \n .     n_max = n_max, guess_max = guess_max, progress = progress, \n .     .name_repair = .name_repair, format = format)",
      "3. set_readxl_names(read_fun(path = enc2native(normalizePath(path)), \n .     sheet_i = sheet, limits = limits, shim = shim, col_names = col_names, \n .     col_types = col_types, na = na, trim_ws = trim_ws, guess_max = guess_max, \n .     progress = progress), .name_repair = .name_repair)",
      "4. tibble::as_tibble(l, .name_repair = .name_repair)",
      "5. read_fun(path = enc2native(normalizePath(path)), sheet_i = sheet, \n .     limits = limits, shim = shim, col_names = col_names, col_types = col_types, \n .     na = na, trim_ws = trim_ws, guess_max = guess_max, progress = progress)"
     ]
    }
   ],
   "source": [
    "exampleComplete = read_excel(example1)"
   ]
  },
  {
   "cell_type": "code",
   "execution_count": 8,
   "id": "c5da75e6-b62e-4709-97f0-b964a7bc5b76",
   "metadata": {},
   "outputs": [],
   "source": [
    "## had to convert it to csv to get it loaded"
   ]
  },
  {
   "cell_type": "markdown",
   "id": "962d82c1-9511-4239-88a6-557707771ac7",
   "metadata": {},
   "source": [
    "#### Test Assumptions"
   ]
  },
  {
   "cell_type": "code",
   "execution_count": 9,
   "id": "76d506eb-284c-4a2e-9587-e32544c8e3ae",
   "metadata": {},
   "outputs": [
    {
     "data": {
      "image/png": "[encoded data removed]",
      "text/plain": [
       "Plot with title \"\""
      ]
     },
     "metadata": {
      "image/png": {
       "height": 420,
       "width": 420
      }
     },
     "output_type": "display_data"
    }
   ],
   "source": [
    "plotNormalHistogram(BorderCrossing$Value)"
   ]
  },
  {
   "cell_type": "markdown",
   "id": "1963827b-7350-4bea-8122-369563872051",
   "metadata": {},
   "source": [
    "#### square root"
   ]
  },
  {
   "cell_type": "code",
   "execution_count": 14,
   "id": "dfa19118-b1d0-46dd-b120-2befe2ee3ea1",
   "metadata": {},
   "outputs": [],
   "source": [
    "BorderCrossing$ValueSQRT = BorderCrossing$Value ^ (1/2)"
   ]
  },
  {
   "cell_type": "code",
   "execution_count": 15,
   "id": "83081c76-ca5d-40e9-91f6-856b49c940c3",
   "metadata": {},
   "outputs": [
    {
     "data": {
      "image/png": "[encoded data removed]",
      "text/plain": [
       "Plot with title \"\""
      ]
     },
     "metadata": {
      "image/png": {
       "height": 420,
       "width": 420
      }
     },
     "output_type": "display_data"
    }
   ],
   "source": [
    "plotNormalHistogram(BorderCrossing$ValueSQRT)"
   ]
  },
  {
   "cell_type": "markdown",
   "id": "dc929011-3a90-456a-8290-3a6084cdae69",
   "metadata": {},
   "source": [
    "#### log"
   ]
  },
  {
   "cell_type": "code",
   "execution_count": 16,
   "id": "7ff4a188-16a8-4a9c-846e-ba83ef975f84",
   "metadata": {},
   "outputs": [],
   "source": [
    "BorderCrossing$ValueLOG = log(BorderCrossing$Value)"
   ]
  },
  {
   "cell_type": "code",
   "execution_count": 17,
   "id": "542d90af-d96b-4722-a672-5c4667c974a6",
   "metadata": {},
   "outputs": [
    {
     "ename": "ERROR",
     "evalue": "Error in seq.default(min(x), max(x), length = length): 'from' must be a finite number\n",
     "output_type": "error",
     "traceback": [
      "Error in seq.default(min(x), max(x), length = length): 'from' must be a finite number\nTraceback:\n",
      "1. plotNormalHistogram(BorderCrossing$ValueLOG)",
      "2. seq(min(x), max(x), length = length)",
      "3. seq.default(min(x), max(x), length = length)",
      "4. stop(\"'from' must be a finite number\")"
     ]
    }
   ],
   "source": [
    "plotNormalHistogram(BorderCrossing$ValueLOG)"
   ]
  },
  {
   "cell_type": "code",
   "execution_count": 18,
   "id": "b50e3c69-64f0-40fb-9d99-2ef7a1af1175",
   "metadata": {},
   "outputs": [],
   "source": [
    "## infinites are missing. drop them"
   ]
  },
  {
   "cell_type": "code",
   "execution_count": 19,
   "id": "5d1a120c-08cc-4747-92eb-1ddb0c7d2ed2",
   "metadata": {},
   "outputs": [],
   "source": [
    "BorderCrossing2 = NaRV.omit(BorderCrossing)"
   ]
  },
  {
   "cell_type": "code",
   "execution_count": 20,
   "id": "a4f18670-cf9a-4a24-9022-e2ff8eb8d52f",
   "metadata": {},
   "outputs": [
    {
     "data": {
      "image/png": "[encoded data removed]",
      "text/plain": [
       "Plot with title \"\""
      ]
     },
     "metadata": {
      "image/png": {
       "height": 420,
       "width": 420
      }
     },
     "output_type": "display_data"
    }
   ],
   "source": [
    "plotNormalHistogram(BorderCrossing2$ValueLOG)\n",
    "## looks normal"
   ]
  },
  {
   "cell_type": "markdown",
   "id": "58b1dc16-51cd-446b-9e0d-258167a9ea4c",
   "metadata": {},
   "source": [
    "#### Homogeneity of Variance\n",
    "\n",
    "either bartlett or fligner test"
   ]
  },
  {
   "cell_type": "code",
   "execution_count": 22,
   "id": "9bfee21c-c856-47e6-bc90-298fca0f98f3",
   "metadata": {},
   "outputs": [
    {
     "data": {
      "text/plain": [
       "\n",
       "\tBartlett test of homogeneity of variances\n",
       "\n",
       "data:  ValueLOG by Measure\n",
       "Bartlett's K-squared = 21600, df = 11, p-value < 2.2e-16\n"
      ]
     },
     "metadata": {},
     "output_type": "display_data"
    }
   ],
   "source": [
    "bartlett.test(ValueLOG ~ Measure, data = BorderCrossing2)"
   ]
  },
  {
   "cell_type": "code",
   "execution_count": 23,
   "id": "a4e470e4-6fcb-4061-b72b-70ae78a6fdf6",
   "metadata": {},
   "outputs": [],
   "source": [
    "## this p-value shows significance, which means we have violated the assumption of homogeneity of variance\n",
    "## we either have heterogeneity of variance, or unequal variance"
   ]
  },
  {
   "cell_type": "markdown",
   "id": "3f1530f8-bb3a-4be8-958a-50788143cbaa",
   "metadata": {},
   "source": [
    "### ANOVA without homogeneity of variance"
   ]
  },
  {
   "cell_type": "code",
   "execution_count": 26,
   "id": "12b1dabb-3425-4f36-94e3-ba06e82daf3c",
   "metadata": {},
   "outputs": [],
   "source": [
    "anova = lm(ValueLOG ~ Measure, data = BorderCrossing2)"
   ]
  },
  {
   "cell_type": "code",
   "execution_count": 29,
   "id": "692d6d5f-1641-454b-a27c-79c05b036e7b",
   "metadata": {},
   "outputs": [
    {
     "name": "stderr",
     "output_type": "stream",
     "text": [
      "Coefficient covariances computed by hccm()\n",
      "\n"
     ]
    },
    {
     "data": {
      "text/html": [
       "<table class=\"dataframe\">\n",
       "<caption>A anova: 2 × 3</caption>\n",
       "<thead>\n",
       "\t<tr><th></th><th scope=col>Df</th><th scope=col>F</th><th scope=col>Pr(&gt;F)</th></tr>\n",
       "\t<tr><th></th><th scope=col>&lt;dbl&gt;</th><th scope=col>&lt;dbl&gt;</th><th scope=col>&lt;dbl&gt;</th></tr>\n",
       "</thead>\n",
       "<tbody>\n",
       "\t<tr><th scope=row>Measure</th><td>    11</td><td>18104.53</td><td> 0</td></tr>\n",
       "\t<tr><th scope=row>Residuals</th><td>233107</td><td>      NA</td><td>NA</td></tr>\n",
       "</tbody>\n",
       "</table>\n"
      ],
      "text/latex": [
       "A anova: 2 × 3\n",
       "\\begin{tabular}{r|lll}\n",
       "  & Df & F & Pr(>F)\\\\\n",
       "  & <dbl> & <dbl> & <dbl>\\\\\n",
       "\\hline\n",
       "\tMeasure &     11 & 18104.53 &  0\\\\\n",
       "\tResiduals & 233107 &       NA & NA\\\\\n",
       "\\end{tabular}\n"
      ],
      "text/markdown": [
       "\n",
       "A anova: 2 × 3\n",
       "\n",
       "| <!--/--> | Df &lt;dbl&gt; | F &lt;dbl&gt; | Pr(&gt;F) &lt;dbl&gt; |\n",
       "|---|---|---|---|\n",
       "| Measure |     11 | 18104.53 |  0 |\n",
       "| Residuals | 233107 |       NA | NA |\n",
       "\n"
      ],
      "text/plain": [
       "          Df     F        Pr(>F)\n",
       "Measure       11 18104.53  0    \n",
       "Residuals 233107       NA NA    "
      ]
     },
     "metadata": {},
     "output_type": "display_data"
    }
   ],
   "source": [
    "Anova(anova, Type ='II', white.adjust = TRUE)"
   ]
  },
  {
   "cell_type": "code",
   "execution_count": 28,
   "id": "ffb755f6-e4c5-493b-ba66-61be0d903735",
   "metadata": {},
   "outputs": [],
   "source": [
    "## this is not showing the p-value like in the video/R Studio"
   ]
  },
  {
   "cell_type": "markdown",
   "id": "0dc66378-8355-456b-9af3-61cca7818743",
   "metadata": {},
   "source": [
    "#### Post Hocs"
   ]
  },
  {
   "cell_type": "code",
   "execution_count": 30,
   "id": "36fe84ce-f57d-46f1-b37f-841c239e796c",
   "metadata": {},
   "outputs": [
    {
     "data": {
      "text/plain": [
       "\n",
       "\tPairwise comparisons using t tests with non-pooled SD \n",
       "\n",
       "data:  BorderCrossing$Value and BorderCrossing$Measure \n",
       "\n",
       "                            Bus Passengers Buses   Pedestrians\n",
       "Buses                       < 2e-16        -       -          \n",
       "Pedestrians                 < 2e-16        < 2e-16 -          \n",
       "Personal Vehicle Passengers < 2e-16        < 2e-16 < 2e-16    \n",
       "Personal Vehicles           < 2e-16        < 2e-16 < 2e-16    \n",
       "Rail Containers Empty       < 2e-16        < 2e-16 < 2e-16    \n",
       "Rail Containers Full        < 2e-16        < 2e-16 < 2e-16    \n",
       "Train Passengers            < 2e-16        7.4e-11 < 2e-16    \n",
       "Trains                      < 2e-16        < 2e-16 < 2e-16    \n",
       "Truck Containers Empty      < 2e-16        < 2e-16 < 2e-16    \n",
       "Truck Containers Full       1.3e-13        < 2e-16 < 2e-16    \n",
       "Trucks                      < 2e-16        < 2e-16 < 2e-16    \n",
       "                            Personal Vehicle Passengers Personal Vehicles\n",
       "Buses                       -                           -                \n",
       "Pedestrians                 -                           -                \n",
       "Personal Vehicle Passengers -                           -                \n",
       "Personal Vehicles           < 2e-16                     -                \n",
       "Rail Containers Empty       < 2e-16                     < 2e-16          \n",
       "Rail Containers Full        < 2e-16                     < 2e-16          \n",
       "Train Passengers            < 2e-16                     < 2e-16          \n",
       "Trains                      < 2e-16                     < 2e-16          \n",
       "Truck Containers Empty      < 2e-16                     < 2e-16          \n",
       "Truck Containers Full       < 2e-16                     < 2e-16          \n",
       "Trucks                      < 2e-16                     < 2e-16          \n",
       "                            Rail Containers Empty Rail Containers Full\n",
       "Buses                       -                     -                   \n",
       "Pedestrians                 -                     -                   \n",
       "Personal Vehicle Passengers -                     -                   \n",
       "Personal Vehicles           -                     -                   \n",
       "Rail Containers Empty       -                     -                   \n",
       "Rail Containers Full        < 2e-16               -                   \n",
       "Train Passengers            < 2e-16               < 2e-16             \n",
       "Trains                      < 2e-16               < 2e-16             \n",
       "Truck Containers Empty      < 2e-16               < 2e-16             \n",
       "Truck Containers Full       < 2e-16               < 2e-16             \n",
       "Trucks                      < 2e-16               < 2e-16             \n",
       "                            Train Passengers Trains  Truck Containers Empty\n",
       "Buses                       -                -       -                     \n",
       "Pedestrians                 -                -       -                     \n",
       "Personal Vehicle Passengers -                -       -                     \n",
       "Personal Vehicles           -                -       -                     \n",
       "Rail Containers Empty       -                -       -                     \n",
       "Rail Containers Full        -                -       -                     \n",
       "Train Passengers            -                -       -                     \n",
       "Trains                      < 2e-16          -       -                     \n",
       "Truck Containers Empty      < 2e-16          < 2e-16 -                     \n",
       "Truck Containers Full       < 2e-16          < 2e-16 < 2e-16               \n",
       "Trucks                      < 2e-16          < 2e-16 < 2e-16               \n",
       "                            Truck Containers Full\n",
       "Buses                       -                    \n",
       "Pedestrians                 -                    \n",
       "Personal Vehicle Passengers -                    \n",
       "Personal Vehicles           -                    \n",
       "Rail Containers Empty       -                    \n",
       "Rail Containers Full        -                    \n",
       "Train Passengers            -                    \n",
       "Trains                      -                    \n",
       "Truck Containers Empty      -                    \n",
       "Truck Containers Full       -                    \n",
       "Trucks                      < 2e-16              \n",
       "\n",
       "P value adjustment method: bonferroni "
      ]
     },
     "metadata": {},
     "output_type": "display_data"
    }
   ],
   "source": [
    "pairwise.t.test(BorderCrossing$Value, BorderCrossing$Measure, p.adjust = 'bonferroni', pool.sd = FALSE)"
   ]
  },
  {
   "cell_type": "code",
   "execution_count": 34,
   "id": "edec0151-29ef-4d03-8d07-afcd54866372",
   "metadata": {},
   "outputs": [],
   "source": [
    "crossingMeans = BorderCrossing %>% group_by(Measure) %>% summarise(Mean = mean(Value)) %>% arrange(desc(Mean))"
   ]
  },
  {
   "cell_type": "code",
   "execution_count": 35,
   "id": "71a575cd-5f59-4c62-939f-61d2185c33f3",
   "metadata": {},
   "outputs": [
    {
     "data": {
      "text/html": [
       "<table class=\"dataframe\">\n",
       "<caption>A tibble: 12 × 2</caption>\n",
       "<thead>\n",
       "\t<tr><th scope=col>Measure</th><th scope=col>Mean</th></tr>\n",
       "\t<tr><th scope=col>&lt;chr&gt;</th><th scope=col>&lt;dbl&gt;</th></tr>\n",
       "</thead>\n",
       "<tbody>\n",
       "\t<tr><td>Personal Vehicle Passengers</td><td>179352.83408</td></tr>\n",
       "\t<tr><td>Personal Vehicles          </td><td> 84376.62418</td></tr>\n",
       "\t<tr><td>Pedestrians                </td><td> 37116.27784</td></tr>\n",
       "\t<tr><td>Trucks                     </td><td>  8563.49689</td></tr>\n",
       "\t<tr><td>Truck Containers Full      </td><td>  6041.53997</td></tr>\n",
       "\t<tr><td>Bus Passengers             </td><td>  4953.43874</td></tr>\n",
       "\t<tr><td>Truck Containers Empty     </td><td>  2176.42398</td></tr>\n",
       "\t<tr><td>Rail Containers Full       </td><td>  1447.40671</td></tr>\n",
       "\t<tr><td>Rail Containers Empty      </td><td>   799.08617</td></tr>\n",
       "\t<tr><td>Buses                      </td><td>   296.91009</td></tr>\n",
       "\t<tr><td>Train Passengers           </td><td>   231.79763</td></tr>\n",
       "\t<tr><td>Trains                     </td><td>    33.28827</td></tr>\n",
       "</tbody>\n",
       "</table>\n"
      ],
      "text/latex": [
       "A tibble: 12 × 2\n",
       "\\begin{tabular}{ll}\n",
       " Measure & Mean\\\\\n",
       " <chr> & <dbl>\\\\\n",
       "\\hline\n",
       "\t Personal Vehicle Passengers & 179352.83408\\\\\n",
       "\t Personal Vehicles           &  84376.62418\\\\\n",
       "\t Pedestrians                 &  37116.27784\\\\\n",
       "\t Trucks                      &   8563.49689\\\\\n",
       "\t Truck Containers Full       &   6041.53997\\\\\n",
       "\t Bus Passengers              &   4953.43874\\\\\n",
       "\t Truck Containers Empty      &   2176.42398\\\\\n",
       "\t Rail Containers Full        &   1447.40671\\\\\n",
       "\t Rail Containers Empty       &    799.08617\\\\\n",
       "\t Buses                       &    296.91009\\\\\n",
       "\t Train Passengers            &    231.79763\\\\\n",
       "\t Trains                      &     33.28827\\\\\n",
       "\\end{tabular}\n"
      ],
      "text/markdown": [
       "\n",
       "A tibble: 12 × 2\n",
       "\n",
       "| Measure &lt;chr&gt; | Mean &lt;dbl&gt; |\n",
       "|---|---|\n",
       "| Personal Vehicle Passengers | 179352.83408 |\n",
       "| Personal Vehicles           |  84376.62418 |\n",
       "| Pedestrians                 |  37116.27784 |\n",
       "| Trucks                      |   8563.49689 |\n",
       "| Truck Containers Full       |   6041.53997 |\n",
       "| Bus Passengers              |   4953.43874 |\n",
       "| Truck Containers Empty      |   2176.42398 |\n",
       "| Rail Containers Full        |   1447.40671 |\n",
       "| Rail Containers Empty       |    799.08617 |\n",
       "| Buses                       |    296.91009 |\n",
       "| Train Passengers            |    231.79763 |\n",
       "| Trains                      |     33.28827 |\n",
       "\n"
      ],
      "text/plain": [
       "   Measure                     Mean        \n",
       "1  Personal Vehicle Passengers 179352.83408\n",
       "2  Personal Vehicles            84376.62418\n",
       "3  Pedestrians                  37116.27784\n",
       "4  Trucks                        8563.49689\n",
       "5  Truck Containers Full         6041.53997\n",
       "6  Bus Passengers                4953.43874\n",
       "7  Truck Containers Empty        2176.42398\n",
       "8  Rail Containers Full          1447.40671\n",
       "9  Rail Containers Empty          799.08617\n",
       "10 Buses                          296.91009\n",
       "11 Train Passengers               231.79763\n",
       "12 Trains                          33.28827"
      ]
     },
     "metadata": {},
     "output_type": "display_data"
    }
   ],
   "source": [
    "View(crossingMeans)"
   ]
  },
  {
   "cell_type": "markdown",
   "id": "e18b2bac-5dae-41b0-b2b7-00ec1c5c4584",
   "metadata": {},
   "source": [
    "### End of video"
   ]
  },
  {
   "cell_type": "code",
   "execution_count": 36,
   "id": "944cc431-1810-4b53-8575-87db47b62413",
   "metadata": {},
   "outputs": [],
   "source": [
    "#### Page 2 (starts with video)"
   ]
  },
  {
   "cell_type": "markdown",
   "id": "45e7df71-e740-4e72-9b71-9c57a9c43fcd",
   "metadata": {},
   "source": [
    "Types of Anova: 1. Between Subjects Anova - categorical w/2+ lvls (IV), 1 continuous (DV) -- LEVELS OF THE INDEPENDENT VARIABLE ARE NOT RELATED\n",
    "\n",
    "#### like 3 tacos from differnt restaurants, and their respective heat rating"
   ]
  },
  {
   "cell_type": "markdown",
   "id": "9ed42a1b-e46a-4c3d-9ce1-e68da3eb66c1",
   "metadata": {},
   "source": [
    "2. Within Subjects Anova - categorical w/2+ related groups (IV), 1 continuous (DV)\n",
    "\n",
    "#### like testing stomach lining thickness across 3 weeks after eating the tacos"
   ]
  },
  {
   "cell_type": "markdown",
   "id": "7601d515-211e-4f5e-ab0b-e760df1f6e9a",
   "metadata": {},
   "source": [
    "## ANOVA Types by the Number of IVs"
   ]
  },
  {
   "cell_type": "markdown",
   "id": "9fa6209a-663d-4675-a039-fc36fa9d53f5",
   "metadata": {},
   "source": [
    "* One Way - only one IV\n",
    "\n",
    "* Factorial - more than one IV - named by number of IVs (2IVs = 2 Way ANOVA, 3IVs = 3 Way Anova, etc.)"
   ]
  },
  {
   "cell_type": "markdown",
   "id": "6f048d07-a47d-4623-8fe3-9d0cf512de32",
   "metadata": {},
   "source": [
    "## Two-Way ANOVA example\n",
    "\n",
    "IV1 is 1 of 3 Mexican restaurants. IV2 is the amount of chili pepper in each taco. DV is heat rating, continuous variable"
   ]
  },
  {
   "cell_type": "markdown",
   "id": "65418075-e866-4d78-a05d-42a26928cf99",
   "metadata": {},
   "source": [
    "### Mixed Measures ANOVA\n",
    "\n",
    "IV1 is testing tacos over 3 weeks after eating. IV2 is different amount of pepper. DV is continuous variable: thickness of stomach lining"
   ]
  },
  {
   "cell_type": "markdown",
   "id": "4d2e0c4c-c711-4f29-ae3c-9f2479e9279b",
   "metadata": {},
   "source": [
    "# What is an ANOVA?\n",
    "\n",
    "ANOVAs are wonderful! You will quickly fall in love with them! They are versatile, robust, and relatively simple to understand and conduct. \n",
    "\n",
    "ANOVAs are where your true intermediate statistics journey begins.\n",
    "\n",
    "You can think of an ANOVA as a t-test on steroids. Depending on the type of ANOVA, it can either replace your independent t test, your dependent t test, or it can even handle BOTH scenarios at once. \n",
    "\n",
    "Is your mind blown yet? Ready to convert to ANOVAs for life?"
   ]
  },
  {
   "cell_type": "markdown",
   "id": "5b294106-9270-42fc-a974-dfaea2769f9e",
   "metadata": {},
   "source": [
    "You will use an ANOVA to compare the means of the different levels of an independent variable(s). The independent variable will be a categorical variable. \n",
    "\n",
    "Unlike your independent t-test, which can only handle two levels of the independent variable, or two groups at a time, the ANOVA can handle more than two levels of your independent variable. \n",
    "\n",
    "The dependent variable will remain continuous, and there is still only one. \n",
    "\n",
    "So, if you have a theoretical example in which you want to determine whether color affects the fluffiness of a dog's coat, in a t-test, you could only compare two different coat colors at a time. Maybe black and white. \n",
    "\n",
    "But with an ANOVA, you can look at more than two levels of the independent variable, so you can compare more coat colors at a time - maybe black, white, apricot, and brown. \n",
    "\n",
    "In this scenario, the coat color is the independent variable, also sometimes called the grouping variable, because it is made up of groups, \n",
    "\n",
    "and the dependent variable is a continuous measure of coat fluffiness, for each dog you have in your sample."
   ]
  },
  {
   "cell_type": "markdown",
   "id": "8376d113-7fb4-4913-9be3-89cab60af073",
   "metadata": {},
   "source": [
    "Basically, the concept behind the ANOVA is that you are seeing if the variance in the dependent variable is in any way related to the grouping of the independent variable. \n",
    "\n",
    "Is there a pattern, in which certain groups have higher or lower means?"
   ]
  },
  {
   "cell_type": "markdown",
   "id": "7b093c5d-ecd5-43a5-8b26-d9bd10b36d91",
   "metadata": {},
   "source": [
    "# Types of ANOVAs\n",
    "\n",
    "There are two different types of ANOVAs: between subjects and within subjects ANOVAs."
   ]
  },
  {
   "cell_type": "markdown",
   "id": "04220bf9-d981-4675-9a56-4ecaf1357aba",
   "metadata": {},
   "source": [
    "<img src=\"../media/between-within-subjects.jpg\" align=\"left\" alt=\"COE image\" width = \"600\">"
   ]
  },
  {
   "cell_type": "markdown",
   "id": "e4702719-8b10-42b2-a7d3-3a013f5e8cbf",
   "metadata": {},
   "source": [
    "# Between Subjects ANOVAs\n",
    "\n",
    "Between Subjects ANOVAs fall in the same class as independent t-tests and independent Chi-Squares. All of these analyses look for differences between two separate, or independent, groups. \n",
    "\n",
    "There is no overlap between one group and the next. It is called a between subjects ANOVA because you are looking at mean difference between people, often called subjects in a research study."
   ]
  },
  {
   "cell_type": "markdown",
   "id": "ad5a348c-abef-478f-81a8-8284b54ecc98",
   "metadata": {},
   "source": [
    "Tip!: Sometimes in the biological fields, this is called a Type I ANOVA instead of a between subjects ANOVA."
   ]
  },
  {
   "cell_type": "markdown",
   "id": "48dd88c4-0cda-4658-844e-41d1fac5ad6e",
   "metadata": {},
   "source": [
    "# Within Subjects ANOVAs\n",
    "\n",
    "Within Subjects ANOVAs fall in the same class as dependent t-tests. They are used when you have paired data or related samples. \n",
    "\n",
    "Most often, this is done by looking at change over time. However, a dependent t-test can only handle a pre- and post-test design, whereas, since ANOVAs can have multiple levels, they can handle additional timepoints. \n",
    "\n",
    "Anything from \"beginning, middle, end\" designs to looking at time bins for time periods can be done with an ANOVA.\n",
    "\n",
    "Within subjects ANOVAs get their name because you are looking at the same person, or research subject, over and over again. \n",
    "\n",
    "Because within subjects ANOVAs are so often used to look at things over time, they are often called repeated measures ANOVAs as well."
   ]
  },
  {
   "cell_type": "markdown",
   "id": "8e1c8621-3b52-4097-9730-295b553b2363",
   "metadata": {},
   "source": [
    "Tip!: Sometimes in the biological fields, this is called a Type II ANOVA instead of a within subjects ANOVA."
   ]
  },
  {
   "cell_type": "markdown",
   "id": "295678eb-4cc8-4873-b89f-7084cb62df8c",
   "metadata": {},
   "source": [
    "# Number of Independent Variables\n",
    "\n",
    "With both between and within subjects ANOVAs, you can also add a clarifier on that deals with the number of independent variables. \n",
    "\n",
    "So there are also one-way and factorial ANOVAs, which can be either between or within subjects."
   ]
  },
  {
   "cell_type": "markdown",
   "id": "3d1c2208-e513-4a7d-bf19-0584e86543fb",
   "metadata": {},
   "source": [
    "# One-Way ANOVAs\n",
    "\n",
    "When an ANOVA has only one independent variable, regardless of the number of levels, than this is called a one-way ANOVA."
   ]
  },
  {
   "cell_type": "code",
   "execution_count": 39,
   "id": "8b5ebf6a-cef9-4bb9-a174-61b710cc631a",
   "metadata": {},
   "outputs": [],
   "source": [
    "## only 1 x"
   ]
  },
  {
   "cell_type": "markdown",
   "id": "94246d39-5e30-46cf-9883-e78f6ce7f812",
   "metadata": {},
   "source": [
    "# Factorial ANOVAs\n",
    "\n",
    "\n",
    "When there is more than one independent variable, than as a whole, it is a factorial ANOVA. \n",
    "\n",
    "However, ANOVAs are typically named by the number of independent variables they contain, so if you had two independent variables, it would be called a two-way ANOVA, \n",
    "\n",
    "and if you had three independent variables, it would be called a three-way ANOVA, etc. \n",
    "\n",
    "Although there is no limit to the number of independent variables you can have in an ANOVA, as long as you have enough data, \n",
    "\n",
    "practically going above a three or four way ANOVA becomes very difficult to interpret, so it is not recommended."
   ]
  },
  {
   "cell_type": "code",
   "execution_count": 40,
   "id": "cf1a4a40-dba9-45d6-8ad6-fc721165d23e",
   "metadata": {},
   "outputs": [],
   "source": [
    "## more than 1 x"
   ]
  },
  {
   "cell_type": "markdown",
   "id": "8fd70766-a0db-4ab9-a5f7-949d23072105",
   "metadata": {},
   "source": [
    "# Mixed Measures ANOVAs\n",
    "\n",
    "In a factorial ANOVA, where there are multiple variables, you can mix and match your variables, so that there is one or more between subjects variables as well as a within subject variable. \n",
    "\n",
    "This is called a mixed measures or mixed design ANOVA."
   ]
  },
  {
   "cell_type": "code",
   "execution_count": 41,
   "id": "2210b891-f452-4b21-892f-0c48193ca17f",
   "metadata": {},
   "outputs": [],
   "source": [
    "## combines within subjects and between subjects"
   ]
  },
  {
   "cell_type": "code",
   "execution_count": 1,
   "id": "68dd0ef9-9963-463e-b617-8bc12629ea22",
   "metadata": {},
   "outputs": [],
   "source": [
    "#### Page 3 (Basic ANOVAs)"
   ]
  },
  {
   "cell_type": "code",
   "execution_count": 2,
   "id": "a4f94fe4-1979-4a4c-842b-a747145f732b",
   "metadata": {},
   "outputs": [],
   "source": [
    "## from video"
   ]
  },
  {
   "cell_type": "markdown",
   "id": "37553cb0-230e-4944-ab95-916f91a4b6e7",
   "metadata": {},
   "source": [
    "# only Within Subjects designs needs to worrya obut Sphericity"
   ]
  },
  {
   "cell_type": "markdown",
   "id": "5a8cdcea-a1fe-4170-af03-cf6a34a78613",
   "metadata": {},
   "source": [
    "Minimum smaple size for an ANOVA is at least 20 cases per independent variable"
   ]
  },
  {
   "cell_type": "markdown",
   "id": "f6f15731-7e06-42da-ba0b-a04f51566d64",
   "metadata": {},
   "source": [
    "# Assumptions for ANOVAs\n",
    "\n",
    "Just like any statistical test, there are assumptions for ANOVAs that you need to meet in order for them to be the most effective and the least biased."
   ]
  },
  {
   "cell_type": "markdown",
   "id": "59137d46-162d-4641-9703-9a8d52de30d3",
   "metadata": {},
   "source": [
    "### Normality\n",
    "\n",
    "This assumption should be very familiar to you! Just like most statistics, ANOVAs require your data to be normally distributed, or distributed as close to normal as possible. \n",
    "\n",
    "If your data are not normal, they will need to be transformed to approximate the normal distribution. Luckily, the ANOVA is relatively robust, so especially as your sample size increases, \n",
    "\n",
    "and if you keep your group sizes relatively equal, it can handle some deviations from normality."
   ]
  },
  {
   "cell_type": "markdown",
   "id": "85df1045-a4b2-4836-84c9-16c56b9405e5",
   "metadata": {},
   "source": [
    "### Homogeneity of Variance\n",
    "\n",
    "On the simplest level, homogeneity of variance means the variance, or the spread of data, is equal. The root homo means same, so think of homogeneity as \"same variance.\" In the context of an ANOVA assumption, \n",
    "\n",
    "it means that the variance of one variable should not affect the variance of another variable.\n",
    "\n",
    "It's probably easier to look at an illustration:"
   ]
  },
  {
   "cell_type": "code",
   "execution_count": null,
   "id": "8f5d1784-1b32-4fed-9b41-77c4c14ac32a",
   "metadata": {},
   "outputs": [],
   "source": []
  }
 ],
 "metadata": {
  "kernelspec": {
   "display_name": "R",
   "language": "R",
   "name": "ir"
  },
  "language_info": {
   "codemirror_mode": "r",
   "file_extension": ".r",
   "mimetype": "text/x-r-source",
   "name": "R",
   "pygments_lexer": "r",
   "version": "4.1.0"
  }
 },
 "nbformat": 4,
 "nbformat_minor": 5
}
