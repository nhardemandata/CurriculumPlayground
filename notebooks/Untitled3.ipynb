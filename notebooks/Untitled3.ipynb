{
 "cells": [
  {
   "cell_type": "code",
   "execution_count": 1,
   "id": "8ad5b168-4e3a-4958-aae6-f48b7c4eab2d",
   "metadata": {},
   "outputs": [
    {
     "name": "stderr",
     "output_type": "stream",
     "text": [
      "Installing package into 'C:/Users/nolan/OneDrive/Documents/R/win-library/4.1'\n",
      "(as 'lib' is unspecified)\n",
      "\n"
     ]
    },
    {
     "name": "stdout",
     "output_type": "stream",
     "text": [
      "package 'openxlsx' successfully unpacked and MD5 sums checked\n",
      "\n",
      "The downloaded binary packages are in\n",
      "\tC:\\Users\\nolan\\AppData\\Local\\Temp\\RtmpcTWiRo\\downloaded_packages\n"
     ]
    }
   ],
   "source": [
    "install.packages('openxlsx')"
   ]
  },
  {
   "cell_type": "code",
   "execution_count": 2,
   "id": "d83ed824-1a08-44a2-929a-39a83feec4f1",
   "metadata": {},
   "outputs": [],
   "source": [
    "library(openxlsx)"
   ]
  },
  {
   "cell_type": "code",
   "execution_count": 3,
   "id": "f98766cc-bc86-477d-b871-5d113a041002",
   "metadata": {},
   "outputs": [
    {
     "ename": "ERROR",
     "evalue": "Error in getChildlessNode(xml = workbookRelsXML, tag = \"Relationship\"): function 'Rcpp_precious_remove' not provided by package 'Rcpp'\n",
     "output_type": "error",
     "traceback": [
      "Error in getChildlessNode(xml = workbookRelsXML, tag = \"Relationship\"): function 'Rcpp_precious_remove' not provided by package 'Rcpp'\nTraceback:\n",
      "1. read.xlsx(\"../datasets/BorderCrossing.xlsx\")",
      "2. read.xlsx.default(\"../datasets/BorderCrossing.xlsx\")",
      "3. getChildlessNode(xml = workbookRelsXML, tag = \"Relationship\")"
     ]
    }
   ],
   "source": [
    "lol = read.xlsx('../datasets/BorderCrossing.xlsx')"
   ]
  },
  {
   "cell_type": "code",
   "execution_count": null,
   "id": "7b0d5c7f-9708-4d2d-99cb-1e5f3f0f5997",
   "metadata": {},
   "outputs": [],
   "source": []
  }
 ],
 "metadata": {
  "kernelspec": {
   "display_name": "R",
   "language": "R",
   "name": "ir"
  },
  "language_info": {
   "codemirror_mode": "r",
   "file_extension": ".r",
   "mimetype": "text/x-r-source",
   "name": "R",
   "pygments_lexer": "r",
   "version": "4.1.0"
  }
 },
 "nbformat": 4,
 "nbformat_minor": 5
}
