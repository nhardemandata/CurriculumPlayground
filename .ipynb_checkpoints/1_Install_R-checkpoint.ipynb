{
 "cells": [
  {
   "cell_type": "markdown",
   "id": "65c04082-ee9b-4a41-8eff-55a3f9cf68bf",
   "metadata": {},
   "source": [
    "![R Logo](https://www.r-project.org/Rlogo.png)\n",
    "***\n",
    "[Home](https://www.r-project.org/) |\n",
    "[Downloads](https://cran.r-project.org/mirrors.html) |\n",
    "[About R](https://www.r-project.org/about.html) |\n",
    "[What’s New?](https://www.r-project.org/news.html) |\n",
    "[Developer Pages](https://developer.r-project.org/) |\n",
    "[R Blog](https://developer.r-project.org/Blog/public/)\n",
    "***"
   ]
  },
  {
   "cell_type": "markdown",
   "id": "fdf45f49-ef5d-413c-b6de-1b3b318b0827",
   "metadata": {},
   "source": [
    "[Howto: Install R Kernel into Jupyter For Mac and Windows](https://richpauloo.github.io/2018-05-16-Installing-the-R-kernel-in-Jupyter-Lab/)"
   ]
  },
  {
   "cell_type": "code",
   "execution_count": 1,
   "id": "1469ba41-abbd-4f70-86f3-7b46ae0c24ce",
   "metadata": {},
   "outputs": [
    {
     "name": "stdout",
     "output_type": "stream",
     "text": [
      "[1] \"Hello from R inside Jupyter!!!\"\n"
     ]
    }
   ],
   "source": [
    "print(\"Hello from R inside Jupyter!!!\")"
   ]
  },
  {
   "cell_type": "code",
   "execution_count": 1,
   "id": "27f8238b-77cd-4118-bdea-6024f1f76469",
   "metadata": {},
   "outputs": [
    {
     "data": {
      "text/plain": [
       "               _                           \n",
       "platform       x86_64-apple-darwin17.0     \n",
       "arch           x86_64                      \n",
       "os             darwin17.0                  \n",
       "system         x86_64, darwin17.0          \n",
       "status                                     \n",
       "major          4                           \n",
       "minor          1.0                         \n",
       "year           2021                        \n",
       "month          05                          \n",
       "day            18                          \n",
       "svn rev        80317                       \n",
       "language       R                           \n",
       "version.string R version 4.1.0 (2021-05-18)\n",
       "nickname       Camp Pontanezen             "
      ]
     },
     "metadata": {},
     "output_type": "display_data"
    }
   ],
   "source": [
    "version"
   ]
  },
  {
   "cell_type": "code",
   "execution_count": 2,
   "id": "3289032f-f999-45b0-abd4-7b32dc4dc974",
   "metadata": {},
   "outputs": [
    {
     "data": {
      "text/html": [
       "<dl>\n",
       "\t<dt>$platform</dt>\n",
       "\t\t<dd>'x86_64-apple-darwin17.0'</dd>\n",
       "\t<dt>$arch</dt>\n",
       "\t\t<dd>'x86_64'</dd>\n",
       "\t<dt>$os</dt>\n",
       "\t\t<dd>'darwin17.0'</dd>\n",
       "\t<dt>$system</dt>\n",
       "\t\t<dd>'x86_64, darwin17.0'</dd>\n",
       "\t<dt>$status</dt>\n",
       "\t\t<dd>''</dd>\n",
       "\t<dt>$major</dt>\n",
       "\t\t<dd>'4'</dd>\n",
       "\t<dt>$minor</dt>\n",
       "\t\t<dd>'1.0'</dd>\n",
       "\t<dt>$year</dt>\n",
       "\t\t<dd>'2021'</dd>\n",
       "\t<dt>$month</dt>\n",
       "\t\t<dd>'05'</dd>\n",
       "\t<dt>$day</dt>\n",
       "\t\t<dd>'18'</dd>\n",
       "\t<dt>$`svn rev`</dt>\n",
       "\t\t<dd>'80317'</dd>\n",
       "\t<dt>$language</dt>\n",
       "\t\t<dd>'R'</dd>\n",
       "\t<dt>$version.string</dt>\n",
       "\t\t<dd>'R version 4.1.0 (2021-05-18)'</dd>\n",
       "\t<dt>$nickname</dt>\n",
       "\t\t<dd>'Camp Pontanezen'</dd>\n",
       "</dl>\n"
      ],
      "text/latex": [
       "\\begin{description}\n",
       "\\item[\\$platform] 'x86\\_64-apple-darwin17.0'\n",
       "\\item[\\$arch] 'x86\\_64'\n",
       "\\item[\\$os] 'darwin17.0'\n",
       "\\item[\\$system] 'x86\\_64, darwin17.0'\n",
       "\\item[\\$status] ''\n",
       "\\item[\\$major] '4'\n",
       "\\item[\\$minor] '1.0'\n",
       "\\item[\\$year] '2021'\n",
       "\\item[\\$month] '05'\n",
       "\\item[\\$day] '18'\n",
       "\\item[\\$`svn rev`] '80317'\n",
       "\\item[\\$language] 'R'\n",
       "\\item[\\$version.string] 'R version 4.1.0 (2021-05-18)'\n",
       "\\item[\\$nickname] 'Camp Pontanezen'\n",
       "\\end{description}\n"
      ],
      "text/markdown": [
       "$platform\n",
       ":   'x86_64-apple-darwin17.0'\n",
       "$arch\n",
       ":   'x86_64'\n",
       "$os\n",
       ":   'darwin17.0'\n",
       "$system\n",
       ":   'x86_64, darwin17.0'\n",
       "$status\n",
       ":   ''\n",
       "$major\n",
       ":   '4'\n",
       "$minor\n",
       ":   '1.0'\n",
       "$year\n",
       ":   '2021'\n",
       "$month\n",
       ":   '05'\n",
       "$day\n",
       ":   '18'\n",
       "$`svn rev`\n",
       ":   '80317'\n",
       "$language\n",
       ":   'R'\n",
       "$version.string\n",
       ":   'R version 4.1.0 (2021-05-18)'\n",
       "$nickname\n",
       ":   'Camp Pontanezen'\n",
       "\n",
       "\n"
      ],
      "text/plain": [
       "$platform\n",
       "[1] \"x86_64-apple-darwin17.0\"\n",
       "\n",
       "$arch\n",
       "[1] \"x86_64\"\n",
       "\n",
       "$os\n",
       "[1] \"darwin17.0\"\n",
       "\n",
       "$system\n",
       "[1] \"x86_64, darwin17.0\"\n",
       "\n",
       "$status\n",
       "[1] \"\"\n",
       "\n",
       "$major\n",
       "[1] \"4\"\n",
       "\n",
       "$minor\n",
       "[1] \"1.0\"\n",
       "\n",
       "$year\n",
       "[1] \"2021\"\n",
       "\n",
       "$month\n",
       "[1] \"05\"\n",
       "\n",
       "$day\n",
       "[1] \"18\"\n",
       "\n",
       "$`svn rev`\n",
       "[1] \"80317\"\n",
       "\n",
       "$language\n",
       "[1] \"R\"\n",
       "\n",
       "$version.string\n",
       "[1] \"R version 4.1.0 (2021-05-18)\"\n",
       "\n",
       "$nickname\n",
       "[1] \"Camp Pontanezen\"\n"
      ]
     },
     "metadata": {},
     "output_type": "display_data"
    }
   ],
   "source": [
    "R.Version()"
   ]
  },
  {
   "cell_type": "markdown",
   "id": "aad27c0d-92dd-4448-b6c2-f58aa605af27",
   "metadata": {},
   "source": [
    "This helps to install from the terminal \n",
    "https://irkernel.github.io/installation/#binary-panel\n"
   ]
  },
  {
   "cell_type": "markdown",
   "id": "2a71981a-dee7-4599-8b20-e32f8ffda0e1",
   "metadata": {},
   "source": []
  }
 ],
 "metadata": {
  "kernelspec": {
   "display_name": "R",
   "language": "R",
   "name": "ir"
  },
  "language_info": {
   "codemirror_mode": "r",
   "file_extension": ".r",
   "mimetype": "text/x-r-source",
   "name": "R",
   "pygments_lexer": "r",
   "version": "4.1.0"
  }
 },
 "nbformat": 4,
 "nbformat_minor": 5
}
