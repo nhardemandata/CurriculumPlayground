{
 "cells": [
  {
   "cell_type": "code",
   "execution_count": 1,
   "id": "e7aa9a7b-e383-4250-aeff-6d6e9cb9e438",
   "metadata": {},
   "outputs": [],
   "source": [
    "## function"
   ]
  },
  {
   "cell_type": "code",
   "execution_count": 2,
   "id": "f743f59a-d35a-489d-b41e-d887e4203670",
   "metadata": {},
   "outputs": [],
   "source": [
    "# NameOfFunction(x, y)"
   ]
  },
  {
   "cell_type": "code",
   "execution_count": 7,
   "id": "ee3e7828-2a8c-4586-8a6d-b78950b3758e",
   "metadata": {},
   "outputs": [],
   "source": [
    "x = 3"
   ]
  },
  {
   "cell_type": "code",
   "execution_count": 9,
   "id": "2a50a357-5c33-4786-be6b-adcc5b8af166",
   "metadata": {},
   "outputs": [
    {
     "name": "stdout",
     "output_type": "stream",
     "text": [
      "[1] 3\n"
     ]
    }
   ],
   "source": [
    "print(x)"
   ]
  },
  {
   "cell_type": "code",
   "execution_count": 10,
   "id": "950e5c2c-0a4a-498a-9128-3a813a30818f",
   "metadata": {},
   "outputs": [
    {
     "ename": "ERROR",
     "evalue": "Error in parse(text = x, srcfile = src): <text>:2:3: unexpected symbol\n1: 3 = x + 1\n2: 3 x\n     ^\n",
     "output_type": "error",
     "traceback": [
      "Error in parse(text = x, srcfile = src): <text>:2:3: unexpected symbol\n1: 3 = x + 1\n2: 3 x\n     ^\nTraceback:\n"
     ]
    }
   ],
   "source": [
    "# 3 = x + 1\n",
    "# 3 x 1 are all arguments"
   ]
  },
  {
   "cell_type": "code",
   "execution_count": null,
   "id": "de0f0102-0f60-4dd6-837f-cf417628951d",
   "metadata": {},
   "outputs": [],
   "source": [
    "arguments are "
   ]
  }
 ],
 "metadata": {
  "kernelspec": {
   "display_name": "R",
   "language": "R",
   "name": "ir"
  },
  "language_info": {
   "codemirror_mode": "r",
   "file_extension": ".r",
   "mimetype": "text/x-r-source",
   "name": "R",
   "pygments_lexer": "r",
   "version": "4.1.0"
  }
 },
 "nbformat": 4,
 "nbformat_minor": 5
}
