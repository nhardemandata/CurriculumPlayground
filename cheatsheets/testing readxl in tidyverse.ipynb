{
 "cells": [
  {
   "cell_type": "code",
   "execution_count": 3,
   "id": "8cceba31-54a7-45fc-a204-501d8a9c0649",
   "metadata": {},
   "outputs": [
    {
     "name": "stderr",
     "output_type": "stream",
     "text": [
      "also installing the dependencies ‘colorspace’, ‘bit’, ‘rematch’, ‘farver’, ‘labeling’, ‘munsell’, ‘RColorBrewer’, ‘viridisLite’, ‘bit64’, ‘tinytex’, ‘backports’, ‘generics’, ‘assertthat’, ‘blob’, ‘DBI’, ‘tidyselect’, ‘data.table’, ‘gargle’, ‘cellranger’, ‘ids’, ‘gtable’, ‘isoband’, ‘scales’, ‘cpp11’, ‘vroom’, ‘tzdb’, ‘progress’, ‘rmarkdown’, ‘selectr’, ‘broom’, ‘dbplyr’, ‘dplyr’, ‘dtplyr’, ‘forcats’, ‘googledrive’, ‘googlesheets4’, ‘ggplot2’, ‘haven’, ‘hms’, ‘lubridate’, ‘modelr’, ‘readr’, ‘readxl’, ‘reprex’, ‘rvest’, ‘tidyr’\n",
      "\n",
      "\n"
     ]
    },
    {
     "name": "stdout",
     "output_type": "stream",
     "text": [
      "\n",
      "  There is a binary version available but the source version is later:\n",
      "      binary source needs_compilation\n",
      "readr  2.0.0  2.0.1              TRUE\n",
      "\n",
      "\n",
      "The downloaded binary packages are in\n",
      "\t/var/folders/mh/w6tg21bn1054b9f92x9w60cc0000gn/T//RtmpdTWftU/downloaded_packages\n"
     ]
    },
    {
     "name": "stderr",
     "output_type": "stream",
     "text": [
      "installing the source package ‘readr’\n",
      "\n",
      "\n"
     ]
    }
   ],
   "source": [
    "install.packages('tidyverse')"
   ]
  },
  {
   "cell_type": "code",
   "execution_count": 4,
   "id": "8d20ef5b-28d1-4977-a16d-fd01fdb533cf",
   "metadata": {},
   "outputs": [
    {
     "name": "stderr",
     "output_type": "stream",
     "text": [
      "── \u001b[1mAttaching packages\u001b[22m ─────────────────────────────────────── tidyverse 1.3.1 ──\n",
      "\n",
      "\u001b[32m✔\u001b[39m \u001b[34mggplot2\u001b[39m 3.3.5     \u001b[32m✔\u001b[39m \u001b[34mpurrr  \u001b[39m 0.3.4\n",
      "\u001b[32m✔\u001b[39m \u001b[34mtibble \u001b[39m 3.1.3     \u001b[32m✔\u001b[39m \u001b[34mdplyr  \u001b[39m 1.0.7\n",
      "\u001b[32m✔\u001b[39m \u001b[34mtidyr  \u001b[39m 1.1.3     \u001b[32m✔\u001b[39m \u001b[34mstringr\u001b[39m 1.4.0\n",
      "\u001b[32m✔\u001b[39m \u001b[34mreadr  \u001b[39m 2.0.1     \u001b[32m✔\u001b[39m \u001b[34mforcats\u001b[39m 0.5.1\n",
      "\n",
      "── \u001b[1mConflicts\u001b[22m ────────────────────────────────────────── tidyverse_conflicts() ──\n",
      "\u001b[31m✖\u001b[39m \u001b[34mdplyr\u001b[39m::\u001b[32mfilter()\u001b[39m masks \u001b[34mstats\u001b[39m::filter()\n",
      "\u001b[31m✖\u001b[39m \u001b[34mdplyr\u001b[39m::\u001b[32mlag()\u001b[39m    masks \u001b[34mstats\u001b[39m::lag()\n",
      "\n"
     ]
    }
   ],
   "source": [
    "library(tidyverse)"
   ]
  },
  {
   "cell_type": "code",
   "execution_count": 5,
   "id": "2b242195-9809-4702-a4f4-2ebc4807f5a0",
   "metadata": {},
   "outputs": [
    {
     "ename": "ERROR",
     "evalue": "Error in read_excel(\"/Users/nolanhardeman/Documents/GitHub/CurriculumPlayground/datasets/babies.xlsx\"): could not find function \"read_excel\"\n",
     "output_type": "error",
     "traceback": [
      "Error in read_excel(\"/Users/nolanhardeman/Documents/GitHub/CurriculumPlayground/datasets/babies.xlsx\"): could not find function \"read_excel\"\nTraceback:\n"
     ]
    }
   ],
   "source": [
    "babies = read_excel('/Users/nolanhardeman/Documents/GitHub/CurriculumPlayground/datasets/babies.xlsx')"
   ]
  },
  {
   "cell_type": "code",
   "execution_count": 6,
   "id": "fe2eba10-d8ae-41b1-ae12-bd9f3e61e683",
   "metadata": {},
   "outputs": [
    {
     "name": "stdout",
     "output_type": "stream",
     "text": [
      "\n",
      "The downloaded binary packages are in\n",
      "\t/var/folders/mh/w6tg21bn1054b9f92x9w60cc0000gn/T//RtmpdTWftU/downloaded_packages\n"
     ]
    }
   ],
   "source": [
    "install.packages('readxl')"
   ]
  },
  {
   "cell_type": "code",
   "execution_count": 7,
   "id": "6944441e-ef90-41ef-9421-2721c60e6ccd",
   "metadata": {},
   "outputs": [],
   "source": [
    "library(readxl)"
   ]
  },
  {
   "cell_type": "code",
   "execution_count": 8,
   "id": "748f1514-7a49-4320-85a3-90d02fbc8d82",
   "metadata": {},
   "outputs": [],
   "source": [
    "babies = read_excel('/Users/nolanhardeman/Documents/GitHub/CurriculumPlayground/datasets/babies.xlsx')"
   ]
  },
  {
   "cell_type": "code",
   "execution_count": 9,
   "id": "1beae166-2e0a-4f18-9750-31d3e954e696",
   "metadata": {},
   "outputs": [
    {
     "data": {
      "text/html": [
       "<table class=\"dataframe\">\n",
       "<caption>A tibble: 6 × 11</caption>\n",
       "<thead>\n",
       "\t<tr><th scope=col>Name</th><th scope=col>First</th><th scope=col>Birthday</th><th scope=col>StreetAddress</th><th scope=col>City</th><th scope=col>Zipcode</th><th scope=col>Weight</th><th scope=col>Height</th><th scope=col>HospitalID</th><th scope=col>ParentPhoneNumber</th><th scope=col>ParentEmail</th></tr>\n",
       "\t<tr><th scope=col>&lt;chr&gt;</th><th scope=col>&lt;chr&gt;</th><th scope=col>&lt;dttm&gt;</th><th scope=col>&lt;chr&gt;</th><th scope=col>&lt;chr&gt;</th><th scope=col>&lt;dbl&gt;</th><th scope=col>&lt;dbl&gt;</th><th scope=col>&lt;dbl&gt;</th><th scope=col>&lt;dbl&gt;</th><th scope=col>&lt;chr&gt;</th><th scope=col>&lt;chr&gt;</th></tr>\n",
       "</thead>\n",
       "<tbody>\n",
       "\t<tr><td>Potter  </td><td>Alec J.   </td><td>2017-11-06</td><td>229-8390 Dignissim. Road    </td><td>Ucluelet</td><td>36170</td><td> 1</td><td> 9</td><td>1.672053e+12</td><td>1-180-978-6309</td><td>ut@nisiAenean.ca                 </td></tr>\n",
       "\t<tr><td>Mcclure </td><td>Lucius S. </td><td>2018-08-14</td><td>P.O. Box 593, 7892 Nunc St. </td><td>Licantén</td><td>47279</td><td> 5</td><td>19</td><td>1.609023e+12</td><td>1-667-136-7396</td><td>Donec.luctus@Maecenas.edu        </td></tr>\n",
       "\t<tr><td>Farley  </td><td>Hilel Y.  </td><td>2017-12-07</td><td>3859 Tellus Rd.             </td><td>Alva    </td><td>78490</td><td> 6</td><td> 5</td><td>1.664012e+12</td><td>1-914-735-7605</td><td>Aenean@imperdietnonvestibulum.ca </td></tr>\n",
       "\t<tr><td>Cummings</td><td>Randall W.</td><td>2018-03-07</td><td>Ap #293-6684 Lobortis Street</td><td>Vicuña  </td><td>36395</td><td> 9</td><td> 9</td><td>1.669073e+12</td><td>1-568-861-3669</td><td>velit.eu.sem@Aliquam.com         </td></tr>\n",
       "\t<tr><td>Lester  </td><td>Bruce I.  </td><td>2018-01-14</td><td>495-3192 Dictum St.         </td><td>Bonnert </td><td>25130</td><td>10</td><td>15</td><td>1.603101e+12</td><td>1-494-905-3888</td><td>dolor.Donec@miAliquamgravida.com </td></tr>\n",
       "\t<tr><td>Wall    </td><td>Simone D. </td><td>2018-03-21</td><td>6354 Sed St.                </td><td>Miraj   </td><td>91893</td><td>15</td><td>17</td><td>1.623102e+12</td><td>1-303-930-2311</td><td>Aenean.eget.magna@acfermentum.net</td></tr>\n",
       "</tbody>\n",
       "</table>\n"
      ],
      "text/latex": [
       "A tibble: 6 × 11\n",
       "\\begin{tabular}{lllllllllll}\n",
       " Name & First & Birthday & StreetAddress & City & Zipcode & Weight & Height & HospitalID & ParentPhoneNumber & ParentEmail\\\\\n",
       " <chr> & <chr> & <dttm> & <chr> & <chr> & <dbl> & <dbl> & <dbl> & <dbl> & <chr> & <chr>\\\\\n",
       "\\hline\n",
       "\t Potter   & Alec J.    & 2017-11-06 & 229-8390 Dignissim. Road     & Ucluelet & 36170 &  1 &  9 & 1.672053e+12 & 1-180-978-6309 & ut@nisiAenean.ca                 \\\\\n",
       "\t Mcclure  & Lucius S.  & 2018-08-14 & P.O. Box 593, 7892 Nunc St.  & Licantén & 47279 &  5 & 19 & 1.609023e+12 & 1-667-136-7396 & Donec.luctus@Maecenas.edu        \\\\\n",
       "\t Farley   & Hilel Y.   & 2017-12-07 & 3859 Tellus Rd.              & Alva     & 78490 &  6 &  5 & 1.664012e+12 & 1-914-735-7605 & Aenean@imperdietnonvestibulum.ca \\\\\n",
       "\t Cummings & Randall W. & 2018-03-07 & Ap \\#293-6684 Lobortis Street & Vicuña   & 36395 &  9 &  9 & 1.669073e+12 & 1-568-861-3669 & velit.eu.sem@Aliquam.com         \\\\\n",
       "\t Lester   & Bruce I.   & 2018-01-14 & 495-3192 Dictum St.          & Bonnert  & 25130 & 10 & 15 & 1.603101e+12 & 1-494-905-3888 & dolor.Donec@miAliquamgravida.com \\\\\n",
       "\t Wall     & Simone D.  & 2018-03-21 & 6354 Sed St.                 & Miraj    & 91893 & 15 & 17 & 1.623102e+12 & 1-303-930-2311 & Aenean.eget.magna@acfermentum.net\\\\\n",
       "\\end{tabular}\n"
      ],
      "text/markdown": [
       "\n",
       "A tibble: 6 × 11\n",
       "\n",
       "| Name &lt;chr&gt; | First &lt;chr&gt; | Birthday &lt;dttm&gt; | StreetAddress &lt;chr&gt; | City &lt;chr&gt; | Zipcode &lt;dbl&gt; | Weight &lt;dbl&gt; | Height &lt;dbl&gt; | HospitalID &lt;dbl&gt; | ParentPhoneNumber &lt;chr&gt; | ParentEmail &lt;chr&gt; |\n",
       "|---|---|---|---|---|---|---|---|---|---|---|\n",
       "| Potter   | Alec J.    | 2017-11-06 | 229-8390 Dignissim. Road     | Ucluelet | 36170 |  1 |  9 | 1.672053e+12 | 1-180-978-6309 | ut@nisiAenean.ca                  |\n",
       "| Mcclure  | Lucius S.  | 2018-08-14 | P.O. Box 593, 7892 Nunc St.  | Licantén | 47279 |  5 | 19 | 1.609023e+12 | 1-667-136-7396 | Donec.luctus@Maecenas.edu         |\n",
       "| Farley   | Hilel Y.   | 2017-12-07 | 3859 Tellus Rd.              | Alva     | 78490 |  6 |  5 | 1.664012e+12 | 1-914-735-7605 | Aenean@imperdietnonvestibulum.ca  |\n",
       "| Cummings | Randall W. | 2018-03-07 | Ap #293-6684 Lobortis Street | Vicuña   | 36395 |  9 |  9 | 1.669073e+12 | 1-568-861-3669 | velit.eu.sem@Aliquam.com          |\n",
       "| Lester   | Bruce I.   | 2018-01-14 | 495-3192 Dictum St.          | Bonnert  | 25130 | 10 | 15 | 1.603101e+12 | 1-494-905-3888 | dolor.Donec@miAliquamgravida.com  |\n",
       "| Wall     | Simone D.  | 2018-03-21 | 6354 Sed St.                 | Miraj    | 91893 | 15 | 17 | 1.623102e+12 | 1-303-930-2311 | Aenean.eget.magna@acfermentum.net |\n",
       "\n"
      ],
      "text/plain": [
       "  Name     First      Birthday   StreetAddress                City     Zipcode\n",
       "1 Potter   Alec J.    2017-11-06 229-8390 Dignissim. Road     Ucluelet 36170  \n",
       "2 Mcclure  Lucius S.  2018-08-14 P.O. Box 593, 7892 Nunc St.  Licantén 47279  \n",
       "3 Farley   Hilel Y.   2017-12-07 3859 Tellus Rd.              Alva     78490  \n",
       "4 Cummings Randall W. 2018-03-07 Ap #293-6684 Lobortis Street Vicuña   36395  \n",
       "5 Lester   Bruce I.   2018-01-14 495-3192 Dictum St.          Bonnert  25130  \n",
       "6 Wall     Simone D.  2018-03-21 6354 Sed St.                 Miraj    91893  \n",
       "  Weight Height HospitalID   ParentPhoneNumber\n",
       "1  1      9     1.672053e+12 1-180-978-6309   \n",
       "2  5     19     1.609023e+12 1-667-136-7396   \n",
       "3  6      5     1.664012e+12 1-914-735-7605   \n",
       "4  9      9     1.669073e+12 1-568-861-3669   \n",
       "5 10     15     1.603101e+12 1-494-905-3888   \n",
       "6 15     17     1.623102e+12 1-303-930-2311   \n",
       "  ParentEmail                      \n",
       "1 ut@nisiAenean.ca                 \n",
       "2 Donec.luctus@Maecenas.edu        \n",
       "3 Aenean@imperdietnonvestibulum.ca \n",
       "4 velit.eu.sem@Aliquam.com         \n",
       "5 dolor.Donec@miAliquamgravida.com \n",
       "6 Aenean.eget.magna@acfermentum.net"
      ]
     },
     "metadata": {},
     "output_type": "display_data"
    }
   ],
   "source": [
    "head(babies)"
   ]
  },
  {
   "cell_type": "code",
   "execution_count": null,
   "id": "8b88a9d8-737d-445c-803c-dff12811a5fe",
   "metadata": {},
   "outputs": [],
   "source": []
  }
 ],
 "metadata": {
  "kernelspec": {
   "display_name": "R",
   "language": "R",
   "name": "ir"
  },
  "language_info": {
   "codemirror_mode": "r",
   "file_extension": ".r",
   "mimetype": "text/x-r-source",
   "name": "R",
   "pygments_lexer": "r",
   "version": "4.1.0"
  }
 },
 "nbformat": 4,
 "nbformat_minor": 5
}
