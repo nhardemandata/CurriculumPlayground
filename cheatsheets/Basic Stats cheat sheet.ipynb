{
 "cells": [
  {
   "cell_type": "markdown",
   "id": "7ffc5dc7-f11c-47c1-9490-3d261bb4b7c6",
   "metadata": {},
   "source": [
    "# Introductory Statistics\n",
    "\n",
    "Statistics is the science of collecting, organizing, analyzing, interpreting, and presenting data.\n",
    "\n",
    "## What is probability?\n",
    "\n",
    "Probability is a number that represents the likelihood/chance that a specific event will occur. A probability is expressed within a range of 0 to 1 (or a percentage 0% to 100%). A probability of 0 indicates that the event in question will not happen, while a probability of 1 means that event happening is a certainty. \n",
    "\n",
    "Example: A probability of .35 or 35% means that there are 35 chances out of 100 of the event happening.\n",
    "\n",
    "### __Single Event Probability__\n",
    "\n",
    "Single Event Probability is find the likelihood of success when only considering one factor. Remember the formula for probability:\n",
    "\n",
    "        Probability = Successes / Total Outcomes\n",
    "This formula is best explained with an example. Say you have a standard 6-sided die, and you wish to know the probability of rolling a number less than or equal to 2. The formula tailored to this problem would look like this:\n",
    "\n",
    "        P(rolling # less than or equal to 2) = 2 / 6\n",
    "This is how we got there. There are 6 sides to the die. With only one roll, that puts our total number of possible outcomes at 6 (You could roll a 1, or a 2, or a 3, etc...). Remember! We are looking for the probability of rolling either a 2 (1 criteria for success), or a number less than 2 (your other criteria for success). In this case there is only 1 possible number on our die lower than 2: that would be a 1. So rolling a 1 or a 2 in our single die roll counts as a success. \n",
    "\n",
    "        Successes (2) / Total Outcomes (6)\n",
    "        Probability = 2/6 = 1/3\n",
    "        P = .33\n",
    "Your probability of rolling a 2 or lower in a single standard die roll is 33%.\n",
    "\n",
    "* Probability is always expressed as a decimal between 0 and 1, or as a percentage.\n",
    "\n",
    "### __Rules of Probability__\n",
    "\n",
    "Probability has some basic rules, that help to guide you. They are listed here.\n",
    "\n",
    "1. All probabilities are between 0 and 1. \n",
    "    * 0 is no chance of an event happening, and 1 is a 100% chance of the event happening.\n",
    "2. There are no negative probabilities.\n",
    "    * You cannot have the chance of rain being -38%.\n",
    "3. The total of all possible outcomes is 1.\n",
    "    * Every possibility of an event added together will total 100%.\n",
    "4. The probability of an event NOT happening is equal to 1 minus the probability of the event happening. \n",
    "    * If there is a .05 probability (5%) chance that you will your local raffle. The probability of not winning is .95 or 95%.\n"
   ]
  },
  {
   "cell_type": "code",
   "execution_count": null,
   "id": "c2a23195-be4d-46cd-ac47-b7aa679cde8b",
   "metadata": {},
   "outputs": [],
   "source": []
  }
 ],
 "metadata": {
  "kernelspec": {
   "display_name": "Python 3 (ipykernel)",
   "language": "python",
   "name": "python3"
  },
  "language_info": {
   "codemirror_mode": {
    "name": "ipython",
    "version": 3
   },
   "file_extension": ".py",
   "mimetype": "text/x-python",
   "name": "python",
   "nbconvert_exporter": "python",
   "pygments_lexer": "ipython3",
   "version": "3.9.6"
  }
 },
 "nbformat": 4,
 "nbformat_minor": 5
}
